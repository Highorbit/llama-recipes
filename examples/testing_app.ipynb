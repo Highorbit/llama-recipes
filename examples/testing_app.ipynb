{
 "cells": [
  {
   "cell_type": "code",
   "execution_count": 7,
   "id": "29ec782a-7070-4385-bfdc-dbf45b643269",
   "metadata": {},
   "outputs": [],
   "source": [
    "import pandas as pd\n",
    "import numpy as np \n",
    "import configparser \n",
    "import pymysql\n",
    "from tqdm import tqdm\n",
    "import requests\n",
    "import re\n",
    "import random\n",
    "from resume_text import *"
   ]
  },
  {
   "cell_type": "code",
   "execution_count": 8,
   "id": "a6443905-a0b8-48ba-a28c-c23eb1769ba4",
   "metadata": {},
   "outputs": [
    {
     "name": "stderr",
     "output_type": "stream",
     "text": [
      "100%|█████████████████████████████████████████████████████████████████████████████████████████████████████████████████████████████████████████| 1/1 [00:00<00:00, 134.72it/s]\n",
      "100%|████████████████████████████████████████████████████████████████████████████████████████████████████████████████████████████████████████| 1/1 [00:00<00:00, 5090.17it/s]\n"
     ]
    },
    {
     "data": {
      "text/plain": [
       "'CA KRISHAN GAUTAM kkgautam91@gmail.com +91-9811256768 SKILL SET Financial Planning and Analysis Accounts Management Audits, Due Diligence Finance, Credit control Tax compliance &amp; Planning Payroll accounting Ind-AS SAP (FICO Module) PROFILE SNAPSHOT A finance and accounts professional (CA) with 7+ year of experience Rich experience of accounting &amp; finance operations i.e. preparation and maintenance of statutory books of accounts and finalization of them at the year end. Track record of overseeing Financial Statements including Trial Balance, P&amp;L, Balance Sheet, Age wise account receivable and payables. Gained exposure of Audits comprising Tax Audit, Statutory audit, internal audit and due diligence. Relevant experience of funding through bank in terms of cash credit, term loans, letter of credit management. Projects, foreign remittance, liaising with stakeholders. EDUCATIONAL DETAILS Qualification YEAR Chartered Accountant May, 2015 B. Com. April, 2010 Higher Secondary School Examination March,2007 EXPERIENCE November 2020 to till date- Manager Mehra Goel &amp; Co (CA Firm) Sector 44, Gurugram Partner VGM &amp; Co (CA Firm) Both the firm are sister concern Major assignments - Statutory audit of automobile company (Turnover 4700 Crore) Financial Due Diligence of startup and service based company Fund assurance (Agreed Upon Procedures) of Crypto based company Certification of Oversea direct investment, foreign remittance, foreign currency exposures June 2017 to October 2020 - Deputy Manager (Accounts &amp; Finance) Seagull Maritime Agencies Pvt. Ltd. (Worlds Window Group), New Delhi Preparation of Balance sheet as per Ind-AS quarterly and annually. Conducting Statutory Audit, Tax Audits, Internal Audit and stock audit. Involved in preparation of Budgets. &quot;,&quot; Prepare MIS, cash flow statement. Preparation of CMA, FFR, Drawing power statement. Prepare Fund estimation and manage liquidity. Tax compliance (Payments, Returns, annual Audit of) TDS, GST, PF, ESIC etc. Liaising with Banks &amp; Financial Institution for term loans and CC Limit. Manage foreign remittance, 15CA &amp; CB. Prepare application for lower deduction of TDS (Sec 197), income tax assessment case. Analysis of Account receivables &amp; account payables. Overall responsibility of Indian accounting. Inter-company reconciliations, Settlements. Manage a team of six people. Handle other tasks as assigned by CFO. June 2015 to June 2017 - Assistant Manager (Accounts, Finance and Taxation) Coral Telecom Limited, Sector-63, Noida Incharge of feasibility study of new projects. Prepare expenses report and find out variances. Finalization of Financial statements, cash flow. Perform Internal Audit, statutory and tax audits. Respond to notices of Income tax and Service tax authorities. Payments and filing of TDS return, excise return, service tax return and VAT return. Ensure compliance of PF, ESIC, professional tax etc. Ensure proper book keeping, perform Ledger scrutiny. Inter-company reconciliations. Incharge of Account payables. Manage Letter of credits and bank guarantees. June 2011 to June 2014 Internship - Shoundik Sinha &amp; Co, New Delhi Major clients handled during audits:- Auto meter Alliance Ltd. Manas Hospital A unit of Sharma Medical Iffco Tokyo General Insurance Co. Ltd. Priya Gold Biscuits- A Unit of Surya Foods &amp; Agro Ltd. Extracurricular Activities Delivered Guard of Honour to the Chief of Indian Army in the capacity of NCC Cadet. Represented college in Youth Games as a Feder of Basket Ball team. Volunteered awareness program - education of girl child, safe drinking water etc. Personal details: Date of Birth 15/01/1991 Present Address # 1960, Sector-45, Gurugram - 122003 Permanent address 437/23, Gautam Cycle Store, Gohana Road, Jind, Hryana-126102 '"
      ]
     },
     "execution_count": 8,
     "metadata": {},
     "output_type": "execute_result"
    }
   ],
   "source": [
    "get_user_resume_text(1809049)"
   ]
  },
  {
   "cell_type": "code",
   "execution_count": 2,
   "id": "e2e1138e-734a-49fc-a22d-9cd3521ce311",
   "metadata": {},
   "outputs": [
    {
     "data": {
      "text/plain": [
       "'/home/ubuntu/infoedge/llama-recipes/examples'"
      ]
     },
     "execution_count": 2,
     "metadata": {},
     "output_type": "execute_result"
    }
   ],
   "source": [
    "pwd"
   ]
  },
  {
   "cell_type": "code",
   "execution_count": 3,
   "id": "f79c8c00-58e9-4c80-8f5e-2c976aa3e315",
   "metadata": {},
   "outputs": [
    {
     "data": {
      "text/plain": [
       "['/home/ubuntu/infoedge/llama-recipes/examples/configs/config.ini']"
      ]
     },
     "execution_count": 3,
     "metadata": {},
     "output_type": "execute_result"
    }
   ],
   "source": [
    "config = configparser.ConfigParser()\n",
    "\n",
    "config.read('/home/ubuntu/infoedge/llama-recipes/examples/configs/config.ini')"
   ]
  },
  {
   "cell_type": "code",
   "execution_count": 4,
   "id": "5ed0d4a0-b3a7-4d58-857e-79eb8ecca986",
   "metadata": {},
   "outputs": [],
   "source": [
    " \n",
    "\n",
    "mydb= pymysql.connect(\n",
    "\n",
    "host=config['iimjobs_db']['hostname'],\n",
    "\n",
    "user=config['iimjobs_db']['username'],\n",
    "\n",
    "password=config['iimjobs_db']['password'],\n",
    "\n",
    "db=config['iimjobs_db']['db_name']\n",
    "\n",
    ")\n",
    "\n",
    " \n",
    "\n",
    "mycursor = mydb.cursor()\n",
    "\n",
    " "
   ]
  },
  {
   "cell_type": "code",
   "execution_count": 5,
   "id": "3ddd7185-2c52-4e3a-abda-48a2692278a6",
   "metadata": {},
   "outputs": [],
   "source": [
    "query = \"SELECT id FROM profile_info WHERE last_active_date > '2023-12-03' ORDER BY last_active_date DESC limit 200\"\n",
    "\n",
    " \n",
    "\n",
    "mycursor.execute(query)\n",
    "\n",
    "result = mycursor.fetchall()"
   ]
  },
  {
   "cell_type": "code",
   "execution_count": 6,
   "id": "30b7af99-4263-4b8e-9860-6e026ae5736d",
   "metadata": {},
   "outputs": [],
   "source": [
    "uid_df=pd.DataFrame(result,columns=['userid'])"
   ]
  },
  {
   "cell_type": "code",
   "execution_count": null,
   "id": "63e23949-a078-4cfa-8165-6155418af432",
   "metadata": {},
   "outputs": [],
   "source": []
  },
  {
   "cell_type": "code",
   "execution_count": 7,
   "id": "57c41df2-888e-412b-9d5e-dc4c5fc300ab",
   "metadata": {},
   "outputs": [],
   "source": [
    "# user_df[['userid']]"
   ]
  },
  {
   "cell_type": "code",
   "execution_count": 8,
   "id": "a2ef2312-859b-407a-ab01-3172d04d9769",
   "metadata": {},
   "outputs": [],
   "source": [
    "# user_df['userid']"
   ]
  },
  {
   "cell_type": "code",
   "execution_count": 9,
   "id": "f238103e-738f-4b9b-930a-f341f48c3114",
   "metadata": {},
   "outputs": [],
   "source": [
    "uid_list =list(uid_df['userid'])\n"
   ]
  },
  {
   "cell_type": "code",
   "execution_count": 10,
   "id": "bbe09084-21b9-45a2-b273-4403e5e4af12",
   "metadata": {},
   "outputs": [
    {
     "data": {
      "text/plain": [
       "1809049"
      ]
     },
     "execution_count": 10,
     "metadata": {},
     "output_type": "execute_result"
    }
   ],
   "source": [
    "random.choice(uid_list)"
   ]
  },
  {
   "cell_type": "code",
   "execution_count": 11,
   "id": "d8d3e543-2041-4ce6-8cc0-0e36f6161980",
   "metadata": {},
   "outputs": [
    {
     "data": {
      "text/plain": [
       "[1250581, 2779605, 2550205, 2764347, 493341]"
      ]
     },
     "execution_count": 11,
     "metadata": {},
     "output_type": "execute_result"
    }
   ],
   "source": [
    "random.sample(uid_list,5)"
   ]
  },
  {
   "cell_type": "code",
   "execution_count": 29,
   "id": "a4dbfa18-f8b7-4ea9-9f33-c1f9c3c64351",
   "metadata": {},
   "outputs": [],
   "source": [
    "\n",
    " \n",
    " \n",
    "def clean_space(text):\n",
    "    return \" \".join(re.split(\"\\s+\", text, flags=re.UNICODE))\n",
    "\n",
    "def remove_extra_spaces(input_string):\n",
    "    # Use regular expression to remove extra spaces (only spaces)\n",
    "    cleaned_string = re.sub(r' +', ' ', input_string)\n",
    "    return cleaned_string\n",
    "\n",
    "def get_user_data_search_embed(user_id_list):\n",
    "    \n",
    "    '''\n",
    "    This function combines all the functions for fetching and processing \n",
    "    user data from elastic search\n",
    "    '''\n",
    "\n",
    "\n",
    "    sub_json = fetch_data_es(user_id_list)\n",
    "    raw_data = construct_user_data_search_embed(sub_json)\n",
    "    \n",
    "    return raw_data\n",
    "\n",
    "def fetch_data_es(user_id_list):\n",
    "    \n",
    "    \"\"\"\n",
    "    Input : List of Valid Hirist User ID \n",
    "    Output : List of User Data JSON stored in Elastic Search\n",
    "    \"\"\"\n",
    "    \n",
    "    \n",
    "    response_json = []\n",
    "    replacements = {'null':'None', 'false':'False'}\n",
    "\n",
    "    url = \"http://10.208.230.226:8080/v1/recruiter/-123/applicant/search/searchById\"\n",
    "\n",
    "    res = []\n",
    "\n",
    "    for uid in tqdm(user_id_list):\n",
    "\n",
    "\n",
    "        payload = {\n",
    "            'usersToSearchFrom' : [str(uid)]\n",
    "        }\n",
    "\n",
    "        headers = {\n",
    "        'Content-Type': 'application/json'\n",
    "        }\n",
    "\n",
    "        try:\n",
    "            response = requests.request(\"POST\", url, headers=headers, data = str(payload))\n",
    "            response_json = response.json()\n",
    "    \n",
    "            res.append(response_json['docs']) \n",
    "\n",
    "        except Exception as e:\n",
    "            continue\n",
    "        \n",
    "    return res\n",
    "\n",
    "\n",
    "\n",
    "def construct_user_data_search_embed(user_json):\n",
    "    '''\n",
    "    This is a function for fetching user ID, Keywords (in the form of tags) and \n",
    "    user designation from elastic search. This is specifically made for creating \n",
    "    user embeddings for our Recruiter search model/POC\n",
    "    '''\n",
    "    \n",
    "    user_dict = {\n",
    "        'id' : [],\n",
    "        'resume' : [],\n",
    "        'current_designation' : [],\n",
    "        'user_experience':[],\n",
    "        'professional_info':[],\n",
    "        'education_info':[]\n",
    "        # 'company_designation':[],\n",
    "        # 'company_name':[]\n",
    "        \n",
    "    }\n",
    "\n",
    "    for s in tqdm(user_json):\n",
    "\n",
    "        try:\n",
    "            source = s[0]\n",
    "\n",
    "            user_dict['id'].append(source['id'])\n",
    "            user_dict['resume'].append(source['resumeText'])\n",
    "            user_dict['current_designation'].append(source['currentDesignation'])\n",
    "            user_dict['user_experience'].append(source['expYear'])\n",
    "            user_dict['professional_info'].append(source['professionalInfo'])\n",
    "            user_dict['education_info'].append(source['educationInfo'])            \n",
    "\n",
    "        except Exception as e:\n",
    "            continue\n",
    "\n",
    "    return user_dict"
   ]
  },
  {
   "cell_type": "code",
   "execution_count": 10,
   "id": "db391550-0849-4fba-b9c7-5ae22c5a2032",
   "metadata": {},
   "outputs": [],
   "source": [
    "# get_user_data_search_embed([2550205])"
   ]
  },
  {
   "cell_type": "code",
   "execution_count": 13,
   "id": "ca2b1179-949e-46d0-a9cd-3bdb3c9080b1",
   "metadata": {},
   "outputs": [
    {
     "name": "stderr",
     "output_type": "stream",
     "text": [
      "100%|█████████████████████████████████████████████████████████████████████████████████████████████████████████████████████████████████████████| 5/5 [00:00<00:00, 108.19it/s]\n",
      "100%|███████████████████████████████████████████████████████████████████████████████████████████████████████████████████████████████████████| 5/5 [00:00<00:00, 94466.31it/s]\n"
     ]
    }
   ],
   "source": [
    "user_df = get_user_data_search_embed(random.sample(uid_list,5))\n"
   ]
  },
  {
   "cell_type": "code",
   "execution_count": 14,
   "id": "47f0080f-e493-4dc1-a379-f794443a89bc",
   "metadata": {},
   "outputs": [
    {
     "data": {
      "text/html": [
       "<div>\n",
       "<style scoped>\n",
       "    .dataframe tbody tr th:only-of-type {\n",
       "        vertical-align: middle;\n",
       "    }\n",
       "\n",
       "    .dataframe tbody tr th {\n",
       "        vertical-align: top;\n",
       "    }\n",
       "\n",
       "    .dataframe thead th {\n",
       "        text-align: right;\n",
       "    }\n",
       "</style>\n",
       "<table border=\"1\" class=\"dataframe\">\n",
       "  <thead>\n",
       "    <tr style=\"text-align: right;\">\n",
       "      <th></th>\n",
       "      <th>id</th>\n",
       "      <th>resume</th>\n",
       "      <th>current_designation</th>\n",
       "      <th>user_experience</th>\n",
       "      <th>professional_info</th>\n",
       "      <th>company_designation</th>\n",
       "      <th>company_name</th>\n",
       "    </tr>\n",
       "  </thead>\n",
       "  <tbody>\n",
       "    <tr>\n",
       "      <th>0</th>\n",
       "      <td>698334</td>\n",
       "      <td>RAMA SAI SANDILYA KURAPATI\\nMobile: +91-735851...</td>\n",
       "      <td>Sr. Product Manager</td>\n",
       "      <td>7</td>\n",
       "      <td>[{'id': 795940, 'userId': None, 'designation':...</td>\n",
       "      <td>Sr. Product Manager</td>\n",
       "      <td>Koo India</td>\n",
       "    </tr>\n",
       "    <tr>\n",
       "      <th>1</th>\n",
       "      <td>1859213</td>\n",
       "      <td>Yogendra Ramanuj Pandey\\nC-501, Ashok Smruti, ...</td>\n",
       "      <td>Chief Manager-Taxation</td>\n",
       "      <td>18</td>\n",
       "      <td>[{'id': 4175062, 'userId': None, 'designation'...</td>\n",
       "      <td>Chief Manager-Taxation</td>\n",
       "      <td>Koo India</td>\n",
       "    </tr>\n",
       "    <tr>\n",
       "      <th>2</th>\n",
       "      <td>190807</td>\n",
       "      <td>Anurag Khan\\nDate of Birth: 22nd\\nAugust, 1986...</td>\n",
       "      <td>Cluster Head - Business Lending (SME Coverage)</td>\n",
       "      <td>11</td>\n",
       "      <td>[{'id': 269769, 'userId': None, 'designation':...</td>\n",
       "      <td>Cluster Head - Business Lending (SME Coverage)</td>\n",
       "      <td>Times Group</td>\n",
       "    </tr>\n",
       "    <tr>\n",
       "      <th>3</th>\n",
       "      <td>344369</td>\n",
       "      <td>KAUSTUBH KOLHAR\\nAge: 28 years | Email: kaustu...</td>\n",
       "      <td>Relationship Manager</td>\n",
       "      <td>5</td>\n",
       "      <td>[{'id': 205427, 'userId': None, 'designation':...</td>\n",
       "      <td>Relationship Manager</td>\n",
       "      <td>Times Group</td>\n",
       "    </tr>\n",
       "    <tr>\n",
       "      <th>4</th>\n",
       "      <td></td>\n",
       "      <td></td>\n",
       "      <td></td>\n",
       "      <td></td>\n",
       "      <td></td>\n",
       "      <td></td>\n",
       "      <td>IDFC</td>\n",
       "    </tr>\n",
       "    <tr>\n",
       "      <th>5</th>\n",
       "      <td></td>\n",
       "      <td></td>\n",
       "      <td></td>\n",
       "      <td></td>\n",
       "      <td></td>\n",
       "      <td></td>\n",
       "      <td>IDFC</td>\n",
       "    </tr>\n",
       "    <tr>\n",
       "      <th>6</th>\n",
       "      <td></td>\n",
       "      <td></td>\n",
       "      <td></td>\n",
       "      <td></td>\n",
       "      <td></td>\n",
       "      <td></td>\n",
       "      <td>ICICI Bank</td>\n",
       "    </tr>\n",
       "    <tr>\n",
       "      <th>7</th>\n",
       "      <td></td>\n",
       "      <td></td>\n",
       "      <td></td>\n",
       "      <td></td>\n",
       "      <td></td>\n",
       "      <td></td>\n",
       "      <td>ICICI Bank</td>\n",
       "    </tr>\n",
       "  </tbody>\n",
       "</table>\n",
       "</div>"
      ],
      "text/plain": [
       "        id                                             resume  \\\n",
       "0   698334  RAMA SAI SANDILYA KURAPATI\\nMobile: +91-735851...   \n",
       "1  1859213  Yogendra Ramanuj Pandey\\nC-501, Ashok Smruti, ...   \n",
       "2   190807  Anurag Khan\\nDate of Birth: 22nd\\nAugust, 1986...   \n",
       "3   344369  KAUSTUBH KOLHAR\\nAge: 28 years | Email: kaustu...   \n",
       "4                                                               \n",
       "5                                                               \n",
       "6                                                               \n",
       "7                                                               \n",
       "\n",
       "                              current_designation user_experience  \\\n",
       "0                             Sr. Product Manager               7   \n",
       "1                          Chief Manager-Taxation              18   \n",
       "2  Cluster Head - Business Lending (SME Coverage)              11   \n",
       "3                            Relationship Manager               5   \n",
       "4                                                                   \n",
       "5                                                                   \n",
       "6                                                                   \n",
       "7                                                                   \n",
       "\n",
       "                                   professional_info  \\\n",
       "0  [{'id': 795940, 'userId': None, 'designation':...   \n",
       "1  [{'id': 4175062, 'userId': None, 'designation'...   \n",
       "2  [{'id': 269769, 'userId': None, 'designation':...   \n",
       "3  [{'id': 205427, 'userId': None, 'designation':...   \n",
       "4                                                      \n",
       "5                                                      \n",
       "6                                                      \n",
       "7                                                      \n",
       "\n",
       "                              company_designation company_name  \n",
       "0                             Sr. Product Manager    Koo India  \n",
       "1                          Chief Manager-Taxation    Koo India  \n",
       "2  Cluster Head - Business Lending (SME Coverage)  Times Group  \n",
       "3                            Relationship Manager  Times Group  \n",
       "4                                                         IDFC  \n",
       "5                                                         IDFC  \n",
       "6                                                   ICICI Bank  \n",
       "7                                                   ICICI Bank  "
      ]
     },
     "execution_count": 14,
     "metadata": {},
     "output_type": "execute_result"
    }
   ],
   "source": [
    "user_df"
   ]
  },
  {
   "cell_type": "code",
   "execution_count": 5,
   "id": "f21e112c-7a1e-4e06-8270-f58f1122032f",
   "metadata": {},
   "outputs": [],
   "source": [
    "# clean_space(user_df['resume'].values[0])"
   ]
  },
  {
   "cell_type": "code",
   "execution_count": 6,
   "id": "3388edc6-9f81-4c41-b8b1-097f2d407f82",
   "metadata": {},
   "outputs": [],
   "source": [
    "# t = get_user_resume_text([907200])\n"
   ]
  },
  {
   "cell_type": "code",
   "execution_count": 7,
   "id": "de46f4b6-ad24-4fef-b84a-ab56dac75c3a",
   "metadata": {},
   "outputs": [],
   "source": [
    "# t"
   ]
  },
  {
   "cell_type": "markdown",
   "id": "50353561-0dd8-4c87-a2d2-7ce5275bc8b2",
   "metadata": {},
   "source": [
    "<!-- premium user iimjobs 2550205 -->"
   ]
  },
  {
   "cell_type": "code",
   "execution_count": 13,
   "id": "2695d4b8-5235-4e06-aaf9-7d036506bf68",
   "metadata": {},
   "outputs": [],
   "source": [
    "df = pd.read_csv('custom_data/latest_work_exp_28dec.csv')"
   ]
  },
  {
   "cell_type": "code",
   "execution_count": 29,
   "id": "95e75970-8d89-40d1-92ef-1f073ecf521e",
   "metadata": {},
   "outputs": [
    {
     "data": {
      "text/plain": [
       "\"[{'company': 'HCL Technology', 'role': 'Senior Software Engineer', 'start_date': 'Dec 2021', 'end_date': 'Present', 'description': None}, {'company': 'Tata Consultancy Services (TCS)', 'role': 'Software Engineer (Frontend UI Developer)', 'start_date': 'February 2020', 'end_date': 'Dec 2021', 'description': None}, {'company': 'SRM Techsol Pvt Ltd', 'role': 'Software Engineer (Full Stack Developer)', 'start_date': 'April 2017', 'end_date': 'January 2020', 'description': None}, {'company': 'Cedcoss Technology Pvt Ltd', 'role': 'Software Trainee (Magento Developer)', 'start_date': 'May 2016', 'end_date': 'Nov 2016', 'description': None}]\""
      ]
     },
     "execution_count": 29,
     "metadata": {},
     "output_type": "execute_result"
    }
   ],
   "source": [
    "df[['work_experience_new']].sample().values[0][0]"
   ]
  },
  {
   "cell_type": "code",
   "execution_count": null,
   "id": "447ba334-80ab-4338-957e-b2ba9c868b32",
   "metadata": {},
   "outputs": [],
   "source": []
  },
  {
   "cell_type": "code",
   "execution_count": 1,
   "id": "f73be05b-eeca-45a2-b387-a73aff58c631",
   "metadata": {},
   "outputs": [],
   "source": [
    "from user_info import *"
   ]
  },
  {
   "cell_type": "code",
   "execution_count": 9,
   "id": "7cfea7c9-cf09-4d5e-b50a-0369032d9e81",
   "metadata": {},
   "outputs": [
    {
     "name": "stderr",
     "output_type": "stream",
     "text": [
      "100%|█████████████████████████████████████████████████████████████████████████████████████████████████████████████████████████████████████████| 1/1 [00:00<00:00, 137.88it/s]\n",
      "100%|███████████████████████████████████████████████████████████████████████████████████████████████████████████████████████████████████████| 1/1 [00:00<00:00, 16008.79it/s]\n"
     ]
    },
    {
     "data": {
      "text/plain": [
       "[[{'id': 97442960,\n",
       "   'userId': 2550205,\n",
       "   'institute': {'id': 1,\n",
       "    'name': 'Indian Institute of Management, Ahmedabad (IIMA)',\n",
       "    'nameNotAnalyzed': 'Indian Institute of Management, Ahmedabad (IIMA)'},\n",
       "   'batchFrom': 2020,\n",
       "   'batchTo': 2022,\n",
       "   'isPrimary': 1,\n",
       "   'batch': '',\n",
       "   'courseType': 1,\n",
       "   'degree': {'id': 1, 'name': 'MBA / PGDM', 'nameNotAnalyzed': 'MBA / PGDM'},\n",
       "   'rank': 0,\n",
       "   'attempt': 0,\n",
       "   'dateCreated': 1682965800000,\n",
       "   'dateUpdated': 1685385000000,\n",
       "   'status': 1,\n",
       "   'isTopInstitute': 1,\n",
       "   'isSuperTopInstitute': 1,\n",
       "   'shouldTopInstituteBoost': 1,\n",
       "   'shouldSuperTopInstituteBoost': 0},\n",
       "  {'id': 97442959,\n",
       "   'userId': 2550205,\n",
       "   'institute': {'id': 164,\n",
       "    'name': 'National Institute of Technology, Kurukshetra (NIT KKR)',\n",
       "    'nameNotAnalyzed': 'National Institute of Technology, Kurukshetra (NIT KKR)'},\n",
       "   'batchFrom': 2011,\n",
       "   'batchTo': 2015,\n",
       "   'isPrimary': 0,\n",
       "   'batch': '',\n",
       "   'courseType': 1,\n",
       "   'degree': {'id': 6,\n",
       "    'name': 'B Tech / BE',\n",
       "    'nameNotAnalyzed': 'B Tech / BE'},\n",
       "   'rank': 0,\n",
       "   'attempt': 0,\n",
       "   'dateCreated': 1682965800000,\n",
       "   'dateUpdated': 1685385000000,\n",
       "   'status': 1,\n",
       "   'isTopInstitute': 1,\n",
       "   'isSuperTopInstitute': 0,\n",
       "   'shouldTopInstituteBoost': 1,\n",
       "   'shouldSuperTopInstituteBoost': 0}]]"
      ]
     },
     "execution_count": 9,
     "metadata": {},
     "output_type": "execute_result"
    }
   ],
   "source": [
    "get_user_info(2550205)['education_info']"
   ]
  },
  {
   "cell_type": "code",
   "execution_count": null,
   "id": "f7189313-0966-4b67-b6c9-dbaeff6b7a0b",
   "metadata": {},
   "outputs": [],
   "source": []
  }
 ],
 "metadata": {
  "kernelspec": {
   "display_name": "Python 3 (ipykernel)",
   "language": "python",
   "name": "python3"
  },
  "language_info": {
   "codemirror_mode": {
    "name": "ipython",
    "version": 3
   },
   "file_extension": ".py",
   "mimetype": "text/x-python",
   "name": "python",
   "nbconvert_exporter": "python",
   "pygments_lexer": "ipython3",
   "version": "3.10.12"
  }
 },
 "nbformat": 4,
 "nbformat_minor": 5
}
