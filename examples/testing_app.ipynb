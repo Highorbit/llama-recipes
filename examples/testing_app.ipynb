{
 "cells": [
  {
   "cell_type": "code",
   "execution_count": 1,
   "id": "29ec782a-7070-4385-bfdc-dbf45b643269",
   "metadata": {},
   "outputs": [],
   "source": [
    "import pandas as pd\n",
    "import numpy as np \n",
    "import configparser \n",
    "import pymysql\n",
    "from tqdm import tqdm\n",
    "import requests\n",
    "import re\n",
    "import random\n",
    "from resume_text import *"
   ]
  },
  {
   "cell_type": "code",
   "execution_count": 2,
   "id": "a6443905-a0b8-48ba-a28c-c23eb1769ba4",
   "metadata": {},
   "outputs": [],
   "source": [
    "# get_user_resume_text(1809049)"
   ]
  },
  {
   "cell_type": "code",
   "execution_count": 3,
   "id": "e2e1138e-734a-49fc-a22d-9cd3521ce311",
   "metadata": {},
   "outputs": [
    {
     "data": {
      "text/plain": [
       "'/home/ubuntu/infoedge/llama-recipes/examples'"
      ]
     },
     "execution_count": 3,
     "metadata": {},
     "output_type": "execute_result"
    }
   ],
   "source": [
    "pwd"
   ]
  },
  {
   "cell_type": "code",
   "execution_count": 4,
   "id": "f79c8c00-58e9-4c80-8f5e-2c976aa3e315",
   "metadata": {},
   "outputs": [
    {
     "data": {
      "text/plain": [
       "['/home/ubuntu/infoedge/llama-recipes/examples/configs/config.ini']"
      ]
     },
     "execution_count": 4,
     "metadata": {},
     "output_type": "execute_result"
    }
   ],
   "source": [
    "config = configparser.ConfigParser()\n",
    "\n",
    "config.read('/home/ubuntu/infoedge/llama-recipes/examples/configs/config.ini')"
   ]
  },
  {
   "cell_type": "code",
   "execution_count": 5,
   "id": "5ed0d4a0-b3a7-4d58-857e-79eb8ecca986",
   "metadata": {},
   "outputs": [],
   "source": [
    " \n",
    "\n",
    "mydb= pymysql.connect(\n",
    "\n",
    "host=config['iimjobs_db']['hostname'],\n",
    "\n",
    "user=config['iimjobs_db']['username'],\n",
    "\n",
    "password=config['iimjobs_db']['password'],\n",
    "\n",
    "db=config['iimjobs_db']['db_name']\n",
    "\n",
    ")\n",
    "\n",
    " \n",
    "\n",
    "mycursor = mydb.cursor()\n",
    "\n",
    " "
   ]
  },
  {
   "cell_type": "code",
   "execution_count": 6,
   "id": "3ddd7185-2c52-4e3a-abda-48a2692278a6",
   "metadata": {},
   "outputs": [],
   "source": [
    "query = \"SELECT id FROM profile_info WHERE last_active_date > '2023-12-05' ORDER BY last_active_date DESC limit 500\"\n",
    "\n",
    " \n",
    "\n",
    "mycursor.execute(query)\n",
    "\n",
    "result = mycursor.fetchall()"
   ]
  },
  {
   "cell_type": "code",
   "execution_count": 7,
   "id": "30b7af99-4263-4b8e-9860-6e026ae5736d",
   "metadata": {},
   "outputs": [],
   "source": [
    "uid_df=pd.DataFrame(result,columns=['userid'])"
   ]
  },
  {
   "cell_type": "code",
   "execution_count": null,
   "id": "63e23949-a078-4cfa-8165-6155418af432",
   "metadata": {},
   "outputs": [],
   "source": []
  },
  {
   "cell_type": "code",
   "execution_count": 8,
   "id": "57c41df2-888e-412b-9d5e-dc4c5fc300ab",
   "metadata": {},
   "outputs": [],
   "source": [
    "# user_df[['userid']]"
   ]
  },
  {
   "cell_type": "code",
   "execution_count": 9,
   "id": "a2ef2312-859b-407a-ab01-3172d04d9769",
   "metadata": {},
   "outputs": [],
   "source": [
    "# user_df['userid']"
   ]
  },
  {
   "cell_type": "code",
   "execution_count": 10,
   "id": "f238103e-738f-4b9b-930a-f341f48c3114",
   "metadata": {},
   "outputs": [],
   "source": [
    "uid_list =list(uid_df['userid'])\n"
   ]
  },
  {
   "cell_type": "code",
   "execution_count": 11,
   "id": "bbe09084-21b9-45a2-b273-4403e5e4af12",
   "metadata": {},
   "outputs": [
    {
     "data": {
      "text/plain": [
       "1912045"
      ]
     },
     "execution_count": 11,
     "metadata": {},
     "output_type": "execute_result"
    }
   ],
   "source": [
    "random.choice(uid_list)"
   ]
  },
  {
   "cell_type": "code",
   "execution_count": 12,
   "id": "d8d3e543-2041-4ce6-8cc0-0e36f6161980",
   "metadata": {},
   "outputs": [
    {
     "data": {
      "text/plain": [
       "[2781302, 2781288, 2221341, 1696274, 2056228]"
      ]
     },
     "execution_count": 12,
     "metadata": {},
     "output_type": "execute_result"
    }
   ],
   "source": [
    "random.sample(uid_list,5)"
   ]
  },
  {
   "cell_type": "code",
   "execution_count": 17,
   "id": "a4dbfa18-f8b7-4ea9-9f33-c1f9c3c64351",
   "metadata": {},
   "outputs": [],
   "source": [
    "\n",
    " \n",
    " \n",
    "def clean_space(text):\n",
    "    return \" \".join(re.split(\"\\s+\", text, flags=re.UNICODE))\n",
    "\n",
    "def remove_extra_spaces(input_string):\n",
    "    # Use regular expression to remove extra spaces (only spaces)\n",
    "    cleaned_string = re.sub(r' +', ' ', input_string)\n",
    "    return cleaned_string\n",
    "\n",
    "def get_user_data_search_embed(user_id_list):\n",
    "    \n",
    "    '''\n",
    "    This function combines all the functions for fetching and processing \n",
    "    user data from elastic search\n",
    "    '''\n",
    "\n",
    "\n",
    "    sub_json = fetch_data_es(user_id_list)\n",
    "    raw_data = construct_user_data_search_embed(sub_json)\n",
    "    df = pd.DataFrame.from_dict(raw_data, orient='index').T\n",
    "    df = df.astype(str).replace(\"None\", \" \")   \n",
    "    \n",
    "    return df\n",
    "\n",
    "def fetch_data_es(user_id_list):\n",
    "    \n",
    "    \"\"\"\n",
    "    Input : List of Valid Hirist User ID \n",
    "    Output : List of User Data JSON stored in Elastic Search\n",
    "    \"\"\"\n",
    "    \n",
    "    \n",
    "    response_json = []\n",
    "    replacements = {'null':'None', 'false':'False'}\n",
    "\n",
    "    url = \"http://10.208.230.226:8080/v1/recruiter/-123/applicant/search/searchById\"\n",
    "\n",
    "    res = []\n",
    "\n",
    "    for uid in tqdm(user_id_list):\n",
    "\n",
    "\n",
    "        payload = {\n",
    "            'usersToSearchFrom' : [str(uid)]\n",
    "        }\n",
    "\n",
    "        headers = {\n",
    "        'Content-Type': 'application/json'\n",
    "        }\n",
    "\n",
    "        try:\n",
    "            response = requests.request(\"POST\", url, headers=headers, data = str(payload))\n",
    "            response_json = response.json()\n",
    "    \n",
    "            res.append(response_json['docs']) \n",
    "\n",
    "        except Exception as e:\n",
    "            continue\n",
    "        \n",
    "    return res\n",
    "\n",
    "\n",
    "\n",
    "def construct_user_data_search_embed(user_json):\n",
    "    '''\n",
    "    This is a function for fetching user ID, Keywords (in the form of tags) and \n",
    "    user designation from elastic search. This is specifically made for creating \n",
    "    user embeddings for our Recruiter search model/POC\n",
    "    '''\n",
    "    \n",
    "    user_dict = {\n",
    "        'id' : [],\n",
    "        'resume' : [],\n",
    "        'current_designation' : [],\n",
    "        'user_experience':[],\n",
    "        'keywords': []\n",
    "        \n",
    "        \n",
    "    }\n",
    "\n",
    "    for s in tqdm(user_json):\n",
    "\n",
    "        try:\n",
    "            source = s[0]\n",
    "\n",
    "            user_dict['id'].append(source['id'])\n",
    "            user_dict['current_designation'].append(source['currentDesignation'])\n",
    "            user_dict['user_experience'].append(source['expYear'])    \n",
    "            skill_list = [str(skill['name']).replace(\" \",\"_\") for skill in source['skillSet']]\n",
    "            user_dict['keywords'].append(\" \".join(skill_list))\n",
    "\n",
    "            user_dict['resume'].append(source['resumeText'])\n",
    "\n",
    "        except Exception as e:\n",
    "            continue\n",
    "\n",
    "    return user_dict"
   ]
  },
  {
   "cell_type": "code",
   "execution_count": 18,
   "id": "db391550-0849-4fba-b9c7-5ae22c5a2032",
   "metadata": {},
   "outputs": [],
   "source": [
    "# get_user_data_search_embed([2550205])"
   ]
  },
  {
   "cell_type": "code",
   "execution_count": 21,
   "id": "ca2b1179-949e-46d0-a9cd-3bdb3c9080b1",
   "metadata": {},
   "outputs": [
    {
     "name": "stderr",
     "output_type": "stream",
     "text": [
      "100%|███████████████████████████████████████████████████████████████████████████████████████████████████████████████████████████████████| 500/500 [00:03<00:00, 129.88it/s]\n",
      "100%|█████████████████████████████████████████████████████████████████████████████████████████████████████████████████████████████████| 500/500 [00:00<00:00, 83071.97it/s]\n"
     ]
    }
   ],
   "source": [
    "user_df = get_user_data_search_embed(uid_list)\n"
   ]
  },
  {
   "cell_type": "code",
   "execution_count": 23,
   "id": "47f0080f-e493-4dc1-a379-f794443a89bc",
   "metadata": {},
   "outputs": [],
   "source": [
    "user_df.to_csv('custom_data/iimjobs_eval_df.csv',index=False)"
   ]
  },
  {
   "cell_type": "code",
   "execution_count": 5,
   "id": "f21e112c-7a1e-4e06-8270-f58f1122032f",
   "metadata": {},
   "outputs": [],
   "source": [
    "# clean_space(user_df['resume'].values[0])"
   ]
  },
  {
   "cell_type": "code",
   "execution_count": 6,
   "id": "3388edc6-9f81-4c41-b8b1-097f2d407f82",
   "metadata": {},
   "outputs": [],
   "source": [
    "# t = get_user_resume_text([907200])\n"
   ]
  },
  {
   "cell_type": "code",
   "execution_count": 7,
   "id": "de46f4b6-ad24-4fef-b84a-ab56dac75c3a",
   "metadata": {},
   "outputs": [],
   "source": [
    "# t"
   ]
  },
  {
   "cell_type": "markdown",
   "id": "50353561-0dd8-4c87-a2d2-7ce5275bc8b2",
   "metadata": {},
   "source": [
    "<!-- premium user iimjobs 2550205 -->"
   ]
  },
  {
   "cell_type": "code",
   "execution_count": 13,
   "id": "2695d4b8-5235-4e06-aaf9-7d036506bf68",
   "metadata": {},
   "outputs": [],
   "source": [
    "df = pd.read_csv('custom_data/latest_work_exp_28dec.csv')"
   ]
  },
  {
   "cell_type": "code",
   "execution_count": 29,
   "id": "95e75970-8d89-40d1-92ef-1f073ecf521e",
   "metadata": {},
   "outputs": [
    {
     "data": {
      "text/plain": [
       "\"[{'company': 'HCL Technology', 'role': 'Senior Software Engineer', 'start_date': 'Dec 2021', 'end_date': 'Present', 'description': None}, {'company': 'Tata Consultancy Services (TCS)', 'role': 'Software Engineer (Frontend UI Developer)', 'start_date': 'February 2020', 'end_date': 'Dec 2021', 'description': None}, {'company': 'SRM Techsol Pvt Ltd', 'role': 'Software Engineer (Full Stack Developer)', 'start_date': 'April 2017', 'end_date': 'January 2020', 'description': None}, {'company': 'Cedcoss Technology Pvt Ltd', 'role': 'Software Trainee (Magento Developer)', 'start_date': 'May 2016', 'end_date': 'Nov 2016', 'description': None}]\""
      ]
     },
     "execution_count": 29,
     "metadata": {},
     "output_type": "execute_result"
    }
   ],
   "source": [
    "df[['work_experience_new']].sample().values[0][0]"
   ]
  },
  {
   "cell_type": "code",
   "execution_count": null,
   "id": "447ba334-80ab-4338-957e-b2ba9c868b32",
   "metadata": {},
   "outputs": [],
   "source": []
  },
  {
   "cell_type": "code",
   "execution_count": 1,
   "id": "f73be05b-eeca-45a2-b387-a73aff58c631",
   "metadata": {},
   "outputs": [],
   "source": [
    "from user_info import *"
   ]
  },
  {
   "cell_type": "code",
   "execution_count": 9,
   "id": "7cfea7c9-cf09-4d5e-b50a-0369032d9e81",
   "metadata": {},
   "outputs": [
    {
     "name": "stderr",
     "output_type": "stream",
     "text": [
      "100%|█████████████████████████████████████████████████████████████████████████████████████████████████████████████████████████████████████████| 1/1 [00:00<00:00, 137.88it/s]\n",
      "100%|███████████████████████████████████████████████████████████████████████████████████████████████████████████████████████████████████████| 1/1 [00:00<00:00, 16008.79it/s]\n"
     ]
    },
    {
     "data": {
      "text/plain": [
       "[[{'id': 97442960,\n",
       "   'userId': 2550205,\n",
       "   'institute': {'id': 1,\n",
       "    'name': 'Indian Institute of Management, Ahmedabad (IIMA)',\n",
       "    'nameNotAnalyzed': 'Indian Institute of Management, Ahmedabad (IIMA)'},\n",
       "   'batchFrom': 2020,\n",
       "   'batchTo': 2022,\n",
       "   'isPrimary': 1,\n",
       "   'batch': '',\n",
       "   'courseType': 1,\n",
       "   'degree': {'id': 1, 'name': 'MBA / PGDM', 'nameNotAnalyzed': 'MBA / PGDM'},\n",
       "   'rank': 0,\n",
       "   'attempt': 0,\n",
       "   'dateCreated': 1682965800000,\n",
       "   'dateUpdated': 1685385000000,\n",
       "   'status': 1,\n",
       "   'isTopInstitute': 1,\n",
       "   'isSuperTopInstitute': 1,\n",
       "   'shouldTopInstituteBoost': 1,\n",
       "   'shouldSuperTopInstituteBoost': 0},\n",
       "  {'id': 97442959,\n",
       "   'userId': 2550205,\n",
       "   'institute': {'id': 164,\n",
       "    'name': 'National Institute of Technology, Kurukshetra (NIT KKR)',\n",
       "    'nameNotAnalyzed': 'National Institute of Technology, Kurukshetra (NIT KKR)'},\n",
       "   'batchFrom': 2011,\n",
       "   'batchTo': 2015,\n",
       "   'isPrimary': 0,\n",
       "   'batch': '',\n",
       "   'courseType': 1,\n",
       "   'degree': {'id': 6,\n",
       "    'name': 'B Tech / BE',\n",
       "    'nameNotAnalyzed': 'B Tech / BE'},\n",
       "   'rank': 0,\n",
       "   'attempt': 0,\n",
       "   'dateCreated': 1682965800000,\n",
       "   'dateUpdated': 1685385000000,\n",
       "   'status': 1,\n",
       "   'isTopInstitute': 1,\n",
       "   'isSuperTopInstitute': 0,\n",
       "   'shouldTopInstituteBoost': 1,\n",
       "   'shouldSuperTopInstituteBoost': 0}]]"
      ]
     },
     "execution_count": 9,
     "metadata": {},
     "output_type": "execute_result"
    }
   ],
   "source": [
    "get_user_info(2550205)['education_info']"
   ]
  },
  {
   "cell_type": "code",
   "execution_count": null,
   "id": "f7189313-0966-4b67-b6c9-dbaeff6b7a0b",
   "metadata": {},
   "outputs": [],
   "source": []
  }
 ],
 "metadata": {
  "kernelspec": {
   "display_name": "Python 3 (ipykernel)",
   "language": "python",
   "name": "python3"
  },
  "language_info": {
   "codemirror_mode": {
    "name": "ipython",
    "version": 3
   },
   "file_extension": ".py",
   "mimetype": "text/x-python",
   "name": "python",
   "nbconvert_exporter": "python",
   "pygments_lexer": "ipython3",
   "version": "3.10.12"
  }
 },
 "nbformat": 4,
 "nbformat_minor": 5
}
