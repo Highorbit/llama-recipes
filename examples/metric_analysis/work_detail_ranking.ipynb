{
 "cells": [
  {
   "cell_type": "code",
   "execution_count": 1,
   "id": "dad556a4-a242-46e0-9b9c-374f583fcdcb",
   "metadata": {},
   "outputs": [
    {
     "name": "stderr",
     "output_type": "stream",
     "text": [
      "[nltk_data] Downloading package wordnet to /home/ubuntu/nltk_data...\n",
      "[nltk_data]   Package wordnet is already up-to-date!\n",
      "[nltk_data] Downloading package stopwords to /home/ubuntu/nltk_data...\n",
      "[nltk_data]   Package stopwords is already up-to-date!\n",
      "2024-03-01 13:07:25.857018: I tensorflow/tsl/cuda/cudart_stub.cc:28] Could not find cuda drivers on your machine, GPU will not be used.\n",
      "2024-03-01 13:07:25.907289: I tensorflow/tsl/cuda/cudart_stub.cc:28] Could not find cuda drivers on your machine, GPU will not be used.\n",
      "2024-03-01 13:07:25.908181: I tensorflow/core/platform/cpu_feature_guard.cc:182] This TensorFlow binary is optimized to use available CPU instructions in performance-critical operations.\n",
      "To enable the following instructions: AVX2 FMA, in other operations, rebuild TensorFlow with the appropriate compiler flags.\n",
      "2024-03-01 13:07:26.569761: W tensorflow/compiler/tf2tensorrt/utils/py_utils.cc:38] TF-TRT Warning: Could not find TensorRT\n"
     ]
    }
   ],
   "source": [
    "import json\n",
    "import pandas as pd\n",
    "from tqdm import tqdm\n",
    "import re\n",
    "import string\n",
    "import nltk\n",
    "nltk.download('wordnet')\n",
    "nltk.download('stopwords')\n",
    "from nltk.corpus import stopwords\n",
    "stop = stopwords.words('english')\n",
    "from tqdm import tqdm\n",
    "import numpy as np\n",
    "import scann"
   ]
  },
  {
   "cell_type": "code",
   "execution_count": 2,
   "id": "8b57a75a-961e-4b7f-aba9-6856544c7628",
   "metadata": {},
   "outputs": [],
   "source": [
    "from sentence_transformers import SentenceTransformer\n",
    "\n",
    "model = SentenceTransformer(\"all-MiniLM-L6-v2\")"
   ]
  },
  {
   "cell_type": "code",
   "execution_count": 3,
   "id": "fa396851-ea51-4669-ac12-dcf42ddd223d",
   "metadata": {},
   "outputs": [],
   "source": [
    "with open('../../examples/relevant_jobs_classification/data/test_converted.json','r') as f:\n",
    "    data = json.load(f)"
   ]
  },
  {
   "cell_type": "code",
   "execution_count": 4,
   "id": "a31a3e87-58bb-43fc-b4a8-267605b7f7da",
   "metadata": {},
   "outputs": [],
   "source": [
    "# data"
   ]
  },
  {
   "cell_type": "code",
   "execution_count": 5,
   "id": "1ceaaa49-c3c3-450e-8325-58b91dddfb19",
   "metadata": {},
   "outputs": [],
   "source": [
    "df =pd.read_csv('../../examples/relevant_jobs_classification/data/analysis_dataset.csv')"
   ]
  },
  {
   "cell_type": "code",
   "execution_count": 6,
   "id": "68e5b211-c954-4d0c-9fef-38f63e9babc1",
   "metadata": {},
   "outputs": [
    {
     "data": {
      "text/html": [
       "<div>\n",
       "<style scoped>\n",
       "    .dataframe tbody tr th:only-of-type {\n",
       "        vertical-align: middle;\n",
       "    }\n",
       "\n",
       "    .dataframe tbody tr th {\n",
       "        vertical-align: top;\n",
       "    }\n",
       "\n",
       "    .dataframe thead th {\n",
       "        text-align: right;\n",
       "    }\n",
       "</style>\n",
       "<table border=\"1\" class=\"dataframe\">\n",
       "  <thead>\n",
       "    <tr style=\"text-align: right;\">\n",
       "      <th></th>\n",
       "      <th>job_id</th>\n",
       "      <th>application_id</th>\n",
       "      <th>user_id</th>\n",
       "    </tr>\n",
       "  </thead>\n",
       "  <tbody>\n",
       "    <tr>\n",
       "      <th>0</th>\n",
       "      <td>1373681</td>\n",
       "      <td>144274567</td>\n",
       "      <td>439042</td>\n",
       "    </tr>\n",
       "    <tr>\n",
       "      <th>1</th>\n",
       "      <td>1373681</td>\n",
       "      <td>144261479</td>\n",
       "      <td>2015063</td>\n",
       "    </tr>\n",
       "    <tr>\n",
       "      <th>2</th>\n",
       "      <td>1373681</td>\n",
       "      <td>144253966</td>\n",
       "      <td>2777927</td>\n",
       "    </tr>\n",
       "    <tr>\n",
       "      <th>3</th>\n",
       "      <td>1373681</td>\n",
       "      <td>144241259</td>\n",
       "      <td>58130</td>\n",
       "    </tr>\n",
       "    <tr>\n",
       "      <th>4</th>\n",
       "      <td>1373681</td>\n",
       "      <td>144236812</td>\n",
       "      <td>2290933</td>\n",
       "    </tr>\n",
       "    <tr>\n",
       "      <th>...</th>\n",
       "      <td>...</td>\n",
       "      <td>...</td>\n",
       "      <td>...</td>\n",
       "    </tr>\n",
       "    <tr>\n",
       "      <th>136248</th>\n",
       "      <td>1376058</td>\n",
       "      <td>144442227</td>\n",
       "      <td>2151474</td>\n",
       "    </tr>\n",
       "    <tr>\n",
       "      <th>136249</th>\n",
       "      <td>1375030</td>\n",
       "      <td>144442249</td>\n",
       "      <td>1463255</td>\n",
       "    </tr>\n",
       "    <tr>\n",
       "      <th>136250</th>\n",
       "      <td>1373682</td>\n",
       "      <td>144442251</td>\n",
       "      <td>2601930</td>\n",
       "    </tr>\n",
       "    <tr>\n",
       "      <th>136251</th>\n",
       "      <td>1376582</td>\n",
       "      <td>144442257</td>\n",
       "      <td>1417492</td>\n",
       "    </tr>\n",
       "    <tr>\n",
       "      <th>136252</th>\n",
       "      <td>1376693</td>\n",
       "      <td>144442256</td>\n",
       "      <td>1835665</td>\n",
       "    </tr>\n",
       "  </tbody>\n",
       "</table>\n",
       "<p>136253 rows × 3 columns</p>\n",
       "</div>"
      ],
      "text/plain": [
       "         job_id  application_id  user_id\n",
       "0       1373681       144274567   439042\n",
       "1       1373681       144261479  2015063\n",
       "2       1373681       144253966  2777927\n",
       "3       1373681       144241259    58130\n",
       "4       1373681       144236812  2290933\n",
       "...         ...             ...      ...\n",
       "136248  1376058       144442227  2151474\n",
       "136249  1375030       144442249  1463255\n",
       "136250  1373682       144442251  2601930\n",
       "136251  1376582       144442257  1417492\n",
       "136252  1376693       144442256  1835665\n",
       "\n",
       "[136253 rows x 3 columns]"
      ]
     },
     "execution_count": 6,
     "metadata": {},
     "output_type": "execute_result"
    }
   ],
   "source": [
    "df"
   ]
  },
  {
   "cell_type": "code",
   "execution_count": 7,
   "id": "83c0b580-5500-43f4-b9a0-91c52d0bd1a6",
   "metadata": {},
   "outputs": [
    {
     "data": {
      "text/plain": [
       "job_id            int64\n",
       "application_id    int64\n",
       "user_id           int64\n",
       "dtype: object"
      ]
     },
     "execution_count": 7,
     "metadata": {},
     "output_type": "execute_result"
    }
   ],
   "source": [
    "df.dtypes"
   ]
  },
  {
   "cell_type": "code",
   "execution_count": 8,
   "id": "9aacfa77-2d8e-49e4-9fe1-3fb2b93a2f43",
   "metadata": {},
   "outputs": [],
   "source": [
    "jid_list= [1375026,1374956,1373879,1374981,1374473,1376033,1375642,1373929,1373732,1373755]"
   ]
  },
  {
   "cell_type": "code",
   "execution_count": 9,
   "id": "ebc18dc5-9d37-4583-9902-465aa2aade95",
   "metadata": {},
   "outputs": [
    {
     "data": {
      "text/plain": [
       "10"
      ]
     },
     "execution_count": 9,
     "metadata": {},
     "output_type": "execute_result"
    }
   ],
   "source": [
    "len(jid_list)"
   ]
  },
  {
   "cell_type": "code",
   "execution_count": 10,
   "id": "6de0d9c0-9cc9-4e14-9075-3cdc0a1494e8",
   "metadata": {},
   "outputs": [],
   "source": [
    "df = df.loc[df['job_id'].isin(jid_list)]"
   ]
  },
  {
   "cell_type": "code",
   "execution_count": 11,
   "id": "563bb0df-384e-4c3b-9393-f5345e5f9c98",
   "metadata": {},
   "outputs": [
    {
     "data": {
      "text/plain": [
       "10"
      ]
     },
     "execution_count": 11,
     "metadata": {},
     "output_type": "execute_result"
    }
   ],
   "source": [
    "df.job_id.nunique()"
   ]
  },
  {
   "cell_type": "code",
   "execution_count": 12,
   "id": "ea15aa0a-4183-4278-b30f-8621ab94b0e9",
   "metadata": {},
   "outputs": [
    {
     "data": {
      "text/html": [
       "<div>\n",
       "<style scoped>\n",
       "    .dataframe tbody tr th:only-of-type {\n",
       "        vertical-align: middle;\n",
       "    }\n",
       "\n",
       "    .dataframe tbody tr th {\n",
       "        vertical-align: top;\n",
       "    }\n",
       "\n",
       "    .dataframe thead th {\n",
       "        text-align: right;\n",
       "    }\n",
       "</style>\n",
       "<table border=\"1\" class=\"dataframe\">\n",
       "  <thead>\n",
       "    <tr style=\"text-align: right;\">\n",
       "      <th></th>\n",
       "      <th>job_id</th>\n",
       "      <th>application_id</th>\n",
       "      <th>user_id</th>\n",
       "    </tr>\n",
       "  </thead>\n",
       "  <tbody>\n",
       "    <tr>\n",
       "      <th>2785</th>\n",
       "      <td>1373732</td>\n",
       "      <td>144320806</td>\n",
       "      <td>209995</td>\n",
       "    </tr>\n",
       "    <tr>\n",
       "      <th>2786</th>\n",
       "      <td>1373732</td>\n",
       "      <td>144315225</td>\n",
       "      <td>882096</td>\n",
       "    </tr>\n",
       "    <tr>\n",
       "      <th>2787</th>\n",
       "      <td>1373732</td>\n",
       "      <td>144309063</td>\n",
       "      <td>761462</td>\n",
       "    </tr>\n",
       "    <tr>\n",
       "      <th>2788</th>\n",
       "      <td>1373732</td>\n",
       "      <td>144305516</td>\n",
       "      <td>2749339</td>\n",
       "    </tr>\n",
       "    <tr>\n",
       "      <th>2789</th>\n",
       "      <td>1373732</td>\n",
       "      <td>144293774</td>\n",
       "      <td>1227</td>\n",
       "    </tr>\n",
       "    <tr>\n",
       "      <th>...</th>\n",
       "      <td>...</td>\n",
       "      <td>...</td>\n",
       "      <td>...</td>\n",
       "    </tr>\n",
       "    <tr>\n",
       "      <th>132314</th>\n",
       "      <td>1376033</td>\n",
       "      <td>144435189</td>\n",
       "      <td>1968534</td>\n",
       "    </tr>\n",
       "    <tr>\n",
       "      <th>132758</th>\n",
       "      <td>1373755</td>\n",
       "      <td>144435975</td>\n",
       "      <td>2662357</td>\n",
       "    </tr>\n",
       "    <tr>\n",
       "      <th>133436</th>\n",
       "      <td>1376033</td>\n",
       "      <td>144437077</td>\n",
       "      <td>1032543</td>\n",
       "    </tr>\n",
       "    <tr>\n",
       "      <th>133588</th>\n",
       "      <td>1376033</td>\n",
       "      <td>144437341</td>\n",
       "      <td>788410</td>\n",
       "    </tr>\n",
       "    <tr>\n",
       "      <th>135015</th>\n",
       "      <td>1375026</td>\n",
       "      <td>144439937</td>\n",
       "      <td>943832</td>\n",
       "    </tr>\n",
       "  </tbody>\n",
       "</table>\n",
       "<p>525 rows × 3 columns</p>\n",
       "</div>"
      ],
      "text/plain": [
       "         job_id  application_id  user_id\n",
       "2785    1373732       144320806   209995\n",
       "2786    1373732       144315225   882096\n",
       "2787    1373732       144309063   761462\n",
       "2788    1373732       144305516  2749339\n",
       "2789    1373732       144293774     1227\n",
       "...         ...             ...      ...\n",
       "132314  1376033       144435189  1968534\n",
       "132758  1373755       144435975  2662357\n",
       "133436  1376033       144437077  1032543\n",
       "133588  1376033       144437341   788410\n",
       "135015  1375026       144439937   943832\n",
       "\n",
       "[525 rows x 3 columns]"
      ]
     },
     "execution_count": 12,
     "metadata": {},
     "output_type": "execute_result"
    }
   ],
   "source": [
    "df"
   ]
  },
  {
   "cell_type": "code",
   "execution_count": 13,
   "id": "45fd197c-2927-41ac-8ce1-f8e0ba3d272f",
   "metadata": {},
   "outputs": [
    {
     "data": {
      "text/plain": [
       "476"
      ]
     },
     "execution_count": 13,
     "metadata": {},
     "output_type": "execute_result"
    }
   ],
   "source": [
    "\n",
    "df.user_id.nunique()"
   ]
  },
  {
   "cell_type": "code",
   "execution_count": null,
   "id": "b7b462e3-3568-498f-b089-61637bc31765",
   "metadata": {},
   "outputs": [],
   "source": []
  },
  {
   "cell_type": "code",
   "execution_count": null,
   "id": "e905034b-86d4-411b-af78-f86eb56576a1",
   "metadata": {},
   "outputs": [],
   "source": []
  },
  {
   "cell_type": "code",
   "execution_count": 14,
   "id": "9714b2b5-2581-4048-9e7e-486338de6637",
   "metadata": {},
   "outputs": [
    {
     "name": "stderr",
     "output_type": "stream",
     "text": [
      "/tmp/ipykernel_7270/2460164112.py:1: SettingWithCopyWarning: \n",
      "A value is trying to be set on a copy of a slice from a DataFrame.\n",
      "Try using .loc[row_indexer,col_indexer] = value instead\n",
      "\n",
      "See the caveats in the documentation: https://pandas.pydata.org/pandas-docs/stable/user_guide/indexing.html#returning-a-view-versus-a-copy\n",
      "  df['user_id']=df['user_id'].astype(int)\n"
     ]
    }
   ],
   "source": [
    "df['user_id']=df['user_id'].astype(int)"
   ]
  },
  {
   "cell_type": "code",
   "execution_count": 15,
   "id": "999ee0d5-3a7e-4e75-9b54-0c2a5a3ebdf0",
   "metadata": {},
   "outputs": [
    {
     "data": {
      "text/plain": [
       "job_id            int64\n",
       "application_id    int64\n",
       "user_id           int64\n",
       "dtype: object"
      ]
     },
     "execution_count": 15,
     "metadata": {},
     "output_type": "execute_result"
    }
   ],
   "source": [
    "df.dtypes"
   ]
  },
  {
   "cell_type": "code",
   "execution_count": 16,
   "id": "2fe01f28-d66d-4cca-89fd-c0ce4d95abe0",
   "metadata": {},
   "outputs": [],
   "source": [
    "# uid_list = list(data.keys())[:5]"
   ]
  },
  {
   "cell_type": "code",
   "execution_count": 17,
   "id": "3048e16a-3e7d-46c0-9d3e-773688ba9c57",
   "metadata": {},
   "outputs": [],
   "source": [
    "# data"
   ]
  },
  {
   "cell_type": "code",
   "execution_count": 18,
   "id": "69a67c38-8668-4e00-a20f-959e92d011f8",
   "metadata": {},
   "outputs": [
    {
     "name": "stderr",
     "output_type": "stream",
     "text": [
      "100%|██████████████████████████████████████████████████████████████████████████████████████████████████████████████████████████████████| 389/389 [00:00<00:00, 467368.74it/s]\n"
     ]
    }
   ],
   "source": [
    "df_list = []\n",
    "\n",
    "for id, desc in tqdm(data.items()):\n",
    "    try:\n",
    "        descriptions = \"; \".join([exp['description'] for exp in desc])\n",
    "        df_list.append({'id': id, 'descriptions': descriptions})\n",
    "    except Exception as e:\n",
    "        # print(e)\n",
    "        continue\n",
    "\n",
    "udf = pd.DataFrame(df_list)"
   ]
  },
  {
   "cell_type": "code",
   "execution_count": 19,
   "id": "be6c1be9-15bb-4563-89db-4213748c79ba",
   "metadata": {},
   "outputs": [
    {
     "data": {
      "text/html": [
       "<div>\n",
       "<style scoped>\n",
       "    .dataframe tbody tr th:only-of-type {\n",
       "        vertical-align: middle;\n",
       "    }\n",
       "\n",
       "    .dataframe tbody tr th {\n",
       "        vertical-align: top;\n",
       "    }\n",
       "\n",
       "    .dataframe thead th {\n",
       "        text-align: right;\n",
       "    }\n",
       "</style>\n",
       "<table border=\"1\" class=\"dataframe\">\n",
       "  <thead>\n",
       "    <tr style=\"text-align: right;\">\n",
       "      <th></th>\n",
       "      <th>id</th>\n",
       "      <th>descriptions</th>\n",
       "    </tr>\n",
       "  </thead>\n",
       "  <tbody>\n",
       "    <tr>\n",
       "      <th>0</th>\n",
       "      <td>209995</td>\n",
       "      <td>Initiating Coverage and tracking companies wit...</td>\n",
       "    </tr>\n",
       "    <tr>\n",
       "      <th>1</th>\n",
       "      <td>882096</td>\n",
       "      <td>Tracking Banking sector with 25 stocks uneer a...</td>\n",
       "    </tr>\n",
       "    <tr>\n",
       "      <th>2</th>\n",
       "      <td>761462</td>\n",
       "      <td>Part of 4-member investment team of a sector a...</td>\n",
       "    </tr>\n",
       "    <tr>\n",
       "      <th>3</th>\n",
       "      <td>2749339</td>\n",
       "      <td>Independently raised INR 10 Cr for early-stage...</td>\n",
       "    </tr>\n",
       "    <tr>\n",
       "      <th>4</th>\n",
       "      <td>1227</td>\n",
       "      <td>Setting up the Family office / Treasury Head /...</td>\n",
       "    </tr>\n",
       "    <tr>\n",
       "      <th>...</th>\n",
       "      <td>...</td>\n",
       "      <td>...</td>\n",
       "    </tr>\n",
       "    <tr>\n",
       "      <th>302</th>\n",
       "      <td>2700303</td>\n",
       "      <td>Preparing Job descriptions in consultation wit...</td>\n",
       "    </tr>\n",
       "    <tr>\n",
       "      <th>303</th>\n",
       "      <td>1968051</td>\n",
       "      <td>Continuous monitoring and preparation of COP w...</td>\n",
       "    </tr>\n",
       "    <tr>\n",
       "      <th>304</th>\n",
       "      <td>2754531</td>\n",
       "      <td>Zero Based Budgeting and Overhead control- Act...</td>\n",
       "    </tr>\n",
       "    <tr>\n",
       "      <th>305</th>\n",
       "      <td>2753323</td>\n",
       "      <td>Oversaw sales and marketing in entire North In...</td>\n",
       "    </tr>\n",
       "    <tr>\n",
       "      <th>306</th>\n",
       "      <td>2749129</td>\n",
       "      <td>Expanded portfolio size to 240 CR, leading a t...</td>\n",
       "    </tr>\n",
       "  </tbody>\n",
       "</table>\n",
       "<p>307 rows × 2 columns</p>\n",
       "</div>"
      ],
      "text/plain": [
       "          id                                       descriptions\n",
       "0     209995  Initiating Coverage and tracking companies wit...\n",
       "1     882096  Tracking Banking sector with 25 stocks uneer a...\n",
       "2     761462  Part of 4-member investment team of a sector a...\n",
       "3    2749339  Independently raised INR 10 Cr for early-stage...\n",
       "4       1227  Setting up the Family office / Treasury Head /...\n",
       "..       ...                                                ...\n",
       "302  2700303  Preparing Job descriptions in consultation wit...\n",
       "303  1968051  Continuous monitoring and preparation of COP w...\n",
       "304  2754531  Zero Based Budgeting and Overhead control- Act...\n",
       "305  2753323  Oversaw sales and marketing in entire North In...\n",
       "306  2749129  Expanded portfolio size to 240 CR, leading a t...\n",
       "\n",
       "[307 rows x 2 columns]"
      ]
     },
     "execution_count": 19,
     "metadata": {},
     "output_type": "execute_result"
    }
   ],
   "source": [
    "udf"
   ]
  },
  {
   "cell_type": "code",
   "execution_count": 20,
   "id": "8f270c9e-fece-42fa-89f8-30afca5e2d22",
   "metadata": {},
   "outputs": [],
   "source": [
    "udf['id']=udf['id'].astype(int)"
   ]
  },
  {
   "cell_type": "code",
   "execution_count": 21,
   "id": "0b2e0fec-1ae0-4d20-9224-7199d508bee8",
   "metadata": {},
   "outputs": [],
   "source": [
    "# df[1:2].descriptions.values"
   ]
  },
  {
   "cell_type": "code",
   "execution_count": 22,
   "id": "e5656637-7bc8-4e55-8453-c1e76085517b",
   "metadata": {},
   "outputs": [],
   "source": [
    "# data['2673538']"
   ]
  },
  {
   "cell_type": "code",
   "execution_count": 23,
   "id": "10aa208d-f093-4fb4-8f13-cf39326ce245",
   "metadata": {},
   "outputs": [
    {
     "data": {
      "text/plain": [
       "id               int64\n",
       "descriptions    object\n",
       "dtype: object"
      ]
     },
     "execution_count": 23,
     "metadata": {},
     "output_type": "execute_result"
    }
   ],
   "source": [
    "udf.dtypes"
   ]
  },
  {
   "cell_type": "code",
   "execution_count": 24,
   "id": "aef1a0af-4c8c-4f5c-b4cf-edf06c6adbce",
   "metadata": {},
   "outputs": [],
   "source": [
    "udlist=list(udf.id)"
   ]
  },
  {
   "cell_type": "code",
   "execution_count": 25,
   "id": "cb574ab7-eff7-43dd-998c-27a3a777fd48",
   "metadata": {},
   "outputs": [
    {
     "data": {
      "text/plain": [
       "307"
      ]
     },
     "execution_count": 25,
     "metadata": {},
     "output_type": "execute_result"
    }
   ],
   "source": [
    "len(udlist)"
   ]
  },
  {
   "cell_type": "code",
   "execution_count": 26,
   "id": "02102bd6-7007-4fb5-86f2-8b4184b31027",
   "metadata": {},
   "outputs": [
    {
     "data": {
      "text/plain": [
       "307"
      ]
     },
     "execution_count": 26,
     "metadata": {},
     "output_type": "execute_result"
    }
   ],
   "source": [
    "df.loc[df['user_id'].isin(udlist)].user_id.nunique()"
   ]
  },
  {
   "cell_type": "code",
   "execution_count": 27,
   "id": "7bb220b5-8d08-4802-8176-8085b9542556",
   "metadata": {},
   "outputs": [],
   "source": [
    "df = df.loc[df['user_id'].isin(udlist)]"
   ]
  },
  {
   "cell_type": "code",
   "execution_count": 28,
   "id": "f90b5389-1f20-47b7-8136-39f0d2b2bcc3",
   "metadata": {},
   "outputs": [
    {
     "data": {
      "text/plain": [
       "10"
      ]
     },
     "execution_count": 28,
     "metadata": {},
     "output_type": "execute_result"
    }
   ],
   "source": [
    "df.job_id.nunique()"
   ]
  },
  {
   "cell_type": "code",
   "execution_count": 29,
   "id": "d2e69786-24d9-479d-b6aa-277b96407876",
   "metadata": {},
   "outputs": [
    {
     "data": {
      "text/plain": [
       "307"
      ]
     },
     "execution_count": 29,
     "metadata": {},
     "output_type": "execute_result"
    }
   ],
   "source": [
    "df.user_id.nunique()"
   ]
  },
  {
   "cell_type": "code",
   "execution_count": 80,
   "id": "041b7493-b0e0-432d-9bda-91a21335ecff",
   "metadata": {},
   "outputs": [],
   "source": [
    "import requests\n",
    "\n",
    "def fetch_jobs(job_id):\n",
    "    \n",
    "    '''\n",
    "    Returns Job Data[Hirst, Source : ElasticSearch] for the last_k days, and with flexible page size (<10,000)\n",
    "    \n",
    "    Input : Last-K Days, and Page result size\n",
    "    \n",
    "    Output : Pandas Dataframe with jobs from the last k days \n",
    "    '''\n",
    "    \n",
    "    # columns = ['id', 'title','companyStatus', 'min', 'max', 'premium', 'applyCount', 'locations','tags','brandJobFlag']     #Added column name for companyStatus\n",
    "    # new_cols = ['jobid', 'title','companyStatus', 'min', 'max', 'premium', 'applyCount', 'locations','tags', 'brandJobFlag']       #Added column name for companyStatus\n",
    "    \n",
    "    \n",
    "\n",
    "    url = \"http://internal-java-job-searcher-email-backend-1607736061.ap-south-1.elb.amazonaws.com/v1/user/-777/job/jobcode?query=<JOBID>\"\n",
    "    url = url.replace('<JOBID>',job_id)\n",
    "    payload={}\n",
    "    headers = {}\n",
    "    \n",
    "    response = requests.request(\"GET\", url, headers=headers, data=payload)\n",
    "    \n",
    "    # print(response.text)\n",
    "    \n",
    "\n",
    "    # url = url.replace(\"<DAYS>\",str(last_k)).replace(\"<SIZE>\",str(size))\n",
    "\n",
    "    payload={}\n",
    "    headers = {}\n",
    "\n",
    "    response = requests.request(\"GET\", url, headers=headers, data=payload)\n",
    "    job_data = response.json()\n",
    "    # print(job_data)\n",
    "    job_df = pd.DataFrame(job_data)\n",
    "\n",
    "    return job_df[['id','introText']]"
   ]
  },
  {
   "cell_type": "code",
   "execution_count": 31,
   "id": "7ae7c37e-4fbe-43ba-8348-5ecd41e2aa17",
   "metadata": {},
   "outputs": [
    {
     "name": "stderr",
     "output_type": "stream",
     "text": [
      "100%|████████████████████████████████████████████████████████████████████████████████████████████████████████████████████████████████████████| 10/10 [00:00<00:00, 28.37it/s]\n"
     ]
    }
   ],
   "source": [
    "from tqdm import tqdm\n",
    "df_list = []\n",
    "for i in tqdm(df['job_id'].unique()):\n",
    "    try:\n",
    "        j = fetch_jobs(str(i))\n",
    "    \n",
    "        df_list.append(j)\n",
    "    except:\n",
    "        continue\n",
    "jd = pd.concat(df_list) "
   ]
  },
  {
   "cell_type": "code",
   "execution_count": 32,
   "id": "59366f08-7968-480a-9452-4eb22e5882f9",
   "metadata": {},
   "outputs": [],
   "source": [
    "jid_list = list(jd.id)"
   ]
  },
  {
   "cell_type": "code",
   "execution_count": 33,
   "id": "b546d8ac-d06f-47fc-9578-6529d26ffa73",
   "metadata": {},
   "outputs": [
    {
     "data": {
      "text/plain": [
       "9"
      ]
     },
     "execution_count": 33,
     "metadata": {},
     "output_type": "execute_result"
    }
   ],
   "source": [
    "len(jid_list)"
   ]
  },
  {
   "cell_type": "code",
   "execution_count": 34,
   "id": "9ca15e4d-e6ea-41d1-883c-5a701b41f591",
   "metadata": {},
   "outputs": [],
   "source": [
    "df1 = df.loc[df['job_id'].isin(jid_list)]"
   ]
  },
  {
   "cell_type": "code",
   "execution_count": 35,
   "id": "d0ba2d3c-ee6b-4bb0-af21-d64ab115c0dd",
   "metadata": {},
   "outputs": [
    {
     "data": {
      "text/plain": [
       "(299, 3)"
      ]
     },
     "execution_count": 35,
     "metadata": {},
     "output_type": "execute_result"
    }
   ],
   "source": [
    "df1.shape"
   ]
  },
  {
   "cell_type": "code",
   "execution_count": 36,
   "id": "5bfaf847-86aa-4010-a4be-af5a310ce980",
   "metadata": {},
   "outputs": [],
   "source": [
    "jd.columns = ['job_id','introText']"
   ]
  },
  {
   "cell_type": "code",
   "execution_count": 37,
   "id": "60c15ab0-9bfc-4956-bfd7-e02c8f99798d",
   "metadata": {},
   "outputs": [],
   "source": [
    "merged_df = pd.merge(jd, df1, on='job_id', how='left')\n"
   ]
  },
  {
   "cell_type": "code",
   "execution_count": 38,
   "id": "35e8bbfb-6396-4650-8389-5b8bb71edf10",
   "metadata": {},
   "outputs": [
    {
     "data": {
      "text/plain": [
       "(299, 4)"
      ]
     },
     "execution_count": 38,
     "metadata": {},
     "output_type": "execute_result"
    }
   ],
   "source": [
    "merged_df.shape"
   ]
  },
  {
   "cell_type": "code",
   "execution_count": 42,
   "id": "0142c414-32bf-465b-a27c-5d67c5ae8ecb",
   "metadata": {},
   "outputs": [],
   "source": [
    "uid_list = list(merged_df.user_id.unique())"
   ]
  },
  {
   "cell_type": "code",
   "execution_count": 43,
   "id": "9004203c-e72a-423b-97f9-f92cc043f713",
   "metadata": {},
   "outputs": [
    {
     "data": {
      "text/plain": [
       "265"
      ]
     },
     "execution_count": 43,
     "metadata": {},
     "output_type": "execute_result"
    }
   ],
   "source": [
    "merged_df.user_id.nunique()"
   ]
  },
  {
   "cell_type": "code",
   "execution_count": 44,
   "id": "e953603f-19e0-44ba-9414-caf0eb8b7a30",
   "metadata": {},
   "outputs": [
    {
     "data": {
      "text/plain": [
       "265"
      ]
     },
     "execution_count": 44,
     "metadata": {},
     "output_type": "execute_result"
    }
   ],
   "source": [
    "len(uid_list)"
   ]
  },
  {
   "cell_type": "code",
   "execution_count": 45,
   "id": "2883091f-55cf-4bca-a5bb-09aef27ca885",
   "metadata": {},
   "outputs": [],
   "source": [
    "def clean_space(text):\n",
    "    return \" \".join(re.split(\"\\s+\", text, flags=re.UNICODE))\n",
    "\n",
    "def remove_extra_spaces(input_string):\n",
    "    # Use regular expression to remove extra spaces (only spaces)\n",
    "    cleaned_string = re.sub(r' +', ' ', input_string)\n",
    "    return cleaned_string\n",
    "     \n",
    "\n",
    "def get_user_data_search_embed(user_id_list):\n",
    "    \n",
    "    '''\n",
    "    This function combines all the functions for fetching and processing \n",
    "    user data from elastic search\n",
    "    '''\n",
    "\n",
    "\n",
    "    sub_json = fetch_data_es(user_id_list)\n",
    "    raw_data = construct_user_data_search_embed(sub_json)\n",
    "\n",
    "    res_df = pd.DataFrame.from_dict(raw_data, orient='index').T\n",
    "    result_df = res_df.astype(str).replace(\"None\", \" \")\n",
    "    \n",
    "    result_df['resume'] = result_df['resume'].apply(remove_extra_spaces)\n",
    "\n",
    "    return result_df\n",
    "\n",
    "def fetch_data_es(user_id_list):\n",
    "    \n",
    "    \"\"\"\n",
    "    Input : List of Valid Hirist User ID \n",
    "    Output : List of User Data JSON stored in Elastic Search\n",
    "    \"\"\"\n",
    "    \n",
    "    \n",
    "    response_json = []\n",
    "    replacements = {'null':'None', 'false':'False'}\n",
    "\n",
    "    url = \"http://10.208.230.226:8080/v1/recruiter/-123/applicant/search/searchById\"\n",
    "\n",
    "    res = []\n",
    "\n",
    "    for uid in tqdm(user_id_list):\n",
    "\n",
    "\n",
    "        payload = {\n",
    "            'usersToSearchFrom' : [str(uid)]\n",
    "        }\n",
    "\n",
    "        headers = {\n",
    "        'Content-Type': 'application/json'\n",
    "        }\n",
    "\n",
    "        try:\n",
    "            response = requests.request(\"POST\", url, headers=headers, data = str(payload))\n",
    "            response_json = response.json()\n",
    "    \n",
    "            res.append(response_json['docs']) \n",
    "\n",
    "        except Exception as e:\n",
    "            continue\n",
    "        \n",
    "    return res\n",
    "\n",
    "\n",
    "\n",
    "def construct_user_data_search_embed(user_json):\n",
    "    '''\n",
    "    This is a function for fetching user ID, Keywords (in the form of tags) and \n",
    "    user designation from elastic search. This is specifically made for creating \n",
    "    user embeddings for our Recruiter search model/POC\n",
    "    '''\n",
    "    \n",
    "    user_dict = {\n",
    "        'id' : [],\n",
    "        'resume' : []\n",
    "    }\n",
    "\n",
    "    for s in tqdm(user_json):\n",
    "\n",
    "        try:\n",
    "            source = s[0]\n",
    "\n",
    "            user_dict['id'].append(source['id'])\n",
    "            user_dict['resume'].append(clean_space(source['resumeText']))\n",
    "\n",
    "        except Exception as e:\n",
    "            continue\n",
    "\n",
    "    return user_dict"
   ]
  },
  {
   "cell_type": "code",
   "execution_count": 46,
   "id": "df3b5122-28e5-4fb1-9fdc-ffc9cba64faf",
   "metadata": {},
   "outputs": [],
   "source": [
    "\n",
    "def get_user_data_in_batches(uid_list, batch_size=1000):\n",
    "    user_data = pd.DataFrame()\n",
    "\n",
    "    for i in range(0, len(uid_list), batch_size):\n",
    "        batch_uids = uid_list[i:i + batch_size]\n",
    "\n",
    "        batch_user_data = get_user_data_search_embed(batch_uids)\n",
    "\n",
    "        user_data = pd.concat([user_data, batch_user_data], ignore_index=True)\n",
    "\n",
    "    return user_data"
   ]
  },
  {
   "cell_type": "code",
   "execution_count": 47,
   "id": "3a81e864-030f-4e86-bdba-fdf8b00842bd",
   "metadata": {},
   "outputs": [
    {
     "name": "stderr",
     "output_type": "stream",
     "text": [
      "100%|█████████████████████████████████████████████████████████████████████████████████████████████████████████████████████████████████████| 265/265 [00:01<00:00, 135.96it/s]\n",
      "100%|████████████████████████████████████████████████████████████████████████████████████████████████████████████████████████████████████| 265/265 [00:00<00:00, 4678.62it/s]\n"
     ]
    }
   ],
   "source": [
    "batched_user_data = get_user_data_in_batches(uid_list, batch_size=1000)"
   ]
  },
  {
   "cell_type": "code",
   "execution_count": 48,
   "id": "7ff5614c-7108-4caa-8579-e85615a59efa",
   "metadata": {},
   "outputs": [],
   "source": [
    "batched_user_data.columns = ['user_id','resume']"
   ]
  },
  {
   "cell_type": "code",
   "execution_count": 49,
   "id": "da4fee68-aa9e-4136-9ddd-dfd053ceafd9",
   "metadata": {},
   "outputs": [],
   "source": [
    "batched_user_data['user_id']=batched_user_data['user_id'].astype(int)"
   ]
  },
  {
   "cell_type": "code",
   "execution_count": 50,
   "id": "8b24fce4-91b0-42c0-a19e-a2089ee305e9",
   "metadata": {},
   "outputs": [],
   "source": [
    "main_df=pd.merge(merged_df,batched_user_data, on='user_id', how='left')"
   ]
  },
  {
   "cell_type": "code",
   "execution_count": 52,
   "id": "c0dd1e24-2e1f-4301-9955-0d3828d1b7f7",
   "metadata": {},
   "outputs": [
    {
     "data": {
      "text/plain": [
       "9"
      ]
     },
     "execution_count": 52,
     "metadata": {},
     "output_type": "execute_result"
    }
   ],
   "source": [
    "main_df.job_id.nunique()"
   ]
  },
  {
   "cell_type": "code",
   "execution_count": 53,
   "id": "8bba1888-5794-4759-8cfd-bf31b18e50e5",
   "metadata": {},
   "outputs": [
    {
     "data": {
      "text/plain": [
       "265"
      ]
     },
     "execution_count": 53,
     "metadata": {},
     "output_type": "execute_result"
    }
   ],
   "source": [
    "main_df.user_id.nunique()"
   ]
  },
  {
   "cell_type": "code",
   "execution_count": 54,
   "id": "a0f2c5fe-e262-438f-8816-40b98c36ba9f",
   "metadata": {},
   "outputs": [],
   "source": [
    "def clean_text(input_text):\n",
    "    \n",
    "    '''Make text lowercase, remove text in square brackets,remove links,\n",
    "    remove punctuation and remove words containing numbers.'''\n",
    "\n",
    "    # This code block was added to remove the company names from Job embeddings\n",
    "    \n",
    "    # t = input_text.split('-')\n",
    "    # if len(t)>3:\n",
    "    #     t1 = t[1:]\n",
    "    #     text = ' '.join(t1)\n",
    "    # else:\n",
    "    #     text = input_text\n",
    "    #     pass\n",
    "\n",
    "    text = input_text\n",
    "        \n",
    "    text = str(text).lower()\n",
    "    text = re.sub('\\[.*?\\]',' ', text)\n",
    "    text = re.sub('https?://\\S+|www\\.\\S+',' ', text)\n",
    "    text = re.sub('<.*?>+',' ', text)\n",
    "    text = re.sub('[%s]' % re.escape(string.punctuation),' ', text)\n",
    "    text = re.sub('\\n',' ', text)\n",
    "    text = re.sub('\\w*\\d\\w*',' ', text)\n",
    "    text = re.sub('yrs',' ',text)\n",
    "    text = re.sub('\\r',' ',text)\n",
    "    text = ' '.join([word for word in text.split() if word not in (stop)])\n",
    "    text = re.sub(' +', ' ', text)\n",
    "    \n",
    "    return text"
   ]
  },
  {
   "cell_type": "code",
   "execution_count": 55,
   "id": "42fd9233-f4a6-4f40-aab6-7abc978be656",
   "metadata": {},
   "outputs": [
    {
     "name": "stderr",
     "output_type": "stream",
     "text": [
      "100%|████████████████████████████████████████████████████████████████████████████████████████████████████████████████████████████████████| 299/299 [00:00<00:00, 1754.63it/s]\n"
     ]
    }
   ],
   "source": [
    "li = []\n",
    "for d in tqdm(main_df['introText']):\n",
    "    des = clean_text(d)\n",
    "    li.append(des)"
   ]
  },
  {
   "cell_type": "code",
   "execution_count": 56,
   "id": "9239f613-95df-45ce-97d3-fbc006fa07d5",
   "metadata": {},
   "outputs": [],
   "source": [
    "main_df['description']=li"
   ]
  },
  {
   "cell_type": "code",
   "execution_count": null,
   "id": "61bf3aad-7703-4a0a-b983-3c30df268bec",
   "metadata": {},
   "outputs": [],
   "source": []
  },
  {
   "cell_type": "code",
   "execution_count": 57,
   "id": "4064a30e-26c7-49ac-b0da-5702653d0f01",
   "metadata": {},
   "outputs": [
    {
     "name": "stderr",
     "output_type": "stream",
     "text": [
      "100%|█████████████████████████████████████████████████████████████████████████████████████████████████████████████████████████████████████| 299/299 [00:00<00:00, 574.44it/s]\n"
     ]
    }
   ],
   "source": [
    "li = []\n",
    "for r in tqdm(main_df['resume']):\n",
    "    res = clean_text(r)\n",
    "    li.append(res)"
   ]
  },
  {
   "cell_type": "code",
   "execution_count": 58,
   "id": "2e66a4f9-fb02-4f02-8986-fa58f240bba2",
   "metadata": {},
   "outputs": [],
   "source": [
    "main_df['resume_text']=li"
   ]
  },
  {
   "cell_type": "code",
   "execution_count": 59,
   "id": "7601db25-4b7f-4199-ab65-955d583035b1",
   "metadata": {},
   "outputs": [],
   "source": [
    "mdf = main_df[['job_id','description','user_id','resume_text']]"
   ]
  },
  {
   "cell_type": "code",
   "execution_count": 61,
   "id": "cf1a0584-0ffb-4f67-b8d1-af5982be4a6e",
   "metadata": {},
   "outputs": [
    {
     "data": {
      "text/plain": [
       "9"
      ]
     },
     "execution_count": 61,
     "metadata": {},
     "output_type": "execute_result"
    }
   ],
   "source": [
    "mdf.job_id.nunique()"
   ]
  },
  {
   "cell_type": "code",
   "execution_count": 62,
   "id": "75284878-52be-4e5e-9828-1ad3d77f8cee",
   "metadata": {},
   "outputs": [
    {
     "data": {
      "text/plain": [
       "265"
      ]
     },
     "execution_count": 62,
     "metadata": {},
     "output_type": "execute_result"
    }
   ],
   "source": [
    "mdf.user_id.nunique()"
   ]
  },
  {
   "cell_type": "code",
   "execution_count": 63,
   "id": "1f45227a-f659-4cc1-9cd6-89af7282edac",
   "metadata": {},
   "outputs": [
    {
     "data": {
      "text/plain": [
       "job_id\n",
       "1373879    43\n",
       "1375642    39\n",
       "1373732    37\n",
       "1376033    37\n",
       "1373929    33\n",
       "1374981    31\n",
       "1375026    29\n",
       "1374956    27\n",
       "1373755    23\n",
       "Name: count, dtype: int64"
      ]
     },
     "execution_count": 63,
     "metadata": {},
     "output_type": "execute_result"
    }
   ],
   "source": [
    "mdf.job_id.value_counts()"
   ]
  },
  {
   "cell_type": "code",
   "execution_count": 64,
   "id": "79539818-9e79-410b-a621-5473c200cc3d",
   "metadata": {},
   "outputs": [
    {
     "name": "stderr",
     "output_type": "stream",
     "text": [
      "  0%|                                                                                                                                                  | 0/1 [00:00<?, ?it/s][libprotobuf ERROR external/com_google_protobuf/src/google/protobuf/text_format.cc:337] Error parsing text-format research_scann.ScannConfig: 7:20: Integer out of range (2)\n",
      "[libprotobuf ERROR external/com_google_protobuf/src/google/protobuf/text_format.cc:337] Error parsing text-format research_scann.ScannConfig: 7:20: Integer out of range (2)\n",
      "[libprotobuf ERROR external/com_google_protobuf/src/google/protobuf/text_format.cc:337] Error parsing text-format research_scann.ScannConfig: 7:20: Integer out of range (2)\n",
      "[libprotobuf ERROR external/com_google_protobuf/src/google/protobuf/text_format.cc:337] Error parsing text-format research_scann.ScannConfig: 7:20: Integer out of range (2)\n",
      "[libprotobuf ERROR external/com_google_protobuf/src/google/protobuf/text_format.cc:337] Error parsing text-format research_scann.ScannConfig: 7:20: Integer out of range (2)\n",
      "[libprotobuf ERROR external/com_google_protobuf/src/google/protobuf/text_format.cc:337] Error parsing text-format research_scann.ScannConfig: 7:20: Integer out of range (2)\n",
      "[libprotobuf ERROR external/com_google_protobuf/src/google/protobuf/text_format.cc:337] Error parsing text-format research_scann.ScannConfig: 7:20: Integer out of range (2)\n",
      "[libprotobuf ERROR external/com_google_protobuf/src/google/protobuf/text_format.cc:337] Error parsing text-format research_scann.ScannConfig: 7:20: Integer out of range (2)\n",
      "[libprotobuf ERROR external/com_google_protobuf/src/google/protobuf/text_format.cc:337] Error parsing text-format research_scann.ScannConfig: 7:20: Integer out of range (2)\n",
      "100%|██████████████████████████████████████████████████████████████████████████████████████████████████████████████████████████████████████████| 1/1 [00:01<00:00,  1.28s/it]\n"
     ]
    }
   ],
   "source": [
    "import numpy as np\n",
    "from tqdm import tqdm\n",
    "\n",
    "\n",
    "batch_size = 15  # Adjust the batch size according to your system's capacity\n",
    "\n",
    "df_list = []\n",
    "\n",
    "unique_job_ids = mdf.job_id.unique()\n",
    "\n",
    "num_batches = len(unique_job_ids) // batch_size + 1\n",
    "\n",
    "for batch_num in tqdm(range(num_batches)):\n",
    "    start_idx = batch_num * batch_size\n",
    "    end_idx = (batch_num + 1) * batch_size\n",
    "    batch_job_ids = unique_job_ids[start_idx:end_idx]\n",
    "\n",
    "    batch_df_list = []\n",
    "\n",
    "    try:\n",
    "\n",
    "        for jid in batch_job_ids:\n",
    "            jobdf = mdf.loc[mdf['job_id'] == jid]\n",
    "    \n",
    "            description = jobdf.description.sample().values[0]\n",
    "            job_embeddings = model.encode([description])[0]\n",
    "    \n",
    "            udf = jobdf[['user_id', 'resume_text']]\n",
    "            udf_list = udf.values\n",
    "            r_list = udf_list[:, 1].tolist()\n",
    "            uid_list = udf_list[:, 0].tolist()\n",
    "            \n",
    "            try:\n",
    "                embedding_sublist = [e for e in model.encode(r_list)]\n",
    "            except Exception as e:\n",
    "                # print(uid_list)\n",
    "                print('problem')\n",
    "                continue\n",
    "    \n",
    "            sub_dict = {uid: np.array([embedding]) for uid, embedding in zip(uid_list, embedding_sublist)}\n",
    "    \n",
    "            uv = embedding_sublist\n",
    "    \n",
    "            try:\n",
    "                nu = uv / np.linalg.norm(uv, axis=1)[:, np.newaxis]\n",
    "            except Exception as e:\n",
    "                print(f'Error is {e}')\n",
    "    \n",
    "            searcher = scann.scann_ops_pybind.builder(nu, 43, \"dot_product\").score_brute_force(2).build()\n",
    "\n",
    "        #     searcher = scann.scann_ops_pybind.builder(nu, 900, \"dot_product\").tree(\n",
    "        # num_leaves=10, num_leaves_to_search=10, training_sample_size=1000).score_ah(\n",
    "        # 2, anisotropic_quantization_threshold=0.2).reorder(1000).build()\n",
    "\n",
    "    \n",
    "            neighbours, distances = searcher.search_batched([job_embeddings])\n",
    "    \n",
    "            udf = udf.iloc[neighbours[0]]\n",
    "            udf['scores'] = distances[0]\n",
    "            udf.drop(['resume_text'], axis=1, inplace=True)\n",
    "    \n",
    "            final_df = pd.merge(jobdf, udf, on='user_id', how='left')\n",
    "            batch_df_list.append(final_df)            \n",
    "            \n",
    "            del jobdf, udf, embedding_sublist, nu, searcher\n",
    "\n",
    "    \n",
    "        batch_result_df = pd.concat(batch_df_list)\n",
    "        df_list.append(batch_result_df)\n",
    "    except Exception as e:\n",
    "        print(e)\n",
    "        continue\n",
    "result_df = pd.concat(df_list)\n"
   ]
  },
  {
   "cell_type": "code",
   "execution_count": 65,
   "id": "77b5794e-d3a5-444f-805d-3831c5cfc853",
   "metadata": {},
   "outputs": [
    {
     "data": {
      "text/plain": [
       "9"
      ]
     },
     "execution_count": 65,
     "metadata": {},
     "output_type": "execute_result"
    }
   ],
   "source": [
    "result_df.job_id.nunique()"
   ]
  },
  {
   "cell_type": "code",
   "execution_count": 66,
   "id": "6e3013a2-147e-454f-a7e7-9f176c29b6db",
   "metadata": {},
   "outputs": [
    {
     "data": {
      "text/plain": [
       "265"
      ]
     },
     "execution_count": 66,
     "metadata": {},
     "output_type": "execute_result"
    }
   ],
   "source": [
    "result_df.user_id.nunique()"
   ]
  },
  {
   "cell_type": "code",
   "execution_count": 67,
   "id": "446d8481-6702-469a-b617-c64f33f8ad8f",
   "metadata": {},
   "outputs": [
    {
     "data": {
      "text/plain": [
       "15    1373732\n",
       "3     1373879\n",
       "22    1373879\n",
       "0     1376033\n",
       "9     1373732\n",
       "Name: job_id, dtype: int64"
      ]
     },
     "execution_count": 67,
     "metadata": {},
     "output_type": "execute_result"
    }
   ],
   "source": [
    "result_df.job_id.sample(5)"
   ]
  },
  {
   "cell_type": "code",
   "execution_count": 74,
   "id": "167e9c02-3ba2-43e6-b852-a85a948617f8",
   "metadata": {},
   "outputs": [
    {
     "data": {
      "text/html": [
       "<div>\n",
       "<style scoped>\n",
       "    .dataframe tbody tr th:only-of-type {\n",
       "        vertical-align: middle;\n",
       "    }\n",
       "\n",
       "    .dataframe tbody tr th {\n",
       "        vertical-align: top;\n",
       "    }\n",
       "\n",
       "    .dataframe thead th {\n",
       "        text-align: right;\n",
       "    }\n",
       "</style>\n",
       "<table border=\"1\" class=\"dataframe\">\n",
       "  <thead>\n",
       "    <tr style=\"text-align: right;\">\n",
       "      <th></th>\n",
       "      <th>job_id</th>\n",
       "      <th>description</th>\n",
       "      <th>user_id</th>\n",
       "      <th>resume_text</th>\n",
       "      <th>scores</th>\n",
       "    </tr>\n",
       "  </thead>\n",
       "  <tbody>\n",
       "    <tr>\n",
       "      <th>0</th>\n",
       "      <td>1373732</td>\n",
       "      <td>mumbai based family office looking hire equity...</td>\n",
       "      <td>209995</td>\n",
       "      <td>akshay pradhan address neelkanth sagar mahatma...</td>\n",
       "      <td>0.645710</td>\n",
       "    </tr>\n",
       "    <tr>\n",
       "      <th>1</th>\n",
       "      <td>1373732</td>\n",
       "      <td>mumbai based family office looking hire equity...</td>\n",
       "      <td>882096</td>\n",
       "      <td>name mayank kumar gulgulia tel summary cfa usa...</td>\n",
       "      <td>0.690789</td>\n",
       "    </tr>\n",
       "    <tr>\n",
       "      <th>2</th>\n",
       "      <td>1373732</td>\n",
       "      <td>mumbai based family office looking hire equity...</td>\n",
       "      <td>761462</td>\n",
       "      <td>sahil nandkumar cfa date birth address flat se...</td>\n",
       "      <td>0.673624</td>\n",
       "    </tr>\n",
       "    <tr>\n",
       "      <th>3</th>\n",
       "      <td>1373732</td>\n",
       "      <td>mumbai based family office looking hire equity...</td>\n",
       "      <td>2749339</td>\n",
       "      <td>kushboo jaichand luniya luniya kushboo gmail c...</td>\n",
       "      <td>0.618894</td>\n",
       "    </tr>\n",
       "    <tr>\n",
       "      <th>4</th>\n",
       "      <td>1373732</td>\n",
       "      <td>mumbai based family office looking hire equity...</td>\n",
       "      <td>1227</td>\n",
       "      <td>sachin jain mba finance city mumbai contact gm...</td>\n",
       "      <td>0.688748</td>\n",
       "    </tr>\n",
       "    <tr>\n",
       "      <th>...</th>\n",
       "      <td>...</td>\n",
       "      <td>...</td>\n",
       "      <td>...</td>\n",
       "      <td>...</td>\n",
       "      <td>...</td>\n",
       "    </tr>\n",
       "    <tr>\n",
       "      <th>32</th>\n",
       "      <td>1376033</td>\n",
       "      <td>agm sales need able create vision area execute...</td>\n",
       "      <td>2492721</td>\n",
       "      <td>nikhil kumar citizenship indian date birth may...</td>\n",
       "      <td>0.497188</td>\n",
       "    </tr>\n",
       "    <tr>\n",
       "      <th>33</th>\n",
       "      <td>1376033</td>\n",
       "      <td>agm sales need able create vision area execute...</td>\n",
       "      <td>1205250</td>\n",
       "      <td>krishna kant tiwari male years gmail com summa...</td>\n",
       "      <td>0.662455</td>\n",
       "    </tr>\n",
       "    <tr>\n",
       "      <th>34</th>\n",
       "      <td>1376033</td>\n",
       "      <td>agm sales need able create vision area execute...</td>\n",
       "      <td>1895984</td>\n",
       "      <td>rajesh yadav rajesh fms edu p account manager ...</td>\n",
       "      <td>0.577546</td>\n",
       "    </tr>\n",
       "    <tr>\n",
       "      <th>35</th>\n",
       "      <td>1376033</td>\n",
       "      <td>agm sales need able create vision area execute...</td>\n",
       "      <td>2753323</td>\n",
       "      <td>kapil ahuja zonal sales head pharma diagnostic...</td>\n",
       "      <td>0.651153</td>\n",
       "    </tr>\n",
       "    <tr>\n",
       "      <th>36</th>\n",
       "      <td>1376033</td>\n",
       "      <td>agm sales need able create vision area execute...</td>\n",
       "      <td>2749129</td>\n",
       "      <td>adarsh singh adarsh yahoo com kolkata india ww...</td>\n",
       "      <td>0.668222</td>\n",
       "    </tr>\n",
       "  </tbody>\n",
       "</table>\n",
       "<p>299 rows × 5 columns</p>\n",
       "</div>"
      ],
      "text/plain": [
       "     job_id                                        description  user_id  \\\n",
       "0   1373732  mumbai based family office looking hire equity...   209995   \n",
       "1   1373732  mumbai based family office looking hire equity...   882096   \n",
       "2   1373732  mumbai based family office looking hire equity...   761462   \n",
       "3   1373732  mumbai based family office looking hire equity...  2749339   \n",
       "4   1373732  mumbai based family office looking hire equity...     1227   \n",
       "..      ...                                                ...      ...   \n",
       "32  1376033  agm sales need able create vision area execute...  2492721   \n",
       "33  1376033  agm sales need able create vision area execute...  1205250   \n",
       "34  1376033  agm sales need able create vision area execute...  1895984   \n",
       "35  1376033  agm sales need able create vision area execute...  2753323   \n",
       "36  1376033  agm sales need able create vision area execute...  2749129   \n",
       "\n",
       "                                          resume_text    scores  \n",
       "0   akshay pradhan address neelkanth sagar mahatma...  0.645710  \n",
       "1   name mayank kumar gulgulia tel summary cfa usa...  0.690789  \n",
       "2   sahil nandkumar cfa date birth address flat se...  0.673624  \n",
       "3   kushboo jaichand luniya luniya kushboo gmail c...  0.618894  \n",
       "4   sachin jain mba finance city mumbai contact gm...  0.688748  \n",
       "..                                                ...       ...  \n",
       "32  nikhil kumar citizenship indian date birth may...  0.497188  \n",
       "33  krishna kant tiwari male years gmail com summa...  0.662455  \n",
       "34  rajesh yadav rajesh fms edu p account manager ...  0.577546  \n",
       "35  kapil ahuja zonal sales head pharma diagnostic...  0.651153  \n",
       "36  adarsh singh adarsh yahoo com kolkata india ww...  0.668222  \n",
       "\n",
       "[299 rows x 5 columns]"
      ]
     },
     "execution_count": 74,
     "metadata": {},
     "output_type": "execute_result"
    }
   ],
   "source": [
    "result_df"
   ]
  },
  {
   "cell_type": "code",
   "execution_count": 68,
   "id": "8e87ee94-dc4d-4766-bbef-d1e99590e3fc",
   "metadata": {},
   "outputs": [
    {
     "data": {
      "text/html": [
       "<div>\n",
       "<style scoped>\n",
       "    .dataframe tbody tr th:only-of-type {\n",
       "        vertical-align: middle;\n",
       "    }\n",
       "\n",
       "    .dataframe tbody tr th {\n",
       "        vertical-align: top;\n",
       "    }\n",
       "\n",
       "    .dataframe thead th {\n",
       "        text-align: right;\n",
       "    }\n",
       "</style>\n",
       "<table border=\"1\" class=\"dataframe\">\n",
       "  <thead>\n",
       "    <tr style=\"text-align: right;\">\n",
       "      <th></th>\n",
       "      <th>job_id</th>\n",
       "      <th>description</th>\n",
       "      <th>user_id</th>\n",
       "      <th>resume_text</th>\n",
       "      <th>scores</th>\n",
       "    </tr>\n",
       "  </thead>\n",
       "  <tbody>\n",
       "    <tr>\n",
       "      <th>6</th>\n",
       "      <td>1376033</td>\n",
       "      <td>agm sales need able create vision area execute...</td>\n",
       "      <td>524961</td>\n",
       "      <td>bhuwan gaur e mail bhuwan gaur gmail com phone...</td>\n",
       "      <td>0.705685</td>\n",
       "    </tr>\n",
       "    <tr>\n",
       "      <th>36</th>\n",
       "      <td>1376033</td>\n",
       "      <td>agm sales need able create vision area execute...</td>\n",
       "      <td>2749129</td>\n",
       "      <td>adarsh singh adarsh yahoo com kolkata india ww...</td>\n",
       "      <td>0.668222</td>\n",
       "    </tr>\n",
       "    <tr>\n",
       "      <th>2</th>\n",
       "      <td>1376033</td>\n",
       "      <td>agm sales need able create vision area execute...</td>\n",
       "      <td>1780851</td>\n",
       "      <td>ashish sharma people nd upbeat team player rob...</td>\n",
       "      <td>0.664795</td>\n",
       "    </tr>\n",
       "    <tr>\n",
       "      <th>21</th>\n",
       "      <td>1376033</td>\n",
       "      <td>agm sales need able create vision area execute...</td>\n",
       "      <td>907959</td>\n",
       "      <td>sumit arora regency park dlf phase gurugram ph...</td>\n",
       "      <td>0.663189</td>\n",
       "    </tr>\n",
       "    <tr>\n",
       "      <th>33</th>\n",
       "      <td>1376033</td>\n",
       "      <td>agm sales need able create vision area execute...</td>\n",
       "      <td>1205250</td>\n",
       "      <td>krishna kant tiwari male years gmail com summa...</td>\n",
       "      <td>0.662455</td>\n",
       "    </tr>\n",
       "    <tr>\n",
       "      <th>22</th>\n",
       "      <td>1376033</td>\n",
       "      <td>agm sales need able create vision area execute...</td>\n",
       "      <td>1186436</td>\n",
       "      <td>profile summary orchestrated transformative st...</td>\n",
       "      <td>0.652720</td>\n",
       "    </tr>\n",
       "    <tr>\n",
       "      <th>35</th>\n",
       "      <td>1376033</td>\n",
       "      <td>agm sales need able create vision area execute...</td>\n",
       "      <td>2753323</td>\n",
       "      <td>kapil ahuja zonal sales head pharma diagnostic...</td>\n",
       "      <td>0.651153</td>\n",
       "    </tr>\n",
       "    <tr>\n",
       "      <th>10</th>\n",
       "      <td>1376033</td>\n",
       "      <td>agm sales need able create vision area execute...</td>\n",
       "      <td>218753</td>\n",
       "      <td>amar nath lalka male dob aug yahoo co executiv...</td>\n",
       "      <td>0.632726</td>\n",
       "    </tr>\n",
       "    <tr>\n",
       "      <th>17</th>\n",
       "      <td>1376033</td>\n",
       "      <td>agm sales need able create vision area execute...</td>\n",
       "      <td>724066</td>\n",
       "      <td>sachin chauhan performance driven professional...</td>\n",
       "      <td>0.630560</td>\n",
       "    </tr>\n",
       "    <tr>\n",
       "      <th>26</th>\n",
       "      <td>1376033</td>\n",
       "      <td>agm sales need able create vision area execute...</td>\n",
       "      <td>1409593</td>\n",
       "      <td>page operations attrition recruitment training...</td>\n",
       "      <td>0.620907</td>\n",
       "    </tr>\n",
       "    <tr>\n",
       "      <th>9</th>\n",
       "      <td>1376033</td>\n",
       "      <td>agm sales need able create vision area execute...</td>\n",
       "      <td>972268</td>\n",
       "      <td>core competencies soft skills strategic busine...</td>\n",
       "      <td>0.612299</td>\n",
       "    </tr>\n",
       "    <tr>\n",
       "      <th>0</th>\n",
       "      <td>1376033</td>\n",
       "      <td>agm sales need able create vision area execute...</td>\n",
       "      <td>238941</td>\n",
       "      <td>prateek gupta linkedin prateek fms edu profess...</td>\n",
       "      <td>0.597080</td>\n",
       "    </tr>\n",
       "    <tr>\n",
       "      <th>14</th>\n",
       "      <td>1376033</td>\n",
       "      <td>agm sales need able create vision area execute...</td>\n",
       "      <td>1181133</td>\n",
       "      <td>ankit narula astute curious ambitious action o...</td>\n",
       "      <td>0.596459</td>\n",
       "    </tr>\n",
       "    <tr>\n",
       "      <th>28</th>\n",
       "      <td>1376033</td>\n",
       "      <td>agm sales need able create vision area execute...</td>\n",
       "      <td>2265321</td>\n",
       "      <td>march imcjob deepak sharma channel sales distr...</td>\n",
       "      <td>0.588826</td>\n",
       "    </tr>\n",
       "    <tr>\n",
       "      <th>25</th>\n",
       "      <td>1376033</td>\n",
       "      <td>agm sales need able create vision area execute...</td>\n",
       "      <td>1918487</td>\n",
       "      <td>rakshit khandelwal email gmail com mobile numb...</td>\n",
       "      <td>0.580728</td>\n",
       "    </tr>\n",
       "    <tr>\n",
       "      <th>34</th>\n",
       "      <td>1376033</td>\n",
       "      <td>agm sales need able create vision area execute...</td>\n",
       "      <td>1895984</td>\n",
       "      <td>rajesh yadav rajesh fms edu p account manager ...</td>\n",
       "      <td>0.577546</td>\n",
       "    </tr>\n",
       "    <tr>\n",
       "      <th>7</th>\n",
       "      <td>1376033</td>\n",
       "      <td>agm sales need able create vision area execute...</td>\n",
       "      <td>285310</td>\n",
       "      <td>g r ladhani bhagat singh colony near nirmala s...</td>\n",
       "      <td>0.572985</td>\n",
       "    </tr>\n",
       "    <tr>\n",
       "      <th>16</th>\n",
       "      <td>1376033</td>\n",
       "      <td>agm sales need able create vision area execute...</td>\n",
       "      <td>161832</td>\n",
       "      <td>rahul sharma h e f l e details faridabad india...</td>\n",
       "      <td>0.572680</td>\n",
       "    </tr>\n",
       "    <tr>\n",
       "      <th>31</th>\n",
       "      <td>1376033</td>\n",
       "      <td>agm sales need able create vision area execute...</td>\n",
       "      <td>2789031</td>\n",
       "      <td>sudeep kumar singh gmail com experienced sales...</td>\n",
       "      <td>0.572000</td>\n",
       "    </tr>\n",
       "    <tr>\n",
       "      <th>18</th>\n",
       "      <td>1376033</td>\n",
       "      <td>agm sales need able create vision area execute...</td>\n",
       "      <td>7518</td>\n",
       "      <td>work history biswanath dalai accomplished lead...</td>\n",
       "      <td>0.568982</td>\n",
       "    </tr>\n",
       "    <tr>\n",
       "      <th>12</th>\n",
       "      <td>1376033</td>\n",
       "      <td>agm sales need able create vision area execute...</td>\n",
       "      <td>2462583</td>\n",
       "      <td>gurupreet singh makkar gurupreet gmail com sal...</td>\n",
       "      <td>0.568328</td>\n",
       "    </tr>\n",
       "    <tr>\n",
       "      <th>3</th>\n",
       "      <td>1376033</td>\n",
       "      <td>agm sales need able create vision area execute...</td>\n",
       "      <td>1533484</td>\n",
       "      <td>abhinesh anand gmail com abhinesh anand summar...</td>\n",
       "      <td>0.559886</td>\n",
       "    </tr>\n",
       "    <tr>\n",
       "      <th>24</th>\n",
       "      <td>1376033</td>\n",
       "      <td>agm sales need able create vision area execute...</td>\n",
       "      <td>567843</td>\n",
       "      <td>soft skills communication skills leadership te...</td>\n",
       "      <td>0.557115</td>\n",
       "    </tr>\n",
       "    <tr>\n",
       "      <th>29</th>\n",
       "      <td>1376033</td>\n",
       "      <td>agm sales need able create vision area execute...</td>\n",
       "      <td>598438</td>\n",
       "      <td>kumar dhananjay rakesh open work new delhi del...</td>\n",
       "      <td>0.552976</td>\n",
       "    </tr>\n",
       "    <tr>\n",
       "      <th>8</th>\n",
       "      <td>1376033</td>\n",
       "      <td>agm sales need able create vision area execute...</td>\n",
       "      <td>545221</td>\n",
       "      <td>joel mathew experienced pnl leader setting bus...</td>\n",
       "      <td>0.551894</td>\n",
       "    </tr>\n",
       "    <tr>\n",
       "      <th>1</th>\n",
       "      <td>1376033</td>\n",
       "      <td>agm sales need able create vision area execute...</td>\n",
       "      <td>1723856</td>\n",
       "      <td>pawan pundhir phone e mail pawanpundhir gmail ...</td>\n",
       "      <td>0.543548</td>\n",
       "    </tr>\n",
       "    <tr>\n",
       "      <th>13</th>\n",
       "      <td>1376033</td>\n",
       "      <td>agm sales need able create vision area execute...</td>\n",
       "      <td>1480843</td>\n",
       "      <td>shubham srivastava iim udaipur amp nit allahab...</td>\n",
       "      <td>0.525750</td>\n",
       "    </tr>\n",
       "    <tr>\n",
       "      <th>27</th>\n",
       "      <td>1376033</td>\n",
       "      <td>agm sales need able create vision area execute...</td>\n",
       "      <td>44472</td>\n",
       "      <td>kulpam peshin cont kulpam gmail com iim indore...</td>\n",
       "      <td>0.525538</td>\n",
       "    </tr>\n",
       "    <tr>\n",
       "      <th>23</th>\n",
       "      <td>1376033</td>\n",
       "      <td>agm sales need able create vision area execute...</td>\n",
       "      <td>107655</td>\n",
       "      <td>aritra bhattacharya fintech fmcg telecom enter...</td>\n",
       "      <td>0.520285</td>\n",
       "    </tr>\n",
       "    <tr>\n",
       "      <th>4</th>\n",
       "      <td>1376033</td>\n",
       "      <td>agm sales need able create vision area execute...</td>\n",
       "      <td>1286631</td>\n",
       "      <td>r v n u b r n n g happy windows kattupakkam ch...</td>\n",
       "      <td>0.506952</td>\n",
       "    </tr>\n",
       "    <tr>\n",
       "      <th>15</th>\n",
       "      <td>1376033</td>\n",
       "      <td>agm sales need able create vision area execute...</td>\n",
       "      <td>289276</td>\n",
       "      <td>tarun hans contact e mail gmail com profile su...</td>\n",
       "      <td>0.503927</td>\n",
       "    </tr>\n",
       "    <tr>\n",
       "      <th>5</th>\n",
       "      <td>1376033</td>\n",
       "      <td>agm sales need able create vision area execute...</td>\n",
       "      <td>89101</td>\n",
       "      <td>kapil kumar mobile email kapil gmail com visio...</td>\n",
       "      <td>0.503608</td>\n",
       "    </tr>\n",
       "    <tr>\n",
       "      <th>32</th>\n",
       "      <td>1376033</td>\n",
       "      <td>agm sales need able create vision area execute...</td>\n",
       "      <td>2492721</td>\n",
       "      <td>nikhil kumar citizenship indian date birth may...</td>\n",
       "      <td>0.497188</td>\n",
       "    </tr>\n",
       "    <tr>\n",
       "      <th>19</th>\n",
       "      <td>1376033</td>\n",
       "      <td>agm sales need able create vision area execute...</td>\n",
       "      <td>1648670</td>\n",
       "      <td>rahul kumar mandal contact email bapi rahul gm...</td>\n",
       "      <td>0.475048</td>\n",
       "    </tr>\n",
       "    <tr>\n",
       "      <th>20</th>\n",
       "      <td>1376033</td>\n",
       "      <td>agm sales need able create vision area execute...</td>\n",
       "      <td>1660316</td>\n",
       "      <td>vijendrasinh chavda business development marke...</td>\n",
       "      <td>0.473750</td>\n",
       "    </tr>\n",
       "    <tr>\n",
       "      <th>30</th>\n",
       "      <td>1376033</td>\n",
       "      <td>agm sales need able create vision area execute...</td>\n",
       "      <td>68358</td>\n",
       "      <td>aparmaya shukla address flat salarpuria sympho...</td>\n",
       "      <td>0.453994</td>\n",
       "    </tr>\n",
       "    <tr>\n",
       "      <th>11</th>\n",
       "      <td>1376033</td>\n",
       "      <td>agm sales need able create vision area execute...</td>\n",
       "      <td>157639</td>\n",
       "      <td>jay pandey phone email jay yahoo com academic ...</td>\n",
       "      <td>0.389850</td>\n",
       "    </tr>\n",
       "  </tbody>\n",
       "</table>\n",
       "</div>"
      ],
      "text/plain": [
       "     job_id                                        description  user_id  \\\n",
       "6   1376033  agm sales need able create vision area execute...   524961   \n",
       "36  1376033  agm sales need able create vision area execute...  2749129   \n",
       "2   1376033  agm sales need able create vision area execute...  1780851   \n",
       "21  1376033  agm sales need able create vision area execute...   907959   \n",
       "33  1376033  agm sales need able create vision area execute...  1205250   \n",
       "22  1376033  agm sales need able create vision area execute...  1186436   \n",
       "35  1376033  agm sales need able create vision area execute...  2753323   \n",
       "10  1376033  agm sales need able create vision area execute...   218753   \n",
       "17  1376033  agm sales need able create vision area execute...   724066   \n",
       "26  1376033  agm sales need able create vision area execute...  1409593   \n",
       "9   1376033  agm sales need able create vision area execute...   972268   \n",
       "0   1376033  agm sales need able create vision area execute...   238941   \n",
       "14  1376033  agm sales need able create vision area execute...  1181133   \n",
       "28  1376033  agm sales need able create vision area execute...  2265321   \n",
       "25  1376033  agm sales need able create vision area execute...  1918487   \n",
       "34  1376033  agm sales need able create vision area execute...  1895984   \n",
       "7   1376033  agm sales need able create vision area execute...   285310   \n",
       "16  1376033  agm sales need able create vision area execute...   161832   \n",
       "31  1376033  agm sales need able create vision area execute...  2789031   \n",
       "18  1376033  agm sales need able create vision area execute...     7518   \n",
       "12  1376033  agm sales need able create vision area execute...  2462583   \n",
       "3   1376033  agm sales need able create vision area execute...  1533484   \n",
       "24  1376033  agm sales need able create vision area execute...   567843   \n",
       "29  1376033  agm sales need able create vision area execute...   598438   \n",
       "8   1376033  agm sales need able create vision area execute...   545221   \n",
       "1   1376033  agm sales need able create vision area execute...  1723856   \n",
       "13  1376033  agm sales need able create vision area execute...  1480843   \n",
       "27  1376033  agm sales need able create vision area execute...    44472   \n",
       "23  1376033  agm sales need able create vision area execute...   107655   \n",
       "4   1376033  agm sales need able create vision area execute...  1286631   \n",
       "15  1376033  agm sales need able create vision area execute...   289276   \n",
       "5   1376033  agm sales need able create vision area execute...    89101   \n",
       "32  1376033  agm sales need able create vision area execute...  2492721   \n",
       "19  1376033  agm sales need able create vision area execute...  1648670   \n",
       "20  1376033  agm sales need able create vision area execute...  1660316   \n",
       "30  1376033  agm sales need able create vision area execute...    68358   \n",
       "11  1376033  agm sales need able create vision area execute...   157639   \n",
       "\n",
       "                                          resume_text    scores  \n",
       "6   bhuwan gaur e mail bhuwan gaur gmail com phone...  0.705685  \n",
       "36  adarsh singh adarsh yahoo com kolkata india ww...  0.668222  \n",
       "2   ashish sharma people nd upbeat team player rob...  0.664795  \n",
       "21  sumit arora regency park dlf phase gurugram ph...  0.663189  \n",
       "33  krishna kant tiwari male years gmail com summa...  0.662455  \n",
       "22  profile summary orchestrated transformative st...  0.652720  \n",
       "35  kapil ahuja zonal sales head pharma diagnostic...  0.651153  \n",
       "10  amar nath lalka male dob aug yahoo co executiv...  0.632726  \n",
       "17  sachin chauhan performance driven professional...  0.630560  \n",
       "26  page operations attrition recruitment training...  0.620907  \n",
       "9   core competencies soft skills strategic busine...  0.612299  \n",
       "0   prateek gupta linkedin prateek fms edu profess...  0.597080  \n",
       "14  ankit narula astute curious ambitious action o...  0.596459  \n",
       "28  march imcjob deepak sharma channel sales distr...  0.588826  \n",
       "25  rakshit khandelwal email gmail com mobile numb...  0.580728  \n",
       "34  rajesh yadav rajesh fms edu p account manager ...  0.577546  \n",
       "7   g r ladhani bhagat singh colony near nirmala s...  0.572985  \n",
       "16  rahul sharma h e f l e details faridabad india...  0.572680  \n",
       "31  sudeep kumar singh gmail com experienced sales...  0.572000  \n",
       "18  work history biswanath dalai accomplished lead...  0.568982  \n",
       "12  gurupreet singh makkar gurupreet gmail com sal...  0.568328  \n",
       "3   abhinesh anand gmail com abhinesh anand summar...  0.559886  \n",
       "24  soft skills communication skills leadership te...  0.557115  \n",
       "29  kumar dhananjay rakesh open work new delhi del...  0.552976  \n",
       "8   joel mathew experienced pnl leader setting bus...  0.551894  \n",
       "1   pawan pundhir phone e mail pawanpundhir gmail ...  0.543548  \n",
       "13  shubham srivastava iim udaipur amp nit allahab...  0.525750  \n",
       "27  kulpam peshin cont kulpam gmail com iim indore...  0.525538  \n",
       "23  aritra bhattacharya fintech fmcg telecom enter...  0.520285  \n",
       "4   r v n u b r n n g happy windows kattupakkam ch...  0.506952  \n",
       "15  tarun hans contact e mail gmail com profile su...  0.503927  \n",
       "5   kapil kumar mobile email kapil gmail com visio...  0.503608  \n",
       "32  nikhil kumar citizenship indian date birth may...  0.497188  \n",
       "19  rahul kumar mandal contact email bapi rahul gm...  0.475048  \n",
       "20  vijendrasinh chavda business development marke...  0.473750  \n",
       "30  aparmaya shukla address flat salarpuria sympho...  0.453994  \n",
       "11  jay pandey phone email jay yahoo com academic ...  0.389850  "
      ]
     },
     "execution_count": 68,
     "metadata": {},
     "output_type": "execute_result"
    }
   ],
   "source": [
    "result_df.loc[result_df['job_id']==1376033].sort_values(['scores'],ascending=False)"
   ]
  },
  {
   "cell_type": "code",
   "execution_count": 70,
   "id": "e631e0d5-e1a7-471d-bc30-b659514a0e02",
   "metadata": {},
   "outputs": [],
   "source": [
    "# result_df.to_csv('../../examples/relevant_jobs_classification/data/score_result_v1.csv',index=False)"
   ]
  },
  {
   "cell_type": "code",
   "execution_count": 71,
   "id": "0e9023ab-cd39-4255-928d-74293c60d102",
   "metadata": {},
   "outputs": [
    {
     "data": {
      "text/plain": [
       "[1373732,\n",
       " 1373755,\n",
       " 1373879,\n",
       " 1373929,\n",
       " 1374956,\n",
       " 1374981,\n",
       " 1375026,\n",
       " 1375642,\n",
       " 1376033]"
      ]
     },
     "execution_count": 71,
     "metadata": {},
     "output_type": "execute_result"
    }
   ],
   "source": []
  },
  {
   "cell_type": "code",
   "execution_count": 72,
   "id": "5ec11760-ce0d-4999-b6c5-6891ebc19ac8",
   "metadata": {},
   "outputs": [
    {
     "data": {
      "text/plain": [
       "array([1373732, 1373755, 1373879, 1373929, 1374956, 1374981, 1375026,\n",
       "       1375642, 1376033])"
      ]
     },
     "execution_count": 72,
     "metadata": {},
     "output_type": "execute_result"
    }
   ],
   "source": [
    "\n",
    "result_df.job_id.unique()"
   ]
  },
  {
   "cell_type": "code",
   "execution_count": 73,
   "id": "3ba6c279-0a95-4e44-8600-6c698e2a31aa",
   "metadata": {},
   "outputs": [],
   "source": [
    "# jid_list= [1375026,1374956,1373879,1374981,1374473,1376033,1375642,1373929,1373732,1373755]"
   ]
  },
  {
   "cell_type": "code",
   "execution_count": 79,
   "id": "e7b9db21-5a96-4577-b33d-4644a1139def",
   "metadata": {},
   "outputs": [
    {
     "data": {
      "text/plain": [
       "1376033"
      ]
     },
     "execution_count": 79,
     "metadata": {},
     "output_type": "execute_result"
    }
   ],
   "source": [
    "result_df.job_id.sample().unique()[0]"
   ]
  },
  {
   "cell_type": "code",
   "execution_count": null,
   "id": "d737ff18-a784-4534-8318-86fd4964b03b",
   "metadata": {},
   "outputs": [],
   "source": []
  },
  {
   "cell_type": "code",
   "execution_count": null,
   "id": "ea5e55c2-bd04-4fb8-8ad3-a5e3839dab48",
   "metadata": {},
   "outputs": [],
   "source": []
  },
  {
   "cell_type": "code",
   "execution_count": null,
   "id": "86fb7c66-a023-4b2f-aef3-266b0a8edf3e",
   "metadata": {},
   "outputs": [],
   "source": []
  },
  {
   "cell_type": "code",
   "execution_count": 84,
   "id": "b0fcd48c-efa2-4d99-9da2-e6bac075b943",
   "metadata": {},
   "outputs": [],
   "source": [
    "def do_something():\n",
    "    jid = result_df.job_id.sample().unique()[0]\n",
    "    job_df = fetch_jobs(str(jid))\n",
    "    uid_list = result_df.loc[result_df['job_id']==jid].user_id\n",
    "    return job_df"
   ]
  },
  {
   "cell_type": "code",
   "execution_count": 87,
   "id": "5acd42a7-c1d0-478e-b73d-e82b14c75850",
   "metadata": {},
   "outputs": [],
   "source": [
    "d = do_something()"
   ]
  },
  {
   "cell_type": "code",
   "execution_count": 88,
   "id": "d4b70e73-b6fb-46d5-bede-544001f9a921",
   "metadata": {},
   "outputs": [
    {
     "data": {
      "text/html": [
       "<div>\n",
       "<style scoped>\n",
       "    .dataframe tbody tr th:only-of-type {\n",
       "        vertical-align: middle;\n",
       "    }\n",
       "\n",
       "    .dataframe tbody tr th {\n",
       "        vertical-align: top;\n",
       "    }\n",
       "\n",
       "    .dataframe thead th {\n",
       "        text-align: right;\n",
       "    }\n",
       "</style>\n",
       "<table border=\"1\" class=\"dataframe\">\n",
       "  <thead>\n",
       "    <tr style=\"text-align: right;\">\n",
       "      <th></th>\n",
       "      <th>id</th>\n",
       "      <th>title</th>\n",
       "      <th>tags</th>\n",
       "    </tr>\n",
       "  </thead>\n",
       "  <tbody>\n",
       "    <tr>\n",
       "      <th>0</th>\n",
       "      <td>1374956</td>\n",
       "      <td>Director - Education &amp; Government Consulting (...</td>\n",
       "      <td>[{'id': 625, 'name': 'Consulting - eGov/PSU', ...</td>\n",
       "    </tr>\n",
       "  </tbody>\n",
       "</table>\n",
       "</div>"
      ],
      "text/plain": [
       "        id                                              title  \\\n",
       "0  1374956  Director - Education & Government Consulting (...   \n",
       "\n",
       "                                                tags  \n",
       "0  [{'id': 625, 'name': 'Consulting - eGov/PSU', ...  "
      ]
     },
     "execution_count": 88,
     "metadata": {},
     "output_type": "execute_result"
    }
   ],
   "source": [
    "d"
   ]
  },
  {
   "cell_type": "code",
   "execution_count": 90,
   "id": "5b953c46-fba6-4ec2-a0d0-09a8f91b0a07",
   "metadata": {},
   "outputs": [
    {
     "data": {
      "text/plain": [
       "[238941,\n",
       " 1723856,\n",
       " 1780851,\n",
       " 1533484,\n",
       " 1286631,\n",
       " 89101,\n",
       " 524961,\n",
       " 285310,\n",
       " 545221,\n",
       " 972268,\n",
       " 218753,\n",
       " 157639,\n",
       " 2462583,\n",
       " 1480843,\n",
       " 1181133,\n",
       " 289276,\n",
       " 161832,\n",
       " 724066,\n",
       " 7518,\n",
       " 1648670,\n",
       " 1660316,\n",
       " 907959,\n",
       " 1186436,\n",
       " 107655,\n",
       " 567843,\n",
       " 1918487,\n",
       " 1409593,\n",
       " 44472,\n",
       " 2265321,\n",
       " 598438,\n",
       " 68358,\n",
       " 2789031,\n",
       " 2492721,\n",
       " 1205250,\n",
       " 1895984,\n",
       " 2753323,\n",
       " 2749129]"
      ]
     },
     "execution_count": 90,
     "metadata": {},
     "output_type": "execute_result"
    }
   ],
   "source": [
    "list(result_df.loc[result_df['job_id']==jid].user_id)"
   ]
  },
  {
   "cell_type": "code",
   "execution_count": null,
   "id": "e6fb3f56-5127-494e-8a34-7d38d7b0fada",
   "metadata": {},
   "outputs": [],
   "source": []
  }
 ],
 "metadata": {
  "kernelspec": {
   "display_name": "Python 3 (ipykernel)",
   "language": "python",
   "name": "python3"
  },
  "language_info": {
   "codemirror_mode": {
    "name": "ipython",
    "version": 3
   },
   "file_extension": ".py",
   "mimetype": "text/x-python",
   "name": "python",
   "nbconvert_exporter": "python",
   "pygments_lexer": "ipython3",
   "version": "3.10.12"
  }
 },
 "nbformat": 4,
 "nbformat_minor": 5
}
