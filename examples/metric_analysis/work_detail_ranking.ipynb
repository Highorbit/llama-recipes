{
 "cells": [
  {
   "cell_type": "code",
   "execution_count": 16,
   "id": "dad556a4-a242-46e0-9b9c-374f583fcdcb",
   "metadata": {},
   "outputs": [],
   "source": [
    "import json\n",
    "import pandas as pd\n",
    "from tqdm import tqdm"
   ]
  },
  {
   "cell_type": "code",
   "execution_count": 2,
   "id": "fa396851-ea51-4669-ac12-dcf42ddd223d",
   "metadata": {},
   "outputs": [],
   "source": [
    "with open('../../examples/relevant_jobs_classification/data/test_converted.json','r') as f:\n",
    "    data = json.load(f)"
   ]
  },
  {
   "cell_type": "code",
   "execution_count": 3,
   "id": "a31a3e87-58bb-43fc-b4a8-267605b7f7da",
   "metadata": {},
   "outputs": [],
   "source": [
    "# data"
   ]
  },
  {
   "cell_type": "code",
   "execution_count": 44,
   "id": "1ceaaa49-c3c3-450e-8325-58b91dddfb19",
   "metadata": {},
   "outputs": [],
   "source": [
    "df =pd.read_csv('../../examples/relevant_jobs_classification/data/analysis_dataset.csv')"
   ]
  },
  {
   "cell_type": "code",
   "execution_count": 45,
   "id": "68e5b211-c954-4d0c-9fef-38f63e9babc1",
   "metadata": {},
   "outputs": [
    {
     "data": {
      "text/html": [
       "<div>\n",
       "<style scoped>\n",
       "    .dataframe tbody tr th:only-of-type {\n",
       "        vertical-align: middle;\n",
       "    }\n",
       "\n",
       "    .dataframe tbody tr th {\n",
       "        vertical-align: top;\n",
       "    }\n",
       "\n",
       "    .dataframe thead th {\n",
       "        text-align: right;\n",
       "    }\n",
       "</style>\n",
       "<table border=\"1\" class=\"dataframe\">\n",
       "  <thead>\n",
       "    <tr style=\"text-align: right;\">\n",
       "      <th></th>\n",
       "      <th>job_id</th>\n",
       "      <th>application_id</th>\n",
       "      <th>user_id</th>\n",
       "    </tr>\n",
       "  </thead>\n",
       "  <tbody>\n",
       "    <tr>\n",
       "      <th>0</th>\n",
       "      <td>1373681</td>\n",
       "      <td>144274567</td>\n",
       "      <td>439042</td>\n",
       "    </tr>\n",
       "    <tr>\n",
       "      <th>1</th>\n",
       "      <td>1373681</td>\n",
       "      <td>144261479</td>\n",
       "      <td>2015063</td>\n",
       "    </tr>\n",
       "    <tr>\n",
       "      <th>2</th>\n",
       "      <td>1373681</td>\n",
       "      <td>144253966</td>\n",
       "      <td>2777927</td>\n",
       "    </tr>\n",
       "    <tr>\n",
       "      <th>3</th>\n",
       "      <td>1373681</td>\n",
       "      <td>144241259</td>\n",
       "      <td>58130</td>\n",
       "    </tr>\n",
       "    <tr>\n",
       "      <th>4</th>\n",
       "      <td>1373681</td>\n",
       "      <td>144236812</td>\n",
       "      <td>2290933</td>\n",
       "    </tr>\n",
       "    <tr>\n",
       "      <th>...</th>\n",
       "      <td>...</td>\n",
       "      <td>...</td>\n",
       "      <td>...</td>\n",
       "    </tr>\n",
       "    <tr>\n",
       "      <th>136248</th>\n",
       "      <td>1376058</td>\n",
       "      <td>144442227</td>\n",
       "      <td>2151474</td>\n",
       "    </tr>\n",
       "    <tr>\n",
       "      <th>136249</th>\n",
       "      <td>1375030</td>\n",
       "      <td>144442249</td>\n",
       "      <td>1463255</td>\n",
       "    </tr>\n",
       "    <tr>\n",
       "      <th>136250</th>\n",
       "      <td>1373682</td>\n",
       "      <td>144442251</td>\n",
       "      <td>2601930</td>\n",
       "    </tr>\n",
       "    <tr>\n",
       "      <th>136251</th>\n",
       "      <td>1376582</td>\n",
       "      <td>144442257</td>\n",
       "      <td>1417492</td>\n",
       "    </tr>\n",
       "    <tr>\n",
       "      <th>136252</th>\n",
       "      <td>1376693</td>\n",
       "      <td>144442256</td>\n",
       "      <td>1835665</td>\n",
       "    </tr>\n",
       "  </tbody>\n",
       "</table>\n",
       "<p>136253 rows × 3 columns</p>\n",
       "</div>"
      ],
      "text/plain": [
       "         job_id  application_id  user_id\n",
       "0       1373681       144274567   439042\n",
       "1       1373681       144261479  2015063\n",
       "2       1373681       144253966  2777927\n",
       "3       1373681       144241259    58130\n",
       "4       1373681       144236812  2290933\n",
       "...         ...             ...      ...\n",
       "136248  1376058       144442227  2151474\n",
       "136249  1375030       144442249  1463255\n",
       "136250  1373682       144442251  2601930\n",
       "136251  1376582       144442257  1417492\n",
       "136252  1376693       144442256  1835665\n",
       "\n",
       "[136253 rows x 3 columns]"
      ]
     },
     "execution_count": 45,
     "metadata": {},
     "output_type": "execute_result"
    }
   ],
   "source": [
    "df"
   ]
  },
  {
   "cell_type": "code",
   "execution_count": 60,
   "id": "9714b2b5-2581-4048-9e7e-486338de6637",
   "metadata": {},
   "outputs": [],
   "source": [
    "df['user_id']=df['user_id'].astype(int)"
   ]
  },
  {
   "cell_type": "code",
   "execution_count": 61,
   "id": "999ee0d5-3a7e-4e75-9b54-0c2a5a3ebdf0",
   "metadata": {},
   "outputs": [
    {
     "data": {
      "text/plain": [
       "job_id            int64\n",
       "application_id    int64\n",
       "user_id           int64\n",
       "dtype: object"
      ]
     },
     "execution_count": 61,
     "metadata": {},
     "output_type": "execute_result"
    }
   ],
   "source": [
    "df.dtypes"
   ]
  },
  {
   "cell_type": "code",
   "execution_count": 8,
   "id": "2fe01f28-d66d-4cca-89fd-c0ce4d95abe0",
   "metadata": {},
   "outputs": [],
   "source": [
    "uid_list = list(data.keys())[:5]"
   ]
  },
  {
   "cell_type": "code",
   "execution_count": 42,
   "id": "3048e16a-3e7d-46c0-9d3e-773688ba9c57",
   "metadata": {},
   "outputs": [],
   "source": [
    "# data"
   ]
  },
  {
   "cell_type": "code",
   "execution_count": 71,
   "id": "69a67c38-8668-4e00-a20f-959e92d011f8",
   "metadata": {},
   "outputs": [
    {
     "name": "stderr",
     "output_type": "stream",
     "text": [
      "100%|██████████████████████████████████████████████████████████████████████████████████████████████████████████████████████████████████| 389/389 [00:00<00:00, 575514.73it/s]\n"
     ]
    }
   ],
   "source": [
    "df_list = []\n",
    "\n",
    "for id, desc in tqdm(data.items()):\n",
    "    try:\n",
    "        descriptions = \"; \".join([exp['description'] for exp in desc])\n",
    "        df_list.append({'id': id, 'descriptions': descriptions})\n",
    "    except Exception as e:\n",
    "        # print(e)\n",
    "        continue\n",
    "\n",
    "udf = pd.DataFrame(df_list)"
   ]
  },
  {
   "cell_type": "code",
   "execution_count": 72,
   "id": "be6c1be9-15bb-4563-89db-4213748c79ba",
   "metadata": {},
   "outputs": [
    {
     "data": {
      "text/html": [
       "<div>\n",
       "<style scoped>\n",
       "    .dataframe tbody tr th:only-of-type {\n",
       "        vertical-align: middle;\n",
       "    }\n",
       "\n",
       "    .dataframe tbody tr th {\n",
       "        vertical-align: top;\n",
       "    }\n",
       "\n",
       "    .dataframe thead th {\n",
       "        text-align: right;\n",
       "    }\n",
       "</style>\n",
       "<table border=\"1\" class=\"dataframe\">\n",
       "  <thead>\n",
       "    <tr style=\"text-align: right;\">\n",
       "      <th></th>\n",
       "      <th>id</th>\n",
       "      <th>descriptions</th>\n",
       "    </tr>\n",
       "  </thead>\n",
       "  <tbody>\n",
       "    <tr>\n",
       "      <th>0</th>\n",
       "      <td>209995</td>\n",
       "      <td>Initiating Coverage and tracking companies wit...</td>\n",
       "    </tr>\n",
       "    <tr>\n",
       "      <th>1</th>\n",
       "      <td>882096</td>\n",
       "      <td>Tracking Banking sector with 25 stocks uneer a...</td>\n",
       "    </tr>\n",
       "    <tr>\n",
       "      <th>2</th>\n",
       "      <td>761462</td>\n",
       "      <td>Part of 4-member investment team of a sector a...</td>\n",
       "    </tr>\n",
       "    <tr>\n",
       "      <th>3</th>\n",
       "      <td>2749339</td>\n",
       "      <td>Independently raised INR 10 Cr for early-stage...</td>\n",
       "    </tr>\n",
       "    <tr>\n",
       "      <th>4</th>\n",
       "      <td>1227</td>\n",
       "      <td>Setting up the Family office / Treasury Head /...</td>\n",
       "    </tr>\n",
       "    <tr>\n",
       "      <th>...</th>\n",
       "      <td>...</td>\n",
       "      <td>...</td>\n",
       "    </tr>\n",
       "    <tr>\n",
       "      <th>302</th>\n",
       "      <td>2700303</td>\n",
       "      <td>Preparing Job descriptions in consultation wit...</td>\n",
       "    </tr>\n",
       "    <tr>\n",
       "      <th>303</th>\n",
       "      <td>1968051</td>\n",
       "      <td>Continuous monitoring and preparation of COP w...</td>\n",
       "    </tr>\n",
       "    <tr>\n",
       "      <th>304</th>\n",
       "      <td>2754531</td>\n",
       "      <td>Zero Based Budgeting and Overhead control- Act...</td>\n",
       "    </tr>\n",
       "    <tr>\n",
       "      <th>305</th>\n",
       "      <td>2753323</td>\n",
       "      <td>Oversaw sales and marketing in entire North In...</td>\n",
       "    </tr>\n",
       "    <tr>\n",
       "      <th>306</th>\n",
       "      <td>2749129</td>\n",
       "      <td>Expanded portfolio size to 240 CR, leading a t...</td>\n",
       "    </tr>\n",
       "  </tbody>\n",
       "</table>\n",
       "<p>307 rows × 2 columns</p>\n",
       "</div>"
      ],
      "text/plain": [
       "          id                                       descriptions\n",
       "0     209995  Initiating Coverage and tracking companies wit...\n",
       "1     882096  Tracking Banking sector with 25 stocks uneer a...\n",
       "2     761462  Part of 4-member investment team of a sector a...\n",
       "3    2749339  Independently raised INR 10 Cr for early-stage...\n",
       "4       1227  Setting up the Family office / Treasury Head /...\n",
       "..       ...                                                ...\n",
       "302  2700303  Preparing Job descriptions in consultation wit...\n",
       "303  1968051  Continuous monitoring and preparation of COP w...\n",
       "304  2754531  Zero Based Budgeting and Overhead control- Act...\n",
       "305  2753323  Oversaw sales and marketing in entire North In...\n",
       "306  2749129  Expanded portfolio size to 240 CR, leading a t...\n",
       "\n",
       "[307 rows x 2 columns]"
      ]
     },
     "execution_count": 72,
     "metadata": {},
     "output_type": "execute_result"
    }
   ],
   "source": [
    "udf"
   ]
  },
  {
   "cell_type": "code",
   "execution_count": 73,
   "id": "8f270c9e-fece-42fa-89f8-30afca5e2d22",
   "metadata": {},
   "outputs": [],
   "source": [
    "udf['id']=udf['id'].astype(int)"
   ]
  },
  {
   "cell_type": "code",
   "execution_count": 74,
   "id": "0b2e0fec-1ae0-4d20-9224-7199d508bee8",
   "metadata": {},
   "outputs": [],
   "source": [
    "# df[1:2].descriptions.values"
   ]
  },
  {
   "cell_type": "code",
   "execution_count": 75,
   "id": "e5656637-7bc8-4e55-8453-c1e76085517b",
   "metadata": {},
   "outputs": [],
   "source": [
    "# data['2673538']"
   ]
  },
  {
   "cell_type": "code",
   "execution_count": 76,
   "id": "10aa208d-f093-4fb4-8f13-cf39326ce245",
   "metadata": {},
   "outputs": [
    {
     "data": {
      "text/plain": [
       "id               int64\n",
       "descriptions    object\n",
       "dtype: object"
      ]
     },
     "execution_count": 76,
     "metadata": {},
     "output_type": "execute_result"
    }
   ],
   "source": [
    "udf.dtypes"
   ]
  },
  {
   "cell_type": "code",
   "execution_count": 77,
   "id": "aef1a0af-4c8c-4f5c-b4cf-edf06c6adbce",
   "metadata": {},
   "outputs": [],
   "source": [
    "udlist=list(udf.id)"
   ]
  },
  {
   "cell_type": "code",
   "execution_count": 78,
   "id": "cb574ab7-eff7-43dd-998c-27a3a777fd48",
   "metadata": {},
   "outputs": [
    {
     "data": {
      "text/plain": [
       "307"
      ]
     },
     "execution_count": 78,
     "metadata": {},
     "output_type": "execute_result"
    }
   ],
   "source": [
    "len(udlist)"
   ]
  },
  {
   "cell_type": "code",
   "execution_count": 79,
   "id": "02102bd6-7007-4fb5-86f2-8b4184b31027",
   "metadata": {},
   "outputs": [
    {
     "data": {
      "text/plain": [
       "307"
      ]
     },
     "execution_count": 79,
     "metadata": {},
     "output_type": "execute_result"
    }
   ],
   "source": [
    "df.loc[df['user_id'].isin(udlist)].user_id.nunique()"
   ]
  },
  {
   "cell_type": "code",
   "execution_count": 80,
   "id": "7bb220b5-8d08-4802-8176-8085b9542556",
   "metadata": {},
   "outputs": [
    {
     "data": {
      "text/html": [
       "<div>\n",
       "<style scoped>\n",
       "    .dataframe tbody tr th:only-of-type {\n",
       "        vertical-align: middle;\n",
       "    }\n",
       "\n",
       "    .dataframe tbody tr th {\n",
       "        vertical-align: top;\n",
       "    }\n",
       "\n",
       "    .dataframe thead th {\n",
       "        text-align: right;\n",
       "    }\n",
       "</style>\n",
       "<table border=\"1\" class=\"dataframe\">\n",
       "  <thead>\n",
       "    <tr style=\"text-align: right;\">\n",
       "      <th></th>\n",
       "      <th>job_id</th>\n",
       "      <th>application_id</th>\n",
       "      <th>user_id</th>\n",
       "    </tr>\n",
       "  </thead>\n",
       "  <tbody>\n",
       "    <tr>\n",
       "      <th>47</th>\n",
       "      <td>1373682</td>\n",
       "      <td>144186487</td>\n",
       "      <td>831985</td>\n",
       "    </tr>\n",
       "    <tr>\n",
       "      <th>51</th>\n",
       "      <td>1373682</td>\n",
       "      <td>144174113</td>\n",
       "      <td>36956</td>\n",
       "    </tr>\n",
       "    <tr>\n",
       "      <th>63</th>\n",
       "      <td>1373682</td>\n",
       "      <td>144149169</td>\n",
       "      <td>2432230</td>\n",
       "    </tr>\n",
       "    <tr>\n",
       "      <th>68</th>\n",
       "      <td>1373683</td>\n",
       "      <td>144193247</td>\n",
       "      <td>397888</td>\n",
       "    </tr>\n",
       "    <tr>\n",
       "      <th>80</th>\n",
       "      <td>1373684</td>\n",
       "      <td>144282598</td>\n",
       "      <td>218127</td>\n",
       "    </tr>\n",
       "    <tr>\n",
       "      <th>...</th>\n",
       "      <td>...</td>\n",
       "      <td>...</td>\n",
       "      <td>...</td>\n",
       "    </tr>\n",
       "    <tr>\n",
       "      <th>135895</th>\n",
       "      <td>1376077</td>\n",
       "      <td>144441645</td>\n",
       "      <td>835564</td>\n",
       "    </tr>\n",
       "    <tr>\n",
       "      <th>135901</th>\n",
       "      <td>1376085</td>\n",
       "      <td>144441636</td>\n",
       "      <td>835564</td>\n",
       "    </tr>\n",
       "    <tr>\n",
       "      <th>135910</th>\n",
       "      <td>1376037</td>\n",
       "      <td>144441658</td>\n",
       "      <td>835564</td>\n",
       "    </tr>\n",
       "    <tr>\n",
       "      <th>135912</th>\n",
       "      <td>1375991</td>\n",
       "      <td>144441661</td>\n",
       "      <td>835564</td>\n",
       "    </tr>\n",
       "    <tr>\n",
       "      <th>135921</th>\n",
       "      <td>1376312</td>\n",
       "      <td>144441688</td>\n",
       "      <td>835564</td>\n",
       "    </tr>\n",
       "  </tbody>\n",
       "</table>\n",
       "<p>11959 rows × 3 columns</p>\n",
       "</div>"
      ],
      "text/plain": [
       "         job_id  application_id  user_id\n",
       "47      1373682       144186487   831985\n",
       "51      1373682       144174113    36956\n",
       "63      1373682       144149169  2432230\n",
       "68      1373683       144193247   397888\n",
       "80      1373684       144282598   218127\n",
       "...         ...             ...      ...\n",
       "135895  1376077       144441645   835564\n",
       "135901  1376085       144441636   835564\n",
       "135910  1376037       144441658   835564\n",
       "135912  1375991       144441661   835564\n",
       "135921  1376312       144441688   835564\n",
       "\n",
       "[11959 rows x 3 columns]"
      ]
     },
     "execution_count": 80,
     "metadata": {},
     "output_type": "execute_result"
    }
   ],
   "source": [
    "df.loc[df['user_id'].isin(udlist)]"
   ]
  },
  {
   "cell_type": "code",
   "execution_count": 81,
   "id": "d2e69786-24d9-479d-b6aa-277b96407876",
   "metadata": {},
   "outputs": [
    {
     "data": {
      "text/plain": [
       "30363"
      ]
     },
     "execution_count": 81,
     "metadata": {},
     "output_type": "execute_result"
    }
   ],
   "source": [
    "df.user_id.nunique()"
   ]
  },
  {
   "cell_type": "code",
   "execution_count": null,
   "id": "041b7493-b0e0-432d-9bda-91a21335ecff",
   "metadata": {},
   "outputs": [],
   "source": []
  }
 ],
 "metadata": {
  "kernelspec": {
   "display_name": "Python 3 (ipykernel)",
   "language": "python",
   "name": "python3"
  },
  "language_info": {
   "codemirror_mode": {
    "name": "ipython",
    "version": 3
   },
   "file_extension": ".py",
   "mimetype": "text/x-python",
   "name": "python",
   "nbconvert_exporter": "python",
   "pygments_lexer": "ipython3",
   "version": "3.10.12"
  }
 },
 "nbformat": 4,
 "nbformat_minor": 5
}
