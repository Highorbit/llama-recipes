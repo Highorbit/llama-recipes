{
 "cells": [
  {
   "cell_type": "code",
   "execution_count": 170,
   "id": "d81beed2-1ddc-49ee-a34b-3c6290c65c73",
   "metadata": {},
   "outputs": [
    {
     "name": "stderr",
     "output_type": "stream",
     "text": [
      "[nltk_data] Downloading package wordnet to /home/ubuntu/nltk_data...\n",
      "[nltk_data]   Package wordnet is already up-to-date!\n",
      "[nltk_data] Downloading package stopwords to /home/ubuntu/nltk_data...\n",
      "[nltk_data]   Package stopwords is already up-to-date!\n"
     ]
    }
   ],
   "source": [
    "import pandas as pd\n",
    "import re\n",
    "import string\n",
    "import nltk\n",
    "nltk.download('wordnet')\n",
    "nltk.download('stopwords')\n",
    "from nltk.corpus import stopwords\n",
    "stop = stopwords.words('english')"
   ]
  },
  {
   "cell_type": "code",
   "execution_count": 2,
   "id": "ceecfbd9-5531-4b37-a073-d3909ff175a6",
   "metadata": {},
   "outputs": [],
   "source": [
    "# df = pd.read_csv('../custom_data/metric_data/final_job_list.csv')\n"
   ]
  },
  {
   "cell_type": "code",
   "execution_count": 3,
   "id": "e5084b19-9a81-4870-8233-27bf94526c6b",
   "metadata": {},
   "outputs": [],
   "source": [
    "# uj_map = pd.read_csv('../custom_data/metric_data/user_job_mapping.csv')"
   ]
  },
  {
   "cell_type": "code",
   "execution_count": 36,
   "id": "03542a11-08c3-4488-844a-1d640c632af9",
   "metadata": {},
   "outputs": [],
   "source": [
    "df =pd.read_csv('../custom_data/metric_data/analysis_set.csv')"
   ]
  },
  {
   "cell_type": "code",
   "execution_count": 28,
   "id": "a098a777-d594-4afb-95d8-524b3091c9b3",
   "metadata": {},
   "outputs": [],
   "source": [
    "# jd_list = list(df.job_id)"
   ]
  },
  {
   "cell_type": "code",
   "execution_count": 29,
   "id": "900f49a4-a59b-4b05-b7c0-ecad1cfd1e6a",
   "metadata": {},
   "outputs": [],
   "source": [
    "# uj_map.job_id.nunique()"
   ]
  },
  {
   "cell_type": "code",
   "execution_count": 30,
   "id": "dff7ca10-dc82-40f6-ae16-deeb0ca13fc8",
   "metadata": {},
   "outputs": [],
   "source": [
    "# uj_map.user_id.nunique()"
   ]
  },
  {
   "cell_type": "code",
   "execution_count": 31,
   "id": "15a1c654-cfc5-4f7e-bc57-59fdf7afaffb",
   "metadata": {},
   "outputs": [],
   "source": [
    "# main_df = uj_map.loc[uj_map['job_id'].isin(jd_list)]"
   ]
  },
  {
   "cell_type": "code",
   "execution_count": 32,
   "id": "55b8454a-bb0c-4e28-9a89-00685ebfa966",
   "metadata": {},
   "outputs": [],
   "source": [
    "# main_df.job_id.nunique()"
   ]
  },
  {
   "cell_type": "code",
   "execution_count": 33,
   "id": "4f734434-3ddf-40aa-a94b-d295e873ab0c",
   "metadata": {},
   "outputs": [],
   "source": [
    "# main_df.user_id.nunique()"
   ]
  },
  {
   "cell_type": "code",
   "execution_count": 34,
   "id": "499d332b-0cf8-4f78-9300-3b7f809bba36",
   "metadata": {},
   "outputs": [
    {
     "data": {
      "text/html": [
       "<div>\n",
       "<style scoped>\n",
       "    .dataframe tbody tr th:only-of-type {\n",
       "        vertical-align: middle;\n",
       "    }\n",
       "\n",
       "    .dataframe tbody tr th {\n",
       "        vertical-align: top;\n",
       "    }\n",
       "\n",
       "    .dataframe thead th {\n",
       "        text-align: right;\n",
       "    }\n",
       "</style>\n",
       "<table border=\"1\" class=\"dataframe\">\n",
       "  <thead>\n",
       "    <tr style=\"text-align: right;\">\n",
       "      <th></th>\n",
       "      <th>job_id</th>\n",
       "      <th>application_id</th>\n",
       "      <th>user_id</th>\n",
       "    </tr>\n",
       "  </thead>\n",
       "  <tbody>\n",
       "    <tr>\n",
       "      <th>0</th>\n",
       "      <td>1373681</td>\n",
       "      <td>144274567</td>\n",
       "      <td>439042</td>\n",
       "    </tr>\n",
       "    <tr>\n",
       "      <th>1</th>\n",
       "      <td>1373681</td>\n",
       "      <td>144261479</td>\n",
       "      <td>2015063</td>\n",
       "    </tr>\n",
       "    <tr>\n",
       "      <th>2</th>\n",
       "      <td>1373681</td>\n",
       "      <td>144253966</td>\n",
       "      <td>2777927</td>\n",
       "    </tr>\n",
       "    <tr>\n",
       "      <th>3</th>\n",
       "      <td>1373681</td>\n",
       "      <td>144241259</td>\n",
       "      <td>58130</td>\n",
       "    </tr>\n",
       "    <tr>\n",
       "      <th>4</th>\n",
       "      <td>1373681</td>\n",
       "      <td>144236812</td>\n",
       "      <td>2290933</td>\n",
       "    </tr>\n",
       "    <tr>\n",
       "      <th>...</th>\n",
       "      <td>...</td>\n",
       "      <td>...</td>\n",
       "      <td>...</td>\n",
       "    </tr>\n",
       "    <tr>\n",
       "      <th>136248</th>\n",
       "      <td>1376058</td>\n",
       "      <td>144442227</td>\n",
       "      <td>2151474</td>\n",
       "    </tr>\n",
       "    <tr>\n",
       "      <th>136249</th>\n",
       "      <td>1375030</td>\n",
       "      <td>144442249</td>\n",
       "      <td>1463255</td>\n",
       "    </tr>\n",
       "    <tr>\n",
       "      <th>136250</th>\n",
       "      <td>1373682</td>\n",
       "      <td>144442251</td>\n",
       "      <td>2601930</td>\n",
       "    </tr>\n",
       "    <tr>\n",
       "      <th>136251</th>\n",
       "      <td>1376582</td>\n",
       "      <td>144442257</td>\n",
       "      <td>1417492</td>\n",
       "    </tr>\n",
       "    <tr>\n",
       "      <th>136252</th>\n",
       "      <td>1376693</td>\n",
       "      <td>144442256</td>\n",
       "      <td>1835665</td>\n",
       "    </tr>\n",
       "  </tbody>\n",
       "</table>\n",
       "<p>136253 rows × 3 columns</p>\n",
       "</div>"
      ],
      "text/plain": [
       "         job_id  application_id  user_id\n",
       "0       1373681       144274567   439042\n",
       "1       1373681       144261479  2015063\n",
       "2       1373681       144253966  2777927\n",
       "3       1373681       144241259    58130\n",
       "4       1373681       144236812  2290933\n",
       "...         ...             ...      ...\n",
       "136248  1376058       144442227  2151474\n",
       "136249  1375030       144442249  1463255\n",
       "136250  1373682       144442251  2601930\n",
       "136251  1376582       144442257  1417492\n",
       "136252  1376693       144442256  1835665\n",
       "\n",
       "[136253 rows x 3 columns]"
      ]
     },
     "execution_count": 34,
     "metadata": {},
     "output_type": "execute_result"
    }
   ],
   "source": [
    "df"
   ]
  },
  {
   "cell_type": "code",
   "execution_count": 13,
   "id": "81df8d16-ee54-4d25-b336-9657b08ad352",
   "metadata": {},
   "outputs": [
    {
     "data": {
      "text/plain": [
       "2949"
      ]
     },
     "execution_count": 13,
     "metadata": {},
     "output_type": "execute_result"
    }
   ],
   "source": [
    "df.job_id.nunique()"
   ]
  },
  {
   "cell_type": "code",
   "execution_count": 15,
   "id": "955856f7-d991-4331-aed4-6896eee17067",
   "metadata": {},
   "outputs": [
    {
     "data": {
      "text/plain": [
       "30363"
      ]
     },
     "execution_count": 15,
     "metadata": {},
     "output_type": "execute_result"
    }
   ],
   "source": [
    "df.user_id.nunique()"
   ]
  },
  {
   "cell_type": "code",
   "execution_count": null,
   "id": "6e76f5f5-fc7e-4ea5-9400-bb3fc3fca5c2",
   "metadata": {},
   "outputs": [],
   "source": []
  },
  {
   "cell_type": "code",
   "execution_count": null,
   "id": "de5f123f-a601-49a2-88e4-3fe3b7c491f3",
   "metadata": {},
   "outputs": [],
   "source": []
  },
  {
   "cell_type": "code",
   "execution_count": 89,
   "id": "57628ddc-a042-43f4-9fc2-de17076f68f4",
   "metadata": {},
   "outputs": [],
   "source": [
    "import requests\n",
    "\n",
    "def fetch_jobs(job_id):\n",
    "    \n",
    "    '''\n",
    "    Returns Job Data[Hirst, Source : ElasticSearch] for the last_k days, and with flexible page size (<10,000)\n",
    "    \n",
    "    Input : Last-K Days, and Page result size\n",
    "    \n",
    "    Output : Pandas Dataframe with jobs from the last k days \n",
    "    '''\n",
    "    \n",
    "    # columns = ['id', 'title','companyStatus', 'min', 'max', 'premium', 'applyCount', 'locations','tags','brandJobFlag']     #Added column name for companyStatus\n",
    "    # new_cols = ['jobid', 'title','companyStatus', 'min', 'max', 'premium', 'applyCount', 'locations','tags', 'brandJobFlag']       #Added column name for companyStatus\n",
    "    \n",
    "    \n",
    "\n",
    "    url = \"http://internal-java-job-searcher-email-backend-1607736061.ap-south-1.elb.amazonaws.com/v1/user/-777/job/jobcode?query=<JOBID>\"\n",
    "    url = url.replace('<JOBID>',job_id)\n",
    "    payload={}\n",
    "    headers = {}\n",
    "    \n",
    "    response = requests.request(\"GET\", url, headers=headers, data=payload)\n",
    "    \n",
    "    # print(response.text)\n",
    "    \n",
    "\n",
    "    # url = url.replace(\"<DAYS>\",str(last_k)).replace(\"<SIZE>\",str(size))\n",
    "\n",
    "    payload={}\n",
    "    headers = {}\n",
    "\n",
    "    response = requests.request(\"GET\", url, headers=headers, data=payload)\n",
    "    job_data = response.json()\n",
    "    # print(job_data)\n",
    "    job_df = pd.DataFrame(job_data)\n",
    "\n",
    "    return job_df[['id','introText']]"
   ]
  },
  {
   "cell_type": "code",
   "execution_count": 90,
   "id": "4bf28bc7-2093-43c1-9061-d84a61ec1506",
   "metadata": {},
   "outputs": [],
   "source": [
    "\n",
    "jd = fetch_jobs('1373869')"
   ]
  },
  {
   "cell_type": "code",
   "execution_count": 91,
   "id": "a65a100a-8a57-4833-a6ee-55f5af50cc7c",
   "metadata": {},
   "outputs": [
    {
     "data": {
      "text/html": [
       "<div>\n",
       "<style scoped>\n",
       "    .dataframe tbody tr th:only-of-type {\n",
       "        vertical-align: middle;\n",
       "    }\n",
       "\n",
       "    .dataframe tbody tr th {\n",
       "        vertical-align: top;\n",
       "    }\n",
       "\n",
       "    .dataframe thead th {\n",
       "        text-align: right;\n",
       "    }\n",
       "</style>\n",
       "<table border=\"1\" class=\"dataframe\">\n",
       "  <thead>\n",
       "    <tr style=\"text-align: right;\">\n",
       "      <th></th>\n",
       "      <th>id</th>\n",
       "      <th>introText</th>\n",
       "    </tr>\n",
       "  </thead>\n",
       "  <tbody>\n",
       "    <tr>\n",
       "      <th>0</th>\n",
       "      <td>1373869</td>\n",
       "      <td>&lt;p&gt;Sr. Brand Marketing Manager &lt;/p&gt;&lt;p&gt;&lt;br/&gt;&lt;/p...</td>\n",
       "    </tr>\n",
       "  </tbody>\n",
       "</table>\n",
       "</div>"
      ],
      "text/plain": [
       "        id                                          introText\n",
       "0  1373869  <p>Sr. Brand Marketing Manager </p><p><br/></p..."
      ]
     },
     "execution_count": 91,
     "metadata": {},
     "output_type": "execute_result"
    }
   ],
   "source": [
    "jd"
   ]
  },
  {
   "cell_type": "code",
   "execution_count": 92,
   "id": "f9550bfb-8855-415f-9f2c-d6ef5fe873a2",
   "metadata": {},
   "outputs": [],
   "source": [
    "# df2 = df.head(100)"
   ]
  },
  {
   "cell_type": "code",
   "execution_count": 93,
   "id": "8129ee1e-2080-44d0-8fb0-4967d859e53b",
   "metadata": {},
   "outputs": [],
   "source": [
    "# df2"
   ]
  },
  {
   "cell_type": "code",
   "execution_count": 95,
   "id": "1259b5e2-ee66-42e0-a67b-0b50151aa27d",
   "metadata": {},
   "outputs": [
    {
     "data": {
      "text/plain": [
       "2949"
      ]
     },
     "execution_count": 95,
     "metadata": {},
     "output_type": "execute_result"
    }
   ],
   "source": [
    "df.job_id.nunique()"
   ]
  },
  {
   "cell_type": "code",
   "execution_count": 96,
   "id": "2b7714ba-4cd6-4623-8836-e7d13fb21d04",
   "metadata": {},
   "outputs": [
    {
     "data": {
      "text/plain": [
       "30363"
      ]
     },
     "execution_count": 96,
     "metadata": {},
     "output_type": "execute_result"
    }
   ],
   "source": [
    "df.user_id.nunique()"
   ]
  },
  {
   "cell_type": "code",
   "execution_count": 98,
   "id": "10307c4a-e945-4417-ae8d-6214b9065fbb",
   "metadata": {
    "scrolled": true
   },
   "outputs": [
    {
     "name": "stderr",
     "output_type": "stream",
     "text": [
      "100%|██████████████████████████████████████████████████████████████████████████████████████████████████████████████████████████████████| 2949/2949 [00:40<00:00, 72.66it/s]\n"
     ]
    }
   ],
   "source": [
    "from tqdm import tqdm\n",
    "df_list = []\n",
    "for i in tqdm(df['job_id'].unique()):\n",
    "    try:\n",
    "        j = fetch_jobs(str(i))\n",
    "    \n",
    "        df_list.append(j)\n",
    "    except:\n",
    "        continue\n",
    "jd = pd.concat(df_list)    \n",
    "\n",
    "    "
   ]
  },
  {
   "cell_type": "code",
   "execution_count": 99,
   "id": "e4db34c6-ae2a-4d0c-9cde-d767824876d1",
   "metadata": {},
   "outputs": [
    {
     "data": {
      "text/html": [
       "<div>\n",
       "<style scoped>\n",
       "    .dataframe tbody tr th:only-of-type {\n",
       "        vertical-align: middle;\n",
       "    }\n",
       "\n",
       "    .dataframe tbody tr th {\n",
       "        vertical-align: top;\n",
       "    }\n",
       "\n",
       "    .dataframe thead th {\n",
       "        text-align: right;\n",
       "    }\n",
       "</style>\n",
       "<table border=\"1\" class=\"dataframe\">\n",
       "  <thead>\n",
       "    <tr style=\"text-align: right;\">\n",
       "      <th></th>\n",
       "      <th>id</th>\n",
       "      <th>introText</th>\n",
       "    </tr>\n",
       "  </thead>\n",
       "  <tbody>\n",
       "    <tr>\n",
       "      <th>0</th>\n",
       "      <td>1373681</td>\n",
       "      <td>&lt;p&gt;About Company - Global recognized leader in...</td>\n",
       "    </tr>\n",
       "    <tr>\n",
       "      <th>0</th>\n",
       "      <td>1373682</td>\n",
       "      <td>&lt;p&gt;About Company - Global recognized leader in...</td>\n",
       "    </tr>\n",
       "    <tr>\n",
       "      <th>0</th>\n",
       "      <td>1373683</td>\n",
       "      <td>&lt;p&gt;A prominent global investment and technolog...</td>\n",
       "    </tr>\n",
       "    <tr>\n",
       "      <th>0</th>\n",
       "      <td>1373684</td>\n",
       "      <td>&lt;p&gt;Limese is looking for a detail-oriented and...</td>\n",
       "    </tr>\n",
       "    <tr>\n",
       "      <th>0</th>\n",
       "      <td>1373685</td>\n",
       "      <td>&lt;p&gt;The RM shall be responsible for originating...</td>\n",
       "    </tr>\n",
       "    <tr>\n",
       "      <th>...</th>\n",
       "      <td>...</td>\n",
       "      <td>...</td>\n",
       "    </tr>\n",
       "    <tr>\n",
       "      <th>0</th>\n",
       "      <td>1376446</td>\n",
       "      <td>&lt;p&gt;Digital Analytics - Domain Specialist &lt;br/&gt;...</td>\n",
       "    </tr>\n",
       "    <tr>\n",
       "      <th>0</th>\n",
       "      <td>1376758</td>\n",
       "      <td>&lt;p&gt;Urban Company is a tech-enabled home servic...</td>\n",
       "    </tr>\n",
       "    <tr>\n",
       "      <th>0</th>\n",
       "      <td>1375146</td>\n",
       "      <td>&lt;p&gt;Reinsurance Manager - General Insurance &lt;/p...</td>\n",
       "    </tr>\n",
       "    <tr>\n",
       "      <th>0</th>\n",
       "      <td>1376759</td>\n",
       "      <td>&lt;p&gt;Experience in managing Architects Developer...</td>\n",
       "    </tr>\n",
       "    <tr>\n",
       "      <th>0</th>\n",
       "      <td>1376737</td>\n",
       "      <td>&lt;p&gt;Executive Hiring is looking for a Performan...</td>\n",
       "    </tr>\n",
       "  </tbody>\n",
       "</table>\n",
       "<p>2824 rows × 2 columns</p>\n",
       "</div>"
      ],
      "text/plain": [
       "         id                                          introText\n",
       "0   1373681  <p>About Company - Global recognized leader in...\n",
       "0   1373682  <p>About Company - Global recognized leader in...\n",
       "0   1373683  <p>A prominent global investment and technolog...\n",
       "0   1373684  <p>Limese is looking for a detail-oriented and...\n",
       "0   1373685  <p>The RM shall be responsible for originating...\n",
       "..      ...                                                ...\n",
       "0   1376446  <p>Digital Analytics - Domain Specialist <br/>...\n",
       "0   1376758  <p>Urban Company is a tech-enabled home servic...\n",
       "0   1375146  <p>Reinsurance Manager - General Insurance </p...\n",
       "0   1376759  <p>Experience in managing Architects Developer...\n",
       "0   1376737  <p>Executive Hiring is looking for a Performan...\n",
       "\n",
       "[2824 rows x 2 columns]"
      ]
     },
     "execution_count": 99,
     "metadata": {},
     "output_type": "execute_result"
    }
   ],
   "source": [
    "jd"
   ]
  },
  {
   "cell_type": "code",
   "execution_count": 101,
   "id": "d79bf6c5-4c54-44af-8c29-a1b4d35ce56a",
   "metadata": {},
   "outputs": [],
   "source": [
    "# 2949-2824"
   ]
  },
  {
   "cell_type": "code",
   "execution_count": 102,
   "id": "76ff4c4b-a81a-495f-9675-6b78e44cc5cc",
   "metadata": {},
   "outputs": [],
   "source": [
    "# d.columns = ['job_id','introText']"
   ]
  },
  {
   "cell_type": "code",
   "execution_count": 106,
   "id": "d6a28125-e27c-4471-b57e-147c2a8ab5f8",
   "metadata": {},
   "outputs": [],
   "source": [
    "jid_list = list(jd.id)"
   ]
  },
  {
   "cell_type": "code",
   "execution_count": 110,
   "id": "66377798-d527-4dd7-9262-2dcc79134d06",
   "metadata": {},
   "outputs": [],
   "source": [
    "# df"
   ]
  },
  {
   "cell_type": "code",
   "execution_count": 111,
   "id": "47515e5a-111b-4e9f-b73d-fd194679cf1c",
   "metadata": {},
   "outputs": [],
   "source": [
    "df1 = df.loc[df['job_id'].isin(jid_list)]"
   ]
  },
  {
   "cell_type": "code",
   "execution_count": null,
   "id": "f01c555d-e5b5-4d2e-b6b6-229ebbd35dac",
   "metadata": {},
   "outputs": [],
   "source": []
  },
  {
   "cell_type": "code",
   "execution_count": null,
   "id": "9eb78738-cef2-4620-9483-fd6ba3017876",
   "metadata": {},
   "outputs": [],
   "source": []
  },
  {
   "cell_type": "code",
   "execution_count": 113,
   "id": "f7ecfe1b-72f9-42e5-bf4e-4a382277baa7",
   "metadata": {},
   "outputs": [],
   "source": [
    "jd.columns = ['job_id','introText']"
   ]
  },
  {
   "cell_type": "code",
   "execution_count": 114,
   "id": "7aa181da-0f95-41a9-99c9-14eec79c5d3f",
   "metadata": {},
   "outputs": [
    {
     "data": {
      "text/html": [
       "<div>\n",
       "<style scoped>\n",
       "    .dataframe tbody tr th:only-of-type {\n",
       "        vertical-align: middle;\n",
       "    }\n",
       "\n",
       "    .dataframe tbody tr th {\n",
       "        vertical-align: top;\n",
       "    }\n",
       "\n",
       "    .dataframe thead th {\n",
       "        text-align: right;\n",
       "    }\n",
       "</style>\n",
       "<table border=\"1\" class=\"dataframe\">\n",
       "  <thead>\n",
       "    <tr style=\"text-align: right;\">\n",
       "      <th></th>\n",
       "      <th>job_id</th>\n",
       "      <th>introText</th>\n",
       "    </tr>\n",
       "  </thead>\n",
       "  <tbody>\n",
       "    <tr>\n",
       "      <th>0</th>\n",
       "      <td>1373681</td>\n",
       "      <td>&lt;p&gt;About Company - Global recognized leader in...</td>\n",
       "    </tr>\n",
       "    <tr>\n",
       "      <th>0</th>\n",
       "      <td>1373682</td>\n",
       "      <td>&lt;p&gt;About Company - Global recognized leader in...</td>\n",
       "    </tr>\n",
       "    <tr>\n",
       "      <th>0</th>\n",
       "      <td>1373683</td>\n",
       "      <td>&lt;p&gt;A prominent global investment and technolog...</td>\n",
       "    </tr>\n",
       "    <tr>\n",
       "      <th>0</th>\n",
       "      <td>1373684</td>\n",
       "      <td>&lt;p&gt;Limese is looking for a detail-oriented and...</td>\n",
       "    </tr>\n",
       "    <tr>\n",
       "      <th>0</th>\n",
       "      <td>1373685</td>\n",
       "      <td>&lt;p&gt;The RM shall be responsible for originating...</td>\n",
       "    </tr>\n",
       "    <tr>\n",
       "      <th>...</th>\n",
       "      <td>...</td>\n",
       "      <td>...</td>\n",
       "    </tr>\n",
       "    <tr>\n",
       "      <th>0</th>\n",
       "      <td>1376446</td>\n",
       "      <td>&lt;p&gt;Digital Analytics - Domain Specialist &lt;br/&gt;...</td>\n",
       "    </tr>\n",
       "    <tr>\n",
       "      <th>0</th>\n",
       "      <td>1376758</td>\n",
       "      <td>&lt;p&gt;Urban Company is a tech-enabled home servic...</td>\n",
       "    </tr>\n",
       "    <tr>\n",
       "      <th>0</th>\n",
       "      <td>1375146</td>\n",
       "      <td>&lt;p&gt;Reinsurance Manager - General Insurance &lt;/p...</td>\n",
       "    </tr>\n",
       "    <tr>\n",
       "      <th>0</th>\n",
       "      <td>1376759</td>\n",
       "      <td>&lt;p&gt;Experience in managing Architects Developer...</td>\n",
       "    </tr>\n",
       "    <tr>\n",
       "      <th>0</th>\n",
       "      <td>1376737</td>\n",
       "      <td>&lt;p&gt;Executive Hiring is looking for a Performan...</td>\n",
       "    </tr>\n",
       "  </tbody>\n",
       "</table>\n",
       "<p>2824 rows × 2 columns</p>\n",
       "</div>"
      ],
      "text/plain": [
       "     job_id                                          introText\n",
       "0   1373681  <p>About Company - Global recognized leader in...\n",
       "0   1373682  <p>About Company - Global recognized leader in...\n",
       "0   1373683  <p>A prominent global investment and technolog...\n",
       "0   1373684  <p>Limese is looking for a detail-oriented and...\n",
       "0   1373685  <p>The RM shall be responsible for originating...\n",
       "..      ...                                                ...\n",
       "0   1376446  <p>Digital Analytics - Domain Specialist <br/>...\n",
       "0   1376758  <p>Urban Company is a tech-enabled home servic...\n",
       "0   1375146  <p>Reinsurance Manager - General Insurance </p...\n",
       "0   1376759  <p>Experience in managing Architects Developer...\n",
       "0   1376737  <p>Executive Hiring is looking for a Performan...\n",
       "\n",
       "[2824 rows x 2 columns]"
      ]
     },
     "execution_count": 114,
     "metadata": {},
     "output_type": "execute_result"
    }
   ],
   "source": [
    "jd"
   ]
  },
  {
   "cell_type": "code",
   "execution_count": 115,
   "id": "3a9f932d-8886-487f-bd2d-c4061863d152",
   "metadata": {},
   "outputs": [],
   "source": [
    "merged_df = pd.merge(jd, df1, on='job_id', how='left')\n"
   ]
  },
  {
   "cell_type": "code",
   "execution_count": 120,
   "id": "781285bb-3664-4c7c-844f-83b5f6eb376c",
   "metadata": {},
   "outputs": [
    {
     "data": {
      "text/html": [
       "<div>\n",
       "<style scoped>\n",
       "    .dataframe tbody tr th:only-of-type {\n",
       "        vertical-align: middle;\n",
       "    }\n",
       "\n",
       "    .dataframe tbody tr th {\n",
       "        vertical-align: top;\n",
       "    }\n",
       "\n",
       "    .dataframe thead th {\n",
       "        text-align: right;\n",
       "    }\n",
       "</style>\n",
       "<table border=\"1\" class=\"dataframe\">\n",
       "  <thead>\n",
       "    <tr style=\"text-align: right;\">\n",
       "      <th></th>\n",
       "      <th>job_id</th>\n",
       "      <th>introText</th>\n",
       "      <th>application_id</th>\n",
       "      <th>user_id</th>\n",
       "    </tr>\n",
       "  </thead>\n",
       "  <tbody>\n",
       "    <tr>\n",
       "      <th>81566</th>\n",
       "      <td>1375214</td>\n",
       "      <td>&lt;p&gt;AVP: Enterprise Business Development &lt;br/&gt;&lt;...</td>\n",
       "      <td>144282676</td>\n",
       "      <td>2788606</td>\n",
       "    </tr>\n",
       "    <tr>\n",
       "      <th>9610</th>\n",
       "      <td>1373836</td>\n",
       "      <td>&lt;p&gt;Senior Strategic Account Manager &lt;/p&gt;&lt;p&gt;&lt;br...</td>\n",
       "      <td>144307953</td>\n",
       "      <td>1287798</td>\n",
       "    </tr>\n",
       "    <tr>\n",
       "      <th>61741</th>\n",
       "      <td>1374791</td>\n",
       "      <td>&lt;p&gt;Leading e commerce market place requires Sr...</td>\n",
       "      <td>144314628</td>\n",
       "      <td>255906</td>\n",
       "    </tr>\n",
       "    <tr>\n",
       "      <th>25365</th>\n",
       "      <td>1374032</td>\n",
       "      <td>&lt;p&gt;The position is required for one of our cli...</td>\n",
       "      <td>144191649</td>\n",
       "      <td>1721447</td>\n",
       "    </tr>\n",
       "    <tr>\n",
       "      <th>95013</th>\n",
       "      <td>1375550</td>\n",
       "      <td>&lt;p&gt;Experience: At least min 4+ years post qual...</td>\n",
       "      <td>144320075</td>\n",
       "      <td>1286631</td>\n",
       "    </tr>\n",
       "  </tbody>\n",
       "</table>\n",
       "</div>"
      ],
      "text/plain": [
       "        job_id                                          introText  \\\n",
       "81566  1375214  <p>AVP: Enterprise Business Development <br/><...   \n",
       "9610   1373836  <p>Senior Strategic Account Manager </p><p><br...   \n",
       "61741  1374791  <p>Leading e commerce market place requires Sr...   \n",
       "25365  1374032  <p>The position is required for one of our cli...   \n",
       "95013  1375550  <p>Experience: At least min 4+ years post qual...   \n",
       "\n",
       "       application_id  user_id  \n",
       "81566       144282676  2788606  \n",
       "9610        144307953  1287798  \n",
       "61741       144314628   255906  \n",
       "25365       144191649  1721447  \n",
       "95013       144320075  1286631  "
      ]
     },
     "execution_count": 120,
     "metadata": {},
     "output_type": "execute_result"
    }
   ],
   "source": [
    "merged_df.sample(5)"
   ]
  },
  {
   "cell_type": "code",
   "execution_count": 126,
   "id": "9a6c79dc-66ce-43a8-88e8-b1f05bd02409",
   "metadata": {},
   "outputs": [],
   "source": [
    "uid_list = list(merged_df.user_id.unique())"
   ]
  },
  {
   "cell_type": "code",
   "execution_count": 132,
   "id": "423b1223-a0a4-4550-940f-5e6eb404f300",
   "metadata": {},
   "outputs": [],
   "source": [
    "def clean_space(text):\n",
    "    return \" \".join(re.split(\"\\s+\", text, flags=re.UNICODE))\n",
    "\n",
    "def remove_extra_spaces(input_string):\n",
    "    # Use regular expression to remove extra spaces (only spaces)\n",
    "    cleaned_string = re.sub(r' +', ' ', input_string)\n",
    "    return cleaned_string\n",
    "     \n",
    "\n",
    "def get_user_data_search_embed(user_id_list):\n",
    "    \n",
    "    '''\n",
    "    This function combines all the functions for fetching and processing \n",
    "    user data from elastic search\n",
    "    '''\n",
    "\n",
    "\n",
    "    sub_json = fetch_data_es(user_id_list)\n",
    "    raw_data = construct_user_data_search_embed(sub_json)\n",
    "\n",
    "    res_df = pd.DataFrame.from_dict(raw_data, orient='index').T\n",
    "    result_df = res_df.astype(str).replace(\"None\", \" \")\n",
    "    \n",
    "    result_df['resume'] = result_df['resume'].apply(remove_extra_spaces)\n",
    "\n",
    "    return result_df\n",
    "\n",
    "def fetch_data_es(user_id_list):\n",
    "    \n",
    "    \"\"\"\n",
    "    Input : List of Valid Hirist User ID \n",
    "    Output : List of User Data JSON stored in Elastic Search\n",
    "    \"\"\"\n",
    "    \n",
    "    \n",
    "    response_json = []\n",
    "    replacements = {'null':'None', 'false':'False'}\n",
    "\n",
    "    url = \"http://10.208.230.226:8080/v1/recruiter/-123/applicant/search/searchById\"\n",
    "\n",
    "    res = []\n",
    "\n",
    "    for uid in tqdm(user_id_list):\n",
    "\n",
    "\n",
    "        payload = {\n",
    "            'usersToSearchFrom' : [str(uid)]\n",
    "        }\n",
    "\n",
    "        headers = {\n",
    "        'Content-Type': 'application/json'\n",
    "        }\n",
    "\n",
    "        try:\n",
    "            response = requests.request(\"POST\", url, headers=headers, data = str(payload))\n",
    "            response_json = response.json()\n",
    "    \n",
    "            res.append(response_json['docs']) \n",
    "\n",
    "        except Exception as e:\n",
    "            continue\n",
    "        \n",
    "    return res\n",
    "\n",
    "\n",
    "\n",
    "def construct_user_data_search_embed(user_json):\n",
    "    '''\n",
    "    This is a function for fetching user ID, Keywords (in the form of tags) and \n",
    "    user designation from elastic search. This is specifically made for creating \n",
    "    user embeddings for our Recruiter search model/POC\n",
    "    '''\n",
    "    \n",
    "    user_dict = {\n",
    "        'id' : [],\n",
    "        'resume' : []\n",
    "    }\n",
    "\n",
    "    for s in tqdm(user_json):\n",
    "\n",
    "        try:\n",
    "            source = s[0]\n",
    "\n",
    "            user_dict['id'].append(source['id'])\n",
    "            user_dict['resume'].append(clean_space(source['resumeText']))\n",
    "\n",
    "        except Exception as e:\n",
    "            continue\n",
    "\n",
    "    return user_dict"
   ]
  },
  {
   "cell_type": "code",
   "execution_count": 133,
   "id": "bdcf0fb3-5b33-45c0-8ff4-61008e5ec8e3",
   "metadata": {},
   "outputs": [],
   "source": [
    "\n",
    "def get_user_data_in_batches(uid_list, batch_size=1000):\n",
    "    user_data = pd.DataFrame()\n",
    "\n",
    "    for i in range(0, len(uid_list), batch_size):\n",
    "        batch_uids = uid_list[i:i + batch_size]\n",
    "\n",
    "        batch_user_data = get_user_data_search_embed(batch_uids)\n",
    "\n",
    "        user_data = pd.concat([user_data, batch_user_data], ignore_index=True)\n",
    "\n",
    "    return user_data"
   ]
  },
  {
   "cell_type": "code",
   "execution_count": 134,
   "id": "7572ac13-4a3e-413f-917f-d8d1c2d44cfa",
   "metadata": {},
   "outputs": [
    {
     "name": "stderr",
     "output_type": "stream",
     "text": [
      "100%|██████████████████████████████████████████████████████████████████████████████████████████████████████████████████████████████████| 1000/1000 [00:11<00:00, 86.47it/s]\n",
      "100%|████████████████████████████████████████████████████████████████████████████████████████████████████████████████████████████████| 1000/1000 [00:00<00:00, 3903.21it/s]\n",
      "100%|██████████████████████████████████████████████████████████████████████████████████████████████████████████████████████████████████| 1000/1000 [00:13<00:00, 75.07it/s]\n",
      "100%|████████████████████████████████████████████████████████████████████████████████████████████████████████████████████████████████| 1000/1000 [00:00<00:00, 3823.12it/s]\n",
      "100%|██████████████████████████████████████████████████████████████████████████████████████████████████████████████████████████████████| 1000/1000 [00:14<00:00, 69.00it/s]\n",
      "100%|████████████████████████████████████████████████████████████████████████████████████████████████████████████████████████████████| 1000/1000 [00:00<00:00, 4547.77it/s]\n",
      "100%|██████████████████████████████████████████████████████████████████████████████████████████████████████████████████████████████████| 1000/1000 [00:12<00:00, 78.56it/s]\n",
      "100%|████████████████████████████████████████████████████████████████████████████████████████████████████████████████████████████████| 1000/1000 [00:00<00:00, 3535.87it/s]\n",
      "100%|██████████████████████████████████████████████████████████████████████████████████████████████████████████████████████████████████| 1000/1000 [00:12<00:00, 79.88it/s]\n",
      "100%|████████████████████████████████████████████████████████████████████████████████████████████████████████████████████████████████| 1000/1000 [00:00<00:00, 4208.77it/s]\n",
      "100%|██████████████████████████████████████████████████████████████████████████████████████████████████████████████████████████████████| 1000/1000 [00:12<00:00, 77.44it/s]\n",
      "100%|████████████████████████████████████████████████████████████████████████████████████████████████████████████████████████████████| 1000/1000 [00:00<00:00, 4798.76it/s]\n",
      "100%|█████████████████████████████████████████████████████████████████████████████████████████████████████████████████████████████████| 1000/1000 [00:09<00:00, 108.27it/s]\n",
      "100%|████████████████████████████████████████████████████████████████████████████████████████████████████████████████████████████████| 1000/1000 [00:00<00:00, 4334.53it/s]\n",
      "100%|█████████████████████████████████████████████████████████████████████████████████████████████████████████████████████████████████| 1000/1000 [00:09<00:00, 102.25it/s]\n",
      "100%|████████████████████████████████████████████████████████████████████████████████████████████████████████████████████████████████| 1000/1000 [00:00<00:00, 4030.98it/s]\n",
      "100%|██████████████████████████████████████████████████████████████████████████████████████████████████████████████████████████████████| 1000/1000 [00:15<00:00, 63.99it/s]\n",
      "100%|████████████████████████████████████████████████████████████████████████████████████████████████████████████████████████████████| 1000/1000 [00:00<00:00, 4924.74it/s]\n",
      "100%|██████████████████████████████████████████████████████████████████████████████████████████████████████████████████████████████████| 1000/1000 [00:12<00:00, 79.34it/s]\n",
      "100%|████████████████████████████████████████████████████████████████████████████████████████████████████████████████████████████████| 1000/1000 [00:00<00:00, 4136.59it/s]\n",
      "100%|██████████████████████████████████████████████████████████████████████████████████████████████████████████████████████████████████| 1000/1000 [00:12<00:00, 79.09it/s]\n",
      "100%|████████████████████████████████████████████████████████████████████████████████████████████████████████████████████████████████| 1000/1000 [00:00<00:00, 4201.51it/s]\n",
      "100%|██████████████████████████████████████████████████████████████████████████████████████████████████████████████████████████████████| 1000/1000 [00:11<00:00, 84.92it/s]\n",
      "100%|████████████████████████████████████████████████████████████████████████████████████████████████████████████████████████████████| 1000/1000 [00:00<00:00, 4573.07it/s]\n",
      "100%|█████████████████████████████████████████████████████████████████████████████████████████████████████████████████████████████████| 1000/1000 [00:09<00:00, 103.99it/s]\n",
      "100%|████████████████████████████████████████████████████████████████████████████████████████████████████████████████████████████████| 1000/1000 [00:00<00:00, 3821.86it/s]\n",
      "100%|█████████████████████████████████████████████████████████████████████████████████████████████████████████████████████████████████| 1000/1000 [00:08<00:00, 111.76it/s]\n",
      "100%|████████████████████████████████████████████████████████████████████████████████████████████████████████████████████████████████| 1000/1000 [00:00<00:00, 4546.57it/s]\n",
      "100%|██████████████████████████████████████████████████████████████████████████████████████████████████████████████████████████████████| 1000/1000 [00:12<00:00, 82.12it/s]\n",
      "100%|████████████████████████████████████████████████████████████████████████████████████████████████████████████████████████████████| 1000/1000 [00:00<00:00, 4231.54it/s]\n",
      "100%|██████████████████████████████████████████████████████████████████████████████████████████████████████████████████████████████████| 1000/1000 [00:11<00:00, 89.36it/s]\n",
      "100%|████████████████████████████████████████████████████████████████████████████████████████████████████████████████████████████████| 1000/1000 [00:00<00:00, 4943.92it/s]\n",
      "100%|██████████████████████████████████████████████████████████████████████████████████████████████████████████████████████████████████| 1000/1000 [00:13<00:00, 72.11it/s]\n",
      "100%|████████████████████████████████████████████████████████████████████████████████████████████████████████████████████████████████| 1000/1000 [00:00<00:00, 3993.04it/s]\n",
      "100%|██████████████████████████████████████████████████████████████████████████████████████████████████████████████████████████████████| 1000/1000 [00:12<00:00, 81.66it/s]\n",
      "100%|████████████████████████████████████████████████████████████████████████████████████████████████████████████████████████████████| 1000/1000 [00:00<00:00, 4385.37it/s]\n",
      "100%|██████████████████████████████████████████████████████████████████████████████████████████████████████████████████████████████████| 1000/1000 [00:11<00:00, 83.81it/s]\n",
      "100%|████████████████████████████████████████████████████████████████████████████████████████████████████████████████████████████████| 1000/1000 [00:00<00:00, 4454.48it/s]\n",
      "100%|█████████████████████████████████████████████████████████████████████████████████████████████████████████████████████████████████| 1000/1000 [00:09<00:00, 105.99it/s]\n",
      "100%|████████████████████████████████████████████████████████████████████████████████████████████████████████████████████████████████| 1000/1000 [00:00<00:00, 4247.03it/s]\n",
      "100%|██████████████████████████████████████████████████████████████████████████████████████████████████████████████████████████████████| 1000/1000 [00:10<00:00, 96.33it/s]\n",
      "100%|████████████████████████████████████████████████████████████████████████████████████████████████████████████████████████████████| 1000/1000 [00:00<00:00, 4737.72it/s]\n",
      "100%|██████████████████████████████████████████████████████████████████████████████████████████████████████████████████████████████████| 1000/1000 [00:12<00:00, 81.99it/s]\n",
      "100%|████████████████████████████████████████████████████████████████████████████████████████████████████████████████████████████████| 1000/1000 [00:00<00:00, 4508.41it/s]\n",
      "100%|██████████████████████████████████████████████████████████████████████████████████████████████████████████████████████████████████| 1000/1000 [00:13<00:00, 75.76it/s]\n",
      "100%|████████████████████████████████████████████████████████████████████████████████████████████████████████████████████████████████| 1000/1000 [00:00<00:00, 4205.20it/s]\n",
      "100%|██████████████████████████████████████████████████████████████████████████████████████████████████████████████████████████████████| 1000/1000 [00:14<00:00, 66.76it/s]\n",
      "100%|████████████████████████████████████████████████████████████████████████████████████████████████████████████████████████████████| 1000/1000 [00:00<00:00, 4875.40it/s]\n",
      "100%|██████████████████████████████████████████████████████████████████████████████████████████████████████████████████████████████████| 1000/1000 [00:11<00:00, 88.29it/s]\n",
      "100%|████████████████████████████████████████████████████████████████████████████████████████████████████████████████████████████████| 1000/1000 [00:00<00:00, 4605.70it/s]\n",
      "100%|██████████████████████████████████████████████████████████████████████████████████████████████████████████████████████████████████| 1000/1000 [00:10<00:00, 99.03it/s]\n",
      "100%|████████████████████████████████████████████████████████████████████████████████████████████████████████████████████████████████| 1000/1000 [00:00<00:00, 4051.69it/s]\n",
      "100%|██████████████████████████████████████████████████████████████████████████████████████████████████████████████████████████████████| 1000/1000 [00:10<00:00, 91.55it/s]\n",
      "100%|████████████████████████████████████████████████████████████████████████████████████████████████████████████████████████████████| 1000/1000 [00:00<00:00, 4230.53it/s]\n",
      "100%|█████████████████████████████████████████████████████████████████████████████████████████████████████████████████████████████████| 1000/1000 [00:09<00:00, 102.34it/s]\n",
      "100%|████████████████████████████████████████████████████████████████████████████████████████████████████████████████████████████████| 1000/1000 [00:00<00:00, 4268.12it/s]\n",
      "100%|█████████████████████████████████████████████████████████████████████████████████████████████████████████████████████████████████| 1000/1000 [00:09<00:00, 109.74it/s]\n",
      "100%|████████████████████████████████████████████████████████████████████████████████████████████████████████████████████████████████| 1000/1000 [00:00<00:00, 4433.83it/s]\n",
      "100%|███████████████████████████████████████████████████████████████████████████████████████████████████████████████████████████████████| 399/399 [00:03<00:00, 124.11it/s]\n",
      "100%|██████████████████████████████████████████████████████████████████████████████████████████████████████████████████████████████████| 399/399 [00:00<00:00, 4480.42it/s]\n"
     ]
    }
   ],
   "source": [
    "batched_user_data = get_user_data_in_batches(uid_list, batch_size=1000)"
   ]
  },
  {
   "cell_type": "code",
   "execution_count": 136,
   "id": "3fad3a16-df0a-4197-8190-3ad40276eb13",
   "metadata": {},
   "outputs": [
    {
     "data": {
      "text/plain": [
       "29399"
      ]
     },
     "execution_count": 136,
     "metadata": {},
     "output_type": "execute_result"
    }
   ],
   "source": [
    "len(uid_list)"
   ]
  },
  {
   "cell_type": "code",
   "execution_count": 137,
   "id": "cbd5e839-3482-476b-bfa3-c9a63ca58a84",
   "metadata": {},
   "outputs": [],
   "source": [
    "batched_user_data.columns = ['user_id','resume']"
   ]
  },
  {
   "cell_type": "code",
   "execution_count": 145,
   "id": "b1a79282-2967-451c-a200-8641856a2eb7",
   "metadata": {},
   "outputs": [
    {
     "data": {
      "text/plain": [
       "user_id    object\n",
       "resume     object\n",
       "dtype: object"
      ]
     },
     "execution_count": 145,
     "metadata": {},
     "output_type": "execute_result"
    }
   ],
   "source": [
    "batched_user_data.dtypes"
   ]
  },
  {
   "cell_type": "code",
   "execution_count": 146,
   "id": "7adc6b83-be19-425a-9a7f-e76035d8af04",
   "metadata": {},
   "outputs": [],
   "source": [
    "batched_user_data['user_id']=batched_user_data['user_id'].astype(int)"
   ]
  },
  {
   "cell_type": "code",
   "execution_count": 147,
   "id": "5ba6f14b-1c56-494c-9e9b-5ef697ea57db",
   "metadata": {},
   "outputs": [],
   "source": [
    "main_df=pd.merge(batched_user_data, merged_df, on='user_id', how='left')"
   ]
  },
  {
   "cell_type": "code",
   "execution_count": 151,
   "id": "5bb919aa-ac61-4b2a-bf6a-ef030841cbc1",
   "metadata": {},
   "outputs": [
    {
     "data": {
      "text/html": [
       "<div>\n",
       "<style scoped>\n",
       "    .dataframe tbody tr th:only-of-type {\n",
       "        vertical-align: middle;\n",
       "    }\n",
       "\n",
       "    .dataframe tbody tr th {\n",
       "        vertical-align: top;\n",
       "    }\n",
       "\n",
       "    .dataframe thead th {\n",
       "        text-align: right;\n",
       "    }\n",
       "</style>\n",
       "<table border=\"1\" class=\"dataframe\">\n",
       "  <thead>\n",
       "    <tr style=\"text-align: right;\">\n",
       "      <th></th>\n",
       "      <th>user_id</th>\n",
       "      <th>resume</th>\n",
       "      <th>job_id</th>\n",
       "      <th>introText</th>\n",
       "      <th>application_id</th>\n",
       "    </tr>\n",
       "  </thead>\n",
       "  <tbody>\n",
       "    <tr>\n",
       "      <th>86372</th>\n",
       "      <td>1313207</td>\n",
       "      <td>Anita Singh Gurgaon, anitasinghmail@gmail.com ...</td>\n",
       "      <td>1375937</td>\n",
       "      <td>&lt;p&gt;Key Responsibilities :&lt;br/&gt;&lt;br/&gt;- Strategic...</td>\n",
       "      <td>144363980</td>\n",
       "    </tr>\n",
       "    <tr>\n",
       "      <th>71025</th>\n",
       "      <td>1363054</td>\n",
       "      <td>PUSHPENDRA MEENA pushpendra.m19@fms.edu Male, ...</td>\n",
       "      <td>1373849</td>\n",
       "      <td>&lt;p&gt;Urban Company is a technology platform offe...</td>\n",
       "      <td>144210156</td>\n",
       "    </tr>\n",
       "    <tr>\n",
       "      <th>41729</th>\n",
       "      <td>177956</td>\n",
       "      <td>VISHAL BHATIA, vishal.d.bhatia@gmail.com, +91-...</td>\n",
       "      <td>1374875</td>\n",
       "      <td>&lt;p&gt;Product Head &lt;/p&gt;&lt;p&gt;&lt;br/&gt;&lt;/p&gt;&lt;p&gt;Job Title: ...</td>\n",
       "      <td>144425989</td>\n",
       "    </tr>\n",
       "    <tr>\n",
       "      <th>65244</th>\n",
       "      <td>1084020</td>\n",
       "      <td>ASHISH PANT Summary Service-driven professiona...</td>\n",
       "      <td>1373833</td>\n",
       "      <td>&lt;p&gt;Head EBO&lt;br/&gt;&lt;br/&gt;Domnic Lewis has been man...</td>\n",
       "      <td>144184841</td>\n",
       "    </tr>\n",
       "    <tr>\n",
       "      <th>67664</th>\n",
       "      <td>385404</td>\n",
       "      <td>CA Saumitra Bhat Chartered Accountant, India, ...</td>\n",
       "      <td>1376206</td>\n",
       "      <td>&lt;p&gt;Alert from 4S Advisory (www.4sadvisory.com)...</td>\n",
       "      <td>144399298</td>\n",
       "    </tr>\n",
       "  </tbody>\n",
       "</table>\n",
       "</div>"
      ],
      "text/plain": [
       "       user_id                                             resume   job_id  \\\n",
       "86372  1313207  Anita Singh Gurgaon, anitasinghmail@gmail.com ...  1375937   \n",
       "71025  1363054  PUSHPENDRA MEENA pushpendra.m19@fms.edu Male, ...  1373849   \n",
       "41729   177956  VISHAL BHATIA, vishal.d.bhatia@gmail.com, +91-...  1374875   \n",
       "65244  1084020  ASHISH PANT Summary Service-driven professiona...  1373833   \n",
       "67664   385404  CA Saumitra Bhat Chartered Accountant, India, ...  1376206   \n",
       "\n",
       "                                               introText  application_id  \n",
       "86372  <p>Key Responsibilities :<br/><br/>- Strategic...       144363980  \n",
       "71025  <p>Urban Company is a technology platform offe...       144210156  \n",
       "41729  <p>Product Head </p><p><br/></p><p>Job Title: ...       144425989  \n",
       "65244  <p>Head EBO<br/><br/>Domnic Lewis has been man...       144184841  \n",
       "67664  <p>Alert from 4S Advisory (www.4sadvisory.com)...       144399298  "
      ]
     },
     "execution_count": 151,
     "metadata": {},
     "output_type": "execute_result"
    }
   ],
   "source": [
    "main_df.sample(5)"
   ]
  },
  {
   "cell_type": "code",
   "execution_count": 154,
   "id": "c5214b8f-4421-4342-8598-1b88f3099b8f",
   "metadata": {},
   "outputs": [
    {
     "data": {
      "text/plain": [
       "user_id           0\n",
       "resume            0\n",
       "job_id            0\n",
       "introText         0\n",
       "application_id    0\n",
       "dtype: int64"
      ]
     },
     "execution_count": 154,
     "metadata": {},
     "output_type": "execute_result"
    }
   ],
   "source": [
    "main_df.isnull().sum()"
   ]
  },
  {
   "cell_type": "code",
   "execution_count": 171,
   "id": "5c42d2fa-acdc-4db1-bdd7-fb2cec179e52",
   "metadata": {},
   "outputs": [],
   "source": [
    "def clean_text(input_text):\n",
    "    \n",
    "    '''Make text lowercase, remove text in square brackets,remove links,\n",
    "    remove punctuation and remove words containing numbers.'''\n",
    "\n",
    "    # This code block was added to remove the company names from Job embeddings\n",
    "    \n",
    "    # t = input_text.split('-')\n",
    "    # if len(t)>3:\n",
    "    #     t1 = t[1:]\n",
    "    #     text = ' '.join(t1)\n",
    "    # else:\n",
    "    #     text = input_text\n",
    "    #     pass\n",
    "\n",
    "    text = input_text\n",
    "        \n",
    "    text = str(text).lower()\n",
    "    text = re.sub('\\[.*?\\]',' ', text)\n",
    "    text = re.sub('https?://\\S+|www\\.\\S+',' ', text)\n",
    "    text = re.sub('<.*?>+',' ', text)\n",
    "    text = re.sub('[%s]' % re.escape(string.punctuation),' ', text)\n",
    "    text = re.sub('\\n',' ', text)\n",
    "    text = re.sub('\\w*\\d\\w*',' ', text)\n",
    "    text = re.sub('yrs',' ',text)\n",
    "    text = re.sub('\\r',' ',text)\n",
    "    text = ' '.join([word for word in text.split() if word not in (stop)])\n",
    "    text = re.sub(' +', ' ', text)\n",
    "    \n",
    "    return text"
   ]
  },
  {
   "cell_type": "code",
   "execution_count": 172,
   "id": "478bb43e-b24e-4264-a79a-f65a93aeefb3",
   "metadata": {},
   "outputs": [
    {
     "name": "stderr",
     "output_type": "stream",
     "text": [
      "100%|████████████████████████████████████████████████████████████████████████████████████████████████████████████████████████████| 126362/126362 [01:37<00:00, 1294.10it/s]\n"
     ]
    }
   ],
   "source": [
    "li = []\n",
    "for d in tqdm(main_df['introText']):\n",
    "    des = clean_text(d)\n",
    "    li.append(des)"
   ]
  },
  {
   "cell_type": "code",
   "execution_count": 173,
   "id": "f5fe6a83-f8c8-472a-aacf-e95634674d04",
   "metadata": {},
   "outputs": [],
   "source": [
    "main_df['description']=li"
   ]
  },
  {
   "cell_type": "code",
   "execution_count": 174,
   "id": "282e2a5a-c3d6-4613-8b48-ff8112534f12",
   "metadata": {},
   "outputs": [
    {
     "data": {
      "text/html": [
       "<div>\n",
       "<style scoped>\n",
       "    .dataframe tbody tr th:only-of-type {\n",
       "        vertical-align: middle;\n",
       "    }\n",
       "\n",
       "    .dataframe tbody tr th {\n",
       "        vertical-align: top;\n",
       "    }\n",
       "\n",
       "    .dataframe thead th {\n",
       "        text-align: right;\n",
       "    }\n",
       "</style>\n",
       "<table border=\"1\" class=\"dataframe\">\n",
       "  <thead>\n",
       "    <tr style=\"text-align: right;\">\n",
       "      <th></th>\n",
       "      <th>user_id</th>\n",
       "      <th>resume</th>\n",
       "      <th>job_id</th>\n",
       "      <th>introText</th>\n",
       "      <th>application_id</th>\n",
       "      <th>description</th>\n",
       "    </tr>\n",
       "  </thead>\n",
       "  <tbody>\n",
       "    <tr>\n",
       "      <th>0</th>\n",
       "      <td>439042</td>\n",
       "      <td>Vibha Issar Email: vibhaissar@rediffmail.com M...</td>\n",
       "      <td>1373681</td>\n",
       "      <td>&lt;p&gt;About Company - Global recognized leader in...</td>\n",
       "      <td>144274567</td>\n",
       "      <td>company global recognized leader financial tec...</td>\n",
       "    </tr>\n",
       "    <tr>\n",
       "      <th>1</th>\n",
       "      <td>2015063</td>\n",
       "      <td>Swati Kamble +91 913 7083 435 | swatikamble257...</td>\n",
       "      <td>1373681</td>\n",
       "      <td>&lt;p&gt;About Company - Global recognized leader in...</td>\n",
       "      <td>144261479</td>\n",
       "      <td>company global recognized leader financial tec...</td>\n",
       "    </tr>\n",
       "    <tr>\n",
       "      <th>2</th>\n",
       "      <td>2015063</td>\n",
       "      <td>Swati Kamble +91 913 7083 435 | swatikamble257...</td>\n",
       "      <td>1373729</td>\n",
       "      <td>&lt;p&gt;- MBA in Corporate Finance or related field...</td>\n",
       "      <td>144261360</td>\n",
       "      <td>mba corporate finance related field years expe...</td>\n",
       "    </tr>\n",
       "    <tr>\n",
       "      <th>3</th>\n",
       "      <td>2015063</td>\n",
       "      <td>Swati Kamble +91 913 7083 435 | swatikamble257...</td>\n",
       "      <td>1373732</td>\n",
       "      <td>&lt;p&gt;A Mumbai-based family office is looking to ...</td>\n",
       "      <td>144261352</td>\n",
       "      <td>mumbai based family office looking hire equity...</td>\n",
       "    </tr>\n",
       "    <tr>\n",
       "      <th>4</th>\n",
       "      <td>2015063</td>\n",
       "      <td>Swati Kamble +91 913 7083 435 | swatikamble257...</td>\n",
       "      <td>1373753</td>\n",
       "      <td>&lt;p&gt;The Business Finance Partner is a full-time...</td>\n",
       "      <td>144261337</td>\n",
       "      <td>business finance partner full time role respon...</td>\n",
       "    </tr>\n",
       "    <tr>\n",
       "      <th>...</th>\n",
       "      <td>...</td>\n",
       "      <td>...</td>\n",
       "      <td>...</td>\n",
       "      <td>...</td>\n",
       "      <td>...</td>\n",
       "      <td>...</td>\n",
       "    </tr>\n",
       "    <tr>\n",
       "      <th>126357</th>\n",
       "      <td>1984167</td>\n",
       "      <td>Contact Details: Email: bvkarthik88@gmail.com ...</td>\n",
       "      <td>1376745</td>\n",
       "      <td>&lt;p&gt;&lt;b&gt;Role : Director - Compliance Investigato...</td>\n",
       "      <td>144441737</td>\n",
       "      <td>role director compliance investigator financia...</td>\n",
       "    </tr>\n",
       "    <tr>\n",
       "      <th>126358</th>\n",
       "      <td>770660</td>\n",
       "      <td>Profile Dynamic leader and a Certified Risk Ma...</td>\n",
       "      <td>1376742</td>\n",
       "      <td>&lt;p&gt;&lt;b&gt;Role : AVP/Senior Manager - Ethics and C...</td>\n",
       "      <td>144438628</td>\n",
       "      <td>role avp senior manager ethics compliance mana...</td>\n",
       "    </tr>\n",
       "    <tr>\n",
       "      <th>126359</th>\n",
       "      <td>2747092</td>\n",
       "      <td>ANGAD KUMAR MISHRA Contact: 9990897791 Email: ...</td>\n",
       "      <td>1376747</td>\n",
       "      <td>&lt;p&gt;&lt;b&gt;Role : Senior Manager - HR Compliance &amp; ...</td>\n",
       "      <td>144440377</td>\n",
       "      <td>role senior manager hr compliance labour relat...</td>\n",
       "    </tr>\n",
       "    <tr>\n",
       "      <th>126360</th>\n",
       "      <td>138055</td>\n",
       "      <td>SIDDHARTH ARORA Post Graduate Diploma in Manag...</td>\n",
       "      <td>1376729</td>\n",
       "      <td>&lt;p&gt;Executive Hiring is looking for a Head - Su...</td>\n",
       "      <td>144439177</td>\n",
       "      <td>executive hiring looking head supply chain pla...</td>\n",
       "    </tr>\n",
       "    <tr>\n",
       "      <th>126361</th>\n",
       "      <td>146328</td>\n",
       "      <td>206, Goldcroft Building Somnath Ghosh Hiranand...</td>\n",
       "      <td>1376729</td>\n",
       "      <td>&lt;p&gt;Executive Hiring is looking for a Head - Su...</td>\n",
       "      <td>144441439</td>\n",
       "      <td>executive hiring looking head supply chain pla...</td>\n",
       "    </tr>\n",
       "  </tbody>\n",
       "</table>\n",
       "<p>126362 rows × 6 columns</p>\n",
       "</div>"
      ],
      "text/plain": [
       "        user_id                                             resume   job_id  \\\n",
       "0        439042  Vibha Issar Email: vibhaissar@rediffmail.com M...  1373681   \n",
       "1       2015063  Swati Kamble +91 913 7083 435 | swatikamble257...  1373681   \n",
       "2       2015063  Swati Kamble +91 913 7083 435 | swatikamble257...  1373729   \n",
       "3       2015063  Swati Kamble +91 913 7083 435 | swatikamble257...  1373732   \n",
       "4       2015063  Swati Kamble +91 913 7083 435 | swatikamble257...  1373753   \n",
       "...         ...                                                ...      ...   \n",
       "126357  1984167  Contact Details: Email: bvkarthik88@gmail.com ...  1376745   \n",
       "126358   770660  Profile Dynamic leader and a Certified Risk Ma...  1376742   \n",
       "126359  2747092  ANGAD KUMAR MISHRA Contact: 9990897791 Email: ...  1376747   \n",
       "126360   138055  SIDDHARTH ARORA Post Graduate Diploma in Manag...  1376729   \n",
       "126361   146328  206, Goldcroft Building Somnath Ghosh Hiranand...  1376729   \n",
       "\n",
       "                                                introText  application_id  \\\n",
       "0       <p>About Company - Global recognized leader in...       144274567   \n",
       "1       <p>About Company - Global recognized leader in...       144261479   \n",
       "2       <p>- MBA in Corporate Finance or related field...       144261360   \n",
       "3       <p>A Mumbai-based family office is looking to ...       144261352   \n",
       "4       <p>The Business Finance Partner is a full-time...       144261337   \n",
       "...                                                   ...             ...   \n",
       "126357  <p><b>Role : Director - Compliance Investigato...       144441737   \n",
       "126358  <p><b>Role : AVP/Senior Manager - Ethics and C...       144438628   \n",
       "126359  <p><b>Role : Senior Manager - HR Compliance & ...       144440377   \n",
       "126360  <p>Executive Hiring is looking for a Head - Su...       144439177   \n",
       "126361  <p>Executive Hiring is looking for a Head - Su...       144441439   \n",
       "\n",
       "                                              description  \n",
       "0       company global recognized leader financial tec...  \n",
       "1       company global recognized leader financial tec...  \n",
       "2       mba corporate finance related field years expe...  \n",
       "3       mumbai based family office looking hire equity...  \n",
       "4       business finance partner full time role respon...  \n",
       "...                                                   ...  \n",
       "126357  role director compliance investigator financia...  \n",
       "126358  role avp senior manager ethics compliance mana...  \n",
       "126359  role senior manager hr compliance labour relat...  \n",
       "126360  executive hiring looking head supply chain pla...  \n",
       "126361  executive hiring looking head supply chain pla...  \n",
       "\n",
       "[126362 rows x 6 columns]"
      ]
     },
     "execution_count": 174,
     "metadata": {},
     "output_type": "execute_result"
    }
   ],
   "source": [
    "main_df"
   ]
  },
  {
   "cell_type": "code",
   "execution_count": 165,
   "id": "d18efe7b-9f16-42c0-b358-258f337bf842",
   "metadata": {},
   "outputs": [],
   "source": [
    "# main_df[['resume']].values"
   ]
  },
  {
   "cell_type": "code",
   "execution_count": 176,
   "id": "aa0eaba2-f88b-471f-8cd9-ff2e02fd7f28",
   "metadata": {},
   "outputs": [],
   "source": [
    "# main_df.to_csv('../custom_data/metric_data/main_data.csv', index=False)"
   ]
  },
  {
   "cell_type": "code",
   "execution_count": null,
   "id": "f3fa6e92-0fee-48d8-81b1-dd907ca043d5",
   "metadata": {},
   "outputs": [],
   "source": []
  }
 ],
 "metadata": {
  "kernelspec": {
   "display_name": "Python 3 (ipykernel)",
   "language": "python",
   "name": "python3"
  },
  "language_info": {
   "codemirror_mode": {
    "name": "ipython",
    "version": 3
   },
   "file_extension": ".py",
   "mimetype": "text/x-python",
   "name": "python",
   "nbconvert_exporter": "python",
   "pygments_lexer": "ipython3",
   "version": "3.10.12"
  }
 },
 "nbformat": 4,
 "nbformat_minor": 5
}
