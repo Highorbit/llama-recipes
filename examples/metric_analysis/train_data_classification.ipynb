{
 "cells": [
  {
   "cell_type": "code",
   "execution_count": 1,
   "id": "f06b992c-5817-4c7d-bf8d-72721b37bcef",
   "metadata": {},
   "outputs": [],
   "source": [
    "import configparser\n",
    "import pandas as pd\n",
    "import pymysql"
   ]
  },
  {
   "cell_type": "code",
   "execution_count": 2,
   "id": "549e5fbd-daf4-482f-8e51-6c5485e2f51a",
   "metadata": {},
   "outputs": [
    {
     "data": {
      "text/plain": [
       "['../../examples/configs/config.ini']"
      ]
     },
     "execution_count": 2,
     "metadata": {},
     "output_type": "execute_result"
    }
   ],
   "source": [
    "\n",
    "config=configparser.ConfigParser()\n",
    "config.read('../../examples/configs/config.ini')"
   ]
  },
  {
   "cell_type": "code",
   "execution_count": 3,
   "id": "d159fc7a-1e11-4afe-bbc0-ee99898edbef",
   "metadata": {},
   "outputs": [],
   "source": [
    "mydb= pymysql.connect(\n",
    "host=config['iimjobs_db']['hostname'],\n",
    "user=config['iimjobs_db']['username'],\n",
    "password=config['iimjobs_db']['password'],\n",
    "db=config['iimjobs_db']['db_name']\n",
    ")\n",
    "\n",
    "mycursor = mydb.cursor()"
   ]
  },
  {
   "cell_type": "code",
   "execution_count": 4,
   "id": "42b8bb16-e75b-4870-87f0-93609e954e1d",
   "metadata": {},
   "outputs": [],
   "source": [
    "mycursor = mydb.cursor()\n",
    "\n",
    " \n",
    "query = \"SELECT title FROM jos_content WHERE title LIKE '%recruiter%'\"\n",
    "\n",
    "mycursor.execute(query)\n",
    "\n",
    "result = mycursor.fetchall()"
   ]
  },
  {
   "cell_type": "code",
   "execution_count": 5,
   "id": "c6d37fe6-b96b-4583-a3be-7c6da5f3c371",
   "metadata": {},
   "outputs": [],
   "source": [
    "rec = pd.DataFrame(result,columns=['title'])"
   ]
  },
  {
   "cell_type": "code",
   "execution_count": 9,
   "id": "0355ff84-a37f-4177-be3d-1aecac61a735",
   "metadata": {},
   "outputs": [],
   "source": [
    "rec= rec.sample(1000)"
   ]
  },
  {
   "cell_type": "code",
   "execution_count": 10,
   "id": "94cc0352-a2f8-40d0-acc2-212f70e2d8ed",
   "metadata": {},
   "outputs": [
    {
     "data": {
      "text/html": [
       "<div>\n",
       "<style scoped>\n",
       "    .dataframe tbody tr th:only-of-type {\n",
       "        vertical-align: middle;\n",
       "    }\n",
       "\n",
       "    .dataframe tbody tr th {\n",
       "        vertical-align: top;\n",
       "    }\n",
       "\n",
       "    .dataframe thead th {\n",
       "        text-align: right;\n",
       "    }\n",
       "</style>\n",
       "<table border=\"1\" class=\"dataframe\">\n",
       "  <thead>\n",
       "    <tr style=\"text-align: right;\">\n",
       "      <th></th>\n",
       "      <th>title</th>\n",
       "    </tr>\n",
       "  </thead>\n",
       "  <tbody>\n",
       "    <tr>\n",
       "      <th>136</th>\n",
       "      <td>AB InBev - Recruiter (6-12 yrs)</td>\n",
       "    </tr>\n",
       "    <tr>\n",
       "      <th>3347</th>\n",
       "      <td>Senior Technical Recruiter - BPO/ITeS (6-10 yrs)</td>\n",
       "    </tr>\n",
       "    <tr>\n",
       "      <th>1013</th>\n",
       "      <td>Goldman Sachs - Campus Recruiter (4-7 yrs)</td>\n",
       "    </tr>\n",
       "    <tr>\n",
       "      <th>1621</th>\n",
       "      <td>Lead Technical Recruiter - Software Product Fi...</td>\n",
       "    </tr>\n",
       "    <tr>\n",
       "      <th>3088</th>\n",
       "      <td>Senior Recruiter - Internet/Online (7-10 yrs)</td>\n",
       "    </tr>\n",
       "    <tr>\n",
       "      <th>...</th>\n",
       "      <td>...</td>\n",
       "    </tr>\n",
       "    <tr>\n",
       "      <th>1241</th>\n",
       "      <td>Infinity Learn - Lead Recruiter - Tech (3-5 yrs)</td>\n",
       "    </tr>\n",
       "    <tr>\n",
       "      <th>2146</th>\n",
       "      <td>PharmEasy - Technical Recruiter (3-7 yrs)</td>\n",
       "    </tr>\n",
       "    <tr>\n",
       "      <th>1136</th>\n",
       "      <td>HR Recruiter - Legal Recruitment Consultancy  ...</td>\n",
       "    </tr>\n",
       "    <tr>\n",
       "      <th>1402</th>\n",
       "      <td>IT/Non IT Recruiter - Investment Bank (2-3 yrs)</td>\n",
       "    </tr>\n",
       "    <tr>\n",
       "      <th>4261</th>\n",
       "      <td>Yubi - Recruiter (4-8 yrs)</td>\n",
       "    </tr>\n",
       "  </tbody>\n",
       "</table>\n",
       "<p>1000 rows × 1 columns</p>\n",
       "</div>"
      ],
      "text/plain": [
       "                                                  title\n",
       "136                     AB InBev - Recruiter (6-12 yrs)\n",
       "3347   Senior Technical Recruiter - BPO/ITeS (6-10 yrs)\n",
       "1013         Goldman Sachs - Campus Recruiter (4-7 yrs)\n",
       "1621  Lead Technical Recruiter - Software Product Fi...\n",
       "3088      Senior Recruiter - Internet/Online (7-10 yrs)\n",
       "...                                                 ...\n",
       "1241   Infinity Learn - Lead Recruiter - Tech (3-5 yrs)\n",
       "2146          PharmEasy - Technical Recruiter (3-7 yrs)\n",
       "1136  HR Recruiter - Legal Recruitment Consultancy  ...\n",
       "1402    IT/Non IT Recruiter - Investment Bank (2-3 yrs)\n",
       "4261                         Yubi - Recruiter (4-8 yrs)\n",
       "\n",
       "[1000 rows x 1 columns]"
      ]
     },
     "execution_count": 10,
     "metadata": {},
     "output_type": "execute_result"
    }
   ],
   "source": [
    "rec"
   ]
  },
  {
   "cell_type": "code",
   "execution_count": 4,
   "id": "184dad64-0500-4ebd-a6aa-a2e9a226449c",
   "metadata": {},
   "outputs": [],
   "source": [
    "mycursor = mydb.cursor()\n",
    "\n",
    " \n",
    "query = \"SELECT title FROM jos_content WHERE title LIKE '%recruitment%'\"\n",
    "\n",
    "mycursor.execute(query)\n",
    "\n",
    "result = mycursor.fetchall()"
   ]
  },
  {
   "cell_type": "code",
   "execution_count": 5,
   "id": "cc846c3a-08df-4ef9-af1b-eafb8e3f9113",
   "metadata": {},
   "outputs": [],
   "source": [
    "\n",
    "tit = pd.DataFrame(result,columns=['title'])"
   ]
  },
  {
   "cell_type": "code",
   "execution_count": 6,
   "id": "afcde430-5796-4598-bcac-e4ccad52840f",
   "metadata": {},
   "outputs": [],
   "source": [
    "tit['label'] =1"
   ]
  },
  {
   "cell_type": "code",
   "execution_count": 7,
   "id": "86c998fd-f4f0-4d6c-a569-8ead703e7ef7",
   "metadata": {},
   "outputs": [],
   "source": [
    "tit = tit.sample(1000)"
   ]
  },
  {
   "cell_type": "code",
   "execution_count": 8,
   "id": "b0528602-abc3-4edf-a5ac-a32eaadd14e4",
   "metadata": {},
   "outputs": [],
   "source": [
    "mycursor = mydb.cursor()\n",
    "\n",
    " \n",
    "query = \"SELECT title FROM jos_content WHERE title LIKE '%recruiter%'\"\n",
    "\n",
    "mycursor.execute(query)\n",
    "\n",
    "result = mycursor.fetchall()"
   ]
  },
  {
   "cell_type": "code",
   "execution_count": 9,
   "id": "759d6121-5846-4f11-b67a-7edf7a3279cf",
   "metadata": {},
   "outputs": [],
   "source": [
    "tit1 = pd.DataFrame(result,columns=['title'])"
   ]
  },
  {
   "cell_type": "code",
   "execution_count": 10,
   "id": "99953dff-912e-4965-8958-7ef6fd9e94ac",
   "metadata": {},
   "outputs": [],
   "source": [
    "tit1['label']=1"
   ]
  },
  {
   "cell_type": "code",
   "execution_count": 11,
   "id": "ef7cfefc-568a-48b8-a63d-bfb899f47488",
   "metadata": {},
   "outputs": [],
   "source": [
    "tit1 = tit1.sample(1000)"
   ]
  },
  {
   "cell_type": "code",
   "execution_count": 12,
   "id": "d111f367-2abe-4b71-9804-b329010a328a",
   "metadata": {},
   "outputs": [],
   "source": [
    "mycursor = mydb.cursor()\n",
    "\n",
    " \n",
    "query = \"SELECT title FROM jos_content WHERE title LIKE '%consultant%'\"\n",
    "\n",
    "mycursor.execute(query)\n",
    "\n",
    "result = mycursor.fetchall()"
   ]
  },
  {
   "cell_type": "code",
   "execution_count": 13,
   "id": "b1ad5fb1-8385-46ee-92fe-0c4273a91565",
   "metadata": {},
   "outputs": [],
   "source": [
    "tit2=pd.DataFrame(result,columns=['title'])"
   ]
  },
  {
   "cell_type": "code",
   "execution_count": 14,
   "id": "2c111e6d-a800-4452-96d1-0c7e47817002",
   "metadata": {},
   "outputs": [],
   "source": [
    "tit2['label']=1"
   ]
  },
  {
   "cell_type": "code",
   "execution_count": 15,
   "id": "84fcadd5-2ca6-42da-acb0-c22a6ee0e641",
   "metadata": {},
   "outputs": [],
   "source": [
    "tit2=tit2.sample(1000)"
   ]
  },
  {
   "cell_type": "code",
   "execution_count": 16,
   "id": "eb0bf224-08e3-4b5e-9606-f21bc43df247",
   "metadata": {},
   "outputs": [],
   "source": [
    "# mycursor = mydb.cursor()\n",
    "\n",
    " \n",
    "# query = \"SELECT title FROM jos_content WHERE title LIKE '%consultancy%'\"\n",
    "\n",
    "# mycursor.execute(query)\n",
    "\n",
    "# result = mycursor.fetchall()"
   ]
  },
  {
   "cell_type": "code",
   "execution_count": 17,
   "id": "72b7eb4d-e749-49f0-929d-f73a359f142e",
   "metadata": {},
   "outputs": [],
   "source": [
    "# tit3 = pd.DataFrame(result,columns=['title'])"
   ]
  },
  {
   "cell_type": "code",
   "execution_count": 18,
   "id": "73926446-3d74-4461-8464-60383603be2b",
   "metadata": {},
   "outputs": [],
   "source": [
    "# tit3['label']=1"
   ]
  },
  {
   "cell_type": "code",
   "execution_count": 19,
   "id": "e8042419-fd7a-4a18-94ab-239d125b9d51",
   "metadata": {},
   "outputs": [],
   "source": [
    "# tit3"
   ]
  },
  {
   "cell_type": "code",
   "execution_count": 20,
   "id": "f017f889-7e0d-4a61-b95e-a0dc56906b30",
   "metadata": {},
   "outputs": [],
   "source": [
    "# tit3 = tit3.sample(1000)"
   ]
  },
  {
   "cell_type": "code",
   "execution_count": 21,
   "id": "360c19fb-d98a-4a9e-beb7-2e01136272ad",
   "metadata": {},
   "outputs": [],
   "source": [
    "mycursor = mydb.cursor()\n",
    "\n",
    " \n",
    "query = \"SELECT title FROM jos_content WHERE title LIKE '%operations%'\"\n",
    "\n",
    "mycursor.execute(query)\n",
    "\n",
    "result = mycursor.fetchall()"
   ]
  },
  {
   "cell_type": "code",
   "execution_count": 22,
   "id": "68eb8352-c0bb-4905-8da7-f9213edc7952",
   "metadata": {},
   "outputs": [],
   "source": [
    "tit4 = pd.DataFrame(result,columns=['title'])"
   ]
  },
  {
   "cell_type": "code",
   "execution_count": 23,
   "id": "81b5fae1-89bb-4ad7-941e-19bb78ebc589",
   "metadata": {},
   "outputs": [],
   "source": [
    "tit4['label']=1"
   ]
  },
  {
   "cell_type": "code",
   "execution_count": 24,
   "id": "ff9e42b7-695b-4bc0-9873-9e083327096c",
   "metadata": {},
   "outputs": [],
   "source": [
    "tit4 = tit4.sample(1000)"
   ]
  },
  {
   "cell_type": "code",
   "execution_count": 25,
   "id": "b18f2e26-ee2a-4e41-8472-772f4bfe887c",
   "metadata": {},
   "outputs": [],
   "source": [
    "fd = pd.concat([tit,tit1,tit2,tit4])"
   ]
  },
  {
   "cell_type": "code",
   "execution_count": 26,
   "id": "0a669d3c-3b27-4ee6-b8a4-e924d279d982",
   "metadata": {},
   "outputs": [],
   "source": [
    "\n",
    "fd['title']=fd['title'].str.lower()"
   ]
  },
  {
   "cell_type": "code",
   "execution_count": 27,
   "id": "8de7c073-0f1a-44c3-8157-c3636aaaa5e1",
   "metadata": {},
   "outputs": [
    {
     "data": {
      "text/html": [
       "<div>\n",
       "<style scoped>\n",
       "    .dataframe tbody tr th:only-of-type {\n",
       "        vertical-align: middle;\n",
       "    }\n",
       "\n",
       "    .dataframe tbody tr th {\n",
       "        vertical-align: top;\n",
       "    }\n",
       "\n",
       "    .dataframe thead th {\n",
       "        text-align: right;\n",
       "    }\n",
       "</style>\n",
       "<table border=\"1\" class=\"dataframe\">\n",
       "  <thead>\n",
       "    <tr style=\"text-align: right;\">\n",
       "      <th></th>\n",
       "      <th>title</th>\n",
       "      <th>label</th>\n",
       "    </tr>\n",
       "  </thead>\n",
       "  <tbody>\n",
       "    <tr>\n",
       "      <th>9948</th>\n",
       "      <td>michael page - recruitment consultant - iim/fm...</td>\n",
       "      <td>1</td>\n",
       "    </tr>\n",
       "    <tr>\n",
       "      <th>14043</th>\n",
       "      <td>search consultant - it/non it recruitment (0-6...</td>\n",
       "      <td>1</td>\n",
       "    </tr>\n",
       "    <tr>\n",
       "      <th>11814</th>\n",
       "      <td>recruitment associate manager - bpo   (8-15 yrs)</td>\n",
       "      <td>1</td>\n",
       "    </tr>\n",
       "    <tr>\n",
       "      <th>13923</th>\n",
       "      <td>researcher/recruitment role - bfsi  (4-7 yrs)</td>\n",
       "      <td>1</td>\n",
       "    </tr>\n",
       "    <tr>\n",
       "      <th>2603</th>\n",
       "      <td>campus recruitment role - bfsi (4-8 yrs)</td>\n",
       "      <td>1</td>\n",
       "    </tr>\n",
       "    <tr>\n",
       "      <th>...</th>\n",
       "      <td>...</td>\n",
       "      <td>...</td>\n",
       "    </tr>\n",
       "    <tr>\n",
       "      <th>45185</th>\n",
       "      <td>senior sales operations analyst - it (3-6 yrs)</td>\n",
       "      <td>1</td>\n",
       "    </tr>\n",
       "    <tr>\n",
       "      <th>19951</th>\n",
       "      <td>head - global quality control operations - qua...</td>\n",
       "      <td>1</td>\n",
       "    </tr>\n",
       "    <tr>\n",
       "      <th>10898</th>\n",
       "      <td>content strategist/manager - academic operatio...</td>\n",
       "      <td>1</td>\n",
       "    </tr>\n",
       "    <tr>\n",
       "      <th>16569</th>\n",
       "      <td>furlenco - regional manager - warehouse operat...</td>\n",
       "      <td>1</td>\n",
       "    </tr>\n",
       "    <tr>\n",
       "      <th>26587</th>\n",
       "      <td>jp morgan chase - client data specialist/opera...</td>\n",
       "      <td>1</td>\n",
       "    </tr>\n",
       "  </tbody>\n",
       "</table>\n",
       "<p>4000 rows × 2 columns</p>\n",
       "</div>"
      ],
      "text/plain": [
       "                                                   title  label\n",
       "9948   michael page - recruitment consultant - iim/fm...      1\n",
       "14043  search consultant - it/non it recruitment (0-6...      1\n",
       "11814   recruitment associate manager - bpo   (8-15 yrs)      1\n",
       "13923      researcher/recruitment role - bfsi  (4-7 yrs)      1\n",
       "2603            campus recruitment role - bfsi (4-8 yrs)      1\n",
       "...                                                  ...    ...\n",
       "45185     senior sales operations analyst - it (3-6 yrs)      1\n",
       "19951  head - global quality control operations - qua...      1\n",
       "10898  content strategist/manager - academic operatio...      1\n",
       "16569  furlenco - regional manager - warehouse operat...      1\n",
       "26587  jp morgan chase - client data specialist/opera...      1\n",
       "\n",
       "[4000 rows x 2 columns]"
      ]
     },
     "execution_count": 27,
     "metadata": {},
     "output_type": "execute_result"
    }
   ],
   "source": [
    "fd"
   ]
  },
  {
   "cell_type": "code",
   "execution_count": 28,
   "id": "788720cc-1fd4-43db-b32a-2c701a5d58c5",
   "metadata": {},
   "outputs": [],
   "source": [
    "fd.to_csv('../../examples/custom_data/iim_train_df.csv',index=False)"
   ]
  },
  {
   "cell_type": "code",
   "execution_count": null,
   "id": "d1f91129-132b-4bdf-a514-103a5e7d5c99",
   "metadata": {},
   "outputs": [],
   "source": []
  }
 ],
 "metadata": {
  "kernelspec": {
   "display_name": "Python 3 (ipykernel)",
   "language": "python",
   "name": "python3"
  },
  "language_info": {
   "codemirror_mode": {
    "name": "ipython",
    "version": 3
   },
   "file_extension": ".py",
   "mimetype": "text/x-python",
   "name": "python",
   "nbconvert_exporter": "python",
   "pygments_lexer": "ipython3",
   "version": "3.10.12"
  }
 },
 "nbformat": 4,
 "nbformat_minor": 5
}
