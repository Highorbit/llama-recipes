{
 "cells": [
  {
   "cell_type": "code",
   "execution_count": 1,
   "id": "f784e30b-15dc-4565-b795-fb4d3fe5db0d",
   "metadata": {},
   "outputs": [],
   "source": [
    "import gradio as gr\n",
    "\n",
    "\n",
    "def make_markdown():\n",
    "    return [\n",
    "        [\n",
    "            \"# hello again\",\n",
    "            \"Hello my name is frank, I am liking the small turtle you have there. It would be a shame if it went missing.\",\n",
    "            '<img src=\"https://images.unsplash.com/photo-1574613362884-f79513a5128c?fit=crop&w=500&q=80\"/>',\n",
    "        ],\n",
    "        [\n",
    "            \"## hello again again\",\n",
    "            \"Hello my name is frank, I am liking the small turtle you have there. It would be a shame if it went missing.\",\n",
    "            '<img src=\"https://images.unsplash.com/photo-1574613362884-f79513a5128c?fit=crop&w=500&q=80\"/>',\n",
    "        ],\n",
    "        [\n",
    "            \"### hello thrice\",\n",
    "            \"Hello my name is frank, I am liking the small turtle you have there. It would be a shame if it went missing.\",\n",
    "            '<img src=\"https://images.unsplash.com/photo-1574613362884-f79513a5128c?fit=crop&w=500&q=80\"/>',\n",
    "        ],\n",
    "    ]"
   ]
  },
  {
   "cell_type": "code",
   "execution_count": 5,
   "id": "33b04da6-3286-458d-8fcc-bd9d32f4e63b",
   "metadata": {},
   "outputs": [],
   "source": [
    "with gr.Blocks() as demo:\n",
    "    with gr.Column():\n",
    "        txt = gr.Textbox(label=\"Small Textbox\", lines=1, show_label=False)\n",
    "        txt = gr.Textbox(label=\"Large Textbox\", lines=5, show_label=False)\n",
    "        num = gr.Number(label=\"Number\", show_label=False)\n",
    "        check = gr.Checkbox(label=\"Checkbox\", show_label=False)\n",
    "        check_g = gr.CheckboxGroup(\n",
    "            label=\"Checkbox Group\", choices=[\"One\", \"Two\", \"Three\"], show_label=False\n",
    "        )\n",
    "        radio = gr.Radio(\n",
    "            label=\"Radio\", choices=[\"One\", \"Two\", \"Three\"], show_label=False\n",
    "        )\n",
    "        drop = gr.Dropdown(\n",
    "            label=\"Dropdown\", choices=[\"One\", \"Two\", \"Three\"], show_label=False\n",
    "        )\n",
    "        slider = gr.Slider(label=\"Slider\", show_label=False)\n",
    "        audio = gr.Audio(show_label=False)\n",
    "        file = gr.File(show_label=False)\n",
    "        video = gr.Video(show_label=False)\n",
    "        image = gr.Image(show_label=False)\n",
    "        df = gr.Dataframe(show_label=False)\n",
    "        html = gr.HTML(show_label=False)\n",
    "        json = gr.JSON(show_label=False)\n",
    "        md = gr.Markdown(show_label=False)\n",
    "        label = gr.Label(show_label=False)\n",
    "        highlight = gr.HighlightedText(show_label=False)\n",
    "        gr.Dataframe(interactive=True, col_count=(3, \"fixed\"), label=\"Dataframe\")\n",
    "        gr.Dataframe(interactive=True, col_count=4, label=\"Dataframe\")\n",
    "        gr.Dataframe(\n",
    "            interactive=True, headers=[\"One\", \"Two\", \"Three\", \"Four\"], label=\"Dataframe\"\n",
    "        )\n",
    "        gr.Dataframe(\n",
    "            interactive=True,\n",
    "            headers=[\"One\", \"Two\", \"Three\", \"Four\"],\n",
    "            col_count=(4, \"fixed\"),\n",
    "            row_count=(7, \"fixed\"),\n",
    "            value=[[0, 0, 0, 0]],\n",
    "            label=\"Dataframe\",\n",
    "        )\n",
    "        gr.Dataframe(\n",
    "            interactive=True, headers=[\"One\", \"Two\", \"Three\", \"Four\"], col_count=4\n",
    "        )\n",
    "        df = gr.DataFrame(\n",
    "            [\n",
    "                [\n",
    "                    \"# hello\",\n",
    "                    \"Hello my name is frank, I am liking the small turtle you have there. It would be a shame if it went missing.\",\n",
    "                    '<img src=\"https://images.unsplash.com/photo-1574613362884-f79513a5128c?fit=crop&w=500&q=80\"/>',\n",
    "                ],\n",
    "                [\n",
    "                    \"## hello\",\n",
    "                    \"Hello my name is frank, I am liking the small turtle you have there. It would be a shame if it went missing.\",\n",
    "                    '<img src=\"https://images.unsplash.com/photo-1574613362884-f79513a5128c?fit=crop&w=500&q=80\"/>',\n",
    "                ],\n",
    "                [\n",
    "                    \"### hello\",\n",
    "                    \"Hello my name is frank, I am liking the small turtle you have there. It would be a shame if it went missing.\",\n",
    "                    '<img src=\"https://images.unsplash.com/photo-1574613362884-f79513a5128c?fit=crop&w=500&q=80\"/>',\n",
    "                ],\n",
    "            ],\n",
    "            headers=[\"One\", \"Two\", \"Three\"],\n",
    "            wrap=True,\n",
    "            datatype=[\"markdown\", \"markdown\", \"html\"],\n",
    "            interactive=True,\n",
    "        )\n",
    "        btn = gr.Button(\"Run\")\n",
    "        btn.click(fn=make_markdown, inputs=None, outputs=df)"
   ]
  },
  {
   "cell_type": "code",
   "execution_count": 6,
   "id": "da6210f8-6948-4c16-9775-7f953272790e",
   "metadata": {},
   "outputs": [
    {
     "name": "stdout",
     "output_type": "stream",
     "text": [
      "Running on local URL:  http://127.0.0.1:7861\n",
      "Running on public URL: https://1f2e881315323f21c3.gradio.live\n",
      "\n",
      "This share link expires in 72 hours. For free permanent hosting and GPU upgrades, run `gradio deploy` from Terminal to deploy to Spaces (https://huggingface.co/spaces)\n"
     ]
    },
    {
     "data": {
      "text/html": [
       "<div><iframe src=\"https://1f2e881315323f21c3.gradio.live\" width=\"100%\" height=\"500\" allow=\"autoplay; camera; microphone; clipboard-read; clipboard-write;\" frameborder=\"0\" allowfullscreen></iframe></div>"
      ],
      "text/plain": [
       "<IPython.core.display.HTML object>"
      ]
     },
     "metadata": {},
     "output_type": "display_data"
    }
   ],
   "source": [
    "if __name__ == \"__main__\":\n",
    "    demo.launch(share=True)"
   ]
  },
  {
   "cell_type": "code",
   "execution_count": null,
   "id": "20b46239-b45f-4723-823d-ff9245169263",
   "metadata": {},
   "outputs": [],
   "source": []
  }
 ],
 "metadata": {
  "kernelspec": {
   "display_name": "Python 3 (ipykernel)",
   "language": "python",
   "name": "python3"
  },
  "language_info": {
   "codemirror_mode": {
    "name": "ipython",
    "version": 3
   },
   "file_extension": ".py",
   "mimetype": "text/x-python",
   "name": "python",
   "nbconvert_exporter": "python",
   "pygments_lexer": "ipython3",
   "version": "3.10.12"
  }
 },
 "nbformat": 4,
 "nbformat_minor": 5
}
