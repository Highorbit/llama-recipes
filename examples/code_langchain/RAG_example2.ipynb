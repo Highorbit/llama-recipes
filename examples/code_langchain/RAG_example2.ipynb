{
 "cells": [
  {
   "cell_type": "code",
   "execution_count": 1,
   "id": "a346f05c-191d-47f7-a6dc-2196c1b7538f",
   "metadata": {},
   "outputs": [],
   "source": [
    "import pandas as pd\n",
    "import numpy as np\n",
    "import configparser\n",
    "import pymysql\n",
    "import requests\n",
    "import re\n",
    "from tqdm import tqdm\n",
    "import configparser\n",
    "import openai\n",
    "import os\n",
    "import json"
   ]
  },
  {
   "cell_type": "code",
   "execution_count": 2,
   "id": "b5008839-9c84-4b8f-b896-bff4c22c103d",
   "metadata": {},
   "outputs": [
    {
     "data": {
      "text/plain": [
       "['/home/ubuntu/infoedge/llama-recipes/examples/configs/config.ini']"
      ]
     },
     "execution_count": 2,
     "metadata": {},
     "output_type": "execute_result"
    }
   ],
   "source": [
    "config=configparser.ConfigParser()\n",
    "config.read('/home/ubuntu/infoedge/llama-recipes/examples/configs/config.ini')"
   ]
  },
  {
   "cell_type": "code",
   "execution_count": 276,
   "id": "6dde4dc5-2250-4731-af44-69074a4c0390",
   "metadata": {},
   "outputs": [],
   "source": [
    "mydb= pymysql.connect(\n",
    "host=config['iimjobs_db']['hostname'],\n",
    "user=config['iimjobs_db']['username'],\n",
    "password=config['iimjobs_db']['password'],\n",
    "db=config['iimjobs_db']['db_name']\n",
    ")\n",
    "\n",
    "mycursor = mydb.cursor()"
   ]
  },
  {
   "cell_type": "code",
   "execution_count": 277,
   "id": "cee48b15-3296-499e-a8e1-e218a3ebf3c9",
   "metadata": {},
   "outputs": [],
   "source": [
    "# mycursor = mydb.cursor()\n",
    "\n",
    " \n",
    "query = \"SELECT userid from usr_applied_jobs_info where jobid=1372978\"\n",
    "\n",
    " # 1372184\n",
    "\n",
    "mycursor.execute(query)\n",
    "\n",
    "result = mycursor.fetchall()\n"
   ]
  },
  {
   "cell_type": "code",
   "execution_count": 278,
   "id": "0193ffce-57d6-4826-a81a-3317b665f17c",
   "metadata": {},
   "outputs": [],
   "source": [
    "udf = pd.DataFrame(result,columns=['userid'])"
   ]
  },
  {
   "cell_type": "code",
   "execution_count": 279,
   "id": "2e44e2da-3fa2-4261-996d-15093d16c21d",
   "metadata": {},
   "outputs": [],
   "source": [
    "uid_list = udf.userid.values"
   ]
  },
  {
   "cell_type": "code",
   "execution_count": 280,
   "id": "5ed54f5d-bed2-47ef-9393-f151a6a776d1",
   "metadata": {},
   "outputs": [
    {
     "data": {
      "text/plain": [
       "array([1838334, 1422653, 2152366, 2786265, 1512430,  397888, 2033637,\n",
       "       2514345,  220243, 1553541, 2121520, 2049964, 1102604, 1540164,\n",
       "       1643106,  181465, 2789539,  370663, 2237092, 1258769, 2785697,\n",
       "        869704,  230397,  623738, 2625419, 2765048, 2792035, 2318838,\n",
       "       2102824, 2789761, 1648670, 2781463, 2776836, 2781338,  659772,\n",
       "       2772792, 2787606, 2332447, 1668092, 1638081, 2791153, 1606494,\n",
       "       2784873, 2100995, 1834146, 1042241,  910736, 2795573, 2175992,\n",
       "       2716065, 1450495, 1276981, 2765970,  661121, 2572410, 1077888,\n",
       "       2014923,  963142, 1568407,  633376, 2445179, 1755149, 2743880,\n",
       "        294180,  869598, 2709198, 2337894, 2351233, 2507778, 1702581,\n",
       "       2713058, 2525430, 2112638, 2447389, 2488269, 2399509,  336169,\n",
       "       2800977, 2015063, 1117645,  604975,   52834, 2578235, 1971367,\n",
       "        778874, 2700986, 2485703, 2092617, 2149247, 1493633, 2797098,\n",
       "       2780575, 1573606, 1217277, 2796193, 2694909, 2245537, 1801526,\n",
       "       2397118, 2798601,  986465, 2797314, 2245506, 1541938,  110886,\n",
       "       2770045, 2569235, 2201321, 1274581, 2796417, 1269458, 1553203,\n",
       "        108202, 2802795,  932696,  580300, 2688038, 1209127, 2631448,\n",
       "       1660542, 1386754, 2788797, 1313092, 1614881, 2403849, 2549947,\n",
       "       2678664, 2773300])"
      ]
     },
     "execution_count": 280,
     "metadata": {},
     "output_type": "execute_result"
    }
   ],
   "source": [
    "uid_list"
   ]
  },
  {
   "cell_type": "code",
   "execution_count": 281,
   "id": "dbe02b04-8499-46cb-ac61-e499683d4baa",
   "metadata": {},
   "outputs": [],
   "source": [
    "from user_info import *"
   ]
  },
  {
   "cell_type": "code",
   "execution_count": 282,
   "id": "9d6809fe-6891-441b-8bc5-970bbfcb4b55",
   "metadata": {},
   "outputs": [
    {
     "name": "stderr",
     "output_type": "stream",
     "text": [
      "100%|█████████████████████████████████████████████████████████████████████████████████████████████████████████████████████████████████████| 128/128 [00:00<00:00, 155.17it/s]\n",
      "100%|███████████████████████████████████████████████████████████████████████████████████████████████████████████████████████████████████| 128/128 [00:00<00:00, 77886.39it/s]\n"
     ]
    }
   ],
   "source": [
    "df = get_user_data_search_embed(uid_list)"
   ]
  },
  {
   "cell_type": "code",
   "execution_count": 283,
   "id": "b0a5f2c4-838e-4ae0-bc36-da6317a9d94f",
   "metadata": {},
   "outputs": [
    {
     "data": {
      "text/html": [
       "<div>\n",
       "<style scoped>\n",
       "    .dataframe tbody tr th:only-of-type {\n",
       "        vertical-align: middle;\n",
       "    }\n",
       "\n",
       "    .dataframe tbody tr th {\n",
       "        vertical-align: top;\n",
       "    }\n",
       "\n",
       "    .dataframe thead th {\n",
       "        text-align: right;\n",
       "    }\n",
       "</style>\n",
       "<table border=\"1\" class=\"dataframe\">\n",
       "  <thead>\n",
       "    <tr style=\"text-align: right;\">\n",
       "      <th></th>\n",
       "      <th>id</th>\n",
       "      <th>resume</th>\n",
       "      <th>keywords</th>\n",
       "      <th>current_designation</th>\n",
       "      <th>user_experience</th>\n",
       "      <th>professional_info</th>\n",
       "      <th>education_info</th>\n",
       "    </tr>\n",
       "  </thead>\n",
       "  <tbody>\n",
       "    <tr>\n",
       "      <th>0</th>\n",
       "      <td>1838334</td>\n",
       "      <td>KUNAL CHOPRA | Email: kunalchopra26@gmail.com ...</td>\n",
       "      <td>Financial Reporting Analysis Finance Business_...</td>\n",
       "      <td>Financial Business Partner</td>\n",
       "      <td>3</td>\n",
       "      <td>[{'id': 3123181, 'userId': None, 'designation'...</td>\n",
       "      <td>[{'id': 2109571, 'userId': 1838334, 'institute...</td>\n",
       "    </tr>\n",
       "    <tr>\n",
       "      <th>1</th>\n",
       "      <td>1422653</td>\n",
       "      <td>EXPERIENCE\\nSPECIALIST, BETTER.COM, CHANDIGARH...</td>\n",
       "      <td>Financial Credit Mortgage Credit_Risk Operatio...</td>\n",
       "      <td>Specialist</td>\n",
       "      <td>4</td>\n",
       "      <td>[{'id': 2033893, 'userId': None, 'designation'...</td>\n",
       "      <td>[{'id': 1611530, 'userId': 1422653, 'institute...</td>\n",
       "    </tr>\n",
       "    <tr>\n",
       "      <th>2</th>\n",
       "      <td>2152366</td>\n",
       "      <td>Mudit Kumar Mahesh\\nMale | maheshmudit@gmail.c...</td>\n",
       "      <td>Marketing Digital Financial Strategic Analytic...</td>\n",
       "      <td>Assistant Vice President  - Corporate and Chie...</td>\n",
       "      <td>3</td>\n",
       "      <td>[{'id': 3216342, 'userId': None, 'designation'...</td>\n",
       "      <td>[{'id': 2484906, 'userId': 2152366, 'institute...</td>\n",
       "    </tr>\n",
       "    <tr>\n",
       "      <th>3</th>\n",
       "      <td>2786265</td>\n",
       "      <td>MANOJ REDDY\\nMBA | Consulting| Strategy| Digit...</td>\n",
       "      <td>Digital Strategic Planning Strategy Digital_Tr...</td>\n",
       "      <td>Manager</td>\n",
       "      <td>9</td>\n",
       "      <td>[{'id': 4216772, 'userId': None, 'designation'...</td>\n",
       "      <td>[{'id': 97700171, 'userId': 2786265, 'institut...</td>\n",
       "    </tr>\n",
       "    <tr>\n",
       "      <th>4</th>\n",
       "      <td>1512430</td>\n",
       "      <td>SACHIN KABRA\\nMumbai, Maharashtra +91 80977810...</td>\n",
       "      <td>Financial Strategy Pricing Strategic TAX Inves...</td>\n",
       "      <td>General Manager - Strategy &amp; Planning</td>\n",
       "      <td>6</td>\n",
       "      <td>[{'id': 2177385, 'userId': None, 'designation'...</td>\n",
       "      <td>[{'id': 1719305, 'userId': 1512430, 'institute...</td>\n",
       "    </tr>\n",
       "    <tr>\n",
       "      <th>...</th>\n",
       "      <td>...</td>\n",
       "      <td>...</td>\n",
       "      <td>...</td>\n",
       "      <td>...</td>\n",
       "      <td>...</td>\n",
       "      <td>...</td>\n",
       "      <td>...</td>\n",
       "    </tr>\n",
       "    <tr>\n",
       "      <th>120</th>\n",
       "      <td>1614881</td>\n",
       "      <td>Madhulika\\nDegala\\n+91 99081 95981\\nmadhulika....</td>\n",
       "      <td>Marketing Strategy Lending Recruitment Analysi...</td>\n",
       "      <td>Strategy &amp; Operations Manager</td>\n",
       "      <td>3</td>\n",
       "      <td>[{'id': 3076333, 'userId': None, 'designation'...</td>\n",
       "      <td>[{'id': 1841482, 'userId': 1614881, 'institute...</td>\n",
       "    </tr>\n",
       "    <tr>\n",
       "      <th>121</th>\n",
       "      <td>2403849</td>\n",
       "      <td>Profile\\nProfessional experience of around 8 y...</td>\n",
       "      <td>Audit Financial Pivotal CFO Analytics Debtor D...</td>\n",
       "      <td>Assistant Manager</td>\n",
       "      <td>7</td>\n",
       "      <td>[{'id': 3610742, 'userId': None, 'designation'...</td>\n",
       "      <td>[{'id': 94907595, 'userId': 2403849, 'institut...</td>\n",
       "    </tr>\n",
       "    <tr>\n",
       "      <th>122</th>\n",
       "      <td>2549947</td>\n",
       "      <td>PRAGYA KEJRIWAL\\nAge : 23 I Contact: +91 98300...</td>\n",
       "      <td>BI Power_BI Equity Valuation Proposal_Writing ...</td>\n",
       "      <td>Associate</td>\n",
       "      <td>3</td>\n",
       "      <td>[{'id': 3903279, 'userId': None, 'designation'...</td>\n",
       "      <td>[{'id': 97472475, 'userId': 2549947, 'institut...</td>\n",
       "    </tr>\n",
       "    <tr>\n",
       "      <th>123</th>\n",
       "      <td>2678664</td>\n",
       "      <td>SREEDHAR CHANDRAN\\nM:+91 9880092146 E-Mail:\\nc...</td>\n",
       "      <td>Finance Accounting Reconciliation MIS Statutor...</td>\n",
       "      <td>Deputy Finance Controller</td>\n",
       "      <td>9</td>\n",
       "      <td>[{'id': 4056985, 'userId': None, 'designation'...</td>\n",
       "      <td>[{'id': 97585079, 'userId': 2678664, 'institut...</td>\n",
       "    </tr>\n",
       "    <tr>\n",
       "      <th>124</th>\n",
       "      <td>2773300</td>\n",
       "      <td>Work Experience\\nBank of New York Mellon\\nSeni...</td>\n",
       "      <td>Investment Financial Analysis CFO Automation F...</td>\n",
       "      <td>Senior Associate</td>\n",
       "      <td>2</td>\n",
       "      <td>[{'id': 4195108, 'userId': None, 'designation'...</td>\n",
       "      <td>[{'id': 97685294, 'userId': 2773300, 'institut...</td>\n",
       "    </tr>\n",
       "  </tbody>\n",
       "</table>\n",
       "<p>125 rows × 7 columns</p>\n",
       "</div>"
      ],
      "text/plain": [
       "          id                                             resume  \\\n",
       "0    1838334  KUNAL CHOPRA | Email: kunalchopra26@gmail.com ...   \n",
       "1    1422653  EXPERIENCE\\nSPECIALIST, BETTER.COM, CHANDIGARH...   \n",
       "2    2152366  Mudit Kumar Mahesh\\nMale | maheshmudit@gmail.c...   \n",
       "3    2786265  MANOJ REDDY\\nMBA | Consulting| Strategy| Digit...   \n",
       "4    1512430  SACHIN KABRA\\nMumbai, Maharashtra +91 80977810...   \n",
       "..       ...                                                ...   \n",
       "120  1614881  Madhulika\\nDegala\\n+91 99081 95981\\nmadhulika....   \n",
       "121  2403849  Profile\\nProfessional experience of around 8 y...   \n",
       "122  2549947  PRAGYA KEJRIWAL\\nAge : 23 I Contact: +91 98300...   \n",
       "123  2678664  SREEDHAR CHANDRAN\\nM:+91 9880092146 E-Mail:\\nc...   \n",
       "124  2773300  Work Experience\\nBank of New York Mellon\\nSeni...   \n",
       "\n",
       "                                              keywords  \\\n",
       "0    Financial Reporting Analysis Finance Business_...   \n",
       "1    Financial Credit Mortgage Credit_Risk Operatio...   \n",
       "2    Marketing Digital Financial Strategic Analytic...   \n",
       "3    Digital Strategic Planning Strategy Digital_Tr...   \n",
       "4    Financial Strategy Pricing Strategic TAX Inves...   \n",
       "..                                                 ...   \n",
       "120  Marketing Strategy Lending Recruitment Analysi...   \n",
       "121  Audit Financial Pivotal CFO Analytics Debtor D...   \n",
       "122  BI Power_BI Equity Valuation Proposal_Writing ...   \n",
       "123  Finance Accounting Reconciliation MIS Statutor...   \n",
       "124  Investment Financial Analysis CFO Automation F...   \n",
       "\n",
       "                                   current_designation user_experience  \\\n",
       "0                           Financial Business Partner               3   \n",
       "1                                           Specialist               4   \n",
       "2    Assistant Vice President  - Corporate and Chie...               3   \n",
       "3                                              Manager               9   \n",
       "4                General Manager - Strategy & Planning               6   \n",
       "..                                                 ...             ...   \n",
       "120                      Strategy & Operations Manager               3   \n",
       "121                                 Assistant Manager                7   \n",
       "122                                         Associate                3   \n",
       "123                          Deputy Finance Controller               9   \n",
       "124                                   Senior Associate               2   \n",
       "\n",
       "                                     professional_info  \\\n",
       "0    [{'id': 3123181, 'userId': None, 'designation'...   \n",
       "1    [{'id': 2033893, 'userId': None, 'designation'...   \n",
       "2    [{'id': 3216342, 'userId': None, 'designation'...   \n",
       "3    [{'id': 4216772, 'userId': None, 'designation'...   \n",
       "4    [{'id': 2177385, 'userId': None, 'designation'...   \n",
       "..                                                 ...   \n",
       "120  [{'id': 3076333, 'userId': None, 'designation'...   \n",
       "121  [{'id': 3610742, 'userId': None, 'designation'...   \n",
       "122  [{'id': 3903279, 'userId': None, 'designation'...   \n",
       "123  [{'id': 4056985, 'userId': None, 'designation'...   \n",
       "124  [{'id': 4195108, 'userId': None, 'designation'...   \n",
       "\n",
       "                                        education_info  \n",
       "0    [{'id': 2109571, 'userId': 1838334, 'institute...  \n",
       "1    [{'id': 1611530, 'userId': 1422653, 'institute...  \n",
       "2    [{'id': 2484906, 'userId': 2152366, 'institute...  \n",
       "3    [{'id': 97700171, 'userId': 2786265, 'institut...  \n",
       "4    [{'id': 1719305, 'userId': 1512430, 'institute...  \n",
       "..                                                 ...  \n",
       "120  [{'id': 1841482, 'userId': 1614881, 'institute...  \n",
       "121  [{'id': 94907595, 'userId': 2403849, 'institut...  \n",
       "122  [{'id': 97472475, 'userId': 2549947, 'institut...  \n",
       "123  [{'id': 97585079, 'userId': 2678664, 'institut...  \n",
       "124  [{'id': 97685294, 'userId': 2773300, 'institut...  \n",
       "\n",
       "[125 rows x 7 columns]"
      ]
     },
     "execution_count": 283,
     "metadata": {},
     "output_type": "execute_result"
    }
   ],
   "source": [
    "df"
   ]
  },
  {
   "cell_type": "code",
   "execution_count": 284,
   "id": "f20eaf48-3497-491a-9395-d00157d662af",
   "metadata": {},
   "outputs": [],
   "source": [
    "# df[['id','resume']].sample(10).values"
   ]
  },
  {
   "cell_type": "code",
   "execution_count": 285,
   "id": "dc3b25f4-5190-4993-9caa-1a474306b855",
   "metadata": {},
   "outputs": [],
   "source": [
    "# df"
   ]
  },
  {
   "cell_type": "code",
   "execution_count": 286,
   "id": "499c3af1-652e-441a-a4e3-3d5a2db46eb2",
   "metadata": {},
   "outputs": [],
   "source": [
    "# df['id']=df['id'].astype(int)"
   ]
  },
  {
   "cell_type": "code",
   "execution_count": 287,
   "id": "f0e7424c-7b71-4afa-bc01-8d00b1755c49",
   "metadata": {},
   "outputs": [],
   "source": [
    "df1= df[['id','resume']]"
   ]
  },
  {
   "cell_type": "code",
   "execution_count": 288,
   "id": "5295c3ba-ff7c-4b14-8a78-a974790c3f8b",
   "metadata": {},
   "outputs": [
    {
     "data": {
      "text/html": [
       "<div>\n",
       "<style scoped>\n",
       "    .dataframe tbody tr th:only-of-type {\n",
       "        vertical-align: middle;\n",
       "    }\n",
       "\n",
       "    .dataframe tbody tr th {\n",
       "        vertical-align: top;\n",
       "    }\n",
       "\n",
       "    .dataframe thead th {\n",
       "        text-align: right;\n",
       "    }\n",
       "</style>\n",
       "<table border=\"1\" class=\"dataframe\">\n",
       "  <thead>\n",
       "    <tr style=\"text-align: right;\">\n",
       "      <th></th>\n",
       "      <th>id</th>\n",
       "      <th>resume</th>\n",
       "    </tr>\n",
       "  </thead>\n",
       "  <tbody>\n",
       "    <tr>\n",
       "      <th>0</th>\n",
       "      <td>1838334</td>\n",
       "      <td>KUNAL CHOPRA | Email: kunalchopra26@gmail.com ...</td>\n",
       "    </tr>\n",
       "    <tr>\n",
       "      <th>1</th>\n",
       "      <td>1422653</td>\n",
       "      <td>EXPERIENCE\\nSPECIALIST, BETTER.COM, CHANDIGARH...</td>\n",
       "    </tr>\n",
       "    <tr>\n",
       "      <th>2</th>\n",
       "      <td>2152366</td>\n",
       "      <td>Mudit Kumar Mahesh\\nMale | maheshmudit@gmail.c...</td>\n",
       "    </tr>\n",
       "    <tr>\n",
       "      <th>3</th>\n",
       "      <td>2786265</td>\n",
       "      <td>MANOJ REDDY\\nMBA | Consulting| Strategy| Digit...</td>\n",
       "    </tr>\n",
       "    <tr>\n",
       "      <th>4</th>\n",
       "      <td>1512430</td>\n",
       "      <td>SACHIN KABRA\\nMumbai, Maharashtra +91 80977810...</td>\n",
       "    </tr>\n",
       "    <tr>\n",
       "      <th>...</th>\n",
       "      <td>...</td>\n",
       "      <td>...</td>\n",
       "    </tr>\n",
       "    <tr>\n",
       "      <th>120</th>\n",
       "      <td>1614881</td>\n",
       "      <td>Madhulika\\nDegala\\n+91 99081 95981\\nmadhulika....</td>\n",
       "    </tr>\n",
       "    <tr>\n",
       "      <th>121</th>\n",
       "      <td>2403849</td>\n",
       "      <td>Profile\\nProfessional experience of around 8 y...</td>\n",
       "    </tr>\n",
       "    <tr>\n",
       "      <th>122</th>\n",
       "      <td>2549947</td>\n",
       "      <td>PRAGYA KEJRIWAL\\nAge : 23 I Contact: +91 98300...</td>\n",
       "    </tr>\n",
       "    <tr>\n",
       "      <th>123</th>\n",
       "      <td>2678664</td>\n",
       "      <td>SREEDHAR CHANDRAN\\nM:+91 9880092146 E-Mail:\\nc...</td>\n",
       "    </tr>\n",
       "    <tr>\n",
       "      <th>124</th>\n",
       "      <td>2773300</td>\n",
       "      <td>Work Experience\\nBank of New York Mellon\\nSeni...</td>\n",
       "    </tr>\n",
       "  </tbody>\n",
       "</table>\n",
       "<p>125 rows × 2 columns</p>\n",
       "</div>"
      ],
      "text/plain": [
       "          id                                             resume\n",
       "0    1838334  KUNAL CHOPRA | Email: kunalchopra26@gmail.com ...\n",
       "1    1422653  EXPERIENCE\\nSPECIALIST, BETTER.COM, CHANDIGARH...\n",
       "2    2152366  Mudit Kumar Mahesh\\nMale | maheshmudit@gmail.c...\n",
       "3    2786265  MANOJ REDDY\\nMBA | Consulting| Strategy| Digit...\n",
       "4    1512430  SACHIN KABRA\\nMumbai, Maharashtra +91 80977810...\n",
       "..       ...                                                ...\n",
       "120  1614881  Madhulika\\nDegala\\n+91 99081 95981\\nmadhulika....\n",
       "121  2403849  Profile\\nProfessional experience of around 8 y...\n",
       "122  2549947  PRAGYA KEJRIWAL\\nAge : 23 I Contact: +91 98300...\n",
       "123  2678664  SREEDHAR CHANDRAN\\nM:+91 9880092146 E-Mail:\\nc...\n",
       "124  2773300  Work Experience\\nBank of New York Mellon\\nSeni...\n",
       "\n",
       "[125 rows x 2 columns]"
      ]
     },
     "execution_count": 288,
     "metadata": {},
     "output_type": "execute_result"
    }
   ],
   "source": [
    "df1"
   ]
  },
  {
   "cell_type": "code",
   "execution_count": 289,
   "id": "c7f7f4b5-811c-40ec-950d-7ec286a75a03",
   "metadata": {},
   "outputs": [],
   "source": [
    "# df1 = df1.sample()"
   ]
  },
  {
   "cell_type": "code",
   "execution_count": 290,
   "id": "9ec5d5ba-8e72-42d5-acd6-ff54cdcf2c71",
   "metadata": {},
   "outputs": [],
   "source": [
    "documents = []\n",
    "for x in df1:\n",
    "    y = 'id: '+df1['id'].values+' '+df1['resume'].values\n",
    "    documents.append(y)"
   ]
  },
  {
   "cell_type": "code",
   "execution_count": 291,
   "id": "12667578-46cb-4602-9035-b78bf6ed76b2",
   "metadata": {},
   "outputs": [
    {
     "data": {
      "text/plain": [
       "125"
      ]
     },
     "execution_count": 291,
     "metadata": {},
     "output_type": "execute_result"
    }
   ],
   "source": [
    "len(documents[0])"
   ]
  },
  {
   "cell_type": "code",
   "execution_count": 292,
   "id": "73827f63-ce0c-4206-85ce-0dcd36b4b1a1",
   "metadata": {},
   "outputs": [],
   "source": [
    "# documents[0]"
   ]
  },
  {
   "cell_type": "code",
   "execution_count": 293,
   "id": "157ab5c5-2f4a-4732-8aad-21b7de054a78",
   "metadata": {},
   "outputs": [],
   "source": [
    "from langchain.embeddings import HuggingFaceEmbeddings\n",
    "from langchain.text_splitter import RecursiveCharacterTextSplitter \n",
    "from langchain.vectorstores import FAISS\n"
   ]
  },
  {
   "cell_type": "code",
   "execution_count": 294,
   "id": "bffe5a29-2310-48e7-a5ec-b7fa1b1b1a97",
   "metadata": {},
   "outputs": [],
   "source": [
    "# documents = df1.values"
   ]
  },
  {
   "cell_type": "code",
   "execution_count": 295,
   "id": "63415b81-cb18-4345-b59a-9d2719cf78fc",
   "metadata": {},
   "outputs": [],
   "source": [
    "# documents[90]"
   ]
  },
  {
   "cell_type": "code",
   "execution_count": 296,
   "id": "2008510d-3a95-4b2c-a2c9-8cbd6a4d590b",
   "metadata": {},
   "outputs": [],
   "source": [
    "# documents[:, 0] = [{'id':int(value)} for value in documents[:, 0]]\n"
   ]
  },
  {
   "cell_type": "code",
   "execution_count": 297,
   "id": "3b42cdb6-3bb8-438b-9c41-eb840ff8c415",
   "metadata": {},
   "outputs": [],
   "source": [
    "# documents[0][90]"
   ]
  },
  {
   "cell_type": "code",
   "execution_count": 298,
   "id": "2b7bcf1b-2f1f-47da-8a68-00e544afb058",
   "metadata": {},
   "outputs": [],
   "source": [
    "# len(documents)"
   ]
  },
  {
   "cell_type": "code",
   "execution_count": 299,
   "id": "b16ade38-0ade-4303-81ee-b6e1bb171bfb",
   "metadata": {},
   "outputs": [
    {
     "name": "stdout",
     "output_type": "stream",
     "text": [
      "1361 ['id: 1838334 KUNAL CHOPRA | Email: kunalchopra26@gmail.com | M: +91 9555789452 | LinkedIn\\nACADEMIC QUALIFICATIONS\\nDegree / Examination Institution Year\\nPGDM Xavier Institute of Management &amp; Entrepreneurship 2021\\nB.Com Sri Aurobindo College 2017\\nClass XII MDH International School 2014\\nClass X MDH International School 2012\\nWORK EXPERIENCE\\nCompany Description\\nDECATHLON SPORTS\\nINDIA\\nTenure: May 2022 Present;\\nRoles and Responsibilities: Finance Business Partner (E-Commerce)\\n Owned\n"
     ]
    }
   ],
   "source": [
    "text_splitter = RecursiveCharacterTextSplitter(chunk_size=500,chunk_overlap=1)\n",
    "splits = text_splitter.split_text(str(documents[0]))\n",
    "print(len(splits), splits[0])"
   ]
  },
  {
   "cell_type": "code",
   "execution_count": 300,
   "id": "3126ee29-1b98-4cb6-9cc8-2b2fe460b54a",
   "metadata": {},
   "outputs": [
    {
     "data": {
      "text/plain": [
       "1361"
      ]
     },
     "execution_count": 300,
     "metadata": {},
     "output_type": "execute_result"
    }
   ],
   "source": [
    "len(splits)"
   ]
  },
  {
   "cell_type": "code",
   "execution_count": 301,
   "id": "04b9d449-7296-4c82-80e4-bf1635683cec",
   "metadata": {},
   "outputs": [],
   "source": [
    "embeddings = HuggingFaceEmbeddings(model_name='sentence-transformers/all-MiniLM-L6-v2',\n",
    "                                       model_kwargs={'device': 'cuda'})"
   ]
  },
  {
   "cell_type": "code",
   "execution_count": 302,
   "id": "6165daaf-ddd4-47cd-8af7-9311e74fbd5b",
   "metadata": {},
   "outputs": [],
   "source": [
    "db = FAISS.from_texts(documents[0], embeddings)\n"
   ]
  },
  {
   "cell_type": "code",
   "execution_count": null,
   "id": "e4515a83-7dc9-48cd-9e71-52ef0af247fc",
   "metadata": {},
   "outputs": [],
   "source": []
  },
  {
   "cell_type": "code",
   "execution_count": 303,
   "id": "785f1d73-b4fa-4a13-a872-b4a54d207f40",
   "metadata": {},
   "outputs": [],
   "source": [
    "import langchain\n",
    "from queue import Queue\n",
    "from typing import Any\n",
    "from langchain.llms.huggingface_text_gen_inference import HuggingFaceTextGenInference\n",
    "from langchain.callbacks.streaming_stdout import StreamingStdOutCallbackHandler\n",
    "from langchain.schema import LLMResult\n",
    "from langchain.embeddings import HuggingFaceEmbeddings\n",
    "from langchain.vectorstores import FAISS\n",
    "from langchain.chains import RetrievalQA\n",
    "from langchain.prompts.prompt import PromptTemplate\n",
    "from anyio.from_thread import start_blocking_portal #For model callback streaming\n",
    "import re\n",
    "import gradio as gr\n",
    "langchain.debug=True "
   ]
  },
  {
   "cell_type": "code",
   "execution_count": 304,
   "id": "c6d58faa-8fd8-429f-85e8-e1623d8c45ca",
   "metadata": {},
   "outputs": [],
   "source": [
    "model = 'meta-llama/Llama-2-7b-chat-hf'"
   ]
  },
  {
   "cell_type": "code",
   "execution_count": 157,
   "id": "464ebb99-94a0-4b30-892d-351004a3d1ce",
   "metadata": {},
   "outputs": [],
   "source": [
    "# from langchain.llms import VLLM\n",
    "\n",
    "# llm = VLLM(model=model,\n",
    "#            trust_remote_code=True,  \n",
    "#            max_new_tokens=128,\n",
    "#            top_k=10,\n",
    "#            top_p=0.95,\n",
    "#            temperature=0.6,\n",
    "\n",
    "# )"
   ]
  },
  {
   "cell_type": "code",
   "execution_count": 333,
   "id": "f413e1cd-4a9c-4f4f-9a82-3e49c20ae83a",
   "metadata": {},
   "outputs": [],
   "source": [
    "template = \"\"\"\n",
    "[INST]Use the following pieces of context to answer the question. If no context provided, answer like a AI assistant.\n",
    "{context}\n",
    "Question: {question} [/INST]\n",
    "\"\"\"\n",
    "\n",
    "retriever = db.as_retriever(\n",
    "        search_kwargs={\"k\": 2}\n",
    "    )"
   ]
  },
  {
   "cell_type": "code",
   "execution_count": 334,
   "id": "8974c39c-f6a6-4462-b24a-eb70c6bb11a6",
   "metadata": {},
   "outputs": [],
   "source": [
    "qa_chain = RetrievalQA.from_chain_type(\n",
    "    llm=llm, \n",
    "    retriever=retriever,     \n",
    "    chain_type_kwargs={\n",
    "        \"prompt\": PromptTemplate(\n",
    "            template=template,\n",
    "            input_variables=[\"context\", \"question\"],\n",
    "        ),\n",
    "    }\n",
    ")"
   ]
  },
  {
   "cell_type": "code",
   "execution_count": 384,
   "id": "228b7890-8337-4aff-946a-9982a6ddf2c6",
   "metadata": {},
   "outputs": [
    {
     "name": "stdout",
     "output_type": "stream",
     "text": [
      "\u001b[32;1m\u001b[1;3m[chain/start]\u001b[0m \u001b[1m[1:chain:RetrievalQA] Entering Chain run with input:\n",
      "\u001b[0m{\n",
      "  \"query\": \"give me all users with their ids who have experience with UI/UX in resume text\"\n",
      "}\n",
      "\u001b[32;1m\u001b[1;3m[chain/start]\u001b[0m \u001b[1m[1:chain:RetrievalQA > 3:chain:StuffDocumentsChain] Entering Chain run with input:\n",
      "\u001b[0m[inputs]\n",
      "\u001b[32;1m\u001b[1;3m[chain/start]\u001b[0m \u001b[1m[1:chain:RetrievalQA > 3:chain:StuffDocumentsChain > 4:chain:LLMChain] Entering Chain run with input:\n",
      "\u001b[0m{\n",
      "  \"question\": \"give me all users with their ids who have experience with UI/UX in resume text\",\n",
      "  \"context\": \"id: 2772792 Sanjeev Tarigopula\\n+91-8088826168, sanjeev03bl@iimklive.com\\nPhone: +91 8088826168 Email ID: sanjeev03bl@iimklive.com Banglore, India\\nSummary:\\n Leadership professional with ~4 years of experience across entrepreneurship, product management, strategy, tech &amp; innovation.\\n Experience across tech innovation, web application building, product design &amp; stakeholder management.\\n Stellar track record (Top 15 percentile in MBA &amp; Gold Medal Equivalent in Engineering) along with interest in upcoming\\ntechnologies &amp; product design.\\nWORK EXPERIENCE 4 YEARS\\nAugust 2023- Present Jio Product Manager\\nProduct\\n Created Product road map for Jios confidential product\\n Created Product Requirement Document; Researched 10+ whitepapers to define the implementation plan\\n Worked with Engineering team and UI/UX team and Created MVP for the product\\n Created user stories to address the pain points and worked with tools like Figma\\n Worked with customers to define the product metrics, KPIs\\nJune 2018 Nov 2018 &amp; Dec 2019- Mar 2022 Creative Buds Co-founder &amp; Product Manager\\nCo-founder of Rs 40L startup in D2C technology ; Recorded growth of 90% in 2021\\nProduct &amp; Tech\\nProductized Indias first\\nOzone Sanitizer\\n Pioneered new technology in room sanitizer using ozone; Among first movers in India to productize this\\ntechnology.\\n Product Manager for entire life cycle; Handled end to end responsibilities; Responsible for entire supply\\nchain &amp; production;\\n Created 80% improvements using customer feedback; Created NPS to make the product defect free.\\n Created Product RoadMap and Product Requirement Documents\\n Collaborated with Engineer team, UI/UX team, Marketing team and Sales team to successfully ship the\\nproduct\\nStakeholder\\nManagement\\nTeam, Client &amp;\\nPartners\\n Led team of ~20 across R&amp;D &amp; Manufacturing; Responsible for all hiring and training &amp;team\\nmanagement.\\n Led 200+ internal stand-up calls; Setup governance for team using slack and Jira\\n Lead Client POC across 15 $1Mn + clients (including hospitals and medical centres);Cracked 5+ new logos\\n Developed deep relationships with top management; Directly interacted with 40+ CEOs, CXOs &amp; Leaders\\n Created 100+ customized proposals for 8+ products; Led client negotiations\\nStrategy\\n Created comprehensive strategy and vision for company; Codified business processes since inception\\n Grew by 90% y-o-y completely bootstrapped; Achieved profitability within 24 months (60% faster than\\npeers); Achieved 3X team growth and attained 95% team retention rate\\n Optimized business processes and generated 10 Lakhs dividends; Led hiring &amp; recruitment for 20+\\nemployees; Managed internal rating system &amp; protocols\\nMay 2019 Dec 2019 Wanclouds Software Engineer\\nTech Worked as Golang developer for cisco cloud and implemented cloud services\\nJune 2018 May 2019 Accenture Associate Software Engineer\\nTech &amp; Strategy\\n Selected from among 300 applicants for &lt;Associate Software Engineer. Worked with team of 14\\n Completed 500+ data analytics &amp; management tasks to improve customer connectivity &amp; satisfaction\\nPROJECTS &amp; PRODUCTS\\nOzonics\\nLeading US Big Game\\nPlayer\\n Led design &amp; development of Ozonics for $50 Mn US-based company for their core R&amp;D\\n Liaised directly with client CEO; Led team of UI/UX, R&amp;D and Manufacturing\\n Cross-cultural collaboration between US client, India team &amp; China vendors to launch product\\n Created financial results of USD 500,000 through innovation; Awarded long term contract\\n2019\\nWireless Projector\\nfor Education\\nInstitute\\nMiract\\n Designed &amp; developed product for mobile-based screen sharing with 30% better geo range than\\nexisting solutions\\n Created connectivity to 10 types of mobile devices; 10-second launch across projections screen\\n Acquired by leading education institute with 800+ students; Led implementation across 50+\\nrooms\\n2018\\nIoT &amp; Voice\\nAssistant\\nHome &amp; Office\\nAutomation Device\\n Designed a IoT Voice assistant for home automation; Integrated with Alexa, Google Home &amp; others\\n Completed prototype &amp; production of new device; Expanded range of automation to 1 floor\\n Analyzed 100+ protocols; Implemented top 10 including like Alexa, Google Home\\n 100% sustainable methods used; Minimized environmental impact using local resources &amp; methods\\n Secured a partnership with real estate project; Implemented product for 20 households\\n2018\\nStrategy Consulting\\nEuropean Venture\\nCapital Firm\\n Strategy consultant for $15Mn Venture capital firm from Italy;\\n Worked with With team of ex-Mckinsey, Bain, BCG consultants\\n Create go-to-market strategy for clients entry into Europes $300 Bn carbon trading market\\n Analysed sustainability trends, regulations, road blocks and complexity of carbon credits process\\n2021\\n&quot;,&quot;Sanjeev Tarigopula\\n+91-8088826168, sanjeev03bl@iimklive.com\\nPhone: +91 8088826168 Email ID: sanjeev03bl@iimklive.com Banglore, India\\nTOOLS/CERTIFICATIONS\\nProduct\\nManagement &amp;\\nOthers\\n Certified AI Product Management by Duke University\\n Certified Digital Product Management specialization by University of Virginia\\n Certified Google Project Management by Google\\n Certified Product Management Professional by PM School; Gained knowledge on key skills in\\nProduct Management\\n Certified Lean Six Sigma Black Belt by KPMG; Gained expertise in Lean methodologies\\n Certified CII-SCMB Pro by Confederation of Indian Industry; Gained expertise in Blockchain\\ntechnology and it's implementation in Supply Chain Management\\n2022\\nEDUCATION\\nDegree Institution Name Achievement Grade Year\\nPost-grad Indian Institute of Management, Kozhikode Top 15 percentile of the batch 3.109/4.33 2023\\nGrad PESIT - Banglore South Campus Best Out Going Student Overall (1/180) 64% 2018\\nClass XII Sri Chaitanya Junior Kalasala Institute Rank 9 94% 2014\\nClass X C.V.R.M.High School Institute Rank 1 9.8 GPA 2012\\nSCHOLASTIC ACHIEVEMENTS\\nAwards &amp;\\nScholarships\\n Best graduating student overall, felicitated by Director of the College for exceptional performance\\nand support to college\\n Awarded prestigious chancellor scholarship twice; felicitated by HOD for exceptional performance\\n Conducted research, made analysis and published International Research Paper on VHDL\\nimplementation of comparator using TR gate\\n2014\\n-\\n2018\\nPOSITIONS OF RESPONSIBILITY\\nInsights Circle,\\nPodcasts at IIMK\\n Produced &amp; hosted 5+ podcasts with top business leaders &amp; economists; Published on Youtube\\nwith 500+ views\\n Hosted National level conclave; Interviewed industry stalwarts; Audience of 300+ people at IIM K\\n2022\\nDirector, Kludge\\nNational level\\nHackathon\\n Organized and oversaw the electronic design challenge; Managed xxx core team members\\n Generated 400+ participants from xx universities and colleges across xxx events\\n Fundraised 1,10,000/- from Intel, Capgemini, Tata Beverages; Lead liaison for corporate accounts\\n Mentored around 300 students as a part of the event to resolve their issues\\n Massive success led to the Kludge model being recorded as case study for other events to emulate\\n2017\\nCaptain\\nState level Cricket\\n Cricket team captain for department; Won Silver in Annual inter-department cricket tournament\\n Captain of State-Level team; Semi-Finalist at state-level cricket tournament among 15 teams\\n2016\\nOTHER INTERESTS: Crypto Investments, Blockchain Networks, ICOs, Stock Market Investments, Start-up analysis\\n\\n\\nid: 1573606 Ayyappa Darla\\nChartered Accountant\\nI'm a qualied Chartered Accountant who is currently working as a Senior at EY GDS India for\\naround 4 years in Global Compliance and Reporting team in the domain of Financial Reporting and\\noperations under IFRS and US GAAP. And also previously experienced in Statutory reporting under\\nIND AS, Statutory Audits, Tax Audits, Budgeting, Direct and Indirect tax laws and Company law\\nmatters.\\ndarlasodvr@gmail.com\\n+91 9704264052\\nBangalore, India\\nlinkedin.com/in/CA-Ayyappa-\\nDarla\\nSKILLS\\nFinancial Reporting\\nVariance analysis\\nBlackline reconciliation\\nDirect and Indirect tax\\ncompliance\\nCompany law and ROC\\ncompliances\\nStatutory and Tax Audits\\nBudgeting/Forecasting/Fi\\nnancial Management\\nSOFTWARE'S\\nUSED\\nOracle MS Excel\\nMS Word Tally\\nTR Tool Case Ware\\nMS Power Point\\nMS Navision\\nQuick Books\\nEDUCATION\\nChartered Accountant\\nInstitute of Chartered Accountants of India (ICAI)\\n05/2012 - 05/2019,\\nCost Accountant\\nInstitute of Cost Accountants of India (ICAI)\\n06/2012 - 12/2018,\\nWORK EXPERIENCE\\nSenior 2\\nEY GDS India\\n12/2019 - Present,\\nPreparation of Financial Statements for EMEIA clients in CaseWare and TR tool platform,\\nAnalysis of Monthly variances on BS &amp; IS and providing explanations to clients,\\nPreparation and posting of Journals into the Oracle (OBI),\\nChecking the Journals and following up with the accountants for timely and accurate posting on\\nmonthly basis,\\nHandling the Statutory audits at the year end, preparation of all the relevant documentation\\nfor Audit and responding to the queries raised by them,\\nBridging between the IFRS TB/US GAAP TB and Local GAAP TB/Statutory TB and Preparation of\\nGAAP to GAAP adjustments\\nPreparation of the BLACKLINE reconciliation's and\\nAnalytical review of Financial statements and preparing the explanations for the auditors for\\nunderstanding of the changes from previous year to current year.\\nArticles Training Assistant\\nAdinarayana &amp; Rao, a Professional services rm of Chartered\\nAccountants\\n03/2014 - 03/2017,\\nEngaged in Statutory Audits, Tax Audits and Special audits of various entities,\\nPreparation and ling of various returns under both direct and indirect tax laws,\\nRepresentation before Direct and Indirect taxation authorities for departmental audit and\\nassessments,\\nEngaged in closing of books of account and nalization of nancial statements related to\\ncompanies and various other entities,\\nExperienced in reconciliation of accounts of branch with head oce,\\nPreparation of CMA data for project reports for arranging working capital, term loans and other\\nnon-fund-based facilities from various bankers and\\nExperienced in preparation and ling of various documents and statutory forms with ROC for\\ncompanies under compliances of Companies Act.\\nAchievements/Tasks\\nAchievements/Tasks\\n\"\n",
      "}\n",
      "\u001b[32;1m\u001b[1;3m[llm/start]\u001b[0m \u001b[1m[1:chain:RetrievalQA > 3:chain:StuffDocumentsChain > 4:chain:LLMChain > 5:llm:VLLM] Entering LLM run with input:\n",
      "\u001b[0m{\n",
      "  \"prompts\": [\n",
      "    \"[INST]Use the following pieces of context to answer the question. If no context provided, answer like a AI assistant.\\nid: 2772792 Sanjeev Tarigopula\\n+91-8088826168, sanjeev03bl@iimklive.com\\nPhone: +91 8088826168 Email ID: sanjeev03bl@iimklive.com Banglore, India\\nSummary:\\n Leadership professional with ~4 years of experience across entrepreneurship, product management, strategy, tech &amp; innovation.\\n Experience across tech innovation, web application building, product design &amp; stakeholder management.\\n Stellar track record (Top 15 percentile in MBA &amp; Gold Medal Equivalent in Engineering) along with interest in upcoming\\ntechnologies &amp; product design.\\nWORK EXPERIENCE 4 YEARS\\nAugust 2023- Present Jio Product Manager\\nProduct\\n Created Product road map for Jios confidential product\\n Created Product Requirement Document; Researched 10+ whitepapers to define the implementation plan\\n Worked with Engineering team and UI/UX team and Created MVP for the product\\n Created user stories to address the pain points and worked with tools like Figma\\n Worked with customers to define the product metrics, KPIs\\nJune 2018 Nov 2018 &amp; Dec 2019- Mar 2022 Creative Buds Co-founder &amp; Product Manager\\nCo-founder of Rs 40L startup in D2C technology ; Recorded growth of 90% in 2021\\nProduct &amp; Tech\\nProductized Indias first\\nOzone Sanitizer\\n Pioneered new technology in room sanitizer using ozone; Among first movers in India to productize this\\ntechnology.\\n Product Manager for entire life cycle; Handled end to end responsibilities; Responsible for entire supply\\nchain &amp; production;\\n Created 80% improvements using customer feedback; Created NPS to make the product defect free.\\n Created Product RoadMap and Product Requirement Documents\\n Collaborated with Engineer team, UI/UX team, Marketing team and Sales team to successfully ship the\\nproduct\\nStakeholder\\nManagement\\nTeam, Client &amp;\\nPartners\\n Led team of ~20 across R&amp;D &amp; Manufacturing; Responsible for all hiring and training &amp;team\\nmanagement.\\n Led 200+ internal stand-up calls; Setup governance for team using slack and Jira\\n Lead Client POC across 15 $1Mn + clients (including hospitals and medical centres);Cracked 5+ new logos\\n Developed deep relationships with top management; Directly interacted with 40+ CEOs, CXOs &amp; Leaders\\n Created 100+ customized proposals for 8+ products; Led client negotiations\\nStrategy\\n Created comprehensive strategy and vision for company; Codified business processes since inception\\n Grew by 90% y-o-y completely bootstrapped; Achieved profitability within 24 months (60% faster than\\npeers); Achieved 3X team growth and attained 95% team retention rate\\n Optimized business processes and generated 10 Lakhs dividends; Led hiring &amp; recruitment for 20+\\nemployees; Managed internal rating system &amp; protocols\\nMay 2019 Dec 2019 Wanclouds Software Engineer\\nTech Worked as Golang developer for cisco cloud and implemented cloud services\\nJune 2018 May 2019 Accenture Associate Software Engineer\\nTech &amp; Strategy\\n Selected from among 300 applicants for &lt;Associate Software Engineer. Worked with team of 14\\n Completed 500+ data analytics &amp; management tasks to improve customer connectivity &amp; satisfaction\\nPROJECTS &amp; PRODUCTS\\nOzonics\\nLeading US Big Game\\nPlayer\\n Led design &amp; development of Ozonics for $50 Mn US-based company for their core R&amp;D\\n Liaised directly with client CEO; Led team of UI/UX, R&amp;D and Manufacturing\\n Cross-cultural collaboration between US client, India team &amp; China vendors to launch product\\n Created financial results of USD 500,000 through innovation; Awarded long term contract\\n2019\\nWireless Projector\\nfor Education\\nInstitute\\nMiract\\n Designed &amp; developed product for mobile-based screen sharing with 30% better geo range than\\nexisting solutions\\n Created connectivity to 10 types of mobile devices; 10-second launch across projections screen\\n Acquired by leading education institute with 800+ students; Led implementation across 50+\\nrooms\\n2018\\nIoT &amp; Voice\\nAssistant\\nHome &amp; Office\\nAutomation Device\\n Designed a IoT Voice assistant for home automation; Integrated with Alexa, Google Home &amp; others\\n Completed prototype &amp; production of new device; Expanded range of automation to 1 floor\\n Analyzed 100+ protocols; Implemented top 10 including like Alexa, Google Home\\n 100% sustainable methods used; Minimized environmental impact using local resources &amp; methods\\n Secured a partnership with real estate project; Implemented product for 20 households\\n2018\\nStrategy Consulting\\nEuropean Venture\\nCapital Firm\\n Strategy consultant for $15Mn Venture capital firm from Italy;\\n Worked with With team of ex-Mckinsey, Bain, BCG consultants\\n Create go-to-market strategy for clients entry into Europes $300 Bn carbon trading market\\n Analysed sustainability trends, regulations, road blocks and complexity of carbon credits process\\n2021\\n&quot;,&quot;Sanjeev Tarigopula\\n+91-8088826168, sanjeev03bl@iimklive.com\\nPhone: +91 8088826168 Email ID: sanjeev03bl@iimklive.com Banglore, India\\nTOOLS/CERTIFICATIONS\\nProduct\\nManagement &amp;\\nOthers\\n Certified AI Product Management by Duke University\\n Certified Digital Product Management specialization by University of Virginia\\n Certified Google Project Management by Google\\n Certified Product Management Professional by PM School; Gained knowledge on key skills in\\nProduct Management\\n Certified Lean Six Sigma Black Belt by KPMG; Gained expertise in Lean methodologies\\n Certified CII-SCMB Pro by Confederation of Indian Industry; Gained expertise in Blockchain\\ntechnology and it's implementation in Supply Chain Management\\n2022\\nEDUCATION\\nDegree Institution Name Achievement Grade Year\\nPost-grad Indian Institute of Management, Kozhikode Top 15 percentile of the batch 3.109/4.33 2023\\nGrad PESIT - Banglore South Campus Best Out Going Student Overall (1/180) 64% 2018\\nClass XII Sri Chaitanya Junior Kalasala Institute Rank 9 94% 2014\\nClass X C.V.R.M.High School Institute Rank 1 9.8 GPA 2012\\nSCHOLASTIC ACHIEVEMENTS\\nAwards &amp;\\nScholarships\\n Best graduating student overall, felicitated by Director of the College for exceptional performance\\nand support to college\\n Awarded prestigious chancellor scholarship twice; felicitated by HOD for exceptional performance\\n Conducted research, made analysis and published International Research Paper on VHDL\\nimplementation of comparator using TR gate\\n2014\\n-\\n2018\\nPOSITIONS OF RESPONSIBILITY\\nInsights Circle,\\nPodcasts at IIMK\\n Produced &amp; hosted 5+ podcasts with top business leaders &amp; economists; Published on Youtube\\nwith 500+ views\\n Hosted National level conclave; Interviewed industry stalwarts; Audience of 300+ people at IIM K\\n2022\\nDirector, Kludge\\nNational level\\nHackathon\\n Organized and oversaw the electronic design challenge; Managed xxx core team members\\n Generated 400+ participants from xx universities and colleges across xxx events\\n Fundraised 1,10,000/- from Intel, Capgemini, Tata Beverages; Lead liaison for corporate accounts\\n Mentored around 300 students as a part of the event to resolve their issues\\n Massive success led to the Kludge model being recorded as case study for other events to emulate\\n2017\\nCaptain\\nState level Cricket\\n Cricket team captain for department; Won Silver in Annual inter-department cricket tournament\\n Captain of State-Level team; Semi-Finalist at state-level cricket tournament among 15 teams\\n2016\\nOTHER INTERESTS: Crypto Investments, Blockchain Networks, ICOs, Stock Market Investments, Start-up analysis\\n\\n\\nid: 1573606 Ayyappa Darla\\nChartered Accountant\\nI'm a qualied Chartered Accountant who is currently working as a Senior at EY GDS India for\\naround 4 years in Global Compliance and Reporting team in the domain of Financial Reporting and\\noperations under IFRS and US GAAP. And also previously experienced in Statutory reporting under\\nIND AS, Statutory Audits, Tax Audits, Budgeting, Direct and Indirect tax laws and Company law\\nmatters.\\ndarlasodvr@gmail.com\\n+91 9704264052\\nBangalore, India\\nlinkedin.com/in/CA-Ayyappa-\\nDarla\\nSKILLS\\nFinancial Reporting\\nVariance analysis\\nBlackline reconciliation\\nDirect and Indirect tax\\ncompliance\\nCompany law and ROC\\ncompliances\\nStatutory and Tax Audits\\nBudgeting/Forecasting/Fi\\nnancial Management\\nSOFTWARE'S\\nUSED\\nOracle MS Excel\\nMS Word Tally\\nTR Tool Case Ware\\nMS Power Point\\nMS Navision\\nQuick Books\\nEDUCATION\\nChartered Accountant\\nInstitute of Chartered Accountants of India (ICAI)\\n05/2012 - 05/2019,\\nCost Accountant\\nInstitute of Cost Accountants of India (ICAI)\\n06/2012 - 12/2018,\\nWORK EXPERIENCE\\nSenior 2\\nEY GDS India\\n12/2019 - Present,\\nPreparation of Financial Statements for EMEIA clients in CaseWare and TR tool platform,\\nAnalysis of Monthly variances on BS &amp; IS and providing explanations to clients,\\nPreparation and posting of Journals into the Oracle (OBI),\\nChecking the Journals and following up with the accountants for timely and accurate posting on\\nmonthly basis,\\nHandling the Statutory audits at the year end, preparation of all the relevant documentation\\nfor Audit and responding to the queries raised by them,\\nBridging between the IFRS TB/US GAAP TB and Local GAAP TB/Statutory TB and Preparation of\\nGAAP to GAAP adjustments\\nPreparation of the BLACKLINE reconciliation's and\\nAnalytical review of Financial statements and preparing the explanations for the auditors for\\nunderstanding of the changes from previous year to current year.\\nArticles Training Assistant\\nAdinarayana &amp; Rao, a Professional services rm of Chartered\\nAccountants\\n03/2014 - 03/2017,\\nEngaged in Statutory Audits, Tax Audits and Special audits of various entities,\\nPreparation and ling of various returns under both direct and indirect tax laws,\\nRepresentation before Direct and Indirect taxation authorities for departmental audit and\\nassessments,\\nEngaged in closing of books of account and nalization of nancial statements related to\\ncompanies and various other entities,\\nExperienced in reconciliation of accounts of branch with head oce,\\nPreparation of CMA data for project reports for arranging working capital, term loans and other\\nnon-fund-based facilities from various bankers and\\nExperienced in preparation and ling of various documents and statutory forms with ROC for\\ncompanies under compliances of Companies Act.\\nAchievements/Tasks\\nAchievements/Tasks\\n\\nQuestion: give me all users with their ids who have experience with UI/UX in resume text [/INST]\"\n",
      "  ]\n",
      "}\n"
     ]
    },
    {
     "name": "stderr",
     "output_type": "stream",
     "text": [
      "Processed prompts: 100%|███████████████████████████████████████████████████████████████████████████████████████████████████████████████████████| 1/1 [00:04<00:00,  4.97s/it]"
     ]
    },
    {
     "name": "stdout",
     "output_type": "stream",
     "text": [
      "\u001b[36;1m\u001b[1;3m[llm/end]\u001b[0m \u001b[1m[1:chain:RetrievalQA > 3:chain:StuffDocumentsChain > 4:chain:LLMChain > 5:llm:VLLM] [4.98s] Exiting LLM run with output:\n",
      "\u001b[0m{\n",
      "  \"generations\": [\n",
      "    [\n",
      "      {\n",
      "        \"text\": \"Sure, here are the users with their IDs who have experience with UI/UX in their resume text:\\n\\n1. Sanjeev Tarigopula - UI/UX experience mentioned in the work experience section under the role of \\\"Product Manager\\\" at Jio.\\n2. Ayyappa Darla - UI/UX experience mentioned in the work experience section under the role of \\\"Senior at EY GDS India\\\" in the domain of Financial Reporting and operations under IFRS and US GAAP.\\n\\nPlease note that these are the users who have explicitly mentioned their\",\n",
      "        \"generation_info\": null,\n",
      "        \"type\": \"Generation\"\n",
      "      }\n",
      "    ]\n",
      "  ],\n",
      "  \"llm_output\": null,\n",
      "  \"run\": null\n",
      "}\n",
      "\u001b[36;1m\u001b[1;3m[chain/end]\u001b[0m \u001b[1m[1:chain:RetrievalQA > 3:chain:StuffDocumentsChain > 4:chain:LLMChain] [4.98s] Exiting Chain run with output:\n",
      "\u001b[0m{\n",
      "  \"text\": \"Sure, here are the users with their IDs who have experience with UI/UX in their resume text:\\n\\n1. Sanjeev Tarigopula - UI/UX experience mentioned in the work experience section under the role of \\\"Product Manager\\\" at Jio.\\n2. Ayyappa Darla - UI/UX experience mentioned in the work experience section under the role of \\\"Senior at EY GDS India\\\" in the domain of Financial Reporting and operations under IFRS and US GAAP.\\n\\nPlease note that these are the users who have explicitly mentioned their\"\n",
      "}\n",
      "\u001b[36;1m\u001b[1;3m[chain/end]\u001b[0m \u001b[1m[1:chain:RetrievalQA > 3:chain:StuffDocumentsChain] [4.98s] Exiting Chain run with output:\n",
      "\u001b[0m{\n",
      "  \"output_text\": \"Sure, here are the users with their IDs who have experience with UI/UX in their resume text:\\n\\n1. Sanjeev Tarigopula - UI/UX experience mentioned in the work experience section under the role of \\\"Product Manager\\\" at Jio.\\n2. Ayyappa Darla - UI/UX experience mentioned in the work experience section under the role of \\\"Senior at EY GDS India\\\" in the domain of Financial Reporting and operations under IFRS and US GAAP.\\n\\nPlease note that these are the users who have explicitly mentioned their\"\n",
      "}\n",
      "\u001b[36;1m\u001b[1;3m[chain/end]\u001b[0m \u001b[1m[1:chain:RetrievalQA] [4.99s] Exiting Chain run with output:\n",
      "\u001b[0m{\n",
      "  \"result\": \"Sure, here are the users with their IDs who have experience with UI/UX in their resume text:\\n\\n1. Sanjeev Tarigopula - UI/UX experience mentioned in the work experience section under the role of \\\"Product Manager\\\" at Jio.\\n2. Ayyappa Darla - UI/UX experience mentioned in the work experience section under the role of \\\"Senior at EY GDS India\\\" in the domain of Financial Reporting and operations under IFRS and US GAAP.\\n\\nPlease note that these are the users who have explicitly mentioned their\"\n",
      "}\n"
     ]
    },
    {
     "name": "stderr",
     "output_type": "stream",
     "text": [
      "\n"
     ]
    }
   ],
   "source": [
    "result = qa_chain({\"query\": \"give me all users with their ids who have experience with UI/UX in resume text\"})\n",
    "# print(result)"
   ]
  },
  {
   "cell_type": "code",
   "execution_count": 385,
   "id": "b8cbec07-9e41-4c24-90d0-80bcc0c7bb15",
   "metadata": {},
   "outputs": [
    {
     "data": {
      "text/plain": [
       "'Sure, here are the users with their IDs who have experience with UI/UX in their resume text:\\n\\n1. Sanjeev Tarigopula - UI/UX experience mentioned in the work experience section under the role of \"Product Manager\" at Jio.\\n2. Ayyappa Darla - UI/UX experience mentioned in the work experience section under the role of \"Senior at EY GDS India\" in the domain of Financial Reporting and operations under IFRS and US GAAP.\\n\\nPlease note that these are the users who have explicitly mentioned their'"
      ]
     },
     "execution_count": 385,
     "metadata": {},
     "output_type": "execute_result"
    }
   ],
   "source": [
    "result['result']"
   ]
  },
  {
   "cell_type": "code",
   "execution_count": 386,
   "id": "f4ea1c6e-8783-400b-8565-c4a94df959a3",
   "metadata": {},
   "outputs": [],
   "source": [
    "user_id_pattern = r'id: (\\d+)' and r'ID: (\\d+)' and r'ID is : (\\d+)' and r\"His ID is (\\d+)\" and r'ID: (\\d+)' and r'Id: (\\d+)' and r' ID: (\\d+)'and r' id: (\\d+)'and r'ID: (\\d+)' and r' id: (\\d+)'\n",
    "# pattern = r\"His ID is (\\d+)\"\n",
    "# matches = re.findall(pattern, text)\n",
    "\n",
    "\n",
    "user_ids = re.findall(user_id_pattern, result['result'])"
   ]
  },
  {
   "cell_type": "code",
   "execution_count": 380,
   "id": "afce2303-d9ac-4a4b-8382-58e67a3dfe06",
   "metadata": {},
   "outputs": [
    {
     "data": {
      "text/plain": [
       "['2772792', '2795573']"
      ]
     },
     "execution_count": 380,
     "metadata": {},
     "output_type": "execute_result"
    }
   ],
   "source": [
    "user_ids"
   ]
  },
  {
   "cell_type": "code",
   "execution_count": 381,
   "id": "a396381e-b5cb-4bf2-a34f-93ea1245514a",
   "metadata": {},
   "outputs": [
    {
     "name": "stderr",
     "output_type": "stream",
     "text": [
      "100%|█████████████████████████████████████████████████████████████████████████████████████████████████████████████████████████████████████████| 2/2 [00:00<00:00, 159.32it/s]\n",
      "100%|███████████████████████████████████████████████████████████████████████████████████████████████████████████████████████████████████████| 2/2 [00:00<00:00, 34379.54it/s]\n"
     ]
    }
   ],
   "source": [
    "data = get_user_data_search_embed(user_ids)"
   ]
  },
  {
   "cell_type": "code",
   "execution_count": 382,
   "id": "161149e7-04c6-49e9-ac52-50ec780cb1fb",
   "metadata": {},
   "outputs": [
    {
     "data": {
      "text/html": [
       "<div>\n",
       "<style scoped>\n",
       "    .dataframe tbody tr th:only-of-type {\n",
       "        vertical-align: middle;\n",
       "    }\n",
       "\n",
       "    .dataframe tbody tr th {\n",
       "        vertical-align: top;\n",
       "    }\n",
       "\n",
       "    .dataframe thead th {\n",
       "        text-align: right;\n",
       "    }\n",
       "</style>\n",
       "<table border=\"1\" class=\"dataframe\">\n",
       "  <thead>\n",
       "    <tr style=\"text-align: right;\">\n",
       "      <th></th>\n",
       "      <th>id</th>\n",
       "      <th>resume</th>\n",
       "      <th>keywords</th>\n",
       "      <th>current_designation</th>\n",
       "      <th>user_experience</th>\n",
       "      <th>professional_info</th>\n",
       "      <th>education_info</th>\n",
       "    </tr>\n",
       "  </thead>\n",
       "  <tbody>\n",
       "    <tr>\n",
       "      <th>0</th>\n",
       "      <td>2772792</td>\n",
       "      <td>Sanjeev Tarigopula\\n+91-8088826168, sanjeev03b...</td>\n",
       "      <td>Client Strategy Product_Management LEAN Busine...</td>\n",
       "      <td>Product Manager</td>\n",
       "      <td>4</td>\n",
       "      <td>[{'id': 4194428, 'userId': None, 'designation'...</td>\n",
       "      <td>[{'id': 97684750, 'userId': 2772792, 'institut...</td>\n",
       "    </tr>\n",
       "    <tr>\n",
       "      <th>1</th>\n",
       "      <td>2795573</td>\n",
       "      <td>VAISHNAVI RAMESH KUMAR\\nBangalore, India +91 9...</td>\n",
       "      <td>Audit Financial Chartered_Accountants Client C...</td>\n",
       "      <td>Manager</td>\n",
       "      <td>6</td>\n",
       "      <td>[{'id': 4231943, 'userId': None, 'designation'...</td>\n",
       "      <td>[{'id': 97710895, 'userId': 2795573, 'institut...</td>\n",
       "    </tr>\n",
       "  </tbody>\n",
       "</table>\n",
       "</div>"
      ],
      "text/plain": [
       "        id                                             resume  \\\n",
       "0  2772792  Sanjeev Tarigopula\\n+91-8088826168, sanjeev03b...   \n",
       "1  2795573  VAISHNAVI RAMESH KUMAR\\nBangalore, India +91 9...   \n",
       "\n",
       "                                            keywords current_designation  \\\n",
       "0  Client Strategy Product_Management LEAN Busine...     Product Manager   \n",
       "1  Audit Financial Chartered_Accountants Client C...             Manager   \n",
       "\n",
       "  user_experience                                  professional_info  \\\n",
       "0               4  [{'id': 4194428, 'userId': None, 'designation'...   \n",
       "1               6  [{'id': 4231943, 'userId': None, 'designation'...   \n",
       "\n",
       "                                      education_info  \n",
       "0  [{'id': 97684750, 'userId': 2772792, 'institut...  \n",
       "1  [{'id': 97710895, 'userId': 2795573, 'institut...  "
      ]
     },
     "execution_count": 382,
     "metadata": {},
     "output_type": "execute_result"
    }
   ],
   "source": [
    "data"
   ]
  },
  {
   "cell_type": "code",
   "execution_count": 383,
   "id": "09eea6a9-44c2-45e4-aeb8-1b146215520f",
   "metadata": {},
   "outputs": [
    {
     "data": {
      "text/plain": [
       "array([['Client Strategy Product_Management LEAN Business_Processes UI/UX Analytics Automation Marketing Trading Six_Sigma_Black_Belt Six_Sigma Black_Belt Data_Analytics Financial Venture_Capital Startup Digital Product_Roadmap Sales Consultant Institution HOD Sustainability IOT Production Strategy_Consultant Developer Recruitment Real_Estate Product_Design Lean_Six_Sigma Profitability MVP Research Engineering NPS Supply_Chain Product_Manager International_Research Analysis Stock Retention Leadership Stock_Market Prototype Corporate Project_Management'],\n",
       "       ['Audit Financial Chartered_Accountants Client Communication Finance Networking Chartered_Accountant Textiles Strategy Monitoring Consultant Web_Services Operations Regulatory_Requirements Research IPCC Manufacturing Productivity Strategic Distribution Investing Analysis Accountant Leadership Senior_Consultant Financial_Control Financial_Services MS_Office Knowledge_Transfer Social_Networking Corporate TAX']],\n",
       "      dtype=object)"
      ]
     },
     "execution_count": 383,
     "metadata": {},
     "output_type": "execute_result"
    }
   ],
   "source": [
    "data[['keywords']].values"
   ]
  },
  {
   "cell_type": "code",
   "execution_count": 347,
   "id": "fe449664-5c73-40b7-b778-8cbe471fb680",
   "metadata": {},
   "outputs": [],
   "source": [
    "# data['resume'].values"
   ]
  },
  {
   "cell_type": "code",
   "execution_count": 315,
   "id": "9f6db58c-b200-4d9d-a42d-91a243a26e25",
   "metadata": {},
   "outputs": [],
   "source": [
    "# user_id_pattern"
   ]
  },
  {
   "cell_type": "code",
   "execution_count": null,
   "id": "02f6d7a4-84a4-402e-92bb-88f09d06033d",
   "metadata": {},
   "outputs": [],
   "source": []
  },
  {
   "cell_type": "code",
   "execution_count": null,
   "id": "c4dc6452-5609-4787-bb95-f0b735e25488",
   "metadata": {},
   "outputs": [],
   "source": []
  }
 ],
 "metadata": {
  "kernelspec": {
   "display_name": "Python 3 (ipykernel)",
   "language": "python",
   "name": "python3"
  },
  "language_info": {
   "codemirror_mode": {
    "name": "ipython",
    "version": 3
   },
   "file_extension": ".py",
   "mimetype": "text/x-python",
   "name": "python",
   "nbconvert_exporter": "python",
   "pygments_lexer": "ipython3",
   "version": "3.10.12"
  }
 },
 "nbformat": 4,
 "nbformat_minor": 5
}
