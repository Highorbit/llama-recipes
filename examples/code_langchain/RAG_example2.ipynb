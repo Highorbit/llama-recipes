{
 "cells": [
  {
   "cell_type": "code",
   "execution_count": 1,
   "id": "a346f05c-191d-47f7-a6dc-2196c1b7538f",
   "metadata": {},
   "outputs": [],
   "source": [
    "import pandas as pd\n",
    "import numpy as np\n",
    "import configparser\n",
    "import pymysql\n",
    "import requests\n",
    "import re\n",
    "from tqdm import tqdm\n",
    "import configparser\n",
    "import openai\n",
    "import os\n",
    "import json"
   ]
  },
  {
   "cell_type": "code",
   "execution_count": 2,
   "id": "b5008839-9c84-4b8f-b896-bff4c22c103d",
   "metadata": {},
   "outputs": [
    {
     "data": {
      "text/plain": [
       "['/home/ubuntu/infoedge/llama-recipes/examples/configs/config.ini']"
      ]
     },
     "execution_count": 2,
     "metadata": {},
     "output_type": "execute_result"
    }
   ],
   "source": [
    "config=configparser.ConfigParser()\n",
    "config.read('/home/ubuntu/infoedge/llama-recipes/examples/configs/config.ini')"
   ]
  },
  {
   "cell_type": "code",
   "execution_count": 3,
   "id": "6dde4dc5-2250-4731-af44-69074a4c0390",
   "metadata": {},
   "outputs": [],
   "source": [
    "mydb= pymysql.connect(\n",
    "host=config['iimjobs_db']['hostname'],\n",
    "user=config['iimjobs_db']['username'],\n",
    "password=config['iimjobs_db']['password'],\n",
    "db=config['iimjobs_db']['db_name']\n",
    ")\n",
    "\n",
    "mycursor = mydb.cursor()"
   ]
  },
  {
   "cell_type": "code",
   "execution_count": 4,
   "id": "cee48b15-3296-499e-a8e1-e218a3ebf3c9",
   "metadata": {},
   "outputs": [],
   "source": [
    "# mycursor = mydb.cursor()\n",
    "\n",
    " \n",
    "query = \"SELECT userid from usr_applied_jobs_info where jobid=1374896\"\n",
    "\n",
    " # 1372184\n",
    "\n",
    "mycursor.execute(query)\n",
    "\n",
    "result = mycursor.fetchall()\n"
   ]
  },
  {
   "cell_type": "code",
   "execution_count": 5,
   "id": "0193ffce-57d6-4826-a81a-3317b665f17c",
   "metadata": {},
   "outputs": [],
   "source": [
    "udf = pd.DataFrame(result,columns=['userid'])"
   ]
  },
  {
   "cell_type": "code",
   "execution_count": 6,
   "id": "2e44e2da-3fa2-4261-996d-15093d16c21d",
   "metadata": {},
   "outputs": [],
   "source": [
    "uid_list = udf.userid.values"
   ]
  },
  {
   "cell_type": "code",
   "execution_count": 7,
   "id": "5ed54f5d-bed2-47ef-9393-f151a6a776d1",
   "metadata": {},
   "outputs": [
    {
     "data": {
      "text/plain": [
       "array([1286631, 2284789, 2499355, ..., 2755388, 2410347, 2358390])"
      ]
     },
     "execution_count": 7,
     "metadata": {},
     "output_type": "execute_result"
    }
   ],
   "source": [
    "uid_list"
   ]
  },
  {
   "cell_type": "code",
   "execution_count": 8,
   "id": "dbe02b04-8499-46cb-ac61-e499683d4baa",
   "metadata": {},
   "outputs": [],
   "source": [
    "from user_info import *"
   ]
  },
  {
   "cell_type": "code",
   "execution_count": 9,
   "id": "9d6809fe-6891-441b-8bc5-970bbfcb4b55",
   "metadata": {},
   "outputs": [
    {
     "name": "stderr",
     "output_type": "stream",
     "text": [
      "100%|█████████████████████████████████████████████████████████████████████████████████████████████████████████████████████████████████| 1128/1128 [00:07<00:00, 145.69it/s]\n",
      "100%|███████████████████████████████████████████████████████████████████████████████████████████████████████████████████████████████| 1128/1128 [00:00<00:00, 91931.74it/s]\n"
     ]
    }
   ],
   "source": [
    "df = get_user_data_search_embed(uid_list)"
   ]
  },
  {
   "cell_type": "code",
   "execution_count": 10,
   "id": "b0a5f2c4-838e-4ae0-bc36-da6317a9d94f",
   "metadata": {},
   "outputs": [
    {
     "data": {
      "text/html": [
       "<div>\n",
       "<style scoped>\n",
       "    .dataframe tbody tr th:only-of-type {\n",
       "        vertical-align: middle;\n",
       "    }\n",
       "\n",
       "    .dataframe tbody tr th {\n",
       "        vertical-align: top;\n",
       "    }\n",
       "\n",
       "    .dataframe thead th {\n",
       "        text-align: right;\n",
       "    }\n",
       "</style>\n",
       "<table border=\"1\" class=\"dataframe\">\n",
       "  <thead>\n",
       "    <tr style=\"text-align: right;\">\n",
       "      <th></th>\n",
       "      <th>id</th>\n",
       "      <th>resume</th>\n",
       "      <th>keywords</th>\n",
       "      <th>current_designation</th>\n",
       "      <th>user_experience</th>\n",
       "      <th>professional_info</th>\n",
       "      <th>education_info</th>\n",
       "    </tr>\n",
       "  </thead>\n",
       "  <tbody>\n",
       "    <tr>\n",
       "      <th>187</th>\n",
       "      <td>2542129</td>\n",
       "      <td>Hritvik Bhadane\\nCertied Data Analyst &amp;amp; Da...</td>\n",
       "      <td>Analysis Analytics Scientist MySQL BI Data_Ana...</td>\n",
       "      <td>Data Science Intern</td>\n",
       "      <td>2</td>\n",
       "      <td>[{'id': 3837908, 'userId': None, 'designation'...</td>\n",
       "      <td>[{'id': 97426866, 'userId': 2542129, 'institut...</td>\n",
       "    </tr>\n",
       "    <tr>\n",
       "      <th>61</th>\n",
       "      <td>2710338</td>\n",
       "      <td>Profile\\nEntry-level data analyst with a stron...</td>\n",
       "      <td>Analytics Science Data_Visualization Sales Ana...</td>\n",
       "      <td></td>\n",
       "      <td>0</td>\n",
       "      <td>[]</td>\n",
       "      <td>[{'id': 97619225, 'userId': 2710338, 'institut...</td>\n",
       "    </tr>\n",
       "    <tr>\n",
       "      <th>775</th>\n",
       "      <td>2056875</td>\n",
       "      <td>C O N T A C T\\npoorvisrth125@gmail.com\\npoorvi...</td>\n",
       "      <td>Legal C Research Corporate Automation R Legal_...</td>\n",
       "      <td>Document specialist</td>\n",
       "      <td>4</td>\n",
       "      <td>[{'id': 3063384, 'userId': None, 'designation'...</td>\n",
       "      <td>[{'id': 2373145, 'userId': 2056875, 'institute...</td>\n",
       "    </tr>\n",
       "    <tr>\n",
       "      <th>264</th>\n",
       "      <td>1076786</td>\n",
       "      <td>Bengaluru,India,560017 | 9725636296, | shubham...</td>\n",
       "      <td>Analysis Analyst CFA Automation Quantitative P...</td>\n",
       "      <td>Program Manager</td>\n",
       "      <td>7</td>\n",
       "      <td>[{'id': 3498621, 'userId': None, 'designation'...</td>\n",
       "      <td>[{'id': 1175447, 'userId': 1076786, 'institute...</td>\n",
       "    </tr>\n",
       "    <tr>\n",
       "      <th>410</th>\n",
       "      <td>2502994</td>\n",
       "      <td>SHUVAM MHAY\\nshuvammhay96@gmail.com | 84271709...</td>\n",
       "      <td>Marketing Sales Planning Social_Media Research...</td>\n",
       "      <td></td>\n",
       "      <td>0</td>\n",
       "      <td>[]</td>\n",
       "      <td>[{'id': 97380594, 'userId': 2502994, 'institut...</td>\n",
       "    </tr>\n",
       "  </tbody>\n",
       "</table>\n",
       "</div>"
      ],
      "text/plain": [
       "          id                                             resume  \\\n",
       "187  2542129  Hritvik Bhadane\\nCertied Data Analyst &amp; Da...   \n",
       "61   2710338  Profile\\nEntry-level data analyst with a stron...   \n",
       "775  2056875  C O N T A C T\\npoorvisrth125@gmail.com\\npoorvi...   \n",
       "264  1076786  Bengaluru,India,560017 | 9725636296, | shubham...   \n",
       "410  2502994  SHUVAM MHAY\\nshuvammhay96@gmail.com | 84271709...   \n",
       "\n",
       "                                              keywords  current_designation  \\\n",
       "187  Analysis Analytics Scientist MySQL BI Data_Ana...  Data Science Intern   \n",
       "61   Analytics Science Data_Visualization Sales Ana...                        \n",
       "775  Legal C Research Corporate Automation R Legal_...  Document specialist   \n",
       "264  Analysis Analyst CFA Automation Quantitative P...      Program Manager   \n",
       "410  Marketing Sales Planning Social_Media Research...                        \n",
       "\n",
       "    user_experience                                  professional_info  \\\n",
       "187               2  [{'id': 3837908, 'userId': None, 'designation'...   \n",
       "61                0                                                 []   \n",
       "775               4  [{'id': 3063384, 'userId': None, 'designation'...   \n",
       "264               7  [{'id': 3498621, 'userId': None, 'designation'...   \n",
       "410               0                                                 []   \n",
       "\n",
       "                                        education_info  \n",
       "187  [{'id': 97426866, 'userId': 2542129, 'institut...  \n",
       "61   [{'id': 97619225, 'userId': 2710338, 'institut...  \n",
       "775  [{'id': 2373145, 'userId': 2056875, 'institute...  \n",
       "264  [{'id': 1175447, 'userId': 1076786, 'institute...  \n",
       "410  [{'id': 97380594, 'userId': 2502994, 'institut...  "
      ]
     },
     "execution_count": 10,
     "metadata": {},
     "output_type": "execute_result"
    }
   ],
   "source": [
    "df.sample(5)"
   ]
  },
  {
   "cell_type": "code",
   "execution_count": 11,
   "id": "f20eaf48-3497-491a-9395-d00157d662af",
   "metadata": {},
   "outputs": [],
   "source": [
    "# df[['id','resume']].sample(10).values"
   ]
  },
  {
   "cell_type": "code",
   "execution_count": 12,
   "id": "dc3b25f4-5190-4993-9caa-1a474306b855",
   "metadata": {},
   "outputs": [],
   "source": [
    "# df"
   ]
  },
  {
   "cell_type": "code",
   "execution_count": 13,
   "id": "499c3af1-652e-441a-a4e3-3d5a2db46eb2",
   "metadata": {},
   "outputs": [],
   "source": [
    "df['resume']=df['resume'].str.lower()\n",
    "df['current_designation']=df['current_designation'].str.lower()"
   ]
  },
  {
   "cell_type": "code",
   "execution_count": 14,
   "id": "f9f6a4d4-e084-47ab-a7de-d8dd44b32547",
   "metadata": {},
   "outputs": [
    {
     "data": {
      "text/html": [
       "<div>\n",
       "<style scoped>\n",
       "    .dataframe tbody tr th:only-of-type {\n",
       "        vertical-align: middle;\n",
       "    }\n",
       "\n",
       "    .dataframe tbody tr th {\n",
       "        vertical-align: top;\n",
       "    }\n",
       "\n",
       "    .dataframe thead th {\n",
       "        text-align: right;\n",
       "    }\n",
       "</style>\n",
       "<table border=\"1\" class=\"dataframe\">\n",
       "  <thead>\n",
       "    <tr style=\"text-align: right;\">\n",
       "      <th></th>\n",
       "      <th>id</th>\n",
       "      <th>resume</th>\n",
       "      <th>keywords</th>\n",
       "      <th>current_designation</th>\n",
       "      <th>user_experience</th>\n",
       "      <th>professional_info</th>\n",
       "      <th>education_info</th>\n",
       "    </tr>\n",
       "  </thead>\n",
       "  <tbody>\n",
       "    <tr>\n",
       "      <th>821</th>\n",
       "      <td>2672520</td>\n",
       "      <td>h\\nm\\ns\\nn\\nd\\no\\nh\\ncareer objective\\ndedicat...</td>\n",
       "      <td>Analysis R Analytics IT_Recruitment IT Recruit...</td>\n",
       "      <td>recruitment consultant</td>\n",
       "      <td>3</td>\n",
       "      <td>[{'id': 4038970, 'userId': None, 'designation'...</td>\n",
       "      <td>[{'id': 97572326, 'userId': 2672520, 'institut...</td>\n",
       "    </tr>\n",
       "    <tr>\n",
       "      <th>331</th>\n",
       "      <td>2138527</td>\n",
       "      <td>kuldeep rajpurohit\\ni consider myself to be a ...</td>\n",
       "      <td>Analysis Fraudulent Financial Data_Analysis JAVA</td>\n",
       "      <td>citymall</td>\n",
       "      <td>1</td>\n",
       "      <td>[{'id': 3589272, 'userId': None, 'designation'...</td>\n",
       "      <td>[{'id': 2467695, 'userId': 2138527, 'institute...</td>\n",
       "    </tr>\n",
       "    <tr>\n",
       "      <th>933</th>\n",
       "      <td>2471186</td>\n",
       "      <td>ninad\\nsenior analyst\\nmumbai +91-7738171477\\n...</td>\n",
       "      <td>Analysis SAP Trading Security Regression Autom...</td>\n",
       "      <td>senior analyst</td>\n",
       "      <td>1</td>\n",
       "      <td>[{'id': 3714069, 'userId': None, 'designation'...</td>\n",
       "      <td>[{'id': 97343630, 'userId': 2471186, 'institut...</td>\n",
       "    </tr>\n",
       "    <tr>\n",
       "      <th>1025</th>\n",
       "      <td>2193039</td>\n",
       "      <td>nikhil yashwanth\\nbusiness analyst\\nresults-dr...</td>\n",
       "      <td>Analytics ZOHO Supply_Chain CEO MySQL Data_Ana...</td>\n",
       "      <td>business analyst</td>\n",
       "      <td>1</td>\n",
       "      <td>[{'id': 3286687, 'userId': None, 'designation'...</td>\n",
       "      <td>[{'id': 94672250, 'userId': 2193039, 'institut...</td>\n",
       "    </tr>\n",
       "    <tr>\n",
       "      <th>1055</th>\n",
       "      <td>2724426</td>\n",
       "      <td>professional summary\\nexperienced professional...</td>\n",
       "      <td>Sales Analyst Inventory Analysis Onboarding BI...</td>\n",
       "      <td>data analyst</td>\n",
       "      <td>1</td>\n",
       "      <td>[{'id': 4160507, 'userId': None, 'designation'...</td>\n",
       "      <td>[{'id': 97661155, 'userId': 2724426, 'institut...</td>\n",
       "    </tr>\n",
       "  </tbody>\n",
       "</table>\n",
       "</div>"
      ],
      "text/plain": [
       "           id                                             resume  \\\n",
       "821   2672520  h\\nm\\ns\\nn\\nd\\no\\nh\\ncareer objective\\ndedicat...   \n",
       "331   2138527  kuldeep rajpurohit\\ni consider myself to be a ...   \n",
       "933   2471186  ninad\\nsenior analyst\\nmumbai +91-7738171477\\n...   \n",
       "1025  2193039  nikhil yashwanth\\nbusiness analyst\\nresults-dr...   \n",
       "1055  2724426  professional summary\\nexperienced professional...   \n",
       "\n",
       "                                               keywords  \\\n",
       "821   Analysis R Analytics IT_Recruitment IT Recruit...   \n",
       "331    Analysis Fraudulent Financial Data_Analysis JAVA   \n",
       "933   Analysis SAP Trading Security Regression Autom...   \n",
       "1025  Analytics ZOHO Supply_Chain CEO MySQL Data_Ana...   \n",
       "1055  Sales Analyst Inventory Analysis Onboarding BI...   \n",
       "\n",
       "         current_designation user_experience  \\\n",
       "821   recruitment consultant               3   \n",
       "331                 citymall               1   \n",
       "933           senior analyst               1   \n",
       "1025        business analyst               1   \n",
       "1055            data analyst               1   \n",
       "\n",
       "                                      professional_info  \\\n",
       "821   [{'id': 4038970, 'userId': None, 'designation'...   \n",
       "331   [{'id': 3589272, 'userId': None, 'designation'...   \n",
       "933   [{'id': 3714069, 'userId': None, 'designation'...   \n",
       "1025  [{'id': 3286687, 'userId': None, 'designation'...   \n",
       "1055  [{'id': 4160507, 'userId': None, 'designation'...   \n",
       "\n",
       "                                         education_info  \n",
       "821   [{'id': 97572326, 'userId': 2672520, 'institut...  \n",
       "331   [{'id': 2467695, 'userId': 2138527, 'institute...  \n",
       "933   [{'id': 97343630, 'userId': 2471186, 'institut...  \n",
       "1025  [{'id': 94672250, 'userId': 2193039, 'institut...  \n",
       "1055  [{'id': 97661155, 'userId': 2724426, 'institut...  "
      ]
     },
     "execution_count": 14,
     "metadata": {},
     "output_type": "execute_result"
    }
   ],
   "source": [
    "df.sample(5)"
   ]
  },
  {
   "cell_type": "code",
   "execution_count": 15,
   "id": "f0e7424c-7b71-4afa-bc01-8d00b1755c49",
   "metadata": {},
   "outputs": [],
   "source": [
    "df1= df[['id','current_designation','user_experience','resume']]"
   ]
  },
  {
   "cell_type": "code",
   "execution_count": 16,
   "id": "5295c3ba-ff7c-4b14-8a78-a974790c3f8b",
   "metadata": {},
   "outputs": [],
   "source": [
    "# df1['resume']=df1['resume'].str.lower()"
   ]
  },
  {
   "cell_type": "code",
   "execution_count": 17,
   "id": "c7f7f4b5-811c-40ec-950d-7ec286a75a03",
   "metadata": {},
   "outputs": [
    {
     "data": {
      "text/html": [
       "<div>\n",
       "<style scoped>\n",
       "    .dataframe tbody tr th:only-of-type {\n",
       "        vertical-align: middle;\n",
       "    }\n",
       "\n",
       "    .dataframe tbody tr th {\n",
       "        vertical-align: top;\n",
       "    }\n",
       "\n",
       "    .dataframe thead th {\n",
       "        text-align: right;\n",
       "    }\n",
       "</style>\n",
       "<table border=\"1\" class=\"dataframe\">\n",
       "  <thead>\n",
       "    <tr style=\"text-align: right;\">\n",
       "      <th></th>\n",
       "      <th>id</th>\n",
       "      <th>current_designation</th>\n",
       "      <th>user_experience</th>\n",
       "      <th>resume</th>\n",
       "    </tr>\n",
       "  </thead>\n",
       "  <tbody>\n",
       "    <tr>\n",
       "      <th>249</th>\n",
       "      <td>2468885</td>\n",
       "      <td>business analyst</td>\n",
       "      <td>2</td>\n",
       "      <td>aakash sunkara\\n+919182674563 | aakashvishnu99...</td>\n",
       "    </tr>\n",
       "    <tr>\n",
       "      <th>411</th>\n",
       "      <td>2449055</td>\n",
       "      <td>business analyst</td>\n",
       "      <td>3</td>\n",
       "      <td>aakash kathuria\\nexperience\\nbusiness analyst ...</td>\n",
       "    </tr>\n",
       "    <tr>\n",
       "      <th>9</th>\n",
       "      <td>1350180</td>\n",
       "      <td>product manager</td>\n",
       "      <td>3</td>\n",
       "      <td>provided consultation to the client about the...</td>\n",
       "    </tr>\n",
       "    <tr>\n",
       "      <th>292</th>\n",
       "      <td>2621254</td>\n",
       "      <td>business analyst intern</td>\n",
       "      <td>1</td>\n",
       "      <td>parneet singh\\nanalyst\\nabout me\\nprofessional...</td>\n",
       "    </tr>\n",
       "    <tr>\n",
       "      <th>591</th>\n",
       "      <td>2741564</td>\n",
       "      <td>research analyst</td>\n",
       "      <td>0</td>\n",
       "      <td>academic qualifications\\ndegree / examination ...</td>\n",
       "    </tr>\n",
       "  </tbody>\n",
       "</table>\n",
       "</div>"
      ],
      "text/plain": [
       "          id       current_designation user_experience  \\\n",
       "249  2468885          business analyst               2   \n",
       "411  2449055          business analyst               3   \n",
       "9    1350180           product manager               3   \n",
       "292  2621254  business analyst intern                1   \n",
       "591  2741564          research analyst               0   \n",
       "\n",
       "                                                resume  \n",
       "249  aakash sunkara\\n+919182674563 | aakashvishnu99...  \n",
       "411  aakash kathuria\\nexperience\\nbusiness analyst ...  \n",
       "9     provided consultation to the client about the...  \n",
       "292  parneet singh\\nanalyst\\nabout me\\nprofessional...  \n",
       "591  academic qualifications\\ndegree / examination ...  "
      ]
     },
     "execution_count": 17,
     "metadata": {},
     "output_type": "execute_result"
    }
   ],
   "source": [
    "df1.sample(5)"
   ]
  },
  {
   "cell_type": "code",
   "execution_count": null,
   "id": "7bf6d2c7-3b94-41d3-a994-35f892793547",
   "metadata": {},
   "outputs": [],
   "source": []
  },
  {
   "cell_type": "code",
   "execution_count": 18,
   "id": "9ec5d5ba-8e72-42d5-acd6-ff54cdcf2c71",
   "metadata": {},
   "outputs": [],
   "source": [
    "documents = []\n",
    "for x in df1:\n",
    "    y = 'user id: '+df1['id'].values+', '+'user experience: '+df1['user_experience'].values+', '+'user designation: '+df1['current_designation'].values+', '+'user resume: '+df1['resume'].values \n",
    "    documents.append(y)"
   ]
  },
  {
   "cell_type": "code",
   "execution_count": 19,
   "id": "12667578-46cb-4602-9035-b78bf6ed76b2",
   "metadata": {},
   "outputs": [
    {
     "data": {
      "text/plain": [
       "1112"
      ]
     },
     "execution_count": 19,
     "metadata": {},
     "output_type": "execute_result"
    }
   ],
   "source": [
    "len(documents[0])"
   ]
  },
  {
   "cell_type": "code",
   "execution_count": 20,
   "id": "73827f63-ce0c-4206-85ce-0dcd36b4b1a1",
   "metadata": {},
   "outputs": [
    {
     "data": {
      "text/plain": [
       "'user id: 2053027, user experience: 2, user designation: product developer, user resume: preet singh\\n+91-870-029-9709 ps8765329@gmail.com www.linkedin.com/in/preetsingh17/ https://github.com/rudopf\\nsummary\\nelectrical engineering student with software development experience in app development and product development.\\nproject experience includes applications of software and hardware. seeking full-time position may 2020 in web devel-\\nopment and pharmaceutical production.\\neducation\\nb.tech, electrical engineering graduating may 2020\\nguru gobind singh inderprasth university, delhi, india 3.2/4.0 gpa\\nhmr institute of technology\\nrelevant coursework: data structures and programmable logic, advanced excel in business,software tools and sys-\\ntems programming,probability and computer applications,machine learning and algorithmic game theory.\\ntechnical skills\\ndata analysis and statistics: python, tableau\\ndesign and modeling tools: solidworks, labview, matlab, microsoft office\\nprogramming: java, javascript, c++, mysql\\ncertifications: national instruments certified labview associate developer (clad) august 2019\\nexperience\\nupwork, india, delhi: research &amp; dev development may 2019 present\\n applied measurement system analysis (msa) to qualify relocated test equipment (jmp, python)\\n authored three technical reports for relocated packaging equipment, following iqoqpq guides (jmp, excel)\\ndelhi jal board, delhi, india: quality engineering intern may 2018 aug 2018\\n monitors and tests water quality up to 50 to 150 tds values to ensure compliance with regulatory standards, and\\nidentifies and investigates any water quality issues.\\n created and delivered presentations to train field sales representatives on new product features (powerpoint)\\nacademic projects\\ntrading bot(link) fall 2019 spring 2020\\ncollaborated in a team of three to design model of custom hand cycle for polio victims (solidworks).\\n poloniex-trading-bot a trading bot that utilises macd to track and make trades of cryptocurrency.\\n given a coin pair traded on poloniex, the largest value of macd from the past 4 days is found. every 30 mins, the\\ncurrent macd is evaluated.\\n if it is at least 80 percent of the largest macd, the coin is traded.\\nbacktrader test strategy(link) spring 2021\\nled team of three to design and develop a mouse-like device to allow quadriplegic patients to use websites.\\n testing bitcoin strategy using backtrader framework this implementation contains simple macd based strategy.\\n the data for this strategy we use btc to eur data in cryptocompare website. achieving system quality number\\n2.61 and drawdown of 9.7 percent.\\nother work experience\\nhmr institute, delhi, india: project leader dec 2020\\n led team of 4 member in which we have build a quadcopter based on kk 2.1.5 flight controller and powered by\\n1100kv dc brushless motors.\\nmait, delhi, india: leader,electrical department dec 2019\\n in this project we sense the brightness of the room by light detecting resistor and provide a appropriate light by\\n555 ic astable vibrator.\\n'"
      ]
     },
     "execution_count": 20,
     "metadata": {},
     "output_type": "execute_result"
    }
   ],
   "source": [
    "documents[0][10]"
   ]
  },
  {
   "cell_type": "code",
   "execution_count": 21,
   "id": "157ab5c5-2f4a-4732-8aad-21b7de054a78",
   "metadata": {},
   "outputs": [],
   "source": [
    "from langchain.embeddings import HuggingFaceEmbeddings\n",
    "from langchain.text_splitter import RecursiveCharacterTextSplitter \n",
    "from langchain.vectorstores import FAISS\n"
   ]
  },
  {
   "cell_type": "code",
   "execution_count": 22,
   "id": "bffe5a29-2310-48e7-a5ec-b7fa1b1b1a97",
   "metadata": {},
   "outputs": [],
   "source": [
    "# documents = df1.values"
   ]
  },
  {
   "cell_type": "code",
   "execution_count": 23,
   "id": "63415b81-cb18-4345-b59a-9d2719cf78fc",
   "metadata": {},
   "outputs": [],
   "source": [
    "# documents[90]"
   ]
  },
  {
   "cell_type": "code",
   "execution_count": 24,
   "id": "2008510d-3a95-4b2c-a2c9-8cbd6a4d590b",
   "metadata": {},
   "outputs": [],
   "source": [
    "# documents[:, 0] = [{'id':int(value)} for value in documents[:, 0]]\n"
   ]
  },
  {
   "cell_type": "code",
   "execution_count": 25,
   "id": "3b42cdb6-3bb8-438b-9c41-eb840ff8c415",
   "metadata": {},
   "outputs": [],
   "source": [
    "# documents[0][90]"
   ]
  },
  {
   "cell_type": "code",
   "execution_count": 26,
   "id": "2b7bcf1b-2f1f-47da-8a68-00e544afb058",
   "metadata": {},
   "outputs": [],
   "source": [
    "# len(documents)"
   ]
  },
  {
   "cell_type": "code",
   "execution_count": 36,
   "id": "b16ade38-0ade-4303-81ee-b6e1bb171bfb",
   "metadata": {},
   "outputs": [
    {
     "name": "stdout",
     "output_type": "stream",
     "text": [
      "8 ['user id: 1286631, user experience: 5, user designation: product manager, user resume: a r a v i n d s u b r a m a n i a n g\\n5e4, happy windows, kattupakkam, chennai-600056 a.sbmn1994@gmail.com (+91)-9751053481\\neducational qualifications\\ncourse name year of\\ncompletion\\ninstitute name aggregate\\nb.tech (production\\nengineering)\\n2015 national institute of technology tiruchirappalli 7.97\\n(cgpa)\\nclass xii (cbse) 2011 jawahar senior secondary school, neyveli 85.6%\\nclass x (cbse) 2009 jawahar higher secondary school, neyveli 93.4%\\nprofessional experience\\nrbl bank private limited, manager cards portfolio, gurugram may 2022 apr 2023\\n managing p&amp;l ownership of the emi products of credit cards x-sell portfolio\\n monitoring and improving key metrics of the business like penetration, conversion and income\\n implemented digital transformation and increased the topline and bottomline of business\\nindustrybuying, category owner, new delhi jun 2021 jul 2021\\n managed seller on-boarding and p&amp;l of the categories mhe, packaging materials and lubricants &amp; oils\\nindian political action committee, senior analyst, chennai nov 2020 may 2021\\n managed 5 distinct assembly constituencies and successfully won all of them by building an online brand for\\nthe political party in the digital front\\n managed a 20 member team to ideate content and run digital campaigns in facebook pages and\\nwhatsapp groups at micro, ac and state level\\nznet technologies private limited, technical product manager, jaipur apr 2020 may 2020\\n managed the products acronis and alibaba cloud and responsible for their end to end change management\\npristyn care, associate product manager, gurugram aug 2019 jan 2020\\n managed the products carebuddy, receptionist and hospital chat of the organization\\n revamped carebuddy and reduced the tat around the opd process\\n revamped receptionist and increased the digitisation of patient management system\\n launched a new product hospital chat that helps track patient journey digitally across all hospitals\\ncomputer age management services, associate product manager, chennai jun 2018 nov 2018\\n managed the crms module of the product (investrak) and improved the cx of the product\\nramco systems limited, analyst programmer, chennai jun 2015 apr 2018\\n sql developer responsible for the design, development and delivery of warehouse management system\\n developed a total of 13 screens for wms web application\\n developed a total of 11 screens for wms mobile application (hand held terminal hht)\\n technical consultant responsible for\\n assisting the project teams in the development of a customized requirement for visy and gmk\\n providing stand-alone customer support from offshore during implementation/ post go-live\\nextra curricular activities\\ncleared grade i, grade ii &amp; grade iii in electronic keyboard conducted by trinity college of music, london.\\n'\n"
     ]
    }
   ],
   "source": [
    "text_splitter = RecursiveCharacterTextSplitter(chunk_size=5000,chunk_overlap=0)\n",
    "splits = text_splitter.split_text(str(documents[0]))\n",
    "print(len(splits), splits[0])"
   ]
  },
  {
   "cell_type": "code",
   "execution_count": null,
   "id": "3126ee29-1b98-4cb6-9cc8-2b2fe460b54a",
   "metadata": {},
   "outputs": [],
   "source": []
  },
  {
   "cell_type": "code",
   "execution_count": 37,
   "id": "04b9d449-7296-4c82-80e4-bf1635683cec",
   "metadata": {},
   "outputs": [],
   "source": [
    "embeddings = HuggingFaceEmbeddings(model_name='sentence-transformers/all-MiniLM-L6-v2',\n",
    "                                       model_kwargs={'device': 'cuda'})"
   ]
  },
  {
   "cell_type": "code",
   "execution_count": 38,
   "id": "6165daaf-ddd4-47cd-8af7-9311e74fbd5b",
   "metadata": {},
   "outputs": [],
   "source": [
    "db = FAISS.from_texts(documents[0], embeddings)"
   ]
  },
  {
   "cell_type": "code",
   "execution_count": null,
   "id": "7daa4921-840e-40c5-b7c0-3d6e74da11e4",
   "metadata": {},
   "outputs": [],
   "source": []
  },
  {
   "cell_type": "code",
   "execution_count": null,
   "id": "e4515a83-7dc9-48cd-9e71-52ef0af247fc",
   "metadata": {},
   "outputs": [],
   "source": []
  },
  {
   "cell_type": "code",
   "execution_count": 39,
   "id": "785f1d73-b4fa-4a13-a872-b4a54d207f40",
   "metadata": {},
   "outputs": [],
   "source": [
    "import langchain\n",
    "from queue import Queue\n",
    "from typing import Any\n",
    "from langchain.llms.huggingface_text_gen_inference import HuggingFaceTextGenInference\n",
    "from langchain.callbacks.streaming_stdout import StreamingStdOutCallbackHandler\n",
    "from langchain.schema import LLMResult\n",
    "from langchain.embeddings import HuggingFaceEmbeddings\n",
    "from langchain.vectorstores import FAISS\n",
    "from langchain.chains import RetrievalQA\n",
    "from langchain.prompts.prompt import PromptTemplate\n",
    "from anyio.from_thread import start_blocking_portal #For model callback streaming\n",
    "import re\n",
    "import gradio as gr\n",
    "langchain.debug=True "
   ]
  },
  {
   "cell_type": "code",
   "execution_count": 40,
   "id": "c6d58faa-8fd8-429f-85e8-e1623d8c45ca",
   "metadata": {},
   "outputs": [],
   "source": [
    "model = 'meta-llama/Llama-2-7b-chat-hf'"
   ]
  },
  {
   "cell_type": "code",
   "execution_count": null,
   "id": "e77e5bdf-771c-4c62-83a1-7c78a15591c9",
   "metadata": {},
   "outputs": [],
   "source": []
  },
  {
   "cell_type": "code",
   "execution_count": null,
   "id": "e649755a-68eb-4f12-aa0a-3c527f0a3033",
   "metadata": {},
   "outputs": [],
   "source": []
  },
  {
   "cell_type": "code",
   "execution_count": 41,
   "id": "190a2b42-848a-4ec7-9291-efa9d0ad3afa",
   "metadata": {},
   "outputs": [],
   "source": [
    "from bs4 import BeautifulSoup"
   ]
  },
  {
   "cell_type": "code",
   "execution_count": 42,
   "id": "3b571bb9-24dd-44c2-bdb6-60f5b7956dad",
   "metadata": {},
   "outputs": [
    {
     "name": "stdout",
     "output_type": "stream",
     "text": [
      "\n",
      "About the company:Bizup is an early stage startup, driven by the vision to empower the 60 Mn small businesses (SMEs) in India with technology. We are building the first of its kind short video app for B2B (business to business) transactions - think of it like Tiktok for businesses. Aim is to build India's largest network of business users, with the plan to onboard 2 Mn+ users in next 12 months, largely from Tier 2+ cities. Founders are IIT/IIM/ISB alumni, with leadership experience at McKinsey, Paytm, Tata (linkedin.com/in/suparngoel, linkedin.com/in/anshul-singhal-21696810/). If you are someone looking to join in the 0 to 1 journey of building a rocketship, in a huge opportunity area, then reach out to us!About the role:- In the dynamic position of Business Analyst, you will play a pivotal role in driving user engagement and satisfaction for our app. Your responsibilities will encompass a diverse range of critical functions, making this role both exciting and impactful. Here's what you will be doing:- Analyze user data to understand behaviour, preferences, and trends, using these insights to shape customer engagement strategies- Monitor day-to-day operations and manage the team to ensure smooth functioning in compliance with company standards- Collaborate closely with cross-functional teams, including business, product development, and content team, to ensure seamless communication and alignment in delivering a unified user experience- Maintain user engagement dashboards and prepare reports and present findings to senior management.What we are looking for?- Any graduate, or similar- Strong analytical skills and proficiency in using software and tools for data analysis like Excel- Familiarity with communication platforms, CRMs, and a willingness to stay updated on emerging tech trends- Proven experience in managing relationships across cross functional teams and team management or a similar role\n",
      "\n"
     ]
    }
   ],
   "source": [
    "text = '''\n",
    "<p><b>About the company:</b><br/><br/>Bizup is an early stage startup, driven by the vision to empower the 60 Mn small businesses (SMEs) in India with technology. We are building the first of its kind short video app for B2B (business to business) transactions - think of it like Tiktok for businesses. Aim is to build India's largest network of business users, with the plan to onboard 2 Mn+ users in next 12 months, largely from Tier 2+ cities. Founders are IIT/IIM/ISB alumni, with leadership experience at McKinsey, Paytm, Tata (linkedin.com/in/suparngoel, linkedin.com/in/anshul-singhal-21696810/). If you are someone looking to join in the 0 to 1 journey of building a rocketship, in a huge opportunity area, then reach out to us!<br/><br/><b>About the role:</b><br/><br/>- In the dynamic position of Business Analyst, you will play a pivotal role in driving user engagement and satisfaction for our app. Your responsibilities will encompass a diverse range of critical functions, making this role both exciting and impactful. Here's what you will be doing:<br/><br/>- Analyze user data to understand behaviour, preferences, and trends, using these insights to shape customer engagement strategies<br/><br/>- Monitor day-to-day operations and manage the team to ensure smooth functioning in compliance with company standards<br/><br/>- Collaborate closely with cross-functional teams, including business, product development, and content team, to ensure seamless communication and alignment in delivering a unified user experience<br/><br/>- Maintain user engagement dashboards and prepare reports and present findings to senior management.<br/><br/><b>What we are looking for?</b><br/><br/>- Any graduate, or similar<br/><br/>- Strong analytical skills and proficiency in using software and tools for data analysis like Excel<br/><br/>- Familiarity with communication platforms, CRMs, and a willingness to stay updated on emerging tech trends<br/><br/>- Proven experience in managing relationships across cross functional teams and team management or a similar role</p>\n",
    "'''\n",
    "\n",
    "# Use BeautifulSoup to remove HTML tags\n",
    "soup = BeautifulSoup(text, \"html.parser\")\n",
    "cleaned_text = soup.get_text()\n",
    "\n",
    "print(cleaned_text)"
   ]
  },
  {
   "cell_type": "code",
   "execution_count": null,
   "id": "8ba84dee-70f3-491f-9d33-2cf6b4347258",
   "metadata": {},
   "outputs": [],
   "source": []
  },
  {
   "cell_type": "code",
   "execution_count": 43,
   "id": "464ebb99-94a0-4b30-892d-351004a3d1ce",
   "metadata": {},
   "outputs": [
    {
     "name": "stdout",
     "output_type": "stream",
     "text": [
      "INFO 02-14 15:18:44 llm_engine.py:73] Initializing an LLM engine with config: model='meta-llama/Llama-2-7b-chat-hf', tokenizer='meta-llama/Llama-2-7b-chat-hf', tokenizer_mode=auto, revision=None, tokenizer_revision=None, trust_remote_code=True, dtype=torch.float16, max_seq_len=4096, download_dir=None, load_format=auto, tensor_parallel_size=1, quantization=None, enforce_eager=False, seed=0)\n",
      "INFO 02-14 15:18:50 llm_engine.py:223] # GPU blocks: 805, # CPU blocks: 512\n",
      "INFO 02-14 15:18:53 model_runner.py:394] Capturing the model for CUDA graphs. This may lead to unexpected consequences if the model is not static. To run the model in eager mode, set 'enforce_eager=True' or use '--enforce-eager' in the CLI.\n",
      "INFO 02-14 15:19:02 model_runner.py:437] Graph capturing finished in 9 secs.\n"
     ]
    }
   ],
   "source": [
    "from langchain.llms import VLLM\n",
    "\n",
    "llm = VLLM(model=model,\n",
    "           trust_remote_code=True,  \n",
    "           max_new_tokens=1024,\n",
    "           top_k=20,\n",
    "           top_p=0.95,\n",
    "           temperature=0)"
   ]
  },
  {
   "cell_type": "code",
   "execution_count": 44,
   "id": "f413e1cd-4a9c-4f4f-9a82-3e49c20ae83a",
   "metadata": {},
   "outputs": [],
   "source": [
    "template = \"\"\"\n",
    "<s>[INST] You are an AI agent working for a job platform and your task is to recommend the most relevant users \n",
    "using the context (in the form of resume text provided. If no context provided, answer like a AI assistant.\n",
    "{context}\n",
    "Question: {question} [/INST]\n",
    "\"\"\"\n",
    "\n",
    "retriever = db.as_retriever(\n",
    "        search_kwargs={\"k\": 2}\n",
    "    )"
   ]
  },
  {
   "cell_type": "code",
   "execution_count": 45,
   "id": "8974c39c-f6a6-4462-b24a-eb70c6bb11a6",
   "metadata": {},
   "outputs": [],
   "source": [
    "qa_chain = RetrievalQA.from_chain_type(\n",
    "    llm=llm, \n",
    "    retriever=retriever,     \n",
    "    chain_type_kwargs={\n",
    "        \"prompt\": PromptTemplate(\n",
    "            template=template,\n",
    "            input_variables=[\"context\", \"question\"],\n",
    "        ),\n",
    "    }\n",
    ")"
   ]
  },
  {
   "cell_type": "code",
   "execution_count": 46,
   "id": "228b7890-8337-4aff-946a-9982a6ddf2c6",
   "metadata": {
    "scrolled": true
   },
   "outputs": [
    {
     "name": "stdout",
     "output_type": "stream",
     "text": [
      "\u001b[32;1m\u001b[1;3m[chain/start]\u001b[0m \u001b[1m[1:chain:RetrievalQA] Entering Chain run with input:\n",
      "\u001b[0m{\n",
      "  \"query\": \"give me ids of users who have experience with BOTH tableau and power BI?\"\n",
      "}\n",
      "\u001b[32;1m\u001b[1;3m[chain/start]\u001b[0m \u001b[1m[1:chain:RetrievalQA > 3:chain:StuffDocumentsChain] Entering Chain run with input:\n",
      "\u001b[0m[inputs]\n",
      "\u001b[32;1m\u001b[1;3m[chain/start]\u001b[0m \u001b[1m[1:chain:RetrievalQA > 3:chain:StuffDocumentsChain > 4:chain:LLMChain] Entering Chain run with input:\n",
      "\u001b[0m{\n",
      "  \"question\": \"give me ids of users who have experience with BOTH tableau and power BI?\",\n",
      "  \"context\": \"user id: 2122480, user experience: 2, user designation: data analyst, user resume: sonakshi jaiswal\\n(+91) 8090186665, 9569296787\\n@ sonakshijaiswal444@gmail.com\\n# www.linkedin.com/in/sonakshi-jaiswal\\n# https://github.com/sonakshi-jaiswal\\nsummary\\n results-driven data analyst with 2 years of experience in machine learning, data analysis, and\\nvisualization. skilled in utilizing tools such as power bi, tableau, python, and sql to derive\\nactionable insights and drive business growth.\\n demonstrated ability to communicate complex data findings effectively to both technical and non-\\ntechnical stakeholders.\\n seeking a challenging opportunity to leverage my expertise in a dynamic and fast-paced\\nenvironment\\nwork experiences\\ndata analyst (tableau developer) april 2022 - till date\\nennovations techserv pvt. ltd., noida, uttar pardesh\\nresponsibilities:\\n collaborate with cross-functional teams to understand business requirements and translate them\\ninto interactive tableau dashboards.\\n analyse and visualize complex data sets to identify trends, patterns, and insights.\\n develop and maintain tableau reports for sales, financial analysis, and operational performance\\ntracking.\\n conduct data analysis using tableau and other statistical tools to support strategic decision-\\nmaking.\\n provide training and technical support to end-users for efficient utilization of tableau reports and\\ndashboards.\\ndata analyst (power bi developer) january 2021 - april 2022\\nvplus.| startup business consultant, new delhi\\nresponsibilities:\\n conducted in-depth data analysis to identify opportunities for process improvement and cost\\noptimization.\\n created comprehensive reports and presentations to communicate data-driven insights to\\nmanagement and clients.\\n developed data-driven models and implemented statistical techniques for forecasting and\\npredictive analytics.\\n collaborated with stakeholders to define key performance indicators (kpis) and track performance\\nagainst targets.\\n assisted in the design and implementation of data collection systems to ensure accurate and\\nreliable data.\\naccountant july 2017 - december 2020\\nvplus.| startup business consultant, new delhi\\nresponsibilities:\\n managed financial documentation, including invoicing, accounts payable/receivable, and financial\\nreporting.\\n&quot;,&quot; conducted regular financial analysis to monitor cash flow, profitability, and expense management.\\n assisted in budgeting and forecasting processes to support strategic financial planning.\\n prepared tax documents and liaised with external auditors for timely completion of audits.\\n maintained accurate records and reconciled bank statements to ensure financial accuracy.\\nprojects\\n1. project name: reinsurance (hannover-re) (ennovations techserv pvt. ltd.)\\ntools: python, power bi, mssql, excel\\nresponsibilities:\\n created python program to automate the process of data merging, data cleaning, column\\nheaders sequencing and generating uploaders for sql database.\\n automated the premium recalculation process using python code for companies like icici, baja,\\ntata, kotak etc.\\n developed interactive dashboards and reports using power bi desktop.\\n worked on data to help build strategies.\\n prepare, analyse, and summarize various weekly, monthly, and periodic operational results for\\nuse by various key stakeholders, creating reports, specifications, instructions, and flowcharts.\\n2. project name: financial dashboard (devoteam) (ennovations techserv pvt. ltd.)\\ntools: python, tableau, mssql\\nresponsibilities:\\n developed a dynamic tableau dashboard to visualize sales performance, financial metrics, and\\nkey business indicators.\\n collaborated with business clients to gather requirements and design interactive visualizations.\\n utilized python, tableau, and sql for data processing, analysis, and visualization.\\n3. project name: sales &amp; product dashboard (ozo energy) (vplus. startup business consultants)\\ndescription: collecting, collating and carrying out complex data analysis in support of\\nmanagement &amp; customer requests. also involved in reporting statistical findings to work colleagues\\nand senior managers.\\ntools: python, excel, mysql, tableau\\nresponsibilities:\\n manipulating, cleaning &amp; processing data using excel, python and sql.\\n responsible for loading, extracting and validation of client data.\\n analysing raw data, drawing conclusions &amp; developing recommendations\\n writing sql scripts to manipulate data for data loads and extracts.\\n developing data analytical databases from complex financial source data.\\n data entry, data auditing, creating data reports &amp; monitoring all data for accuracy.\\n designing, developing and implementing new functionality.\\n carrying out specified data processing and statistical techniques.\\n supplying qualitative and quantitative data to colleagues &amp; clients.\\n create dashboard using tableau.\\n4. title: employee attendance system (vplus. startup business consultants)\\ntools: tableau, mysql\\nresponsibilities:\\n designed and implemented a tableau dashboard to track and analyse employee attendance\\ndata, working shift and task status.\\n&quot;,&quot; created comprehensive reports and filters for detailed analysis of attendance patterns and\\ntrends.\\n leveraged tableau and sql for data integration and visualization.\\n5. title: e-commerce (vastrado) (vplus. startup business consultants)\\ntools: python, machine learning, powerbi, sql\\nresponsibilities:\\n conducted time series analysis on e-commerce data to forecast product prices and demand.\\n utilized python for data pre-processing, exploratory analysis, and modelling.\\n developed predictive models using time series techniques and evaluated their accuracy and\\nperformance.\\neducation qualification\\n master of science (data science) 2022- pursuing\\nchandigarh university (odl), chandigarh, punjab\\n master of business administration (finance &amp; marketing) 2015-2017\\ndr. a.p.j. abdul kalam technical university, lucknow, uttar pradesh\\n bachelor of commerce (b.com) 2012-2015\\nuniversity of lucknow, lucknow, uttar pradesh\\n intermediate (12th\\n) 2011-2012\\nboard of high school and intermediate education uttar pradesh\\n high school (10th\\n) 2009-2010\\nboard of high school and intermediate education uttar pradesh\\ntechnical skills\\npersonal details\\nfathers name: mr. heera lal jaiswal\\ndate of birth: 08th august 1995\\nlanguage known: hindi and english\\nkey skills data science, machine learning- supervised, unsupervised, data analysis,\\nregression, statistical analysis, cluster analysis, classification, data mining, numpy,\\npandas.\\nlanguage python, r\\nalgorithms logistic regression, linear regression, k means, knn, svm, svt, decision tree,\\nrandom forest\\nlibraries pandas, numpy, matplotlib, seabourn, scikit learn, scipy\\ntools jupiter, tableau, pycharm, anaconda, power bi, advanced ms excel\\ndatabase mysql, mssql\\n\\n\\nuser id: 2723804, user experience: 2, user designation: data analyst, user resume: rohit batthula +91 8247715863\\nhyderabad 500060 india batthularohit@gmail.com\\nlinked in tableau datacamp\\nprofessional summary\\no experienced data analyst with 2.5 years in sql, power bi, tableau, python, and\\ncertified in aws and azure.\\no proficient in sql, teradata, sas, reporting, dashboarding, data analysis, exploratory\\ndata analysis, and feature engineering.\\no proven expertise in tableau, working with production data and reports on\\ntableau server/ online.\\nskills\\nlanguages: python, sql.\\nlibraries: numpy, pandas, regex, sklearn, statsmodel, spacy, nltk.\\ndatabases: oracle, sql server, teradata.\\ncloud: aws, azure, oracle\\nothers: probability and statistics, hypothesis testing, excel, sas, tableau, power bi.\\nwork experience\\n ntt data 2021 june -present\\nclient: harvard pilgrim health care 2023\\nrole: data analyst\\no ad-hoc reporting of claims, member enrollment, benefit, network,\\ncontract and provider data using oracle sql (back-end) and associated\\napplication analysis using ohi (oracle health information) and edw\\n(enterprise data warehouse), working with claims ops team.\\no writing complex sql queries for end-to-end reconciliation between the new\\nand the legacy systems (provider network management, contracts,\\ncredentialing).\\no developing key performance indicators and metrics to track progress\\nagainst business objectives and identify areas for improvement.\\nmobile voice recording end to end project.\\nclient: virgin media 2022\\no data cleaning, data modeling, sql, python, excel, power bi.\\no analyzed and tested the migration of mobile subscribers from non-ims\\nto ims in the uk, ensuring end-to-end call flow functionality.\\no communicated regularly with stakeholders and managed provisioning,\\nanalyzed logs from network and contributing to a significant reduction\\nin provisioning time from hours to minutes.\\no enabled faster provisioning of subscribers, improving\\noperational efficiency, and reducing time-to-market for the\\nproduct.\\n5g private network end to end project\\nclient: virgin media 2021\\no sql, python, excel, data analysis, power bi.\\no conducted analysis of invoice generation for 5g customers within a\\ncorporation in the uk to ensure accuracy and compliance with\\nexpectations.\\no created corporations and subscribers, added hardware orders, and ran\\ninvoices. collaborated with configuration setup team to implement necessary\\nchanges in configuration setup.\\no resulting in a positive impact on the project by improving accuracy\\nand compliance with invoicing processes.\\n&quot;,&quot;projects workspace\\npredicting credit card approvals, modeling car insurance claim outcome\\no expertise in data cleaning and preparation, including filling missing values\\nand feature engineering to improve model performance.\\no understanding and using label encoding to convert categorical data into\\nnumerical data for machine learning models.\\no implementing logistic regression to predict credit card approvals and car\\ninsurance claim outcomes based on various features.\\npredicting graduate admissions chances\\no ensured data quality by handling missing values and feature engineering,\\nwhich significantly enhanced the accuracy of our predictive model.\\no checked for multicollinearity using vif scores, confirming that predictor\\nvariables were independent, a crucial prerequisite for reliable linear\\nregression analysis.\\no employed mae, rmse, r2 score, and adjusted r2 for comprehensive\\nmodel evaluation, offering precise insights.\\nhealthcare data analysis at apollo hospitals\\no leveraged graphical and non-graphical analysis techniques to identify\\nbottlenecks in healthcare processes, optimizing resource allocation and\\nimproving overall operational efficiency at apollo hospitals.\\no utilized statistical methods such as 2-sample t-tests and anova to\\nanalyze patient-level data, influencing diagnostic and treatment processes\\nby identifying factors that contribute to better outcomes.\\no employed data analysis, including chi-square tests, to map the spread of\\npandemics and assess the impact of various interventions, contributing to\\ninformed decision-making and pandemic response strategies at apollo\\nhospitals.\\ncertifications\\n scaler data science and machine learning 2023\\n data camp associate data analyst 2023\\n ntt data certified aws cloud engineer 2023\\n aws certified cloud practitioner (clf-c01) 2022\\n microsoft azure fundamentals (az900) 2022\\n istqb certified tester foundational level (ctfl) 2021\\neducation\\ndata science and machine learning 2022-present\\nscaler\\nb.tech - computer science and engineering 2016-2020\\nguru nanak institute of technology - hyderabad\\n\"\n",
      "}\n",
      "\u001b[32;1m\u001b[1;3m[llm/start]\u001b[0m \u001b[1m[1:chain:RetrievalQA > 3:chain:StuffDocumentsChain > 4:chain:LLMChain > 5:llm:VLLM] Entering LLM run with input:\n",
      "\u001b[0m{\n",
      "  \"prompts\": [\n",
      "    \"<s>[INST] You are an AI agent working for a job platform and your task is to recommend the most relevant users \\nusing the context (in the form of resume text provided. If no context provided, answer like a AI assistant.\\nuser id: 2122480, user experience: 2, user designation: data analyst, user resume: sonakshi jaiswal\\n(+91) 8090186665, 9569296787\\n@ sonakshijaiswal444@gmail.com\\n# www.linkedin.com/in/sonakshi-jaiswal\\n# https://github.com/sonakshi-jaiswal\\nsummary\\n results-driven data analyst with 2 years of experience in machine learning, data analysis, and\\nvisualization. skilled in utilizing tools such as power bi, tableau, python, and sql to derive\\nactionable insights and drive business growth.\\n demonstrated ability to communicate complex data findings effectively to both technical and non-\\ntechnical stakeholders.\\n seeking a challenging opportunity to leverage my expertise in a dynamic and fast-paced\\nenvironment\\nwork experiences\\ndata analyst (tableau developer) april 2022 - till date\\nennovations techserv pvt. ltd., noida, uttar pardesh\\nresponsibilities:\\n collaborate with cross-functional teams to understand business requirements and translate them\\ninto interactive tableau dashboards.\\n analyse and visualize complex data sets to identify trends, patterns, and insights.\\n develop and maintain tableau reports for sales, financial analysis, and operational performance\\ntracking.\\n conduct data analysis using tableau and other statistical tools to support strategic decision-\\nmaking.\\n provide training and technical support to end-users for efficient utilization of tableau reports and\\ndashboards.\\ndata analyst (power bi developer) january 2021 - april 2022\\nvplus.| startup business consultant, new delhi\\nresponsibilities:\\n conducted in-depth data analysis to identify opportunities for process improvement and cost\\noptimization.\\n created comprehensive reports and presentations to communicate data-driven insights to\\nmanagement and clients.\\n developed data-driven models and implemented statistical techniques for forecasting and\\npredictive analytics.\\n collaborated with stakeholders to define key performance indicators (kpis) and track performance\\nagainst targets.\\n assisted in the design and implementation of data collection systems to ensure accurate and\\nreliable data.\\naccountant july 2017 - december 2020\\nvplus.| startup business consultant, new delhi\\nresponsibilities:\\n managed financial documentation, including invoicing, accounts payable/receivable, and financial\\nreporting.\\n&quot;,&quot; conducted regular financial analysis to monitor cash flow, profitability, and expense management.\\n assisted in budgeting and forecasting processes to support strategic financial planning.\\n prepared tax documents and liaised with external auditors for timely completion of audits.\\n maintained accurate records and reconciled bank statements to ensure financial accuracy.\\nprojects\\n1. project name: reinsurance (hannover-re) (ennovations techserv pvt. ltd.)\\ntools: python, power bi, mssql, excel\\nresponsibilities:\\n created python program to automate the process of data merging, data cleaning, column\\nheaders sequencing and generating uploaders for sql database.\\n automated the premium recalculation process using python code for companies like icici, baja,\\ntata, kotak etc.\\n developed interactive dashboards and reports using power bi desktop.\\n worked on data to help build strategies.\\n prepare, analyse, and summarize various weekly, monthly, and periodic operational results for\\nuse by various key stakeholders, creating reports, specifications, instructions, and flowcharts.\\n2. project name: financial dashboard (devoteam) (ennovations techserv pvt. ltd.)\\ntools: python, tableau, mssql\\nresponsibilities:\\n developed a dynamic tableau dashboard to visualize sales performance, financial metrics, and\\nkey business indicators.\\n collaborated with business clients to gather requirements and design interactive visualizations.\\n utilized python, tableau, and sql for data processing, analysis, and visualization.\\n3. project name: sales &amp; product dashboard (ozo energy) (vplus. startup business consultants)\\ndescription: collecting, collating and carrying out complex data analysis in support of\\nmanagement &amp; customer requests. also involved in reporting statistical findings to work colleagues\\nand senior managers.\\ntools: python, excel, mysql, tableau\\nresponsibilities:\\n manipulating, cleaning &amp; processing data using excel, python and sql.\\n responsible for loading, extracting and validation of client data.\\n analysing raw data, drawing conclusions &amp; developing recommendations\\n writing sql scripts to manipulate data for data loads and extracts.\\n developing data analytical databases from complex financial source data.\\n data entry, data auditing, creating data reports &amp; monitoring all data for accuracy.\\n designing, developing and implementing new functionality.\\n carrying out specified data processing and statistical techniques.\\n supplying qualitative and quantitative data to colleagues &amp; clients.\\n create dashboard using tableau.\\n4. title: employee attendance system (vplus. startup business consultants)\\ntools: tableau, mysql\\nresponsibilities:\\n designed and implemented a tableau dashboard to track and analyse employee attendance\\ndata, working shift and task status.\\n&quot;,&quot; created comprehensive reports and filters for detailed analysis of attendance patterns and\\ntrends.\\n leveraged tableau and sql for data integration and visualization.\\n5. title: e-commerce (vastrado) (vplus. startup business consultants)\\ntools: python, machine learning, powerbi, sql\\nresponsibilities:\\n conducted time series analysis on e-commerce data to forecast product prices and demand.\\n utilized python for data pre-processing, exploratory analysis, and modelling.\\n developed predictive models using time series techniques and evaluated their accuracy and\\nperformance.\\neducation qualification\\n master of science (data science) 2022- pursuing\\nchandigarh university (odl), chandigarh, punjab\\n master of business administration (finance &amp; marketing) 2015-2017\\ndr. a.p.j. abdul kalam technical university, lucknow, uttar pradesh\\n bachelor of commerce (b.com) 2012-2015\\nuniversity of lucknow, lucknow, uttar pradesh\\n intermediate (12th\\n) 2011-2012\\nboard of high school and intermediate education uttar pradesh\\n high school (10th\\n) 2009-2010\\nboard of high school and intermediate education uttar pradesh\\ntechnical skills\\npersonal details\\nfathers name: mr. heera lal jaiswal\\ndate of birth: 08th august 1995\\nlanguage known: hindi and english\\nkey skills data science, machine learning- supervised, unsupervised, data analysis,\\nregression, statistical analysis, cluster analysis, classification, data mining, numpy,\\npandas.\\nlanguage python, r\\nalgorithms logistic regression, linear regression, k means, knn, svm, svt, decision tree,\\nrandom forest\\nlibraries pandas, numpy, matplotlib, seabourn, scikit learn, scipy\\ntools jupiter, tableau, pycharm, anaconda, power bi, advanced ms excel\\ndatabase mysql, mssql\\n\\n\\nuser id: 2723804, user experience: 2, user designation: data analyst, user resume: rohit batthula +91 8247715863\\nhyderabad 500060 india batthularohit@gmail.com\\nlinked in tableau datacamp\\nprofessional summary\\no experienced data analyst with 2.5 years in sql, power bi, tableau, python, and\\ncertified in aws and azure.\\no proficient in sql, teradata, sas, reporting, dashboarding, data analysis, exploratory\\ndata analysis, and feature engineering.\\no proven expertise in tableau, working with production data and reports on\\ntableau server/ online.\\nskills\\nlanguages: python, sql.\\nlibraries: numpy, pandas, regex, sklearn, statsmodel, spacy, nltk.\\ndatabases: oracle, sql server, teradata.\\ncloud: aws, azure, oracle\\nothers: probability and statistics, hypothesis testing, excel, sas, tableau, power bi.\\nwork experience\\n ntt data 2021 june -present\\nclient: harvard pilgrim health care 2023\\nrole: data analyst\\no ad-hoc reporting of claims, member enrollment, benefit, network,\\ncontract and provider data using oracle sql (back-end) and associated\\napplication analysis using ohi (oracle health information) and edw\\n(enterprise data warehouse), working with claims ops team.\\no writing complex sql queries for end-to-end reconciliation between the new\\nand the legacy systems (provider network management, contracts,\\ncredentialing).\\no developing key performance indicators and metrics to track progress\\nagainst business objectives and identify areas for improvement.\\nmobile voice recording end to end project.\\nclient: virgin media 2022\\no data cleaning, data modeling, sql, python, excel, power bi.\\no analyzed and tested the migration of mobile subscribers from non-ims\\nto ims in the uk, ensuring end-to-end call flow functionality.\\no communicated regularly with stakeholders and managed provisioning,\\nanalyzed logs from network and contributing to a significant reduction\\nin provisioning time from hours to minutes.\\no enabled faster provisioning of subscribers, improving\\noperational efficiency, and reducing time-to-market for the\\nproduct.\\n5g private network end to end project\\nclient: virgin media 2021\\no sql, python, excel, data analysis, power bi.\\no conducted analysis of invoice generation for 5g customers within a\\ncorporation in the uk to ensure accuracy and compliance with\\nexpectations.\\no created corporations and subscribers, added hardware orders, and ran\\ninvoices. collaborated with configuration setup team to implement necessary\\nchanges in configuration setup.\\no resulting in a positive impact on the project by improving accuracy\\nand compliance with invoicing processes.\\n&quot;,&quot;projects workspace\\npredicting credit card approvals, modeling car insurance claim outcome\\no expertise in data cleaning and preparation, including filling missing values\\nand feature engineering to improve model performance.\\no understanding and using label encoding to convert categorical data into\\nnumerical data for machine learning models.\\no implementing logistic regression to predict credit card approvals and car\\ninsurance claim outcomes based on various features.\\npredicting graduate admissions chances\\no ensured data quality by handling missing values and feature engineering,\\nwhich significantly enhanced the accuracy of our predictive model.\\no checked for multicollinearity using vif scores, confirming that predictor\\nvariables were independent, a crucial prerequisite for reliable linear\\nregression analysis.\\no employed mae, rmse, r2 score, and adjusted r2 for comprehensive\\nmodel evaluation, offering precise insights.\\nhealthcare data analysis at apollo hospitals\\no leveraged graphical and non-graphical analysis techniques to identify\\nbottlenecks in healthcare processes, optimizing resource allocation and\\nimproving overall operational efficiency at apollo hospitals.\\no utilized statistical methods such as 2-sample t-tests and anova to\\nanalyze patient-level data, influencing diagnostic and treatment processes\\nby identifying factors that contribute to better outcomes.\\no employed data analysis, including chi-square tests, to map the spread of\\npandemics and assess the impact of various interventions, contributing to\\ninformed decision-making and pandemic response strategies at apollo\\nhospitals.\\ncertifications\\n scaler data science and machine learning 2023\\n data camp associate data analyst 2023\\n ntt data certified aws cloud engineer 2023\\n aws certified cloud practitioner (clf-c01) 2022\\n microsoft azure fundamentals (az900) 2022\\n istqb certified tester foundational level (ctfl) 2021\\neducation\\ndata science and machine learning 2022-present\\nscaler\\nb.tech - computer science and engineering 2016-2020\\nguru nanak institute of technology - hyderabad\\n\\nQuestion: give me ids of users who have experience with BOTH tableau and power BI? [/INST]\"\n",
      "  ]\n",
      "}\n"
     ]
    },
    {
     "name": "stderr",
     "output_type": "stream",
     "text": [
      "Processed prompts: 100%|█████████████████████████████████████████████████████████████████████████████████████████████████████████████████████| 1/1 [00:04<00:00,  4.05s/it]"
     ]
    },
    {
     "name": "stdout",
     "output_type": "stream",
     "text": [
      "\u001b[36;1m\u001b[1;3m[llm/end]\u001b[0m \u001b[1m[1:chain:RetrievalQA > 3:chain:StuffDocumentsChain > 4:chain:LLMChain > 5:llm:VLLM] [4.07s] Exiting LLM run with output:\n",
      "\u001b[0m{\n",
      "  \"generations\": [\n",
      "    [\n",
      "      {\n",
      "        \"text\": \"Based on the provided resumes, the following are the IDs of users who have experience with both Tableau and Power BI:\\n\\n1. Sonakshi Jaiswal - user ID: 2122480\\n2. Rohit Batthula - user ID: 2723804\\n\\nBoth Sonakshi and Rohit have experience working with Tableau and Power BI, as mentioned in their resumes.\",\n",
      "        \"generation_info\": null,\n",
      "        \"type\": \"Generation\"\n",
      "      }\n",
      "    ]\n",
      "  ],\n",
      "  \"llm_output\": null,\n",
      "  \"run\": null\n",
      "}\n",
      "\u001b[36;1m\u001b[1;3m[chain/end]\u001b[0m \u001b[1m[1:chain:RetrievalQA > 3:chain:StuffDocumentsChain > 4:chain:LLMChain] [4.07s] Exiting Chain run with output:\n",
      "\u001b[0m{\n",
      "  \"text\": \"Based on the provided resumes, the following are the IDs of users who have experience with both Tableau and Power BI:\\n\\n1. Sonakshi Jaiswal - user ID: 2122480\\n2. Rohit Batthula - user ID: 2723804\\n\\nBoth Sonakshi and Rohit have experience working with Tableau and Power BI, as mentioned in their resumes.\"\n",
      "}\n",
      "\u001b[36;1m\u001b[1;3m[chain/end]\u001b[0m \u001b[1m[1:chain:RetrievalQA > 3:chain:StuffDocumentsChain] [4.07s] Exiting Chain run with output:\n",
      "\u001b[0m{\n",
      "  \"output_text\": \"Based on the provided resumes, the following are the IDs of users who have experience with both Tableau and Power BI:\\n\\n1. Sonakshi Jaiswal - user ID: 2122480\\n2. Rohit Batthula - user ID: 2723804\\n\\nBoth Sonakshi and Rohit have experience working with Tableau and Power BI, as mentioned in their resumes.\"\n",
      "}\n",
      "\u001b[36;1m\u001b[1;3m[chain/end]\u001b[0m \u001b[1m[1:chain:RetrievalQA] [4.08s] Exiting Chain run with output:\n",
      "\u001b[0m{\n",
      "  \"result\": \"Based on the provided resumes, the following are the IDs of users who have experience with both Tableau and Power BI:\\n\\n1. Sonakshi Jaiswal - user ID: 2122480\\n2. Rohit Batthula - user ID: 2723804\\n\\nBoth Sonakshi and Rohit have experience working with Tableau and Power BI, as mentioned in their resumes.\"\n",
      "}\n"
     ]
    },
    {
     "name": "stderr",
     "output_type": "stream",
     "text": [
      "\n"
     ]
    }
   ],
   "source": [
    "result = qa_chain({\"query\": \"give me ids of users who have experience with BOTH tableau and power BI?\"})\n",
    "# print(result)"
   ]
  },
  {
   "cell_type": "raw",
   "id": "dc54be70-1101-4840-9710-a31e64a8e151",
   "metadata": {},
   "source": [
    "print(result['result'])"
   ]
  },
  {
   "cell_type": "code",
   "execution_count": null,
   "id": "3c1ca65e-2e83-4408-b5c7-ab8d0d4230a5",
   "metadata": {},
   "outputs": [],
   "source": []
  },
  {
   "cell_type": "code",
   "execution_count": null,
   "id": "e5c3ce0e-8431-40e8-8866-fed6b3d7e764",
   "metadata": {},
   "outputs": [],
   "source": []
  },
  {
   "cell_type": "code",
   "execution_count": null,
   "id": "fb3417aa-d191-4c27-a94f-be17a18ae7da",
   "metadata": {},
   "outputs": [],
   "source": []
  },
  {
   "cell_type": "code",
   "execution_count": 76,
   "id": "f1b18f43-65b0-4863-aa5c-9bda6d13fe3e",
   "metadata": {},
   "outputs": [],
   "source": [
    "pattern = re.compile(r'\\d+\\.\\s*([^\\n]+)\\s*-\\s*(\\d+)')\n",
    "\n",
    "# Find all matches in the text\n",
    "matches = pattern.findall(result['result'])\n",
    "\n",
    "# Extract User IDs and print them\n",
    "user_ids = [(name.strip(), id) for name, id in matches]"
   ]
  },
  {
   "cell_type": "code",
   "execution_count": 77,
   "id": "0a578206-846b-404f-804f-fac85a101554",
   "metadata": {},
   "outputs": [
    {
     "data": {
      "text/plain": [
       "[]"
      ]
     },
     "execution_count": 77,
     "metadata": {},
     "output_type": "execute_result"
    }
   ],
   "source": [
    "user_ids"
   ]
  },
  {
   "cell_type": "code",
   "execution_count": 78,
   "id": "003ae808-6092-4f25-9dda-bf976a374e03",
   "metadata": {},
   "outputs": [],
   "source": [
    "uid_list = []\n",
    "for user_id in user_ids:\n",
    "    print(f\"User: {user_id[0]}, ID: {user_id[1]}\")\n",
    "    uid_list.append(user_id[1])"
   ]
  },
  {
   "cell_type": "code",
   "execution_count": 79,
   "id": "9dc0ff9b-5158-4610-8c16-9a6f6053e21b",
   "metadata": {},
   "outputs": [
    {
     "data": {
      "text/plain": [
       "[]"
      ]
     },
     "execution_count": 79,
     "metadata": {},
     "output_type": "execute_result"
    }
   ],
   "source": [
    "uid_list"
   ]
  },
  {
   "cell_type": "code",
   "execution_count": 80,
   "id": "f4ea1c6e-8783-400b-8565-c4a94df959a3",
   "metadata": {},
   "outputs": [],
   "source": [
    "# user_id_pattern = r'User ID: (\\d+)' and r'id: (\\d+)' and r'ID: (\\d+)' and r'ID is : (\\d+)' and r\"His ID is (\\d+)\" and r'ID: (\\d+)' and r'Id: (\\d+)' and r' ID: (\\d+)'and r' id: (\\d+)'and r'ID: (\\d+)' and r' id: (\\d+)'\n",
    "# user_id_match = re.search(r'User ID: (\\d+)', result['result'])\n",
    "# user_id = user_id_match.group(1)\n",
    "\n",
    "user_ids = re.findall(r'User ID: (\\d+)' and r'ID (\\d+)' and r'user id: (\\d+)', result['result'])\n",
    "\n",
    "# user_ids = re.findall(user_id_pattern, result['result'])"
   ]
  },
  {
   "cell_type": "code",
   "execution_count": 81,
   "id": "afce2303-d9ac-4a4b-8382-58e67a3dfe06",
   "metadata": {},
   "outputs": [
    {
     "data": {
      "text/plain": [
       "[]"
      ]
     },
     "execution_count": 81,
     "metadata": {},
     "output_type": "execute_result"
    }
   ],
   "source": [
    "user_ids"
   ]
  },
  {
   "cell_type": "code",
   "execution_count": 47,
   "id": "a396381e-b5cb-4bf2-a34f-93ea1245514a",
   "metadata": {},
   "outputs": [
    {
     "name": "stderr",
     "output_type": "stream",
     "text": [
      "100%|█████████████████████████████████████████████████████████████████████████████████████████████████████████████████████████████████████████| 2/2 [00:00<00:00, 128.22it/s]\n",
      "100%|███████████████████████████████████████████████████████████████████████████████████████████████████████████████████████████████████████| 2/2 [00:00<00:00, 27060.03it/s]\n"
     ]
    }
   ],
   "source": [
    "data = get_user_data_search_embed(user_ids)"
   ]
  },
  {
   "cell_type": "code",
   "execution_count": 48,
   "id": "161149e7-04c6-49e9-ac52-50ec780cb1fb",
   "metadata": {},
   "outputs": [
    {
     "data": {
      "text/html": [
       "<div>\n",
       "<style scoped>\n",
       "    .dataframe tbody tr th:only-of-type {\n",
       "        vertical-align: middle;\n",
       "    }\n",
       "\n",
       "    .dataframe tbody tr th {\n",
       "        vertical-align: top;\n",
       "    }\n",
       "\n",
       "    .dataframe thead th {\n",
       "        text-align: right;\n",
       "    }\n",
       "</style>\n",
       "<table border=\"1\" class=\"dataframe\">\n",
       "  <thead>\n",
       "    <tr style=\"text-align: right;\">\n",
       "      <th></th>\n",
       "      <th>id</th>\n",
       "      <th>resume</th>\n",
       "      <th>keywords</th>\n",
       "      <th>current_designation</th>\n",
       "      <th>user_experience</th>\n",
       "      <th>professional_info</th>\n",
       "      <th>education_info</th>\n",
       "    </tr>\n",
       "  </thead>\n",
       "  <tbody>\n",
       "    <tr>\n",
       "      <th>0</th>\n",
       "      <td>2553080</td>\n",
       "      <td>SRIJEN JHINGTA Email: srijenj@gmail.com Ph.no....</td>\n",
       "      <td>Research Retail Client Brand Analysis Marketin...</td>\n",
       "      <td>Consultant - Business Consulting PI</td>\n",
       "      <td>2</td>\n",
       "      <td>[{'id': 4252712, 'userId': None, 'designation'...</td>\n",
       "      <td>[{'id': 97439491, 'userId': 2553080, 'institut...</td>\n",
       "    </tr>\n",
       "    <tr>\n",
       "      <th>1</th>\n",
       "      <td>2553080</td>\n",
       "      <td>SRIJEN JHINGTA Email: srijenj@gmail.com Ph.no....</td>\n",
       "      <td>Research Retail Client Brand Analysis Marketin...</td>\n",
       "      <td>Consultant - Business Consulting PI</td>\n",
       "      <td>2</td>\n",
       "      <td>[{'id': 4252712, 'userId': None, 'designation'...</td>\n",
       "      <td>[{'id': 97439491, 'userId': 2553080, 'institut...</td>\n",
       "    </tr>\n",
       "  </tbody>\n",
       "</table>\n",
       "</div>"
      ],
      "text/plain": [
       "        id                                             resume  \\\n",
       "0  2553080  SRIJEN JHINGTA Email: srijenj@gmail.com Ph.no....   \n",
       "1  2553080  SRIJEN JHINGTA Email: srijenj@gmail.com Ph.no....   \n",
       "\n",
       "                                            keywords  \\\n",
       "0  Research Retail Client Brand Analysis Marketin...   \n",
       "1  Research Retail Client Brand Analysis Marketin...   \n",
       "\n",
       "                   current_designation user_experience  \\\n",
       "0  Consultant - Business Consulting PI               2   \n",
       "1  Consultant - Business Consulting PI               2   \n",
       "\n",
       "                                   professional_info  \\\n",
       "0  [{'id': 4252712, 'userId': None, 'designation'...   \n",
       "1  [{'id': 4252712, 'userId': None, 'designation'...   \n",
       "\n",
       "                                      education_info  \n",
       "0  [{'id': 97439491, 'userId': 2553080, 'institut...  \n",
       "1  [{'id': 97439491, 'userId': 2553080, 'institut...  "
      ]
     },
     "execution_count": 48,
     "metadata": {},
     "output_type": "execute_result"
    }
   ],
   "source": [
    "data"
   ]
  },
  {
   "cell_type": "code",
   "execution_count": 198,
   "id": "f285c8b0-4a29-4346-a487-42c820d00e72",
   "metadata": {},
   "outputs": [
    {
     "data": {
      "text/html": [
       "<div>\n",
       "<style scoped>\n",
       "    .dataframe tbody tr th:only-of-type {\n",
       "        vertical-align: middle;\n",
       "    }\n",
       "\n",
       "    .dataframe tbody tr th {\n",
       "        vertical-align: top;\n",
       "    }\n",
       "\n",
       "    .dataframe thead th {\n",
       "        text-align: right;\n",
       "    }\n",
       "</style>\n",
       "<table border=\"1\" class=\"dataframe\">\n",
       "  <thead>\n",
       "    <tr style=\"text-align: right;\">\n",
       "      <th></th>\n",
       "      <th>id</th>\n",
       "      <th>current_designation</th>\n",
       "      <th>user_experience</th>\n",
       "      <th>resume</th>\n",
       "    </tr>\n",
       "  </thead>\n",
       "  <tbody>\n",
       "  </tbody>\n",
       "</table>\n",
       "</div>"
      ],
      "text/plain": [
       "Empty DataFrame\n",
       "Columns: [id, current_designation, user_experience, resume]\n",
       "Index: []"
      ]
     },
     "execution_count": 198,
     "metadata": {},
     "output_type": "execute_result"
    }
   ],
   "source": [
    "df1.loc[df1['id']=='2312967']"
   ]
  },
  {
   "cell_type": "code",
   "execution_count": 199,
   "id": "09eea6a9-44c2-45e4-aeb8-1b146215520f",
   "metadata": {},
   "outputs": [
    {
     "data": {
      "text/html": [
       "<div>\n",
       "<style scoped>\n",
       "    .dataframe tbody tr th:only-of-type {\n",
       "        vertical-align: middle;\n",
       "    }\n",
       "\n",
       "    .dataframe tbody tr th {\n",
       "        vertical-align: top;\n",
       "    }\n",
       "\n",
       "    .dataframe thead th {\n",
       "        text-align: right;\n",
       "    }\n",
       "</style>\n",
       "<table border=\"1\" class=\"dataframe\">\n",
       "  <thead>\n",
       "    <tr style=\"text-align: right;\">\n",
       "      <th></th>\n",
       "      <th>id</th>\n",
       "      <th>current_designation</th>\n",
       "      <th>user_experience</th>\n",
       "      <th>resume</th>\n",
       "    </tr>\n",
       "  </thead>\n",
       "  <tbody>\n",
       "  </tbody>\n",
       "</table>\n",
       "</div>"
      ],
      "text/plain": [
       "Empty DataFrame\n",
       "Columns: [id, current_designation, user_experience, resume]\n",
       "Index: []"
      ]
     },
     "execution_count": 199,
     "metadata": {},
     "output_type": "execute_result"
    }
   ],
   "source": [
    "df1.loc[df1['id']=='4567890']"
   ]
  },
  {
   "cell_type": "code",
   "execution_count": 200,
   "id": "fe449664-5c73-40b7-b778-8cbe471fb680",
   "metadata": {},
   "outputs": [],
   "source": [
    "# data['resume'].values"
   ]
  },
  {
   "cell_type": "code",
   "execution_count": 86,
   "id": "9f6db58c-b200-4d9d-a42d-91a243a26e25",
   "metadata": {},
   "outputs": [],
   "source": [
    "# user_id_pattern"
   ]
  },
  {
   "cell_type": "code",
   "execution_count": 88,
   "id": "90309f86-39bc-45b8-a76f-0c38b3094547",
   "metadata": {},
   "outputs": [],
   "source": [
    "# df.shape"
   ]
  },
  {
   "cell_type": "code",
   "execution_count": 89,
   "id": "02f6d7a4-84a4-402e-92bb-88f09d06033d",
   "metadata": {},
   "outputs": [],
   "source": [
    "# df.loc[df['resume'].str.contains('gaming')]['resume'].values"
   ]
  },
  {
   "cell_type": "code",
   "execution_count": null,
   "id": "4b000e53-37b9-4c83-adc5-534cd63e1327",
   "metadata": {},
   "outputs": [],
   "source": [
    "# give me all those user ids atleat 4 who have worked as analyst\n",
    "# give all those user with their id who have worked as business development manager"
   ]
  }
 ],
 "metadata": {
  "kernelspec": {
   "display_name": "Python 3 (ipykernel)",
   "language": "python",
   "name": "python3"
  },
  "language_info": {
   "codemirror_mode": {
    "name": "ipython",
    "version": 3
   },
   "file_extension": ".py",
   "mimetype": "text/x-python",
   "name": "python",
   "nbconvert_exporter": "python",
   "pygments_lexer": "ipython3",
   "version": "3.10.12"
  }
 },
 "nbformat": 4,
 "nbformat_minor": 5
}
