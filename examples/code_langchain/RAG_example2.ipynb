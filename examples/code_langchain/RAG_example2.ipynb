{
 "cells": [
  {
   "cell_type": "code",
   "execution_count": 290,
   "id": "a346f05c-191d-47f7-a6dc-2196c1b7538f",
   "metadata": {},
   "outputs": [],
   "source": [
    "import pandas as pd\n",
    "import numpy as np\n",
    "import configparser\n",
    "import pymysql\n",
    "import requests\n",
    "import re\n",
    "from tqdm import tqdm\n",
    "import configparser\n",
    "import openai\n",
    "import os\n",
    "import json"
   ]
  },
  {
   "cell_type": "code",
   "execution_count": 291,
   "id": "b5008839-9c84-4b8f-b896-bff4c22c103d",
   "metadata": {},
   "outputs": [
    {
     "data": {
      "text/plain": [
       "['/home/ubuntu/infoedge/llama-recipes/examples/configs/config.ini']"
      ]
     },
     "execution_count": 291,
     "metadata": {},
     "output_type": "execute_result"
    }
   ],
   "source": [
    "config=configparser.ConfigParser()\n",
    "config.read('/home/ubuntu/infoedge/llama-recipes/examples/configs/config.ini')"
   ]
  },
  {
   "cell_type": "code",
   "execution_count": 508,
   "id": "6dde4dc5-2250-4731-af44-69074a4c0390",
   "metadata": {},
   "outputs": [],
   "source": [
    "mydb= pymysql.connect(\n",
    "host=config['iimjobs_db']['hostname'],\n",
    "user=config['iimjobs_db']['username'],\n",
    "password=config['iimjobs_db']['password'],\n",
    "db=config['iimjobs_db']['db_name']\n",
    ")\n",
    "\n",
    "mycursor = mydb.cursor()"
   ]
  },
  {
   "cell_type": "code",
   "execution_count": 509,
   "id": "cee48b15-3296-499e-a8e1-e218a3ebf3c9",
   "metadata": {},
   "outputs": [],
   "source": [
    "mycursor = mydb.cursor()\n",
    "\n",
    " \n",
    "query = \"SELECT userid from usr_applied_jobs_info where jobid=1372174\"\n",
    "\n",
    " # 1372184\n",
    "\n",
    "mycursor.execute(query)\n",
    "\n",
    "result = mycursor.fetchall()\n"
   ]
  },
  {
   "cell_type": "code",
   "execution_count": 510,
   "id": "0193ffce-57d6-4826-a81a-3317b665f17c",
   "metadata": {},
   "outputs": [],
   "source": [
    "udf = pd.DataFrame(result,columns=['userid'])"
   ]
  },
  {
   "cell_type": "code",
   "execution_count": 511,
   "id": "2e44e2da-3fa2-4261-996d-15093d16c21d",
   "metadata": {},
   "outputs": [],
   "source": [
    "uid_list = udf.userid.values"
   ]
  },
  {
   "cell_type": "code",
   "execution_count": 512,
   "id": "5ed54f5d-bed2-47ef-9393-f151a6a776d1",
   "metadata": {},
   "outputs": [
    {
     "data": {
      "text/plain": [
       "array([1478439, 1044553, 1354853, 1198562,  179817, 2728451, 1360902,\n",
       "        412973])"
      ]
     },
     "execution_count": 512,
     "metadata": {},
     "output_type": "execute_result"
    }
   ],
   "source": [
    "uid_list"
   ]
  },
  {
   "cell_type": "code",
   "execution_count": 513,
   "id": "dbe02b04-8499-46cb-ac61-e499683d4baa",
   "metadata": {},
   "outputs": [],
   "source": [
    "from user_info import *"
   ]
  },
  {
   "cell_type": "code",
   "execution_count": 514,
   "id": "9d6809fe-6891-441b-8bc5-970bbfcb4b55",
   "metadata": {},
   "outputs": [
    {
     "name": "stderr",
     "output_type": "stream",
     "text": [
      "100%|█████████████████████████████████████████████████████████████████████████████████████████████████████████████████████████████████████████| 8/8 [00:00<00:00, 134.40it/s]\n",
      "100%|███████████████████████████████████████████████████████████████████████████████████████████████████████████████████████████████████████| 8/8 [00:00<00:00, 59283.45it/s]\n"
     ]
    }
   ],
   "source": [
    "df = get_user_data_search_embed(uid_list)"
   ]
  },
  {
   "cell_type": "code",
   "execution_count": 515,
   "id": "b0a5f2c4-838e-4ae0-bc36-da6317a9d94f",
   "metadata": {},
   "outputs": [
    {
     "data": {
      "text/html": [
       "<div>\n",
       "<style scoped>\n",
       "    .dataframe tbody tr th:only-of-type {\n",
       "        vertical-align: middle;\n",
       "    }\n",
       "\n",
       "    .dataframe tbody tr th {\n",
       "        vertical-align: top;\n",
       "    }\n",
       "\n",
       "    .dataframe thead th {\n",
       "        text-align: right;\n",
       "    }\n",
       "</style>\n",
       "<table border=\"1\" class=\"dataframe\">\n",
       "  <thead>\n",
       "    <tr style=\"text-align: right;\">\n",
       "      <th></th>\n",
       "      <th>id</th>\n",
       "      <th>resume</th>\n",
       "      <th>keywords</th>\n",
       "      <th>current_designation</th>\n",
       "      <th>user_experience</th>\n",
       "      <th>professional_info</th>\n",
       "      <th>education_info</th>\n",
       "    </tr>\n",
       "  </thead>\n",
       "  <tbody>\n",
       "    <tr>\n",
       "      <th>0</th>\n",
       "      <td>1478439</td>\n",
       "      <td>123\\nDheerajj Bhagat\\nE-COMMERCE B2B Sales ,Se...</td>\n",
       "      <td>Sales Marketing Client Operations Strategy Onb...</td>\n",
       "      <td>Deputy Manager</td>\n",
       "      <td>9</td>\n",
       "      <td>[{'id': 3235988, 'userId': None, 'designation'...</td>\n",
       "      <td>[{'id': 1695815, 'userId': 1478439, 'institute...</td>\n",
       "    </tr>\n",
       "    <tr>\n",
       "      <th>1</th>\n",
       "      <td>1044553</td>\n",
       "      <td>Bhav Mishra\\nTel : 9168383838\\nE-Mail- bhavmis...</td>\n",
       "      <td>Digital Sales Strategic Sourcing Business_Deve...</td>\n",
       "      <td>Regional Business Manager- South</td>\n",
       "      <td>5</td>\n",
       "      <td>[{'id': 3756502, 'userId': None, 'designation'...</td>\n",
       "      <td>[{'id': 1161783, 'userId': 1044553, 'institute...</td>\n",
       "    </tr>\n",
       "    <tr>\n",
       "      <th>2</th>\n",
       "      <td>1354853</td>\n",
       "      <td>2014 Bachelor in Commerce\\n(B.Com Graduate)\\nG...</td>\n",
       "      <td>Sales Planning Negotiating Monitoring Analytic...</td>\n",
       "      <td>Central GTM - Lifestyle, Elec and GM (Planning...</td>\n",
       "      <td>11</td>\n",
       "      <td>[{'id': 1951210, 'userId': None, 'designation'...</td>\n",
       "      <td>[{'id': 1550603, 'userId': 1354853, 'institute...</td>\n",
       "    </tr>\n",
       "    <tr>\n",
       "      <th>3</th>\n",
       "      <td>1198562</td>\n",
       "      <td>GAYATRI NAIDU PASUPULETI\\nA Program Manager wi...</td>\n",
       "      <td>Brand Marketing Sales Retail CRM Research Supp...</td>\n",
       "      <td>Program Manager - Offline Business</td>\n",
       "      <td>5</td>\n",
       "      <td>[{'id': 3878018, 'userId': None, 'designation'...</td>\n",
       "      <td>[{'id': 1958146, 'userId': 1198562, 'institute...</td>\n",
       "    </tr>\n",
       "    <tr>\n",
       "      <th>4</th>\n",
       "      <td>179817</td>\n",
       "      <td>Aashish Dhiman Male, Indian, 35 years, (Englis...</td>\n",
       "      <td>Strategy Analysis CEO Research FMCG Selling En...</td>\n",
       "      <td>Manager</td>\n",
       "      <td>8</td>\n",
       "      <td>[{'id': 260633, 'userId': None, 'designation':...</td>\n",
       "      <td>[{'id': 9350, 'userId': 179817, 'institute': {...</td>\n",
       "    </tr>\n",
       "    <tr>\n",
       "      <th>5</th>\n",
       "      <td>2728451</td>\n",
       "      <td>CA VIBHU AGGARWAL\\nFINANCE &amp;amp; ACCOUNTS\\nRes...</td>\n",
       "      <td>TAX Finance Financial Accounting Planning GAAP...</td>\n",
       "      <td>Assistant Manager</td>\n",
       "      <td>7</td>\n",
       "      <td>[{'id': 4121946, 'userId': None, 'designation'...</td>\n",
       "      <td>[{'id': 97634907, 'userId': 2728451, 'institut...</td>\n",
       "    </tr>\n",
       "    <tr>\n",
       "      <th>6</th>\n",
       "      <td>1360902</td>\n",
       "      <td>EXTRA-CURRICULARS\\n- Tata Crucible 2019 Region...</td>\n",
       "      <td>Strategy Sales Marketing MIS Corporate_Strateg...</td>\n",
       "      <td>Head of Strategy, Sales and Marketing - Launch...</td>\n",
       "      <td>5</td>\n",
       "      <td>[{'id': 1931405, 'userId': None, 'designation'...</td>\n",
       "      <td>[{'id': 1535411, 'userId': 1360902, 'institute...</td>\n",
       "    </tr>\n",
       "    <tr>\n",
       "      <th>7</th>\n",
       "      <td>412973</td>\n",
       "      <td>EDUCATIONAL QUALIFICATIONS\\nPGDM Indian Instit...</td>\n",
       "      <td>Marketing Strategy Sales HNI Research Analysis...</td>\n",
       "      <td>Account Manager</td>\n",
       "      <td>7</td>\n",
       "      <td>[{'id': 3636943, 'userId': None, 'designation'...</td>\n",
       "      <td>[{'id': 272580, 'userId': 412973, 'institute':...</td>\n",
       "    </tr>\n",
       "  </tbody>\n",
       "</table>\n",
       "</div>"
      ],
      "text/plain": [
       "        id                                             resume  \\\n",
       "0  1478439  123\\nDheerajj Bhagat\\nE-COMMERCE B2B Sales ,Se...   \n",
       "1  1044553  Bhav Mishra\\nTel : 9168383838\\nE-Mail- bhavmis...   \n",
       "2  1354853  2014 Bachelor in Commerce\\n(B.Com Graduate)\\nG...   \n",
       "3  1198562  GAYATRI NAIDU PASUPULETI\\nA Program Manager wi...   \n",
       "4   179817  Aashish Dhiman Male, Indian, 35 years, (Englis...   \n",
       "5  2728451  CA VIBHU AGGARWAL\\nFINANCE &amp; ACCOUNTS\\nRes...   \n",
       "6  1360902  EXTRA-CURRICULARS\\n- Tata Crucible 2019 Region...   \n",
       "7   412973  EDUCATIONAL QUALIFICATIONS\\nPGDM Indian Instit...   \n",
       "\n",
       "                                            keywords  \\\n",
       "0  Sales Marketing Client Operations Strategy Onb...   \n",
       "1  Digital Sales Strategic Sourcing Business_Deve...   \n",
       "2  Sales Planning Negotiating Monitoring Analytic...   \n",
       "3  Brand Marketing Sales Retail CRM Research Supp...   \n",
       "4  Strategy Analysis CEO Research FMCG Selling En...   \n",
       "5  TAX Finance Financial Accounting Planning GAAP...   \n",
       "6  Strategy Sales Marketing MIS Corporate_Strateg...   \n",
       "7  Marketing Strategy Sales HNI Research Analysis...   \n",
       "\n",
       "                                 current_designation user_experience  \\\n",
       "0                                     Deputy Manager               9   \n",
       "1                   Regional Business Manager- South               5   \n",
       "2  Central GTM - Lifestyle, Elec and GM (Planning...              11   \n",
       "3                 Program Manager - Offline Business               5   \n",
       "4                                            Manager               8   \n",
       "5                                  Assistant Manager               7   \n",
       "6  Head of Strategy, Sales and Marketing - Launch...               5   \n",
       "7                                   Account Manager                7   \n",
       "\n",
       "                                   professional_info  \\\n",
       "0  [{'id': 3235988, 'userId': None, 'designation'...   \n",
       "1  [{'id': 3756502, 'userId': None, 'designation'...   \n",
       "2  [{'id': 1951210, 'userId': None, 'designation'...   \n",
       "3  [{'id': 3878018, 'userId': None, 'designation'...   \n",
       "4  [{'id': 260633, 'userId': None, 'designation':...   \n",
       "5  [{'id': 4121946, 'userId': None, 'designation'...   \n",
       "6  [{'id': 1931405, 'userId': None, 'designation'...   \n",
       "7  [{'id': 3636943, 'userId': None, 'designation'...   \n",
       "\n",
       "                                      education_info  \n",
       "0  [{'id': 1695815, 'userId': 1478439, 'institute...  \n",
       "1  [{'id': 1161783, 'userId': 1044553, 'institute...  \n",
       "2  [{'id': 1550603, 'userId': 1354853, 'institute...  \n",
       "3  [{'id': 1958146, 'userId': 1198562, 'institute...  \n",
       "4  [{'id': 9350, 'userId': 179817, 'institute': {...  \n",
       "5  [{'id': 97634907, 'userId': 2728451, 'institut...  \n",
       "6  [{'id': 1535411, 'userId': 1360902, 'institute...  \n",
       "7  [{'id': 272580, 'userId': 412973, 'institute':...  "
      ]
     },
     "execution_count": 515,
     "metadata": {},
     "output_type": "execute_result"
    }
   ],
   "source": [
    "df"
   ]
  },
  {
   "cell_type": "code",
   "execution_count": 516,
   "id": "f20eaf48-3497-491a-9395-d00157d662af",
   "metadata": {},
   "outputs": [],
   "source": [
    "# df[['id','resume']].sample(10).values"
   ]
  },
  {
   "cell_type": "code",
   "execution_count": 517,
   "id": "dc3b25f4-5190-4993-9caa-1a474306b855",
   "metadata": {},
   "outputs": [
    {
     "data": {
      "text/html": [
       "<div>\n",
       "<style scoped>\n",
       "    .dataframe tbody tr th:only-of-type {\n",
       "        vertical-align: middle;\n",
       "    }\n",
       "\n",
       "    .dataframe tbody tr th {\n",
       "        vertical-align: top;\n",
       "    }\n",
       "\n",
       "    .dataframe thead th {\n",
       "        text-align: right;\n",
       "    }\n",
       "</style>\n",
       "<table border=\"1\" class=\"dataframe\">\n",
       "  <thead>\n",
       "    <tr style=\"text-align: right;\">\n",
       "      <th></th>\n",
       "      <th>id</th>\n",
       "      <th>resume</th>\n",
       "      <th>keywords</th>\n",
       "      <th>current_designation</th>\n",
       "      <th>user_experience</th>\n",
       "      <th>professional_info</th>\n",
       "      <th>education_info</th>\n",
       "    </tr>\n",
       "  </thead>\n",
       "  <tbody>\n",
       "    <tr>\n",
       "      <th>0</th>\n",
       "      <td>1478439</td>\n",
       "      <td>123\\nDheerajj Bhagat\\nE-COMMERCE B2B Sales ,Se...</td>\n",
       "      <td>Sales Marketing Client Operations Strategy Onb...</td>\n",
       "      <td>Deputy Manager</td>\n",
       "      <td>9</td>\n",
       "      <td>[{'id': 3235988, 'userId': None, 'designation'...</td>\n",
       "      <td>[{'id': 1695815, 'userId': 1478439, 'institute...</td>\n",
       "    </tr>\n",
       "    <tr>\n",
       "      <th>1</th>\n",
       "      <td>1044553</td>\n",
       "      <td>Bhav Mishra\\nTel : 9168383838\\nE-Mail- bhavmis...</td>\n",
       "      <td>Digital Sales Strategic Sourcing Business_Deve...</td>\n",
       "      <td>Regional Business Manager- South</td>\n",
       "      <td>5</td>\n",
       "      <td>[{'id': 3756502, 'userId': None, 'designation'...</td>\n",
       "      <td>[{'id': 1161783, 'userId': 1044553, 'institute...</td>\n",
       "    </tr>\n",
       "    <tr>\n",
       "      <th>2</th>\n",
       "      <td>1354853</td>\n",
       "      <td>2014 Bachelor in Commerce\\n(B.Com Graduate)\\nG...</td>\n",
       "      <td>Sales Planning Negotiating Monitoring Analytic...</td>\n",
       "      <td>Central GTM - Lifestyle, Elec and GM (Planning...</td>\n",
       "      <td>11</td>\n",
       "      <td>[{'id': 1951210, 'userId': None, 'designation'...</td>\n",
       "      <td>[{'id': 1550603, 'userId': 1354853, 'institute...</td>\n",
       "    </tr>\n",
       "    <tr>\n",
       "      <th>3</th>\n",
       "      <td>1198562</td>\n",
       "      <td>GAYATRI NAIDU PASUPULETI\\nA Program Manager wi...</td>\n",
       "      <td>Brand Marketing Sales Retail CRM Research Supp...</td>\n",
       "      <td>Program Manager - Offline Business</td>\n",
       "      <td>5</td>\n",
       "      <td>[{'id': 3878018, 'userId': None, 'designation'...</td>\n",
       "      <td>[{'id': 1958146, 'userId': 1198562, 'institute...</td>\n",
       "    </tr>\n",
       "    <tr>\n",
       "      <th>4</th>\n",
       "      <td>179817</td>\n",
       "      <td>Aashish Dhiman Male, Indian, 35 years, (Englis...</td>\n",
       "      <td>Strategy Analysis CEO Research FMCG Selling En...</td>\n",
       "      <td>Manager</td>\n",
       "      <td>8</td>\n",
       "      <td>[{'id': 260633, 'userId': None, 'designation':...</td>\n",
       "      <td>[{'id': 9350, 'userId': 179817, 'institute': {...</td>\n",
       "    </tr>\n",
       "    <tr>\n",
       "      <th>5</th>\n",
       "      <td>2728451</td>\n",
       "      <td>CA VIBHU AGGARWAL\\nFINANCE &amp;amp; ACCOUNTS\\nRes...</td>\n",
       "      <td>TAX Finance Financial Accounting Planning GAAP...</td>\n",
       "      <td>Assistant Manager</td>\n",
       "      <td>7</td>\n",
       "      <td>[{'id': 4121946, 'userId': None, 'designation'...</td>\n",
       "      <td>[{'id': 97634907, 'userId': 2728451, 'institut...</td>\n",
       "    </tr>\n",
       "    <tr>\n",
       "      <th>6</th>\n",
       "      <td>1360902</td>\n",
       "      <td>EXTRA-CURRICULARS\\n- Tata Crucible 2019 Region...</td>\n",
       "      <td>Strategy Sales Marketing MIS Corporate_Strateg...</td>\n",
       "      <td>Head of Strategy, Sales and Marketing - Launch...</td>\n",
       "      <td>5</td>\n",
       "      <td>[{'id': 1931405, 'userId': None, 'designation'...</td>\n",
       "      <td>[{'id': 1535411, 'userId': 1360902, 'institute...</td>\n",
       "    </tr>\n",
       "    <tr>\n",
       "      <th>7</th>\n",
       "      <td>412973</td>\n",
       "      <td>EDUCATIONAL QUALIFICATIONS\\nPGDM Indian Instit...</td>\n",
       "      <td>Marketing Strategy Sales HNI Research Analysis...</td>\n",
       "      <td>Account Manager</td>\n",
       "      <td>7</td>\n",
       "      <td>[{'id': 3636943, 'userId': None, 'designation'...</td>\n",
       "      <td>[{'id': 272580, 'userId': 412973, 'institute':...</td>\n",
       "    </tr>\n",
       "  </tbody>\n",
       "</table>\n",
       "</div>"
      ],
      "text/plain": [
       "        id                                             resume  \\\n",
       "0  1478439  123\\nDheerajj Bhagat\\nE-COMMERCE B2B Sales ,Se...   \n",
       "1  1044553  Bhav Mishra\\nTel : 9168383838\\nE-Mail- bhavmis...   \n",
       "2  1354853  2014 Bachelor in Commerce\\n(B.Com Graduate)\\nG...   \n",
       "3  1198562  GAYATRI NAIDU PASUPULETI\\nA Program Manager wi...   \n",
       "4   179817  Aashish Dhiman Male, Indian, 35 years, (Englis...   \n",
       "5  2728451  CA VIBHU AGGARWAL\\nFINANCE &amp; ACCOUNTS\\nRes...   \n",
       "6  1360902  EXTRA-CURRICULARS\\n- Tata Crucible 2019 Region...   \n",
       "7   412973  EDUCATIONAL QUALIFICATIONS\\nPGDM Indian Instit...   \n",
       "\n",
       "                                            keywords  \\\n",
       "0  Sales Marketing Client Operations Strategy Onb...   \n",
       "1  Digital Sales Strategic Sourcing Business_Deve...   \n",
       "2  Sales Planning Negotiating Monitoring Analytic...   \n",
       "3  Brand Marketing Sales Retail CRM Research Supp...   \n",
       "4  Strategy Analysis CEO Research FMCG Selling En...   \n",
       "5  TAX Finance Financial Accounting Planning GAAP...   \n",
       "6  Strategy Sales Marketing MIS Corporate_Strateg...   \n",
       "7  Marketing Strategy Sales HNI Research Analysis...   \n",
       "\n",
       "                                 current_designation user_experience  \\\n",
       "0                                     Deputy Manager               9   \n",
       "1                   Regional Business Manager- South               5   \n",
       "2  Central GTM - Lifestyle, Elec and GM (Planning...              11   \n",
       "3                 Program Manager - Offline Business               5   \n",
       "4                                            Manager               8   \n",
       "5                                  Assistant Manager               7   \n",
       "6  Head of Strategy, Sales and Marketing - Launch...               5   \n",
       "7                                   Account Manager                7   \n",
       "\n",
       "                                   professional_info  \\\n",
       "0  [{'id': 3235988, 'userId': None, 'designation'...   \n",
       "1  [{'id': 3756502, 'userId': None, 'designation'...   \n",
       "2  [{'id': 1951210, 'userId': None, 'designation'...   \n",
       "3  [{'id': 3878018, 'userId': None, 'designation'...   \n",
       "4  [{'id': 260633, 'userId': None, 'designation':...   \n",
       "5  [{'id': 4121946, 'userId': None, 'designation'...   \n",
       "6  [{'id': 1931405, 'userId': None, 'designation'...   \n",
       "7  [{'id': 3636943, 'userId': None, 'designation'...   \n",
       "\n",
       "                                      education_info  \n",
       "0  [{'id': 1695815, 'userId': 1478439, 'institute...  \n",
       "1  [{'id': 1161783, 'userId': 1044553, 'institute...  \n",
       "2  [{'id': 1550603, 'userId': 1354853, 'institute...  \n",
       "3  [{'id': 1958146, 'userId': 1198562, 'institute...  \n",
       "4  [{'id': 9350, 'userId': 179817, 'institute': {...  \n",
       "5  [{'id': 97634907, 'userId': 2728451, 'institut...  \n",
       "6  [{'id': 1535411, 'userId': 1360902, 'institute...  \n",
       "7  [{'id': 272580, 'userId': 412973, 'institute':...  "
      ]
     },
     "execution_count": 517,
     "metadata": {},
     "output_type": "execute_result"
    }
   ],
   "source": [
    "df"
   ]
  },
  {
   "cell_type": "code",
   "execution_count": 518,
   "id": "499c3af1-652e-441a-a4e3-3d5a2db46eb2",
   "metadata": {},
   "outputs": [],
   "source": [
    "# df['id']=df['id'].astype(int)"
   ]
  },
  {
   "cell_type": "code",
   "execution_count": 519,
   "id": "f0e7424c-7b71-4afa-bc01-8d00b1755c49",
   "metadata": {},
   "outputs": [],
   "source": [
    "df1= df[['id','resume']]"
   ]
  },
  {
   "cell_type": "code",
   "execution_count": 520,
   "id": "5295c3ba-ff7c-4b14-8a78-a974790c3f8b",
   "metadata": {},
   "outputs": [
    {
     "data": {
      "text/html": [
       "<div>\n",
       "<style scoped>\n",
       "    .dataframe tbody tr th:only-of-type {\n",
       "        vertical-align: middle;\n",
       "    }\n",
       "\n",
       "    .dataframe tbody tr th {\n",
       "        vertical-align: top;\n",
       "    }\n",
       "\n",
       "    .dataframe thead th {\n",
       "        text-align: right;\n",
       "    }\n",
       "</style>\n",
       "<table border=\"1\" class=\"dataframe\">\n",
       "  <thead>\n",
       "    <tr style=\"text-align: right;\">\n",
       "      <th></th>\n",
       "      <th>id</th>\n",
       "      <th>resume</th>\n",
       "    </tr>\n",
       "  </thead>\n",
       "  <tbody>\n",
       "    <tr>\n",
       "      <th>0</th>\n",
       "      <td>1478439</td>\n",
       "      <td>123\\nDheerajj Bhagat\\nE-COMMERCE B2B Sales ,Se...</td>\n",
       "    </tr>\n",
       "    <tr>\n",
       "      <th>1</th>\n",
       "      <td>1044553</td>\n",
       "      <td>Bhav Mishra\\nTel : 9168383838\\nE-Mail- bhavmis...</td>\n",
       "    </tr>\n",
       "    <tr>\n",
       "      <th>2</th>\n",
       "      <td>1354853</td>\n",
       "      <td>2014 Bachelor in Commerce\\n(B.Com Graduate)\\nG...</td>\n",
       "    </tr>\n",
       "    <tr>\n",
       "      <th>3</th>\n",
       "      <td>1198562</td>\n",
       "      <td>GAYATRI NAIDU PASUPULETI\\nA Program Manager wi...</td>\n",
       "    </tr>\n",
       "    <tr>\n",
       "      <th>4</th>\n",
       "      <td>179817</td>\n",
       "      <td>Aashish Dhiman Male, Indian, 35 years, (Englis...</td>\n",
       "    </tr>\n",
       "    <tr>\n",
       "      <th>5</th>\n",
       "      <td>2728451</td>\n",
       "      <td>CA VIBHU AGGARWAL\\nFINANCE &amp;amp; ACCOUNTS\\nRes...</td>\n",
       "    </tr>\n",
       "    <tr>\n",
       "      <th>6</th>\n",
       "      <td>1360902</td>\n",
       "      <td>EXTRA-CURRICULARS\\n- Tata Crucible 2019 Region...</td>\n",
       "    </tr>\n",
       "    <tr>\n",
       "      <th>7</th>\n",
       "      <td>412973</td>\n",
       "      <td>EDUCATIONAL QUALIFICATIONS\\nPGDM Indian Instit...</td>\n",
       "    </tr>\n",
       "  </tbody>\n",
       "</table>\n",
       "</div>"
      ],
      "text/plain": [
       "        id                                             resume\n",
       "0  1478439  123\\nDheerajj Bhagat\\nE-COMMERCE B2B Sales ,Se...\n",
       "1  1044553  Bhav Mishra\\nTel : 9168383838\\nE-Mail- bhavmis...\n",
       "2  1354853  2014 Bachelor in Commerce\\n(B.Com Graduate)\\nG...\n",
       "3  1198562  GAYATRI NAIDU PASUPULETI\\nA Program Manager wi...\n",
       "4   179817  Aashish Dhiman Male, Indian, 35 years, (Englis...\n",
       "5  2728451  CA VIBHU AGGARWAL\\nFINANCE &amp; ACCOUNTS\\nRes...\n",
       "6  1360902  EXTRA-CURRICULARS\\n- Tata Crucible 2019 Region...\n",
       "7   412973  EDUCATIONAL QUALIFICATIONS\\nPGDM Indian Instit..."
      ]
     },
     "execution_count": 520,
     "metadata": {},
     "output_type": "execute_result"
    }
   ],
   "source": [
    "df1"
   ]
  },
  {
   "cell_type": "code",
   "execution_count": 521,
   "id": "c7f7f4b5-811c-40ec-950d-7ec286a75a03",
   "metadata": {},
   "outputs": [],
   "source": [
    "# df1 = df1.sample()"
   ]
  },
  {
   "cell_type": "code",
   "execution_count": 522,
   "id": "9ec5d5ba-8e72-42d5-acd6-ff54cdcf2c71",
   "metadata": {},
   "outputs": [],
   "source": [
    "documents = []\n",
    "for x in df1:\n",
    "    y = 'id: '+df1['id'].values+' '+df1['resume'].values\n",
    "    documents.append(y)"
   ]
  },
  {
   "cell_type": "code",
   "execution_count": 523,
   "id": "12667578-46cb-4602-9035-b78bf6ed76b2",
   "metadata": {},
   "outputs": [
    {
     "data": {
      "text/plain": [
       "8"
      ]
     },
     "execution_count": 523,
     "metadata": {},
     "output_type": "execute_result"
    }
   ],
   "source": [
    "len(documents[0])"
   ]
  },
  {
   "cell_type": "code",
   "execution_count": 524,
   "id": "73827f63-ce0c-4206-85ce-0dcd36b4b1a1",
   "metadata": {},
   "outputs": [],
   "source": [
    "# documents[0]"
   ]
  },
  {
   "cell_type": "code",
   "execution_count": 525,
   "id": "157ab5c5-2f4a-4732-8aad-21b7de054a78",
   "metadata": {},
   "outputs": [],
   "source": [
    "from langchain.embeddings import HuggingFaceEmbeddings\n",
    "from langchain.text_splitter import RecursiveCharacterTextSplitter \n",
    "from langchain.vectorstores import FAISS\n"
   ]
  },
  {
   "cell_type": "code",
   "execution_count": 526,
   "id": "bffe5a29-2310-48e7-a5ec-b7fa1b1b1a97",
   "metadata": {},
   "outputs": [],
   "source": [
    "# documents = df1.values"
   ]
  },
  {
   "cell_type": "code",
   "execution_count": 527,
   "id": "63415b81-cb18-4345-b59a-9d2719cf78fc",
   "metadata": {},
   "outputs": [],
   "source": [
    "# documents[90]"
   ]
  },
  {
   "cell_type": "code",
   "execution_count": 528,
   "id": "2008510d-3a95-4b2c-a2c9-8cbd6a4d590b",
   "metadata": {},
   "outputs": [],
   "source": [
    "# documents[:, 0] = [{'id':int(value)} for value in documents[:, 0]]\n"
   ]
  },
  {
   "cell_type": "code",
   "execution_count": 529,
   "id": "3b42cdb6-3bb8-438b-9c41-eb840ff8c415",
   "metadata": {},
   "outputs": [],
   "source": [
    "# documents[0][90]"
   ]
  },
  {
   "cell_type": "code",
   "execution_count": 530,
   "id": "2b7bcf1b-2f1f-47da-8a68-00e544afb058",
   "metadata": {},
   "outputs": [],
   "source": [
    "# len(documents)"
   ]
  },
  {
   "cell_type": "code",
   "execution_count": 531,
   "id": "b16ade38-0ade-4303-81ee-b6e1bb171bfb",
   "metadata": {},
   "outputs": [
    {
     "name": "stdout",
     "output_type": "stream",
     "text": [
      "105 [\"id: 1478439 123\\nDheerajj Bhagat\\nE-COMMERCE B2B Sales ,Seller Onboarding ,Operations , Process , Vendor &amp;\\nKey Account Management , fulfilment And E-commerce Logistics\\nOperations, Management.\\nAn enthusiastic &amp; high energy-driven professional, aiming to utilize the professional\\nexperience, knowledge and skills to create a growth path for own self and the\\norganization\\nLocation Preference: PAN India\\ndheerajjbhagat@gmail.com +91 98273-63662 , 79993-32017\\nProfile Summary\\nHighly\n"
     ]
    }
   ],
   "source": [
    "text_splitter = RecursiveCharacterTextSplitter(chunk_size=500,chunk_overlap=1)\n",
    "splits = text_splitter.split_text(str(documents[0]))\n",
    "print(len(splits), splits[0])"
   ]
  },
  {
   "cell_type": "code",
   "execution_count": 532,
   "id": "3126ee29-1b98-4cb6-9cc8-2b2fe460b54a",
   "metadata": {},
   "outputs": [
    {
     "data": {
      "text/plain": [
       "105"
      ]
     },
     "execution_count": 532,
     "metadata": {},
     "output_type": "execute_result"
    }
   ],
   "source": [
    "len(splits)"
   ]
  },
  {
   "cell_type": "code",
   "execution_count": 533,
   "id": "04b9d449-7296-4c82-80e4-bf1635683cec",
   "metadata": {},
   "outputs": [],
   "source": [
    "embeddings = HuggingFaceEmbeddings(model_name='sentence-transformers/all-MiniLM-L6-v2',\n",
    "                                       model_kwargs={'device': 'cuda'})"
   ]
  },
  {
   "cell_type": "code",
   "execution_count": 534,
   "id": "6165daaf-ddd4-47cd-8af7-9311e74fbd5b",
   "metadata": {},
   "outputs": [],
   "source": [
    "db = FAISS.from_texts(documents[0], embeddings)\n"
   ]
  },
  {
   "cell_type": "code",
   "execution_count": null,
   "id": "e4515a83-7dc9-48cd-9e71-52ef0af247fc",
   "metadata": {},
   "outputs": [],
   "source": []
  },
  {
   "cell_type": "code",
   "execution_count": 535,
   "id": "785f1d73-b4fa-4a13-a872-b4a54d207f40",
   "metadata": {},
   "outputs": [],
   "source": [
    "import langchain\n",
    "from queue import Queue\n",
    "from typing import Any\n",
    "from langchain.llms.huggingface_text_gen_inference import HuggingFaceTextGenInference\n",
    "from langchain.callbacks.streaming_stdout import StreamingStdOutCallbackHandler\n",
    "from langchain.schema import LLMResult\n",
    "from langchain.embeddings import HuggingFaceEmbeddings\n",
    "from langchain.vectorstores import FAISS\n",
    "from langchain.chains import RetrievalQA\n",
    "from langchain.prompts.prompt import PromptTemplate\n",
    "from anyio.from_thread import start_blocking_portal #For model callback streaming\n",
    "import re\n",
    "import gradio as gr\n",
    "langchain.debug=True "
   ]
  },
  {
   "cell_type": "code",
   "execution_count": 536,
   "id": "c6d58faa-8fd8-429f-85e8-e1623d8c45ca",
   "metadata": {},
   "outputs": [],
   "source": [
    "model = 'meta-llama/Llama-2-7b-chat-hf'"
   ]
  },
  {
   "cell_type": "code",
   "execution_count": 81,
   "id": "464ebb99-94a0-4b30-892d-351004a3d1ce",
   "metadata": {},
   "outputs": [
    {
     "name": "stdout",
     "output_type": "stream",
     "text": [
      "INFO 02-07 15:53:07 llm_engine.py:73] Initializing an LLM engine with config: model='meta-llama/Llama-2-7b-chat-hf', tokenizer='meta-llama/Llama-2-7b-chat-hf', tokenizer_mode=auto, revision=None, tokenizer_revision=None, trust_remote_code=True, dtype=torch.float16, max_seq_len=4096, download_dir=None, load_format=auto, tensor_parallel_size=1, quantization=None, enforce_eager=False, seed=0)\n",
      "INFO 02-07 15:54:10 llm_engine.py:223] # GPU blocks: 795, # CPU blocks: 512\n",
      "INFO 02-07 15:54:13 model_runner.py:394] Capturing the model for CUDA graphs. This may lead to unexpected consequences if the model is not static. To run the model in eager mode, set 'enforce_eager=True' or use '--enforce-eager' in the CLI.\n",
      "INFO 02-07 15:54:24 model_runner.py:437] Graph capturing finished in 11 secs.\n"
     ]
    }
   ],
   "source": [
    "from langchain.llms import VLLM\n",
    "\n",
    "llm = VLLM(model=model,\n",
    "           trust_remote_code=True,  # mandatory for hf models\n",
    "           max_new_tokens=128,\n",
    "           top_k=10,\n",
    "           top_p=0.95,\n",
    "           temperature=0.6,\n",
    "           # tensor_parallel_size=... # for distributed inference\n",
    ")"
   ]
  },
  {
   "cell_type": "code",
   "execution_count": 575,
   "id": "f413e1cd-4a9c-4f4f-9a82-3e49c20ae83a",
   "metadata": {},
   "outputs": [],
   "source": [
    "template = \"\"\"\n",
    "[INST]Use the following pieces of context to answer the question. If no context provided, answer like a AI assistant.\n",
    "{context}\n",
    "Question: {question} [/INST]\n",
    "\"\"\"\n",
    "\n",
    "retriever = db.as_retriever(\n",
    "        search_kwargs={\"k\": 1}\n",
    "    )"
   ]
  },
  {
   "cell_type": "code",
   "execution_count": 576,
   "id": "8974c39c-f6a6-4462-b24a-eb70c6bb11a6",
   "metadata": {},
   "outputs": [],
   "source": [
    "qa_chain = RetrievalQA.from_chain_type(\n",
    "    llm=llm, \n",
    "    retriever=retriever,     \n",
    "    chain_type_kwargs={\n",
    "        \"prompt\": PromptTemplate(\n",
    "            template=template,\n",
    "            input_variables=[\"context\", \"question\"],\n",
    "        ),\n",
    "    }\n",
    ")"
   ]
  },
  {
   "cell_type": "code",
   "execution_count": 577,
   "id": "228b7890-8337-4aff-946a-9982a6ddf2c6",
   "metadata": {},
   "outputs": [
    {
     "name": "stdout",
     "output_type": "stream",
     "text": [
      "\u001b[32;1m\u001b[1;3m[chain/start]\u001b[0m \u001b[1m[1:chain:RetrievalQA] Entering Chain run with input:\n",
      "\u001b[0m{\n",
      "  \"query\": \"give me all those ids who have worked as manager\"\n",
      "}\n",
      "\u001b[32;1m\u001b[1;3m[chain/start]\u001b[0m \u001b[1m[1:chain:RetrievalQA > 3:chain:StuffDocumentsChain] Entering Chain run with input:\n",
      "\u001b[0m[inputs]\n",
      "\u001b[32;1m\u001b[1;3m[chain/start]\u001b[0m \u001b[1m[1:chain:RetrievalQA > 3:chain:StuffDocumentsChain > 4:chain:LLMChain] Entering Chain run with input:\n",
      "\u001b[0m{\n",
      "  \"question\": \"give me all those ids who have worked as manager\",\n",
      "  \"context\": \"id: 1360902 EXTRA-CURRICULARS\\n- Tata Crucible 2019 Regional Finalist\\n- Inducted Rotaract Club of PESU\\n- Director of Public Relations - RCP\\n- Organized Two Tech Workshops\\n- Volunteer with Three college clubs\\n- District Table-Tennis Silver Medalist\\nPROFESSIONAL SKILLS\\nProgram and Process Management\\nP&amp;L Management\\nBusiness Strategy and Planning\\nLarge Team Handling\\nGTM &amp; Growth Marketing\\nAgile Methodologies\\nPython, R Programming, SQL, SPSS\\nTableau, PowerBI and dashboards\\nWeb Analytics, Looker\\nPredictive modeling, Regression\\nData and MIS Architecture\\nBusiness Forecasting\\nPerformance Management\\nWeb UI, HTML, CSS5\\nGoogle AdWords, Analytics, Trends\\nKARTHIK NARAYAN\\nNoBroker | Populencer | GrabOn | Deloitte Consulting\\nIIM Amritsar (Batch of 2021) | PES University (Batch of 2016)\\nWORK EXPERIENCE - 70 MONTHS\\nDate of Birth : 05/11/1993 LinkedIn : Karthik Narayan\\nP: +91-9686171447\\nW: +91-7795450196\\nE: karthikn05@iimamritsar.ac.in\\nkarthik.narayan511@gmail.com\\nCONTACT\\nGrabOn Pvt Ltd | April 2018 - July 2019\\nFormed and maintained over 20 strategic alliances. KPIs included brand\\npenetration, customer acquisition and revenue. Key alliances include\\nSkyScanner, PayPal, PhonePe, Wynk Music and Paytm\\nManaged &amp; grew 'Gift Cards' product from nothing to INR 5.5 Cr in 7\\nmonths. Growth activities included barter alliances, referral marketing,\\npartner cashback campaigns, flash sales and others\\nProject Manager for GrabOn Cricket Fantasy League - a two-month\\nduration, INR 60 Lakh sponsorship budget play-along annual campaign,\\nruns on-par with IPL. Managed a team of 6\\nGrowth Specialist\\nDeloitte Consulting USI | March 2017 - Feb 2018\\nWorked on Revenue Recognition Design and Implementation model for\\nIFRS '15 compliance for two MNCs\\nBuilt customer recognition and respective data manipulation interfaces\\nusing Oracle SQL and client ETL tools\\nBusiness Analyst\\nPopulencer | June 2021 - February 2023\\nAcquired and retained over 100 merchants within 5 months of inception\\nDesigned Corporate Strategy including hiring strategy, BD and\\nmarketing plans, vendor management and budgeting scopes\\nBuilt a user-base of over 10,000 MAU, entirely boot-strapped\\nBuilt predictive models using techniques such as regression, machine\\nlearning (random forest and xg-boost) to develop Social Score algorithm\\nfor enhanced Influencer and P2P Marketing\\nWorked with Founders and handled a cross-functional team of 55\\nAssociate Vice President, Business and Strategy\\nEDUCATION\\nMBA - Marketing &amp; Strategy |\\nClass of 2021\\nIndian Institute of Management,\\nAmritsar\\nPlacements' Committee - Senior\\nMember\\nB.E - Electrical and Electronics |\\nClass of 2016\\nPES University, Bangalore\\nNoBroker.in | April 2023 - Dec 2023\\nLed a team of 95, increased Launch vertical's gross Business Value from\\nINR 18 Cr. to 700 Cr. in seven months\\nExpanded business operations to 5 cities in 3 regions across the country\\nDevised the GTM and marketing strategy for user acquisition, while\\nreducing M-o-M spends from Rs. 60 lakh to Rs. 10 lakh in 4 months\\nDesigned the entire MIS and data-structures for analysis and reporting\\nusing prediction models, look-up techniques and dashboards\\nImplemented all Ops processes such as customer lifecycle management,\\ninternal adherence, ensuring team's incremental performance\\nExamined NoBroker's monthly business operations, and employ a\\ncombination of internal data (e.g., sales data) and external data (e.g.,\\ncustomer preferences) to derive valuable insights\\nBuild predictive models for business forecasting\\nHead of Strategy, Sales and Marketing\\n\"\n",
      "}\n",
      "\u001b[32;1m\u001b[1;3m[llm/start]\u001b[0m \u001b[1m[1:chain:RetrievalQA > 3:chain:StuffDocumentsChain > 4:chain:LLMChain > 5:llm:VLLM] Entering LLM run with input:\n",
      "\u001b[0m{\n",
      "  \"prompts\": [\n",
      "    \"[INST]Use the following pieces of context to answer the question. If no context provided, answer like a AI assistant.\\nid: 1360902 EXTRA-CURRICULARS\\n- Tata Crucible 2019 Regional Finalist\\n- Inducted Rotaract Club of PESU\\n- Director of Public Relations - RCP\\n- Organized Two Tech Workshops\\n- Volunteer with Three college clubs\\n- District Table-Tennis Silver Medalist\\nPROFESSIONAL SKILLS\\nProgram and Process Management\\nP&amp;L Management\\nBusiness Strategy and Planning\\nLarge Team Handling\\nGTM &amp; Growth Marketing\\nAgile Methodologies\\nPython, R Programming, SQL, SPSS\\nTableau, PowerBI and dashboards\\nWeb Analytics, Looker\\nPredictive modeling, Regression\\nData and MIS Architecture\\nBusiness Forecasting\\nPerformance Management\\nWeb UI, HTML, CSS5\\nGoogle AdWords, Analytics, Trends\\nKARTHIK NARAYAN\\nNoBroker | Populencer | GrabOn | Deloitte Consulting\\nIIM Amritsar (Batch of 2021) | PES University (Batch of 2016)\\nWORK EXPERIENCE - 70 MONTHS\\nDate of Birth : 05/11/1993 LinkedIn : Karthik Narayan\\nP: +91-9686171447\\nW: +91-7795450196\\nE: karthikn05@iimamritsar.ac.in\\nkarthik.narayan511@gmail.com\\nCONTACT\\nGrabOn Pvt Ltd | April 2018 - July 2019\\nFormed and maintained over 20 strategic alliances. KPIs included brand\\npenetration, customer acquisition and revenue. Key alliances include\\nSkyScanner, PayPal, PhonePe, Wynk Music and Paytm\\nManaged &amp; grew 'Gift Cards' product from nothing to INR 5.5 Cr in 7\\nmonths. Growth activities included barter alliances, referral marketing,\\npartner cashback campaigns, flash sales and others\\nProject Manager for GrabOn Cricket Fantasy League - a two-month\\nduration, INR 60 Lakh sponsorship budget play-along annual campaign,\\nruns on-par with IPL. Managed a team of 6\\nGrowth Specialist\\nDeloitte Consulting USI | March 2017 - Feb 2018\\nWorked on Revenue Recognition Design and Implementation model for\\nIFRS '15 compliance for two MNCs\\nBuilt customer recognition and respective data manipulation interfaces\\nusing Oracle SQL and client ETL tools\\nBusiness Analyst\\nPopulencer | June 2021 - February 2023\\nAcquired and retained over 100 merchants within 5 months of inception\\nDesigned Corporate Strategy including hiring strategy, BD and\\nmarketing plans, vendor management and budgeting scopes\\nBuilt a user-base of over 10,000 MAU, entirely boot-strapped\\nBuilt predictive models using techniques such as regression, machine\\nlearning (random forest and xg-boost) to develop Social Score algorithm\\nfor enhanced Influencer and P2P Marketing\\nWorked with Founders and handled a cross-functional team of 55\\nAssociate Vice President, Business and Strategy\\nEDUCATION\\nMBA - Marketing &amp; Strategy |\\nClass of 2021\\nIndian Institute of Management,\\nAmritsar\\nPlacements' Committee - Senior\\nMember\\nB.E - Electrical and Electronics |\\nClass of 2016\\nPES University, Bangalore\\nNoBroker.in | April 2023 - Dec 2023\\nLed a team of 95, increased Launch vertical's gross Business Value from\\nINR 18 Cr. to 700 Cr. in seven months\\nExpanded business operations to 5 cities in 3 regions across the country\\nDevised the GTM and marketing strategy for user acquisition, while\\nreducing M-o-M spends from Rs. 60 lakh to Rs. 10 lakh in 4 months\\nDesigned the entire MIS and data-structures for analysis and reporting\\nusing prediction models, look-up techniques and dashboards\\nImplemented all Ops processes such as customer lifecycle management,\\ninternal adherence, ensuring team's incremental performance\\nExamined NoBroker's monthly business operations, and employ a\\ncombination of internal data (e.g., sales data) and external data (e.g.,\\ncustomer preferences) to derive valuable insights\\nBuild predictive models for business forecasting\\nHead of Strategy, Sales and Marketing\\n\\nQuestion: give me all those ids who have worked as manager [/INST]\"\n",
      "  ]\n",
      "}\n"
     ]
    },
    {
     "name": "stderr",
     "output_type": "stream",
     "text": [
      "Processed prompts: 100%|███████████████████████████████████████████████████████████████████████████████████████████████████████████████████████| 1/1 [00:04<00:00,  4.27s/it]"
     ]
    },
    {
     "name": "stdout",
     "output_type": "stream",
     "text": [
      "\u001b[36;1m\u001b[1;3m[llm/end]\u001b[0m \u001b[1m[1:chain:RetrievalQA > 3:chain:StuffDocumentsChain > 4:chain:LLMChain > 5:llm:VLLM] [4.28s] Exiting LLM run with output:\n",
      "\u001b[0m{\n",
      "  \"generations\": [\n",
      "    [\n",
      "      {\n",
      "        \"text\": \"Based on the provided resume, the following individuals have worked as managers:\\n\\n1. Karthik Narayan - Director of Public Relations, RCP; Project Manager, GrabOn Cricket Fantasy League; Associate Vice President, Business and Strategy, Populencer\\n2. NoBroker.in - Led a team of 95, increased Launch vertical's gross Business Value from INR 18 Cr. to 700 Cr. in seven months; Designed the entire MIS and data-structures for analysis and reporting using prediction models, look-up\",\n",
      "        \"generation_info\": null,\n",
      "        \"type\": \"Generation\"\n",
      "      }\n",
      "    ]\n",
      "  ],\n",
      "  \"llm_output\": null,\n",
      "  \"run\": null\n",
      "}\n",
      "\u001b[36;1m\u001b[1;3m[chain/end]\u001b[0m \u001b[1m[1:chain:RetrievalQA > 3:chain:StuffDocumentsChain > 4:chain:LLMChain] [4.28s] Exiting Chain run with output:\n",
      "\u001b[0m{\n",
      "  \"text\": \"Based on the provided resume, the following individuals have worked as managers:\\n\\n1. Karthik Narayan - Director of Public Relations, RCP; Project Manager, GrabOn Cricket Fantasy League; Associate Vice President, Business and Strategy, Populencer\\n2. NoBroker.in - Led a team of 95, increased Launch vertical's gross Business Value from INR 18 Cr. to 700 Cr. in seven months; Designed the entire MIS and data-structures for analysis and reporting using prediction models, look-up\"\n",
      "}\n",
      "\u001b[36;1m\u001b[1;3m[chain/end]\u001b[0m \u001b[1m[1:chain:RetrievalQA > 3:chain:StuffDocumentsChain] [4.28s] Exiting Chain run with output:\n",
      "\u001b[0m{\n",
      "  \"output_text\": \"Based on the provided resume, the following individuals have worked as managers:\\n\\n1. Karthik Narayan - Director of Public Relations, RCP; Project Manager, GrabOn Cricket Fantasy League; Associate Vice President, Business and Strategy, Populencer\\n2. NoBroker.in - Led a team of 95, increased Launch vertical's gross Business Value from INR 18 Cr. to 700 Cr. in seven months; Designed the entire MIS and data-structures for analysis and reporting using prediction models, look-up\"\n",
      "}\n",
      "\u001b[36;1m\u001b[1;3m[chain/end]\u001b[0m \u001b[1m[1:chain:RetrievalQA] [4.28s] Exiting Chain run with output:\n",
      "\u001b[0m{\n",
      "  \"result\": \"Based on the provided resume, the following individuals have worked as managers:\\n\\n1. Karthik Narayan - Director of Public Relations, RCP; Project Manager, GrabOn Cricket Fantasy League; Associate Vice President, Business and Strategy, Populencer\\n2. NoBroker.in - Led a team of 95, increased Launch vertical's gross Business Value from INR 18 Cr. to 700 Cr. in seven months; Designed the entire MIS and data-structures for analysis and reporting using prediction models, look-up\"\n",
      "}\n"
     ]
    },
    {
     "name": "stderr",
     "output_type": "stream",
     "text": [
      "\n"
     ]
    }
   ],
   "source": [
    "result = qa_chain({\"query\": \"give me all those ids who have worked as manager\"})\n",
    "# print(result)"
   ]
  },
  {
   "cell_type": "code",
   "execution_count": 578,
   "id": "b8cbec07-9e41-4c24-90d0-80bcc0c7bb15",
   "metadata": {},
   "outputs": [
    {
     "data": {
      "text/plain": [
       "{'query': 'give me all those ids who have worked as manager',\n",
       " 'result': \"Based on the provided resume, the following individuals have worked as managers:\\n\\n1. Karthik Narayan - Director of Public Relations, RCP; Project Manager, GrabOn Cricket Fantasy League; Associate Vice President, Business and Strategy, Populencer\\n2. NoBroker.in - Led a team of 95, increased Launch vertical's gross Business Value from INR 18 Cr. to 700 Cr. in seven months; Designed the entire MIS and data-structures for analysis and reporting using prediction models, look-up\"}"
      ]
     },
     "execution_count": 578,
     "metadata": {},
     "output_type": "execute_result"
    }
   ],
   "source": [
    "result"
   ]
  },
  {
   "cell_type": "code",
   "execution_count": 579,
   "id": "f4ea1c6e-8783-400b-8565-c4a94df959a3",
   "metadata": {},
   "outputs": [],
   "source": [
    "user_id_pattern = r'id: (\\d+)' and r'ID: (\\d+)'\n",
    "\n",
    "user_ids = re.findall(user_id_pattern, result['result'])"
   ]
  },
  {
   "cell_type": "code",
   "execution_count": 580,
   "id": "afce2303-d9ac-4a4b-8382-58e67a3dfe06",
   "metadata": {},
   "outputs": [
    {
     "data": {
      "text/plain": [
       "[]"
      ]
     },
     "execution_count": 580,
     "metadata": {},
     "output_type": "execute_result"
    }
   ],
   "source": [
    "user_ids"
   ]
  },
  {
   "cell_type": "code",
   "execution_count": 562,
   "id": "a396381e-b5cb-4bf2-a34f-93ea1245514a",
   "metadata": {},
   "outputs": [
    {
     "name": "stderr",
     "output_type": "stream",
     "text": [
      "100%|█████████████████████████████████████████████████████████████████████████████████████████████████████████████████████████████████████████| 2/2 [00:00<00:00, 117.93it/s]\n",
      "100%|███████████████████████████████████████████████████████████████████████████████████████████████████████████████████████████████████████| 2/2 [00:00<00:00, 25653.24it/s]\n"
     ]
    }
   ],
   "source": [
    "data = get_user_data_search_embed(user_ids)"
   ]
  },
  {
   "cell_type": "code",
   "execution_count": 565,
   "id": "09eea6a9-44c2-45e4-aeb8-1b146215520f",
   "metadata": {},
   "outputs": [
    {
     "data": {
      "text/plain": [
       "array([['Bhav Mishra\\nTel : 9168383838\\nE-Mail- bhavmishra1991@gmail.com\\nAbout Me\\nProven sales and account\\nmanagement professional with\\ndemonstrated communication skills.\\nAnalytical, strategic planner and\\naccomplished team player in tough\\nmarkets. Detail and goal oriented\\n,with 6+ years of experience across\\nindustries. Able to handle and\\ndeescalate high-stress situations.\\nEmployment History\\nAvanse Financial Services (Account Manager- Digital Business) JUL21-\\nNOV22\\n Account Management Driving Partner Relationships (B2B) and strategic alliances\\nfor profitable engagement and co-ordinated with all key stakeholders external and\\ninternal for a frictionless partner experience in execution of existing and new\\npartnerships for the digital business vertical.\\n Responsible to meet assigned business targets (~500 cr INR) for profitable sales\\nvolume and strategic objectives with line of sign on P&amp;L from 4 assigned partner\\naccounts.\\n Business Development Sourcing new partnerships and managing end to end\\nimplementation of digital loan products starting from Business agreements, Rates\\ndiscussion, API integration, login, credit underwriting to disbursements.\\n Liaisioning the involvement of company personnel, including IT, support, credit, risk,\\nservice, operations and management resources, in order to meet partner\\nperformance objectives and partners expectations.\\n Partner with business owners to build products and streamline processes that will be\\nincorporated in to the broader company product portfolio plan for smoother and swift\\nbusiness expansion.\\n Market Mapping and Competition Benchmarking of the product offerings in the low\\nticket (&lt;5 lacs) loan market and strategically placing current products to the best\\ninterest partners and end users.\\nICICI BANK (Product Sales Manager-Commercial Banking)\\nMAY 2019-JUNE 2020\\nKey Skills\\n Sales Management\\n Distribution Management\\n Brand Positioning\\n Product Management &amp;\\nNew Product Introduction\\n Strategy Formulation &amp;\\nImplementation\\n Market Intelligence\\n Marketing\\n Relationship Management\\n Team Management\\n Business Development\\nPGDM (Marketing)- Narsee\\nMonjee Institute of Management\\nStudies (2016-2018)\\nB.Tech (Mechanical) - KIIT\\nUniversity(2009-2013)\\nXII- DAV Public School (2009)\\nX- DAV Public School (2007)\\nEducation\\nPaytm (Regional Business Manager- South)\\nNOV22-PRESENT\\n Key Account Management Driving Partner Relationships (B2B) and strategic\\nalliances in the entire South region for the payments industry involving Domestic\\nMoney Transfer(DMT) and Aadhaar Enabled Payment System(AePS).\\n Relationship Management Establishing productive, professional relationships with\\nkey personnel in assigned partner accounts- Handling 5 lac+ retailers through 15\\nmajor enterprise partner accounts.\\n Responsible to meet assigned business targets (10000 cr INR) for profitable sales\\nvolume and strategic objectives on P&amp;L top line and bottom line from assigned\\npartner accounts channel business.\\n Business Development Sourcing new partnerships- New partner reach out,\\npresentation, commercials negotiation and managing end to end implementation of\\npartner onboarding through API integration.\\n Market Mapping and Competition Benchmarking of the product offerings in the\\npayments industry through field and retail visits.\\n Business Development Sourcing new corporate relationships for the bank.\\n Business Consulting- Onboarding clients through consultative selling and cross\\nsell/up-sell trade products and cash management and digital solution products\\n(Payments &amp; Collections) under Commercial Banking Group.\\n&quot;,&quot;SAINT- GOBAIN (Area Sales Manager) APRIL 2018-\\nMAR 2019\\n Detailed understanding, mapping and segmentation of the assigned market \\nKarnataka-including competition, products and price points for FMCG products in\\nthe abrasives category hand scrubs and pads, cutting wheels, grinding wheels,\\nadhesives etc.\\n Developing , managing and improving Hub and Spoke model of distribution in the\\nassigned market by identifying and filling major channel distribution gaps.\\n Developing and managing primary sales of distributors to help them grow.\\n Designing and driving trade promotions and BTL activities.\\n Team formation, development &amp; management from grass root levels.\\n Working with Product Manager for developing new product &amp; quality issues.\\n Product Training to channel partners.\\nCYIENT LTD (DESIGN ENGINEER) NOV 2013-\\nMAY 2016\\n Product Design and Development, 3D Design, 3D modeling/drafting of Mechanical\\nequipment/ structures (Offshore Oil &amp; Gas).\\n Associate of the offshore team and was responsible for Knowledge Transition\\nSessions to the Junior Resources.\\n Preparation of Structural &amp; Equipment drawings, Experience in Part, Sheet metal\\nmodeling.\\n Creating manufacturing drawings with Geometric Dimensions &amp; tolerances\\n(GD&amp;T).\\nPOSITIONS OF RESPONSIBILITY\\n Core Member, Organizing team, MARKOPOLIS 2016, NMIMS\\n Head-Productions, MarGene-The Marketing Club- 2017 , NMIMS\\n Lead Singer -Infotsav, Singing Club member-Kalakshetra 2014-2016, Cyient Ltd,\\nHyderabad\\n Core Member, organizing team, Kritansh-2012, KIIT University, Bhubaneswar\\nProjects/Internships\\n-Live Project with Britannia\\nIndustries , (Channel Sales)\\n-Live Project with Wooplr\\nTechnologies, (Sales, Social\\nmedia marketing)\\n-Live Project with Automovill\\nTechnologies, (Marketing &amp;\\nOperations)\\n-Internship in NALCO-Captive\\nPower Plant\\nInterests\\nCooking, Singing, Travelling\\nLinkedin\\nhttps://in.linkedin.com/in/bhav-\\nmishra\\n Analyze the business requirement of corporates, design and customize Collection and\\nPayment solutions with the help of technology based solutions like EazyPay, B2B\\nEdge, e-Collection, iSurePay, Pay2Corp, Payment Gateway, Bulk Payments etc.\\n Scoping of Product Sales, Preparing Proposals and implementation of CMS and\\ndigital products.\\n Involved in API and Host-2-Host based transaction products by pre-configuring and\\nintegrating with clients software.\\n Increase wallet share of corporate clients (B2B) by catering to their working capital\\nrequirements, trade products and relationship management.\\n Training to new account managers for trade, CMS and digital product offerings.\\n'],\n",
       "       [\"GAYATRI NAIDU PASUPULETI\\nA Program Manager with 5+ Years Of Experience In Business Management Verticals.\\nMy Key Work Attributes Include -\\n Continued Focus on Building Tech Expertise &amp; Acquiring Leadership Skills.\\n Staying Current with Pace of Developments in Biz. tech &amp; Enterprise Management.\\n Ability to deploy quality SOPs Sales/Marketing/Operations Initiatives.\\nPhone: (+91) 7799999216 | Email: gayatri.pasupuleti@gmail.com | Residence: Gachibowli, Hyderabad.\\nWORK HISTORY\\nProgram Manager, Delightful Gourmet Pvt.Ltd - Licious (Sep 2021 - Aug 2023)\\nRetail Operations: Managed product supply &amp; sales operations across 1100+ retail partner stores pan India.\\nProject Management: Strategize programs for retail channel growth &amp; alignment to achieve AOP targets.\\nResource Management: Collaborated with external HR agencies to manage 200+ off-roll sales resources.\\nSupply Chain Management: Generate weekly production plan to ensure stock connectivity at partner stores.\\nBranding: Led design &amp; execution of Innovative Retail Branding campaigns at partner stores to drive sales.\\nAudit &amp; Finance: Coordinate with GTMT accounts for reconciliations &amp; recovery of account receivables.\\nP&amp;L : MOM P&amp;L Analysis for effective cost optimization &amp; negotiating TOT with partners to ensure profitability.\\nRegional Marketing Manager, Delightful Gourmet Pvt.Ltd - Licious\\nBusiness Expansion: Drive supply chain expansion to target 10% rev. growth, Led brand foray to 14 new cities.\\nCustomer Acquisition: Acquired 23000+ new customers to the platform via online &amp; offline marketing activations.\\nOperations Management: Coordinate with CFTs for establishing delivery centers, overseeing legal &amp; compliance works.\\nMarket Research &amp; Consumer Insights: Market recce &amp; geo profiling to identify target customer demographics.\\nATL/BTL/TTL Brand Marketing: Execution of large scale D2D, OOH, BTL brand campaigns (~1.5 Cr+ spends annually)\\nGrowth Marketing Manager, Phygital24 (Dec 2020 - Aug 2021)\\nUX/UI Design Support: Coordinate with product team to build frontend framework for a food delivery application.\\nSocial Media Marketing: Led creative design, multiplatform management &amp; content strategy for a resto-brand overseas.\\nLead Generation: Setup paid social ads, A/B test &amp; campaign optimization for SQL (Spends : ~$2500/Month, CPL : ~$4)\\nEmail Marketing: Email bursts, drip campaigns for lead nurturing/conversion (Tools: Hubspot &amp; Mailchimp)\\nTesting: Test API workflows of 3P integration applications (payment gateway, POS &amp; delivery apps).\\nGrowth Marketing Assistant, Uber Systems India (May 2019 - June 2020)\\nIn-App Marketing: Manage in-app merch &amp; selection basis relevance (banners, widgets, carousels, pop ups etc.)\\nOut-of-App Marketing: Strategize hyperlocal campaigns &amp; secure co-branding partnerships for brand recall &amp; visibility.\\nAccount Management: Manage restaurant selection, enable co-funding/shared discounts to grow sales &amp; avg.cart size.\\nCRM Management: Draft CRM communication copies for PNs, text messages &amp; emailers &amp; Manage CRM funnel.\\nATL/BTL Branding: Led multifold brand interventions in OOH, print &amp; electronic media and all forms of BTL branding.\\nMarketing Funnel Executive, SOAL Edtech Pvt.Ltd (Dec 2017 - Jan 2019)\\nLead Generation &amp; Nurturing: Build customer profiling/buyer personas basis market research &amp; pitch to TG.\\nInbound Marketing: Lead outreach &amp; drive conversions month on month to meet Rev. targets.\\nAccount Management &amp; Partner Tie-ups: Manage portfolio of 3P finance partners &amp; coordinate timely payments.\\nFUNCTIONAL SKILLS : Project Management, P&amp;L Management, Account Management, Supply Chain Management\\nAlliances &amp; Partnerships, Organization &amp; Delegation, GTM Strategy, Brand Marketing,\\nVendor Management &amp; Change Management.\\nTECH - EXPERTISE : MS-Office, Hubspot CRM, Mail Chimp, Meta Ads Manager, Google Ads Manager,BI Tools Qlik\\nPower BI, Adobe Photoshop Express, Canva, Google Analytics, Linkedin Ads Manager, Wordpress\\nCERTIFICATIONS : Digital Marketing Masterclass (Udemy Certified),\\nProject Management Foundation (Linkedin Learning)\\nLANGUAGES : English (Professional Working Proficiency), Hindi (Bilingual Proficiency) &amp; Telugu (Native)\\nEDUCATION : Bachelor's Degree in Mechanical Engineering, ICFAI University, Hyderabad\\n(2014-2018 , Top 10% of the Class)\\n\"]],\n",
       "      dtype=object)"
      ]
     },
     "execution_count": 565,
     "metadata": {},
     "output_type": "execute_result"
    }
   ],
   "source": [
    "data[['resume']].values"
   ]
  },
  {
   "cell_type": "code",
   "execution_count": 564,
   "id": "9f6db58c-b200-4d9d-a42d-91a243a26e25",
   "metadata": {},
   "outputs": [
    {
     "data": {
      "text/plain": [
       "'ID: (\\\\d+)'"
      ]
     },
     "execution_count": 564,
     "metadata": {},
     "output_type": "execute_result"
    }
   ],
   "source": [
    "user_id_pattern"
   ]
  },
  {
   "cell_type": "code",
   "execution_count": null,
   "id": "02f6d7a4-84a4-402e-92bb-88f09d06033d",
   "metadata": {},
   "outputs": [],
   "source": []
  }
 ],
 "metadata": {
  "kernelspec": {
   "display_name": "Python 3 (ipykernel)",
   "language": "python",
   "name": "python3"
  },
  "language_info": {
   "codemirror_mode": {
    "name": "ipython",
    "version": 3
   },
   "file_extension": ".py",
   "mimetype": "text/x-python",
   "name": "python",
   "nbconvert_exporter": "python",
   "pygments_lexer": "ipython3",
   "version": "3.10.12"
  }
 },
 "nbformat": 4,
 "nbformat_minor": 5
}
