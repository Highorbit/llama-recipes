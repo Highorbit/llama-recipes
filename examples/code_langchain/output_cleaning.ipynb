{
 "cells": [
  {
   "cell_type": "code",
   "execution_count": 1,
   "id": "77fdf739-6a35-422d-bee4-b7387e482f0a",
   "metadata": {},
   "outputs": [],
   "source": [
    "from langchain.chat_models import ChatOpenAI\n",
    "from langchain.prompts import ChatPromptTemplate\n",
    "import configparser\n",
    "import openai\n",
    "import ast\n",
    "import json"
   ]
  },
  {
   "cell_type": "code",
   "execution_count": 2,
   "id": "67c088a5-c6e6-4eea-98e4-d70593ea21e0",
   "metadata": {},
   "outputs": [
    {
     "data": {
      "text/plain": [
       "'/home/ubuntu/infoedge/llama-recipes/examples/code_langchain'"
      ]
     },
     "execution_count": 2,
     "metadata": {},
     "output_type": "execute_result"
    }
   ],
   "source": [
    "pwd"
   ]
  },
  {
   "cell_type": "code",
   "execution_count": 3,
   "id": "9463ec85-22d1-4c96-97c7-a346315c35dd",
   "metadata": {},
   "outputs": [
    {
     "data": {
      "text/plain": [
       "['/home/ubuntu/infoedge/llama-recipes/examples/configs/config.ini']"
      ]
     },
     "execution_count": 3,
     "metadata": {},
     "output_type": "execute_result"
    }
   ],
   "source": [
    "config=configparser.ConfigParser()\n",
    "config.read('/home/ubuntu/infoedge/llama-recipes/examples/configs/config.ini')"
   ]
  },
  {
   "cell_type": "code",
   "execution_count": 4,
   "id": "2e3f07ec-cd57-404c-88b0-dd8e0fcead47",
   "metadata": {},
   "outputs": [],
   "source": [
    "openai.api_key=config['key']['infoedge']"
   ]
  },
  {
   "cell_type": "code",
   "execution_count": 5,
   "id": "9ee413c8-71c6-459c-96ef-6379ead57fc6",
   "metadata": {},
   "outputs": [],
   "source": [
    "# openai.api_key"
   ]
  },
  {
   "cell_type": "markdown",
   "id": "20d27eae-f3d1-49dc-968e-90e6c4df640b",
   "metadata": {},
   "source": [
    "[{'company': 'Highorbit Careers Pvt. Ltd. (iimjobs.com | hirist.com)', 'role': 'Android Developer', 'start_date': 'Jan 2019', 'end_date': 'Present', 'description': 'Built hirist app with latest android jetpack and architecture components. Built end to end Android side for inhouse text, audio and video chat using webRTC.'}, {'company': 'Kisan Network', 'role': 'Android Engineer', 'start_date': 'June 2017', 'end_date': 'Jan 2019', 'description': 'Worked on operations apps for feild executives of Kisan Network. Built customised camera using Android Camera2 API with realtime focus detection. Developed most of the required backed APIs using node.js.'}, {'company': 'Carebuddy', 'role': 'Intern', 'start_date': 'May 2016', 'end_date': 'Aug. 2016', 'description': 'Developed the promotional FirstAid info and blood donation network app.'}, {'company': 'Edward Ganj Public Welfare Association', 'role': 'Intern', 'start_date': 'March 2016', 'end_date': 'April 2016', 'description': 'Developed an Android app for operations of their public Library.'}]"
   ]
  },
  {
   "cell_type": "code",
   "execution_count": 6,
   "id": "f2a7af4b-3149-4b08-aaa5-621fdb59eb26",
   "metadata": {},
   "outputs": [],
   "source": [
    "we = [{'company': 'Highorbit Careers Pvt. Ltd. (iimjobs.com | hirist.com)', 'role': 'Android Developer', 'start_date': 'Jan 2019', 'end_date': 'Present', 'description': 'Built hirist app with latest android jetpack and architecture components. Built end to end Android side for inhouse text, audio and video chat using webRTC.'}, {'company': 'Kisan Network', 'role': 'Android Engineer', 'start_date': 'June 2017', 'end_date': 'Jan 2019', 'description': 'Worked on operations apps for feild executives of Kisan Network. Built customised camera using Android Camera2 API with realtime focus detection. Developed most of the required backed APIs using node.js.'}, {'company': 'Carebuddy', 'role': 'Intern', 'start_date': 'May 2016', 'end_date': 'Aug. 2016', 'description': 'Developed the promotional FirstAid info and blood donation network app.'}, {'company': 'Edward Ganj Public Welfare Association', 'role': 'Intern', 'start_date': 'March 2016', 'end_date': 'April 2016', 'description': 'Developed an Android app for operations of their public Library.'},{'company':'DAV public school','role':'student','start_date':'may 2008','end_date':'may 2009','description':'passed'},{'company':'jaypee college','role':'ece engineer','start_date':'may 20010','end_date':'may 2014','description':'professional engineer'}]"
   ]
  },
  {
   "cell_type": "code",
   "execution_count": 7,
   "id": "ae07de75-7156-4daa-a2b0-ccba68dd29f4",
   "metadata": {},
   "outputs": [
    {
     "data": {
      "text/plain": [
       "[{'company': 'Highorbit Careers Pvt. Ltd. (iimjobs.com | hirist.com)',\n",
       "  'role': 'Android Developer',\n",
       "  'start_date': 'Jan 2019',\n",
       "  'end_date': 'Present',\n",
       "  'description': 'Built hirist app with latest android jetpack and architecture components. Built end to end Android side for inhouse text, audio and video chat using webRTC.'},\n",
       " {'company': 'Kisan Network',\n",
       "  'role': 'Android Engineer',\n",
       "  'start_date': 'June 2017',\n",
       "  'end_date': 'Jan 2019',\n",
       "  'description': 'Worked on operations apps for feild executives of Kisan Network. Built customised camera using Android Camera2 API with realtime focus detection. Developed most of the required backed APIs using node.js.'},\n",
       " {'company': 'Carebuddy',\n",
       "  'role': 'Intern',\n",
       "  'start_date': 'May 2016',\n",
       "  'end_date': 'Aug. 2016',\n",
       "  'description': 'Developed the promotional FirstAid info and blood donation network app.'},\n",
       " {'company': 'Edward Ganj Public Welfare Association',\n",
       "  'role': 'Intern',\n",
       "  'start_date': 'March 2016',\n",
       "  'end_date': 'April 2016',\n",
       "  'description': 'Developed an Android app for operations of their public Library.'},\n",
       " {'company': 'DAV public school',\n",
       "  'role': 'student',\n",
       "  'start_date': 'may 2008',\n",
       "  'end_date': 'may 2009',\n",
       "  'description': 'passed'},\n",
       " {'company': 'jaypee college',\n",
       "  'role': 'ece engineer',\n",
       "  'start_date': 'may 20010',\n",
       "  'end_date': 'may 2014',\n",
       "  'description': 'professional engineer'}]"
      ]
     },
     "execution_count": 7,
     "metadata": {},
     "output_type": "execute_result"
    }
   ],
   "source": [
    "we"
   ]
  },
  {
   "cell_type": "code",
   "execution_count": 8,
   "id": "edec0867-14f5-4fa9-8598-059a456cace3",
   "metadata": {},
   "outputs": [],
   "source": [
    "# export OPENAI_API_KEY=openai.key\n"
   ]
  },
  {
   "cell_type": "code",
   "execution_count": null,
   "id": "3ff751f1-549d-40bf-b3cc-366254c34a65",
   "metadata": {},
   "outputs": [],
   "source": []
  },
  {
   "cell_type": "code",
   "execution_count": null,
   "id": "90dee7a3-ca33-4d94-a182-cb3db7fdb8ee",
   "metadata": {},
   "outputs": [],
   "source": []
  },
  {
   "cell_type": "code",
   "execution_count": null,
   "id": "485386d5-c93c-4c44-a4b2-c94397077594",
   "metadata": {},
   "outputs": [],
   "source": []
  },
  {
   "cell_type": "code",
   "execution_count": 13,
   "id": "affd3cce-15ab-4baf-8597-1302a9ef14ef",
   "metadata": {},
   "outputs": [],
   "source": [
    "full_prompt=f'''Read this {we} and remove wrong information from it like schools and certifications'''"
   ]
  },
  {
   "cell_type": "code",
   "execution_count": 14,
   "id": "acf922bd-0b01-4d44-8aa8-82635f14a69a",
   "metadata": {},
   "outputs": [],
   "source": [
    "# full_prompt"
   ]
  },
  {
   "cell_type": "code",
   "execution_count": 15,
   "id": "20c77209-4114-4bb6-bb2c-d62da38f1ee2",
   "metadata": {},
   "outputs": [],
   "source": [
    "\n",
    "chat_completion = openai.chat.completions.create(\n",
    "    messages=[\n",
    "        {\n",
    "            \"role\": \"user\",\n",
    "            \"content\": full_prompt,\n",
    "        }\n",
    "    ],\n",
    "    model=\"gpt-3.5-turbo\",\n",
    ")"
   ]
  },
  {
   "cell_type": "code",
   "execution_count": 16,
   "id": "95e7bba9-a95e-4f66-ac3b-2c1cdfa3e76d",
   "metadata": {},
   "outputs": [
    {
     "name": "stdout",
     "output_type": "stream",
     "text": [
      "[{'company': 'Highorbit Careers Pvt. Ltd. (iimjobs.com | hirist.com)', 'role': 'Android Developer', 'start_date': 'Jan 2019', 'end_date': 'Present', 'description': 'Built hirist app with latest android jetpack and architecture components. Built end to end Android side for inhouse text, audio and video chat using webRTC.'}, {'company': 'Kisan Network', 'role': 'Android Engineer', 'start_date': 'June 2017', 'end_date': 'Jan 2019', 'description': 'Worked on operations apps for feild executives of Kisan Network. Built customised camera using Android Camera2 API with realtime focus detection. Developed most of the required backed APIs using node.js.'}, {'company': 'Carebuddy', 'role': 'Intern', 'start_date': 'May 2016', 'end_date': 'Aug. 2016', 'description': 'Developed the promotional FirstAid info and blood donation network app.'}, {'company': 'Edward Ganj Public Welfare Association', 'role': 'Intern', 'start_date': 'March 2016', 'end_date': 'April 2016', 'description': 'Developed an Android app for operations of their public Library.'}]\n"
     ]
    }
   ],
   "source": [
    "print(chat_completion.choices[0].message.content)"
   ]
  },
  {
   "cell_type": "code",
   "execution_count": null,
   "id": "498cf972-4df4-444d-b259-91a4619542ab",
   "metadata": {},
   "outputs": [],
   "source": []
  },
  {
   "cell_type": "code",
   "execution_count": null,
   "id": "b682ea96-521e-43ed-ad00-94919a1cf009",
   "metadata": {},
   "outputs": [],
   "source": []
  },
  {
   "cell_type": "code",
   "execution_count": null,
   "id": "9ae16186-b02c-43a5-a46e-609dd04439f5",
   "metadata": {},
   "outputs": [],
   "source": []
  },
  {
   "cell_type": "code",
   "execution_count": null,
   "id": "aff7c552-eff0-463d-8208-62f64e522eb6",
   "metadata": {},
   "outputs": [],
   "source": []
  },
  {
   "cell_type": "markdown",
   "id": "58f3fc85-7779-4cb7-915a-1e62cdbda168",
   "metadata": {},
   "source": [
    "## langchain"
   ]
  },
  {
   "cell_type": "code",
   "execution_count": null,
   "id": "872d63bd-7f8c-42f5-8db3-45bf74bb7c9a",
   "metadata": {},
   "outputs": [],
   "source": []
  },
  {
   "cell_type": "code",
   "execution_count": 58,
   "id": "56ee6454-d7bf-4402-8850-0ec4a048f0b1",
   "metadata": {},
   "outputs": [
    {
     "name": "stdout",
     "output_type": "stream",
     "text": [
      "Total time taken 10.949503660202026\n"
     ]
    }
   ],
   "source": [
    "from langchain.chat_models import ChatOpenAI\n",
    "from langchain.prompts import ChatPromptTemplate\n",
    "from langchain_core.output_parsers import StrOutputParser\n",
    "import time\n",
    "\n",
    "\n",
    "start_time=time.time()\n",
    "\n",
    "prompt = ChatPromptTemplate.from_template(\"Read this {work_experience} and remove wrong information from it like schools and certifications\")\n",
    "model = ChatOpenAI(api_key=openai.key)\n",
    "# completion = openai.ChatCompletion.create(\n",
    "#       model=\"gpt-4\",\n",
    "#       messages=[\n",
    "#         {\"role\": \"user\"}\n",
    "#       ]\n",
    "#     )\n",
    "\n",
    "chain = prompt | model | StrOutputParser()\n",
    "# chain = prompt | model\n",
    "\n",
    "\n",
    "correct_data = chain.invoke({\"work_experience\": we})\n",
    "\n",
    "print('Total time taken',time.time()-start_time)\n"
   ]
  },
  {
   "cell_type": "code",
   "execution_count": null,
   "id": "09f10b40-4626-4907-9b49-6088af5c66bf",
   "metadata": {},
   "outputs": [],
   "source": []
  },
  {
   "cell_type": "code",
   "execution_count": 59,
   "id": "4489b0b0-0fea-414a-a62e-2ad45d8b0561",
   "metadata": {},
   "outputs": [
    {
     "name": "stdout",
     "output_type": "stream",
     "text": [
      "[{'company': 'Highorbit Careers Pvt. Ltd. (iimjobs.com | hirist.com)', 'role': 'Android Developer', 'start_date': 'Jan 2019', 'end_date': 'Present', 'description': 'Built hirist app with latest android jetpack and architecture components. Built end to end Android side for inhouse text, audio and video chat using webRTC.'}, {'company': 'Kisan Network', 'role': 'Android Engineer', 'start_date': 'June 2017', 'end_date': 'Jan 2019', 'description': 'Worked on operations apps for feild executives of Kisan Network. Built customised camera using Android Camera2 API with realtime focus detection. Developed most of the required backed APIs using node.js.'}, {'company': 'Carebuddy', 'role': 'Intern', 'start_date': 'May 2016', 'end_date': 'Aug. 2016', 'description': 'Developed the promotional FirstAid info and blood donation network app.'}, {'company': 'Edward Ganj Public Welfare Association', 'role': 'Intern', 'start_date': 'March 2016', 'end_date': 'April 2016', 'description': 'Developed an Android app for operations of their public Library.'}]\n"
     ]
    }
   ],
   "source": [
    "print(correct_data)"
   ]
  },
  {
   "cell_type": "code",
   "execution_count": null,
   "id": "dbda2cec-49e7-4a65-a80d-5e9cd8468921",
   "metadata": {},
   "outputs": [],
   "source": []
  },
  {
   "cell_type": "code",
   "execution_count": null,
   "id": "e27c64a4-978b-4da2-9d1a-2dfb187e0926",
   "metadata": {},
   "outputs": [],
   "source": []
  },
  {
   "cell_type": "code",
   "execution_count": null,
   "id": "1fc6da03-1b97-4146-b4a2-919ab9fba055",
   "metadata": {},
   "outputs": [],
   "source": []
  },
  {
   "cell_type": "code",
   "execution_count": null,
   "id": "a3a7d635-b2fa-42dc-a758-972049b9d0a4",
   "metadata": {},
   "outputs": [],
   "source": []
  },
  {
   "cell_type": "code",
   "execution_count": null,
   "id": "4394fbb4-0438-440d-83dc-e0f2094ce072",
   "metadata": {},
   "outputs": [],
   "source": []
  }
 ],
 "metadata": {
  "kernelspec": {
   "display_name": "Python 3 (ipykernel)",
   "language": "python",
   "name": "python3"
  },
  "language_info": {
   "codemirror_mode": {
    "name": "ipython",
    "version": 3
   },
   "file_extension": ".py",
   "mimetype": "text/x-python",
   "name": "python",
   "nbconvert_exporter": "python",
   "pygments_lexer": "ipython3",
   "version": "3.10.12"
  }
 },
 "nbformat": 4,
 "nbformat_minor": 5
}
