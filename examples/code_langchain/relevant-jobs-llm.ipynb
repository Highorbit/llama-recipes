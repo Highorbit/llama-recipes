{
 "cells": [
  {
   "cell_type": "code",
   "execution_count": 4,
   "id": "0d35fed1-7b29-445d-8567-03b816d4f394",
   "metadata": {},
   "outputs": [],
   "source": [
    "from transformers import AutoModelForCausalLM, AutoTokenizer\n",
    "device = \"cuda\" # the device to load the model onto\n",
    "import torch\n",
    "import time\n",
    "import pandas as pd, html\n",
    "from user_info import get_user_info"
   ]
  },
  {
   "cell_type": "code",
   "execution_count": null,
   "id": "98683fb8-0b85-4096-ad7a-8eaf60b7ab13",
   "metadata": {},
   "outputs": [],
   "source": []
  },
  {
   "cell_type": "code",
   "execution_count": null,
   "id": "6e1718ea-e208-415d-b470-4ef3ed1ed0c1",
   "metadata": {},
   "outputs": [],
   "source": []
  },
  {
   "cell_type": "code",
   "execution_count": 2,
   "id": "3fbf1415-60ef-442f-8326-fe00a18ad125",
   "metadata": {},
   "outputs": [
    {
     "data": {
      "application/vnd.jupyter.widget-view+json": {
       "model_id": "6c6876683d0d41659d461fc265c13447",
       "version_major": 2,
       "version_minor": 0
      },
      "text/plain": [
       "Loading checkpoint shards:   0%|          | 0/3 [00:00<?, ?it/s]"
      ]
     },
     "metadata": {},
     "output_type": "display_data"
    }
   ],
   "source": [
    "model = AutoModelForCausalLM.from_pretrained(\"mistralai/Mistral-7B-Instruct-v0.2\",\n",
    "                                            load_in_8bit=True, \n",
    "                                            torch_dtype=torch.float16,\n",
    "                                            device_map='auto')\n",
    "\n",
    "\n",
    "tokenizer = AutoTokenizer.from_pretrained(\"mistralai/Mistral-7B-Instruct-v0.2\")"
   ]
  },
  {
   "cell_type": "code",
   "execution_count": null,
   "id": "9196bef9-77f1-4c97-8476-699ef0edb25e",
   "metadata": {},
   "outputs": [],
   "source": []
  },
  {
   "cell_type": "code",
   "execution_count": null,
   "id": "3a0ca7a3-4811-47d5-a9ce-3474cf78539c",
   "metadata": {},
   "outputs": [],
   "source": []
  },
  {
   "cell_type": "code",
   "execution_count": null,
   "id": "99ea7052-ee2c-4a49-a46e-0102f33845ea",
   "metadata": {},
   "outputs": [],
   "source": []
  },
  {
   "cell_type": "code",
   "execution_count": 3,
   "id": "358dcc46-b7f5-4890-9251-76ab2eac00b0",
   "metadata": {},
   "outputs": [],
   "source": [
    "messages = [\n",
    "    {\"role\": \"user\", \"content\": \"What is your favourite condiment?\"},\n",
    "    {\"role\": \"assistant\", \"content\": \"Well, I'm quite partial to a good squeeze of fresh lemon juice. It adds just the right amount of zesty flavour to whatever I'm cooking up in the kitchen!\"},\n",
    "    {\"role\": \"user\", \"content\": \"Do you have mayonnaise recipes?\"}\n",
    "]\n",
    "\n",
    "encodeds = tokenizer.apply_chat_template(messages, return_tensors=\"pt\")\n",
    "\n",
    "model_inputs = encodeds.to(device)\n",
    "# model.to(device)"
   ]
  },
  {
   "cell_type": "code",
   "execution_count": null,
   "id": "b16eb11b-4aaf-41fb-8091-d1c9a745f6a7",
   "metadata": {},
   "outputs": [],
   "source": []
  },
  {
   "cell_type": "code",
   "execution_count": null,
   "id": "5a229816-c584-49bf-96d5-44689f0a2dda",
   "metadata": {},
   "outputs": [],
   "source": []
  },
  {
   "cell_type": "code",
   "execution_count": null,
   "id": "316b3a66-b6dd-4a2a-8c3e-1166f5a78e83",
   "metadata": {},
   "outputs": [],
   "source": []
  },
  {
   "cell_type": "code",
   "execution_count": null,
   "id": "613660dd-b2c3-4461-ba4f-9fad1f69d718",
   "metadata": {},
   "outputs": [],
   "source": []
  },
  {
   "cell_type": "code",
   "execution_count": 4,
   "id": "2ef46b2e-9ccb-42fc-bf7b-dff738424baf",
   "metadata": {},
   "outputs": [
    {
     "name": "stderr",
     "output_type": "stream",
     "text": [
      "The attention mask and the pad token id were not set. As a consequence, you may observe unexpected behavior. Please pass your input's `attention_mask` to obtain reliable results.\n",
      "Setting `pad_token_id` to `eos_token_id`:2 for open-end generation.\n"
     ]
    },
    {
     "name": "stdout",
     "output_type": "stream",
     "text": [
      "<s> [INST] What is your favourite condiment? [/INST]Well, I'm quite partial to a good squeeze of fresh lemon juice. It adds just the right amount of zesty flavour to whatever I'm cooking up in the kitchen!</s> [INST] Do you have mayonnaise recipes? [/INST] Yes, I do! Here's a simple yet delicious homemade mayonnaise recipe:\n",
      "\n",
      "Ingredients:\n",
      "- 1 egg yolk\n",
      "- 1 teaspoon Dijon mustard\n",
      "- 1 cup vegetable oil\n",
      "- 2 tablespoons white wine vinegar or fresh lemon juice\n",
      "- Salt to taste\n",
      "\n",
      "Instructions:\n",
      "1. In a medium bowl, whisk together the egg yolk and mustard.\n",
      "2. Drizzle in the oil very slowly, while constantly whisking, until all the oil is incorporated and the mayonnaise thickens.\n",
      "3. Add the vinegar or lemon juice and whisk until the mixture emulsifies.\n",
      "4. Season with salt to taste.\n",
      "\n",
      "Note: It is important to add the oil very slowly and whisk constantly, to ensure that the oil gets emulsified into the egg yolk instead of forming into large droplets, otherwise the mayonnaise might not turn out as thick and creamy. If you are concerned about using raw eggs, you can use pasteurized eggs or use a different method such as an immersion blender.</s>\n",
      "Time taken 48.8536581993103\n"
     ]
    }
   ],
   "source": [
    "start_time = time.time()\n",
    "generated_ids = model.generate(model_inputs, max_new_tokens=1000, do_sample=True)\n",
    "decoded = tokenizer.batch_decode(generated_ids)\n",
    "print(decoded[0])\n",
    "print(f'Time taken {time.time()-start_time}')"
   ]
  },
  {
   "cell_type": "code",
   "execution_count": null,
   "id": "e07294a8-2615-48a6-8522-a3fbd6be366f",
   "metadata": {},
   "outputs": [],
   "source": []
  },
  {
   "cell_type": "code",
   "execution_count": null,
   "id": "32ac0893-bda1-4659-803e-ec813afce70a",
   "metadata": {},
   "outputs": [],
   "source": []
  },
  {
   "cell_type": "code",
   "execution_count": 19,
   "id": "b7577eec-ddb1-4fde-b13a-eaa08a980140",
   "metadata": {},
   "outputs": [
    {
     "name": "stderr",
     "output_type": "stream",
     "text": [
      "100%|████████████████████████████████████████████████████████████████████████████████████████████████████████████████████████████████████████| 1/1 [00:00<00:00, 52.00it/s]\n",
      "100%|█████████████████████████████████████████████████████████████████████████████████████████████████████████████████████████████████████| 1/1 [00:00<00:00, 15477.14it/s]\n"
     ]
    }
   ],
   "source": [
    "es_output = get_user_info(2669146)\n",
    "try:\n",
    "    res_text = es_output['resume'][0]\n",
    "except Exception as e:\n",
    "    pass"
   ]
  },
  {
   "cell_type": "code",
   "execution_count": null,
   "id": "9858146d-6845-4233-a90a-37800ffc8719",
   "metadata": {},
   "outputs": [],
   "source": []
  },
  {
   "cell_type": "code",
   "execution_count": 27,
   "id": "20041176-73fd-45a8-9927-afa525fc56f4",
   "metadata": {},
   "outputs": [],
   "source": [
    "jt = \"Assistant Manager - Tax & Regulatory Services (3-4 yrs)\"\n",
    "rt = html.unescape(res_text)"
   ]
  },
  {
   "cell_type": "code",
   "execution_count": null,
   "id": "bc2a7d0a-6fdf-4708-a1a7-9084ac7530a2",
   "metadata": {},
   "outputs": [],
   "source": []
  },
  {
   "cell_type": "code",
   "execution_count": 52,
   "id": "7328e745-3004-47e8-8e7c-debe595d2a4a",
   "metadata": {},
   "outputs": [],
   "source": [
    "input_prompt = f'''\n",
    "<s>[INST]You are an accurate AI agent working for a job platform. You will be given the raw \n",
    "unstructured text of a user's resume, and the title of a job that they have applied to. Your task \n",
    "is to check if the resume contains work experience relevant to the job title being provided.\n",
    "Respond with a JUST A SINGLE WORD answer \"yes\" or \"no\"[\\INST]\n",
    "This is the resume text:\\n{{resume_text}}\\n\n",
    "This is the job title {{job_title}}\\n\n",
    "[INST]The answer is [\\INST]: \n",
    "'''"
   ]
  },
  {
   "cell_type": "code",
   "execution_count": 53,
   "id": "4b5e1b64-c309-4d6e-b56e-323d42beeddd",
   "metadata": {},
   "outputs": [],
   "source": [
    "input_prompt = input_prompt.format(resume_text=res_text,\n",
    "                   job_title=jt)"
   ]
  },
  {
   "cell_type": "code",
   "execution_count": 54,
   "id": "b7a91d2f-1101-4a94-87f6-cb30bf6d5cad",
   "metadata": {},
   "outputs": [],
   "source": [
    "model_input = tokenizer(input_prompt, return_tensors=\"pt\").to(\"cuda\")"
   ]
  },
  {
   "cell_type": "code",
   "execution_count": 55,
   "id": "95f596fc-e165-4963-be6f-446ff24ee77d",
   "metadata": {},
   "outputs": [
    {
     "name": "stderr",
     "output_type": "stream",
     "text": [
      "Setting `pad_token_id` to `eos_token_id`:2 for open-end generation.\n"
     ]
    },
    {
     "name": "stdout",
     "output_type": "stream",
     "text": [
      "Time taken : 1.5987660884857178\n"
     ]
    }
   ],
   "source": [
    "start_time = time.time()\n",
    "model.eval()\n",
    "with torch.no_grad():\n",
    "    full_document = tokenizer.decode(model.generate(**model_input, max_new_tokens=32)[0], skip_special_tokens=True)\n",
    "\n",
    "print(f'Time taken : {time.time()-start_time}')"
   ]
  },
  {
   "cell_type": "code",
   "execution_count": null,
   "id": "55dc20ef-6a3d-40c0-8110-1ea72eb882d6",
   "metadata": {},
   "outputs": [],
   "source": []
  },
  {
   "cell_type": "code",
   "execution_count": 56,
   "id": "24e09e1c-c010-44ea-b70a-fa5129f82b22",
   "metadata": {},
   "outputs": [
    {
     "name": "stdout",
     "output_type": "stream",
     "text": [
      "\n",
      " [INST]You are an accurate AI agent working for a job platform. You will be given the raw \n",
      "unstructured text of a user's resume, and the title of a job that they have applied to. Your task \n",
      "is to check if the resume contains work experience relevant to the job title being provided.\n",
      "Respond with a JUST A SINGLE WORD answer \"yes\" or \"no\"[\\INST]\n",
      "This is the resume text:\n",
      "CURRICULAM-VITAE\n",
      "MOHIT PUNDEER\n",
      "Tel: - 9871506490, 8219496810\n",
      "Mail: -Mohitpundir73@gmail.com\n",
      "Mohitkasouli007@gmail.com\n",
      "Career Summary: -\n",
      "A professional having 10 years of experience in taxation and auditing across various industries skilled in Finance &amp;\n",
      "Taxation, reporting and assurance, looking forward to leverage knowledge and experience into a dynamic role in\n",
      "finance and taxation related information technologies in an organization of great repute.\n",
      "Personality Traits: -\n",
      "Exhibits strong initiative to ensure efficient and effective completion of task.\n",
      "Team player with good organizational skills, strong accounting and system knowledge.\n",
      "Uses initiatives to develop effective solution to problems\n",
      "Education And Qualification: -\n",
      "Master of Business Administration (MBA) from CCS University (2015)\n",
      "Bachelor of Law (LLB) From CCS University. (2022)\n",
      "Bachelor of Commerce (B.com) from CCS University (2013)\n",
      "12th\n",
      "passed from U.P Board. (2010)\n",
      "10th\n",
      "passed from U.P Board. (2008)\n",
      "Computer Literacy: -\n",
      "Well Knowledge of SAP FICCO MODULE\n",
      "Well Knowledge of Tally ERP 9\n",
      "Well Knowledge of ERP Navigate.\n",
      "Well Knowledge of MS-Word, MS Excel &amp; MS PowerPoint.\n",
      "Work Experience: -\n",
      "Finesse International Design Pvt Ltd. (Subsidiary of Aditya Birla Group)\n",
      "Manufacturing of all type of wears &amp; Fashion Retail.\n",
      "F-131 Sector 08, Noida Uttar Pradesh. 201301\n",
      "Work Period :- Dec 2020 to Present.\n",
      "Visual Technologies India Pvt Ltd.\n",
      "Manufacturing of all Type JVC Camera, Camera Installation &amp; Broadcasting.\n",
      "D-350 sector 63 Noida Uttar Pradesh.\n",
      "Work Period:- Jan Dec-18 to Nov-2020.\n",
      "Okaya Power Private Limited\n",
      "Manufacturing of All Types of Batteries\n",
      "D-7 Udyog Nagar Delhi-110041\n",
      "Work Period: - May 2015 to Dec 2018,\n",
      "Satendar.k.Gupta &amp; Associated.\n",
      "Work Period: - Aug 2013 to Feb 2015\n",
      "&quot;,&quot;Key Responsibilities Handled: -\n",
      " Performed GST related compliances such as health-checks, audits, returns, refunds and audit provision.\n",
      " Handled litigation assignments in GST and erstwhile law regime such as advance rulings, appeals,\n",
      "assessment proceedings of companies\n",
      " Litigation such as a drafting replay to letter /Show cause Notice from department, drafting appeals, closure\n",
      "under amnesty scheme, etc. under indirect tax law\n",
      " Experience in handling audits conducted by GST department and Service tax department.\n",
      " Experience in obtaining GST Refunds such as Exports with and without payments, SEZ with and without\n",
      "payments, Deemed Exports and others.\n",
      " Handled assignments for refund of Service Tax for clients. This involves preparation and review of extensive\n",
      "documents, hearing with tax authorities\n",
      " Handled migration and impact analysis of subsuming laws into GST\n",
      " Application for registration &amp; renewal under GST, Service Tax, PT, &amp; IEC\n",
      " Registration and renewal of IEC Certificate on DGFT\n",
      " Assistance in Setting up of Export Oriented Unit (EOU)\n",
      " Reviewing and filling of GST returns &amp; Form as a GST R-1, GSTR-3B, ITC 04 (Job work Return).\n",
      " Preparation GST Budgetary Support Refund, and Preparation and filing.\n",
      " Preparation annual GST return &amp; Audit Returns as a GST-R9 and GSTR-9C.\n",
      " Preparation GST Reconciliation with 2A &amp; 2B VS Books\n",
      " Reviewing contract and agreement to mitigate risk and suggesting appropriate amendment in clause form GST\n",
      "point of view on the GST implication.\n",
      " Preparation of E-Way bill Generate &amp; E invoice Generate.\n",
      " Sales Tax and Services Tax assessment Cases Resolved.\n",
      " Preparation TDS challan payment monthly Basic &amp; Quarterly return filling.\n",
      "Other Areas:-\n",
      " Accounting and preparation of Financial statements and closing activities.\n",
      " Computation and filling of statutory return under Income Tax, TDS, P.T,\n",
      " Income Tax Audit .\n",
      " Company statutory Audit.\n",
      " Stock &amp; Receivable audit.\n",
      " Vendor &amp; Customer Reconciliation\n",
      " Vendor payment process, Bank Recon, .\n",
      " Fund Position Daily Basis for payment purpose.\n",
      " Preparation for Budget.\n",
      " Analysis of various MIS Report and Reporting to CFO\n",
      " Maintain all day to day transaction on SAP with using T-code- ZREGISTER For Purchase Detail, ZS_STR_Sales, For Sale\n",
      "Summary, FBL1N For Vender Detail, FBL5N For Customer Detail, FBL3N For G/L Account.\n",
      "&quot;,&quot;PERSONAL DETAILS: -\n",
      "Fathers name - SH. JANESHWAR SINGH\n",
      "Date of birth - 15. AUG. 1993\n",
      "Gender - Male\n",
      "Marital status - Married\n",
      "Language known - Hindi &amp; English\n",
      "Contact Add. - Vill +Post -Kasoli\n",
      "Muzaffarnagar (Uttar Pradesh)\n",
      "Pin -251311.\n",
      "Present Staying Place: Noida\n",
      "Date: 22-06-2023. (MOHIT PUNDEER)\n",
      "\n",
      "\n",
      "This is the job title Assistant Manager - Tax & Regulatory Services (3-4 yrs)\n",
      "\n",
      "[INST]The answer is [\\INST]: \n",
      "\n",
      "yes.\n"
     ]
    }
   ],
   "source": [
    "print(full_document)"
   ]
  },
  {
   "cell_type": "code",
   "execution_count": null,
   "id": "63f94156-8e62-4272-abd4-04f632ba1fed",
   "metadata": {},
   "outputs": [],
   "source": []
  },
  {
   "cell_type": "code",
   "execution_count": null,
   "id": "2c061ad2-a8d8-40ba-8c6a-c0242f48f9b0",
   "metadata": {},
   "outputs": [],
   "source": []
  }
 ],
 "metadata": {
  "kernelspec": {
   "display_name": "Python 3 (ipykernel)",
   "language": "python",
   "name": "python3"
  },
  "language_info": {
   "codemirror_mode": {
    "name": "ipython",
    "version": 3
   },
   "file_extension": ".py",
   "mimetype": "text/x-python",
   "name": "python",
   "nbconvert_exporter": "python",
   "pygments_lexer": "ipython3",
   "version": "3.10.12"
  }
 },
 "nbformat": 4,
 "nbformat_minor": 5
}
