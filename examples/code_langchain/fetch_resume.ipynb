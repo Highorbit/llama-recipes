{
 "cells": [
  {
   "cell_type": "code",
   "execution_count": 1,
   "id": "abcae6be-83d5-409e-8889-e3060b278d51",
   "metadata": {},
   "outputs": [],
   "source": [
    "import pandas as pd\n",
    "import numpy as np\n",
    "import configparser\n",
    "import pymysql\n",
    "import requests\n",
    "import re\n",
    "from tqdm import tqdm\n",
    "import configparser\n",
    "import openai\n",
    "import os"
   ]
  },
  {
   "cell_type": "code",
   "execution_count": null,
   "id": "56b1e522-d2dc-450a-ac94-84f24155d8af",
   "metadata": {},
   "outputs": [],
   "source": []
  },
  {
   "cell_type": "code",
   "execution_count": 2,
   "id": "8fd3dc4c-364e-4911-a5a1-83c605b93126",
   "metadata": {},
   "outputs": [
    {
     "data": {
      "text/plain": [
       "['/home/ubuntu/infoedge/llama-recipes/examples/configs/config.ini']"
      ]
     },
     "execution_count": 2,
     "metadata": {},
     "output_type": "execute_result"
    }
   ],
   "source": [
    "config=configparser.ConfigParser()\n",
    "config.read('/home/ubuntu/infoedge/llama-recipes/examples/configs/config.ini')"
   ]
  },
  {
   "cell_type": "code",
   "execution_count": null,
   "id": "2a81cd19-28f1-4dcc-8bd1-d0ba726db55e",
   "metadata": {},
   "outputs": [],
   "source": []
  },
  {
   "cell_type": "code",
   "execution_count": 41,
   "id": "4789cc88-7e69-4d6f-828e-75f15174e61a",
   "metadata": {},
   "outputs": [],
   "source": [
    "mydb= pymysql.connect(\n",
    "host=config['iimjobs_db']['hostname'],\n",
    "user=config['iimjobs_db']['username'],\n",
    "password=config['iimjobs_db']['password'],\n",
    "db=config['iimjobs_db']['db_name']\n",
    ")\n",
    "\n",
    "mycursor = mydb.cursor()"
   ]
  },
  {
   "cell_type": "code",
   "execution_count": 49,
   "id": "e505e43c-532f-4a33-8604-e673e585556b",
   "metadata": {},
   "outputs": [],
   "source": [
    "mycursor = mydb.cursor()\n",
    "\n",
    " \n",
    "query = \"SELECT id FROM profile_info WHERE last_active_date > '2023-12-12' ORDER BY last_active_date DESC limit 300\"\n",
    "\n",
    " \n",
    "\n",
    "mycursor.execute(query)\n",
    "\n",
    "result = mycursor.fetchall()\n"
   ]
  },
  {
   "cell_type": "code",
   "execution_count": 50,
   "id": "8309bc29-0071-42b1-bbf0-d261dd61e279",
   "metadata": {},
   "outputs": [],
   "source": [
    "udf = pd.DataFrame(result,columns=['userid'])"
   ]
  },
  {
   "cell_type": "code",
   "execution_count": 51,
   "id": "c2e03a31-52e9-4a0d-9f8a-4d1ccb34f488",
   "metadata": {},
   "outputs": [],
   "source": [
    "uid_list = list(udf.userid)"
   ]
  },
  {
   "cell_type": "code",
   "execution_count": 52,
   "id": "eef19832-969e-4574-bd9a-ef3e08576184",
   "metadata": {},
   "outputs": [],
   "source": [
    "# uid_list"
   ]
  },
  {
   "cell_type": "code",
   "execution_count": null,
   "id": "f4959877-1559-4d18-8223-1b0575e4fcc3",
   "metadata": {},
   "outputs": [],
   "source": []
  },
  {
   "cell_type": "code",
   "execution_count": 56,
   "id": "70f2f3d0-8683-4b15-8c0e-37b4606850c8",
   "metadata": {},
   "outputs": [],
   "source": [
    "def clean_space(text):\n",
    "    return \" \".join(re.split(\"\\s+\", text, flags=re.UNICODE))\n",
    "\n",
    "def remove_extra_spaces(input_string):\n",
    "    # Use regular expression to remove extra spaces (only spaces)\n",
    "    cleaned_string = re.sub(r' +', ' ', input_string)\n",
    "    return cleaned_string\n",
    "     \n",
    "\n",
    "def get_user_data_search_embed(user_id_list):\n",
    "    \n",
    "    '''\n",
    "    This function combines all the functions for fetching and processing \n",
    "    user data from elastic search\n",
    "    '''\n",
    "\n",
    "\n",
    "    sub_json = fetch_data_es(user_id_list)\n",
    "    raw_data = construct_user_data_search_embed(sub_json)\n",
    "\n",
    "    res_df = pd.DataFrame.from_dict(raw_data, orient='index').T\n",
    "    result_df = res_df.astype(str).replace(\"None\", \" \")\n",
    "    \n",
    "    result_df['resume'] = result_df['resume'].apply(remove_extra_spaces)\n",
    "\n",
    "    return result_df\n",
    "\n",
    "def fetch_data_es(user_id_list):\n",
    "    \n",
    "    \"\"\"\n",
    "    Input : List of Valid Hirist User ID \n",
    "    Output : List of User Data JSON stored in Elastic Search\n",
    "    \"\"\"\n",
    "    \n",
    "    \n",
    "    response_json = []\n",
    "    replacements = {'null':'None', 'false':'False'}\n",
    "\n",
    "    url = \"http://10.208.230.226:8080/v1/recruiter/-123/applicant/search/searchById\"\n",
    "\n",
    "    res = []\n",
    "\n",
    "    for uid in tqdm(user_id_list):\n",
    "\n",
    "\n",
    "        payload = {\n",
    "            'usersToSearchFrom' : [str(uid)]\n",
    "        }\n",
    "\n",
    "        headers = {\n",
    "        'Content-Type': 'application/json'\n",
    "        }\n",
    "\n",
    "        # try:\n",
    "        response = requests.request(\"POST\", url, headers=headers, data = str(payload))\n",
    "        response_json = response.json()\n",
    "\n",
    "        res.append(response_json['docs']) \n",
    "\n",
    "        # except Exception as e:\n",
    "        #     continue\n",
    "        \n",
    "    return res\n",
    "\n",
    "\n",
    "\n",
    "def construct_user_data_search_embed(user_json):\n",
    "    '''\n",
    "    This is a function for fetching user ID, Keywords (in the form of tags) and \n",
    "    user designation from elastic search. This is specifically made for creating \n",
    "    user embeddings for our Recruiter search model/POC\n",
    "    '''\n",
    "    \n",
    "    user_dict = {\n",
    "        'id' : [],\n",
    "        'resume' : []\n",
    "    }\n",
    "\n",
    "    for s in tqdm(user_json):\n",
    "\n",
    "        try:\n",
    "            source = s[0]\n",
    "\n",
    "            user_dict['id'].append(source['id'])\n",
    "            user_dict['resume'].append(clean_space(source['resumeText']))\n",
    "\n",
    "        except Exception as e:\n",
    "            continue\n",
    "\n",
    "    return user_dict"
   ]
  },
  {
   "cell_type": "code",
   "execution_count": 57,
   "id": "5ed15995-f67d-4171-bcd7-92bafef88afb",
   "metadata": {},
   "outputs": [
    {
     "name": "stderr",
     "output_type": "stream",
     "text": [
      "100%|█████████████████████████████████████████████████████████████████████████████████████████████████████████████████████████████████████| 300/300 [00:02<00:00, 149.77it/s]\n",
      "100%|████████████████████████████████████████████████████████████████████████████████████████████████████████████████████████████████████| 300/300 [00:00<00:00, 4345.66it/s]\n"
     ]
    }
   ],
   "source": [
    "\n",
    "user_df = get_user_data_search_embed(uid_list)"
   ]
  },
  {
   "cell_type": "code",
   "execution_count": 59,
   "id": "d37bd103-bff8-4e15-924d-abb5a89e5d28",
   "metadata": {},
   "outputs": [],
   "source": [
    "u1 = user_df.sample(5)"
   ]
  },
  {
   "cell_type": "code",
   "execution_count": 60,
   "id": "0a420d73-d9d8-4084-b731-59bd127f7beb",
   "metadata": {},
   "outputs": [
    {
     "data": {
      "text/html": [
       "<div>\n",
       "<style scoped>\n",
       "    .dataframe tbody tr th:only-of-type {\n",
       "        vertical-align: middle;\n",
       "    }\n",
       "\n",
       "    .dataframe tbody tr th {\n",
       "        vertical-align: top;\n",
       "    }\n",
       "\n",
       "    .dataframe thead th {\n",
       "        text-align: right;\n",
       "    }\n",
       "</style>\n",
       "<table border=\"1\" class=\"dataframe\">\n",
       "  <thead>\n",
       "    <tr style=\"text-align: right;\">\n",
       "      <th></th>\n",
       "      <th>id</th>\n",
       "      <th>resume</th>\n",
       "    </tr>\n",
       "  </thead>\n",
       "  <tbody>\n",
       "    <tr>\n",
       "      <th>275</th>\n",
       "      <td>1387129</td>\n",
       "      <td>N/A N/A Aditya Dasgupta Navi Mumbai, Maharasht...</td>\n",
       "    </tr>\n",
       "    <tr>\n",
       "      <th>197</th>\n",
       "      <td>1158130</td>\n",
       "      <td>Vikas Sharma M: 91-881-052-2453 E mail: tantru...</td>\n",
       "    </tr>\n",
       "    <tr>\n",
       "      <th>216</th>\n",
       "      <td>2389344</td>\n",
       "      <td>Rajdeep Kaur Issar Mobile: +91-9818094213 E-ma...</td>\n",
       "    </tr>\n",
       "    <tr>\n",
       "      <th>143</th>\n",
       "      <td>2784268</td>\n",
       "      <td>Narinder Singh Address: H.No.65, Anand Vihar, ...</td>\n",
       "    </tr>\n",
       "    <tr>\n",
       "      <th>125</th>\n",
       "      <td>2674593</td>\n",
       "      <td>WORK EXPERIENCE Process Excellence Medkart Pha...</td>\n",
       "    </tr>\n",
       "  </tbody>\n",
       "</table>\n",
       "</div>"
      ],
      "text/plain": [
       "          id                                             resume\n",
       "275  1387129  N/A N/A Aditya Dasgupta Navi Mumbai, Maharasht...\n",
       "197  1158130  Vikas Sharma M: 91-881-052-2453 E mail: tantru...\n",
       "216  2389344  Rajdeep Kaur Issar Mobile: +91-9818094213 E-ma...\n",
       "143  2784268  Narinder Singh Address: H.No.65, Anand Vihar, ...\n",
       "125  2674593  WORK EXPERIENCE Process Excellence Medkart Pha..."
      ]
     },
     "execution_count": 60,
     "metadata": {},
     "output_type": "execute_result"
    }
   ],
   "source": [
    "u1"
   ]
  },
  {
   "cell_type": "code",
   "execution_count": 67,
   "id": "d9f0096a-8b0b-4eee-8499-1db2d2803c55",
   "metadata": {},
   "outputs": [
    {
     "name": "stderr",
     "output_type": "stream",
     "text": [
      "284it [00:00, 7643.87it/s]"
     ]
    },
    {
     "name": "stdout",
     "output_type": "stream",
     "text": [
      "Files saved successfully.\n"
     ]
    },
    {
     "name": "stderr",
     "output_type": "stream",
     "text": [
      "\n"
     ]
    }
   ],
   "source": [
    "# /home/ubuntu/infoedge/llama-recipes/examples/custom_data/user_resume_data/\n",
    "\n",
    "\n",
    "output_directory = '/home/ubuntu/infoedge/llama-recipes/examples/custom_data/user_resume_data/'\n",
    "\n",
    "for index, row in tqdm(user_df.iterrows()):\n",
    "    user_id = row['id']\n",
    "    resume_text = row['resume']\n",
    "\n",
    "    # Creating the filename\n",
    "    filename = f\"{output_directory}uid_{user_id}.txt\"\n",
    "\n",
    "    # Writing user id and resume text to the file\n",
    "    with open(filename, 'w', encoding='utf-8') as file:\n",
    "        file.write(f\"User ID: {user_id}\\n\")\n",
    "        file.write(resume_text)\n",
    "\n",
    "print(\"Files saved successfully.\")"
   ]
  },
  {
   "cell_type": "code",
   "execution_count": null,
   "id": "42ccebc6-b74c-47be-b61c-0dbdf5141fa3",
   "metadata": {},
   "outputs": [],
   "source": []
  },
  {
   "cell_type": "code",
   "execution_count": null,
   "id": "115b8f8c-4fe1-415c-aafe-414c0703b53c",
   "metadata": {},
   "outputs": [],
   "source": []
  },
  {
   "cell_type": "markdown",
   "id": "41adcb5b-abea-4059-b69c-e41306f5223e",
   "metadata": {},
   "source": [
    "## Direct RAG example"
   ]
  },
  {
   "cell_type": "code",
   "execution_count": 3,
   "id": "67534d9b-8f23-4cf7-a3a8-e15d7f789c53",
   "metadata": {},
   "outputs": [],
   "source": [
    "openai.api_key=config['key']['infoedge']\n",
    "\n"
   ]
  },
  {
   "cell_type": "code",
   "execution_count": 4,
   "id": "0054de75-09fb-4a94-966d-74f1b2c698d3",
   "metadata": {},
   "outputs": [],
   "source": [
    "os.environ['OPENAI_API_KEY'] = openai.api_key"
   ]
  },
  {
   "cell_type": "code",
   "execution_count": null,
   "id": "42ffa3d3-15f1-4b8b-90c0-651a0ca5681f",
   "metadata": {},
   "outputs": [],
   "source": []
  },
  {
   "cell_type": "code",
   "execution_count": 5,
   "id": "ee5892b3-3840-4ef8-b31c-4618845eb09e",
   "metadata": {},
   "outputs": [
    {
     "data": {
      "text/plain": [
       "' The career objective of a relationship manager is to pursue an ambitious career in an organization where there are ample learning opportunities, upward mobility, exposure to innovation, and motivation. They aim to exhibit their resourcefulness in both technical and organizational skills and to take on challenging roles in key account management, travel and expense management solutions, and relationship management.'"
      ]
     },
     "execution_count": 5,
     "metadata": {},
     "output_type": "execute_result"
    }
   ],
   "source": [
    "from langchain.indexes import VectorstoreIndexCreator\n",
    "from langchain.document_loaders import TextLoader\n",
    "\n",
    "\n",
    "loader = TextLoader(\"/home/ubuntu/infoedge/llama-recipes/examples/custom_data/user_resume_data/uid_1103243.txt\")\n",
    "index = VectorstoreIndexCreator().from_loaders([loader])\n",
    "index.query(\"What are relationship manager career objectives\")"
   ]
  },
  {
   "cell_type": "code",
   "execution_count": null,
   "id": "3c2bea6d-dcd4-4f09-a937-fb113ba6e51f",
   "metadata": {},
   "outputs": [],
   "source": []
  }
 ],
 "metadata": {
  "kernelspec": {
   "display_name": "Python 3 (ipykernel)",
   "language": "python",
   "name": "python3"
  },
  "language_info": {
   "codemirror_mode": {
    "name": "ipython",
    "version": 3
   },
   "file_extension": ".py",
   "mimetype": "text/x-python",
   "name": "python",
   "nbconvert_exporter": "python",
   "pygments_lexer": "ipython3",
   "version": "3.10.12"
  }
 },
 "nbformat": 4,
 "nbformat_minor": 5
}
