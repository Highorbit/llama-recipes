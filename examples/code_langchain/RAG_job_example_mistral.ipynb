{
 "cells": [
  {
   "cell_type": "code",
   "execution_count": 1,
   "id": "a346f05c-191d-47f7-a6dc-2196c1b7538f",
   "metadata": {},
   "outputs": [],
   "source": [
    "import pandas as pd\n",
    "import numpy as np\n",
    "import configparser\n",
    "import pymysql\n",
    "import requests\n",
    "import re\n",
    "from tqdm import tqdm\n",
    "import configparser\n",
    "import openai\n",
    "import os\n",
    "import json"
   ]
  },
  {
   "cell_type": "code",
   "execution_count": 2,
   "id": "b5008839-9c84-4b8f-b896-bff4c22c103d",
   "metadata": {},
   "outputs": [
    {
     "data": {
      "text/plain": [
       "['/home/ubuntu/infoedge/llama-recipes/examples/configs/config.ini']"
      ]
     },
     "execution_count": 2,
     "metadata": {},
     "output_type": "execute_result"
    }
   ],
   "source": [
    "config=configparser.ConfigParser()\n",
    "config.read('/home/ubuntu/infoedge/llama-recipes/examples/configs/config.ini')"
   ]
  },
  {
   "cell_type": "code",
   "execution_count": 3,
   "id": "6dde4dc5-2250-4731-af44-69074a4c0390",
   "metadata": {},
   "outputs": [],
   "source": [
    "mydb= pymysql.connect(\n",
    "host=config['iimjobs_db']['hostname'],\n",
    "user=config['iimjobs_db']['username'],\n",
    "password=config['iimjobs_db']['password'],\n",
    "db=config['iimjobs_db']['db_name']\n",
    ")\n",
    "\n",
    "mycursor = mydb.cursor()"
   ]
  },
  {
   "cell_type": "code",
   "execution_count": 4,
   "id": "cee48b15-3296-499e-a8e1-e218a3ebf3c9",
   "metadata": {},
   "outputs": [],
   "source": [
    "# mycursor = mydb.cursor()\n",
    "\n",
    " \n",
    "query = \"SELECT userid from usr_applied_jobs_info where jobid=1374896\"\n",
    "\n",
    " # 1372184\n",
    "\n",
    "mycursor.execute(query)\n",
    "\n",
    "result = mycursor.fetchall()\n"
   ]
  },
  {
   "cell_type": "code",
   "execution_count": 5,
   "id": "0193ffce-57d6-4826-a81a-3317b665f17c",
   "metadata": {},
   "outputs": [],
   "source": [
    "udf = pd.DataFrame(result,columns=['userid'])"
   ]
  },
  {
   "cell_type": "code",
   "execution_count": 6,
   "id": "2e44e2da-3fa2-4261-996d-15093d16c21d",
   "metadata": {},
   "outputs": [],
   "source": [
    "uid_list = udf.userid.values"
   ]
  },
  {
   "cell_type": "code",
   "execution_count": 7,
   "id": "5ed54f5d-bed2-47ef-9393-f151a6a776d1",
   "metadata": {},
   "outputs": [
    {
     "data": {
      "text/plain": [
       "array([1286631, 2284789, 2499355, ..., 2410347, 2358390, 2349233])"
      ]
     },
     "execution_count": 7,
     "metadata": {},
     "output_type": "execute_result"
    }
   ],
   "source": [
    "uid_list"
   ]
  },
  {
   "cell_type": "code",
   "execution_count": 8,
   "id": "dbe02b04-8499-46cb-ac61-e499683d4baa",
   "metadata": {},
   "outputs": [],
   "source": [
    "from user_info import *"
   ]
  },
  {
   "cell_type": "code",
   "execution_count": 9,
   "id": "9d6809fe-6891-441b-8bc5-970bbfcb4b55",
   "metadata": {},
   "outputs": [
    {
     "name": "stderr",
     "output_type": "stream",
     "text": [
      "100%|█████████████████████████████████████████████████████████████████████████████████████████████████████████████████████████████████| 1129/1129 [00:08<00:00, 128.13it/s]\n",
      "100%|███████████████████████████████████████████████████████████████████████████████████████████████████████████████████████████████| 1129/1129 [00:00<00:00, 94608.99it/s]\n"
     ]
    }
   ],
   "source": [
    "df = get_user_data_search_embed(uid_list)"
   ]
  },
  {
   "cell_type": "code",
   "execution_count": 10,
   "id": "b0a5f2c4-838e-4ae0-bc36-da6317a9d94f",
   "metadata": {},
   "outputs": [
    {
     "data": {
      "text/html": [
       "<div>\n",
       "<style scoped>\n",
       "    .dataframe tbody tr th:only-of-type {\n",
       "        vertical-align: middle;\n",
       "    }\n",
       "\n",
       "    .dataframe tbody tr th {\n",
       "        vertical-align: top;\n",
       "    }\n",
       "\n",
       "    .dataframe thead th {\n",
       "        text-align: right;\n",
       "    }\n",
       "</style>\n",
       "<table border=\"1\" class=\"dataframe\">\n",
       "  <thead>\n",
       "    <tr style=\"text-align: right;\">\n",
       "      <th></th>\n",
       "      <th>id</th>\n",
       "      <th>resume</th>\n",
       "      <th>keywords</th>\n",
       "      <th>current_designation</th>\n",
       "      <th>user_experience</th>\n",
       "      <th>professional_info</th>\n",
       "      <th>education_info</th>\n",
       "    </tr>\n",
       "  </thead>\n",
       "  <tbody>\n",
       "    <tr>\n",
       "      <th>398</th>\n",
       "      <td>2642122</td>\n",
       "      <td>ASHOK KUMAR NAMACHIVAYAM\\n+91 9566095310, +91 ...</td>\n",
       "      <td>Analysis Machine_Learning Python Data_Visualiz...</td>\n",
       "      <td>Data Scientist &amp; Machine learning intern</td>\n",
       "      <td>5</td>\n",
       "      <td>[{'id': 3991437, 'userId': None, 'designation'...</td>\n",
       "      <td>[{'id': 97538045, 'userId': 2642122, 'institut...</td>\n",
       "    </tr>\n",
       "    <tr>\n",
       "      <th>3</th>\n",
       "      <td>2503379</td>\n",
       "      <td>Soubhagya Soubhagya Kumar Sahoo\\nBhubaneswar, ...</td>\n",
       "      <td>Analysis RISK Tableau XGBoost Risk_Management ...</td>\n",
       "      <td>Data Analyst</td>\n",
       "      <td>0</td>\n",
       "      <td>[{'id': 3768690, 'userId': None, 'designation'...</td>\n",
       "      <td>[{'id': 97381002, 'userId': 2503379, 'institut...</td>\n",
       "    </tr>\n",
       "    <tr>\n",
       "      <th>858</th>\n",
       "      <td>2665012</td>\n",
       "      <td>AKSHAY JAIN akshayjn10@gmail.com\\n+91 84410785...</td>\n",
       "      <td>Client Designing Financial Analysis Marketing ...</td>\n",
       "      <td></td>\n",
       "      <td>0</td>\n",
       "      <td>[]</td>\n",
       "      <td>[{'id': 97563870, 'userId': 2665012, 'institut...</td>\n",
       "    </tr>\n",
       "    <tr>\n",
       "      <th>361</th>\n",
       "      <td>2662556</td>\n",
       "      <td>Certified Data scientist with 6 years f T expe...</td>\n",
       "      <td>Credit Analysis Scientist Data_Scientist Secur...</td>\n",
       "      <td>Rubixe intership</td>\n",
       "      <td>6</td>\n",
       "      <td>[{'id': 4030820, 'userId': None, 'designation'...</td>\n",
       "      <td>[{'id': 97566662, 'userId': 2662556, 'institut...</td>\n",
       "    </tr>\n",
       "    <tr>\n",
       "      <th>518</th>\n",
       "      <td>2714406</td>\n",
       "      <td>Raunak Gupta\\n+91 82904 24358 | raunakgupta242...</td>\n",
       "      <td>Analysis Sales Excel Matplotlib BI GIT Data_En...</td>\n",
       "      <td>Data Analyst Intern</td>\n",
       "      <td>0</td>\n",
       "      <td>[{'id': 4191569, 'userId': None, 'designation'...</td>\n",
       "      <td>[{'id': 97633627, 'userId': 2714406, 'institut...</td>\n",
       "    </tr>\n",
       "  </tbody>\n",
       "</table>\n",
       "</div>"
      ],
      "text/plain": [
       "          id                                             resume  \\\n",
       "398  2642122  ASHOK KUMAR NAMACHIVAYAM\\n+91 9566095310, +91 ...   \n",
       "3    2503379  Soubhagya Soubhagya Kumar Sahoo\\nBhubaneswar, ...   \n",
       "858  2665012  AKSHAY JAIN akshayjn10@gmail.com\\n+91 84410785...   \n",
       "361  2662556  Certified Data scientist with 6 years f T expe...   \n",
       "518  2714406  Raunak Gupta\\n+91 82904 24358 | raunakgupta242...   \n",
       "\n",
       "                                              keywords  \\\n",
       "398  Analysis Machine_Learning Python Data_Visualiz...   \n",
       "3    Analysis RISK Tableau XGBoost Risk_Management ...   \n",
       "858  Client Designing Financial Analysis Marketing ...   \n",
       "361  Credit Analysis Scientist Data_Scientist Secur...   \n",
       "518  Analysis Sales Excel Matplotlib BI GIT Data_En...   \n",
       "\n",
       "                          current_designation user_experience  \\\n",
       "398  Data Scientist & Machine learning intern               5   \n",
       "3                                Data Analyst               0   \n",
       "858                                                         0   \n",
       "361                          Rubixe intership               6   \n",
       "518                       Data Analyst Intern               0   \n",
       "\n",
       "                                     professional_info  \\\n",
       "398  [{'id': 3991437, 'userId': None, 'designation'...   \n",
       "3    [{'id': 3768690, 'userId': None, 'designation'...   \n",
       "858                                                 []   \n",
       "361  [{'id': 4030820, 'userId': None, 'designation'...   \n",
       "518  [{'id': 4191569, 'userId': None, 'designation'...   \n",
       "\n",
       "                                        education_info  \n",
       "398  [{'id': 97538045, 'userId': 2642122, 'institut...  \n",
       "3    [{'id': 97381002, 'userId': 2503379, 'institut...  \n",
       "858  [{'id': 97563870, 'userId': 2665012, 'institut...  \n",
       "361  [{'id': 97566662, 'userId': 2662556, 'institut...  \n",
       "518  [{'id': 97633627, 'userId': 2714406, 'institut...  "
      ]
     },
     "execution_count": 10,
     "metadata": {},
     "output_type": "execute_result"
    }
   ],
   "source": [
    "df.sample(5)"
   ]
  },
  {
   "cell_type": "code",
   "execution_count": 11,
   "id": "f20eaf48-3497-491a-9395-d00157d662af",
   "metadata": {},
   "outputs": [],
   "source": [
    "# df[['id','resume']].sample(10).values"
   ]
  },
  {
   "cell_type": "code",
   "execution_count": 12,
   "id": "dc3b25f4-5190-4993-9caa-1a474306b855",
   "metadata": {},
   "outputs": [],
   "source": [
    "# df"
   ]
  },
  {
   "cell_type": "code",
   "execution_count": 13,
   "id": "499c3af1-652e-441a-a4e3-3d5a2db46eb2",
   "metadata": {},
   "outputs": [],
   "source": [
    "df['resume']=df['resume'].str.lower()\n",
    "df['current_designation']=df['current_designation'].str.lower()"
   ]
  },
  {
   "cell_type": "code",
   "execution_count": 14,
   "id": "f9f6a4d4-e084-47ab-a7de-d8dd44b32547",
   "metadata": {},
   "outputs": [
    {
     "data": {
      "text/html": [
       "<div>\n",
       "<style scoped>\n",
       "    .dataframe tbody tr th:only-of-type {\n",
       "        vertical-align: middle;\n",
       "    }\n",
       "\n",
       "    .dataframe tbody tr th {\n",
       "        vertical-align: top;\n",
       "    }\n",
       "\n",
       "    .dataframe thead th {\n",
       "        text-align: right;\n",
       "    }\n",
       "</style>\n",
       "<table border=\"1\" class=\"dataframe\">\n",
       "  <thead>\n",
       "    <tr style=\"text-align: right;\">\n",
       "      <th></th>\n",
       "      <th>id</th>\n",
       "      <th>resume</th>\n",
       "      <th>keywords</th>\n",
       "      <th>current_designation</th>\n",
       "      <th>user_experience</th>\n",
       "      <th>professional_info</th>\n",
       "      <th>education_info</th>\n",
       "    </tr>\n",
       "  </thead>\n",
       "  <tbody>\n",
       "    <tr>\n",
       "      <th>1070</th>\n",
       "      <td>2646114</td>\n",
       "      <td>positions of responsibility\\nmale,23\\n98775330...</td>\n",
       "      <td>Analytics BI Power_BI Client Profitability Rep...</td>\n",
       "      <td>consultant</td>\n",
       "      <td>3</td>\n",
       "      <td>[{'id': 3997672, 'userId': None, 'designation'...</td>\n",
       "      <td>[{'id': 97542534, 'userId': 2646114, 'institut...</td>\n",
       "    </tr>\n",
       "    <tr>\n",
       "      <th>196</th>\n",
       "      <td>2582415</td>\n",
       "      <td>phone\\n7976386296\\naddress\\ngurgaon, haryana ,...</td>\n",
       "      <td>Client Analytics Data_Quality Retention SAAS C...</td>\n",
       "      <td>software development engineer - 1</td>\n",
       "      <td>2</td>\n",
       "      <td>[{'id': 3902730, 'userId': None, 'designation'...</td>\n",
       "      <td>[{'id': 97472032, 'userId': 2582415, 'institut...</td>\n",
       "    </tr>\n",
       "    <tr>\n",
       "      <th>911</th>\n",
       "      <td>2476738</td>\n",
       "      <td>yavatmal, india 445001\\n7741897567\\nkazitariqu...</td>\n",
       "      <td>Analysis Visualization Data_Analysis Journal S...</td>\n",
       "      <td>business analyst</td>\n",
       "      <td>0</td>\n",
       "      <td>[{'id': 3736931, 'userId': None, 'designation'...</td>\n",
       "      <td>[{'id': 97359438, 'userId': 2476738, 'institut...</td>\n",
       "    </tr>\n",
       "    <tr>\n",
       "      <th>870</th>\n",
       "      <td>2259279</td>\n",
       "      <td>akash dharmale\\ndob: 25/02/1996 | e-mail: dhar...</td>\n",
       "      <td>Research Investment Financial Engineering Stoc...</td>\n",
       "      <td>business research associate</td>\n",
       "      <td>0</td>\n",
       "      <td>[{'id': 3387256, 'userId': None, 'designation'...</td>\n",
       "      <td>[{'id': 94745361, 'userId': 2259279, 'institut...</td>\n",
       "    </tr>\n",
       "    <tr>\n",
       "      <th>999</th>\n",
       "      <td>2623175</td>\n",
       "      <td>education\\nyear degree/examination institution...</td>\n",
       "      <td>Strategy Real_Estate Research Analysis Consult...</td>\n",
       "      <td></td>\n",
       "      <td>0</td>\n",
       "      <td>[]</td>\n",
       "      <td>[{'id': 97517001, 'userId': 2623175, 'institut...</td>\n",
       "    </tr>\n",
       "  </tbody>\n",
       "</table>\n",
       "</div>"
      ],
      "text/plain": [
       "           id                                             resume  \\\n",
       "1070  2646114  positions of responsibility\\nmale,23\\n98775330...   \n",
       "196   2582415  phone\\n7976386296\\naddress\\ngurgaon, haryana ,...   \n",
       "911   2476738  yavatmal, india 445001\\n7741897567\\nkazitariqu...   \n",
       "870   2259279  akash dharmale\\ndob: 25/02/1996 | e-mail: dhar...   \n",
       "999   2623175  education\\nyear degree/examination institution...   \n",
       "\n",
       "                                               keywords  \\\n",
       "1070  Analytics BI Power_BI Client Profitability Rep...   \n",
       "196   Client Analytics Data_Quality Retention SAAS C...   \n",
       "911   Analysis Visualization Data_Analysis Journal S...   \n",
       "870   Research Investment Financial Engineering Stoc...   \n",
       "999   Strategy Real_Estate Research Analysis Consult...   \n",
       "\n",
       "                    current_designation user_experience  \\\n",
       "1070                         consultant               3   \n",
       "196   software development engineer - 1               2   \n",
       "911                    business analyst               0   \n",
       "870         business research associate               0   \n",
       "999                                                   0   \n",
       "\n",
       "                                      professional_info  \\\n",
       "1070  [{'id': 3997672, 'userId': None, 'designation'...   \n",
       "196   [{'id': 3902730, 'userId': None, 'designation'...   \n",
       "911   [{'id': 3736931, 'userId': None, 'designation'...   \n",
       "870   [{'id': 3387256, 'userId': None, 'designation'...   \n",
       "999                                                  []   \n",
       "\n",
       "                                         education_info  \n",
       "1070  [{'id': 97542534, 'userId': 2646114, 'institut...  \n",
       "196   [{'id': 97472032, 'userId': 2582415, 'institut...  \n",
       "911   [{'id': 97359438, 'userId': 2476738, 'institut...  \n",
       "870   [{'id': 94745361, 'userId': 2259279, 'institut...  \n",
       "999   [{'id': 97517001, 'userId': 2623175, 'institut...  "
      ]
     },
     "execution_count": 14,
     "metadata": {},
     "output_type": "execute_result"
    }
   ],
   "source": [
    "df.sample(5)"
   ]
  },
  {
   "cell_type": "code",
   "execution_count": 15,
   "id": "f0e7424c-7b71-4afa-bc01-8d00b1755c49",
   "metadata": {},
   "outputs": [],
   "source": [
    "df1= df[['id','current_designation','user_experience','resume']]"
   ]
  },
  {
   "cell_type": "code",
   "execution_count": 16,
   "id": "5295c3ba-ff7c-4b14-8a78-a974790c3f8b",
   "metadata": {},
   "outputs": [],
   "source": [
    "# df1['resume']=df1['resume'].str.lower()"
   ]
  },
  {
   "cell_type": "code",
   "execution_count": 17,
   "id": "c7f7f4b5-811c-40ec-950d-7ec286a75a03",
   "metadata": {},
   "outputs": [
    {
     "data": {
      "text/html": [
       "<div>\n",
       "<style scoped>\n",
       "    .dataframe tbody tr th:only-of-type {\n",
       "        vertical-align: middle;\n",
       "    }\n",
       "\n",
       "    .dataframe tbody tr th {\n",
       "        vertical-align: top;\n",
       "    }\n",
       "\n",
       "    .dataframe thead th {\n",
       "        text-align: right;\n",
       "    }\n",
       "</style>\n",
       "<table border=\"1\" class=\"dataframe\">\n",
       "  <thead>\n",
       "    <tr style=\"text-align: right;\">\n",
       "      <th></th>\n",
       "      <th>id</th>\n",
       "      <th>current_designation</th>\n",
       "      <th>user_experience</th>\n",
       "      <th>resume</th>\n",
       "    </tr>\n",
       "  </thead>\n",
       "  <tbody>\n",
       "    <tr>\n",
       "      <th>786</th>\n",
       "      <td>2599295</td>\n",
       "      <td>data analyst</td>\n",
       "      <td>0</td>\n",
       "      <td>dev tripathi\\nresult-driven professional; expl...</td>\n",
       "    </tr>\n",
       "    <tr>\n",
       "      <th>319</th>\n",
       "      <td>2375944</td>\n",
       "      <td>assistant systems engineer</td>\n",
       "      <td>2</td>\n",
       "      <td>skills\\nprofile\\ncontact\\neducation\\nexperienc...</td>\n",
       "    </tr>\n",
       "    <tr>\n",
       "      <th>229</th>\n",
       "      <td>2631239</td>\n",
       "      <td>product analyst</td>\n",
       "      <td>1</td>\n",
       "      <td>anubhav tiwari\\nhouse no- 402, u-50/59, sector...</td>\n",
       "    </tr>\n",
       "    <tr>\n",
       "      <th>745</th>\n",
       "      <td>2456409</td>\n",
       "      <td>management trainee</td>\n",
       "      <td>0</td>\n",
       "      <td>position of resposibility\\nnirman technologies...</td>\n",
       "    </tr>\n",
       "    <tr>\n",
       "      <th>1003</th>\n",
       "      <td>2781599</td>\n",
       "      <td></td>\n",
       "      <td>0</td>\n",
       "      <td>abhishek pandey\\n+91-7905269084 | abhishekpand...</td>\n",
       "    </tr>\n",
       "  </tbody>\n",
       "</table>\n",
       "</div>"
      ],
      "text/plain": [
       "           id         current_designation user_experience  \\\n",
       "786   2599295                data analyst               0   \n",
       "319   2375944  assistant systems engineer               2   \n",
       "229   2631239             product analyst               1   \n",
       "745   2456409          management trainee               0   \n",
       "1003  2781599                                           0   \n",
       "\n",
       "                                                 resume  \n",
       "786   dev tripathi\\nresult-driven professional; expl...  \n",
       "319   skills\\nprofile\\ncontact\\neducation\\nexperienc...  \n",
       "229   anubhav tiwari\\nhouse no- 402, u-50/59, sector...  \n",
       "745   position of resposibility\\nnirman technologies...  \n",
       "1003  abhishek pandey\\n+91-7905269084 | abhishekpand...  "
      ]
     },
     "execution_count": 17,
     "metadata": {},
     "output_type": "execute_result"
    }
   ],
   "source": [
    "df1.sample(5)"
   ]
  },
  {
   "cell_type": "code",
   "execution_count": null,
   "id": "7bf6d2c7-3b94-41d3-a994-35f892793547",
   "metadata": {},
   "outputs": [],
   "source": []
  },
  {
   "cell_type": "code",
   "execution_count": 18,
   "id": "9ec5d5ba-8e72-42d5-acd6-ff54cdcf2c71",
   "metadata": {},
   "outputs": [],
   "source": [
    "documents = []\n",
    "for x in df1:\n",
    "    y = 'user id: '+df1['id'].values+', '+'user experience: '+df1['user_experience'].values+', '+'user designation: '+df1['current_designation'].values+', '+'user resume: '+df1['resume'].values \n",
    "    documents.append(y)"
   ]
  },
  {
   "cell_type": "code",
   "execution_count": 19,
   "id": "12667578-46cb-4602-9035-b78bf6ed76b2",
   "metadata": {},
   "outputs": [
    {
     "data": {
      "text/plain": [
       "1113"
      ]
     },
     "execution_count": 19,
     "metadata": {},
     "output_type": "execute_result"
    }
   ],
   "source": [
    "len(documents[0])"
   ]
  },
  {
   "cell_type": "code",
   "execution_count": 20,
   "id": "73827f63-ce0c-4206-85ce-0dcd36b4b1a1",
   "metadata": {},
   "outputs": [
    {
     "data": {
      "text/plain": [
       "'user id: 2053027, user experience: 2, user designation: product developer, user resume: preet singh\\n+91-870-029-9709 ps8765329@gmail.com www.linkedin.com/in/preetsingh17/ https://github.com/rudopf\\nsummary\\nelectrical engineering student with software development experience in app development and product development.\\nproject experience includes applications of software and hardware. seeking full-time position may 2020 in web devel-\\nopment and pharmaceutical production.\\neducation\\nb.tech, electrical engineering graduating may 2020\\nguru gobind singh inderprasth university, delhi, india 3.2/4.0 gpa\\nhmr institute of technology\\nrelevant coursework: data structures and programmable logic, advanced excel in business,software tools and sys-\\ntems programming,probability and computer applications,machine learning and algorithmic game theory.\\ntechnical skills\\ndata analysis and statistics: python, tableau\\ndesign and modeling tools: solidworks, labview, matlab, microsoft office\\nprogramming: java, javascript, c++, mysql\\ncertifications: national instruments certified labview associate developer (clad) august 2019\\nexperience\\nupwork, india, delhi: research &amp; dev development may 2019 present\\n applied measurement system analysis (msa) to qualify relocated test equipment (jmp, python)\\n authored three technical reports for relocated packaging equipment, following iqoqpq guides (jmp, excel)\\ndelhi jal board, delhi, india: quality engineering intern may 2018 aug 2018\\n monitors and tests water quality up to 50 to 150 tds values to ensure compliance with regulatory standards, and\\nidentifies and investigates any water quality issues.\\n created and delivered presentations to train field sales representatives on new product features (powerpoint)\\nacademic projects\\ntrading bot(link) fall 2019 spring 2020\\ncollaborated in a team of three to design model of custom hand cycle for polio victims (solidworks).\\n poloniex-trading-bot a trading bot that utilises macd to track and make trades of cryptocurrency.\\n given a coin pair traded on poloniex, the largest value of macd from the past 4 days is found. every 30 mins, the\\ncurrent macd is evaluated.\\n if it is at least 80 percent of the largest macd, the coin is traded.\\nbacktrader test strategy(link) spring 2021\\nled team of three to design and develop a mouse-like device to allow quadriplegic patients to use websites.\\n testing bitcoin strategy using backtrader framework this implementation contains simple macd based strategy.\\n the data for this strategy we use btc to eur data in cryptocompare website. achieving system quality number\\n2.61 and drawdown of 9.7 percent.\\nother work experience\\nhmr institute, delhi, india: project leader dec 2020\\n led team of 4 member in which we have build a quadcopter based on kk 2.1.5 flight controller and powered by\\n1100kv dc brushless motors.\\nmait, delhi, india: leader,electrical department dec 2019\\n in this project we sense the brightness of the room by light detecting resistor and provide a appropriate light by\\n555 ic astable vibrator.\\n'"
      ]
     },
     "execution_count": 20,
     "metadata": {},
     "output_type": "execute_result"
    }
   ],
   "source": [
    "documents[0][10]"
   ]
  },
  {
   "cell_type": "code",
   "execution_count": 21,
   "id": "157ab5c5-2f4a-4732-8aad-21b7de054a78",
   "metadata": {},
   "outputs": [],
   "source": [
    "from langchain.embeddings import HuggingFaceEmbeddings\n",
    "from langchain.text_splitter import RecursiveCharacterTextSplitter \n",
    "from langchain.vectorstores import FAISS\n"
   ]
  },
  {
   "cell_type": "code",
   "execution_count": 22,
   "id": "bffe5a29-2310-48e7-a5ec-b7fa1b1b1a97",
   "metadata": {},
   "outputs": [],
   "source": [
    "# documents = df1.values"
   ]
  },
  {
   "cell_type": "code",
   "execution_count": 23,
   "id": "63415b81-cb18-4345-b59a-9d2719cf78fc",
   "metadata": {},
   "outputs": [],
   "source": [
    "# documents[90]"
   ]
  },
  {
   "cell_type": "code",
   "execution_count": 24,
   "id": "2008510d-3a95-4b2c-a2c9-8cbd6a4d590b",
   "metadata": {},
   "outputs": [],
   "source": [
    "# documents[:, 0] = [{'id':int(value)} for value in documents[:, 0]]\n"
   ]
  },
  {
   "cell_type": "code",
   "execution_count": 25,
   "id": "3b42cdb6-3bb8-438b-9c41-eb840ff8c415",
   "metadata": {},
   "outputs": [],
   "source": [
    "# documents[0][90]"
   ]
  },
  {
   "cell_type": "code",
   "execution_count": 26,
   "id": "2b7bcf1b-2f1f-47da-8a68-00e544afb058",
   "metadata": {},
   "outputs": [],
   "source": [
    "# len(documents)"
   ]
  },
  {
   "cell_type": "code",
   "execution_count": 27,
   "id": "b16ade38-0ade-4303-81ee-b6e1bb171bfb",
   "metadata": {},
   "outputs": [
    {
     "name": "stdout",
     "output_type": "stream",
     "text": [
      "9 ['user id: 1286631, user experience: 5, user designation: product manager, user resume: a r a v i n d s u b r a m a n i a n g\\n5e4, happy windows, kattupakkam, chennai-600056 a.sbmn1994@gmail.com (+91)-9751053481\\neducational qualifications\\ncourse name year of\\ncompletion\\ninstitute name aggregate\\nb.tech (production\\nengineering)\\n2015 national institute of technology tiruchirappalli 7.97\\n(cgpa)\\nclass xii (cbse) 2011 jawahar senior secondary school, neyveli 85.6%\\nclass x (cbse) 2009 jawahar higher secondary school, neyveli 93.4%\\nprofessional experience\\nrbl bank private limited, manager cards portfolio, gurugram may 2022 apr 2023\\n managing p&amp;l ownership of the emi products of credit cards x-sell portfolio\\n monitoring and improving key metrics of the business like penetration, conversion and income\\n implemented digital transformation and increased the topline and bottomline of business\\nindustrybuying, category owner, new delhi jun 2021 jul 2021\\n managed seller on-boarding and p&amp;l of the categories mhe, packaging materials and lubricants &amp; oils\\nindian political action committee, senior analyst, chennai nov 2020 may 2021\\n managed 5 distinct assembly constituencies and successfully won all of them by building an online brand for\\nthe political party in the digital front\\n managed a 20 member team to ideate content and run digital campaigns in facebook pages and\\nwhatsapp groups at micro, ac and state level\\nznet technologies private limited, technical product manager, jaipur apr 2020 may 2020\\n managed the products acronis and alibaba cloud and responsible for their end to end change management\\npristyn care, associate product manager, gurugram aug 2019 jan 2020\\n managed the products carebuddy, receptionist and hospital chat of the organization\\n revamped carebuddy and reduced the tat around the opd process\\n revamped receptionist and increased the digitisation of patient management system\\n launched a new product hospital chat that helps track patient journey digitally across all hospitals\\ncomputer age management services, associate product manager, chennai jun 2018 nov 2018\\n managed the crms module of the product (investrak) and improved the cx of the product\\nramco systems limited, analyst programmer, chennai jun 2015 apr 2018\\n sql developer responsible for the design, development and delivery of warehouse management system\\n developed a total of 13 screens for wms web application\\n developed a total of 11 screens for wms mobile application (hand held terminal hht)\\n technical consultant responsible for\\n assisting the project teams in the development of a customized requirement for visy and gmk\\n providing stand-alone customer support from offshore during implementation/ post go-live\\nextra curricular activities\\ncleared grade i, grade ii &amp; grade iii in electronic keyboard conducted by trinity college of music, london.\\n'\n"
     ]
    }
   ],
   "source": [
    "text_splitter = RecursiveCharacterTextSplitter(chunk_size=5000,chunk_overlap=10)\n",
    "splits = text_splitter.split_text(str(documents[0]))\n",
    "print(len(splits), splits[0])"
   ]
  },
  {
   "cell_type": "code",
   "execution_count": 28,
   "id": "3126ee29-1b98-4cb6-9cc8-2b2fe460b54a",
   "metadata": {},
   "outputs": [
    {
     "data": {
      "text/plain": [
       "9"
      ]
     },
     "execution_count": 28,
     "metadata": {},
     "output_type": "execute_result"
    }
   ],
   "source": [
    "len(splits)"
   ]
  },
  {
   "cell_type": "code",
   "execution_count": 29,
   "id": "04b9d449-7296-4c82-80e4-bf1635683cec",
   "metadata": {},
   "outputs": [],
   "source": [
    "embeddings = HuggingFaceEmbeddings(model_name='sentence-transformers/all-MiniLM-L6-v2',\n",
    "                                       model_kwargs={'device': 'cuda'})"
   ]
  },
  {
   "cell_type": "code",
   "execution_count": 30,
   "id": "6165daaf-ddd4-47cd-8af7-9311e74fbd5b",
   "metadata": {},
   "outputs": [],
   "source": [
    "db = FAISS.from_texts(documents[0], embeddings)\n"
   ]
  },
  {
   "cell_type": "code",
   "execution_count": null,
   "id": "e4515a83-7dc9-48cd-9e71-52ef0af247fc",
   "metadata": {},
   "outputs": [],
   "source": []
  },
  {
   "cell_type": "code",
   "execution_count": 31,
   "id": "785f1d73-b4fa-4a13-a872-b4a54d207f40",
   "metadata": {},
   "outputs": [],
   "source": [
    "import langchain\n",
    "from queue import Queue\n",
    "from typing import Any\n",
    "from langchain.llms.huggingface_text_gen_inference import HuggingFaceTextGenInference\n",
    "from langchain.callbacks.streaming_stdout import StreamingStdOutCallbackHandler\n",
    "from langchain.schema import LLMResult\n",
    "from langchain.embeddings import HuggingFaceEmbeddings\n",
    "from langchain.vectorstores import FAISS\n",
    "from langchain.chains import RetrievalQA\n",
    "from langchain.prompts.prompt import PromptTemplate\n",
    "from anyio.from_thread import start_blocking_portal #For model callback streaming\n",
    "import re\n",
    "import gradio as gr\n",
    "langchain.debug=True "
   ]
  },
  {
   "cell_type": "code",
   "execution_count": 32,
   "id": "c6d58faa-8fd8-429f-85e8-e1623d8c45ca",
   "metadata": {},
   "outputs": [],
   "source": [
    "# model = 'meta-llama/Llama-2-7b-chat-hf'\n",
    "model = \"mistralai/Mistral-7B-Instruct-v0.2\""
   ]
  },
  {
   "cell_type": "code",
   "execution_count": null,
   "id": "e77e5bdf-771c-4c62-83a1-7c78a15591c9",
   "metadata": {},
   "outputs": [],
   "source": []
  },
  {
   "cell_type": "code",
   "execution_count": null,
   "id": "e649755a-68eb-4f12-aa0a-3c527f0a3033",
   "metadata": {},
   "outputs": [],
   "source": []
  },
  {
   "cell_type": "code",
   "execution_count": 33,
   "id": "190a2b42-848a-4ec7-9291-efa9d0ad3afa",
   "metadata": {},
   "outputs": [],
   "source": [
    "from bs4 import BeautifulSoup"
   ]
  },
  {
   "cell_type": "code",
   "execution_count": 34,
   "id": "3b571bb9-24dd-44c2-bdb6-60f5b7956dad",
   "metadata": {},
   "outputs": [
    {
     "name": "stdout",
     "output_type": "stream",
     "text": [
      "\n",
      "About the company:Bizup is an early stage startup, driven by the vision to empower the 60 Mn small businesses (SMEs) in India with technology. We are building the first of its kind short video app for B2B (business to business) transactions - think of it like Tiktok for businesses. Aim is to build India's largest network of business users, with the plan to onboard 2 Mn+ users in next 12 months, largely from Tier 2+ cities. Founders are IIT/IIM/ISB alumni, with leadership experience at McKinsey, Paytm, Tata (linkedin.com/in/suparngoel, linkedin.com/in/anshul-singhal-21696810/). If you are someone looking to join in the 0 to 1 journey of building a rocketship, in a huge opportunity area, then reach out to us!About the role:- In the dynamic position of Business Analyst, you will play a pivotal role in driving user engagement and satisfaction for our app. Your responsibilities will encompass a diverse range of critical functions, making this role both exciting and impactful. Here's what you will be doing:- Analyze user data to understand behaviour, preferences, and trends, using these insights to shape customer engagement strategies- Monitor day-to-day operations and manage the team to ensure smooth functioning in compliance with company standards- Collaborate closely with cross-functional teams, including business, product development, and content team, to ensure seamless communication and alignment in delivering a unified user experience- Maintain user engagement dashboards and prepare reports and present findings to senior management.What we are looking for?- Any graduate, or similar- Strong analytical skills and proficiency in using software and tools for data analysis like Excel- Familiarity with communication platforms, CRMs, and a willingness to stay updated on emerging tech trends- Proven experience in managing relationships across cross functional teams and team management or a similar role\n",
      "\n"
     ]
    }
   ],
   "source": [
    "text = '''\n",
    "<p><b>About the company:</b><br/><br/>Bizup is an early stage startup, driven by the vision to empower the 60 Mn small businesses (SMEs) in India with technology. We are building the first of its kind short video app for B2B (business to business) transactions - think of it like Tiktok for businesses. Aim is to build India's largest network of business users, with the plan to onboard 2 Mn+ users in next 12 months, largely from Tier 2+ cities. Founders are IIT/IIM/ISB alumni, with leadership experience at McKinsey, Paytm, Tata (linkedin.com/in/suparngoel, linkedin.com/in/anshul-singhal-21696810/). If you are someone looking to join in the 0 to 1 journey of building a rocketship, in a huge opportunity area, then reach out to us!<br/><br/><b>About the role:</b><br/><br/>- In the dynamic position of Business Analyst, you will play a pivotal role in driving user engagement and satisfaction for our app. Your responsibilities will encompass a diverse range of critical functions, making this role both exciting and impactful. Here's what you will be doing:<br/><br/>- Analyze user data to understand behaviour, preferences, and trends, using these insights to shape customer engagement strategies<br/><br/>- Monitor day-to-day operations and manage the team to ensure smooth functioning in compliance with company standards<br/><br/>- Collaborate closely with cross-functional teams, including business, product development, and content team, to ensure seamless communication and alignment in delivering a unified user experience<br/><br/>- Maintain user engagement dashboards and prepare reports and present findings to senior management.<br/><br/><b>What we are looking for?</b><br/><br/>- Any graduate, or similar<br/><br/>- Strong analytical skills and proficiency in using software and tools for data analysis like Excel<br/><br/>- Familiarity with communication platforms, CRMs, and a willingness to stay updated on emerging tech trends<br/><br/>- Proven experience in managing relationships across cross functional teams and team management or a similar role</p>\n",
    "'''\n",
    "\n",
    "# Use BeautifulSoup to remove HTML tags\n",
    "soup = BeautifulSoup(text, \"html.parser\")\n",
    "cleaned_text = soup.get_text()\n",
    "\n",
    "print(cleaned_text)"
   ]
  },
  {
   "cell_type": "code",
   "execution_count": null,
   "id": "8ba84dee-70f3-491f-9d33-2cf6b4347258",
   "metadata": {},
   "outputs": [],
   "source": []
  },
  {
   "cell_type": "code",
   "execution_count": null,
   "id": "9ed9fdfc-43ff-4f1b-bcb3-10619a0d3091",
   "metadata": {},
   "outputs": [],
   "source": []
  },
  {
   "cell_type": "code",
   "execution_count": 35,
   "id": "464ebb99-94a0-4b30-892d-351004a3d1ce",
   "metadata": {},
   "outputs": [
    {
     "name": "stdout",
     "output_type": "stream",
     "text": [
      "INFO 02-14 16:37:48 llm_engine.py:73] Initializing an LLM engine with config: model='mistralai/Mistral-7B-Instruct-v0.2', tokenizer='mistralai/Mistral-7B-Instruct-v0.2', tokenizer_mode=auto, revision=None, tokenizer_revision=None, trust_remote_code=True, dtype=torch.bfloat16, max_seq_len=32768, download_dir=None, load_format=auto, tensor_parallel_size=1, quantization=None, enforce_eager=False, seed=0)\n"
     ]
    },
    {
     "data": {
      "application/vnd.jupyter.widget-view+json": {
       "model_id": "47695373e5d14c5d85badb606b0dafc7",
       "version_major": 2,
       "version_minor": 0
      },
      "text/plain": [
       "pytorch_model-00001-of-00003.bin:   0%|          | 0.00/4.94G [00:00<?, ?B/s]"
      ]
     },
     "metadata": {},
     "output_type": "display_data"
    },
    {
     "data": {
      "application/vnd.jupyter.widget-view+json": {
       "model_id": "2c60281f8fea4d9fb3aaeb928d3ec6ee",
       "version_major": 2,
       "version_minor": 0
      },
      "text/plain": [
       "pytorch_model-00003-of-00003.bin:   0%|          | 0.00/5.06G [00:00<?, ?B/s]"
      ]
     },
     "metadata": {},
     "output_type": "display_data"
    },
    {
     "data": {
      "application/vnd.jupyter.widget-view+json": {
       "model_id": "baa6cb32730e47a295e0cbdf8d1201fb",
       "version_major": 2,
       "version_minor": 0
      },
      "text/plain": [
       "model-00002-of-00003.safetensors:   0%|          | 0.00/5.00G [00:00<?, ?B/s]"
      ]
     },
     "metadata": {},
     "output_type": "display_data"
    },
    {
     "data": {
      "application/vnd.jupyter.widget-view+json": {
       "model_id": "4eb35cbdc3a845b780428d673e43befc",
       "version_major": 2,
       "version_minor": 0
      },
      "text/plain": [
       "model-00003-of-00003.safetensors:   0%|          | 0.00/4.54G [00:00<?, ?B/s]"
      ]
     },
     "metadata": {},
     "output_type": "display_data"
    },
    {
     "data": {
      "application/vnd.jupyter.widget-view+json": {
       "model_id": "cfde907b95e74d8ca79a0196994d5412",
       "version_major": 2,
       "version_minor": 0
      },
      "text/plain": [
       "model-00001-of-00003.safetensors:   0%|          | 0.00/4.94G [00:00<?, ?B/s]"
      ]
     },
     "metadata": {},
     "output_type": "display_data"
    },
    {
     "data": {
      "application/vnd.jupyter.widget-view+json": {
       "model_id": "0dc208a8cbf94834b21c09dfdca3ee99",
       "version_major": 2,
       "version_minor": 0
      },
      "text/plain": [
       "pytorch_model-00002-of-00003.bin:   0%|          | 0.00/5.00G [00:00<?, ?B/s]"
      ]
     },
     "metadata": {},
     "output_type": "display_data"
    },
    {
     "name": "stdout",
     "output_type": "stream",
     "text": [
      "INFO 02-14 18:37:42 llm_engine.py:223] # GPU blocks: 868, # CPU blocks: 2048\n",
      "INFO 02-14 18:37:45 model_runner.py:394] Capturing the model for CUDA graphs. This may lead to unexpected consequences if the model is not static. To run the model in eager mode, set 'enforce_eager=True' or use '--enforce-eager' in the CLI.\n",
      "INFO 02-14 18:37:55 model_runner.py:437] Graph capturing finished in 9 secs.\n"
     ]
    }
   ],
   "source": [
    "from langchain.llms import VLLM\n",
    "\n",
    "llm = VLLM(model=model,\n",
    "           trust_remote_code=True,  \n",
    "           max_new_tokens=512,\n",
    "           top_k=20,\n",
    "           top_p=0.95,\n",
    "           temperature=0)"
   ]
  },
  {
   "cell_type": "code",
   "execution_count": 37,
   "id": "f413e1cd-4a9c-4f4f-9a82-3e49c20ae83a",
   "metadata": {},
   "outputs": [],
   "source": [
    "template = \"\"\"\n",
    "<s>[INST]You are an AI Agent working for a job platform and your task is to help a recruiter \n",
    "Use the following pieces of context to answer the question. If no context provided, answer like a AI assistant.\n",
    "{context}\n",
    "Question: {question} [/INST]\n",
    "\"\"\"\n",
    "\n",
    "retriever = db.as_retriever(\n",
    "        search_kwargs={\"k\": 10}\n",
    "    )"
   ]
  },
  {
   "cell_type": "code",
   "execution_count": 38,
   "id": "8974c39c-f6a6-4462-b24a-eb70c6bb11a6",
   "metadata": {},
   "outputs": [],
   "source": [
    "qa_chain = RetrievalQA.from_chain_type(\n",
    "    llm=llm, \n",
    "    retriever=retriever,     \n",
    "    chain_type_kwargs={\n",
    "        \"prompt\": PromptTemplate(\n",
    "            template=template,\n",
    "            input_variables=[\"context\", \"question\"],\n",
    "        ),\n",
    "    }\n",
    ")"
   ]
  },
  {
   "cell_type": "code",
   "execution_count": 41,
   "id": "228b7890-8337-4aff-946a-9982a6ddf2c6",
   "metadata": {
    "scrolled": true
   },
   "outputs": [
    {
     "name": "stdout",
     "output_type": "stream",
     "text": [
      "\u001b[32;1m\u001b[1;3m[chain/start]\u001b[0m \u001b[1m[1:chain:RetrievalQA] Entering Chain run with input:\n",
      "\u001b[0m{\n",
      "  \"query\": \"give me ids of those users who have graduated from an IIM ?\"\n",
      "}\n",
      "\u001b[32;1m\u001b[1;3m[chain/start]\u001b[0m \u001b[1m[1:chain:RetrievalQA > 3:chain:StuffDocumentsChain] Entering Chain run with input:\n",
      "\u001b[0m[inputs]\n",
      "\u001b[32;1m\u001b[1;3m[chain/start]\u001b[0m \u001b[1m[1:chain:RetrievalQA > 3:chain:StuffDocumentsChain > 4:chain:LLMChain] Entering Chain run with input:\n",
      "\u001b[0m{\n",
      "  \"question\": \"give me ids of those users who have graduated from an IIM ?\",\n",
      "  \"context\": \"user id: 1479400, user experience: 2, user designation: senior business architecture analyst intern, user resume: \\n\\nuser id: 2078347, user experience: 3, user designation: data scientist, user resume: \\n\\nuser id: 2609971, user experience: 1, user designation: project engineer, user resume: \\n\\nuser id: 2514872, user experience: 2, user designation: assistant manager, user resume: educational details :\\nb.tech (2020) - cse\\n80%, kurukshetra university\\nssc-xii (2016)\\n86.8%, cbse\\nhsc-x (2014)\\ncgpa-8\\n\\n\\nuser id: 2574906, user experience: 0, user designation: admnistration, user resume: \\n\\nuser id: 2712726, user experience: 0, user designation: cso , user resume: \\n\\nuser id: 2567331, user experience: 6, user designation: sr executive, user resume: \\n\\nuser id: 2605085, user experience: 0, user designation: , user resume: \\n\\nuser id: 2578192, user experience: 4, user designation: assistant manager r&d, user resume: subham : +91-9113368443 : subham2020@alumni.iitd.ac.in\\neducation\\n2019 - m.tech in textile engineering - indian institute of technology, delhi (cgpa 7.65)\\n2017 - b. tech in textile engineering - iict, bhadohi (73.4%)\\nqualifying exams\\n iit-jee(m)(joint entrance examination): all india rank 33,417 out of 1.5 million candidates (97.32 %ile)\\n gate (graduate aptitude test in engineering): all india rank 21 (98.6 %ile)\\nscholastic achievements\\n district topper in the class 12th board exams (93.4% marks).\\n 3 research publications: worked on a defence project of national importance.(linked here)\\nskills\\ntechnical: excel, outlook &amp; other ms tools | basic c, matlab &amp; power bi | fuzzy logic | jira | dassault 3d plm | confluence\\ncompetencies: project management | innovation | analysis | product vision &amp; development | agile methodologies |\\nproblem solving | innovation &amp; ideation | strategic planning | cross functional leadership | operational excellence | risk\\nassessment &amp; mitigation | stakeholder management | quality assurance | competitive analysis &amp; benchmarking | product\\nlifecycle management | team building &amp; leadership | training &amp; knowledge sharing | dmaic | statistics | qfd | doe\\nlanguages: english | hindi | french | sanskrit | basic german\\ncertifications: advanced product management, six sigma black belt-six sigma academy amsterdam, design thinking,\\nenterprise risk mgmt iso31000:2018, lean expert, lean startup: idea to mvp, google digital marketing, fmea\\nexperience\\ndec 2023 - present: technical project manager\\ningeniator software solutions (hyderabad)\\nsummary: currently leading the launch of a new product in the us &amp; indian markets by doing a comprehensive\\nopportunity &amp; feasibility study, supplier sourcing &amp; negotiations, under the company's ceo. i lead the activities involving\\nfield operations, customer queries, sourcing &amp; collaborations, product software integration &amp; deployment.\\njune 2019 - 2023: assistant manager r&amp;d (materials development), asia\\nmichelin, (india, japan, france)\\nproject leadership &amp; r&amp;d: for cost reduction, product improvement, sustainability, business acquisition, crisis/change,\\nmanagement, new tech. deployment &amp; competitive opportunity assessment.\\nsummary: project mgmt in a fast-paced setup with a global cross-functional team. to set clear goals, plan, follow up &amp; take\\ncritical decisions. fmea, material vs. product performance relationship &amp; requirement-based specifications devt.,\\nindustrial or product non-conformity troubleshooting, simulation &amp; a/b testing for good customer experience, risk &amp; roi\\nanalysis, business/supplier/process, homologations, monitoring kpi, competitor analysis, product roadmap, stakeholder\\npresentation, communication &amp; mentoring. achieved 100% project completion on time, got recognized with a go-getter\\naward, saved 50+ million euros &amp; 70+ tons of new material deployment, 5 new supplier qualifications, 1 business\\nacquisition &amp; 3 new product deployments &amp; development. (linked here: portfolio)\\nkey responsibilities\\n1. project management: successfully led 17+ projects using lean &amp; agile as well as waterfall approach strategic planning,\\nsetting clear goals, kpis, gantt &amp; continuous communication with the project team, stakeholders &amp; customers.\\n2. data-driven decision-making: decision-making through limited trial data, fmea, market analysis &amp; presentation of the\\nkey outcomes, possible risks &amp; consequent product/material strategy, operational &amp; project roadmap to the stakeholders.\\n3. transverse leadership: trained for effective communication in cross-functional teams &amp; inter-organizational skills.\\n4. technical expertise: extensively led product development for b2b &amp; b2c segments by establishing the material vs final\\nproduct relationship through prototyping &amp; simulations. ive qualifications in material science engineering &amp; product devt.\\n&quot;,&quot;5. handling crisis: expertly took 8 crisis decisions, during covid, industrial &amp;, business continuity (bcm) challenges\\nrequiring sudden &amp; rapid actions in collaboration with supplier, technical, industrial &amp; commercial teams and authorities.\\n6. quality assurance: created numerous quality dashboards &amp; standards to ensure the safety, quality, &amp; performance of\\ntextile-reinforced composite materials &amp; ensure that the product is aligned with the business goals.\\n7. coordination with teams: collaborated with plants, quality &amp; supplier teams to establish smooth project execution.\\n8. global leadership &amp; responsibility: connected with international zones like europe &amp; the americas to drive\\ntechnological innovation &amp; progress in asia by defining projects based on market inputs, &amp; opportunity &amp; feasibility study.\\n9. specifications development: translated the market needs &amp; industry knowledge in the form of clear specification\\ndocuments that met the customer requirements within project constraints while optimizing product performance.\\n10. executing strategic activities: spearheaded new product development, test method development, sustainable\\nsolutions deployment, new plant acquisitions, and process &amp; supplier deployment in new international markets.\\n11. non-conformity troubleshooting: proactive technical recommendations supporting the new product\\nindustrialization/market deployment projects within 24 hours to ensure customer satisfaction &amp; product quality.\\n12. prediction &amp; technical analysis: product risk analysis by characterization, simulation &amp; material effect analysis\\n13. reprsentation of india: represented the company in worldwide networks &amp; national summits.\\nprojects\\n r&amp;d: development of a lightweight textile nano-composite material for defence applications, thermally stable up to\\n~800 saving the wearer from extreme heat exposures (project of national importance) - iit delhi\\n product strategy execution: led development of a lighter textile-reinforced composite for tires at a 5 mn euros cost\\nsaving &amp; a better moisture performance by a feasibility study, scenario &amp; specifications development. also, as the asian\\nlead for a new change deployment, qualified 7+ tons of sustainable materials per plant worldwide. - michelin (more projects)\\n new product launch: currently leading a product introduction in the us &amp; indian markets ensuring software integrations\\n&amp; product-market fit.\\npositions of responsibility\\n nucleus coordinator, training &amp; placement cell - skills: communication, pitching &amp; negotiation\\niit delhi (2018-19): designed the department's brochure, approached 250+ companies.\\niict (2015-17): worked with dc(hc) ministry of textiles (goi) for foreign placements. 100% placement.\\n secretary student welfare committee iict - skills: investor pitching, event/people management &amp; leadership\\nliterary committee (2016-17): led 10+ events\\ncultural committee (2015-16): led the annual fest of college making it a remarkable campus event in the region.\\ndesigner annual magazine (2014-15) - skills: precise article writing, magazine drafting, graphic design\\n school captain (2007-08), house captain (2006-07) newton public school: led 500+ students, organized school events\\nwon prizes &amp; honored as the best captain.\\n representative/ volunteer - skills: crowd mgmt &amp; leadership, communication, &amp; pitching.\\nexhibitor, india carpet expo, delhi (2016): attracted 20+ leads.\\nvolunteering: in lifeline express, assisted in the execution of a humanitarian indian govt initiative to treat the poor village\\npeople free of cost. also supported the public during covid-19 by facilitating oxygen/medicine supplies by creating a\\ntemporary crisis support team &amp; critical resource dashboard, collaborating with ngos, administration &amp; local leadership.\\nlinkedin (click here) research works media appearances: (a) (b)\\n\\n\\nuser id: 2277848, user experience: 2, user designation: data analysis, user resume: \"\n",
      "}\n",
      "\u001b[32;1m\u001b[1;3m[llm/start]\u001b[0m \u001b[1m[1:chain:RetrievalQA > 3:chain:StuffDocumentsChain > 4:chain:LLMChain > 5:llm:VLLM] Entering LLM run with input:\n",
      "\u001b[0m{\n",
      "  \"prompts\": [\n",
      "    \"<s>[INST]You are an AI Agent working for a job platform and your task is to help a recruiter \\nUse the following pieces of context to answer the question. If no context provided, answer like a AI assistant.\\nuser id: 1479400, user experience: 2, user designation: senior business architecture analyst intern, user resume: \\n\\nuser id: 2078347, user experience: 3, user designation: data scientist, user resume: \\n\\nuser id: 2609971, user experience: 1, user designation: project engineer, user resume: \\n\\nuser id: 2514872, user experience: 2, user designation: assistant manager, user resume: educational details :\\nb.tech (2020) - cse\\n80%, kurukshetra university\\nssc-xii (2016)\\n86.8%, cbse\\nhsc-x (2014)\\ncgpa-8\\n\\n\\nuser id: 2574906, user experience: 0, user designation: admnistration, user resume: \\n\\nuser id: 2712726, user experience: 0, user designation: cso , user resume: \\n\\nuser id: 2567331, user experience: 6, user designation: sr executive, user resume: \\n\\nuser id: 2605085, user experience: 0, user designation: , user resume: \\n\\nuser id: 2578192, user experience: 4, user designation: assistant manager r&d, user resume: subham : +91-9113368443 : subham2020@alumni.iitd.ac.in\\neducation\\n2019 - m.tech in textile engineering - indian institute of technology, delhi (cgpa 7.65)\\n2017 - b. tech in textile engineering - iict, bhadohi (73.4%)\\nqualifying exams\\n iit-jee(m)(joint entrance examination): all india rank 33,417 out of 1.5 million candidates (97.32 %ile)\\n gate (graduate aptitude test in engineering): all india rank 21 (98.6 %ile)\\nscholastic achievements\\n district topper in the class 12th board exams (93.4% marks).\\n 3 research publications: worked on a defence project of national importance.(linked here)\\nskills\\ntechnical: excel, outlook &amp; other ms tools | basic c, matlab &amp; power bi | fuzzy logic | jira | dassault 3d plm | confluence\\ncompetencies: project management | innovation | analysis | product vision &amp; development | agile methodologies |\\nproblem solving | innovation &amp; ideation | strategic planning | cross functional leadership | operational excellence | risk\\nassessment &amp; mitigation | stakeholder management | quality assurance | competitive analysis &amp; benchmarking | product\\nlifecycle management | team building &amp; leadership | training &amp; knowledge sharing | dmaic | statistics | qfd | doe\\nlanguages: english | hindi | french | sanskrit | basic german\\ncertifications: advanced product management, six sigma black belt-six sigma academy amsterdam, design thinking,\\nenterprise risk mgmt iso31000:2018, lean expert, lean startup: idea to mvp, google digital marketing, fmea\\nexperience\\ndec 2023 - present: technical project manager\\ningeniator software solutions (hyderabad)\\nsummary: currently leading the launch of a new product in the us &amp; indian markets by doing a comprehensive\\nopportunity &amp; feasibility study, supplier sourcing &amp; negotiations, under the company's ceo. i lead the activities involving\\nfield operations, customer queries, sourcing &amp; collaborations, product software integration &amp; deployment.\\njune 2019 - 2023: assistant manager r&amp;d (materials development), asia\\nmichelin, (india, japan, france)\\nproject leadership &amp; r&amp;d: for cost reduction, product improvement, sustainability, business acquisition, crisis/change,\\nmanagement, new tech. deployment &amp; competitive opportunity assessment.\\nsummary: project mgmt in a fast-paced setup with a global cross-functional team. to set clear goals, plan, follow up &amp; take\\ncritical decisions. fmea, material vs. product performance relationship &amp; requirement-based specifications devt.,\\nindustrial or product non-conformity troubleshooting, simulation &amp; a/b testing for good customer experience, risk &amp; roi\\nanalysis, business/supplier/process, homologations, monitoring kpi, competitor analysis, product roadmap, stakeholder\\npresentation, communication &amp; mentoring. achieved 100% project completion on time, got recognized with a go-getter\\naward, saved 50+ million euros &amp; 70+ tons of new material deployment, 5 new supplier qualifications, 1 business\\nacquisition &amp; 3 new product deployments &amp; development. (linked here: portfolio)\\nkey responsibilities\\n1. project management: successfully led 17+ projects using lean &amp; agile as well as waterfall approach strategic planning,\\nsetting clear goals, kpis, gantt &amp; continuous communication with the project team, stakeholders &amp; customers.\\n2. data-driven decision-making: decision-making through limited trial data, fmea, market analysis &amp; presentation of the\\nkey outcomes, possible risks &amp; consequent product/material strategy, operational &amp; project roadmap to the stakeholders.\\n3. transverse leadership: trained for effective communication in cross-functional teams &amp; inter-organizational skills.\\n4. technical expertise: extensively led product development for b2b &amp; b2c segments by establishing the material vs final\\nproduct relationship through prototyping &amp; simulations. ive qualifications in material science engineering &amp; product devt.\\n&quot;,&quot;5. handling crisis: expertly took 8 crisis decisions, during covid, industrial &amp;, business continuity (bcm) challenges\\nrequiring sudden &amp; rapid actions in collaboration with supplier, technical, industrial &amp; commercial teams and authorities.\\n6. quality assurance: created numerous quality dashboards &amp; standards to ensure the safety, quality, &amp; performance of\\ntextile-reinforced composite materials &amp; ensure that the product is aligned with the business goals.\\n7. coordination with teams: collaborated with plants, quality &amp; supplier teams to establish smooth project execution.\\n8. global leadership &amp; responsibility: connected with international zones like europe &amp; the americas to drive\\ntechnological innovation &amp; progress in asia by defining projects based on market inputs, &amp; opportunity &amp; feasibility study.\\n9. specifications development: translated the market needs &amp; industry knowledge in the form of clear specification\\ndocuments that met the customer requirements within project constraints while optimizing product performance.\\n10. executing strategic activities: spearheaded new product development, test method development, sustainable\\nsolutions deployment, new plant acquisitions, and process &amp; supplier deployment in new international markets.\\n11. non-conformity troubleshooting: proactive technical recommendations supporting the new product\\nindustrialization/market deployment projects within 24 hours to ensure customer satisfaction &amp; product quality.\\n12. prediction &amp; technical analysis: product risk analysis by characterization, simulation &amp; material effect analysis\\n13. reprsentation of india: represented the company in worldwide networks &amp; national summits.\\nprojects\\n r&amp;d: development of a lightweight textile nano-composite material for defence applications, thermally stable up to\\n~800 saving the wearer from extreme heat exposures (project of national importance) - iit delhi\\n product strategy execution: led development of a lighter textile-reinforced composite for tires at a 5 mn euros cost\\nsaving &amp; a better moisture performance by a feasibility study, scenario &amp; specifications development. also, as the asian\\nlead for a new change deployment, qualified 7+ tons of sustainable materials per plant worldwide. - michelin (more projects)\\n new product launch: currently leading a product introduction in the us &amp; indian markets ensuring software integrations\\n&amp; product-market fit.\\npositions of responsibility\\n nucleus coordinator, training &amp; placement cell - skills: communication, pitching &amp; negotiation\\niit delhi (2018-19): designed the department's brochure, approached 250+ companies.\\niict (2015-17): worked with dc(hc) ministry of textiles (goi) for foreign placements. 100% placement.\\n secretary student welfare committee iict - skills: investor pitching, event/people management &amp; leadership\\nliterary committee (2016-17): led 10+ events\\ncultural committee (2015-16): led the annual fest of college making it a remarkable campus event in the region.\\ndesigner annual magazine (2014-15) - skills: precise article writing, magazine drafting, graphic design\\n school captain (2007-08), house captain (2006-07) newton public school: led 500+ students, organized school events\\nwon prizes &amp; honored as the best captain.\\n representative/ volunteer - skills: crowd mgmt &amp; leadership, communication, &amp; pitching.\\nexhibitor, india carpet expo, delhi (2016): attracted 20+ leads.\\nvolunteering: in lifeline express, assisted in the execution of a humanitarian indian govt initiative to treat the poor village\\npeople free of cost. also supported the public during covid-19 by facilitating oxygen/medicine supplies by creating a\\ntemporary crisis support team &amp; critical resource dashboard, collaborating with ngos, administration &amp; local leadership.\\nlinkedin (click here) research works media appearances: (a) (b)\\n\\n\\nuser id: 2277848, user experience: 2, user designation: data analysis, user resume: \\nQuestion: give me ids of those users who have graduated from an IIM ? [/INST]\"\n",
      "  ]\n",
      "}\n"
     ]
    },
    {
     "name": "stderr",
     "output_type": "stream",
     "text": [
      "Processed prompts: 100%|█████████████████████████████████████████████████████████████████████████████████████████████████████████████████████| 1/1 [00:01<00:00,  1.92s/it]"
     ]
    },
    {
     "name": "stdout",
     "output_type": "stream",
     "text": [
      "\u001b[36;1m\u001b[1;3m[llm/end]\u001b[0m \u001b[1m[1:chain:RetrievalQA > 3:chain:StuffDocumentsChain > 4:chain:LLMChain > 5:llm:VLLM] [1.93s] Exiting LLM run with output:\n",
      "\u001b[0m{\n",
      "  \"generations\": [\n",
      "    [\n",
      "      {\n",
      "        \"text\": \"Based on the provided context, there is only one user (id: 2514872) who has mentioned attending the Indian Institute of Management (IIM) in their resume.\",\n",
      "        \"generation_info\": null,\n",
      "        \"type\": \"Generation\"\n",
      "      }\n",
      "    ]\n",
      "  ],\n",
      "  \"llm_output\": null,\n",
      "  \"run\": null\n",
      "}\n",
      "\u001b[36;1m\u001b[1;3m[chain/end]\u001b[0m \u001b[1m[1:chain:RetrievalQA > 3:chain:StuffDocumentsChain > 4:chain:LLMChain] [1.93s] Exiting Chain run with output:\n",
      "\u001b[0m{\n",
      "  \"text\": \"Based on the provided context, there is only one user (id: 2514872) who has mentioned attending the Indian Institute of Management (IIM) in their resume.\"\n",
      "}\n",
      "\u001b[36;1m\u001b[1;3m[chain/end]\u001b[0m \u001b[1m[1:chain:RetrievalQA > 3:chain:StuffDocumentsChain] [1.93s] Exiting Chain run with output:\n",
      "\u001b[0m{\n",
      "  \"output_text\": \"Based on the provided context, there is only one user (id: 2514872) who has mentioned attending the Indian Institute of Management (IIM) in their resume.\"\n",
      "}\n",
      "\u001b[36;1m\u001b[1;3m[chain/end]\u001b[0m \u001b[1m[1:chain:RetrievalQA] [1.94s] Exiting Chain run with output:\n",
      "\u001b[0m{\n",
      "  \"result\": \"Based on the provided context, there is only one user (id: 2514872) who has mentioned attending the Indian Institute of Management (IIM) in their resume.\"\n",
      "}\n"
     ]
    },
    {
     "name": "stderr",
     "output_type": "stream",
     "text": [
      "\n"
     ]
    }
   ],
   "source": [
    "result = qa_chain({\"query\": \"give me ids of those users who have graduated from an IIM ?\"})\n",
    "# print(result)"
   ]
  },
  {
   "cell_type": "code",
   "execution_count": 42,
   "id": "b8cbec07-9e41-4c24-90d0-80bcc0c7bb15",
   "metadata": {},
   "outputs": [
    {
     "name": "stdout",
     "output_type": "stream",
     "text": [
      "Based on the provided context, there is only one user (id: 2514872) who has mentioned attending the Indian Institute of Management (IIM) in their resume.\n"
     ]
    }
   ],
   "source": [
    "print(result['result'])"
   ]
  },
  {
   "cell_type": "code",
   "execution_count": null,
   "id": "3c1ca65e-2e83-4408-b5c7-ab8d0d4230a5",
   "metadata": {},
   "outputs": [],
   "source": []
  },
  {
   "cell_type": "code",
   "execution_count": null,
   "id": "e5c3ce0e-8431-40e8-8866-fed6b3d7e764",
   "metadata": {},
   "outputs": [],
   "source": []
  },
  {
   "cell_type": "code",
   "execution_count": null,
   "id": "fb3417aa-d191-4c27-a94f-be17a18ae7da",
   "metadata": {},
   "outputs": [],
   "source": []
  },
  {
   "cell_type": "code",
   "execution_count": 46,
   "id": "f1b18f43-65b0-4863-aa5c-9bda6d13fe3e",
   "metadata": {},
   "outputs": [],
   "source": [
    "pattern = re.compile(r'\\d+\\.\\s*([^\\n]+)\\s*-\\s*(\\d+)')\n",
    "\n",
    "# Find all matches in the text\n",
    "matches = pattern.findall(result['result'])\n",
    "\n",
    "# Extract User IDs and print them\n",
    "user_ids = [(name.strip(), id) for name, id in matches]"
   ]
  },
  {
   "cell_type": "code",
   "execution_count": 47,
   "id": "0a578206-846b-404f-804f-fac85a101554",
   "metadata": {},
   "outputs": [
    {
     "data": {
      "text/plain": [
       "[]"
      ]
     },
     "execution_count": 47,
     "metadata": {},
     "output_type": "execute_result"
    }
   ],
   "source": [
    "user_ids"
   ]
  },
  {
   "cell_type": "code",
   "execution_count": 48,
   "id": "003ae808-6092-4f25-9dda-bf976a374e03",
   "metadata": {},
   "outputs": [],
   "source": [
    "uid_list = []\n",
    "for user_id in user_ids:\n",
    "    print(f\"User: {user_id[0]}, ID: {user_id[1]}\")\n",
    "    uid_list.append(user_id[1])"
   ]
  },
  {
   "cell_type": "code",
   "execution_count": 49,
   "id": "9dc0ff9b-5158-4610-8c16-9a6f6053e21b",
   "metadata": {},
   "outputs": [
    {
     "data": {
      "text/plain": [
       "[]"
      ]
     },
     "execution_count": 49,
     "metadata": {},
     "output_type": "execute_result"
    }
   ],
   "source": [
    "uid_list"
   ]
  },
  {
   "cell_type": "code",
   "execution_count": 50,
   "id": "f4ea1c6e-8783-400b-8565-c4a94df959a3",
   "metadata": {},
   "outputs": [],
   "source": [
    "# user_id_pattern = r'User ID: (\\d+)' and r'id: (\\d+)' and r'ID: (\\d+)' and r'ID is : (\\d+)' and r\"His ID is (\\d+)\" and r'ID: (\\d+)' and r'Id: (\\d+)' and r' ID: (\\d+)'and r' id: (\\d+)'and r'ID: (\\d+)' and r' id: (\\d+)'\n",
    "# user_id_match = re.search(r'User ID: (\\d+)', result['result'])\n",
    "# user_id = user_id_match.group(1)\n",
    "\n",
    "user_ids = re.findall(r'User ID: (\\d+)' and r'ID (\\d+)' and r'user id: (\\d+)', result['result'])\n",
    "\n",
    "# user_ids = re.findall(user_id_pattern, result['result'])"
   ]
  },
  {
   "cell_type": "code",
   "execution_count": 46,
   "id": "afce2303-d9ac-4a4b-8382-58e67a3dfe06",
   "metadata": {},
   "outputs": [
    {
     "data": {
      "text/plain": [
       "['2553080', '2553080']"
      ]
     },
     "execution_count": 46,
     "metadata": {},
     "output_type": "execute_result"
    }
   ],
   "source": [
    "user_ids"
   ]
  },
  {
   "cell_type": "code",
   "execution_count": 47,
   "id": "a396381e-b5cb-4bf2-a34f-93ea1245514a",
   "metadata": {},
   "outputs": [
    {
     "name": "stderr",
     "output_type": "stream",
     "text": [
      "100%|█████████████████████████████████████████████████████████████████████████████████████████████████████████████████████████████████████████| 2/2 [00:00<00:00, 128.22it/s]\n",
      "100%|███████████████████████████████████████████████████████████████████████████████████████████████████████████████████████████████████████| 2/2 [00:00<00:00, 27060.03it/s]\n"
     ]
    }
   ],
   "source": [
    "data = get_user_data_search_embed(user_ids)"
   ]
  },
  {
   "cell_type": "code",
   "execution_count": 48,
   "id": "161149e7-04c6-49e9-ac52-50ec780cb1fb",
   "metadata": {},
   "outputs": [
    {
     "data": {
      "text/html": [
       "<div>\n",
       "<style scoped>\n",
       "    .dataframe tbody tr th:only-of-type {\n",
       "        vertical-align: middle;\n",
       "    }\n",
       "\n",
       "    .dataframe tbody tr th {\n",
       "        vertical-align: top;\n",
       "    }\n",
       "\n",
       "    .dataframe thead th {\n",
       "        text-align: right;\n",
       "    }\n",
       "</style>\n",
       "<table border=\"1\" class=\"dataframe\">\n",
       "  <thead>\n",
       "    <tr style=\"text-align: right;\">\n",
       "      <th></th>\n",
       "      <th>id</th>\n",
       "      <th>resume</th>\n",
       "      <th>keywords</th>\n",
       "      <th>current_designation</th>\n",
       "      <th>user_experience</th>\n",
       "      <th>professional_info</th>\n",
       "      <th>education_info</th>\n",
       "    </tr>\n",
       "  </thead>\n",
       "  <tbody>\n",
       "    <tr>\n",
       "      <th>0</th>\n",
       "      <td>2553080</td>\n",
       "      <td>SRIJEN JHINGTA Email: srijenj@gmail.com Ph.no....</td>\n",
       "      <td>Research Retail Client Brand Analysis Marketin...</td>\n",
       "      <td>Consultant - Business Consulting PI</td>\n",
       "      <td>2</td>\n",
       "      <td>[{'id': 4252712, 'userId': None, 'designation'...</td>\n",
       "      <td>[{'id': 97439491, 'userId': 2553080, 'institut...</td>\n",
       "    </tr>\n",
       "    <tr>\n",
       "      <th>1</th>\n",
       "      <td>2553080</td>\n",
       "      <td>SRIJEN JHINGTA Email: srijenj@gmail.com Ph.no....</td>\n",
       "      <td>Research Retail Client Brand Analysis Marketin...</td>\n",
       "      <td>Consultant - Business Consulting PI</td>\n",
       "      <td>2</td>\n",
       "      <td>[{'id': 4252712, 'userId': None, 'designation'...</td>\n",
       "      <td>[{'id': 97439491, 'userId': 2553080, 'institut...</td>\n",
       "    </tr>\n",
       "  </tbody>\n",
       "</table>\n",
       "</div>"
      ],
      "text/plain": [
       "        id                                             resume  \\\n",
       "0  2553080  SRIJEN JHINGTA Email: srijenj@gmail.com Ph.no....   \n",
       "1  2553080  SRIJEN JHINGTA Email: srijenj@gmail.com Ph.no....   \n",
       "\n",
       "                                            keywords  \\\n",
       "0  Research Retail Client Brand Analysis Marketin...   \n",
       "1  Research Retail Client Brand Analysis Marketin...   \n",
       "\n",
       "                   current_designation user_experience  \\\n",
       "0  Consultant - Business Consulting PI               2   \n",
       "1  Consultant - Business Consulting PI               2   \n",
       "\n",
       "                                   professional_info  \\\n",
       "0  [{'id': 4252712, 'userId': None, 'designation'...   \n",
       "1  [{'id': 4252712, 'userId': None, 'designation'...   \n",
       "\n",
       "                                      education_info  \n",
       "0  [{'id': 97439491, 'userId': 2553080, 'institut...  \n",
       "1  [{'id': 97439491, 'userId': 2553080, 'institut...  "
      ]
     },
     "execution_count": 48,
     "metadata": {},
     "output_type": "execute_result"
    }
   ],
   "source": [
    "data"
   ]
  },
  {
   "cell_type": "code",
   "execution_count": 198,
   "id": "f285c8b0-4a29-4346-a487-42c820d00e72",
   "metadata": {},
   "outputs": [
    {
     "data": {
      "text/html": [
       "<div>\n",
       "<style scoped>\n",
       "    .dataframe tbody tr th:only-of-type {\n",
       "        vertical-align: middle;\n",
       "    }\n",
       "\n",
       "    .dataframe tbody tr th {\n",
       "        vertical-align: top;\n",
       "    }\n",
       "\n",
       "    .dataframe thead th {\n",
       "        text-align: right;\n",
       "    }\n",
       "</style>\n",
       "<table border=\"1\" class=\"dataframe\">\n",
       "  <thead>\n",
       "    <tr style=\"text-align: right;\">\n",
       "      <th></th>\n",
       "      <th>id</th>\n",
       "      <th>current_designation</th>\n",
       "      <th>user_experience</th>\n",
       "      <th>resume</th>\n",
       "    </tr>\n",
       "  </thead>\n",
       "  <tbody>\n",
       "  </tbody>\n",
       "</table>\n",
       "</div>"
      ],
      "text/plain": [
       "Empty DataFrame\n",
       "Columns: [id, current_designation, user_experience, resume]\n",
       "Index: []"
      ]
     },
     "execution_count": 198,
     "metadata": {},
     "output_type": "execute_result"
    }
   ],
   "source": [
    "df1.loc[df1['id']=='2312967']"
   ]
  },
  {
   "cell_type": "code",
   "execution_count": 199,
   "id": "09eea6a9-44c2-45e4-aeb8-1b146215520f",
   "metadata": {},
   "outputs": [
    {
     "data": {
      "text/html": [
       "<div>\n",
       "<style scoped>\n",
       "    .dataframe tbody tr th:only-of-type {\n",
       "        vertical-align: middle;\n",
       "    }\n",
       "\n",
       "    .dataframe tbody tr th {\n",
       "        vertical-align: top;\n",
       "    }\n",
       "\n",
       "    .dataframe thead th {\n",
       "        text-align: right;\n",
       "    }\n",
       "</style>\n",
       "<table border=\"1\" class=\"dataframe\">\n",
       "  <thead>\n",
       "    <tr style=\"text-align: right;\">\n",
       "      <th></th>\n",
       "      <th>id</th>\n",
       "      <th>current_designation</th>\n",
       "      <th>user_experience</th>\n",
       "      <th>resume</th>\n",
       "    </tr>\n",
       "  </thead>\n",
       "  <tbody>\n",
       "  </tbody>\n",
       "</table>\n",
       "</div>"
      ],
      "text/plain": [
       "Empty DataFrame\n",
       "Columns: [id, current_designation, user_experience, resume]\n",
       "Index: []"
      ]
     },
     "execution_count": 199,
     "metadata": {},
     "output_type": "execute_result"
    }
   ],
   "source": [
    "df1.loc[df1['id']=='4567890']"
   ]
  },
  {
   "cell_type": "code",
   "execution_count": 200,
   "id": "fe449664-5c73-40b7-b778-8cbe471fb680",
   "metadata": {},
   "outputs": [],
   "source": [
    "# data['resume'].values"
   ]
  },
  {
   "cell_type": "code",
   "execution_count": 86,
   "id": "9f6db58c-b200-4d9d-a42d-91a243a26e25",
   "metadata": {},
   "outputs": [],
   "source": [
    "# user_id_pattern"
   ]
  },
  {
   "cell_type": "code",
   "execution_count": 88,
   "id": "90309f86-39bc-45b8-a76f-0c38b3094547",
   "metadata": {},
   "outputs": [],
   "source": [
    "# df.shape"
   ]
  },
  {
   "cell_type": "code",
   "execution_count": 89,
   "id": "02f6d7a4-84a4-402e-92bb-88f09d06033d",
   "metadata": {},
   "outputs": [],
   "source": [
    "# df.loc[df['resume'].str.contains('gaming')]['resume'].values"
   ]
  },
  {
   "cell_type": "code",
   "execution_count": null,
   "id": "4b000e53-37b9-4c83-adc5-534cd63e1327",
   "metadata": {},
   "outputs": [],
   "source": [
    "# give me all those user ids atleat 4 who have worked as analyst\n",
    "# give all those user with their id who have worked as business development manager"
   ]
  }
 ],
 "metadata": {
  "kernelspec": {
   "display_name": "Python 3 (ipykernel)",
   "language": "python",
   "name": "python3"
  },
  "language_info": {
   "codemirror_mode": {
    "name": "ipython",
    "version": 3
   },
   "file_extension": ".py",
   "mimetype": "text/x-python",
   "name": "python",
   "nbconvert_exporter": "python",
   "pygments_lexer": "ipython3",
   "version": "3.10.12"
  }
 },
 "nbformat": 4,
 "nbformat_minor": 5
}
