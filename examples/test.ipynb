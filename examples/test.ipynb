{
 "cells": [
  {
   "cell_type": "code",
   "execution_count": 1,
   "metadata": {},
   "outputs": [],
   "source": [
    "from user_info import get_user_info"
   ]
  },
  {
   "cell_type": "code",
   "execution_count": 2,
   "metadata": {},
   "outputs": [],
   "source": [
    "r = get_user_info(2690982)"
   ]
  },
  {
   "cell_type": "code",
   "execution_count": 3,
   "metadata": {},
   "outputs": [
    {
     "data": {
      "text/plain": [
       "'Seema Kalyanrao More `\\nFemale | 25 Years\\nIndian Institute of Management, Shillong\\nEducational Qualification\\nB.Tech. (CSE) Indian Institute of Technology Tirupati 58.30 % 2019\\nClass XII Vasantrao Naik Collage, Maharashtra state board 72.15 % 2015\\nClass X Maharashtra public school, Maharashtra state board 88.73 % 2013\\nProfessional Experience 11 Months\\nWaycool Food and Products Pvt Ltd July19  June20\\nManager,\\nIT - Innovation\\nProject Lead\\n Orchestrated the implementation of the automation machinery, which increased the production rate by 10%\\nby implementing a new procedure established via hands-on involvement on shop floor and meticulous data collection\\n Experienced in effectively engaging with multiple stakeholders, incorporating their diverse requirements for\\nseamless implementation restructuring, competing priorities, and finding optimal solutions to meet stakeholders needs\\n Finalized automation machinery design and functionality procedure through a dynamic collaboration with a third-party\\nvendor, orchestrated successful partnership with them, driving innovative solutions and delivering measurable results\\n Implemented new image processing technology within Waycool food and products, which involved working with\\nAgritech by validating the application to meet the companys requirements. This initiative gave 1FTE QA savings\\n Developed a project related to image processing which included generating data, labeling the images, and debugging\\nthe code for utilizing image processing instead of manual monitoring to enhance the identification of rule violators\\nIndustry Interface\\nInternships\\nVisteon Corporation\\nEmbedded system\\n Extracted practical experience in the automotive industry and developed an understanding of\\nautomotive equipment manufacturing process standards and regulations by doing an internship at Visteon\\nMay18\\n-\\nJuly18\\nRobokart\\nRobotic training\\n Followed through the summer internship program in professional Embedded systems and automation\\n Experimented firsthand with the designing, implementing, and verification of all the models and projects\\nMay17\\n-\\nJune17\\nPositions of Responsibility\\nIndian Institute of\\nTechnology Tirupati\\nSecretary, Mess Affairs\\n Served as mess affairs secretary of the Indian Institute of Technology Tirupati for the first year of college\\nJuly15\\n-\\nJune16\\nIndian Institute of\\nTechnology Tirupati\\nCo-Ordinator, Creative cell\\n Standardized the procedure of the creative cell as a coordinator for the Techno - cultural fest ANFANG\\n Arranged activities and enhancement for the cultural fest Tirutsava as coordinator of the creative cell\\nDec17\\n-\\nDec18\\nCertifications &amp; Achievements\\nCertifications\\n Inbound marketing skills in content creation, marketing to customers through online series by HubSpot\\n Content marketing skills in promotion, analysis, and increased results through growth marketing method\\n NPTEL Online certification for Introduction to IOT achieved certification of Elite + Silver rank\\n Smart Grid Wi-Fi automation with embedded systems training cum internship offered by Robokart\\n Acquired the third position in competition held by the National workshop series organized by Robokart\\n2023\\n2023\\n2019\\n2017\\n2016\\nAcademic\\n Collaborated in authoring book about the Turing Awards, also known as Nobel Prize of Computer Science\\n Awarded the first rank for the team project on designing the Robotic Arm during an academic course\\n Awarded the second rank for project on moisture level monitoring equipment during academic course\\n Secured category rank of 572 in Joint Entrance Examination Advance in the year 2015 with dedication\\n2017\\n2016\\n2016\\n2015\\nCo-Curricular\\n Attained first position in the Eco-art competition, demonstrating commitment to environmental awareness\\n Achieved the second position in the wax carving competition showcasing craftsmanship and artistic finesse\\n2017\\n2017\\nExtra-Curricular\\n Participated in 53rd Inter IIT sports meet at IIT Guwahati, representing IIT Tirupati girls basketball team\\n Represented IIT Tirupati at the inter-IIT cultural meet hosted by IIT Kanpur, showcasing artistic talent\\n Attained the national-level IOT workshop conducted by Robokart in association with E-cell IIT Bombay\\n2018\\n2017\\n2016\\nSocial Initiatives\\n Spearheaded initiatives in the national service scheme (NSS) for over 80 hours during my undergraduate\\n Joined forces with others on Cycle Day in a Saksham cycle rally for energy conservation awareness drive\\n2019\\n2019\\nOther Information\\nSkills Research | Debugging | IOT | Canva | Python\\nInterests Basketball | Painting | Swimming\\nLanguages English | Marathi | Hindi\\n'"
      ]
     },
     "execution_count": 3,
     "metadata": {},
     "output_type": "execute_result"
    }
   ],
   "source": [
    "\n",
    "r['resume'][0]"
   ]
  },
  {
   "cell_type": "code",
   "execution_count": 4,
   "metadata": {},
   "outputs": [
    {
     "name": "stdout",
     "output_type": "stream",
     "text": [
      "INFO 03-28 14:07:19 llm_engine.py:73] Initializing an LLM engine with config: model='lakshay/work-details-mistral', tokenizer='lakshay/work-details-mistral', tokenizer_mode=auto, revision=None, tokenizer_revision=None, trust_remote_code=False, dtype=torch.float16, max_seq_len=32768, download_dir=None, load_format=auto, tensor_parallel_size=1, quantization=None, enforce_eager=False, seed=0)\n",
      "INFO 03-28 14:08:00 llm_engine.py:223] # GPU blocks: 922, # CPU blocks: 2048\n",
      "INFO 03-28 14:08:03 model_runner.py:394] Capturing the model for CUDA graphs. This may lead to unexpected consequences if the model is not static. To run the model in eager mode, set 'enforce_eager=True' or use '--enforce-eager' in the CLI.\n",
      "INFO 03-28 14:08:09 model_runner.py:437] Graph capturing finished in 7 secs.\n",
      "Running on local URL:  http://127.0.0.1:7860\n",
      "Running on public URL: https://f5392905cfe75a9e10.gradio.live\n",
      "\n",
      "This share link expires in 72 hours. For free permanent hosting and GPU upgrades, run `gradio deploy` from Terminal to deploy to Spaces (https://huggingface.co/spaces)\n"
     ]
    },
    {
     "data": {
      "text/html": [
       "<div><iframe src=\"https://f5392905cfe75a9e10.gradio.live\" width=\"100%\" height=\"500\" allow=\"autoplay; camera; microphone; clipboard-read; clipboard-write;\" frameborder=\"0\" allowfullscreen></iframe></div>"
      ],
      "text/plain": [
       "<IPython.core.display.HTML object>"
      ]
     },
     "metadata": {},
     "output_type": "display_data"
    }
   ],
   "source": [
    "from latest_vllm_gradio_server import *"
   ]
  },
  {
   "cell_type": "code",
   "execution_count": 22,
   "metadata": {},
   "outputs": [],
   "source": [
    "es_output = get_user_info(2031026)\n"
   ]
  },
  {
   "cell_type": "code",
   "execution_count": 23,
   "metadata": {},
   "outputs": [],
   "source": [
    "# es_output"
   ]
  },
  {
   "cell_type": "code",
   "execution_count": 24,
   "metadata": {},
   "outputs": [],
   "source": [
    "resume_text = es_output['resume'][0]\n"
   ]
  },
  {
   "cell_type": "code",
   "execution_count": 25,
   "metadata": {},
   "outputs": [],
   "source": [
    "# resume_text"
   ]
  },
  {
   "cell_type": "code",
   "execution_count": 26,
   "metadata": {},
   "outputs": [],
   "source": [
    "work_ex = parse_user_work_ex(es_output)"
   ]
  },
  {
   "cell_type": "code",
   "execution_count": 27,
   "metadata": {},
   "outputs": [
    {
     "data": {
      "text/plain": [
       "[{'id': 3021408,\n",
       "  'designation': 'Team Leader - YMP Program',\n",
       "  'fromExpMonth': '4',\n",
       "  'fromExpYear': '2022',\n",
       "  'toExpMonth': '6',\n",
       "  'toExpYear': '2022',\n",
       "  'company': 'Schindler India Pvt Ltd'},\n",
       " {'id': 4055030,\n",
       "  'designation': 'Service Engineer',\n",
       "  'fromExpMonth': '7',\n",
       "  'fromExpYear': '2019',\n",
       "  'toExpMonth': '3',\n",
       "  'toExpYear': '2022',\n",
       "  'company': 'Sidel India - Tetra Laval Group'}]"
      ]
     },
     "execution_count": 27,
     "metadata": {},
     "output_type": "execute_result"
    },
    {
     "name": "stderr",
     "output_type": "stream",
     "text": [
      "Processed prompts: 100%|██████████| 1/1 [00:06<00:00,  6.96s/it]\n"
     ]
    }
   ],
   "source": [
    "work_ex"
   ]
  },
  {
   "cell_type": "code",
   "execution_count": 16,
   "metadata": {},
   "outputs": [],
   "source": [
    "def parse_user_work_ex(info_json):\n",
    "    work_ex = []\n",
    "    # try:\n",
    "    for x in info_json['professional_info'][0]:\n",
    "        \n",
    "        user_dict = {}\n",
    "        exp_dict = x\n",
    "    \n",
    "        keys = ['id','designation','fromExpMonth','fromExpYear','toExpMonth','toExpYear'] \n",
    "    \n",
    "        for k in keys:\n",
    "            user_dict[k] = exp_dict[k]\n",
    "            \n",
    "        user_dict['company'] = exp_dict['organization']['name']\n",
    "        work_ex.append(user_dict)\n",
    "    # except:\n",
    "    #     return work_ex\n",
    "            \n",
    "    return work_ex"
   ]
  },
  {
   "cell_type": "code",
   "execution_count": 17,
   "metadata": {},
   "outputs": [],
   "source": [
    "w = parse_user_work_ex(es_output)"
   ]
  },
  {
   "cell_type": "code",
   "execution_count": 19,
   "metadata": {},
   "outputs": [
    {
     "data": {
      "text/plain": [
       "[]"
      ]
     },
     "execution_count": 19,
     "metadata": {},
     "output_type": "execute_result"
    }
   ],
   "source": [
    "es_output['professional_info'][0]"
   ]
  },
  {
   "cell_type": "code",
   "execution_count": null,
   "metadata": {},
   "outputs": [],
   "source": []
  }
 ],
 "metadata": {
  "kernelspec": {
   "display_name": "env",
   "language": "python",
   "name": "python3"
  },
  "language_info": {
   "codemirror_mode": {
    "name": "ipython",
    "version": 3
   },
   "file_extension": ".py",
   "mimetype": "text/x-python",
   "name": "python",
   "nbconvert_exporter": "python",
   "pygments_lexer": "ipython3",
   "version": "3.10.12"
  }
 },
 "nbformat": 4,
 "nbformat_minor": 2
}
