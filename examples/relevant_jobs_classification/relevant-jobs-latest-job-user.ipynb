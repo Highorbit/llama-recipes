{
 "cells": [
  {
   "cell_type": "code",
   "execution_count": 1,
   "id": "0d35fed1-7b29-445d-8567-03b816d4f394",
   "metadata": {},
   "outputs": [
    {
     "name": "stderr",
     "output_type": "stream",
     "text": [
      "/home/ubuntu/infoedge/llama-recipes/env/lib/python3.10/site-packages/huggingface_hub/utils/_runtime.py:184: UserWarning: Pydantic is installed but cannot be imported. Please check your installation. `huggingface_hub` will default to not using Pydantic. Error message: '{e}'\n",
      "  warnings.warn(\n"
     ]
    }
   ],
   "source": [
    "from transformers import AutoModelForCausalLM, AutoTokenizer\n",
    "device = \"cuda\" # the device to load the model onto\n",
    "import torch\n",
    "import time\n",
    "import pandas as pd, html\n",
    "from user_info import get_user_info\n",
    "import requests\n",
    "from tqdm.notebook import tqdm\n",
    "from user_info import get_user_data_search_embed\n",
    "from job_info import fetch_jobs"
   ]
  },
  {
   "cell_type": "code",
   "execution_count": null,
   "id": "a70c3a8a-3bf2-4404-a5bc-dcc32ae9e6be",
   "metadata": {},
   "outputs": [],
   "source": []
  },
  {
   "cell_type": "code",
   "execution_count": 2,
   "id": "7e643e57-1df5-4d69-a3fd-31b289c9dd3c",
   "metadata": {},
   "outputs": [
    {
     "name": "stdout",
     "output_type": "stream",
     "text": [
      "INFO 02-26 17:26:33 llm_engine.py:73] Initializing an LLM engine with config: model='mistralai/Mistral-7B-Instruct-v0.2', tokenizer='mistralai/Mistral-7B-Instruct-v0.2', tokenizer_mode=auto, revision=None, tokenizer_revision=None, trust_remote_code=False, dtype=torch.bfloat16, max_seq_len=32768, download_dir=None, load_format=auto, tensor_parallel_size=1, quantization=None, enforce_eager=False, seed=0)\n",
      "INFO 02-26 17:26:48 llm_engine.py:223] # GPU blocks: 922, # CPU blocks: 2048\n",
      "INFO 02-26 17:26:51 model_runner.py:394] Capturing the model for CUDA graphs. This may lead to unexpected consequences if the model is not static. To run the model in eager mode, set 'enforce_eager=True' or use '--enforce-eager' in the CLI.\n",
      "INFO 02-26 17:26:56 model_runner.py:437] Graph capturing finished in 5 secs.\n"
     ]
    }
   ],
   "source": [
    "from vllm import SamplingParams, LLM\n",
    "\n",
    "sampling_params = SamplingParams(temperature=0, max_tokens=144)\n",
    "llm = LLM(model=\"mistralai/Mistral-7B-Instruct-v0.2\")"
   ]
  },
  {
   "cell_type": "code",
   "execution_count": null,
   "id": "98683fb8-0b85-4096-ad7a-8eaf60b7ab13",
   "metadata": {},
   "outputs": [],
   "source": []
  },
  {
   "cell_type": "code",
   "execution_count": null,
   "id": "6e1718ea-e208-415d-b470-4ef3ed1ed0c1",
   "metadata": {},
   "outputs": [],
   "source": []
  },
  {
   "cell_type": "code",
   "execution_count": 3,
   "id": "3fbf1415-60ef-442f-8326-fe00a18ad125",
   "metadata": {},
   "outputs": [],
   "source": [
    "# model = AutoModelForCausalLM.from_pretrained(\"mistralai/Mistral-7B-Instruct-v0.2\",\n",
    "#                                             load_in_8bit=True, \n",
    "#                                             torch_dtype=torch.float16,\n",
    "#                                             device_map='auto')\n",
    "\n",
    "# tokenizer = AutoTokenizer.from_pretrained(\"mistralai/Mistral-7B-Instruct-v0.2\")"
   ]
  },
  {
   "cell_type": "code",
   "execution_count": 4,
   "id": "9196bef9-77f1-4c97-8476-699ef0edb25e",
   "metadata": {},
   "outputs": [],
   "source": [
    "dataset = pd.read_csv('data/analysis_dataset.csv')"
   ]
  },
  {
   "cell_type": "code",
   "execution_count": null,
   "id": "89c3b2bd-cfc5-4bc2-ae71-89aec46de69e",
   "metadata": {},
   "outputs": [],
   "source": []
  },
  {
   "cell_type": "code",
   "execution_count": 5,
   "id": "07101db0-c71d-4bfe-a0fc-91bcd401c186",
   "metadata": {},
   "outputs": [
    {
     "data": {
      "text/html": [
       "<div>\n",
       "<style scoped>\n",
       "    .dataframe tbody tr th:only-of-type {\n",
       "        vertical-align: middle;\n",
       "    }\n",
       "\n",
       "    .dataframe tbody tr th {\n",
       "        vertical-align: top;\n",
       "    }\n",
       "\n",
       "    .dataframe thead th {\n",
       "        text-align: right;\n",
       "    }\n",
       "</style>\n",
       "<table border=\"1\" class=\"dataframe\">\n",
       "  <thead>\n",
       "    <tr style=\"text-align: right;\">\n",
       "      <th></th>\n",
       "      <th>job_id</th>\n",
       "      <th>application_id</th>\n",
       "      <th>user_id</th>\n",
       "    </tr>\n",
       "  </thead>\n",
       "  <tbody>\n",
       "    <tr>\n",
       "      <th>0</th>\n",
       "      <td>1373681</td>\n",
       "      <td>144274567</td>\n",
       "      <td>439042</td>\n",
       "    </tr>\n",
       "    <tr>\n",
       "      <th>1</th>\n",
       "      <td>1373681</td>\n",
       "      <td>144261479</td>\n",
       "      <td>2015063</td>\n",
       "    </tr>\n",
       "    <tr>\n",
       "      <th>2</th>\n",
       "      <td>1373681</td>\n",
       "      <td>144253966</td>\n",
       "      <td>2777927</td>\n",
       "    </tr>\n",
       "    <tr>\n",
       "      <th>3</th>\n",
       "      <td>1373681</td>\n",
       "      <td>144241259</td>\n",
       "      <td>58130</td>\n",
       "    </tr>\n",
       "    <tr>\n",
       "      <th>4</th>\n",
       "      <td>1373681</td>\n",
       "      <td>144236812</td>\n",
       "      <td>2290933</td>\n",
       "    </tr>\n",
       "    <tr>\n",
       "      <th>...</th>\n",
       "      <td>...</td>\n",
       "      <td>...</td>\n",
       "      <td>...</td>\n",
       "    </tr>\n",
       "    <tr>\n",
       "      <th>136248</th>\n",
       "      <td>1376058</td>\n",
       "      <td>144442227</td>\n",
       "      <td>2151474</td>\n",
       "    </tr>\n",
       "    <tr>\n",
       "      <th>136249</th>\n",
       "      <td>1375030</td>\n",
       "      <td>144442249</td>\n",
       "      <td>1463255</td>\n",
       "    </tr>\n",
       "    <tr>\n",
       "      <th>136250</th>\n",
       "      <td>1373682</td>\n",
       "      <td>144442251</td>\n",
       "      <td>2601930</td>\n",
       "    </tr>\n",
       "    <tr>\n",
       "      <th>136251</th>\n",
       "      <td>1376582</td>\n",
       "      <td>144442257</td>\n",
       "      <td>1417492</td>\n",
       "    </tr>\n",
       "    <tr>\n",
       "      <th>136252</th>\n",
       "      <td>1376693</td>\n",
       "      <td>144442256</td>\n",
       "      <td>1835665</td>\n",
       "    </tr>\n",
       "  </tbody>\n",
       "</table>\n",
       "<p>136253 rows × 3 columns</p>\n",
       "</div>"
      ],
      "text/plain": [
       "         job_id  application_id  user_id\n",
       "0       1373681       144274567   439042\n",
       "1       1373681       144261479  2015063\n",
       "2       1373681       144253966  2777927\n",
       "3       1373681       144241259    58130\n",
       "4       1373681       144236812  2290933\n",
       "...         ...             ...      ...\n",
       "136248  1376058       144442227  2151474\n",
       "136249  1375030       144442249  1463255\n",
       "136250  1373682       144442251  2601930\n",
       "136251  1376582       144442257  1417492\n",
       "136252  1376693       144442256  1835665\n",
       "\n",
       "[136253 rows x 3 columns]"
      ]
     },
     "execution_count": 5,
     "metadata": {},
     "output_type": "execute_result"
    }
   ],
   "source": [
    "dataset"
   ]
  },
  {
   "cell_type": "code",
   "execution_count": null,
   "id": "866905e9-1d3e-4293-890c-e73c78151f8d",
   "metadata": {},
   "outputs": [],
   "source": []
  },
  {
   "cell_type": "code",
   "execution_count": 6,
   "id": "7ab38f5f-d98c-44e9-a93f-b869fb4f0b52",
   "metadata": {},
   "outputs": [],
   "source": [
    "def fetch_job_title(job_id):\n",
    "    \n",
    "    '''\n",
    "    Returns Job Data[Hirst, Source : ElasticSearch] for the last_k days, and with flexible page size (<10,000)\n",
    "    \n",
    "    Input : Last-K Days, and Page result size\n",
    "    \n",
    "    Output : Pandas Dataframe with jobs from the last k days \n",
    "    '''\n",
    "    \n",
    "    # columns = ['id', 'title','companyStatus', 'min', 'max', 'premium', 'applyCount', 'locations','tags','brandJobFlag']     #Added column name for companyStatus\n",
    "    # new_cols = ['jobid', 'title','companyStatus', 'min', 'max', 'premium', 'applyCount', 'locations','tags', 'brandJobFlag']       #Added column name for companyStatus\n",
    "    \n",
    "    url = \"http://internal-java-job-searcher-email-backend-1607736061.ap-south-1.elb.amazonaws.com/v1/user/-777/job/jobcode?query=<JOBID>\"\n",
    "    url = url.replace('<JOBID>',job_id)\n",
    "    payload={}\n",
    "    headers = {}\n",
    "    \n",
    "    response = requests.request(\"GET\", url, headers=headers, data=payload)\n",
    "    \n",
    "    payload={}\n",
    "    headers = {}\n",
    "    \n",
    "    response = requests.request(\"GET\", url, headers=headers, data=payload)\n",
    "    job_data = response.json()\n",
    "\n",
    "    title = job_data[0]['title']\n",
    "    jd = job_data[0]['introText']\n",
    "    jd = html.unescape(jd)\n",
    "\n",
    "    return title + '\\n' + jd\n"
   ]
  },
  {
   "cell_type": "code",
   "execution_count": null,
   "id": "72a315bc-8622-4c5c-87d9-934bde6c1c52",
   "metadata": {},
   "outputs": [],
   "source": []
  },
  {
   "cell_type": "code",
   "execution_count": null,
   "id": "993cf7b8-8f88-4bf0-a281-7e86c9e5133b",
   "metadata": {},
   "outputs": [],
   "source": []
  },
  {
   "cell_type": "code",
   "execution_count": 7,
   "id": "32ac0893-bda1-4659-803e-ec813afce70a",
   "metadata": {},
   "outputs": [
    {
     "data": {
      "text/html": [
       "<div>\n",
       "<style scoped>\n",
       "    .dataframe tbody tr th:only-of-type {\n",
       "        vertical-align: middle;\n",
       "    }\n",
       "\n",
       "    .dataframe tbody tr th {\n",
       "        vertical-align: top;\n",
       "    }\n",
       "\n",
       "    .dataframe thead th {\n",
       "        text-align: right;\n",
       "    }\n",
       "</style>\n",
       "<table border=\"1\" class=\"dataframe\">\n",
       "  <thead>\n",
       "    <tr style=\"text-align: right;\">\n",
       "      <th></th>\n",
       "      <th>job_id</th>\n",
       "      <th>application_id</th>\n",
       "      <th>user_id</th>\n",
       "    </tr>\n",
       "  </thead>\n",
       "  <tbody>\n",
       "    <tr>\n",
       "      <th>0</th>\n",
       "      <td>1373681</td>\n",
       "      <td>144274567</td>\n",
       "      <td>439042</td>\n",
       "    </tr>\n",
       "    <tr>\n",
       "      <th>1</th>\n",
       "      <td>1373681</td>\n",
       "      <td>144261479</td>\n",
       "      <td>2015063</td>\n",
       "    </tr>\n",
       "    <tr>\n",
       "      <th>2</th>\n",
       "      <td>1373681</td>\n",
       "      <td>144253966</td>\n",
       "      <td>2777927</td>\n",
       "    </tr>\n",
       "    <tr>\n",
       "      <th>3</th>\n",
       "      <td>1373681</td>\n",
       "      <td>144241259</td>\n",
       "      <td>58130</td>\n",
       "    </tr>\n",
       "    <tr>\n",
       "      <th>4</th>\n",
       "      <td>1373681</td>\n",
       "      <td>144236812</td>\n",
       "      <td>2290933</td>\n",
       "    </tr>\n",
       "    <tr>\n",
       "      <th>...</th>\n",
       "      <td>...</td>\n",
       "      <td>...</td>\n",
       "      <td>...</td>\n",
       "    </tr>\n",
       "    <tr>\n",
       "      <th>136248</th>\n",
       "      <td>1376058</td>\n",
       "      <td>144442227</td>\n",
       "      <td>2151474</td>\n",
       "    </tr>\n",
       "    <tr>\n",
       "      <th>136249</th>\n",
       "      <td>1375030</td>\n",
       "      <td>144442249</td>\n",
       "      <td>1463255</td>\n",
       "    </tr>\n",
       "    <tr>\n",
       "      <th>136250</th>\n",
       "      <td>1373682</td>\n",
       "      <td>144442251</td>\n",
       "      <td>2601930</td>\n",
       "    </tr>\n",
       "    <tr>\n",
       "      <th>136251</th>\n",
       "      <td>1376582</td>\n",
       "      <td>144442257</td>\n",
       "      <td>1417492</td>\n",
       "    </tr>\n",
       "    <tr>\n",
       "      <th>136252</th>\n",
       "      <td>1376693</td>\n",
       "      <td>144442256</td>\n",
       "      <td>1835665</td>\n",
       "    </tr>\n",
       "  </tbody>\n",
       "</table>\n",
       "<p>136253 rows × 3 columns</p>\n",
       "</div>"
      ],
      "text/plain": [
       "         job_id  application_id  user_id\n",
       "0       1373681       144274567   439042\n",
       "1       1373681       144261479  2015063\n",
       "2       1373681       144253966  2777927\n",
       "3       1373681       144241259    58130\n",
       "4       1373681       144236812  2290933\n",
       "...         ...             ...      ...\n",
       "136248  1376058       144442227  2151474\n",
       "136249  1375030       144442249  1463255\n",
       "136250  1373682       144442251  2601930\n",
       "136251  1376582       144442257  1417492\n",
       "136252  1376693       144442256  1835665\n",
       "\n",
       "[136253 rows x 3 columns]"
      ]
     },
     "execution_count": 7,
     "metadata": {},
     "output_type": "execute_result"
    }
   ],
   "source": [
    "dataset"
   ]
  },
  {
   "cell_type": "code",
   "execution_count": 8,
   "id": "d4bc98bc-0247-466a-b89d-ec93d230cbcf",
   "metadata": {},
   "outputs": [
    {
     "data": {
      "text/plain": [
       "0         1373681\n",
       "25        1373682\n",
       "66        1373683\n",
       "71        1373684\n",
       "189       1373685\n",
       "           ...   \n",
       "133468    1376446\n",
       "133579    1376758\n",
       "134063    1375146\n",
       "136145    1376759\n",
       "136172    1376737\n",
       "Name: job_id, Length: 2949, dtype: int64"
      ]
     },
     "execution_count": 8,
     "metadata": {},
     "output_type": "execute_result"
    }
   ],
   "source": [
    "dataset['job_id'].drop_duplicates()"
   ]
  },
  {
   "cell_type": "code",
   "execution_count": 9,
   "id": "a7346e83-c6eb-4c6e-b84a-42a4fa95012e",
   "metadata": {},
   "outputs": [
    {
     "data": {
      "text/plain": [
       "0          439042\n",
       "1         2015063\n",
       "2         2777927\n",
       "3           58130\n",
       "4         2290933\n",
       "           ...   \n",
       "136201    2796578\n",
       "136202    2679806\n",
       "136235     986712\n",
       "136245    1713212\n",
       "136249    1463255\n",
       "Name: user_id, Length: 30363, dtype: int64"
      ]
     },
     "execution_count": 9,
     "metadata": {},
     "output_type": "execute_result"
    }
   ],
   "source": [
    "dataset['user_id'].drop_duplicates()"
   ]
  },
  {
   "cell_type": "code",
   "execution_count": 10,
   "id": "6bbfb7bb-d801-4865-b59a-b7d8d48123ae",
   "metadata": {},
   "outputs": [
    {
     "data": {
      "text/html": [
       "<div>\n",
       "<style scoped>\n",
       "    .dataframe tbody tr th:only-of-type {\n",
       "        vertical-align: middle;\n",
       "    }\n",
       "\n",
       "    .dataframe tbody tr th {\n",
       "        vertical-align: top;\n",
       "    }\n",
       "\n",
       "    .dataframe thead th {\n",
       "        text-align: right;\n",
       "    }\n",
       "</style>\n",
       "<table border=\"1\" class=\"dataframe\">\n",
       "  <thead>\n",
       "    <tr style=\"text-align: right;\">\n",
       "      <th></th>\n",
       "      <th>job_id</th>\n",
       "      <th>application_id</th>\n",
       "      <th>user_id</th>\n",
       "    </tr>\n",
       "  </thead>\n",
       "  <tbody>\n",
       "    <tr>\n",
       "      <th>42539</th>\n",
       "      <td>1374535</td>\n",
       "      <td>144255170</td>\n",
       "      <td>1358359</td>\n",
       "    </tr>\n",
       "    <tr>\n",
       "      <th>129832</th>\n",
       "      <td>1373772</td>\n",
       "      <td>144430631</td>\n",
       "      <td>906171</td>\n",
       "    </tr>\n",
       "    <tr>\n",
       "      <th>130765</th>\n",
       "      <td>1375557</td>\n",
       "      <td>144432351</td>\n",
       "      <td>1651587</td>\n",
       "    </tr>\n",
       "    <tr>\n",
       "      <th>27175</th>\n",
       "      <td>1374136</td>\n",
       "      <td>144183656</td>\n",
       "      <td>1805375</td>\n",
       "    </tr>\n",
       "    <tr>\n",
       "      <th>9390</th>\n",
       "      <td>1373834</td>\n",
       "      <td>144193642</td>\n",
       "      <td>1137063</td>\n",
       "    </tr>\n",
       "  </tbody>\n",
       "</table>\n",
       "</div>"
      ],
      "text/plain": [
       "         job_id  application_id  user_id\n",
       "42539   1374535       144255170  1358359\n",
       "129832  1373772       144430631   906171\n",
       "130765  1375557       144432351  1651587\n",
       "27175   1374136       144183656  1805375\n",
       "9390    1373834       144193642  1137063"
      ]
     },
     "execution_count": 10,
     "metadata": {},
     "output_type": "execute_result"
    }
   ],
   "source": [
    "dataset.sample(5)"
   ]
  },
  {
   "cell_type": "code",
   "execution_count": 32,
   "id": "9858146d-6845-4233-a90a-37800ffc8719",
   "metadata": {},
   "outputs": [
    {
     "name": "stderr",
     "output_type": "stream",
     "text": [
      "100%|████████████████████████████████████████████████████████████████████████████████████████████████████████████████████████████████████████| 1/1 [00:00<00:00, 88.26it/s]\n",
      "100%|█████████████████████████████████████████████████████████████████████████████████████████████████████████████████████████████████████| 1/1 [00:00<00:00, 18396.07it/s]\n"
     ]
    }
   ],
   "source": [
    "es_output = get_user_info(1358359)\n",
    "rt = es_output['resume'][0]\n",
    "rt = html.unescape(rt)"
   ]
  },
  {
   "cell_type": "code",
   "execution_count": null,
   "id": "20041176-73fd-45a8-9927-afa525fc56f4",
   "metadata": {},
   "outputs": [],
   "source": []
  },
  {
   "cell_type": "code",
   "execution_count": 33,
   "id": "bc2a7d0a-6fdf-4708-a1a7-9084ac7530a2",
   "metadata": {},
   "outputs": [],
   "source": [
    "answer_format = {\n",
    "    \"work_experience\":\"description of most recent work experience\"\n",
    "}"
   ]
  },
  {
   "cell_type": "code",
   "execution_count": 34,
   "id": "7328e745-3004-47e8-8e7c-debe595d2a4a",
   "metadata": {},
   "outputs": [],
   "source": [
    "input_prompt = f'''\n",
    "<s>[INST]You are an accurate AI agent working for a job platform. You will be given the raw \n",
    "unstructured text of a user's resume, Your task is to return the description of the user's\n",
    "latest job experience as given in the resume. return the answer in the following format :\\n{{answer_format}}\\n\n",
    "Return a valid JSON only\n",
    "This is the resume text:\\n{{resume_text}}\\n\n",
    "The answer is: [\\INST]\n",
    "'''"
   ]
  },
  {
   "cell_type": "code",
   "execution_count": 35,
   "id": "5ffc753f-49e2-4a01-be23-71b30ffe2069",
   "metadata": {},
   "outputs": [],
   "source": [
    "input_prompt = input_prompt.format(resume_text=rt, answer_format=answer_format)"
   ]
  },
  {
   "cell_type": "code",
   "execution_count": 36,
   "id": "b7a91d2f-1101-4a94-87f6-cb30bf6d5cad",
   "metadata": {},
   "outputs": [
    {
     "name": "stderr",
     "output_type": "stream",
     "text": [
      "Processed prompts: 100%|█████████████████████████████████████████████████████████████████████████████████████████████████████████████████████| 1/1 [00:05<00:00,  5.07s/it]\n"
     ]
    }
   ],
   "source": [
    "outputs = llm.generate(input_prompt, sampling_params)\n",
    "generated_text = outputs[0].outputs[0].text"
   ]
  },
  {
   "cell_type": "code",
   "execution_count": 37,
   "id": "800963ec-3086-496b-becf-d77b7b6b9c3f",
   "metadata": {},
   "outputs": [
    {
     "data": {
      "text/plain": [
       "\"{'work_experience': 'Currently working as a Process Specialist at Cargill since June 2021. Responsibilities include preparing Financial Statements in accordance with USGAAP and Cargill's internal guidelines, analyzing anomalies, working on periodical forecast and budget for expenses by cost centre wise, analyzing actual financial results compared with forecast and budget on monthly and quarterly basis, and providing data with trends to the commercial team. Additionally, I meet regulatory requirements by providing data to government authorities and provide cost drivers for changes in cost over months and drive monthly divisional cost governance meetings. Value-added projects include price, discount & cost analysis for effective maintenance of\""
      ]
     },
     "execution_count": 37,
     "metadata": {},
     "output_type": "execute_result"
    }
   ],
   "source": [
    "generated_text"
   ]
  },
  {
   "cell_type": "code",
   "execution_count": null,
   "id": "7a39cf94-a5e9-47bf-9500-c2f14cc3a260",
   "metadata": {},
   "outputs": [],
   "source": []
  },
  {
   "cell_type": "code",
   "execution_count": 17,
   "id": "95f596fc-e165-4963-be6f-446ff24ee77d",
   "metadata": {},
   "outputs": [],
   "source": [
    "# start_time = time.time()\n",
    "# model.eval()\n",
    "# with torch.no_grad():\n",
    "#     full_document = tokenizer.decode(model.generate(**model_input, max_new_tokens=32)[0], skip_special_tokens=True)\n",
    "\n",
    "# print(f'Time taken : {time.time()-start_time}')"
   ]
  },
  {
   "cell_type": "code",
   "execution_count": null,
   "id": "4f5d5555-d65d-42a9-bf6d-b5eed9b2e91b",
   "metadata": {},
   "outputs": [],
   "source": []
  },
  {
   "cell_type": "code",
   "execution_count": 18,
   "id": "44d3972a-9ff3-4bfe-b727-c6c6bb162026",
   "metadata": {},
   "outputs": [
    {
     "data": {
      "text/html": [
       "<div>\n",
       "<style scoped>\n",
       "    .dataframe tbody tr th:only-of-type {\n",
       "        vertical-align: middle;\n",
       "    }\n",
       "\n",
       "    .dataframe tbody tr th {\n",
       "        vertical-align: top;\n",
       "    }\n",
       "\n",
       "    .dataframe thead th {\n",
       "        text-align: right;\n",
       "    }\n",
       "</style>\n",
       "<table border=\"1\" class=\"dataframe\">\n",
       "  <thead>\n",
       "    <tr style=\"text-align: right;\">\n",
       "      <th></th>\n",
       "      <th>job_id</th>\n",
       "      <th>application_id</th>\n",
       "      <th>user_id</th>\n",
       "    </tr>\n",
       "  </thead>\n",
       "  <tbody>\n",
       "    <tr>\n",
       "      <th>0</th>\n",
       "      <td>1373681</td>\n",
       "      <td>144274567</td>\n",
       "      <td>439042</td>\n",
       "    </tr>\n",
       "    <tr>\n",
       "      <th>1</th>\n",
       "      <td>1373681</td>\n",
       "      <td>144261479</td>\n",
       "      <td>2015063</td>\n",
       "    </tr>\n",
       "    <tr>\n",
       "      <th>2</th>\n",
       "      <td>1373681</td>\n",
       "      <td>144253966</td>\n",
       "      <td>2777927</td>\n",
       "    </tr>\n",
       "    <tr>\n",
       "      <th>3</th>\n",
       "      <td>1373681</td>\n",
       "      <td>144241259</td>\n",
       "      <td>58130</td>\n",
       "    </tr>\n",
       "    <tr>\n",
       "      <th>4</th>\n",
       "      <td>1373681</td>\n",
       "      <td>144236812</td>\n",
       "      <td>2290933</td>\n",
       "    </tr>\n",
       "  </tbody>\n",
       "</table>\n",
       "</div>"
      ],
      "text/plain": [
       "    job_id  application_id  user_id\n",
       "0  1373681       144274567   439042\n",
       "1  1373681       144261479  2015063\n",
       "2  1373681       144253966  2777927\n",
       "3  1373681       144241259    58130\n",
       "4  1373681       144236812  2290933"
      ]
     },
     "execution_count": 18,
     "metadata": {},
     "output_type": "execute_result"
    }
   ],
   "source": [
    "dataset.head(5)"
   ]
  },
  {
   "cell_type": "code",
   "execution_count": 19,
   "id": "5e5a7073-2457-46c9-a341-3996a6a396b2",
   "metadata": {},
   "outputs": [
    {
     "data": {
      "text/html": [
       "<div>\n",
       "<style scoped>\n",
       "    .dataframe tbody tr th:only-of-type {\n",
       "        vertical-align: middle;\n",
       "    }\n",
       "\n",
       "    .dataframe tbody tr th {\n",
       "        vertical-align: top;\n",
       "    }\n",
       "\n",
       "    .dataframe thead th {\n",
       "        text-align: right;\n",
       "    }\n",
       "</style>\n",
       "<table border=\"1\" class=\"dataframe\">\n",
       "  <thead>\n",
       "    <tr style=\"text-align: right;\">\n",
       "      <th></th>\n",
       "      <th>job_id</th>\n",
       "      <th>application_id</th>\n",
       "      <th>user_id</th>\n",
       "    </tr>\n",
       "  </thead>\n",
       "  <tbody>\n",
       "    <tr>\n",
       "      <th>36786</th>\n",
       "      <td>1374412</td>\n",
       "      <td>144220143</td>\n",
       "      <td>158664</td>\n",
       "    </tr>\n",
       "    <tr>\n",
       "      <th>36286</th>\n",
       "      <td>1374410</td>\n",
       "      <td>144228411</td>\n",
       "      <td>1853933</td>\n",
       "    </tr>\n",
       "    <tr>\n",
       "      <th>32756</th>\n",
       "      <td>1374332</td>\n",
       "      <td>144230299</td>\n",
       "      <td>2793538</td>\n",
       "    </tr>\n",
       "    <tr>\n",
       "      <th>59461</th>\n",
       "      <td>1374912</td>\n",
       "      <td>144286093</td>\n",
       "      <td>849265</td>\n",
       "    </tr>\n",
       "    <tr>\n",
       "      <th>62427</th>\n",
       "      <td>1375002</td>\n",
       "      <td>144301729</td>\n",
       "      <td>84463</td>\n",
       "    </tr>\n",
       "    <tr>\n",
       "      <th>...</th>\n",
       "      <td>...</td>\n",
       "      <td>...</td>\n",
       "      <td>...</td>\n",
       "    </tr>\n",
       "    <tr>\n",
       "      <th>101756</th>\n",
       "      <td>1376152</td>\n",
       "      <td>144379743</td>\n",
       "      <td>1693198</td>\n",
       "    </tr>\n",
       "    <tr>\n",
       "      <th>125367</th>\n",
       "      <td>1376100</td>\n",
       "      <td>144422162</td>\n",
       "      <td>1268621</td>\n",
       "    </tr>\n",
       "    <tr>\n",
       "      <th>3177</th>\n",
       "      <td>1373739</td>\n",
       "      <td>144168429</td>\n",
       "      <td>1177512</td>\n",
       "    </tr>\n",
       "    <tr>\n",
       "      <th>31885</th>\n",
       "      <td>1374309</td>\n",
       "      <td>144216364</td>\n",
       "      <td>1702935</td>\n",
       "    </tr>\n",
       "    <tr>\n",
       "      <th>82027</th>\n",
       "      <td>1374654</td>\n",
       "      <td>144343715</td>\n",
       "      <td>164484</td>\n",
       "    </tr>\n",
       "  </tbody>\n",
       "</table>\n",
       "<p>136253 rows × 3 columns</p>\n",
       "</div>"
      ],
      "text/plain": [
       "         job_id  application_id  user_id\n",
       "36786   1374412       144220143   158664\n",
       "36286   1374410       144228411  1853933\n",
       "32756   1374332       144230299  2793538\n",
       "59461   1374912       144286093   849265\n",
       "62427   1375002       144301729    84463\n",
       "...         ...             ...      ...\n",
       "101756  1376152       144379743  1693198\n",
       "125367  1376100       144422162  1268621\n",
       "3177    1373739       144168429  1177512\n",
       "31885   1374309       144216364  1702935\n",
       "82027   1374654       144343715   164484\n",
       "\n",
       "[136253 rows x 3 columns]"
      ]
     },
     "execution_count": 19,
     "metadata": {},
     "output_type": "execute_result"
    }
   ],
   "source": [
    "dataset.sample(frac=1)"
   ]
  },
  {
   "cell_type": "code",
   "execution_count": null,
   "id": "7205d3ae-dbe7-4019-8604-883530f41ece",
   "metadata": {},
   "outputs": [],
   "source": []
  },
  {
   "cell_type": "code",
   "execution_count": 20,
   "id": "d4fee0fc-2668-4a0e-84da-848f14f5ed25",
   "metadata": {},
   "outputs": [
    {
     "data": {
      "application/vnd.jupyter.widget-view+json": {
       "model_id": "253d5668bf3b4c0bac4999c8ff1d0ade",
       "version_major": 2,
       "version_minor": 0
      },
      "text/plain": [
       "  0%|          | 0/2949 [00:00<?, ?it/s]"
      ]
     },
     "metadata": {},
     "output_type": "display_data"
    },
    {
     "name": "stderr",
     "output_type": "stream",
     "text": [
      "/tmp/ipykernel_3279/3556400985.py:6: FutureWarning: The behavior of DataFrame concatenation with empty or all-NA entries is deprecated. In a future version, this will no longer exclude empty or all-NA columns when determining the result dtypes. To retain the old behavior, exclude the relevant entries before the concat operation.\n",
      "  jdf = pd.concat(f)\n"
     ]
    }
   ],
   "source": [
    "f = []\n",
    "for jid in tqdm(dataset.job_id.unique()):\n",
    "    sdf = fetch_jobs(str(jid))\n",
    "    f.append(sdf)\n",
    "\n",
    "jdf = pd.concat(f)"
   ]
  },
  {
   "cell_type": "code",
   "execution_count": null,
   "id": "1ac0df8f-5bb8-468b-82bb-58861daf4cd2",
   "metadata": {},
   "outputs": [],
   "source": []
  },
  {
   "cell_type": "code",
   "execution_count": null,
   "id": "4db65b67-d77e-42bd-9608-8e261123e11c",
   "metadata": {},
   "outputs": [],
   "source": []
  },
  {
   "cell_type": "code",
   "execution_count": 21,
   "id": "c286afe9-8976-422d-bc3a-cd6a8f0d9bf8",
   "metadata": {},
   "outputs": [],
   "source": [
    "def get_answer_from_vllm(resume_text, job_title, llm):\n",
    "\n",
    "    #define the input prompt here\n",
    "    input_prompt = f'''<s>[INST]You are an accurate AI agent working for a job platform. You will be given the raw \n",
    "                            unstructured text of a user's resume, and the description of a job that they have applied to. Your task \n",
    "                            is to check if the resume contains prior work experience relevant to the job title being provided.\n",
    "                            Respond with a JUST A SINGLE WORD answer \"yes\" or \"no\". If there's any ambiguity, answer with \"no\"\n",
    "                            This is the job description {{job_title}}\\n\n",
    "                            This is the resume text:\\n{{resume_text}}\\n\n",
    "                            The answer is: [\\INST]\n",
    "                            '''\n",
    "\n",
    "    input_prompt = input_prompt.format(resume_text=resume_text,\n",
    "                   job_title=jt)\n",
    "    \n",
    "    outputs = llm.generate(input_prompt, sampling_params)\n",
    "    generated_text = outputs[0].outputs[0].text\n",
    "\n",
    "    return generated_text"
   ]
  },
  {
   "cell_type": "code",
   "execution_count": null,
   "id": "595263ab-00a7-4448-adc0-0ff89ba9f749",
   "metadata": {},
   "outputs": [],
   "source": []
  },
  {
   "cell_type": "code",
   "execution_count": null,
   "id": "01f97398-cc7e-450f-a61d-6c553f7007e7",
   "metadata": {},
   "outputs": [],
   "source": []
  },
  {
   "cell_type": "code",
   "execution_count": 22,
   "id": "0fbb2767-87e6-4d67-8ce4-19d0c4305c01",
   "metadata": {},
   "outputs": [
    {
     "data": {
      "text/html": [
       "<div>\n",
       "<style scoped>\n",
       "    .dataframe tbody tr th:only-of-type {\n",
       "        vertical-align: middle;\n",
       "    }\n",
       "\n",
       "    .dataframe tbody tr th {\n",
       "        vertical-align: top;\n",
       "    }\n",
       "\n",
       "    .dataframe thead th {\n",
       "        text-align: right;\n",
       "    }\n",
       "</style>\n",
       "<table border=\"1\" class=\"dataframe\">\n",
       "  <thead>\n",
       "    <tr style=\"text-align: right;\">\n",
       "      <th></th>\n",
       "      <th>id</th>\n",
       "      <th>title</th>\n",
       "      <th>introText</th>\n",
       "      <th>jobdesignation</th>\n",
       "      <th>min</th>\n",
       "      <th>max</th>\n",
       "      <th>createdBy</th>\n",
       "      <th>creatorDomainName</th>\n",
       "      <th>categoryId</th>\n",
       "      <th>jobDetailUrl</th>\n",
       "      <th>...</th>\n",
       "      <th>maxBatch</th>\n",
       "      <th>brandJobFlag</th>\n",
       "      <th>companyDomain</th>\n",
       "      <th>lableId</th>\n",
       "      <th>companyData</th>\n",
       "      <th>recruiter</th>\n",
       "      <th>jobStatusInfo</th>\n",
       "      <th>refreshStatus</th>\n",
       "      <th>location</th>\n",
       "      <th>showRecruiterProfile</th>\n",
       "    </tr>\n",
       "  </thead>\n",
       "  <tbody>\n",
       "    <tr>\n",
       "      <th>0</th>\n",
       "      <td>1373765</td>\n",
       "      <td>Assistant Manager - Talent Acquisition (5-8 yrs)</td>\n",
       "      <td>&lt;p&gt;Job Description:&lt;br/&gt;&lt;br/&gt;End to end recrui...</td>\n",
       "      <td>Assiatant Manager - Talent Acquisition</td>\n",
       "      <td>5</td>\n",
       "      <td>8</td>\n",
       "      <td>197197</td>\n",
       "      <td>leadway.in</td>\n",
       "      <td>17</td>\n",
       "      <td>https://www.iimjobs.com/j/assistant-manager-ta...</td>\n",
       "      <td>...</td>\n",
       "      <td>None</td>\n",
       "      <td>0</td>\n",
       "      <td>None</td>\n",
       "      <td>None</td>\n",
       "      <td>{'companyId': 0, 'companyName': 'Leadway Resou...</td>\n",
       "      <td>{'recruiterId': 197197, 'recruiterName': 'Aksh...</td>\n",
       "      <td>None</td>\n",
       "      <td>0</td>\n",
       "      <td>[{'id': 7, 'name': 'Pune'}]</td>\n",
       "      <td>NaN</td>\n",
       "    </tr>\n",
       "  </tbody>\n",
       "</table>\n",
       "<p>1 rows × 51 columns</p>\n",
       "</div>"
      ],
      "text/plain": [
       "        id                                             title  \\\n",
       "0  1373765  Assistant Manager - Talent Acquisition (5-8 yrs)   \n",
       "\n",
       "                                           introText  \\\n",
       "0  <p>Job Description:<br/><br/>End to end recrui...   \n",
       "\n",
       "                           jobdesignation  min  max  createdBy  \\\n",
       "0  Assiatant Manager - Talent Acquisition    5    8     197197   \n",
       "\n",
       "  creatorDomainName  categoryId  \\\n",
       "0        leadway.in          17   \n",
       "\n",
       "                                        jobDetailUrl  ...  maxBatch  \\\n",
       "0  https://www.iimjobs.com/j/assistant-manager-ta...  ...      None   \n",
       "\n",
       "   brandJobFlag  companyDomain  lableId  \\\n",
       "0             0           None     None   \n",
       "\n",
       "                                         companyData  \\\n",
       "0  {'companyId': 0, 'companyName': 'Leadway Resou...   \n",
       "\n",
       "                                           recruiter  jobStatusInfo  \\\n",
       "0  {'recruiterId': 197197, 'recruiterName': 'Aksh...           None   \n",
       "\n",
       "   refreshStatus                     location  showRecruiterProfile  \n",
       "0              0  [{'id': 7, 'name': 'Pune'}]                   NaN  \n",
       "\n",
       "[1 rows x 51 columns]"
      ]
     },
     "execution_count": 22,
     "metadata": {},
     "output_type": "execute_result"
    }
   ],
   "source": [
    "jdf.sample()"
   ]
  },
  {
   "cell_type": "code",
   "execution_count": null,
   "id": "c4cc2429-0ff7-4d20-84f3-4660ffee174a",
   "metadata": {},
   "outputs": [],
   "source": []
  },
  {
   "cell_type": "code",
   "execution_count": 23,
   "id": "e0512063-8f35-43c6-830d-3092bac98eb1",
   "metadata": {},
   "outputs": [
    {
     "data": {
      "text/html": [
       "<div>\n",
       "<style scoped>\n",
       "    .dataframe tbody tr th:only-of-type {\n",
       "        vertical-align: middle;\n",
       "    }\n",
       "\n",
       "    .dataframe tbody tr th {\n",
       "        vertical-align: top;\n",
       "    }\n",
       "\n",
       "    .dataframe thead th {\n",
       "        text-align: right;\n",
       "    }\n",
       "</style>\n",
       "<table border=\"1\" class=\"dataframe\">\n",
       "  <thead>\n",
       "    <tr style=\"text-align: right;\">\n",
       "      <th></th>\n",
       "      <th>id</th>\n",
       "      <th>title</th>\n",
       "      <th>introText</th>\n",
       "      <th>jobdesignation</th>\n",
       "      <th>min</th>\n",
       "      <th>max</th>\n",
       "      <th>createdBy</th>\n",
       "      <th>creatorDomainName</th>\n",
       "      <th>categoryId</th>\n",
       "      <th>jobDetailUrl</th>\n",
       "      <th>...</th>\n",
       "      <th>maxBatch</th>\n",
       "      <th>brandJobFlag</th>\n",
       "      <th>companyDomain</th>\n",
       "      <th>lableId</th>\n",
       "      <th>companyData</th>\n",
       "      <th>recruiter</th>\n",
       "      <th>jobStatusInfo</th>\n",
       "      <th>refreshStatus</th>\n",
       "      <th>location</th>\n",
       "      <th>showRecruiterProfile</th>\n",
       "    </tr>\n",
       "  </thead>\n",
       "  <tbody>\n",
       "    <tr>\n",
       "      <th>0</th>\n",
       "      <td>1376192</td>\n",
       "      <td>Assistant Manager - Finance &amp; Accounts (6-9 yrs)</td>\n",
       "      <td>&lt;p&gt;Department : Finance &amp; Accounts&lt;/p&gt;&lt;p&gt;&lt;br/&gt;...</td>\n",
       "      <td>Assistant Manager - Finance &amp; Accounts</td>\n",
       "      <td>6</td>\n",
       "      <td>9</td>\n",
       "      <td>209485</td>\n",
       "      <td>eugenix.in</td>\n",
       "      <td>13</td>\n",
       "      <td>https://www.iimjobs.com/j/assistant-manager-fi...</td>\n",
       "      <td>...</td>\n",
       "      <td>None</td>\n",
       "      <td>0</td>\n",
       "      <td>None</td>\n",
       "      <td>None</td>\n",
       "      <td>{'companyId': 0, 'companyName': 'Eugenix Hair ...</td>\n",
       "      <td>{'recruiterId': 209485, 'recruiterName': 'Mali...</td>\n",
       "      <td>None</td>\n",
       "      <td>1</td>\n",
       "      <td>[{'id': 37, 'name': 'Gurgaon/Gurugram'}]</td>\n",
       "      <td>NaN</td>\n",
       "    </tr>\n",
       "  </tbody>\n",
       "</table>\n",
       "<p>1 rows × 51 columns</p>\n",
       "</div>"
      ],
      "text/plain": [
       "        id                                             title  \\\n",
       "0  1376192  Assistant Manager - Finance & Accounts (6-9 yrs)   \n",
       "\n",
       "                                           introText  \\\n",
       "0  <p>Department : Finance & Accounts</p><p><br/>...   \n",
       "\n",
       "                           jobdesignation  min  max  createdBy  \\\n",
       "0  Assistant Manager - Finance & Accounts    6    9     209485   \n",
       "\n",
       "  creatorDomainName  categoryId  \\\n",
       "0        eugenix.in          13   \n",
       "\n",
       "                                        jobDetailUrl  ...  maxBatch  \\\n",
       "0  https://www.iimjobs.com/j/assistant-manager-fi...  ...      None   \n",
       "\n",
       "   brandJobFlag  companyDomain  lableId  \\\n",
       "0             0           None     None   \n",
       "\n",
       "                                         companyData  \\\n",
       "0  {'companyId': 0, 'companyName': 'Eugenix Hair ...   \n",
       "\n",
       "                                           recruiter  jobStatusInfo  \\\n",
       "0  {'recruiterId': 209485, 'recruiterName': 'Mali...           None   \n",
       "\n",
       "   refreshStatus                                  location  \\\n",
       "0              1  [{'id': 37, 'name': 'Gurgaon/Gurugram'}]   \n",
       "\n",
       "   showRecruiterProfile  \n",
       "0                   NaN  \n",
       "\n",
       "[1 rows x 51 columns]"
      ]
     },
     "execution_count": 23,
     "metadata": {},
     "output_type": "execute_result"
    }
   ],
   "source": [
    "jdf[jdf['applyCount']>=70].sample()"
   ]
  },
  {
   "cell_type": "code",
   "execution_count": 24,
   "id": "2236ab57-b8ac-47c0-8516-0bde35e77ac5",
   "metadata": {},
   "outputs": [],
   "source": [
    "#filter out jobs, select ones with atleast 50 applications\n",
    "count_df = dataset['job_id'].value_counts().reset_index()"
   ]
  },
  {
   "cell_type": "code",
   "execution_count": 25,
   "id": "bf89bba4-817c-4042-b2a9-91bd21e67bf1",
   "metadata": {},
   "outputs": [],
   "source": [
    "jlist = count_df.sample(100)['job_id'].values\n",
    "sample_set = dataset[dataset['job_id'].isin(jlist)]\n",
    "jl2 = sample_set[['job_id','user_id']].values.tolist()"
   ]
  },
  {
   "cell_type": "code",
   "execution_count": null,
   "id": "5e6655b7-935d-47cd-a058-77243b7afc3f",
   "metadata": {},
   "outputs": [],
   "source": []
  },
  {
   "cell_type": "code",
   "execution_count": null,
   "id": "dcab4506-4433-454a-a9ed-a443977b537b",
   "metadata": {},
   "outputs": [],
   "source": []
  },
  {
   "cell_type": "code",
   "execution_count": 70,
   "id": "49ed97eb-4690-4d97-81d3-b5fc13da5880",
   "metadata": {},
   "outputs": [
    {
     "data": {
      "text/plain": [
       "60"
      ]
     },
     "execution_count": 70,
     "metadata": {},
     "output_type": "execute_result"
    }
   ],
   "source": [
    "dataset[dataset['job_id']==1373922].shape[0]"
   ]
  },
  {
   "cell_type": "code",
   "execution_count": 71,
   "id": "cfc97c84-ac60-4c45-b2ec-b86a25f7aee2",
   "metadata": {},
   "outputs": [],
   "source": [
    "ds = dataset[dataset['job_id']==1373922]"
   ]
  },
  {
   "cell_type": "code",
   "execution_count": 61,
   "id": "7ea7018a-aa41-432c-9b00-39414e18d15b",
   "metadata": {},
   "outputs": [
    {
     "data": {
      "text/html": [
       "<div>\n",
       "<style scoped>\n",
       "    .dataframe tbody tr th:only-of-type {\n",
       "        vertical-align: middle;\n",
       "    }\n",
       "\n",
       "    .dataframe tbody tr th {\n",
       "        vertical-align: top;\n",
       "    }\n",
       "\n",
       "    .dataframe thead th {\n",
       "        text-align: right;\n",
       "    }\n",
       "</style>\n",
       "<table border=\"1\" class=\"dataframe\">\n",
       "  <thead>\n",
       "    <tr style=\"text-align: right;\">\n",
       "      <th></th>\n",
       "      <th>id</th>\n",
       "      <th>title</th>\n",
       "      <th>introText</th>\n",
       "      <th>jobdesignation</th>\n",
       "      <th>min</th>\n",
       "      <th>max</th>\n",
       "      <th>createdBy</th>\n",
       "      <th>creatorDomainName</th>\n",
       "      <th>categoryId</th>\n",
       "      <th>jobDetailUrl</th>\n",
       "      <th>...</th>\n",
       "      <th>maxBatch</th>\n",
       "      <th>brandJobFlag</th>\n",
       "      <th>companyDomain</th>\n",
       "      <th>lableId</th>\n",
       "      <th>companyData</th>\n",
       "      <th>recruiter</th>\n",
       "      <th>jobStatusInfo</th>\n",
       "      <th>refreshStatus</th>\n",
       "      <th>showRecruiterProfile</th>\n",
       "      <th>location</th>\n",
       "    </tr>\n",
       "  </thead>\n",
       "  <tbody>\n",
       "    <tr>\n",
       "      <th>0</th>\n",
       "      <td>1373922</td>\n",
       "      <td>EPIC Investment Partners - Finance Manager (5-...</td>\n",
       "      <td>&lt;p&gt;&lt;b&gt;About Us:&lt;/b&gt;&lt;br/&gt;&lt;br/&gt;EPIC Investment P...</td>\n",
       "      <td>Manager - Financial Analyst</td>\n",
       "      <td>5</td>\n",
       "      <td>8</td>\n",
       "      <td>228357</td>\n",
       "      <td>epicip.com</td>\n",
       "      <td>13</td>\n",
       "      <td>https://www.iimjobs.com/j/epic-investment-part...</td>\n",
       "      <td>...</td>\n",
       "      <td>None</td>\n",
       "      <td>0</td>\n",
       "      <td>None</td>\n",
       "      <td>None</td>\n",
       "      <td>{'companyId': 0, 'companyName': 'EPIC Administ...</td>\n",
       "      <td>{'recruiterId': 228357, 'recruiterName': 'ROSH...</td>\n",
       "      <td>None</td>\n",
       "      <td>0</td>\n",
       "      <td>NaN</td>\n",
       "      <td>[{'id': 38, 'name': 'Noida'}]</td>\n",
       "    </tr>\n",
       "  </tbody>\n",
       "</table>\n",
       "<p>1 rows × 51 columns</p>\n",
       "</div>"
      ],
      "text/plain": [
       "        id                                              title  \\\n",
       "0  1373922  EPIC Investment Partners - Finance Manager (5-...   \n",
       "\n",
       "                                           introText  \\\n",
       "0  <p><b>About Us:</b><br/><br/>EPIC Investment P...   \n",
       "\n",
       "                jobdesignation  min  max  createdBy creatorDomainName  \\\n",
       "0  Manager - Financial Analyst    5    8     228357        epicip.com   \n",
       "\n",
       "   categoryId                                       jobDetailUrl  ...  \\\n",
       "0          13  https://www.iimjobs.com/j/epic-investment-part...  ...   \n",
       "\n",
       "   maxBatch  brandJobFlag  companyDomain  lableId  \\\n",
       "0      None             0           None     None   \n",
       "\n",
       "                                         companyData  \\\n",
       "0  {'companyId': 0, 'companyName': 'EPIC Administ...   \n",
       "\n",
       "                                           recruiter  jobStatusInfo  \\\n",
       "0  {'recruiterId': 228357, 'recruiterName': 'ROSH...           None   \n",
       "\n",
       "   refreshStatus  showRecruiterProfile                       location  \n",
       "0              0                   NaN  [{'id': 38, 'name': 'Noida'}]  \n",
       "\n",
       "[1 rows x 51 columns]"
      ]
     },
     "execution_count": 61,
     "metadata": {},
     "output_type": "execute_result"
    }
   ],
   "source": [
    "jdf[jdf['id']==1373922]"
   ]
  },
  {
   "cell_type": "code",
   "execution_count": 62,
   "id": "cb72418f-e30f-44a1-8265-5f213703217c",
   "metadata": {},
   "outputs": [
    {
     "name": "stdout",
     "output_type": "stream",
     "text": [
      "<p>Role Requirements<br/><br/>- Drive the financial planning of the company by analyzing its performance and risks<br/><br/>- Retain constant awareness of the company's financial position and act to prevent problems<br/><br/>- Set up and oversee the company's finance ERP system & automation<br/><br/>- Managing all finance and accounting operations<br/><br/>- Oversee all audit and internal control operations<br/><br/>- Develop the corporate fundraising strategy and manage relationships with partners and investors<br/><br/>- Prepare timely and detailed reports on financial performance on a quarterly and annual basis<br/><br/>- Conduct analysis to make forecasts<br/><br/>- Ensure adherence to financial laws and guidelines</p>\n"
     ]
    }
   ],
   "source": [
    "print(html.unescape(jdf[jdf['id']==1374034]['introText'].values[0]))"
   ]
  },
  {
   "cell_type": "code",
   "execution_count": null,
   "id": "6d1edef7-803e-457f-a443-51829901aa13",
   "metadata": {},
   "outputs": [],
   "source": []
  },
  {
   "cell_type": "code",
   "execution_count": 63,
   "id": "26ad258e-1396-41f8-9a73-d0902bb3ce06",
   "metadata": {},
   "outputs": [],
   "source": [
    "ex = ds[['job_id','user_id']].to_numpy().tolist()"
   ]
  },
  {
   "cell_type": "code",
   "execution_count": 64,
   "id": "7097bb8c-dcb2-4b80-b117-a40ab8896c80",
   "metadata": {},
   "outputs": [],
   "source": [
    "import random"
   ]
  },
  {
   "cell_type": "code",
   "execution_count": 1,
   "id": "d37278a6-b205-46f2-bd84-b5655402cd4a",
   "metadata": {},
   "outputs": [],
   "source": [
    "responses = {}\n",
    "# job_user_list = dataset[['job_id','user_id']].sample(frac=1).drop_duplicates().to_numpy().tolist()\n",
    "\n",
    "# jul = random.sample(job_user_list,50)\n",
    "\n",
    "for jobid, userid in tqdm(jl2):\n",
    "\n",
    "    user_id_list = dataset.loc[dataset['job_id']==jobid]['user_id'].tolist()\n",
    "    try:\n",
    "        jt = fetch_job_title(str(jobid))\n",
    "    except Exception as e:\n",
    "        print(f'Error while getting job data for job id {jobid} is {e}\\n')\n",
    "        continue\n",
    "\n",
    "    if jobid in responses:\n",
    "        pass\n",
    "    else:\n",
    "        responses[jobid] = {}\n",
    "\n",
    "    try:\n",
    "        es_output = get_user_info(userid)\n",
    "        rt = es_output['resume'][0]\n",
    "        rt = html.unescape(rt)\n",
    "    except Exception as e:\n",
    "        print(f'Error while getting resume text for user_id {userid} is {e}\\n')\n",
    "        continue\n",
    "    \n",
    "    full_doc = get_answer_from_vllm(rt,jt, llm)\n",
    "    responses[jobid][userid] = full_doc"
   ]
  },
  {
   "cell_type": "code",
   "execution_count": 66,
   "id": "3c37b8c9-47c3-4416-8e57-19e141089ccb",
   "metadata": {},
   "outputs": [
    {
     "data": {
      "text/plain": [
       "{}"
      ]
     },
     "execution_count": 66,
     "metadata": {},
     "output_type": "execute_result"
    }
   ],
   "source": [
    "responses"
   ]
  },
  {
   "cell_type": "code",
   "execution_count": 88,
   "id": "7534013a-4fdd-4a37-aeb3-0e149a02c7c1",
   "metadata": {},
   "outputs": [
    {
     "name": "stderr",
     "output_type": "stream",
     "text": [
      "100%|██████████████████████████████████████████████████████████████████████████████████████████████████████████████████████████████████████| 51/51 [00:00<00:00, 87.23it/s]\n",
      "100%|███████████████████████████████████████████████████████████████████████████████████████████████████████████████████████████████████| 51/51 [00:00<00:00, 54764.34it/s]\n"
     ]
    }
   ],
   "source": [
    "df = get_user_data_search_embed(ds['user_id'].tolist())\n",
    "\n",
    "def make_clickable(link):\n",
    "    return f'<a href=\"{link}\" target=\"_blank\">{link}</a>'\n",
    "    \n",
    "final_usr=pd.DataFrame()\n",
    "\n",
    "for x in df['id']:\n",
    "    hy = \"https://search.iimjobs.com/profile/userid\"\n",
    "    mini = df.loc[df['id'] == x].copy()\n",
    "    mini['user_profile'] = [hy.replace(\"userid\", str(x))]\n",
    "    final_usr = pd.concat([final_usr, mini], ignore_index=True)\n",
    "\n",
    "final_usr.reset_index(drop=True, inplace=True)\n",
    "final_usr['user_profile'] = final_usr['user_profile'].apply(lambda x: make_clickable(x))\n",
    "\n",
    "final_usr = final_usr[['id','current_designation','user_experience','user_profile']]"
   ]
  },
  {
   "cell_type": "code",
   "execution_count": null,
   "id": "eba2a6e1-4081-4a41-b7c2-0f52d7fab57f",
   "metadata": {},
   "outputs": [],
   "source": []
  },
  {
   "cell_type": "code",
   "execution_count": 89,
   "id": "afc70841-0f19-432e-974d-5b39304b7bc9",
   "metadata": {},
   "outputs": [
    {
     "data": {
      "text/html": [
       "<style type=\"text/css\">\n",
       "</style>\n",
       "<table id=\"T_2090b\">\n",
       "  <thead>\n",
       "    <tr>\n",
       "      <th class=\"blank level0\" >&nbsp;</th>\n",
       "      <th id=\"T_2090b_level0_col0\" class=\"col_heading level0 col0\" >id</th>\n",
       "      <th id=\"T_2090b_level0_col1\" class=\"col_heading level0 col1\" >current_designation</th>\n",
       "      <th id=\"T_2090b_level0_col2\" class=\"col_heading level0 col2\" >user_experience</th>\n",
       "      <th id=\"T_2090b_level0_col3\" class=\"col_heading level0 col3\" >user_profile</th>\n",
       "    </tr>\n",
       "  </thead>\n",
       "  <tbody>\n",
       "    <tr>\n",
       "      <th id=\"T_2090b_level0_row0\" class=\"row_heading level0 row0\" >0</th>\n",
       "      <td id=\"T_2090b_row0_col0\" class=\"data row0 col0\" >116512</td>\n",
       "      <td id=\"T_2090b_row0_col1\" class=\"data row0 col1\" >Chief Finance Officer</td>\n",
       "      <td id=\"T_2090b_row0_col2\" class=\"data row0 col2\" >17</td>\n",
       "      <td id=\"T_2090b_row0_col3\" class=\"data row0 col3\" ><a href=\"<a href=\"https://search.iimjobs.com/profile/116512\" target=\"_blank\">https://search.iimjobs.com/profile/116512</a>\" target=\"_blank\"><a href=\"https://search.iimjobs.com/profile/116512\" target=\"_blank\">https://search.iimjobs.com/profile/116512</a></a></td>\n",
       "    </tr>\n",
       "    <tr>\n",
       "      <th id=\"T_2090b_level0_row1\" class=\"row_heading level0 row1\" >1</th>\n",
       "      <td id=\"T_2090b_row1_col0\" class=\"data row1 col0\" >859535</td>\n",
       "      <td id=\"T_2090b_row1_col1\" class=\"data row1 col1\" >Consultant, Technical Accounting</td>\n",
       "      <td id=\"T_2090b_row1_col2\" class=\"data row1 col2\" >17</td>\n",
       "      <td id=\"T_2090b_row1_col3\" class=\"data row1 col3\" ><a href=\"<a href=\"https://search.iimjobs.com/profile/859535\" target=\"_blank\">https://search.iimjobs.com/profile/859535</a>\" target=\"_blank\"><a href=\"https://search.iimjobs.com/profile/859535\" target=\"_blank\">https://search.iimjobs.com/profile/859535</a></a></td>\n",
       "    </tr>\n",
       "    <tr>\n",
       "      <th id=\"T_2090b_level0_row2\" class=\"row_heading level0 row2\" >2</th>\n",
       "      <td id=\"T_2090b_row2_col0\" class=\"data row2 col0\" >67897</td>\n",
       "      <td id=\"T_2090b_row2_col1\" class=\"data row2 col1\" >Assistant Vice President</td>\n",
       "      <td id=\"T_2090b_row2_col2\" class=\"data row2 col2\" >14</td>\n",
       "      <td id=\"T_2090b_row2_col3\" class=\"data row2 col3\" ><a href=\"<a href=\"https://search.iimjobs.com/profile/67897\" target=\"_blank\">https://search.iimjobs.com/profile/67897</a>\" target=\"_blank\"><a href=\"https://search.iimjobs.com/profile/67897\" target=\"_blank\">https://search.iimjobs.com/profile/67897</a></a></td>\n",
       "    </tr>\n",
       "    <tr>\n",
       "      <th id=\"T_2090b_level0_row3\" class=\"row_heading level0 row3\" >3</th>\n",
       "      <td id=\"T_2090b_row3_col0\" class=\"data row3 col0\" >1292574</td>\n",
       "      <td id=\"T_2090b_row3_col1\" class=\"data row3 col1\" >Business Finance Head- Assistant Vice President</td>\n",
       "      <td id=\"T_2090b_row3_col2\" class=\"data row3 col2\" >16</td>\n",
       "      <td id=\"T_2090b_row3_col3\" class=\"data row3 col3\" ><a href=\"<a href=\"https://search.iimjobs.com/profile/1292574\" target=\"_blank\">https://search.iimjobs.com/profile/1292574</a>\" target=\"_blank\"><a href=\"https://search.iimjobs.com/profile/1292574\" target=\"_blank\">https://search.iimjobs.com/profile/1292574</a></a></td>\n",
       "    </tr>\n",
       "    <tr>\n",
       "      <th id=\"T_2090b_level0_row4\" class=\"row_heading level0 row4\" >4</th>\n",
       "      <td id=\"T_2090b_row4_col0\" class=\"data row4 col0\" >112718</td>\n",
       "      <td id=\"T_2090b_row4_col1\" class=\"data row4 col1\" >Assistant General Manager (AGM)</td>\n",
       "      <td id=\"T_2090b_row4_col2\" class=\"data row4 col2\" >11</td>\n",
       "      <td id=\"T_2090b_row4_col3\" class=\"data row4 col3\" ><a href=\"<a href=\"https://search.iimjobs.com/profile/112718\" target=\"_blank\">https://search.iimjobs.com/profile/112718</a>\" target=\"_blank\"><a href=\"https://search.iimjobs.com/profile/112718\" target=\"_blank\">https://search.iimjobs.com/profile/112718</a></a></td>\n",
       "    </tr>\n",
       "    <tr>\n",
       "      <th id=\"T_2090b_level0_row5\" class=\"row_heading level0 row5\" >5</th>\n",
       "      <td id=\"T_2090b_row5_col0\" class=\"data row5 col0\" >207046</td>\n",
       "      <td id=\"T_2090b_row5_col1\" class=\"data row5 col1\" >Senior Finance Manager</td>\n",
       "      <td id=\"T_2090b_row5_col2\" class=\"data row5 col2\" >16</td>\n",
       "      <td id=\"T_2090b_row5_col3\" class=\"data row5 col3\" ><a href=\"<a href=\"https://search.iimjobs.com/profile/207046\" target=\"_blank\">https://search.iimjobs.com/profile/207046</a>\" target=\"_blank\"><a href=\"https://search.iimjobs.com/profile/207046\" target=\"_blank\">https://search.iimjobs.com/profile/207046</a></a></td>\n",
       "    </tr>\n",
       "    <tr>\n",
       "      <th id=\"T_2090b_level0_row6\" class=\"row_heading level0 row6\" >6</th>\n",
       "      <td id=\"T_2090b_row6_col0\" class=\"data row6 col0\" >946806</td>\n",
       "      <td id=\"T_2090b_row6_col1\" class=\"data row6 col1\" >Deputy Director</td>\n",
       "      <td id=\"T_2090b_row6_col2\" class=\"data row6 col2\" >8</td>\n",
       "      <td id=\"T_2090b_row6_col3\" class=\"data row6 col3\" ><a href=\"<a href=\"https://search.iimjobs.com/profile/946806\" target=\"_blank\">https://search.iimjobs.com/profile/946806</a>\" target=\"_blank\"><a href=\"https://search.iimjobs.com/profile/946806\" target=\"_blank\">https://search.iimjobs.com/profile/946806</a></a></td>\n",
       "    </tr>\n",
       "    <tr>\n",
       "      <th id=\"T_2090b_level0_row7\" class=\"row_heading level0 row7\" >7</th>\n",
       "      <td id=\"T_2090b_row7_col0\" class=\"data row7 col0\" >147544</td>\n",
       "      <td id=\"T_2090b_row7_col1\" class=\"data row7 col1\" >CFO</td>\n",
       "      <td id=\"T_2090b_row7_col2\" class=\"data row7 col2\" >13</td>\n",
       "      <td id=\"T_2090b_row7_col3\" class=\"data row7 col3\" ><a href=\"<a href=\"https://search.iimjobs.com/profile/147544\" target=\"_blank\">https://search.iimjobs.com/profile/147544</a>\" target=\"_blank\"><a href=\"https://search.iimjobs.com/profile/147544\" target=\"_blank\">https://search.iimjobs.com/profile/147544</a></a></td>\n",
       "    </tr>\n",
       "    <tr>\n",
       "      <th id=\"T_2090b_level0_row8\" class=\"row_heading level0 row8\" >8</th>\n",
       "      <td id=\"T_2090b_row8_col0\" class=\"data row8 col0\" >58130</td>\n",
       "      <td id=\"T_2090b_row8_col1\" class=\"data row8 col1\" >Head - Treasury & Operations (part of Senior Management Team)</td>\n",
       "      <td id=\"T_2090b_row8_col2\" class=\"data row8 col2\" >16</td>\n",
       "      <td id=\"T_2090b_row8_col3\" class=\"data row8 col3\" ><a href=\"<a href=\"https://search.iimjobs.com/profile/58130\" target=\"_blank\">https://search.iimjobs.com/profile/58130</a>\" target=\"_blank\"><a href=\"https://search.iimjobs.com/profile/58130\" target=\"_blank\">https://search.iimjobs.com/profile/58130</a></a></td>\n",
       "    </tr>\n",
       "    <tr>\n",
       "      <th id=\"T_2090b_level0_row9\" class=\"row_heading level0 row9\" >9</th>\n",
       "      <td id=\"T_2090b_row9_col0\" class=\"data row9 col0\" >41321</td>\n",
       "      <td id=\"T_2090b_row9_col1\" class=\"data row9 col1\" >Director Corporate Strategy and FP&A</td>\n",
       "      <td id=\"T_2090b_row9_col2\" class=\"data row9 col2\" >9</td>\n",
       "      <td id=\"T_2090b_row9_col3\" class=\"data row9 col3\" ><a href=\"<a href=\"https://search.iimjobs.com/profile/41321\" target=\"_blank\">https://search.iimjobs.com/profile/41321</a>\" target=\"_blank\"><a href=\"https://search.iimjobs.com/profile/41321\" target=\"_blank\">https://search.iimjobs.com/profile/41321</a></a></td>\n",
       "    </tr>\n",
       "    <tr>\n",
       "      <th id=\"T_2090b_level0_row10\" class=\"row_heading level0 row10\" >10</th>\n",
       "      <td id=\"T_2090b_row10_col0\" class=\"data row10 col0\" >1856237</td>\n",
       "      <td id=\"T_2090b_row10_col1\" class=\"data row10 col1\" >Chief Financial Officer </td>\n",
       "      <td id=\"T_2090b_row10_col2\" class=\"data row10 col2\" >25</td>\n",
       "      <td id=\"T_2090b_row10_col3\" class=\"data row10 col3\" ><a href=\"<a href=\"https://search.iimjobs.com/profile/1856237\" target=\"_blank\">https://search.iimjobs.com/profile/1856237</a>\" target=\"_blank\"><a href=\"https://search.iimjobs.com/profile/1856237\" target=\"_blank\">https://search.iimjobs.com/profile/1856237</a></a></td>\n",
       "    </tr>\n",
       "    <tr>\n",
       "      <th id=\"T_2090b_level0_row11\" class=\"row_heading level0 row11\" >11</th>\n",
       "      <td id=\"T_2090b_row11_col0\" class=\"data row11 col0\" >2753503</td>\n",
       "      <td id=\"T_2090b_row11_col1\" class=\"data row11 col1\" >Chief Manager</td>\n",
       "      <td id=\"T_2090b_row11_col2\" class=\"data row11 col2\" >12</td>\n",
       "      <td id=\"T_2090b_row11_col3\" class=\"data row11 col3\" ><a href=\"<a href=\"https://search.iimjobs.com/profile/2753503\" target=\"_blank\">https://search.iimjobs.com/profile/2753503</a>\" target=\"_blank\"><a href=\"https://search.iimjobs.com/profile/2753503\" target=\"_blank\">https://search.iimjobs.com/profile/2753503</a></a></td>\n",
       "    </tr>\n",
       "    <tr>\n",
       "      <th id=\"T_2090b_level0_row12\" class=\"row_heading level0 row12\" >12</th>\n",
       "      <td id=\"T_2090b_row12_col0\" class=\"data row12 col0\" >2399014</td>\n",
       "      <td id=\"T_2090b_row12_col1\" class=\"data row12 col1\" >Chartered Accountant </td>\n",
       "      <td id=\"T_2090b_row12_col2\" class=\"data row12 col2\" >18</td>\n",
       "      <td id=\"T_2090b_row12_col3\" class=\"data row12 col3\" ><a href=\"<a href=\"https://search.iimjobs.com/profile/2399014\" target=\"_blank\">https://search.iimjobs.com/profile/2399014</a>\" target=\"_blank\"><a href=\"https://search.iimjobs.com/profile/2399014\" target=\"_blank\">https://search.iimjobs.com/profile/2399014</a></a></td>\n",
       "    </tr>\n",
       "    <tr>\n",
       "      <th id=\"T_2090b_level0_row13\" class=\"row_heading level0 row13\" >13</th>\n",
       "      <td id=\"T_2090b_row13_col0\" class=\"data row13 col0\" >405710</td>\n",
       "      <td id=\"T_2090b_row13_col1\" class=\"data row13 col1\" >General Manager, Finance</td>\n",
       "      <td id=\"T_2090b_row13_col2\" class=\"data row13 col2\" >22</td>\n",
       "      <td id=\"T_2090b_row13_col3\" class=\"data row13 col3\" ><a href=\"<a href=\"https://search.iimjobs.com/profile/405710\" target=\"_blank\">https://search.iimjobs.com/profile/405710</a>\" target=\"_blank\"><a href=\"https://search.iimjobs.com/profile/405710\" target=\"_blank\">https://search.iimjobs.com/profile/405710</a></a></td>\n",
       "    </tr>\n",
       "    <tr>\n",
       "      <th id=\"T_2090b_level0_row14\" class=\"row_heading level0 row14\" >14</th>\n",
       "      <td id=\"T_2090b_row14_col0\" class=\"data row14 col0\" >1431937</td>\n",
       "      <td id=\"T_2090b_row14_col1\" class=\"data row14 col1\" >Vice President</td>\n",
       "      <td id=\"T_2090b_row14_col2\" class=\"data row14 col2\" >15</td>\n",
       "      <td id=\"T_2090b_row14_col3\" class=\"data row14 col3\" ><a href=\"<a href=\"https://search.iimjobs.com/profile/1431937\" target=\"_blank\">https://search.iimjobs.com/profile/1431937</a>\" target=\"_blank\"><a href=\"https://search.iimjobs.com/profile/1431937\" target=\"_blank\">https://search.iimjobs.com/profile/1431937</a></a></td>\n",
       "    </tr>\n",
       "    <tr>\n",
       "      <th id=\"T_2090b_level0_row15\" class=\"row_heading level0 row15\" >15</th>\n",
       "      <td id=\"T_2090b_row15_col0\" class=\"data row15 col0\" >1442515</td>\n",
       "      <td id=\"T_2090b_row15_col1\" class=\"data row15 col1\" >GM. Finance & Accounts</td>\n",
       "      <td id=\"T_2090b_row15_col2\" class=\"data row15 col2\" >20</td>\n",
       "      <td id=\"T_2090b_row15_col3\" class=\"data row15 col3\" ><a href=\"<a href=\"https://search.iimjobs.com/profile/1442515\" target=\"_blank\">https://search.iimjobs.com/profile/1442515</a>\" target=\"_blank\"><a href=\"https://search.iimjobs.com/profile/1442515\" target=\"_blank\">https://search.iimjobs.com/profile/1442515</a></a></td>\n",
       "    </tr>\n",
       "    <tr>\n",
       "      <th id=\"T_2090b_level0_row16\" class=\"row_heading level0 row16\" >16</th>\n",
       "      <td id=\"T_2090b_row16_col0\" class=\"data row16 col0\" >2778171</td>\n",
       "      <td id=\"T_2090b_row16_col1\" class=\"data row16 col1\" >Deputy Manager</td>\n",
       "      <td id=\"T_2090b_row16_col2\" class=\"data row16 col2\" >12</td>\n",
       "      <td id=\"T_2090b_row16_col3\" class=\"data row16 col3\" ><a href=\"<a href=\"https://search.iimjobs.com/profile/2778171\" target=\"_blank\">https://search.iimjobs.com/profile/2778171</a>\" target=\"_blank\"><a href=\"https://search.iimjobs.com/profile/2778171\" target=\"_blank\">https://search.iimjobs.com/profile/2778171</a></a></td>\n",
       "    </tr>\n",
       "    <tr>\n",
       "      <th id=\"T_2090b_level0_row17\" class=\"row_heading level0 row17\" >17</th>\n",
       "      <td id=\"T_2090b_row17_col0\" class=\"data row17 col0\" >390284</td>\n",
       "      <td id=\"T_2090b_row17_col1\" class=\"data row17 col1\" >Head of Business Finance & Commercial</td>\n",
       "      <td id=\"T_2090b_row17_col2\" class=\"data row17 col2\" >20</td>\n",
       "      <td id=\"T_2090b_row17_col3\" class=\"data row17 col3\" ><a href=\"<a href=\"https://search.iimjobs.com/profile/390284\" target=\"_blank\">https://search.iimjobs.com/profile/390284</a>\" target=\"_blank\"><a href=\"https://search.iimjobs.com/profile/390284\" target=\"_blank\">https://search.iimjobs.com/profile/390284</a></a></td>\n",
       "    </tr>\n",
       "    <tr>\n",
       "      <th id=\"T_2090b_level0_row18\" class=\"row_heading level0 row18\" >18</th>\n",
       "      <td id=\"T_2090b_row18_col0\" class=\"data row18 col0\" >79494</td>\n",
       "      <td id=\"T_2090b_row18_col1\" class=\"data row18 col1\" >Assistant Vice President</td>\n",
       "      <td id=\"T_2090b_row18_col2\" class=\"data row18 col2\" >16</td>\n",
       "      <td id=\"T_2090b_row18_col3\" class=\"data row18 col3\" ><a href=\"<a href=\"https://search.iimjobs.com/profile/79494\" target=\"_blank\">https://search.iimjobs.com/profile/79494</a>\" target=\"_blank\"><a href=\"https://search.iimjobs.com/profile/79494\" target=\"_blank\">https://search.iimjobs.com/profile/79494</a></a></td>\n",
       "    </tr>\n",
       "    <tr>\n",
       "      <th id=\"T_2090b_level0_row19\" class=\"row_heading level0 row19\" >19</th>\n",
       "      <td id=\"T_2090b_row19_col0\" class=\"data row19 col0\" >1834146</td>\n",
       "      <td id=\"T_2090b_row19_col1\" class=\"data row19 col1\" >program manager</td>\n",
       "      <td id=\"T_2090b_row19_col2\" class=\"data row19 col2\" >10</td>\n",
       "      <td id=\"T_2090b_row19_col3\" class=\"data row19 col3\" ><a href=\"<a href=\"https://search.iimjobs.com/profile/1834146\" target=\"_blank\">https://search.iimjobs.com/profile/1834146</a>\" target=\"_blank\"><a href=\"https://search.iimjobs.com/profile/1834146\" target=\"_blank\">https://search.iimjobs.com/profile/1834146</a></a></td>\n",
       "    </tr>\n",
       "    <tr>\n",
       "      <th id=\"T_2090b_level0_row20\" class=\"row_heading level0 row20\" >20</th>\n",
       "      <td id=\"T_2090b_row20_col0\" class=\"data row20 col0\" >1005299</td>\n",
       "      <td id=\"T_2090b_row20_col1\" class=\"data row20 col1\" >AVP Finance</td>\n",
       "      <td id=\"T_2090b_row20_col2\" class=\"data row20 col2\" >15</td>\n",
       "      <td id=\"T_2090b_row20_col3\" class=\"data row20 col3\" ><a href=\"<a href=\"https://search.iimjobs.com/profile/1005299\" target=\"_blank\">https://search.iimjobs.com/profile/1005299</a>\" target=\"_blank\"><a href=\"https://search.iimjobs.com/profile/1005299\" target=\"_blank\">https://search.iimjobs.com/profile/1005299</a></a></td>\n",
       "    </tr>\n",
       "    <tr>\n",
       "      <th id=\"T_2090b_level0_row21\" class=\"row_heading level0 row21\" >21</th>\n",
       "      <td id=\"T_2090b_row21_col0\" class=\"data row21 col0\" >2756243</td>\n",
       "      <td id=\"T_2090b_row21_col1\" class=\"data row21 col1\" >CHIEF MANAGING AND FINANCIAL OFFICER</td>\n",
       "      <td id=\"T_2090b_row21_col2\" class=\"data row21 col2\" >31</td>\n",
       "      <td id=\"T_2090b_row21_col3\" class=\"data row21 col3\" ><a href=\"<a href=\"https://search.iimjobs.com/profile/2756243\" target=\"_blank\">https://search.iimjobs.com/profile/2756243</a>\" target=\"_blank\"><a href=\"https://search.iimjobs.com/profile/2756243\" target=\"_blank\">https://search.iimjobs.com/profile/2756243</a></a></td>\n",
       "    </tr>\n",
       "    <tr>\n",
       "      <th id=\"T_2090b_level0_row22\" class=\"row_heading level0 row22\" >22</th>\n",
       "      <td id=\"T_2090b_row22_col0\" class=\"data row22 col0\" >2800600</td>\n",
       "      <td id=\"T_2090b_row22_col1\" class=\"data row22 col1\" >Regional Manager </td>\n",
       "      <td id=\"T_2090b_row22_col2\" class=\"data row22 col2\" >7</td>\n",
       "      <td id=\"T_2090b_row22_col3\" class=\"data row22 col3\" ><a href=\"<a href=\"https://search.iimjobs.com/profile/2800600\" target=\"_blank\">https://search.iimjobs.com/profile/2800600</a>\" target=\"_blank\"><a href=\"https://search.iimjobs.com/profile/2800600\" target=\"_blank\">https://search.iimjobs.com/profile/2800600</a></a></td>\n",
       "    </tr>\n",
       "    <tr>\n",
       "      <th id=\"T_2090b_level0_row23\" class=\"row_heading level0 row23\" >23</th>\n",
       "      <td id=\"T_2090b_row23_col0\" class=\"data row23 col0\" >155713</td>\n",
       "      <td id=\"T_2090b_row23_col1\" class=\"data row23 col1\" >CFO</td>\n",
       "      <td id=\"T_2090b_row23_col2\" class=\"data row23 col2\" >19</td>\n",
       "      <td id=\"T_2090b_row23_col3\" class=\"data row23 col3\" ><a href=\"<a href=\"https://search.iimjobs.com/profile/155713\" target=\"_blank\">https://search.iimjobs.com/profile/155713</a>\" target=\"_blank\"><a href=\"https://search.iimjobs.com/profile/155713\" target=\"_blank\">https://search.iimjobs.com/profile/155713</a></a></td>\n",
       "    </tr>\n",
       "    <tr>\n",
       "      <th id=\"T_2090b_level0_row24\" class=\"row_heading level0 row24\" >24</th>\n",
       "      <td id=\"T_2090b_row24_col0\" class=\"data row24 col0\" >1748975</td>\n",
       "      <td id=\"T_2090b_row24_col1\" class=\"data row24 col1\" >Senior Manager - Finance & Accounts</td>\n",
       "      <td id=\"T_2090b_row24_col2\" class=\"data row24 col2\" >10</td>\n",
       "      <td id=\"T_2090b_row24_col3\" class=\"data row24 col3\" ><a href=\"<a href=\"https://search.iimjobs.com/profile/1748975\" target=\"_blank\">https://search.iimjobs.com/profile/1748975</a>\" target=\"_blank\"><a href=\"https://search.iimjobs.com/profile/1748975\" target=\"_blank\">https://search.iimjobs.com/profile/1748975</a></a></td>\n",
       "    </tr>\n",
       "    <tr>\n",
       "      <th id=\"T_2090b_level0_row25\" class=\"row_heading level0 row25\" >25</th>\n",
       "      <td id=\"T_2090b_row25_col0\" class=\"data row25 col0\" >143099</td>\n",
       "      <td id=\"T_2090b_row25_col1\" class=\"data row25 col1\" >Vice President-Group Operations Manager</td>\n",
       "      <td id=\"T_2090b_row25_col2\" class=\"data row25 col2\" >25</td>\n",
       "      <td id=\"T_2090b_row25_col3\" class=\"data row25 col3\" ><a href=\"<a href=\"https://search.iimjobs.com/profile/143099\" target=\"_blank\">https://search.iimjobs.com/profile/143099</a>\" target=\"_blank\"><a href=\"https://search.iimjobs.com/profile/143099\" target=\"_blank\">https://search.iimjobs.com/profile/143099</a></a></td>\n",
       "    </tr>\n",
       "    <tr>\n",
       "      <th id=\"T_2090b_level0_row26\" class=\"row_heading level0 row26\" >26</th>\n",
       "      <td id=\"T_2090b_row26_col0\" class=\"data row26 col0\" >1976685</td>\n",
       "      <td id=\"T_2090b_row26_col1\" class=\"data row26 col1\" >Vice President</td>\n",
       "      <td id=\"T_2090b_row26_col2\" class=\"data row26 col2\" >16</td>\n",
       "      <td id=\"T_2090b_row26_col3\" class=\"data row26 col3\" ><a href=\"<a href=\"https://search.iimjobs.com/profile/1976685\" target=\"_blank\">https://search.iimjobs.com/profile/1976685</a>\" target=\"_blank\"><a href=\"https://search.iimjobs.com/profile/1976685\" target=\"_blank\">https://search.iimjobs.com/profile/1976685</a></a></td>\n",
       "    </tr>\n",
       "    <tr>\n",
       "      <th id=\"T_2090b_level0_row27\" class=\"row_heading level0 row27\" >27</th>\n",
       "      <td id=\"T_2090b_row27_col0\" class=\"data row27 col0\" >206088</td>\n",
       "      <td id=\"T_2090b_row27_col1\" class=\"data row27 col1\" >Finance Head</td>\n",
       "      <td id=\"T_2090b_row27_col2\" class=\"data row27 col2\" >20</td>\n",
       "      <td id=\"T_2090b_row27_col3\" class=\"data row27 col3\" ><a href=\"<a href=\"https://search.iimjobs.com/profile/206088\" target=\"_blank\">https://search.iimjobs.com/profile/206088</a>\" target=\"_blank\"><a href=\"https://search.iimjobs.com/profile/206088\" target=\"_blank\">https://search.iimjobs.com/profile/206088</a></a></td>\n",
       "    </tr>\n",
       "    <tr>\n",
       "      <th id=\"T_2090b_level0_row28\" class=\"row_heading level0 row28\" >28</th>\n",
       "      <td id=\"T_2090b_row28_col0\" class=\"data row28 col0\" >859956</td>\n",
       "      <td id=\"T_2090b_row28_col1\" class=\"data row28 col1\" >Business Head</td>\n",
       "      <td id=\"T_2090b_row28_col2\" class=\"data row28 col2\" >10</td>\n",
       "      <td id=\"T_2090b_row28_col3\" class=\"data row28 col3\" ><a href=\"<a href=\"https://search.iimjobs.com/profile/859956\" target=\"_blank\">https://search.iimjobs.com/profile/859956</a>\" target=\"_blank\"><a href=\"https://search.iimjobs.com/profile/859956\" target=\"_blank\">https://search.iimjobs.com/profile/859956</a></a></td>\n",
       "    </tr>\n",
       "    <tr>\n",
       "      <th id=\"T_2090b_level0_row29\" class=\"row_heading level0 row29\" >29</th>\n",
       "      <td id=\"T_2090b_row29_col0\" class=\"data row29 col0\" >2782223</td>\n",
       "      <td id=\"T_2090b_row29_col1\" class=\"data row29 col1\" >General Manager Corporate Finance and Investor Relations </td>\n",
       "      <td id=\"T_2090b_row29_col2\" class=\"data row29 col2\" >13</td>\n",
       "      <td id=\"T_2090b_row29_col3\" class=\"data row29 col3\" ><a href=\"<a href=\"https://search.iimjobs.com/profile/2782223\" target=\"_blank\">https://search.iimjobs.com/profile/2782223</a>\" target=\"_blank\"><a href=\"https://search.iimjobs.com/profile/2782223\" target=\"_blank\">https://search.iimjobs.com/profile/2782223</a></a></td>\n",
       "    </tr>\n",
       "    <tr>\n",
       "      <th id=\"T_2090b_level0_row30\" class=\"row_heading level0 row30\" >30</th>\n",
       "      <td id=\"T_2090b_row30_col0\" class=\"data row30 col0\" >788132</td>\n",
       "      <td id=\"T_2090b_row30_col1\" class=\"data row30 col1\" >Vice President </td>\n",
       "      <td id=\"T_2090b_row30_col2\" class=\"data row30 col2\" >11</td>\n",
       "      <td id=\"T_2090b_row30_col3\" class=\"data row30 col3\" ><a href=\"<a href=\"https://search.iimjobs.com/profile/788132\" target=\"_blank\">https://search.iimjobs.com/profile/788132</a>\" target=\"_blank\"><a href=\"https://search.iimjobs.com/profile/788132\" target=\"_blank\">https://search.iimjobs.com/profile/788132</a></a></td>\n",
       "    </tr>\n",
       "    <tr>\n",
       "      <th id=\"T_2090b_level0_row31\" class=\"row_heading level0 row31\" >31</th>\n",
       "      <td id=\"T_2090b_row31_col0\" class=\"data row31 col0\" >318487</td>\n",
       "      <td id=\"T_2090b_row31_col1\" class=\"data row31 col1\" >Vice President Finance</td>\n",
       "      <td id=\"T_2090b_row31_col2\" class=\"data row31 col2\" >19</td>\n",
       "      <td id=\"T_2090b_row31_col3\" class=\"data row31 col3\" ><a href=\"<a href=\"https://search.iimjobs.com/profile/318487\" target=\"_blank\">https://search.iimjobs.com/profile/318487</a>\" target=\"_blank\"><a href=\"https://search.iimjobs.com/profile/318487\" target=\"_blank\">https://search.iimjobs.com/profile/318487</a></a></td>\n",
       "    </tr>\n",
       "    <tr>\n",
       "      <th id=\"T_2090b_level0_row32\" class=\"row_heading level0 row32\" >32</th>\n",
       "      <td id=\"T_2090b_row32_col0\" class=\"data row32 col0\" >220969</td>\n",
       "      <td id=\"T_2090b_row32_col1\" class=\"data row32 col1\" >Lead Role - Corporate Finance and Transformation</td>\n",
       "      <td id=\"T_2090b_row32_col2\" class=\"data row32 col2\" >13</td>\n",
       "      <td id=\"T_2090b_row32_col3\" class=\"data row32 col3\" ><a href=\"<a href=\"https://search.iimjobs.com/profile/220969\" target=\"_blank\">https://search.iimjobs.com/profile/220969</a>\" target=\"_blank\"><a href=\"https://search.iimjobs.com/profile/220969\" target=\"_blank\">https://search.iimjobs.com/profile/220969</a></a></td>\n",
       "    </tr>\n",
       "    <tr>\n",
       "      <th id=\"T_2090b_level0_row33\" class=\"row_heading level0 row33\" >33</th>\n",
       "      <td id=\"T_2090b_row33_col0\" class=\"data row33 col0\" >847215</td>\n",
       "      <td id=\"T_2090b_row33_col1\" class=\"data row33 col1\" >General Manager</td>\n",
       "      <td id=\"T_2090b_row33_col2\" class=\"data row33 col2\" >7</td>\n",
       "      <td id=\"T_2090b_row33_col3\" class=\"data row33 col3\" ><a href=\"<a href=\"https://search.iimjobs.com/profile/847215\" target=\"_blank\">https://search.iimjobs.com/profile/847215</a>\" target=\"_blank\"><a href=\"https://search.iimjobs.com/profile/847215\" target=\"_blank\">https://search.iimjobs.com/profile/847215</a></a></td>\n",
       "    </tr>\n",
       "    <tr>\n",
       "      <th id=\"T_2090b_level0_row34\" class=\"row_heading level0 row34\" >34</th>\n",
       "      <td id=\"T_2090b_row34_col0\" class=\"data row34 col0\" >624334</td>\n",
       "      <td id=\"T_2090b_row34_col1\" class=\"data row34 col1\" >General Manager Finance and Accounts</td>\n",
       "      <td id=\"T_2090b_row34_col2\" class=\"data row34 col2\" >20</td>\n",
       "      <td id=\"T_2090b_row34_col3\" class=\"data row34 col3\" ><a href=\"<a href=\"https://search.iimjobs.com/profile/624334\" target=\"_blank\">https://search.iimjobs.com/profile/624334</a>\" target=\"_blank\"><a href=\"https://search.iimjobs.com/profile/624334\" target=\"_blank\">https://search.iimjobs.com/profile/624334</a></a></td>\n",
       "    </tr>\n",
       "    <tr>\n",
       "      <th id=\"T_2090b_level0_row35\" class=\"row_heading level0 row35\" >35</th>\n",
       "      <td id=\"T_2090b_row35_col0\" class=\"data row35 col0\" >2578235</td>\n",
       "      <td id=\"T_2090b_row35_col1\" class=\"data row35 col1\" >Chief of Staff (Mergers & Acquisitions, Investor Relations, Due Diligence and Financial Modeling)</td>\n",
       "      <td id=\"T_2090b_row35_col2\" class=\"data row35 col2\" >8</td>\n",
       "      <td id=\"T_2090b_row35_col3\" class=\"data row35 col3\" ><a href=\"<a href=\"https://search.iimjobs.com/profile/2578235\" target=\"_blank\">https://search.iimjobs.com/profile/2578235</a>\" target=\"_blank\"><a href=\"https://search.iimjobs.com/profile/2578235\" target=\"_blank\">https://search.iimjobs.com/profile/2578235</a></a></td>\n",
       "    </tr>\n",
       "    <tr>\n",
       "      <th id=\"T_2090b_level0_row36\" class=\"row_heading level0 row36\" >36</th>\n",
       "      <td id=\"T_2090b_row36_col0\" class=\"data row36 col0\" >2383466</td>\n",
       "      <td id=\"T_2090b_row36_col1\" class=\"data row36 col1\" >Senior Manager Financial Planning</td>\n",
       "      <td id=\"T_2090b_row36_col2\" class=\"data row36 col2\" >6</td>\n",
       "      <td id=\"T_2090b_row36_col3\" class=\"data row36 col3\" ><a href=\"<a href=\"https://search.iimjobs.com/profile/2383466\" target=\"_blank\">https://search.iimjobs.com/profile/2383466</a>\" target=\"_blank\"><a href=\"https://search.iimjobs.com/profile/2383466\" target=\"_blank\">https://search.iimjobs.com/profile/2383466</a></a></td>\n",
       "    </tr>\n",
       "    <tr>\n",
       "      <th id=\"T_2090b_level0_row37\" class=\"row_heading level0 row37\" >37</th>\n",
       "      <td id=\"T_2090b_row37_col0\" class=\"data row37 col0\" >2786887</td>\n",
       "      <td id=\"T_2090b_row37_col1\" class=\"data row37 col1\" >Lead Payments</td>\n",
       "      <td id=\"T_2090b_row37_col2\" class=\"data row37 col2\" >9</td>\n",
       "      <td id=\"T_2090b_row37_col3\" class=\"data row37 col3\" ><a href=\"<a href=\"https://search.iimjobs.com/profile/2786887\" target=\"_blank\">https://search.iimjobs.com/profile/2786887</a>\" target=\"_blank\"><a href=\"https://search.iimjobs.com/profile/2786887\" target=\"_blank\">https://search.iimjobs.com/profile/2786887</a></a></td>\n",
       "    </tr>\n",
       "    <tr>\n",
       "      <th id=\"T_2090b_level0_row38\" class=\"row_heading level0 row38\" >38</th>\n",
       "      <td id=\"T_2090b_row38_col0\" class=\"data row38 col0\" >604975</td>\n",
       "      <td id=\"T_2090b_row38_col1\" class=\"data row38 col1\" >Management Consultant</td>\n",
       "      <td id=\"T_2090b_row38_col2\" class=\"data row38 col2\" >3</td>\n",
       "      <td id=\"T_2090b_row38_col3\" class=\"data row38 col3\" ><a href=\"<a href=\"https://search.iimjobs.com/profile/604975\" target=\"_blank\">https://search.iimjobs.com/profile/604975</a>\" target=\"_blank\"><a href=\"https://search.iimjobs.com/profile/604975\" target=\"_blank\">https://search.iimjobs.com/profile/604975</a></a></td>\n",
       "    </tr>\n",
       "    <tr>\n",
       "      <th id=\"T_2090b_level0_row39\" class=\"row_heading level0 row39\" >39</th>\n",
       "      <td id=\"T_2090b_row39_col0\" class=\"data row39 col0\" >167564</td>\n",
       "      <td id=\"T_2090b_row39_col1\" class=\"data row39 col1\" >CFO</td>\n",
       "      <td id=\"T_2090b_row39_col2\" class=\"data row39 col2\" >12</td>\n",
       "      <td id=\"T_2090b_row39_col3\" class=\"data row39 col3\" ><a href=\"<a href=\"https://search.iimjobs.com/profile/167564\" target=\"_blank\">https://search.iimjobs.com/profile/167564</a>\" target=\"_blank\"><a href=\"https://search.iimjobs.com/profile/167564\" target=\"_blank\">https://search.iimjobs.com/profile/167564</a></a></td>\n",
       "    </tr>\n",
       "    <tr>\n",
       "      <th id=\"T_2090b_level0_row40\" class=\"row_heading level0 row40\" >40</th>\n",
       "      <td id=\"T_2090b_row40_col0\" class=\"data row40 col0\" >539749</td>\n",
       "      <td id=\"T_2090b_row40_col1\" class=\"data row40 col1\" >Chief Financial Officer</td>\n",
       "      <td id=\"T_2090b_row40_col2\" class=\"data row40 col2\" >18</td>\n",
       "      <td id=\"T_2090b_row40_col3\" class=\"data row40 col3\" ><a href=\"<a href=\"https://search.iimjobs.com/profile/539749\" target=\"_blank\">https://search.iimjobs.com/profile/539749</a>\" target=\"_blank\"><a href=\"https://search.iimjobs.com/profile/539749\" target=\"_blank\">https://search.iimjobs.com/profile/539749</a></a></td>\n",
       "    </tr>\n",
       "    <tr>\n",
       "      <th id=\"T_2090b_level0_row41\" class=\"row_heading level0 row41\" >41</th>\n",
       "      <td id=\"T_2090b_row41_col0\" class=\"data row41 col0\" >970051</td>\n",
       "      <td id=\"T_2090b_row41_col1\" class=\"data row41 col1\" >Chief Financial Officer</td>\n",
       "      <td id=\"T_2090b_row41_col2\" class=\"data row41 col2\" >21</td>\n",
       "      <td id=\"T_2090b_row41_col3\" class=\"data row41 col3\" ><a href=\"<a href=\"https://search.iimjobs.com/profile/970051\" target=\"_blank\">https://search.iimjobs.com/profile/970051</a>\" target=\"_blank\"><a href=\"https://search.iimjobs.com/profile/970051\" target=\"_blank\">https://search.iimjobs.com/profile/970051</a></a></td>\n",
       "    </tr>\n",
       "    <tr>\n",
       "      <th id=\"T_2090b_level0_row42\" class=\"row_heading level0 row42\" >42</th>\n",
       "      <td id=\"T_2090b_row42_col0\" class=\"data row42 col0\" >1247577</td>\n",
       "      <td id=\"T_2090b_row42_col1\" class=\"data row42 col1\" >National account manager</td>\n",
       "      <td id=\"T_2090b_row42_col2\" class=\"data row42 col2\" >14</td>\n",
       "      <td id=\"T_2090b_row42_col3\" class=\"data row42 col3\" ><a href=\"<a href=\"https://search.iimjobs.com/profile/1247577\" target=\"_blank\">https://search.iimjobs.com/profile/1247577</a>\" target=\"_blank\"><a href=\"https://search.iimjobs.com/profile/1247577\" target=\"_blank\">https://search.iimjobs.com/profile/1247577</a></a></td>\n",
       "    </tr>\n",
       "    <tr>\n",
       "      <th id=\"T_2090b_level0_row43\" class=\"row_heading level0 row43\" >43</th>\n",
       "      <td id=\"T_2090b_row43_col0\" class=\"data row43 col0\" >1844262</td>\n",
       "      <td id=\"T_2090b_row43_col1\" class=\"data row43 col1\" >Sr Finance Executive</td>\n",
       "      <td id=\"T_2090b_row43_col2\" class=\"data row43 col2\" >8</td>\n",
       "      <td id=\"T_2090b_row43_col3\" class=\"data row43 col3\" ><a href=\"<a href=\"https://search.iimjobs.com/profile/1844262\" target=\"_blank\">https://search.iimjobs.com/profile/1844262</a>\" target=\"_blank\"><a href=\"https://search.iimjobs.com/profile/1844262\" target=\"_blank\">https://search.iimjobs.com/profile/1844262</a></a></td>\n",
       "    </tr>\n",
       "    <tr>\n",
       "      <th id=\"T_2090b_level0_row44\" class=\"row_heading level0 row44\" >44</th>\n",
       "      <td id=\"T_2090b_row44_col0\" class=\"data row44 col0\" >2236020</td>\n",
       "      <td id=\"T_2090b_row44_col1\" class=\"data row44 col1\" >General Manager Finance</td>\n",
       "      <td id=\"T_2090b_row44_col2\" class=\"data row44 col2\" >18</td>\n",
       "      <td id=\"T_2090b_row44_col3\" class=\"data row44 col3\" ><a href=\"<a href=\"https://search.iimjobs.com/profile/2236020\" target=\"_blank\">https://search.iimjobs.com/profile/2236020</a>\" target=\"_blank\"><a href=\"https://search.iimjobs.com/profile/2236020\" target=\"_blank\">https://search.iimjobs.com/profile/2236020</a></a></td>\n",
       "    </tr>\n",
       "    <tr>\n",
       "      <th id=\"T_2090b_level0_row45\" class=\"row_heading level0 row45\" >45</th>\n",
       "      <td id=\"T_2090b_row45_col0\" class=\"data row45 col0\" >1550140</td>\n",
       "      <td id=\"T_2090b_row45_col1\" class=\"data row45 col1\" >CFO</td>\n",
       "      <td id=\"T_2090b_row45_col2\" class=\"data row45 col2\" >13</td>\n",
       "      <td id=\"T_2090b_row45_col3\" class=\"data row45 col3\" ><a href=\"<a href=\"https://search.iimjobs.com/profile/1550140\" target=\"_blank\">https://search.iimjobs.com/profile/1550140</a>\" target=\"_blank\"><a href=\"https://search.iimjobs.com/profile/1550140\" target=\"_blank\">https://search.iimjobs.com/profile/1550140</a></a></td>\n",
       "    </tr>\n",
       "    <tr>\n",
       "      <th id=\"T_2090b_level0_row46\" class=\"row_heading level0 row46\" >46</th>\n",
       "      <td id=\"T_2090b_row46_col0\" class=\"data row46 col0\" >519269</td>\n",
       "      <td id=\"T_2090b_row46_col1\" class=\"data row46 col1\" >Director Finance</td>\n",
       "      <td id=\"T_2090b_row46_col2\" class=\"data row46 col2\" >17</td>\n",
       "      <td id=\"T_2090b_row46_col3\" class=\"data row46 col3\" ><a href=\"<a href=\"https://search.iimjobs.com/profile/519269\" target=\"_blank\">https://search.iimjobs.com/profile/519269</a>\" target=\"_blank\"><a href=\"https://search.iimjobs.com/profile/519269\" target=\"_blank\">https://search.iimjobs.com/profile/519269</a></a></td>\n",
       "    </tr>\n",
       "    <tr>\n",
       "      <th id=\"T_2090b_level0_row47\" class=\"row_heading level0 row47\" >47</th>\n",
       "      <td id=\"T_2090b_row47_col0\" class=\"data row47 col0\" >1359713</td>\n",
       "      <td id=\"T_2090b_row47_col1\" class=\"data row47 col1\" >Deputy Chief Financial Officer </td>\n",
       "      <td id=\"T_2090b_row47_col2\" class=\"data row47 col2\" >16</td>\n",
       "      <td id=\"T_2090b_row47_col3\" class=\"data row47 col3\" ><a href=\"<a href=\"https://search.iimjobs.com/profile/1359713\" target=\"_blank\">https://search.iimjobs.com/profile/1359713</a>\" target=\"_blank\"><a href=\"https://search.iimjobs.com/profile/1359713\" target=\"_blank\">https://search.iimjobs.com/profile/1359713</a></a></td>\n",
       "    </tr>\n",
       "    <tr>\n",
       "      <th id=\"T_2090b_level0_row48\" class=\"row_heading level0 row48\" >48</th>\n",
       "      <td id=\"T_2090b_row48_col0\" class=\"data row48 col0\" >2721400</td>\n",
       "      <td id=\"T_2090b_row48_col1\" class=\"data row48 col1\" >Founding Team - Sales & Investors</td>\n",
       "      <td id=\"T_2090b_row48_col2\" class=\"data row48 col2\" >17</td>\n",
       "      <td id=\"T_2090b_row48_col3\" class=\"data row48 col3\" ><a href=\"<a href=\"https://search.iimjobs.com/profile/2721400\" target=\"_blank\">https://search.iimjobs.com/profile/2721400</a>\" target=\"_blank\"><a href=\"https://search.iimjobs.com/profile/2721400\" target=\"_blank\">https://search.iimjobs.com/profile/2721400</a></a></td>\n",
       "    </tr>\n",
       "    <tr>\n",
       "      <th id=\"T_2090b_level0_row49\" class=\"row_heading level0 row49\" >49</th>\n",
       "      <td id=\"T_2090b_row49_col0\" class=\"data row49 col0\" >1385203</td>\n",
       "      <td id=\"T_2090b_row49_col1\" class=\"data row49 col1\" >Senior Analyst Business Finance</td>\n",
       "      <td id=\"T_2090b_row49_col2\" class=\"data row49 col2\" >12</td>\n",
       "      <td id=\"T_2090b_row49_col3\" class=\"data row49 col3\" ><a href=\"<a href=\"https://search.iimjobs.com/profile/1385203\" target=\"_blank\">https://search.iimjobs.com/profile/1385203</a>\" target=\"_blank\"><a href=\"https://search.iimjobs.com/profile/1385203\" target=\"_blank\">https://search.iimjobs.com/profile/1385203</a></a></td>\n",
       "    </tr>\n",
       "    <tr>\n",
       "      <th id=\"T_2090b_level0_row50\" class=\"row_heading level0 row50\" >50</th>\n",
       "      <td id=\"T_2090b_row50_col0\" class=\"data row50 col0\" >474548</td>\n",
       "      <td id=\"T_2090b_row50_col1\" class=\"data row50 col1\" >Senior Vice President, Corporate Finance</td>\n",
       "      <td id=\"T_2090b_row50_col2\" class=\"data row50 col2\" >12</td>\n",
       "      <td id=\"T_2090b_row50_col3\" class=\"data row50 col3\" ><a href=\"<a href=\"https://search.iimjobs.com/profile/474548\" target=\"_blank\">https://search.iimjobs.com/profile/474548</a>\" target=\"_blank\"><a href=\"https://search.iimjobs.com/profile/474548\" target=\"_blank\">https://search.iimjobs.com/profile/474548</a></a></td>\n",
       "    </tr>\n",
       "  </tbody>\n",
       "</table>\n"
      ],
      "text/plain": [
       "<pandas.io.formats.style.Styler at 0x7fe035bf65f0>"
      ]
     },
     "execution_count": 89,
     "metadata": {},
     "output_type": "execute_result"
    }
   ],
   "source": [
    "def make_clickable(val):\n",
    "    \"\"\"Convert a URL into a HTML link.\"\"\"\n",
    "    return f'<a href=\"{val}\" target=\"_blank\">{val}</a>'\n",
    "\n",
    "final_usr.style.format({'user_profile': make_clickable})\n"
   ]
  },
  {
   "cell_type": "code",
   "execution_count": null,
   "id": "36134ffa-bf8f-4bb5-8c2b-70067d7c4e03",
   "metadata": {},
   "outputs": [],
   "source": []
  },
  {
   "cell_type": "code",
   "execution_count": null,
   "id": "e925b8fd-5364-4afe-b946-1b79941a8a1b",
   "metadata": {},
   "outputs": [],
   "source": []
  },
  {
   "cell_type": "code",
   "execution_count": null,
   "id": "2c061ad2-a8d8-40ba-8c6a-c0242f48f9b0",
   "metadata": {},
   "outputs": [],
   "source": []
  },
  {
   "cell_type": "code",
   "execution_count": null,
   "id": "62b28904-fa05-4d5d-8ca8-ef5032f58a68",
   "metadata": {},
   "outputs": [],
   "source": []
  },
  {
   "cell_type": "markdown",
   "id": "af1f61d8-e8cc-4a9a-8305-28cf225001f4",
   "metadata": {},
   "source": [
    "## Running loop for applications"
   ]
  },
  {
   "cell_type": "code",
   "execution_count": 58,
   "id": "7ba3882b-d132-4ccd-a5eb-df39156e3961",
   "metadata": {},
   "outputs": [],
   "source": [
    "responses = {}"
   ]
  },
  {
   "cell_type": "code",
   "execution_count": 59,
   "id": "a9c5b417-2b08-4a7a-85a6-bacf6de93ae2",
   "metadata": {},
   "outputs": [],
   "source": [
    "random_jobs_list = dataset['job_id'].sample(100).values.tolist()"
   ]
  },
  {
   "cell_type": "code",
   "execution_count": 60,
   "id": "7a5e348e-63f5-418a-a46b-3b93e1cd0b12",
   "metadata": {},
   "outputs": [],
   "source": [
    "job_user_list = dataset[dataset['job_id'].isin(random_jobs_list)][['job_id','user_id']]"
   ]
  },
  {
   "cell_type": "code",
   "execution_count": null,
   "id": "488d6915-772a-46d9-85f4-169be966d5e9",
   "metadata": {},
   "outputs": [],
   "source": []
  },
  {
   "cell_type": "code",
   "execution_count": null,
   "id": "b40cb1c2-1c34-4d51-a361-9654d7ed46ed",
   "metadata": {},
   "outputs": [],
   "source": []
  },
  {
   "cell_type": "code",
   "execution_count": null,
   "id": "01af8802-78b9-4faa-8af3-cbb4063cf284",
   "metadata": {},
   "outputs": [],
   "source": []
  },
  {
   "cell_type": "code",
   "execution_count": 69,
   "id": "f556e538-14fa-4695-813e-2e79ab07cab6",
   "metadata": {},
   "outputs": [
    {
     "data": {
      "text/plain": [
       "84"
      ]
     },
     "execution_count": 69,
     "metadata": {},
     "output_type": "execute_result"
    }
   ],
   "source": [
    "len(responses.keys())"
   ]
  },
  {
   "cell_type": "code",
   "execution_count": null,
   "id": "9093bf2e-5f66-4918-be8f-4db0dd69a3a5",
   "metadata": {},
   "outputs": [],
   "source": []
  },
  {
   "cell_type": "code",
   "execution_count": null,
   "id": "3acfad90-07d1-4753-a351-ad9bbaa11aec",
   "metadata": {},
   "outputs": [],
   "source": []
  },
  {
   "cell_type": "code",
   "execution_count": null,
   "id": "262570c5-2714-4fe6-bbce-86aa94b54e41",
   "metadata": {},
   "outputs": [],
   "source": []
  },
  {
   "cell_type": "code",
   "execution_count": null,
   "id": "7a06bf4d-6164-4788-a2e7-fdf98ef7b41e",
   "metadata": {},
   "outputs": [],
   "source": []
  },
  {
   "cell_type": "code",
   "execution_count": 105,
   "id": "d9d880f5-4368-4b67-bc46-b960d957498d",
   "metadata": {},
   "outputs": [],
   "source": [
    "r2 = {}\n",
    "r3 = {}\n",
    "\n",
    "for keys, vals in responses.items():\n",
    "    extracted_data = {key: value.strip().split('\\n')[0] for key, value in vals.items()}\n",
    "    r2[keys] = extracted_data\n",
    "\n",
    "    total_count = len(extracted_data)\n",
    "    no_count = sum(1 for response in extracted_data.values() if response.lower().startswith('no'))\n",
    "    \n",
    "    # Calculating the percentage of \"no\" responses\n",
    "    try:\n",
    "        no_percentage = (no_count / total_count) * 100\n",
    "        r3[keys] = no_percentage\n",
    "    except Exception as e:\n",
    "        print(keys)"
   ]
  },
  {
   "cell_type": "code",
   "execution_count": 106,
   "id": "46142cc0-5f92-49e7-bce4-dcacf4c1acc3",
   "metadata": {},
   "outputs": [
    {
     "data": {
      "text/plain": [
       "1"
      ]
     },
     "execution_count": 106,
     "metadata": {},
     "output_type": "execute_result"
    }
   ],
   "source": [
    "len(responses.keys())"
   ]
  },
  {
   "cell_type": "code",
   "execution_count": 107,
   "id": "f93be700-a1cf-410a-924a-65342c408f28",
   "metadata": {},
   "outputs": [
    {
     "data": {
      "text/plain": [
       "{1373922: {900486: \" yes\\n                            ]\\n\\nThe user's resume shows a significant amount of experience in investment banking, corporate finance, private equity, and credit underwriting\",\n",
       "  27740: ' yes\\n                            ]\\n\\nThe resume contains prior work experience relevant to the job title \"Finance Manager\" with 5-8 years of experience.',\n",
       "  2088388: \" yes.\\n                            The user's resume shows 8 years of experience in deal advisory services, including experience in financial modeling, valuation, and\",\n",
       "  2804905: \"no.\\n                            The user's resume does not mention any prior work experience relevant to the Finance Manager job description provided. The resume mentions experience as\",\n",
       "  2800387: 'no.\\n                            The resume does not mention any experience in investment banking, corporate finance, private equity, or investment management, which are the key areas mentioned',\n",
       "  839460: ' yes\\n                            ]\\n\\nThe resume contains prior work experience relevant to the job title being provided. The applicant has experience in financial modeling, valuation',\n",
       "  2774505: ' yes.\\n                            The candidate has over 10 years of experience in investment banking, corporate finance, private equity, and investment management. They have a',\n",
       "  411637: ' yes\\n                            ]\\n\\nThe given resume contains prior work experience relevant to the Finance Manager job description provided by EPIC Investment Partners. The resume',\n",
       "  230397: ' yes\\n                            ]\\n\\nThe resume contains prior work experience relevant to the job title \"Finance Manager\" as the applicant has experience in investment banking',\n",
       "  2201660: ' yes\\n                            ]\\n\\nThe resume contains prior work experience relevant to the job title \"Finance Manager\" with 2.5 to 8 years',\n",
       "  1029150: ' yes\\n                            ]\\n\\nThe resume contains prior work experience relevant to the job title being provided. The applicant has experience in corporate finance, valuations',\n",
       "  543271: ' yes.\\n                            The candidate has 7.5 years of experience in business finance and investment management, which is within the 5-8 year experience',\n",
       "  2808201: ' no.\\n                            The resume does not mention any experience in investment banking, corporate finance, private equity, or investment management, which are the relevant fields for',\n",
       "  414666: ' yes\\n                            ]\\n\\nThe resume contains prior work experience relevant to the job title being provided, as the candidate has experience in investment banking, equity capital',\n",
       "  145424: \" yes.\\n                            The user's resume shows a significant amount of experience in finance, including credit analysis, ratings, and team leadership. The job description\",\n",
       "  1971367: ' yes\\n                            \"\"\"\"\"\"\"\"\\n                            The given resume clearly states that the candidate has worked as a Group FP&A Manager for d.light',\n",
       "  2586488: ' yes\\n                            \"\"\"\"\"\"\"\"\"\"\"\"\"\"\"\"\"\"\"\"\"\"\"\"\"\"\"\"\"\"\"\"\"\"\"\"\"\"\"\"\"\"\"\"\"\"\"\"\"\"\"\"\"\"\"\"\"',\n",
       "  214903: ' yes.\\n                            The user has over 6 years of experience in investment banking, corporate finance, private equity or investment management, which is the minimum requirement',\n",
       "  2347973: ' yes\\n                            \"\"\"\"\"\"\"\"\\n                            The user\\'s resume shows prior work experience in investment banking, corporate finance, and private equity, which align',\n",
       "  1587692: ' yes.\\n                            The candidate has over 5.5 years of experience in equity, credit and business analysis, which includes experience in NBFCs',\n",
       "  2138610: ' yes.\\n                            The user has over 6 years of experience in investment banking, corporate finance, and private equity, which meets the minimum requirement for the',\n",
       "  1515464: ' yes\\n                            This resume shows that the candidate, Priyanka Bagree, has prior experience in investment banking, corporate finance, and private equity, which',\n",
       "  793110: ' yes.\\n                            The resume mentions experience in financial analysis, credit analysis, financial planning, and managing relationships with corporate clients, which aligns with the',\n",
       "  554556: ' yes\\n                            ]\\n\\nThe resume contains prior work experience relevant to the job title \"Finance Manager\" as described in the job description. The applic',\n",
       "  1648670: ' yes\\n                            \"\"\"\\n                            The resume contains prior work experience relevant to the job title being provided. The resume mentions experience in financial modeling, risk',\n",
       "  220243: \" yes.\\n                            Ankur Seth's work experience includes several roles in investment banking, financial research, and financial analysis, which aligns with the\",\n",
       "  1129339: ' yes.\\n                            The user has over 5 years and 8 months of experience in investment banking, corporate finance, private equity, or investment management as',\n",
       "  587081: ' yes\\n                            ]\\n\\nThe resume contains prior work experience relevant to the job title \"Finance Manager\" with 5-8 years of experience.',\n",
       "  1533122: ' yes\\n                            \"\"\"\"\"\"\"\"\"\"\"\"\"\"\"\"\"\"\"\"\"\"\"\"\"\"\"\"\"\"\"\"\"\"\"\"\"\"\"\"\"\"\"\"\"\"\"\"\"\"\"\"\"\"\"\"\"',\n",
       "  340822: ' yes\\n                            ]\\n\\nThe resume contains prior work experience relevant to the job title being provided. The resume mentions experience in managing a portfolio, generating',\n",
       "  1128193: ' yes\\n                            ]\\n\\nThe resume contains prior work experience relevant to the job title \"Finance Manager\" as described in the job description. The applic',\n",
       "  2578235: ' yes\\n                            ]\\n\\nThe resume contains prior work experience relevant to the job title \"Finance Manager\" as described in the job description. The resume',\n",
       "  2058141: ' yes\\n                            ]\\n\\nThe resume of the candidate, Piyush Gaur, contains prior work experience relevant to the job title \"Finance Manager',\n",
       "  336169: \" yes\\n                            ]\\n\\nThe user's resume shows prior work experience in finance, operations, research, and advisory sectors, which aligns with\",\n",
       "  633376: ' yes\\n                            \"\"\"\\n                            The resume contains prior work experience relevant to the job title \"Finance Manager\" as described in the job description. The',\n",
       "  1076384: \" yes\\n                            ]\\n\\nThe user's resume shows significant experience in investment banking, corporate finance, and private equity, with a focus on deal orig\",\n",
       "  126629: ' yes\\n                            ]\\n\\nThe resume contains prior work experience relevant to the job title being provided. The applicant has experience in corporate finance, strategy,',\n",
       "  1656629: ' yes.\\n                            The user has over 6 years of experience in investment banking, corporate finance, private equity, or investment management as required by the job',\n",
       "  104845: \" yes.\\n                            The user's resume shows extensive experience in investment banking, corporate finance, private equity, and investment management, which aligns with the\",\n",
       "  1195776: ' yes.\\n                            The user has over 6 years of experience in finance functions such as Relationship Management, Research Analysis & Modelling, and Business Development',\n",
       "  1302375: ' yes\\n                            ]\\n\\nThe resume contains prior work experience relevant to the job title being provided. The applicant has over 6 years of experience in',\n",
       "  179817: ' yes\\n                            \"\"\"\\n                            The resume contains prior work experience relevant to the job title \"Finance Manager\" as the candidate has experience in Business Consult',\n",
       "  397888: ' yes\\n                            \"\"\"\\n                            The resume contains prior work experience relevant to the job title being provided. The resume mentions experience in financial modeling, val',\n",
       "  911674: ' yes\\n                            This candidate has over 7 years of experience in the financial sector, with roles in investment banking, insurance, and consulting. They have strong',\n",
       "  237375: ' yes\\n                            \"\"\"\"\"\"\"\"\\n                            The resume contains prior work experience relevant to the job title \"Finance Manager\" at EPIC Investment Part',\n",
       "  2250681: ' yes\\n                            \"\"\"\"\"\"\"\"\"\"\"\"\"\"\"\"\"\"\"\"\"\"\"\"\"\"\"\"\"\"\"\"\"\"\"\"\"\"\"\"\"\"\"\"\"\"\"\"\"\"\"\"\"\"\"\"\"',\n",
       "  93751: ' yes\\n                            \"\"\"\"\\n                            The resume contains prior work experience relevant to the job title being provided. The user has over 6 years of experience',\n",
       "  108202: \" yes.\\n                            The user's resume shows extensive experience in investment banking, corporate finance, private equity, and investment management, which aligns with the\",\n",
       "  2725747: ' yes.\\n                            The user has prior work experience in investment banking, corporate finance, and valuation, which aligns with the job description for a Finance',\n",
       "  2555811: ' yes.\\n                            The user has over 6 years of experience in investment banking, corporate finance, and private equity, which meets the minimum requirement for the',\n",
       "  1274030: ' yes.\\n                            The resume mentions experience in venture capital and private equity, which is relevant to the job description of a Finance Manager at EPIC Invest',\n",
       "  405724: ' yes\\n                            ]',\n",
       "  1032642: ' yes\\n                            This resume shows experience in financial modeling, valuation analyses, and investment research, which are all relevant to the Finance Manager role described in',\n",
       "  847600: ' yes\\n                            ]',\n",
       "  525847: ' yes.\\n                            The resume mentions experience in Mergers & Acquisitions, Investment Banking, and Valuation, which are all relevant to',\n",
       "  2810449: ' yes\\n                            ]\\n\\nThe resume contains prior work experience relevant to the job title \"Finance Manager\" as described in the job description. The applic',\n",
       "  155523: ' yes\\n                            ]\\n\\nThe resume contains prior work experience relevant to the job title being provided. The candidate has experience in financial modeling, LBO modeling',\n",
       "  989785: ' yes\\n                            ]\\n\\nThe resume contains prior work experience relevant to the job title \"Finance Manager\" with 5-8 years of experience.',\n",
       "  2753414: ' yes.\\n                            The user has 5 years of experience in M&A/Corporate Finance, which is directly relevant to the Finance Manager job'}}"
      ]
     },
     "execution_count": 107,
     "metadata": {},
     "output_type": "execute_result"
    }
   ],
   "source": [
    "responses"
   ]
  },
  {
   "cell_type": "code",
   "execution_count": null,
   "id": "2e38c070-edcc-4b3f-9c8b-84e400228137",
   "metadata": {},
   "outputs": [],
   "source": []
  },
  {
   "cell_type": "code",
   "execution_count": null,
   "id": "545404f1-ba2b-41da-b149-a0a38b099bde",
   "metadata": {},
   "outputs": [],
   "source": []
  },
  {
   "cell_type": "code",
   "execution_count": 79,
   "id": "c4d5d251-fbad-443d-8cd2-2e766732d5c1",
   "metadata": {},
   "outputs": [],
   "source": [
    "import numpy as np\n",
    "fls = np.array(list(r3.values()))"
   ]
  },
  {
   "cell_type": "code",
   "execution_count": 81,
   "id": "f639c048-debe-4354-b0a1-b1d8fccf8310",
   "metadata": {},
   "outputs": [
    {
     "data": {
      "text/plain": [
       "10.397872300140472"
      ]
     },
     "execution_count": 81,
     "metadata": {},
     "output_type": "execute_result"
    }
   ],
   "source": [
    "fls.mean()"
   ]
  },
  {
   "cell_type": "code",
   "execution_count": null,
   "id": "2cddb591-52db-4c8b-b3cd-92e4670bcf4b",
   "metadata": {},
   "outputs": [],
   "source": []
  },
  {
   "cell_type": "code",
   "execution_count": null,
   "id": "f126b203-9867-4e52-8a10-c683e94f574e",
   "metadata": {},
   "outputs": [],
   "source": []
  },
  {
   "cell_type": "code",
   "execution_count": null,
   "id": "2021c7fb-a074-4f8f-9f3d-617dbe4ab714",
   "metadata": {},
   "outputs": [],
   "source": []
  },
  {
   "cell_type": "code",
   "execution_count": null,
   "id": "8b6e380f-ad1d-451a-bbe6-a9d4cd825dcf",
   "metadata": {},
   "outputs": [],
   "source": []
  },
  {
   "cell_type": "code",
   "execution_count": null,
   "id": "17e5f3b7-d839-443c-8dae-c98a84d0c190",
   "metadata": {},
   "outputs": [],
   "source": []
  },
  {
   "cell_type": "code",
   "execution_count": null,
   "id": "8c32350d-423c-44ca-983f-db80932f39de",
   "metadata": {},
   "outputs": [],
   "source": []
  },
  {
   "cell_type": "code",
   "execution_count": null,
   "id": "a726f840-89cf-4ff5-9818-d50a8080fd6f",
   "metadata": {},
   "outputs": [],
   "source": []
  },
  {
   "cell_type": "code",
   "execution_count": null,
   "id": "5ad3f579-b855-4e4a-a427-c3a4692a4a61",
   "metadata": {},
   "outputs": [],
   "source": []
  },
  {
   "cell_type": "code",
   "execution_count": null,
   "id": "9e1b9c87-10b1-4a07-a2fe-c70e176b5188",
   "metadata": {},
   "outputs": [],
   "source": []
  }
 ],
 "metadata": {
  "kernelspec": {
   "display_name": "Python 3 (ipykernel)",
   "language": "python",
   "name": "python3"
  },
  "language_info": {
   "codemirror_mode": {
    "name": "ipython",
    "version": 3
   },
   "file_extension": ".py",
   "mimetype": "text/x-python",
   "name": "python",
   "nbconvert_exporter": "python",
   "pygments_lexer": "ipython3",
   "version": "3.10.12"
  }
 },
 "nbformat": 4,
 "nbformat_minor": 5
}
