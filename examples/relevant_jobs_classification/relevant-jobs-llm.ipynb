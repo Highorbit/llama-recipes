{
 "cells": [
  {
   "cell_type": "code",
   "execution_count": 1,
   "id": "0d35fed1-7b29-445d-8567-03b816d4f394",
   "metadata": {},
   "outputs": [],
   "source": [
    "from transformers import AutoModelForCausalLM, AutoTokenizer\n",
    "device = \"cuda\" # the device to load the model onto\n",
    "import torch\n",
    "import time\n",
    "import pandas as pd, html\n",
    "from user_info import get_user_info\n",
    "import requests\n",
    "from tqdm.notebook import tqdm"
   ]
  },
  {
   "cell_type": "code",
   "execution_count": 2,
   "id": "7e643e57-1df5-4d69-a3fd-31b289c9dd3c",
   "metadata": {},
   "outputs": [
    {
     "name": "stdout",
     "output_type": "stream",
     "text": [
      "INFO 02-19 17:55:30 llm_engine.py:73] Initializing an LLM engine with config: model='meta-llama/Llama-2-7b-chat-hf', tokenizer='meta-llama/Llama-2-7b-chat-hf', tokenizer_mode=auto, revision=None, tokenizer_revision=None, trust_remote_code=False, dtype=torch.float16, max_seq_len=4096, download_dir=None, load_format=auto, tensor_parallel_size=1, quantization=None, enforce_eager=False, seed=0)\n",
      "INFO 02-19 17:56:31 llm_engine.py:223] # GPU blocks: 815, # CPU blocks: 512\n",
      "INFO 02-19 17:56:33 model_runner.py:394] Capturing the model for CUDA graphs. This may lead to unexpected consequences if the model is not static. To run the model in eager mode, set 'enforce_eager=True' or use '--enforce-eager' in the CLI.\n",
      "INFO 02-19 17:56:39 model_runner.py:437] Graph capturing finished in 5 secs.\n"
     ]
    }
   ],
   "source": [
    "from vllm import SamplingParams, LLM\n",
    "\n",
    "sampling_params = SamplingParams(temperature=0, max_tokens=8)\n",
    "llm = LLM(model=\"meta-llama/Llama-2-7b-chat-hf\")"
   ]
  },
  {
   "cell_type": "code",
   "execution_count": null,
   "id": "98683fb8-0b85-4096-ad7a-8eaf60b7ab13",
   "metadata": {},
   "outputs": [],
   "source": []
  },
  {
   "cell_type": "code",
   "execution_count": null,
   "id": "6e1718ea-e208-415d-b470-4ef3ed1ed0c1",
   "metadata": {},
   "outputs": [],
   "source": []
  },
  {
   "cell_type": "code",
   "execution_count": 3,
   "id": "3fbf1415-60ef-442f-8326-fe00a18ad125",
   "metadata": {},
   "outputs": [],
   "source": [
    "# model = AutoModelForCausalLM.from_pretrained(\"mistralai/Mistral-7B-Instruct-v0.2\",\n",
    "#                                             load_in_8bit=True, \n",
    "#                                             torch_dtype=torch.float16,\n",
    "#                                             device_map='auto')\n",
    "\n",
    "# tokenizer = AutoTokenizer.from_pretrained(\"mistralai/Mistral-7B-Instruct-v0.2\")"
   ]
  },
  {
   "cell_type": "code",
   "execution_count": 4,
   "id": "9196bef9-77f1-4c97-8476-699ef0edb25e",
   "metadata": {},
   "outputs": [],
   "source": [
    "dataset = pd.read_csv('data/analysis_set.csv')"
   ]
  },
  {
   "cell_type": "code",
   "execution_count": null,
   "id": "89c3b2bd-cfc5-4bc2-ae71-89aec46de69e",
   "metadata": {},
   "outputs": [],
   "source": []
  },
  {
   "cell_type": "code",
   "execution_count": 5,
   "id": "7ab38f5f-d98c-44e9-a93f-b869fb4f0b52",
   "metadata": {},
   "outputs": [],
   "source": [
    "def fetch_job_data(job_id):\n",
    "    \n",
    "    '''\n",
    "    Returns Job Data[Hirst, Source : ElasticSearch] for the last_k days, and with flexible page size (<10,000)\n",
    "    \n",
    "    Input : Last-K Days, and Page result size\n",
    "    \n",
    "    Output : Pandas Dataframe with jobs from the last k days \n",
    "    '''\n",
    "    \n",
    "    # columns = ['id', 'title','companyStatus', 'min', 'max', 'premium', 'applyCount', 'locations','tags','brandJobFlag']     #Added column name for companyStatus\n",
    "    # new_cols = ['jobid', 'title','companyStatus', 'min', 'max', 'premium', 'applyCount', 'locations','tags', 'brandJobFlag']       #Added column name for companyStatus\n",
    "    \n",
    "    url = \"http://internal-java-job-searcher-email-backend-1607736061.ap-south-1.elb.amazonaws.com/v1/user/-777/job/jobcode?query=<JOBID>\"\n",
    "    url = url.replace('<JOBID>',job_id)\n",
    "    payload={}\n",
    "    headers = {}\n",
    "    \n",
    "    response = requests.request(\"GET\", url, headers=headers, data=payload)\n",
    "    \n",
    "    payload={}\n",
    "    headers = {}\n",
    "    \n",
    "    response = requests.request(\"GET\", url, headers=headers, data=payload)\n",
    "    job_data = response.json()\n",
    "\n",
    "    return job_data[0]['title']\n"
   ]
  },
  {
   "cell_type": "code",
   "execution_count": null,
   "id": "f47d6c5d-4f38-4422-8986-56682f045946",
   "metadata": {},
   "outputs": [],
   "source": []
  },
  {
   "cell_type": "code",
   "execution_count": null,
   "id": "435ec83e-785d-4cb1-a759-b7b4a9beadb6",
   "metadata": {},
   "outputs": [],
   "source": []
  },
  {
   "cell_type": "code",
   "execution_count": null,
   "id": "72a315bc-8622-4c5c-87d9-934bde6c1c52",
   "metadata": {},
   "outputs": [],
   "source": []
  },
  {
   "cell_type": "code",
   "execution_count": null,
   "id": "993cf7b8-8f88-4bf0-a281-7e86c9e5133b",
   "metadata": {},
   "outputs": [],
   "source": []
  },
  {
   "cell_type": "code",
   "execution_count": 6,
   "id": "32ac0893-bda1-4659-803e-ec813afce70a",
   "metadata": {},
   "outputs": [
    {
     "data": {
      "text/html": [
       "<div>\n",
       "<style scoped>\n",
       "    .dataframe tbody tr th:only-of-type {\n",
       "        vertical-align: middle;\n",
       "    }\n",
       "\n",
       "    .dataframe tbody tr th {\n",
       "        vertical-align: top;\n",
       "    }\n",
       "\n",
       "    .dataframe thead th {\n",
       "        text-align: right;\n",
       "    }\n",
       "</style>\n",
       "<table border=\"1\" class=\"dataframe\">\n",
       "  <thead>\n",
       "    <tr style=\"text-align: right;\">\n",
       "      <th></th>\n",
       "      <th>job_id</th>\n",
       "      <th>application_id</th>\n",
       "      <th>user_id</th>\n",
       "    </tr>\n",
       "  </thead>\n",
       "  <tbody>\n",
       "    <tr>\n",
       "      <th>0</th>\n",
       "      <td>1373681</td>\n",
       "      <td>144274567</td>\n",
       "      <td>439042</td>\n",
       "    </tr>\n",
       "    <tr>\n",
       "      <th>1</th>\n",
       "      <td>1373681</td>\n",
       "      <td>144261479</td>\n",
       "      <td>2015063</td>\n",
       "    </tr>\n",
       "    <tr>\n",
       "      <th>2</th>\n",
       "      <td>1373681</td>\n",
       "      <td>144253966</td>\n",
       "      <td>2777927</td>\n",
       "    </tr>\n",
       "    <tr>\n",
       "      <th>3</th>\n",
       "      <td>1373681</td>\n",
       "      <td>144241259</td>\n",
       "      <td>58130</td>\n",
       "    </tr>\n",
       "    <tr>\n",
       "      <th>4</th>\n",
       "      <td>1373681</td>\n",
       "      <td>144236812</td>\n",
       "      <td>2290933</td>\n",
       "    </tr>\n",
       "    <tr>\n",
       "      <th>...</th>\n",
       "      <td>...</td>\n",
       "      <td>...</td>\n",
       "      <td>...</td>\n",
       "    </tr>\n",
       "    <tr>\n",
       "      <th>136248</th>\n",
       "      <td>1376058</td>\n",
       "      <td>144442227</td>\n",
       "      <td>2151474</td>\n",
       "    </tr>\n",
       "    <tr>\n",
       "      <th>136249</th>\n",
       "      <td>1375030</td>\n",
       "      <td>144442249</td>\n",
       "      <td>1463255</td>\n",
       "    </tr>\n",
       "    <tr>\n",
       "      <th>136250</th>\n",
       "      <td>1373682</td>\n",
       "      <td>144442251</td>\n",
       "      <td>2601930</td>\n",
       "    </tr>\n",
       "    <tr>\n",
       "      <th>136251</th>\n",
       "      <td>1376582</td>\n",
       "      <td>144442257</td>\n",
       "      <td>1417492</td>\n",
       "    </tr>\n",
       "    <tr>\n",
       "      <th>136252</th>\n",
       "      <td>1376693</td>\n",
       "      <td>144442256</td>\n",
       "      <td>1835665</td>\n",
       "    </tr>\n",
       "  </tbody>\n",
       "</table>\n",
       "<p>136253 rows × 3 columns</p>\n",
       "</div>"
      ],
      "text/plain": [
       "         job_id  application_id  user_id\n",
       "0       1373681       144274567   439042\n",
       "1       1373681       144261479  2015063\n",
       "2       1373681       144253966  2777927\n",
       "3       1373681       144241259    58130\n",
       "4       1373681       144236812  2290933\n",
       "...         ...             ...      ...\n",
       "136248  1376058       144442227  2151474\n",
       "136249  1375030       144442249  1463255\n",
       "136250  1373682       144442251  2601930\n",
       "136251  1376582       144442257  1417492\n",
       "136252  1376693       144442256  1835665\n",
       "\n",
       "[136253 rows x 3 columns]"
      ]
     },
     "execution_count": 6,
     "metadata": {},
     "output_type": "execute_result"
    }
   ],
   "source": [
    "dataset"
   ]
  },
  {
   "cell_type": "code",
   "execution_count": 7,
   "id": "d4bc98bc-0247-466a-b89d-ec93d230cbcf",
   "metadata": {},
   "outputs": [
    {
     "data": {
      "text/plain": [
       "0         1373681\n",
       "25        1373682\n",
       "66        1373683\n",
       "71        1373684\n",
       "189       1373685\n",
       "           ...   \n",
       "133468    1376446\n",
       "133579    1376758\n",
       "134063    1375146\n",
       "136145    1376759\n",
       "136172    1376737\n",
       "Name: job_id, Length: 2949, dtype: int64"
      ]
     },
     "execution_count": 7,
     "metadata": {},
     "output_type": "execute_result"
    }
   ],
   "source": [
    "dataset['job_id'].drop_duplicates()"
   ]
  },
  {
   "cell_type": "code",
   "execution_count": 8,
   "id": "a7346e83-c6eb-4c6e-b84a-42a4fa95012e",
   "metadata": {},
   "outputs": [
    {
     "data": {
      "text/plain": [
       "0          439042\n",
       "1         2015063\n",
       "2         2777927\n",
       "3           58130\n",
       "4         2290933\n",
       "           ...   \n",
       "136201    2796578\n",
       "136202    2679806\n",
       "136235     986712\n",
       "136245    1713212\n",
       "136249    1463255\n",
       "Name: user_id, Length: 30363, dtype: int64"
      ]
     },
     "execution_count": 8,
     "metadata": {},
     "output_type": "execute_result"
    }
   ],
   "source": [
    "dataset['user_id'].drop_duplicates()"
   ]
  },
  {
   "cell_type": "code",
   "execution_count": null,
   "id": "7f7dd30f-c6f1-486b-ad5c-64babfef2a84",
   "metadata": {},
   "outputs": [],
   "source": []
  },
  {
   "cell_type": "code",
   "execution_count": null,
   "id": "001c73e4-b77d-44b8-91da-7373d1163cec",
   "metadata": {},
   "outputs": [],
   "source": []
  },
  {
   "cell_type": "code",
   "execution_count": null,
   "id": "813bf1a4-d0e8-47fa-96f2-8c07fcb1b4f7",
   "metadata": {},
   "outputs": [],
   "source": []
  },
  {
   "cell_type": "code",
   "execution_count": null,
   "id": "6bbfb7bb-d801-4865-b59a-b7d8d48123ae",
   "metadata": {},
   "outputs": [],
   "source": []
  },
  {
   "cell_type": "code",
   "execution_count": null,
   "id": "9858146d-6845-4233-a90a-37800ffc8719",
   "metadata": {},
   "outputs": [],
   "source": []
  },
  {
   "cell_type": "code",
   "execution_count": 9,
   "id": "20041176-73fd-45a8-9927-afa525fc56f4",
   "metadata": {},
   "outputs": [],
   "source": [
    "# jt = \"Assistant Manager - Tax & Regulatory Services (3-4 yrs)\"\n",
    "# rt = html.unescape(res_text)"
   ]
  },
  {
   "cell_type": "code",
   "execution_count": null,
   "id": "bc2a7d0a-6fdf-4708-a1a7-9084ac7530a2",
   "metadata": {},
   "outputs": [],
   "source": []
  },
  {
   "cell_type": "code",
   "execution_count": 10,
   "id": "7328e745-3004-47e8-8e7c-debe595d2a4a",
   "metadata": {},
   "outputs": [],
   "source": [
    "input_prompt = f'''\n",
    "<s>[INST]You are an accurate AI agent working for a job platform. You will be given the raw \n",
    "unstructured text of a user's resume, and the title of a job that they have applied to. Your task \n",
    "is to check if the resume contains work experience relevant to the job title being provided.\n",
    "Respond with a JUST A SINGLE WORD answer \"yes\" or \"no\"[\\INST]\n",
    "This is the resume text:\\n{{resume_text}}\\n\n",
    "This is the job title {{job_title}}\\n\n",
    "[INST]The answer is [\\INST]: \n",
    "'''"
   ]
  },
  {
   "cell_type": "code",
   "execution_count": 11,
   "id": "4b5e1b64-c309-4d6e-b56e-323d42beeddd",
   "metadata": {},
   "outputs": [
    {
     "ename": "NameError",
     "evalue": "name 'res_text' is not defined",
     "output_type": "error",
     "traceback": [
      "\u001b[0;31m---------------------------------------------------------------------------\u001b[0m",
      "\u001b[0;31mNameError\u001b[0m                                 Traceback (most recent call last)",
      "Cell \u001b[0;32mIn[11], line 1\u001b[0m\n\u001b[0;32m----> 1\u001b[0m input_prompt \u001b[38;5;241m=\u001b[39m input_prompt\u001b[38;5;241m.\u001b[39mformat(resume_text\u001b[38;5;241m=\u001b[39m\u001b[43mres_text\u001b[49m,\n\u001b[1;32m      2\u001b[0m                    job_title\u001b[38;5;241m=\u001b[39mjt)\n",
      "\u001b[0;31mNameError\u001b[0m: name 'res_text' is not defined"
     ]
    }
   ],
   "source": [
    "input_prompt = input_prompt.format(resume_text=res_text,\n",
    "                   job_title=jt)"
   ]
  },
  {
   "cell_type": "code",
   "execution_count": 12,
   "id": "b7a91d2f-1101-4a94-87f6-cb30bf6d5cad",
   "metadata": {},
   "outputs": [
    {
     "ename": "NameError",
     "evalue": "name 'tokenizer' is not defined",
     "output_type": "error",
     "traceback": [
      "\u001b[0;31m---------------------------------------------------------------------------\u001b[0m",
      "\u001b[0;31mNameError\u001b[0m                                 Traceback (most recent call last)",
      "Cell \u001b[0;32mIn[12], line 1\u001b[0m\n\u001b[0;32m----> 1\u001b[0m model_input \u001b[38;5;241m=\u001b[39m \u001b[43mtokenizer\u001b[49m(input_prompt, return_tensors\u001b[38;5;241m=\u001b[39m\u001b[38;5;124m\"\u001b[39m\u001b[38;5;124mpt\u001b[39m\u001b[38;5;124m\"\u001b[39m)\u001b[38;5;241m.\u001b[39mto(\u001b[38;5;124m\"\u001b[39m\u001b[38;5;124mcuda\u001b[39m\u001b[38;5;124m\"\u001b[39m)\n",
      "\u001b[0;31mNameError\u001b[0m: name 'tokenizer' is not defined"
     ]
    }
   ],
   "source": [
    "model_input = tokenizer(input_prompt, return_tensors=\"pt\").to(\"cuda\")"
   ]
  },
  {
   "cell_type": "code",
   "execution_count": 13,
   "id": "95f596fc-e165-4963-be6f-446ff24ee77d",
   "metadata": {},
   "outputs": [
    {
     "ename": "NameError",
     "evalue": "name 'model' is not defined",
     "output_type": "error",
     "traceback": [
      "\u001b[0;31m---------------------------------------------------------------------------\u001b[0m",
      "\u001b[0;31mNameError\u001b[0m                                 Traceback (most recent call last)",
      "Cell \u001b[0;32mIn[13], line 2\u001b[0m\n\u001b[1;32m      1\u001b[0m start_time \u001b[38;5;241m=\u001b[39m time\u001b[38;5;241m.\u001b[39mtime()\n\u001b[0;32m----> 2\u001b[0m \u001b[43mmodel\u001b[49m\u001b[38;5;241m.\u001b[39meval()\n\u001b[1;32m      3\u001b[0m \u001b[38;5;28;01mwith\u001b[39;00m torch\u001b[38;5;241m.\u001b[39mno_grad():\n\u001b[1;32m      4\u001b[0m     full_document \u001b[38;5;241m=\u001b[39m tokenizer\u001b[38;5;241m.\u001b[39mdecode(model\u001b[38;5;241m.\u001b[39mgenerate(\u001b[38;5;241m*\u001b[39m\u001b[38;5;241m*\u001b[39mmodel_input, max_new_tokens\u001b[38;5;241m=\u001b[39m\u001b[38;5;241m32\u001b[39m)[\u001b[38;5;241m0\u001b[39m], skip_special_tokens\u001b[38;5;241m=\u001b[39m\u001b[38;5;28;01mTrue\u001b[39;00m)\n",
      "\u001b[0;31mNameError\u001b[0m: name 'model' is not defined"
     ]
    }
   ],
   "source": [
    "start_time = time.time()\n",
    "model.eval()\n",
    "with torch.no_grad():\n",
    "    full_document = tokenizer.decode(model.generate(**model_input, max_new_tokens=32)[0], skip_special_tokens=True)\n",
    "\n",
    "print(f'Time taken : {time.time()-start_time}')"
   ]
  },
  {
   "cell_type": "code",
   "execution_count": null,
   "id": "55dc20ef-6a3d-40c0-8110-1ea72eb882d6",
   "metadata": {},
   "outputs": [],
   "source": []
  },
  {
   "cell_type": "code",
   "execution_count": 14,
   "id": "24e09e1c-c010-44ea-b70a-fa5129f82b22",
   "metadata": {},
   "outputs": [
    {
     "ename": "NameError",
     "evalue": "name 'full_document' is not defined",
     "output_type": "error",
     "traceback": [
      "\u001b[0;31m---------------------------------------------------------------------------\u001b[0m",
      "\u001b[0;31mNameError\u001b[0m                                 Traceback (most recent call last)",
      "Cell \u001b[0;32mIn[14], line 1\u001b[0m\n\u001b[0;32m----> 1\u001b[0m \u001b[38;5;28mprint\u001b[39m(\u001b[43mfull_document\u001b[49m)\n",
      "\u001b[0;31mNameError\u001b[0m: name 'full_document' is not defined"
     ]
    }
   ],
   "source": [
    "print(full_document)"
   ]
  },
  {
   "cell_type": "code",
   "execution_count": null,
   "id": "e4927de3-39c6-4ebe-9b6c-b8bbe3dc570c",
   "metadata": {},
   "outputs": [],
   "source": []
  },
  {
   "cell_type": "code",
   "execution_count": 140,
   "id": "92f366b5-a2e6-4d97-8523-082991f5b4d0",
   "metadata": {},
   "outputs": [],
   "source": [
    "def get_answer_from_vllm(resume_text, job_title, llm):\n",
    "\n",
    "    #define the input prompt here\n",
    "    input_prompt = f'''<s>[INST]You are an accurate AI agent working for a job platform. You will be given the raw \n",
    "    unstructured text of a user's resume, and the title of a job that they have applied to. Your task \n",
    "    is to check if the resume text contains the job title being provided.\n",
    "    Respond with a JUST A SINGLE WORD answer \"yes\" or \"no\"[\\INST]\n",
    "    This is the job title {{job_title}}\\n\n",
    "    This is the resume text:\\n{{resume_text}}\\n\n",
    "    The answer is : \n",
    "    '''\n",
    "\n",
    "    input_prompt = input_prompt.format(resume_text=resume_text,\n",
    "                   job_title=jt)\n",
    "    \n",
    "    outputs = llm.generate(input_prompt, sampling_params)\n",
    "    generated_text = outputs[0].outputs[0].text\n",
    "\n",
    "    return generated_text"
   ]
  },
  {
   "cell_type": "code",
   "execution_count": null,
   "id": "a89b489d-1d95-456e-8639-04035bd25713",
   "metadata": {},
   "outputs": [],
   "source": []
  },
  {
   "cell_type": "code",
   "execution_count": null,
   "id": "5c513353-a6cf-4659-ac93-9385a0ecba94",
   "metadata": {},
   "outputs": [],
   "source": []
  },
  {
   "cell_type": "code",
   "execution_count": null,
   "id": "a21083bb-2f4f-49f4-9e11-78a6f4e8c176",
   "metadata": {},
   "outputs": [],
   "source": []
  },
  {
   "cell_type": "code",
   "execution_count": 141,
   "id": "05d239f0-3663-4138-bfde-26c5bd871e1a",
   "metadata": {},
   "outputs": [
    {
     "data": {
      "text/plain": [
       "[2800600, 489341, 397888, 2775899, 165112, 2781750, 1281744]"
      ]
     },
     "execution_count": 141,
     "metadata": {},
     "output_type": "execute_result"
    }
   ],
   "source": [
    "dataset.loc[dataset['job_id']==1373685]['user_id'].tolist()"
   ]
  },
  {
   "cell_type": "code",
   "execution_count": null,
   "id": "128386d9-3b78-4e86-81f8-353118b98d00",
   "metadata": {},
   "outputs": [],
   "source": []
  },
  {
   "cell_type": "code",
   "execution_count": null,
   "id": "04966cc2-bcbe-4fe1-95a1-0a627f639436",
   "metadata": {},
   "outputs": [],
   "source": []
  },
  {
   "cell_type": "code",
   "execution_count": 142,
   "id": "3f827b97-38ae-4029-9b68-13a711336e11",
   "metadata": {},
   "outputs": [
    {
     "data": {
      "text/plain": [
       "[[1376416, 1286631], [1374541, 2045460], [1375720, 756906]]"
      ]
     },
     "execution_count": 142,
     "metadata": {},
     "output_type": "execute_result"
    }
   ],
   "source": [
    "job_user_list[:3]"
   ]
  },
  {
   "cell_type": "code",
   "execution_count": null,
   "id": "f43f9987-f554-4a12-a60b-8c782ea15a4c",
   "metadata": {},
   "outputs": [],
   "source": []
  },
  {
   "cell_type": "code",
   "execution_count": null,
   "id": "ab2d0a56-466f-4de8-b8b1-6ebd2a6e02da",
   "metadata": {},
   "outputs": [],
   "source": []
  },
  {
   "cell_type": "code",
   "execution_count": 143,
   "id": "072928c5-3a17-4c54-b37c-192912f20293",
   "metadata": {},
   "outputs": [],
   "source": [
    "\n",
    "\n",
    "# outputs = llm.generate(eval_prompt, sampling_params)\n",
    "# generated_text = outputs[0].outputs[0].text\n"
   ]
  },
  {
   "cell_type": "code",
   "execution_count": null,
   "id": "55a5773a-fa3f-461b-b70d-bc4e1d3bc134",
   "metadata": {},
   "outputs": [],
   "source": []
  },
  {
   "cell_type": "code",
   "execution_count": null,
   "id": "4f5d5555-d65d-42a9-bf6d-b5eed9b2e91b",
   "metadata": {},
   "outputs": [],
   "source": []
  },
  {
   "cell_type": "code",
   "execution_count": 144,
   "id": "44d3972a-9ff3-4bfe-b727-c6c6bb162026",
   "metadata": {},
   "outputs": [
    {
     "data": {
      "text/html": [
       "<div>\n",
       "<style scoped>\n",
       "    .dataframe tbody tr th:only-of-type {\n",
       "        vertical-align: middle;\n",
       "    }\n",
       "\n",
       "    .dataframe tbody tr th {\n",
       "        vertical-align: top;\n",
       "    }\n",
       "\n",
       "    .dataframe thead th {\n",
       "        text-align: right;\n",
       "    }\n",
       "</style>\n",
       "<table border=\"1\" class=\"dataframe\">\n",
       "  <thead>\n",
       "    <tr style=\"text-align: right;\">\n",
       "      <th></th>\n",
       "      <th>job_id</th>\n",
       "      <th>application_id</th>\n",
       "      <th>user_id</th>\n",
       "    </tr>\n",
       "  </thead>\n",
       "  <tbody>\n",
       "    <tr>\n",
       "      <th>0</th>\n",
       "      <td>1373681</td>\n",
       "      <td>144274567</td>\n",
       "      <td>439042</td>\n",
       "    </tr>\n",
       "    <tr>\n",
       "      <th>1</th>\n",
       "      <td>1373681</td>\n",
       "      <td>144261479</td>\n",
       "      <td>2015063</td>\n",
       "    </tr>\n",
       "    <tr>\n",
       "      <th>2</th>\n",
       "      <td>1373681</td>\n",
       "      <td>144253966</td>\n",
       "      <td>2777927</td>\n",
       "    </tr>\n",
       "    <tr>\n",
       "      <th>3</th>\n",
       "      <td>1373681</td>\n",
       "      <td>144241259</td>\n",
       "      <td>58130</td>\n",
       "    </tr>\n",
       "    <tr>\n",
       "      <th>4</th>\n",
       "      <td>1373681</td>\n",
       "      <td>144236812</td>\n",
       "      <td>2290933</td>\n",
       "    </tr>\n",
       "  </tbody>\n",
       "</table>\n",
       "</div>"
      ],
      "text/plain": [
       "    job_id  application_id  user_id\n",
       "0  1373681       144274567   439042\n",
       "1  1373681       144261479  2015063\n",
       "2  1373681       144253966  2777927\n",
       "3  1373681       144241259    58130\n",
       "4  1373681       144236812  2290933"
      ]
     },
     "execution_count": 144,
     "metadata": {},
     "output_type": "execute_result"
    }
   ],
   "source": [
    "dataset.head(5)"
   ]
  },
  {
   "cell_type": "code",
   "execution_count": 145,
   "id": "5e5a7073-2457-46c9-a341-3996a6a396b2",
   "metadata": {},
   "outputs": [
    {
     "data": {
      "text/html": [
       "<div>\n",
       "<style scoped>\n",
       "    .dataframe tbody tr th:only-of-type {\n",
       "        vertical-align: middle;\n",
       "    }\n",
       "\n",
       "    .dataframe tbody tr th {\n",
       "        vertical-align: top;\n",
       "    }\n",
       "\n",
       "    .dataframe thead th {\n",
       "        text-align: right;\n",
       "    }\n",
       "</style>\n",
       "<table border=\"1\" class=\"dataframe\">\n",
       "  <thead>\n",
       "    <tr style=\"text-align: right;\">\n",
       "      <th></th>\n",
       "      <th>job_id</th>\n",
       "      <th>application_id</th>\n",
       "      <th>user_id</th>\n",
       "    </tr>\n",
       "  </thead>\n",
       "  <tbody>\n",
       "    <tr>\n",
       "      <th>135099</th>\n",
       "      <td>1375322</td>\n",
       "      <td>144440115</td>\n",
       "      <td>1648845</td>\n",
       "    </tr>\n",
       "    <tr>\n",
       "      <th>4983</th>\n",
       "      <td>1373764</td>\n",
       "      <td>144279774</td>\n",
       "      <td>736061</td>\n",
       "    </tr>\n",
       "    <tr>\n",
       "      <th>100810</th>\n",
       "      <td>1376214</td>\n",
       "      <td>144378013</td>\n",
       "      <td>2065092</td>\n",
       "    </tr>\n",
       "    <tr>\n",
       "      <th>124366</th>\n",
       "      <td>1374996</td>\n",
       "      <td>144420252</td>\n",
       "      <td>2624716</td>\n",
       "    </tr>\n",
       "    <tr>\n",
       "      <th>109636</th>\n",
       "      <td>1373781</td>\n",
       "      <td>144393823</td>\n",
       "      <td>378151</td>\n",
       "    </tr>\n",
       "    <tr>\n",
       "      <th>...</th>\n",
       "      <td>...</td>\n",
       "      <td>...</td>\n",
       "      <td>...</td>\n",
       "    </tr>\n",
       "    <tr>\n",
       "      <th>53711</th>\n",
       "      <td>1374769</td>\n",
       "      <td>144259837</td>\n",
       "      <td>1668351</td>\n",
       "    </tr>\n",
       "    <tr>\n",
       "      <th>26537</th>\n",
       "      <td>1374088</td>\n",
       "      <td>144225573</td>\n",
       "      <td>2629026</td>\n",
       "    </tr>\n",
       "    <tr>\n",
       "      <th>91079</th>\n",
       "      <td>1375815</td>\n",
       "      <td>144360813</td>\n",
       "      <td>263995</td>\n",
       "    </tr>\n",
       "    <tr>\n",
       "      <th>25019</th>\n",
       "      <td>1374056</td>\n",
       "      <td>144201128</td>\n",
       "      <td>2401560</td>\n",
       "    </tr>\n",
       "    <tr>\n",
       "      <th>28289</th>\n",
       "      <td>1374185</td>\n",
       "      <td>144288620</td>\n",
       "      <td>2785131</td>\n",
       "    </tr>\n",
       "  </tbody>\n",
       "</table>\n",
       "<p>136253 rows × 3 columns</p>\n",
       "</div>"
      ],
      "text/plain": [
       "         job_id  application_id  user_id\n",
       "135099  1375322       144440115  1648845\n",
       "4983    1373764       144279774   736061\n",
       "100810  1376214       144378013  2065092\n",
       "124366  1374996       144420252  2624716\n",
       "109636  1373781       144393823   378151\n",
       "...         ...             ...      ...\n",
       "53711   1374769       144259837  1668351\n",
       "26537   1374088       144225573  2629026\n",
       "91079   1375815       144360813   263995\n",
       "25019   1374056       144201128  2401560\n",
       "28289   1374185       144288620  2785131\n",
       "\n",
       "[136253 rows x 3 columns]"
      ]
     },
     "execution_count": 145,
     "metadata": {},
     "output_type": "execute_result"
    }
   ],
   "source": [
    "dataset.sample(frac=1)"
   ]
  },
  {
   "cell_type": "code",
   "execution_count": 156,
   "id": "5a2e0fdb-e71c-4b4e-b010-d98cb3ce232d",
   "metadata": {},
   "outputs": [],
   "source": [
    "counts = pd.read_csv('data/apply_counts.csv')"
   ]
  },
  {
   "cell_type": "code",
   "execution_count": 162,
   "id": "7205d3ae-dbe7-4019-8604-883530f41ece",
   "metadata": {},
   "outputs": [
    {
     "data": {
      "text/html": [
       "<div>\n",
       "<style scoped>\n",
       "    .dataframe tbody tr th:only-of-type {\n",
       "        vertical-align: middle;\n",
       "    }\n",
       "\n",
       "    .dataframe tbody tr th {\n",
       "        vertical-align: top;\n",
       "    }\n",
       "\n",
       "    .dataframe thead th {\n",
       "        text-align: right;\n",
       "    }\n",
       "</style>\n",
       "<table border=\"1\" class=\"dataframe\">\n",
       "  <thead>\n",
       "    <tr style=\"text-align: right;\">\n",
       "      <th></th>\n",
       "      <th>id</th>\n",
       "      <th>apply_count</th>\n",
       "    </tr>\n",
       "  </thead>\n",
       "  <tbody>\n",
       "    <tr>\n",
       "      <th>2344</th>\n",
       "      <td>1376066</td>\n",
       "      <td>6</td>\n",
       "    </tr>\n",
       "    <tr>\n",
       "      <th>2345</th>\n",
       "      <td>1376054</td>\n",
       "      <td>6</td>\n",
       "    </tr>\n",
       "    <tr>\n",
       "      <th>2503</th>\n",
       "      <td>1376276</td>\n",
       "      <td>6</td>\n",
       "    </tr>\n",
       "    <tr>\n",
       "      <th>1197</th>\n",
       "      <td>1374885</td>\n",
       "      <td>6</td>\n",
       "    </tr>\n",
       "    <tr>\n",
       "      <th>433</th>\n",
       "      <td>1374115</td>\n",
       "      <td>6</td>\n",
       "    </tr>\n",
       "    <tr>\n",
       "      <th>2243</th>\n",
       "      <td>1375964</td>\n",
       "      <td>6</td>\n",
       "    </tr>\n",
       "    <tr>\n",
       "      <th>2667</th>\n",
       "      <td>1376313</td>\n",
       "      <td>6</td>\n",
       "    </tr>\n",
       "    <tr>\n",
       "      <th>2295</th>\n",
       "      <td>1376029</td>\n",
       "      <td>6</td>\n",
       "    </tr>\n",
       "    <tr>\n",
       "      <th>1578</th>\n",
       "      <td>1375272</td>\n",
       "      <td>6</td>\n",
       "    </tr>\n",
       "    <tr>\n",
       "      <th>2813</th>\n",
       "      <td>1376504</td>\n",
       "      <td>6</td>\n",
       "    </tr>\n",
       "    <tr>\n",
       "      <th>2013</th>\n",
       "      <td>1375703</td>\n",
       "      <td>6</td>\n",
       "    </tr>\n",
       "    <tr>\n",
       "      <th>2454</th>\n",
       "      <td>1376164</td>\n",
       "      <td>6</td>\n",
       "    </tr>\n",
       "    <tr>\n",
       "      <th>2437</th>\n",
       "      <td>1376213</td>\n",
       "      <td>6</td>\n",
       "    </tr>\n",
       "    <tr>\n",
       "      <th>936</th>\n",
       "      <td>1374624</td>\n",
       "      <td>6</td>\n",
       "    </tr>\n",
       "    <tr>\n",
       "      <th>1502</th>\n",
       "      <td>1375194</td>\n",
       "      <td>7</td>\n",
       "    </tr>\n",
       "    <tr>\n",
       "      <th>2739</th>\n",
       "      <td>1376329</td>\n",
       "      <td>7</td>\n",
       "    </tr>\n",
       "    <tr>\n",
       "      <th>2740</th>\n",
       "      <td>1376325</td>\n",
       "      <td>7</td>\n",
       "    </tr>\n",
       "    <tr>\n",
       "      <th>1270</th>\n",
       "      <td>1374958</td>\n",
       "      <td>7</td>\n",
       "    </tr>\n",
       "    <tr>\n",
       "      <th>2348</th>\n",
       "      <td>1376049</td>\n",
       "      <td>7</td>\n",
       "    </tr>\n",
       "    <tr>\n",
       "      <th>2657</th>\n",
       "      <td>1376356</td>\n",
       "      <td>7</td>\n",
       "    </tr>\n",
       "    <tr>\n",
       "      <th>1271</th>\n",
       "      <td>1374959</td>\n",
       "      <td>7</td>\n",
       "    </tr>\n",
       "    <tr>\n",
       "      <th>2283</th>\n",
       "      <td>1376039</td>\n",
       "      <td>7</td>\n",
       "    </tr>\n",
       "    <tr>\n",
       "      <th>149</th>\n",
       "      <td>1373830</td>\n",
       "      <td>7</td>\n",
       "    </tr>\n",
       "    <tr>\n",
       "      <th>2202</th>\n",
       "      <td>1375911</td>\n",
       "      <td>7</td>\n",
       "    </tr>\n",
       "    <tr>\n",
       "      <th>1561</th>\n",
       "      <td>1375254</td>\n",
       "      <td>7</td>\n",
       "    </tr>\n",
       "    <tr>\n",
       "      <th>844</th>\n",
       "      <td>1374531</td>\n",
       "      <td>7</td>\n",
       "    </tr>\n",
       "    <tr>\n",
       "      <th>2583</th>\n",
       "      <td>1376328</td>\n",
       "      <td>7</td>\n",
       "    </tr>\n",
       "    <tr>\n",
       "      <th>1174</th>\n",
       "      <td>1374862</td>\n",
       "      <td>7</td>\n",
       "    </tr>\n",
       "    <tr>\n",
       "      <th>1243</th>\n",
       "      <td>1374931</td>\n",
       "      <td>7</td>\n",
       "    </tr>\n",
       "    <tr>\n",
       "      <th>1840</th>\n",
       "      <td>1375540</td>\n",
       "      <td>7</td>\n",
       "    </tr>\n",
       "    <tr>\n",
       "      <th>1150</th>\n",
       "      <td>1374838</td>\n",
       "      <td>7</td>\n",
       "    </tr>\n",
       "    <tr>\n",
       "      <th>426</th>\n",
       "      <td>1374108</td>\n",
       "      <td>7</td>\n",
       "    </tr>\n",
       "    <tr>\n",
       "      <th>425</th>\n",
       "      <td>1374107</td>\n",
       "      <td>7</td>\n",
       "    </tr>\n",
       "    <tr>\n",
       "      <th>2081</th>\n",
       "      <td>1375673</td>\n",
       "      <td>7</td>\n",
       "    </tr>\n",
       "    <tr>\n",
       "      <th>924</th>\n",
       "      <td>1374612</td>\n",
       "      <td>7</td>\n",
       "    </tr>\n",
       "    <tr>\n",
       "      <th>2764</th>\n",
       "      <td>1376354</td>\n",
       "      <td>7</td>\n",
       "    </tr>\n",
       "    <tr>\n",
       "      <th>344</th>\n",
       "      <td>1374026</td>\n",
       "      <td>8</td>\n",
       "    </tr>\n",
       "    <tr>\n",
       "      <th>2034</th>\n",
       "      <td>1375754</td>\n",
       "      <td>8</td>\n",
       "    </tr>\n",
       "    <tr>\n",
       "      <th>923</th>\n",
       "      <td>1374611</td>\n",
       "      <td>8</td>\n",
       "    </tr>\n",
       "    <tr>\n",
       "      <th>325</th>\n",
       "      <td>1374007</td>\n",
       "      <td>8</td>\n",
       "    </tr>\n",
       "    <tr>\n",
       "      <th>312</th>\n",
       "      <td>1373994</td>\n",
       "      <td>8</td>\n",
       "    </tr>\n",
       "    <tr>\n",
       "      <th>1893</th>\n",
       "      <td>1375595</td>\n",
       "      <td>8</td>\n",
       "    </tr>\n",
       "    <tr>\n",
       "      <th>1756</th>\n",
       "      <td>1375453</td>\n",
       "      <td>8</td>\n",
       "    </tr>\n",
       "    <tr>\n",
       "      <th>2423</th>\n",
       "      <td>1376233</td>\n",
       "      <td>8</td>\n",
       "    </tr>\n",
       "    <tr>\n",
       "      <th>1826</th>\n",
       "      <td>1375526</td>\n",
       "      <td>8</td>\n",
       "    </tr>\n",
       "    <tr>\n",
       "      <th>670</th>\n",
       "      <td>1374356</td>\n",
       "      <td>8</td>\n",
       "    </tr>\n",
       "    <tr>\n",
       "      <th>2506</th>\n",
       "      <td>1376211</td>\n",
       "      <td>8</td>\n",
       "    </tr>\n",
       "    <tr>\n",
       "      <th>2196</th>\n",
       "      <td>1375941</td>\n",
       "      <td>8</td>\n",
       "    </tr>\n",
       "    <tr>\n",
       "      <th>1609</th>\n",
       "      <td>1375303</td>\n",
       "      <td>8</td>\n",
       "    </tr>\n",
       "    <tr>\n",
       "      <th>484</th>\n",
       "      <td>1374166</td>\n",
       "      <td>8</td>\n",
       "    </tr>\n",
       "  </tbody>\n",
       "</table>\n",
       "</div>"
      ],
      "text/plain": [
       "           id  apply_count\n",
       "2344  1376066            6\n",
       "2345  1376054            6\n",
       "2503  1376276            6\n",
       "1197  1374885            6\n",
       "433   1374115            6\n",
       "2243  1375964            6\n",
       "2667  1376313            6\n",
       "2295  1376029            6\n",
       "1578  1375272            6\n",
       "2813  1376504            6\n",
       "2013  1375703            6\n",
       "2454  1376164            6\n",
       "2437  1376213            6\n",
       "936   1374624            6\n",
       "1502  1375194            7\n",
       "2739  1376329            7\n",
       "2740  1376325            7\n",
       "1270  1374958            7\n",
       "2348  1376049            7\n",
       "2657  1376356            7\n",
       "1271  1374959            7\n",
       "2283  1376039            7\n",
       "149   1373830            7\n",
       "2202  1375911            7\n",
       "1561  1375254            7\n",
       "844   1374531            7\n",
       "2583  1376328            7\n",
       "1174  1374862            7\n",
       "1243  1374931            7\n",
       "1840  1375540            7\n",
       "1150  1374838            7\n",
       "426   1374108            7\n",
       "425   1374107            7\n",
       "2081  1375673            7\n",
       "924   1374612            7\n",
       "2764  1376354            7\n",
       "344   1374026            8\n",
       "2034  1375754            8\n",
       "923   1374611            8\n",
       "325   1374007            8\n",
       "312   1373994            8\n",
       "1893  1375595            8\n",
       "1756  1375453            8\n",
       "2423  1376233            8\n",
       "1826  1375526            8\n",
       "670   1374356            8\n",
       "2506  1376211            8\n",
       "2196  1375941            8\n",
       "1609  1375303            8\n",
       "484   1374166            8"
      ]
     },
     "execution_count": 162,
     "metadata": {},
     "output_type": "execute_result"
    }
   ],
   "source": [
    "counts.sort_values('apply_count').iloc[50:100]"
   ]
  },
  {
   "cell_type": "code",
   "execution_count": null,
   "id": "d4fee0fc-2668-4a0e-84da-848f14f5ed25",
   "metadata": {},
   "outputs": [],
   "source": []
  },
  {
   "cell_type": "code",
   "execution_count": null,
   "id": "0fbb2767-87e6-4d67-8ce4-19d0c4305c01",
   "metadata": {},
   "outputs": [],
   "source": []
  },
  {
   "cell_type": "code",
   "execution_count": null,
   "id": "c4cc2429-0ff7-4d20-84f3-4660ffee174a",
   "metadata": {},
   "outputs": [],
   "source": []
  },
  {
   "cell_type": "code",
   "execution_count": 154,
   "id": "e0512063-8f35-43c6-830d-3092bac98eb1",
   "metadata": {},
   "outputs": [
    {
     "data": {
      "text/plain": [
       "98490    1373869\n",
       "Name: job_id, dtype: int64"
      ]
     },
     "execution_count": 154,
     "metadata": {},
     "output_type": "execute_result"
    }
   ],
   "source": [
    "dataset.job_id.sample()"
   ]
  },
  {
   "cell_type": "code",
   "execution_count": 155,
   "id": "49ed97eb-4690-4d97-81d3-b5fc13da5880",
   "metadata": {},
   "outputs": [
    {
     "data": {
      "text/plain": [
       "815"
      ]
     },
     "execution_count": 155,
     "metadata": {},
     "output_type": "execute_result"
    }
   ],
   "source": [
    "dataset[dataset['job_id']==1373869].shape[0]"
   ]
  },
  {
   "cell_type": "code",
   "execution_count": 163,
   "id": "cfc97c84-ac60-4c45-b2ec-b86a25f7aee2",
   "metadata": {},
   "outputs": [],
   "source": [
    "ds = dataset[dataset['job_id']==1376164]"
   ]
  },
  {
   "cell_type": "code",
   "execution_count": 164,
   "id": "26ad258e-1396-41f8-9a73-d0902bb3ce06",
   "metadata": {},
   "outputs": [],
   "source": [
    "ex = ds[['job_id','user_id']].to_numpy().tolist()"
   ]
  },
  {
   "cell_type": "code",
   "execution_count": 165,
   "id": "7097bb8c-dcb2-4b80-b117-a40ab8896c80",
   "metadata": {},
   "outputs": [],
   "source": [
    "import random"
   ]
  },
  {
   "cell_type": "code",
   "execution_count": 166,
   "id": "d37278a6-b205-46f2-bd84-b5655402cd4a",
   "metadata": {
    "scrolled": true
   },
   "outputs": [
    {
     "data": {
      "application/vnd.jupyter.widget-view+json": {
       "model_id": "86fcaabbbe1d4317aa0d37ed4ebfad5f",
       "version_major": 2,
       "version_minor": 0
      },
      "text/plain": [
       "  0%|          | 0/5 [00:00<?, ?it/s]"
      ]
     },
     "metadata": {},
     "output_type": "display_data"
    },
    {
     "name": "stderr",
     "output_type": "stream",
     "text": [
      "\n",
      "\n",
      "Processed prompts:   0%|                                                                                                                             | 0/1 [00:00<?, ?it/s]\u001b[A\u001b[A\n",
      "\n",
      "Processed prompts: 100%|█████████████████████████████████████████████████████████████████████████████████████████████████████████████████████| 1/1 [00:00<00:00,  3.56it/s]\u001b[A\u001b[A\n",
      "\n",
      "\n",
      "Processed prompts:   0%|                                                                                                                             | 0/1 [00:00<?, ?it/s]\u001b[A\u001b[A\n",
      "\n",
      "Processed prompts: 100%|█████████████████████████████████████████████████████████████████████████████████████████████████████████████████████| 1/1 [00:00<00:00,  1.13it/s]\u001b[A\u001b[A\n",
      "\n",
      "\n",
      "Processed prompts:   0%|                                                                                                                             | 0/1 [00:00<?, ?it/s]\u001b[A\u001b[A\n",
      "\n",
      "Processed prompts: 100%|█████████████████████████████████████████████████████████████████████████████████████████████████████████████████████| 1/1 [00:00<00:00,  2.11it/s]\u001b[A\u001b[A\n",
      "\n",
      "\n",
      "Processed prompts:   0%|                                                                                                                             | 0/1 [00:00<?, ?it/s]\u001b[A\u001b[A\n",
      "\n",
      "Processed prompts: 100%|█████████████████████████████████████████████████████████████████████████████████████████████████████████████████████| 1/1 [00:00<00:00,  2.31it/s]\u001b[A\u001b[A\n",
      "\n",
      "\n",
      "Processed prompts:   0%|                                                                                                                             | 0/1 [00:00<?, ?it/s]\u001b[A\u001b[A\n",
      "\n",
      "Processed prompts: 100%|█████████████████████████████████████████████████████████████████████████████████████████████████████████████████████| 1/1 [00:00<00:00,  2.49it/s]\u001b[A\u001b[A\n"
     ]
    }
   ],
   "source": [
    "responses = {}\n",
    "# job_user_list = dataset[['job_id','user_id']].sample(frac=1).drop_duplicates().to_numpy().tolist()\n",
    "\n",
    "jul = random.sample(job_user_list,50)\n",
    "\n",
    "for jobid, userid in tqdm(ex):\n",
    "\n",
    "    user_id_list = dataset.loc[dataset['job_id']==jobid]['user_id'].tolist()\n",
    "    try:\n",
    "        jt = fetch_job_data(str(jobid))\n",
    "    except:\n",
    "        continue\n",
    "\n",
    "    if jobid in responses:\n",
    "        pass\n",
    "    else:\n",
    "        responses[jobid] = {}\n",
    "\n",
    "    try:\n",
    "        es_output = get_user_info(userid)\n",
    "        rt = es_output['resume'][0]\n",
    "        rt = html.unescape(rt)\n",
    "    except:\n",
    "        continue\n",
    "    \n",
    "    full_doc = get_answer_from_vllm(rt,jt, llm)\n",
    "    responses[jobid][userid] = full_doc"
   ]
  },
  {
   "cell_type": "code",
   "execution_count": 167,
   "id": "3c37b8c9-47c3-4416-8e57-19e141089ccb",
   "metadata": {},
   "outputs": [
    {
     "data": {
      "text/plain": [
       "{1376164: {1286631: ' yes',\n",
       "  114972: ' Yes',\n",
       "  294145: ' yes',\n",
       "  2808438: ' yes ',\n",
       "  58826: ' yes'}}"
      ]
     },
     "execution_count": 167,
     "metadata": {},
     "output_type": "execute_result"
    }
   ],
   "source": [
    "responses"
   ]
  },
  {
   "cell_type": "code",
   "execution_count": null,
   "id": "7534013a-4fdd-4a37-aeb3-0e149a02c7c1",
   "metadata": {},
   "outputs": [],
   "source": []
  },
  {
   "cell_type": "code",
   "execution_count": null,
   "id": "0386ff8d-2cb7-4305-b1d4-866f65d85ef8",
   "metadata": {},
   "outputs": [],
   "source": []
  },
  {
   "cell_type": "code",
   "execution_count": null,
   "id": "e925b8fd-5364-4afe-b946-1b79941a8a1b",
   "metadata": {},
   "outputs": [],
   "source": []
  },
  {
   "cell_type": "code",
   "execution_count": null,
   "id": "2c061ad2-a8d8-40ba-8c6a-c0242f48f9b0",
   "metadata": {},
   "outputs": [],
   "source": []
  },
  {
   "cell_type": "code",
   "execution_count": null,
   "id": "b40cb1c2-1c34-4d51-a361-9654d7ed46ed",
   "metadata": {},
   "outputs": [],
   "source": []
  },
  {
   "cell_type": "code",
   "execution_count": null,
   "id": "f639c048-debe-4354-b0a1-b1d8fccf8310",
   "metadata": {},
   "outputs": [],
   "source": []
  }
 ],
 "metadata": {
  "kernelspec": {
   "display_name": "Python 3 (ipykernel)",
   "language": "python",
   "name": "python3"
  },
  "language_info": {
   "codemirror_mode": {
    "name": "ipython",
    "version": 3
   },
   "file_extension": ".py",
   "mimetype": "text/x-python",
   "name": "python",
   "nbconvert_exporter": "python",
   "pygments_lexer": "ipython3",
   "version": "3.10.12"
  }
 },
 "nbformat": 4,
 "nbformat_minor": 5
}
