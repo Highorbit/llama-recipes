{
 "cells": [
  {
   "cell_type": "code",
   "execution_count": 1,
   "id": "da33dfa0-08dd-4fb9-a7a6-7c7ce04e0748",
   "metadata": {},
   "outputs": [],
   "source": [
    "import numpy as np\n",
    "import pandas as pd\n",
    "import json, pymysql"
   ]
  },
  {
   "cell_type": "code",
   "execution_count": 2,
   "id": "7385ce22-4c53-4e59-a917-f2e225db58a0",
   "metadata": {},
   "outputs": [],
   "source": [
    "job_df = pd.read_csv('../custom_data/relevant/job_data_full.csv')"
   ]
  },
  {
   "cell_type": "code",
   "execution_count": 3,
   "id": "d0274a15-a1da-4e2d-a700-6a937947c8cc",
   "metadata": {},
   "outputs": [],
   "source": [
    "sub_df = job_df[(job_df['apply_count']>300) & (job_df['apply_count']<1000)]"
   ]
  },
  {
   "cell_type": "code",
   "execution_count": 4,
   "id": "11d7dfd2-2e8c-43df-a17f-8396acbee82c",
   "metadata": {},
   "outputs": [],
   "source": [
    "sub_df.columns = ['job_id','job_title','apply_count']"
   ]
  },
  {
   "cell_type": "code",
   "execution_count": 5,
   "id": "7bb190c6-9ec9-41da-81ae-5746d2c350c9",
   "metadata": {},
   "outputs": [
    {
     "data": {
      "text/plain": [
       "(1692, 3)"
      ]
     },
     "execution_count": 5,
     "metadata": {},
     "output_type": "execute_result"
    }
   ],
   "source": [
    "sub_df.shape"
   ]
  },
  {
   "cell_type": "code",
   "execution_count": 6,
   "id": "16a972fe-82da-4775-9065-227605facc5a",
   "metadata": {},
   "outputs": [],
   "source": [
    "sub_df.job_id.to_csv('../custom_data/relevant/job_list.csv',index=False)"
   ]
  },
  {
   "cell_type": "code",
   "execution_count": null,
   "id": "8463378b-c61c-43d8-8755-abfee6b768d0",
   "metadata": {},
   "outputs": [],
   "source": []
  },
  {
   "cell_type": "code",
   "execution_count": 7,
   "id": "526ff113-563f-4d8d-ab70-4dc92892bc56",
   "metadata": {},
   "outputs": [
    {
     "data": {
      "text/html": [
       "<div>\n",
       "<style scoped>\n",
       "    .dataframe tbody tr th:only-of-type {\n",
       "        vertical-align: middle;\n",
       "    }\n",
       "\n",
       "    .dataframe tbody tr th {\n",
       "        vertical-align: top;\n",
       "    }\n",
       "\n",
       "    .dataframe thead th {\n",
       "        text-align: right;\n",
       "    }\n",
       "</style>\n",
       "<table border=\"1\" class=\"dataframe\">\n",
       "  <thead>\n",
       "    <tr style=\"text-align: right;\">\n",
       "      <th></th>\n",
       "      <th>job_id</th>\n",
       "      <th>job_title</th>\n",
       "      <th>apply_count</th>\n",
       "    </tr>\n",
       "  </thead>\n",
       "  <tbody>\n",
       "    <tr>\n",
       "      <th>6</th>\n",
       "      <td>832648</td>\n",
       "      <td>Maersk - Senior Analyst  - Supply Chain Develo...</td>\n",
       "      <td>578</td>\n",
       "    </tr>\n",
       "    <tr>\n",
       "      <th>8</th>\n",
       "      <td>908138</td>\n",
       "      <td>Flipkart - Warehouse Manager   (8-12 yrs)</td>\n",
       "      <td>632</td>\n",
       "    </tr>\n",
       "    <tr>\n",
       "      <th>12</th>\n",
       "      <td>1046384</td>\n",
       "      <td>Accenture - Corporate Strategy Specialist - Gr...</td>\n",
       "      <td>726</td>\n",
       "    </tr>\n",
       "    <tr>\n",
       "      <th>13</th>\n",
       "      <td>1046993</td>\n",
       "      <td>Samsung - Online Category Manager (3-10 yrs)</td>\n",
       "      <td>404</td>\n",
       "    </tr>\n",
       "    <tr>\n",
       "      <th>17</th>\n",
       "      <td>1119345</td>\n",
       "      <td>Management Consultant - Consulting Firm - IIM/...</td>\n",
       "      <td>336</td>\n",
       "    </tr>\n",
       "    <tr>\n",
       "      <th>...</th>\n",
       "      <td>...</td>\n",
       "      <td>...</td>\n",
       "      <td>...</td>\n",
       "    </tr>\n",
       "    <tr>\n",
       "      <th>8932</th>\n",
       "      <td>1375984</td>\n",
       "      <td>Valiance Solutions - Analyst - Risk &amp; Portfoli...</td>\n",
       "      <td>405</td>\n",
       "    </tr>\n",
       "    <tr>\n",
       "      <th>9005</th>\n",
       "      <td>1376065</td>\n",
       "      <td>Equity Research Role - EPC Conglomerate (1-8 yrs)</td>\n",
       "      <td>338</td>\n",
       "    </tr>\n",
       "    <tr>\n",
       "      <th>9080</th>\n",
       "      <td>1376157</td>\n",
       "      <td>Edge - Product Manager (1-5 yrs)</td>\n",
       "      <td>394</td>\n",
       "    </tr>\n",
       "    <tr>\n",
       "      <th>9089</th>\n",
       "      <td>1376175</td>\n",
       "      <td>RattanIndia Enterprises Limite - Head - Human ...</td>\n",
       "      <td>455</td>\n",
       "    </tr>\n",
       "    <tr>\n",
       "      <th>9129</th>\n",
       "      <td>1376232</td>\n",
       "      <td>Wodehouse Capital Advisors - VP/Director - Tra...</td>\n",
       "      <td>508</td>\n",
       "    </tr>\n",
       "  </tbody>\n",
       "</table>\n",
       "<p>1692 rows × 3 columns</p>\n",
       "</div>"
      ],
      "text/plain": [
       "       job_id                                          job_title  apply_count\n",
       "6      832648  Maersk - Senior Analyst  - Supply Chain Develo...          578\n",
       "8      908138          Flipkart - Warehouse Manager   (8-12 yrs)          632\n",
       "12    1046384  Accenture - Corporate Strategy Specialist - Gr...          726\n",
       "13    1046993       Samsung - Online Category Manager (3-10 yrs)          404\n",
       "17    1119345  Management Consultant - Consulting Firm - IIM/...          336\n",
       "...       ...                                                ...          ...\n",
       "8932  1375984  Valiance Solutions - Analyst - Risk & Portfoli...          405\n",
       "9005  1376065  Equity Research Role - EPC Conglomerate (1-8 yrs)          338\n",
       "9080  1376157                   Edge - Product Manager (1-5 yrs)          394\n",
       "9089  1376175  RattanIndia Enterprises Limite - Head - Human ...          455\n",
       "9129  1376232  Wodehouse Capital Advisors - VP/Director - Tra...          508\n",
       "\n",
       "[1692 rows x 3 columns]"
      ]
     },
     "execution_count": 7,
     "metadata": {},
     "output_type": "execute_result"
    }
   ],
   "source": [
    "sub_df"
   ]
  },
  {
   "cell_type": "code",
   "execution_count": null,
   "id": "2ac2bc24-5b96-4381-9dca-611e94b577e4",
   "metadata": {},
   "outputs": [],
   "source": []
  },
  {
   "cell_type": "code",
   "execution_count": null,
   "id": "ecf5b568-9e9e-4769-a849-65dce67adcfb",
   "metadata": {},
   "outputs": [],
   "source": []
  },
  {
   "cell_type": "code",
   "execution_count": null,
   "id": "2da4f3c7-7703-4d8c-9372-85e509f90aab",
   "metadata": {},
   "outputs": [],
   "source": []
  }
 ],
 "metadata": {
  "kernelspec": {
   "display_name": "Python 3 (ipykernel)",
   "language": "python",
   "name": "python3"
  },
  "language_info": {
   "codemirror_mode": {
    "name": "ipython",
    "version": 3
   },
   "file_extension": ".py",
   "mimetype": "text/x-python",
   "name": "python",
   "nbconvert_exporter": "python",
   "pygments_lexer": "ipython3",
   "version": "3.10.12"
  }
 },
 "nbformat": 4,
 "nbformat_minor": 5
}
