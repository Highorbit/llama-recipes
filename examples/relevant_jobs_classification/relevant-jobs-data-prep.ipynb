{
 "cells": [
  {
   "cell_type": "code",
   "execution_count": 1,
   "id": "0d35fed1-7b29-445d-8567-03b816d4f394",
   "metadata": {},
   "outputs": [
    {
     "name": "stderr",
     "output_type": "stream",
     "text": [
      "/home/ubuntu/infoedge/llama-recipes/env/lib/python3.10/site-packages/huggingface_hub/utils/_runtime.py:184: UserWarning: Pydantic is installed but cannot be imported. Please check your installation. `huggingface_hub` will default to not using Pydantic. Error message: '{e}'\n",
      "  warnings.warn(\n"
     ]
    }
   ],
   "source": [
    "from transformers import AutoModelForCausalLM, AutoTokenizer\n",
    "device = \"cuda\" # the device to load the model onto\n",
    "import torch\n",
    "import time\n",
    "import pandas as pd, html\n",
    "from user_info import get_user_info\n",
    "import requests\n",
    "from tqdm.notebook import tqdm\n",
    "from user_info import get_user_data_search_embed\n",
    "from job_info import fetch_jobs"
   ]
  },
  {
   "cell_type": "code",
   "execution_count": null,
   "id": "a70c3a8a-3bf2-4404-a5bc-dcc32ae9e6be",
   "metadata": {},
   "outputs": [],
   "source": []
  },
  {
   "cell_type": "code",
   "execution_count": 2,
   "id": "7e643e57-1df5-4d69-a3fd-31b289c9dd3c",
   "metadata": {},
   "outputs": [],
   "source": [
    "# from vllm import SamplingParams, LLM\n",
    "\n",
    "# sampling_params = SamplingParams(temperature=0, max_tokens=144)\n",
    "# llm = LLM(model=\"mistralai/Mistral-7B-Instruct-v0.2\")"
   ]
  },
  {
   "cell_type": "code",
   "execution_count": null,
   "id": "98683fb8-0b85-4096-ad7a-8eaf60b7ab13",
   "metadata": {},
   "outputs": [],
   "source": []
  },
  {
   "cell_type": "code",
   "execution_count": null,
   "id": "6e1718ea-e208-415d-b470-4ef3ed1ed0c1",
   "metadata": {},
   "outputs": [],
   "source": []
  },
  {
   "cell_type": "code",
   "execution_count": 3,
   "id": "3fbf1415-60ef-442f-8326-fe00a18ad125",
   "metadata": {},
   "outputs": [],
   "source": [
    "# model = AutoModelForCausalLM.from_pretrained(\"mistralai/Mistral-7B-Instruct-v0.2\",\n",
    "#                                             load_in_8bit=True, \n",
    "#                                             torch_dtype=torch.float16,\n",
    "#                                             device_map='auto')\n",
    "\n",
    "# tokenizer = AutoTokenizer.from_pretrained(\"mistralai/Mistral-7B-Instruct-v0.2\")"
   ]
  },
  {
   "cell_type": "code",
   "execution_count": 4,
   "id": "9196bef9-77f1-4c97-8476-699ef0edb25e",
   "metadata": {},
   "outputs": [],
   "source": [
    "dataset = pd.read_csv('data/analysis_dataset.csv')"
   ]
  },
  {
   "cell_type": "code",
   "execution_count": null,
   "id": "89c3b2bd-cfc5-4bc2-ae71-89aec46de69e",
   "metadata": {},
   "outputs": [],
   "source": []
  },
  {
   "cell_type": "code",
   "execution_count": 5,
   "id": "07101db0-c71d-4bfe-a0fc-91bcd401c186",
   "metadata": {},
   "outputs": [
    {
     "data": {
      "text/html": [
       "<div>\n",
       "<style scoped>\n",
       "    .dataframe tbody tr th:only-of-type {\n",
       "        vertical-align: middle;\n",
       "    }\n",
       "\n",
       "    .dataframe tbody tr th {\n",
       "        vertical-align: top;\n",
       "    }\n",
       "\n",
       "    .dataframe thead th {\n",
       "        text-align: right;\n",
       "    }\n",
       "</style>\n",
       "<table border=\"1\" class=\"dataframe\">\n",
       "  <thead>\n",
       "    <tr style=\"text-align: right;\">\n",
       "      <th></th>\n",
       "      <th>job_id</th>\n",
       "      <th>application_id</th>\n",
       "      <th>user_id</th>\n",
       "    </tr>\n",
       "  </thead>\n",
       "  <tbody>\n",
       "    <tr>\n",
       "      <th>0</th>\n",
       "      <td>1373681</td>\n",
       "      <td>144274567</td>\n",
       "      <td>439042</td>\n",
       "    </tr>\n",
       "    <tr>\n",
       "      <th>1</th>\n",
       "      <td>1373681</td>\n",
       "      <td>144261479</td>\n",
       "      <td>2015063</td>\n",
       "    </tr>\n",
       "    <tr>\n",
       "      <th>2</th>\n",
       "      <td>1373681</td>\n",
       "      <td>144253966</td>\n",
       "      <td>2777927</td>\n",
       "    </tr>\n",
       "    <tr>\n",
       "      <th>3</th>\n",
       "      <td>1373681</td>\n",
       "      <td>144241259</td>\n",
       "      <td>58130</td>\n",
       "    </tr>\n",
       "    <tr>\n",
       "      <th>4</th>\n",
       "      <td>1373681</td>\n",
       "      <td>144236812</td>\n",
       "      <td>2290933</td>\n",
       "    </tr>\n",
       "    <tr>\n",
       "      <th>...</th>\n",
       "      <td>...</td>\n",
       "      <td>...</td>\n",
       "      <td>...</td>\n",
       "    </tr>\n",
       "    <tr>\n",
       "      <th>136248</th>\n",
       "      <td>1376058</td>\n",
       "      <td>144442227</td>\n",
       "      <td>2151474</td>\n",
       "    </tr>\n",
       "    <tr>\n",
       "      <th>136249</th>\n",
       "      <td>1375030</td>\n",
       "      <td>144442249</td>\n",
       "      <td>1463255</td>\n",
       "    </tr>\n",
       "    <tr>\n",
       "      <th>136250</th>\n",
       "      <td>1373682</td>\n",
       "      <td>144442251</td>\n",
       "      <td>2601930</td>\n",
       "    </tr>\n",
       "    <tr>\n",
       "      <th>136251</th>\n",
       "      <td>1376582</td>\n",
       "      <td>144442257</td>\n",
       "      <td>1417492</td>\n",
       "    </tr>\n",
       "    <tr>\n",
       "      <th>136252</th>\n",
       "      <td>1376693</td>\n",
       "      <td>144442256</td>\n",
       "      <td>1835665</td>\n",
       "    </tr>\n",
       "  </tbody>\n",
       "</table>\n",
       "<p>136253 rows × 3 columns</p>\n",
       "</div>"
      ],
      "text/plain": [
       "         job_id  application_id  user_id\n",
       "0       1373681       144274567   439042\n",
       "1       1373681       144261479  2015063\n",
       "2       1373681       144253966  2777927\n",
       "3       1373681       144241259    58130\n",
       "4       1373681       144236812  2290933\n",
       "...         ...             ...      ...\n",
       "136248  1376058       144442227  2151474\n",
       "136249  1375030       144442249  1463255\n",
       "136250  1373682       144442251  2601930\n",
       "136251  1376582       144442257  1417492\n",
       "136252  1376693       144442256  1835665\n",
       "\n",
       "[136253 rows x 3 columns]"
      ]
     },
     "execution_count": 5,
     "metadata": {},
     "output_type": "execute_result"
    }
   ],
   "source": [
    "dataset"
   ]
  },
  {
   "cell_type": "code",
   "execution_count": null,
   "id": "866905e9-1d3e-4293-890c-e73c78151f8d",
   "metadata": {},
   "outputs": [],
   "source": []
  },
  {
   "cell_type": "code",
   "execution_count": 6,
   "id": "7ab38f5f-d98c-44e9-a93f-b869fb4f0b52",
   "metadata": {},
   "outputs": [],
   "source": [
    "def fetch_job_title(job_id):\n",
    "    \n",
    "    '''\n",
    "    Returns Job Data[Hirst, Source : ElasticSearch] for the last_k days, and with flexible page size (<10,000)\n",
    "    \n",
    "    Input : Last-K Days, and Page result size\n",
    "    \n",
    "    Output : Pandas Dataframe with jobs from the last k days \n",
    "    '''\n",
    "    \n",
    "    # columns = ['id', 'title','companyStatus', 'min', 'max', 'premium', 'applyCount', 'locations','tags','brandJobFlag']     #Added column name for companyStatus\n",
    "    # new_cols = ['jobid', 'title','companyStatus', 'min', 'max', 'premium', 'applyCount', 'locations','tags', 'brandJobFlag']       #Added column name for companyStatus\n",
    "    \n",
    "    url = \"http://internal-java-job-searcher-email-backend-1607736061.ap-south-1.elb.amazonaws.com/v1/user/-777/job/jobcode?query=<JOBID>\"\n",
    "    url = url.replace('<JOBID>',job_id)\n",
    "    payload={}\n",
    "    headers = {}\n",
    "    \n",
    "    response = requests.request(\"GET\", url, headers=headers, data=payload)\n",
    "    \n",
    "    payload={}\n",
    "    headers = {}\n",
    "    \n",
    "    response = requests.request(\"GET\", url, headers=headers, data=payload)\n",
    "    job_data = response.json()\n",
    "\n",
    "    title = job_data[0]['title']\n",
    "    jd = job_data[0]['introText']\n",
    "    jd = html.unescape(jd)\n",
    "\n",
    "    return title + '\\n' + jd\n"
   ]
  },
  {
   "cell_type": "code",
   "execution_count": null,
   "id": "72a315bc-8622-4c5c-87d9-934bde6c1c52",
   "metadata": {},
   "outputs": [],
   "source": []
  },
  {
   "cell_type": "code",
   "execution_count": null,
   "id": "993cf7b8-8f88-4bf0-a281-7e86c9e5133b",
   "metadata": {},
   "outputs": [],
   "source": []
  },
  {
   "cell_type": "code",
   "execution_count": 7,
   "id": "32ac0893-bda1-4659-803e-ec813afce70a",
   "metadata": {},
   "outputs": [
    {
     "data": {
      "text/html": [
       "<div>\n",
       "<style scoped>\n",
       "    .dataframe tbody tr th:only-of-type {\n",
       "        vertical-align: middle;\n",
       "    }\n",
       "\n",
       "    .dataframe tbody tr th {\n",
       "        vertical-align: top;\n",
       "    }\n",
       "\n",
       "    .dataframe thead th {\n",
       "        text-align: right;\n",
       "    }\n",
       "</style>\n",
       "<table border=\"1\" class=\"dataframe\">\n",
       "  <thead>\n",
       "    <tr style=\"text-align: right;\">\n",
       "      <th></th>\n",
       "      <th>job_id</th>\n",
       "      <th>application_id</th>\n",
       "      <th>user_id</th>\n",
       "    </tr>\n",
       "  </thead>\n",
       "  <tbody>\n",
       "    <tr>\n",
       "      <th>0</th>\n",
       "      <td>1373681</td>\n",
       "      <td>144274567</td>\n",
       "      <td>439042</td>\n",
       "    </tr>\n",
       "    <tr>\n",
       "      <th>1</th>\n",
       "      <td>1373681</td>\n",
       "      <td>144261479</td>\n",
       "      <td>2015063</td>\n",
       "    </tr>\n",
       "    <tr>\n",
       "      <th>2</th>\n",
       "      <td>1373681</td>\n",
       "      <td>144253966</td>\n",
       "      <td>2777927</td>\n",
       "    </tr>\n",
       "    <tr>\n",
       "      <th>3</th>\n",
       "      <td>1373681</td>\n",
       "      <td>144241259</td>\n",
       "      <td>58130</td>\n",
       "    </tr>\n",
       "    <tr>\n",
       "      <th>4</th>\n",
       "      <td>1373681</td>\n",
       "      <td>144236812</td>\n",
       "      <td>2290933</td>\n",
       "    </tr>\n",
       "    <tr>\n",
       "      <th>...</th>\n",
       "      <td>...</td>\n",
       "      <td>...</td>\n",
       "      <td>...</td>\n",
       "    </tr>\n",
       "    <tr>\n",
       "      <th>136248</th>\n",
       "      <td>1376058</td>\n",
       "      <td>144442227</td>\n",
       "      <td>2151474</td>\n",
       "    </tr>\n",
       "    <tr>\n",
       "      <th>136249</th>\n",
       "      <td>1375030</td>\n",
       "      <td>144442249</td>\n",
       "      <td>1463255</td>\n",
       "    </tr>\n",
       "    <tr>\n",
       "      <th>136250</th>\n",
       "      <td>1373682</td>\n",
       "      <td>144442251</td>\n",
       "      <td>2601930</td>\n",
       "    </tr>\n",
       "    <tr>\n",
       "      <th>136251</th>\n",
       "      <td>1376582</td>\n",
       "      <td>144442257</td>\n",
       "      <td>1417492</td>\n",
       "    </tr>\n",
       "    <tr>\n",
       "      <th>136252</th>\n",
       "      <td>1376693</td>\n",
       "      <td>144442256</td>\n",
       "      <td>1835665</td>\n",
       "    </tr>\n",
       "  </tbody>\n",
       "</table>\n",
       "<p>136253 rows × 3 columns</p>\n",
       "</div>"
      ],
      "text/plain": [
       "         job_id  application_id  user_id\n",
       "0       1373681       144274567   439042\n",
       "1       1373681       144261479  2015063\n",
       "2       1373681       144253966  2777927\n",
       "3       1373681       144241259    58130\n",
       "4       1373681       144236812  2290933\n",
       "...         ...             ...      ...\n",
       "136248  1376058       144442227  2151474\n",
       "136249  1375030       144442249  1463255\n",
       "136250  1373682       144442251  2601930\n",
       "136251  1376582       144442257  1417492\n",
       "136252  1376693       144442256  1835665\n",
       "\n",
       "[136253 rows x 3 columns]"
      ]
     },
     "execution_count": 7,
     "metadata": {},
     "output_type": "execute_result"
    }
   ],
   "source": [
    "dataset"
   ]
  },
  {
   "cell_type": "code",
   "execution_count": 8,
   "id": "d4bc98bc-0247-466a-b89d-ec93d230cbcf",
   "metadata": {},
   "outputs": [
    {
     "data": {
      "text/plain": [
       "0         1373681\n",
       "25        1373682\n",
       "66        1373683\n",
       "71        1373684\n",
       "189       1373685\n",
       "           ...   \n",
       "133468    1376446\n",
       "133579    1376758\n",
       "134063    1375146\n",
       "136145    1376759\n",
       "136172    1376737\n",
       "Name: job_id, Length: 2949, dtype: int64"
      ]
     },
     "execution_count": 8,
     "metadata": {},
     "output_type": "execute_result"
    }
   ],
   "source": [
    "dataset['job_id'].drop_duplicates()"
   ]
  },
  {
   "cell_type": "code",
   "execution_count": 9,
   "id": "a7346e83-c6eb-4c6e-b84a-42a4fa95012e",
   "metadata": {},
   "outputs": [
    {
     "data": {
      "text/plain": [
       "0          439042\n",
       "1         2015063\n",
       "2         2777927\n",
       "3           58130\n",
       "4         2290933\n",
       "           ...   \n",
       "136201    2796578\n",
       "136202    2679806\n",
       "136235     986712\n",
       "136245    1713212\n",
       "136249    1463255\n",
       "Name: user_id, Length: 30363, dtype: int64"
      ]
     },
     "execution_count": 9,
     "metadata": {},
     "output_type": "execute_result"
    }
   ],
   "source": [
    "dataset['user_id'].drop_duplicates()"
   ]
  },
  {
   "cell_type": "code",
   "execution_count": 10,
   "id": "6bbfb7bb-d801-4865-b59a-b7d8d48123ae",
   "metadata": {},
   "outputs": [
    {
     "data": {
      "text/html": [
       "<div>\n",
       "<style scoped>\n",
       "    .dataframe tbody tr th:only-of-type {\n",
       "        vertical-align: middle;\n",
       "    }\n",
       "\n",
       "    .dataframe tbody tr th {\n",
       "        vertical-align: top;\n",
       "    }\n",
       "\n",
       "    .dataframe thead th {\n",
       "        text-align: right;\n",
       "    }\n",
       "</style>\n",
       "<table border=\"1\" class=\"dataframe\">\n",
       "  <thead>\n",
       "    <tr style=\"text-align: right;\">\n",
       "      <th></th>\n",
       "      <th>job_id</th>\n",
       "      <th>application_id</th>\n",
       "      <th>user_id</th>\n",
       "    </tr>\n",
       "  </thead>\n",
       "  <tbody>\n",
       "    <tr>\n",
       "      <th>34019</th>\n",
       "      <td>1374360</td>\n",
       "      <td>144325489</td>\n",
       "      <td>1177085</td>\n",
       "    </tr>\n",
       "    <tr>\n",
       "      <th>74348</th>\n",
       "      <td>1375541</td>\n",
       "      <td>144321437</td>\n",
       "      <td>1083622</td>\n",
       "    </tr>\n",
       "    <tr>\n",
       "      <th>130839</th>\n",
       "      <td>1376179</td>\n",
       "      <td>144432509</td>\n",
       "      <td>2744235</td>\n",
       "    </tr>\n",
       "    <tr>\n",
       "      <th>16637</th>\n",
       "      <td>1373909</td>\n",
       "      <td>144172562</td>\n",
       "      <td>1970935</td>\n",
       "    </tr>\n",
       "    <tr>\n",
       "      <th>60244</th>\n",
       "      <td>1374946</td>\n",
       "      <td>144267077</td>\n",
       "      <td>1712512</td>\n",
       "    </tr>\n",
       "  </tbody>\n",
       "</table>\n",
       "</div>"
      ],
      "text/plain": [
       "         job_id  application_id  user_id\n",
       "34019   1374360       144325489  1177085\n",
       "74348   1375541       144321437  1083622\n",
       "130839  1376179       144432509  2744235\n",
       "16637   1373909       144172562  1970935\n",
       "60244   1374946       144267077  1712512"
      ]
     },
     "execution_count": 10,
     "metadata": {},
     "output_type": "execute_result"
    }
   ],
   "source": [
    "dataset.sample(5)"
   ]
  },
  {
   "cell_type": "code",
   "execution_count": 11,
   "id": "9858146d-6845-4233-a90a-37800ffc8719",
   "metadata": {},
   "outputs": [
    {
     "name": "stderr",
     "output_type": "stream",
     "text": [
      "100%|███████████████████████████████████████████████████████████████████████████████████████████████████████████████████████████████████████| 1/1 [00:00<00:00, 126.97it/s]\n",
      "100%|█████████████████████████████████████████████████████████████████████████████████████████████████████████████████████████████████████| 1/1 [00:00<00:00, 15947.92it/s]\n"
     ]
    }
   ],
   "source": [
    "es_output = get_user_info(1358359)\n",
    "rt = es_output['resume'][0]\n",
    "rt = html.unescape(rt)"
   ]
  },
  {
   "cell_type": "code",
   "execution_count": null,
   "id": "20041176-73fd-45a8-9927-afa525fc56f4",
   "metadata": {},
   "outputs": [],
   "source": []
  },
  {
   "cell_type": "code",
   "execution_count": 12,
   "id": "bc2a7d0a-6fdf-4708-a1a7-9084ac7530a2",
   "metadata": {},
   "outputs": [],
   "source": [
    "answer_format = {\n",
    "    \"work_experience\":\"description of most recent work experience\"\n",
    "}"
   ]
  },
  {
   "cell_type": "code",
   "execution_count": 13,
   "id": "7328e745-3004-47e8-8e7c-debe595d2a4a",
   "metadata": {},
   "outputs": [],
   "source": [
    "input_prompt = f'''\n",
    "<s>[INST]You are an accurate AI agent working for a job platform. You will be given the raw \n",
    "unstructured text of a user's resume, Your task is to return the description of the user's\n",
    "latest job experience as given in the resume. return the answer in the following format :\\n{{answer_format}}\\n\n",
    "Return a valid JSON only\n",
    "This is the resume text:\\n{{resume_text}}\\n\n",
    "The answer is: [\\INST]\n",
    "'''"
   ]
  },
  {
   "cell_type": "code",
   "execution_count": 35,
   "id": "5ffc753f-49e2-4a01-be23-71b30ffe2069",
   "metadata": {},
   "outputs": [],
   "source": [
    "input_prompt = input_prompt.format(resume_text=rt, answer_format=answer_format)"
   ]
  },
  {
   "cell_type": "code",
   "execution_count": 36,
   "id": "b7a91d2f-1101-4a94-87f6-cb30bf6d5cad",
   "metadata": {},
   "outputs": [
    {
     "name": "stderr",
     "output_type": "stream",
     "text": [
      "Processed prompts: 100%|█████████████████████████████████████████████████████████████████████████████████████████████████████████████████████| 1/1 [00:05<00:00,  5.07s/it]\n"
     ]
    }
   ],
   "source": [
    "outputs = llm.generate(input_prompt, sampling_params)\n",
    "generated_text = outputs[0].outputs[0].text"
   ]
  },
  {
   "cell_type": "code",
   "execution_count": 37,
   "id": "800963ec-3086-496b-becf-d77b7b6b9c3f",
   "metadata": {},
   "outputs": [
    {
     "data": {
      "text/plain": [
       "\"{'work_experience': 'Currently working as a Process Specialist at Cargill since June 2021. Responsibilities include preparing Financial Statements in accordance with USGAAP and Cargill's internal guidelines, analyzing anomalies, working on periodical forecast and budget for expenses by cost centre wise, analyzing actual financial results compared with forecast and budget on monthly and quarterly basis, and providing data with trends to the commercial team. Additionally, I meet regulatory requirements by providing data to government authorities and provide cost drivers for changes in cost over months and drive monthly divisional cost governance meetings. Value-added projects include price, discount & cost analysis for effective maintenance of\""
      ]
     },
     "execution_count": 37,
     "metadata": {},
     "output_type": "execute_result"
    }
   ],
   "source": [
    "generated_text"
   ]
  },
  {
   "cell_type": "code",
   "execution_count": null,
   "id": "7a39cf94-a5e9-47bf-9500-c2f14cc3a260",
   "metadata": {},
   "outputs": [],
   "source": []
  },
  {
   "cell_type": "code",
   "execution_count": 17,
   "id": "95f596fc-e165-4963-be6f-446ff24ee77d",
   "metadata": {},
   "outputs": [],
   "source": [
    "# start_time = time.time()\n",
    "# model.eval()\n",
    "# with torch.no_grad():\n",
    "#     full_document = tokenizer.decode(model.generate(**model_input, max_new_tokens=32)[0], skip_special_tokens=True)\n",
    "\n",
    "# print(f'Time taken : {time.time()-start_time}')"
   ]
  },
  {
   "cell_type": "code",
   "execution_count": null,
   "id": "4f5d5555-d65d-42a9-bf6d-b5eed9b2e91b",
   "metadata": {},
   "outputs": [],
   "source": []
  },
  {
   "cell_type": "code",
   "execution_count": 18,
   "id": "44d3972a-9ff3-4bfe-b727-c6c6bb162026",
   "metadata": {},
   "outputs": [
    {
     "data": {
      "text/html": [
       "<div>\n",
       "<style scoped>\n",
       "    .dataframe tbody tr th:only-of-type {\n",
       "        vertical-align: middle;\n",
       "    }\n",
       "\n",
       "    .dataframe tbody tr th {\n",
       "        vertical-align: top;\n",
       "    }\n",
       "\n",
       "    .dataframe thead th {\n",
       "        text-align: right;\n",
       "    }\n",
       "</style>\n",
       "<table border=\"1\" class=\"dataframe\">\n",
       "  <thead>\n",
       "    <tr style=\"text-align: right;\">\n",
       "      <th></th>\n",
       "      <th>job_id</th>\n",
       "      <th>application_id</th>\n",
       "      <th>user_id</th>\n",
       "    </tr>\n",
       "  </thead>\n",
       "  <tbody>\n",
       "    <tr>\n",
       "      <th>0</th>\n",
       "      <td>1373681</td>\n",
       "      <td>144274567</td>\n",
       "      <td>439042</td>\n",
       "    </tr>\n",
       "    <tr>\n",
       "      <th>1</th>\n",
       "      <td>1373681</td>\n",
       "      <td>144261479</td>\n",
       "      <td>2015063</td>\n",
       "    </tr>\n",
       "    <tr>\n",
       "      <th>2</th>\n",
       "      <td>1373681</td>\n",
       "      <td>144253966</td>\n",
       "      <td>2777927</td>\n",
       "    </tr>\n",
       "    <tr>\n",
       "      <th>3</th>\n",
       "      <td>1373681</td>\n",
       "      <td>144241259</td>\n",
       "      <td>58130</td>\n",
       "    </tr>\n",
       "    <tr>\n",
       "      <th>4</th>\n",
       "      <td>1373681</td>\n",
       "      <td>144236812</td>\n",
       "      <td>2290933</td>\n",
       "    </tr>\n",
       "  </tbody>\n",
       "</table>\n",
       "</div>"
      ],
      "text/plain": [
       "    job_id  application_id  user_id\n",
       "0  1373681       144274567   439042\n",
       "1  1373681       144261479  2015063\n",
       "2  1373681       144253966  2777927\n",
       "3  1373681       144241259    58130\n",
       "4  1373681       144236812  2290933"
      ]
     },
     "execution_count": 18,
     "metadata": {},
     "output_type": "execute_result"
    }
   ],
   "source": [
    "dataset.head(5)"
   ]
  },
  {
   "cell_type": "code",
   "execution_count": 19,
   "id": "5e5a7073-2457-46c9-a341-3996a6a396b2",
   "metadata": {},
   "outputs": [
    {
     "data": {
      "text/html": [
       "<div>\n",
       "<style scoped>\n",
       "    .dataframe tbody tr th:only-of-type {\n",
       "        vertical-align: middle;\n",
       "    }\n",
       "\n",
       "    .dataframe tbody tr th {\n",
       "        vertical-align: top;\n",
       "    }\n",
       "\n",
       "    .dataframe thead th {\n",
       "        text-align: right;\n",
       "    }\n",
       "</style>\n",
       "<table border=\"1\" class=\"dataframe\">\n",
       "  <thead>\n",
       "    <tr style=\"text-align: right;\">\n",
       "      <th></th>\n",
       "      <th>job_id</th>\n",
       "      <th>application_id</th>\n",
       "      <th>user_id</th>\n",
       "    </tr>\n",
       "  </thead>\n",
       "  <tbody>\n",
       "    <tr>\n",
       "      <th>36786</th>\n",
       "      <td>1374412</td>\n",
       "      <td>144220143</td>\n",
       "      <td>158664</td>\n",
       "    </tr>\n",
       "    <tr>\n",
       "      <th>36286</th>\n",
       "      <td>1374410</td>\n",
       "      <td>144228411</td>\n",
       "      <td>1853933</td>\n",
       "    </tr>\n",
       "    <tr>\n",
       "      <th>32756</th>\n",
       "      <td>1374332</td>\n",
       "      <td>144230299</td>\n",
       "      <td>2793538</td>\n",
       "    </tr>\n",
       "    <tr>\n",
       "      <th>59461</th>\n",
       "      <td>1374912</td>\n",
       "      <td>144286093</td>\n",
       "      <td>849265</td>\n",
       "    </tr>\n",
       "    <tr>\n",
       "      <th>62427</th>\n",
       "      <td>1375002</td>\n",
       "      <td>144301729</td>\n",
       "      <td>84463</td>\n",
       "    </tr>\n",
       "    <tr>\n",
       "      <th>...</th>\n",
       "      <td>...</td>\n",
       "      <td>...</td>\n",
       "      <td>...</td>\n",
       "    </tr>\n",
       "    <tr>\n",
       "      <th>101756</th>\n",
       "      <td>1376152</td>\n",
       "      <td>144379743</td>\n",
       "      <td>1693198</td>\n",
       "    </tr>\n",
       "    <tr>\n",
       "      <th>125367</th>\n",
       "      <td>1376100</td>\n",
       "      <td>144422162</td>\n",
       "      <td>1268621</td>\n",
       "    </tr>\n",
       "    <tr>\n",
       "      <th>3177</th>\n",
       "      <td>1373739</td>\n",
       "      <td>144168429</td>\n",
       "      <td>1177512</td>\n",
       "    </tr>\n",
       "    <tr>\n",
       "      <th>31885</th>\n",
       "      <td>1374309</td>\n",
       "      <td>144216364</td>\n",
       "      <td>1702935</td>\n",
       "    </tr>\n",
       "    <tr>\n",
       "      <th>82027</th>\n",
       "      <td>1374654</td>\n",
       "      <td>144343715</td>\n",
       "      <td>164484</td>\n",
       "    </tr>\n",
       "  </tbody>\n",
       "</table>\n",
       "<p>136253 rows × 3 columns</p>\n",
       "</div>"
      ],
      "text/plain": [
       "         job_id  application_id  user_id\n",
       "36786   1374412       144220143   158664\n",
       "36286   1374410       144228411  1853933\n",
       "32756   1374332       144230299  2793538\n",
       "59461   1374912       144286093   849265\n",
       "62427   1375002       144301729    84463\n",
       "...         ...             ...      ...\n",
       "101756  1376152       144379743  1693198\n",
       "125367  1376100       144422162  1268621\n",
       "3177    1373739       144168429  1177512\n",
       "31885   1374309       144216364  1702935\n",
       "82027   1374654       144343715   164484\n",
       "\n",
       "[136253 rows x 3 columns]"
      ]
     },
     "execution_count": 19,
     "metadata": {},
     "output_type": "execute_result"
    }
   ],
   "source": [
    "dataset.sample(frac=1)"
   ]
  },
  {
   "cell_type": "code",
   "execution_count": null,
   "id": "7205d3ae-dbe7-4019-8604-883530f41ece",
   "metadata": {},
   "outputs": [],
   "source": []
  },
  {
   "cell_type": "code",
   "execution_count": 14,
   "id": "d4fee0fc-2668-4a0e-84da-848f14f5ed25",
   "metadata": {},
   "outputs": [
    {
     "data": {
      "application/vnd.jupyter.widget-view+json": {
       "model_id": "30e67ac56cb5447f98ab900011bfa4fb",
       "version_major": 2,
       "version_minor": 0
      },
      "text/plain": [
       "  0%|          | 0/2949 [00:00<?, ?it/s]"
      ]
     },
     "metadata": {},
     "output_type": "display_data"
    },
    {
     "name": "stderr",
     "output_type": "stream",
     "text": [
      "/tmp/ipykernel_4972/3556400985.py:6: FutureWarning: The behavior of DataFrame concatenation with empty or all-NA entries is deprecated. In a future version, this will no longer exclude empty or all-NA columns when determining the result dtypes. To retain the old behavior, exclude the relevant entries before the concat operation.\n",
      "  jdf = pd.concat(f)\n"
     ]
    }
   ],
   "source": [
    "f = []\n",
    "for jid in tqdm(dataset.job_id.unique()):\n",
    "    sdf = fetch_jobs(str(jid))\n",
    "    f.append(sdf)\n",
    "\n",
    "jdf = pd.concat(f)"
   ]
  },
  {
   "cell_type": "code",
   "execution_count": null,
   "id": "1ac0df8f-5bb8-468b-82bb-58861daf4cd2",
   "metadata": {},
   "outputs": [],
   "source": []
  },
  {
   "cell_type": "code",
   "execution_count": null,
   "id": "4db65b67-d77e-42bd-9608-8e261123e11c",
   "metadata": {},
   "outputs": [],
   "source": []
  },
  {
   "cell_type": "code",
   "execution_count": 21,
   "id": "c286afe9-8976-422d-bc3a-cd6a8f0d9bf8",
   "metadata": {},
   "outputs": [],
   "source": [
    "def get_answer_from_vllm(resume_text, job_title, llm):\n",
    "\n",
    "    #define the input prompt here\n",
    "    input_prompt = f'''<s>[INST]You are an accurate AI agent working for a job platform. You will be given the raw \n",
    "                            unstructured text of a user's resume, and the description of a job that they have applied to. Your task \n",
    "                            is to check if the resume contains prior work experience relevant to the job title being provided.\n",
    "                            Respond with a JUST A SINGLE WORD answer \"yes\" or \"no\". If there's any ambiguity, answer with \"no\"\n",
    "                            This is the job description {{job_title}}\\n\n",
    "                            This is the resume text:\\n{{resume_text}}\\n\n",
    "                            The answer is: [\\INST]\n",
    "                            '''\n",
    "\n",
    "    input_prompt = input_prompt.format(resume_text=resume_text,\n",
    "                   job_title=jt)\n",
    "    \n",
    "    outputs = llm.generate(input_prompt, sampling_params)\n",
    "    generated_text = outputs[0].outputs[0].text\n",
    "\n",
    "    return generated_text"
   ]
  },
  {
   "cell_type": "code",
   "execution_count": null,
   "id": "595263ab-00a7-4448-adc0-0ff89ba9f749",
   "metadata": {},
   "outputs": [],
   "source": []
  },
  {
   "cell_type": "code",
   "execution_count": null,
   "id": "01f97398-cc7e-450f-a61d-6c553f7007e7",
   "metadata": {},
   "outputs": [],
   "source": []
  },
  {
   "cell_type": "code",
   "execution_count": 15,
   "id": "0fbb2767-87e6-4d67-8ce4-19d0c4305c01",
   "metadata": {},
   "outputs": [
    {
     "data": {
      "text/html": [
       "<div>\n",
       "<style scoped>\n",
       "    .dataframe tbody tr th:only-of-type {\n",
       "        vertical-align: middle;\n",
       "    }\n",
       "\n",
       "    .dataframe tbody tr th {\n",
       "        vertical-align: top;\n",
       "    }\n",
       "\n",
       "    .dataframe thead th {\n",
       "        text-align: right;\n",
       "    }\n",
       "</style>\n",
       "<table border=\"1\" class=\"dataframe\">\n",
       "  <thead>\n",
       "    <tr style=\"text-align: right;\">\n",
       "      <th></th>\n",
       "      <th>id</th>\n",
       "      <th>title</th>\n",
       "      <th>introText</th>\n",
       "      <th>jobdesignation</th>\n",
       "      <th>min</th>\n",
       "      <th>max</th>\n",
       "      <th>createdBy</th>\n",
       "      <th>creatorDomainName</th>\n",
       "      <th>categoryId</th>\n",
       "      <th>jobDetailUrl</th>\n",
       "      <th>...</th>\n",
       "      <th>maxBatch</th>\n",
       "      <th>brandJobFlag</th>\n",
       "      <th>companyDomain</th>\n",
       "      <th>lableId</th>\n",
       "      <th>companyData</th>\n",
       "      <th>recruiter</th>\n",
       "      <th>jobStatusInfo</th>\n",
       "      <th>refreshStatus</th>\n",
       "      <th>showRecruiterProfile</th>\n",
       "      <th>location</th>\n",
       "    </tr>\n",
       "  </thead>\n",
       "  <tbody>\n",
       "    <tr>\n",
       "      <th>0</th>\n",
       "      <td>1374165</td>\n",
       "      <td>Branch Manager - Agency Channel - Insurance (6...</td>\n",
       "      <td>&lt;p&gt;Duties &amp; Responsibilities:&lt;br/&gt;&lt;br/&gt;Respons...</td>\n",
       "      <td>Branch Manager - Agency Channel - Insurance</td>\n",
       "      <td>6</td>\n",
       "      <td>8</td>\n",
       "      <td>69500</td>\n",
       "      <td>servingskill.com</td>\n",
       "      <td>14</td>\n",
       "      <td>https://www.iimjobs.com/j/branch-manager-agenc...</td>\n",
       "      <td>...</td>\n",
       "      <td>None</td>\n",
       "      <td>0</td>\n",
       "      <td>None</td>\n",
       "      <td>None</td>\n",
       "      <td>{'companyId': 0, 'companyName': 'Serving Skill...</td>\n",
       "      <td>{'recruiterId': 69500, 'recruiterName': 'Priti...</td>\n",
       "      <td>None</td>\n",
       "      <td>1</td>\n",
       "      <td>NaN</td>\n",
       "      <td>[{'id': 2, 'name': 'Mumbai'}]</td>\n",
       "    </tr>\n",
       "  </tbody>\n",
       "</table>\n",
       "<p>1 rows × 51 columns</p>\n",
       "</div>"
      ],
      "text/plain": [
       "        id                                              title  \\\n",
       "0  1374165  Branch Manager - Agency Channel - Insurance (6...   \n",
       "\n",
       "                                           introText  \\\n",
       "0  <p>Duties & Responsibilities:<br/><br/>Respons...   \n",
       "\n",
       "                                jobdesignation  min  max  createdBy  \\\n",
       "0  Branch Manager - Agency Channel - Insurance    6    8      69500   \n",
       "\n",
       "  creatorDomainName  categoryId  \\\n",
       "0  servingskill.com          14   \n",
       "\n",
       "                                        jobDetailUrl  ...  maxBatch  \\\n",
       "0  https://www.iimjobs.com/j/branch-manager-agenc...  ...      None   \n",
       "\n",
       "   brandJobFlag  companyDomain  lableId  \\\n",
       "0             0           None     None   \n",
       "\n",
       "                                         companyData  \\\n",
       "0  {'companyId': 0, 'companyName': 'Serving Skill...   \n",
       "\n",
       "                                           recruiter  jobStatusInfo  \\\n",
       "0  {'recruiterId': 69500, 'recruiterName': 'Priti...           None   \n",
       "\n",
       "   refreshStatus  showRecruiterProfile                       location  \n",
       "0              1                   NaN  [{'id': 2, 'name': 'Mumbai'}]  \n",
       "\n",
       "[1 rows x 51 columns]"
      ]
     },
     "execution_count": 15,
     "metadata": {},
     "output_type": "execute_result"
    }
   ],
   "source": [
    "jdf.sample()"
   ]
  },
  {
   "cell_type": "code",
   "execution_count": null,
   "id": "c4cc2429-0ff7-4d20-84f3-4660ffee174a",
   "metadata": {},
   "outputs": [],
   "source": []
  },
  {
   "cell_type": "code",
   "execution_count": 16,
   "id": "e0512063-8f35-43c6-830d-3092bac98eb1",
   "metadata": {},
   "outputs": [
    {
     "data": {
      "text/html": [
       "<div>\n",
       "<style scoped>\n",
       "    .dataframe tbody tr th:only-of-type {\n",
       "        vertical-align: middle;\n",
       "    }\n",
       "\n",
       "    .dataframe tbody tr th {\n",
       "        vertical-align: top;\n",
       "    }\n",
       "\n",
       "    .dataframe thead th {\n",
       "        text-align: right;\n",
       "    }\n",
       "</style>\n",
       "<table border=\"1\" class=\"dataframe\">\n",
       "  <thead>\n",
       "    <tr style=\"text-align: right;\">\n",
       "      <th></th>\n",
       "      <th>id</th>\n",
       "      <th>title</th>\n",
       "      <th>introText</th>\n",
       "      <th>jobdesignation</th>\n",
       "      <th>min</th>\n",
       "      <th>max</th>\n",
       "      <th>createdBy</th>\n",
       "      <th>creatorDomainName</th>\n",
       "      <th>categoryId</th>\n",
       "      <th>jobDetailUrl</th>\n",
       "      <th>...</th>\n",
       "      <th>maxBatch</th>\n",
       "      <th>brandJobFlag</th>\n",
       "      <th>companyDomain</th>\n",
       "      <th>lableId</th>\n",
       "      <th>companyData</th>\n",
       "      <th>recruiter</th>\n",
       "      <th>jobStatusInfo</th>\n",
       "      <th>refreshStatus</th>\n",
       "      <th>showRecruiterProfile</th>\n",
       "      <th>location</th>\n",
       "    </tr>\n",
       "  </thead>\n",
       "  <tbody>\n",
       "    <tr>\n",
       "      <th>0</th>\n",
       "      <td>1376606</td>\n",
       "      <td>Manager/Senior Manager - Risk &amp; Compliance - K...</td>\n",
       "      <td>&lt;p&gt;JD :&lt;br/&gt;&lt;br/&gt;- Risk &amp; Compliance Managemen...</td>\n",
       "      <td>Manager/Senior Manager</td>\n",
       "      <td>6</td>\n",
       "      <td>10</td>\n",
       "      <td>157696</td>\n",
       "      <td>huquo.com</td>\n",
       "      <td>13</td>\n",
       "      <td>https://www.iimjobs.com/j/managersenior-manage...</td>\n",
       "      <td>...</td>\n",
       "      <td>None</td>\n",
       "      <td>0</td>\n",
       "      <td>None</td>\n",
       "      <td>None</td>\n",
       "      <td>{'companyId': 0, 'companyName': 'Huquo', 'comp...</td>\n",
       "      <td>{'recruiterId': 157696, 'recruiterName': 'Kish...</td>\n",
       "      <td>None</td>\n",
       "      <td>1</td>\n",
       "      <td>NaN</td>\n",
       "      <td>[{'id': 37, 'name': 'Gurgaon/Gurugram'}]</td>\n",
       "    </tr>\n",
       "  </tbody>\n",
       "</table>\n",
       "<p>1 rows × 51 columns</p>\n",
       "</div>"
      ],
      "text/plain": [
       "        id                                              title  \\\n",
       "0  1376606  Manager/Senior Manager - Risk & Compliance - K...   \n",
       "\n",
       "                                           introText          jobdesignation  \\\n",
       "0  <p>JD :<br/><br/>- Risk & Compliance Managemen...  Manager/Senior Manager   \n",
       "\n",
       "   min  max  createdBy creatorDomainName  categoryId  \\\n",
       "0    6   10     157696         huquo.com          13   \n",
       "\n",
       "                                        jobDetailUrl  ...  maxBatch  \\\n",
       "0  https://www.iimjobs.com/j/managersenior-manage...  ...      None   \n",
       "\n",
       "   brandJobFlag  companyDomain  lableId  \\\n",
       "0             0           None     None   \n",
       "\n",
       "                                         companyData  \\\n",
       "0  {'companyId': 0, 'companyName': 'Huquo', 'comp...   \n",
       "\n",
       "                                           recruiter  jobStatusInfo  \\\n",
       "0  {'recruiterId': 157696, 'recruiterName': 'Kish...           None   \n",
       "\n",
       "   refreshStatus  showRecruiterProfile  \\\n",
       "0              1                   NaN   \n",
       "\n",
       "                                   location  \n",
       "0  [{'id': 37, 'name': 'Gurgaon/Gurugram'}]  \n",
       "\n",
       "[1 rows x 51 columns]"
      ]
     },
     "execution_count": 16,
     "metadata": {},
     "output_type": "execute_result"
    }
   ],
   "source": [
    "jdf[jdf['applyCount']>=70].sample()"
   ]
  },
  {
   "cell_type": "code",
   "execution_count": 20,
   "id": "2236ab57-b8ac-47c0-8516-0bde35e77ac5",
   "metadata": {},
   "outputs": [],
   "source": [
    "#filter out jobs, select ones with atleast 50 applications\n",
    "count_df = dataset['job_id'].value_counts().reset_index()\n",
    "jobs = count_df.loc[(count_df['count']>=50) & (count_df['count']<60)].sample(10)"
   ]
  },
  {
   "cell_type": "code",
   "execution_count": 22,
   "id": "177887e8-0429-465d-bf0d-52938940dc35",
   "metadata": {},
   "outputs": [
    {
     "data": {
      "text/html": [
       "<div>\n",
       "<style scoped>\n",
       "    .dataframe tbody tr th:only-of-type {\n",
       "        vertical-align: middle;\n",
       "    }\n",
       "\n",
       "    .dataframe tbody tr th {\n",
       "        vertical-align: top;\n",
       "    }\n",
       "\n",
       "    .dataframe thead th {\n",
       "        text-align: right;\n",
       "    }\n",
       "</style>\n",
       "<table border=\"1\" class=\"dataframe\">\n",
       "  <thead>\n",
       "    <tr style=\"text-align: right;\">\n",
       "      <th></th>\n",
       "      <th>job_id</th>\n",
       "      <th>count</th>\n",
       "    </tr>\n",
       "  </thead>\n",
       "  <tbody>\n",
       "    <tr>\n",
       "      <th>840</th>\n",
       "      <td>1375026</td>\n",
       "      <td>51</td>\n",
       "    </tr>\n",
       "    <tr>\n",
       "      <th>848</th>\n",
       "      <td>1374956</td>\n",
       "      <td>50</td>\n",
       "    </tr>\n",
       "    <tr>\n",
       "      <th>752</th>\n",
       "      <td>1373879</td>\n",
       "      <td>56</td>\n",
       "    </tr>\n",
       "    <tr>\n",
       "      <th>851</th>\n",
       "      <td>1374981</td>\n",
       "      <td>50</td>\n",
       "    </tr>\n",
       "    <tr>\n",
       "      <th>798</th>\n",
       "      <td>1374473</td>\n",
       "      <td>54</td>\n",
       "    </tr>\n",
       "    <tr>\n",
       "      <th>796</th>\n",
       "      <td>1376033</td>\n",
       "      <td>54</td>\n",
       "    </tr>\n",
       "    <tr>\n",
       "      <th>729</th>\n",
       "      <td>1375642</td>\n",
       "      <td>58</td>\n",
       "    </tr>\n",
       "    <tr>\n",
       "      <th>835</th>\n",
       "      <td>1373929</td>\n",
       "      <td>51</td>\n",
       "    </tr>\n",
       "    <tr>\n",
       "      <th>845</th>\n",
       "      <td>1373732</td>\n",
       "      <td>51</td>\n",
       "    </tr>\n",
       "    <tr>\n",
       "      <th>852</th>\n",
       "      <td>1373755</td>\n",
       "      <td>50</td>\n",
       "    </tr>\n",
       "  </tbody>\n",
       "</table>\n",
       "</div>"
      ],
      "text/plain": [
       "      job_id  count\n",
       "840  1375026     51\n",
       "848  1374956     50\n",
       "752  1373879     56\n",
       "851  1374981     50\n",
       "798  1374473     54\n",
       "796  1376033     54\n",
       "729  1375642     58\n",
       "835  1373929     51\n",
       "845  1373732     51\n",
       "852  1373755     50"
      ]
     },
     "execution_count": 22,
     "metadata": {},
     "output_type": "execute_result"
    }
   ],
   "source": [
    "jobs"
   ]
  },
  {
   "cell_type": "code",
   "execution_count": null,
   "id": "5a5c2e13-f463-4a43-820c-b69d719f933e",
   "metadata": {},
   "outputs": [],
   "source": []
  },
  {
   "cell_type": "code",
   "execution_count": null,
   "id": "29078558-d9b9-4707-9e54-0a89b3f89b7b",
   "metadata": {},
   "outputs": [],
   "source": []
  },
  {
   "cell_type": "code",
   "execution_count": null,
   "id": "077fa4e6-16e5-46b6-b83f-32d544bf29f7",
   "metadata": {},
   "outputs": [],
   "source": []
  },
  {
   "cell_type": "code",
   "execution_count": 26,
   "id": "bf89bba4-817c-4042-b2a9-91bd21e67bf1",
   "metadata": {},
   "outputs": [],
   "source": [
    "sample_set = dataset[dataset['job_id'].isin(jobs['job_id'])]\n",
    "job_details = sample_set[['job_id','user_id']]"
   ]
  },
  {
   "cell_type": "code",
   "execution_count": 52,
   "id": "5e6655b7-935d-47cd-a058-77243b7afc3f",
   "metadata": {},
   "outputs": [],
   "source": [
    "applicants = job_details['user_id'].unique().tolist()"
   ]
  },
  {
   "cell_type": "code",
   "execution_count": 53,
   "id": "56736fe6-c1d6-49e5-b213-eb6f19f65ea8",
   "metadata": {},
   "outputs": [],
   "source": [
    "from user_info import fetch_data_es"
   ]
  },
  {
   "cell_type": "code",
   "execution_count": 54,
   "id": "4c5ba947-d1db-44cb-9c65-a64fac5cc518",
   "metadata": {},
   "outputs": [
    {
     "name": "stderr",
     "output_type": "stream",
     "text": [
      "100%|███████████████████████████████████████████████████████████████████████████████████████████████████████████████████████████████████| 476/476 [00:03<00:00, 130.89it/s]\n"
     ]
    }
   ],
   "source": [
    "es_data = fetch_data_es(applicants)"
   ]
  },
  {
   "cell_type": "code",
   "execution_count": 55,
   "id": "61aa7a51-3e77-4be2-b1ec-5068a3e505e6",
   "metadata": {},
   "outputs": [
    {
     "data": {
      "text/plain": [
       "209995"
      ]
     },
     "execution_count": 55,
     "metadata": {},
     "output_type": "execute_result"
    }
   ],
   "source": [
    "r[0][0]['id']"
   ]
  },
  {
   "cell_type": "code",
   "execution_count": 56,
   "id": "0c5dfd54-97dc-4c66-81a4-41218dbd5dd0",
   "metadata": {},
   "outputs": [
    {
     "data": {
      "application/vnd.jupyter.widget-view+json": {
       "model_id": "bf84ab11611247b18921d7d92c98880d",
       "version_major": 2,
       "version_minor": 0
      },
      "text/plain": [
       "  0%|          | 0/476 [00:00<?, ?it/s]"
      ]
     },
     "metadata": {},
     "output_type": "display_data"
    }
   ],
   "source": [
    "resumes = {}\n",
    "\n",
    "for data in tqdm(es_data):\n",
    "    try:\n",
    "        userid = data[0]['id']\n",
    "        resumes[userid] = data[0]['resumeText']\n",
    "    except:\n",
    "        pass"
   ]
  },
  {
   "cell_type": "code",
   "execution_count": 57,
   "id": "44ec8cd5-a525-400d-87fc-87500f4f2f17",
   "metadata": {},
   "outputs": [
    {
     "data": {
      "text/plain": [
       "473"
      ]
     },
     "execution_count": 57,
     "metadata": {},
     "output_type": "execute_result"
    }
   ],
   "source": [
    "len(resumes.keys())"
   ]
  },
  {
   "cell_type": "code",
   "execution_count": 62,
   "id": "15f34de0-9e28-46f7-a956-ced4c3dbf15e",
   "metadata": {},
   "outputs": [
    {
     "data": {
      "text/plain": [
       "[2808728]"
      ]
     },
     "execution_count": 62,
     "metadata": {},
     "output_type": "execute_result"
    }
   ],
   "source": [
    "import random\n",
    "random.sample(list(resumes.keys()),1)"
   ]
  },
  {
   "cell_type": "code",
   "execution_count": null,
   "id": "eb537709-762a-4c63-aa09-9a999a552cce",
   "metadata": {},
   "outputs": [],
   "source": []
  },
  {
   "cell_type": "code",
   "execution_count": 65,
   "id": "b30c7990-8465-4960-9e7f-dc3a20034ae7",
   "metadata": {},
   "outputs": [],
   "source": [
    "import json\n",
    "with open('data/test_user_resume.json','w') as f:\n",
    "    json.dump(resumes,f)"
   ]
  },
  {
   "cell_type": "code",
   "execution_count": null,
   "id": "06bd0c7b-0eb7-4b7d-98f4-3b85fd02bec7",
   "metadata": {},
   "outputs": [],
   "source": []
  },
  {
   "cell_type": "code",
   "execution_count": 66,
   "id": "92410464-f2ec-44f8-bbe7-1d2cd4a959c6",
   "metadata": {},
   "outputs": [],
   "source": [
    "import json\n",
    "with open('data/test_user_resume.json','r') as f:\n",
    "    check = json.load(f)"
   ]
  },
  {
   "cell_type": "code",
   "execution_count": null,
   "id": "5a69c81f-742d-483d-acae-bd62d0759d61",
   "metadata": {},
   "outputs": [],
   "source": []
  },
  {
   "cell_type": "code",
   "execution_count": 68,
   "id": "eae2be4d-8226-4de1-a9f3-26b410ba636f",
   "metadata": {},
   "outputs": [
    {
     "data": {
      "text/plain": [
       "473"
      ]
     },
     "execution_count": 68,
     "metadata": {},
     "output_type": "execute_result"
    }
   ],
   "source": [
    "len(check.keys())"
   ]
  },
  {
   "cell_type": "code",
   "execution_count": null,
   "id": "fedb99b0-23a9-41b2-892c-93c362674d55",
   "metadata": {},
   "outputs": [],
   "source": []
  },
  {
   "cell_type": "code",
   "execution_count": null,
   "id": "5be8c6c8-38ff-4af4-9a6c-1262caa1c0b9",
   "metadata": {},
   "outputs": [],
   "source": []
  }
 ],
 "metadata": {
  "kernelspec": {
   "display_name": "Python 3 (ipykernel)",
   "language": "python",
   "name": "python3"
  },
  "language_info": {
   "codemirror_mode": {
    "name": "ipython",
    "version": 3
   },
   "file_extension": ".py",
   "mimetype": "text/x-python",
   "name": "python",
   "nbconvert_exporter": "python",
   "pygments_lexer": "ipython3",
   "version": "3.10.12"
  }
 },
 "nbformat": 4,
 "nbformat_minor": 5
}
