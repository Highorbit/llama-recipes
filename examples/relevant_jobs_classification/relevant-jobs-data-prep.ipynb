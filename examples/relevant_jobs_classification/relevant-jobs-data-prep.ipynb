{
 "cells": [
  {
   "cell_type": "code",
   "execution_count": 1,
   "id": "0d35fed1-7b29-445d-8567-03b816d4f394",
   "metadata": {},
   "outputs": [],
   "source": [
    "from transformers import AutoModelForCausalLM, AutoTokenizer\n",
    "device = \"cuda\" # the device to load the model onto\n",
    "import torch\n",
    "import time\n",
    "import pandas as pd, html\n",
    "from user_info import get_user_info\n",
    "import requests\n",
    "from tqdm.notebook import tqdm\n",
    "from user_info import get_user_data_search_embed\n",
    "from job_info import fetch_jobs"
   ]
  },
  {
   "cell_type": "code",
   "execution_count": null,
   "id": "a70c3a8a-3bf2-4404-a5bc-dcc32ae9e6be",
   "metadata": {},
   "outputs": [],
   "source": []
  },
  {
   "cell_type": "code",
   "execution_count": 2,
   "id": "7e643e57-1df5-4d69-a3fd-31b289c9dd3c",
   "metadata": {},
   "outputs": [],
   "source": [
    "# from vllm import SamplingParams, LLM\n",
    "\n",
    "# sampling_params = SamplingParams(temperature=0, max_tokens=144)\n",
    "# llm = LLM(model=\"mistralai/Mistral-7B-Instruct-v0.2\")"
   ]
  },
  {
   "cell_type": "code",
   "execution_count": null,
   "id": "98683fb8-0b85-4096-ad7a-8eaf60b7ab13",
   "metadata": {},
   "outputs": [],
   "source": []
  },
  {
   "cell_type": "code",
   "execution_count": null,
   "id": "6e1718ea-e208-415d-b470-4ef3ed1ed0c1",
   "metadata": {},
   "outputs": [],
   "source": []
  },
  {
   "cell_type": "code",
   "execution_count": 3,
   "id": "3fbf1415-60ef-442f-8326-fe00a18ad125",
   "metadata": {},
   "outputs": [],
   "source": [
    "# model = AutoModelForCausalLM.from_pretrained(\"mistralai/Mistral-7B-Instruct-v0.2\",\n",
    "#                                             load_in_8bit=True, \n",
    "#                                             torch_dtype=torch.float16,\n",
    "#                                             device_map='auto')\n",
    "\n",
    "# tokenizer = AutoTokenizer.from_pretrained(\"mistralai/Mistral-7B-Instruct-v0.2\")"
   ]
  },
  {
   "cell_type": "code",
   "execution_count": 4,
   "id": "9196bef9-77f1-4c97-8476-699ef0edb25e",
   "metadata": {},
   "outputs": [],
   "source": [
    "dataset = pd.read_csv('data/analysis_dataset.csv')"
   ]
  },
  {
   "cell_type": "code",
   "execution_count": null,
   "id": "89c3b2bd-cfc5-4bc2-ae71-89aec46de69e",
   "metadata": {},
   "outputs": [],
   "source": []
  },
  {
   "cell_type": "code",
   "execution_count": 5,
   "id": "07101db0-c71d-4bfe-a0fc-91bcd401c186",
   "metadata": {},
   "outputs": [
    {
     "data": {
      "text/html": [
       "<div>\n",
       "<style scoped>\n",
       "    .dataframe tbody tr th:only-of-type {\n",
       "        vertical-align: middle;\n",
       "    }\n",
       "\n",
       "    .dataframe tbody tr th {\n",
       "        vertical-align: top;\n",
       "    }\n",
       "\n",
       "    .dataframe thead th {\n",
       "        text-align: right;\n",
       "    }\n",
       "</style>\n",
       "<table border=\"1\" class=\"dataframe\">\n",
       "  <thead>\n",
       "    <tr style=\"text-align: right;\">\n",
       "      <th></th>\n",
       "      <th>job_id</th>\n",
       "      <th>application_id</th>\n",
       "      <th>user_id</th>\n",
       "    </tr>\n",
       "  </thead>\n",
       "  <tbody>\n",
       "    <tr>\n",
       "      <th>0</th>\n",
       "      <td>1373681</td>\n",
       "      <td>144274567</td>\n",
       "      <td>439042</td>\n",
       "    </tr>\n",
       "    <tr>\n",
       "      <th>1</th>\n",
       "      <td>1373681</td>\n",
       "      <td>144261479</td>\n",
       "      <td>2015063</td>\n",
       "    </tr>\n",
       "    <tr>\n",
       "      <th>2</th>\n",
       "      <td>1373681</td>\n",
       "      <td>144253966</td>\n",
       "      <td>2777927</td>\n",
       "    </tr>\n",
       "    <tr>\n",
       "      <th>3</th>\n",
       "      <td>1373681</td>\n",
       "      <td>144241259</td>\n",
       "      <td>58130</td>\n",
       "    </tr>\n",
       "    <tr>\n",
       "      <th>4</th>\n",
       "      <td>1373681</td>\n",
       "      <td>144236812</td>\n",
       "      <td>2290933</td>\n",
       "    </tr>\n",
       "    <tr>\n",
       "      <th>...</th>\n",
       "      <td>...</td>\n",
       "      <td>...</td>\n",
       "      <td>...</td>\n",
       "    </tr>\n",
       "    <tr>\n",
       "      <th>136248</th>\n",
       "      <td>1376058</td>\n",
       "      <td>144442227</td>\n",
       "      <td>2151474</td>\n",
       "    </tr>\n",
       "    <tr>\n",
       "      <th>136249</th>\n",
       "      <td>1375030</td>\n",
       "      <td>144442249</td>\n",
       "      <td>1463255</td>\n",
       "    </tr>\n",
       "    <tr>\n",
       "      <th>136250</th>\n",
       "      <td>1373682</td>\n",
       "      <td>144442251</td>\n",
       "      <td>2601930</td>\n",
       "    </tr>\n",
       "    <tr>\n",
       "      <th>136251</th>\n",
       "      <td>1376582</td>\n",
       "      <td>144442257</td>\n",
       "      <td>1417492</td>\n",
       "    </tr>\n",
       "    <tr>\n",
       "      <th>136252</th>\n",
       "      <td>1376693</td>\n",
       "      <td>144442256</td>\n",
       "      <td>1835665</td>\n",
       "    </tr>\n",
       "  </tbody>\n",
       "</table>\n",
       "<p>136253 rows × 3 columns</p>\n",
       "</div>"
      ],
      "text/plain": [
       "         job_id  application_id  user_id\n",
       "0       1373681       144274567   439042\n",
       "1       1373681       144261479  2015063\n",
       "2       1373681       144253966  2777927\n",
       "3       1373681       144241259    58130\n",
       "4       1373681       144236812  2290933\n",
       "...         ...             ...      ...\n",
       "136248  1376058       144442227  2151474\n",
       "136249  1375030       144442249  1463255\n",
       "136250  1373682       144442251  2601930\n",
       "136251  1376582       144442257  1417492\n",
       "136252  1376693       144442256  1835665\n",
       "\n",
       "[136253 rows x 3 columns]"
      ]
     },
     "execution_count": 5,
     "metadata": {},
     "output_type": "execute_result"
    }
   ],
   "source": [
    "dataset"
   ]
  },
  {
   "cell_type": "code",
   "execution_count": null,
   "id": "866905e9-1d3e-4293-890c-e73c78151f8d",
   "metadata": {},
   "outputs": [],
   "source": []
  },
  {
   "cell_type": "code",
   "execution_count": 6,
   "id": "7ab38f5f-d98c-44e9-a93f-b869fb4f0b52",
   "metadata": {},
   "outputs": [],
   "source": [
    "def fetch_job_title(job_id):\n",
    "    \n",
    "    '''\n",
    "    Returns Job Data[Hirst, Source : ElasticSearch] for the last_k days, and with flexible page size (<10,000)\n",
    "    \n",
    "    Input : Last-K Days, and Page result size\n",
    "    \n",
    "    Output : Pandas Dataframe with jobs from the last k days \n",
    "    '''\n",
    "    \n",
    "    # columns = ['id', 'title','companyStatus', 'min', 'max', 'premium', 'applyCount', 'locations','tags','brandJobFlag']     #Added column name for companyStatus\n",
    "    # new_cols = ['jobid', 'title','companyStatus', 'min', 'max', 'premium', 'applyCount', 'locations','tags', 'brandJobFlag']       #Added column name for companyStatus\n",
    "    \n",
    "    url = \"http://internal-java-job-searcher-email-backend-1607736061.ap-south-1.elb.amazonaws.com/v1/user/-777/job/jobcode?query=<JOBID>\"\n",
    "    url = url.replace('<JOBID>',job_id)\n",
    "    payload={}\n",
    "    headers = {}\n",
    "    \n",
    "    response = requests.request(\"GET\", url, headers=headers, data=payload)\n",
    "    \n",
    "    payload={}\n",
    "    headers = {}\n",
    "    \n",
    "    response = requests.request(\"GET\", url, headers=headers, data=payload)\n",
    "    job_data = response.json()\n",
    "\n",
    "    title = job_data[0]['title']\n",
    "    jd = job_data[0]['introText']\n",
    "    jd = html.unescape(jd)\n",
    "\n",
    "    return title + '\\n' + jd\n"
   ]
  },
  {
   "cell_type": "code",
   "execution_count": null,
   "id": "72a315bc-8622-4c5c-87d9-934bde6c1c52",
   "metadata": {},
   "outputs": [],
   "source": []
  },
  {
   "cell_type": "code",
   "execution_count": null,
   "id": "993cf7b8-8f88-4bf0-a281-7e86c9e5133b",
   "metadata": {},
   "outputs": [],
   "source": []
  },
  {
   "cell_type": "code",
   "execution_count": 7,
   "id": "32ac0893-bda1-4659-803e-ec813afce70a",
   "metadata": {},
   "outputs": [
    {
     "data": {
      "text/html": [
       "<div>\n",
       "<style scoped>\n",
       "    .dataframe tbody tr th:only-of-type {\n",
       "        vertical-align: middle;\n",
       "    }\n",
       "\n",
       "    .dataframe tbody tr th {\n",
       "        vertical-align: top;\n",
       "    }\n",
       "\n",
       "    .dataframe thead th {\n",
       "        text-align: right;\n",
       "    }\n",
       "</style>\n",
       "<table border=\"1\" class=\"dataframe\">\n",
       "  <thead>\n",
       "    <tr style=\"text-align: right;\">\n",
       "      <th></th>\n",
       "      <th>job_id</th>\n",
       "      <th>application_id</th>\n",
       "      <th>user_id</th>\n",
       "    </tr>\n",
       "  </thead>\n",
       "  <tbody>\n",
       "    <tr>\n",
       "      <th>0</th>\n",
       "      <td>1373681</td>\n",
       "      <td>144274567</td>\n",
       "      <td>439042</td>\n",
       "    </tr>\n",
       "    <tr>\n",
       "      <th>1</th>\n",
       "      <td>1373681</td>\n",
       "      <td>144261479</td>\n",
       "      <td>2015063</td>\n",
       "    </tr>\n",
       "    <tr>\n",
       "      <th>2</th>\n",
       "      <td>1373681</td>\n",
       "      <td>144253966</td>\n",
       "      <td>2777927</td>\n",
       "    </tr>\n",
       "    <tr>\n",
       "      <th>3</th>\n",
       "      <td>1373681</td>\n",
       "      <td>144241259</td>\n",
       "      <td>58130</td>\n",
       "    </tr>\n",
       "    <tr>\n",
       "      <th>4</th>\n",
       "      <td>1373681</td>\n",
       "      <td>144236812</td>\n",
       "      <td>2290933</td>\n",
       "    </tr>\n",
       "    <tr>\n",
       "      <th>...</th>\n",
       "      <td>...</td>\n",
       "      <td>...</td>\n",
       "      <td>...</td>\n",
       "    </tr>\n",
       "    <tr>\n",
       "      <th>136248</th>\n",
       "      <td>1376058</td>\n",
       "      <td>144442227</td>\n",
       "      <td>2151474</td>\n",
       "    </tr>\n",
       "    <tr>\n",
       "      <th>136249</th>\n",
       "      <td>1375030</td>\n",
       "      <td>144442249</td>\n",
       "      <td>1463255</td>\n",
       "    </tr>\n",
       "    <tr>\n",
       "      <th>136250</th>\n",
       "      <td>1373682</td>\n",
       "      <td>144442251</td>\n",
       "      <td>2601930</td>\n",
       "    </tr>\n",
       "    <tr>\n",
       "      <th>136251</th>\n",
       "      <td>1376582</td>\n",
       "      <td>144442257</td>\n",
       "      <td>1417492</td>\n",
       "    </tr>\n",
       "    <tr>\n",
       "      <th>136252</th>\n",
       "      <td>1376693</td>\n",
       "      <td>144442256</td>\n",
       "      <td>1835665</td>\n",
       "    </tr>\n",
       "  </tbody>\n",
       "</table>\n",
       "<p>136253 rows × 3 columns</p>\n",
       "</div>"
      ],
      "text/plain": [
       "         job_id  application_id  user_id\n",
       "0       1373681       144274567   439042\n",
       "1       1373681       144261479  2015063\n",
       "2       1373681       144253966  2777927\n",
       "3       1373681       144241259    58130\n",
       "4       1373681       144236812  2290933\n",
       "...         ...             ...      ...\n",
       "136248  1376058       144442227  2151474\n",
       "136249  1375030       144442249  1463255\n",
       "136250  1373682       144442251  2601930\n",
       "136251  1376582       144442257  1417492\n",
       "136252  1376693       144442256  1835665\n",
       "\n",
       "[136253 rows x 3 columns]"
      ]
     },
     "execution_count": 7,
     "metadata": {},
     "output_type": "execute_result"
    }
   ],
   "source": [
    "dataset"
   ]
  },
  {
   "cell_type": "code",
   "execution_count": 8,
   "id": "d4bc98bc-0247-466a-b89d-ec93d230cbcf",
   "metadata": {},
   "outputs": [
    {
     "data": {
      "text/plain": [
       "0         1373681\n",
       "25        1373682\n",
       "66        1373683\n",
       "71        1373684\n",
       "189       1373685\n",
       "           ...   \n",
       "133468    1376446\n",
       "133579    1376758\n",
       "134063    1375146\n",
       "136145    1376759\n",
       "136172    1376737\n",
       "Name: job_id, Length: 2949, dtype: int64"
      ]
     },
     "execution_count": 8,
     "metadata": {},
     "output_type": "execute_result"
    }
   ],
   "source": [
    "dataset['job_id'].drop_duplicates()"
   ]
  },
  {
   "cell_type": "code",
   "execution_count": 9,
   "id": "a7346e83-c6eb-4c6e-b84a-42a4fa95012e",
   "metadata": {},
   "outputs": [
    {
     "data": {
      "text/plain": [
       "0          439042\n",
       "1         2015063\n",
       "2         2777927\n",
       "3           58130\n",
       "4         2290933\n",
       "           ...   \n",
       "136201    2796578\n",
       "136202    2679806\n",
       "136235     986712\n",
       "136245    1713212\n",
       "136249    1463255\n",
       "Name: user_id, Length: 30363, dtype: int64"
      ]
     },
     "execution_count": 9,
     "metadata": {},
     "output_type": "execute_result"
    }
   ],
   "source": [
    "dataset['user_id'].drop_duplicates()"
   ]
  },
  {
   "cell_type": "code",
   "execution_count": 10,
   "id": "6bbfb7bb-d801-4865-b59a-b7d8d48123ae",
   "metadata": {},
   "outputs": [
    {
     "data": {
      "text/html": [
       "<div>\n",
       "<style scoped>\n",
       "    .dataframe tbody tr th:only-of-type {\n",
       "        vertical-align: middle;\n",
       "    }\n",
       "\n",
       "    .dataframe tbody tr th {\n",
       "        vertical-align: top;\n",
       "    }\n",
       "\n",
       "    .dataframe thead th {\n",
       "        text-align: right;\n",
       "    }\n",
       "</style>\n",
       "<table border=\"1\" class=\"dataframe\">\n",
       "  <thead>\n",
       "    <tr style=\"text-align: right;\">\n",
       "      <th></th>\n",
       "      <th>job_id</th>\n",
       "      <th>application_id</th>\n",
       "      <th>user_id</th>\n",
       "    </tr>\n",
       "  </thead>\n",
       "  <tbody>\n",
       "    <tr>\n",
       "      <th>82665</th>\n",
       "      <td>1375765</td>\n",
       "      <td>144345075</td>\n",
       "      <td>1299999</td>\n",
       "    </tr>\n",
       "    <tr>\n",
       "      <th>12238</th>\n",
       "      <td>1373862</td>\n",
       "      <td>144247897</td>\n",
       "      <td>1821067</td>\n",
       "    </tr>\n",
       "    <tr>\n",
       "      <th>125338</th>\n",
       "      <td>1374717</td>\n",
       "      <td>144422097</td>\n",
       "      <td>2742155</td>\n",
       "    </tr>\n",
       "    <tr>\n",
       "      <th>77059</th>\n",
       "      <td>1375508</td>\n",
       "      <td>144333416</td>\n",
       "      <td>1149207</td>\n",
       "    </tr>\n",
       "    <tr>\n",
       "      <th>101118</th>\n",
       "      <td>1376188</td>\n",
       "      <td>144378618</td>\n",
       "      <td>1220972</td>\n",
       "    </tr>\n",
       "  </tbody>\n",
       "</table>\n",
       "</div>"
      ],
      "text/plain": [
       "         job_id  application_id  user_id\n",
       "82665   1375765       144345075  1299999\n",
       "12238   1373862       144247897  1821067\n",
       "125338  1374717       144422097  2742155\n",
       "77059   1375508       144333416  1149207\n",
       "101118  1376188       144378618  1220972"
      ]
     },
     "execution_count": 10,
     "metadata": {},
     "output_type": "execute_result"
    }
   ],
   "source": [
    "dataset.sample(5)"
   ]
  },
  {
   "cell_type": "code",
   "execution_count": 11,
   "id": "9858146d-6845-4233-a90a-37800ffc8719",
   "metadata": {},
   "outputs": [
    {
     "name": "stderr",
     "output_type": "stream",
     "text": [
      "100%|██████████████████████████████████████████████████████████████████████████████████████████████████████████████████████████████████████████| 1/1 [00:00<00:00, 72.60it/s]\n",
      "100%|███████████████████████████████████████████████████████████████████████████████████████████████████████████████████████████████████████| 1/1 [00:00<00:00, 13751.82it/s]\n"
     ]
    }
   ],
   "source": [
    "es_output = get_user_info(1358359)\n",
    "rt = es_output['resume'][0]\n",
    "rt = html.unescape(rt)"
   ]
  },
  {
   "cell_type": "code",
   "execution_count": null,
   "id": "20041176-73fd-45a8-9927-afa525fc56f4",
   "metadata": {},
   "outputs": [],
   "source": []
  },
  {
   "cell_type": "code",
   "execution_count": 12,
   "id": "bc2a7d0a-6fdf-4708-a1a7-9084ac7530a2",
   "metadata": {},
   "outputs": [],
   "source": [
    "answer_format = {\n",
    "    \"work_experience\":\"description of most recent work experience\"\n",
    "}"
   ]
  },
  {
   "cell_type": "code",
   "execution_count": null,
   "id": "4f5d5555-d65d-42a9-bf6d-b5eed9b2e91b",
   "metadata": {},
   "outputs": [],
   "source": []
  },
  {
   "cell_type": "code",
   "execution_count": null,
   "id": "7205d3ae-dbe7-4019-8604-883530f41ece",
   "metadata": {},
   "outputs": [],
   "source": []
  },
  {
   "cell_type": "code",
   "execution_count": 19,
   "id": "d4fee0fc-2668-4a0e-84da-848f14f5ed25",
   "metadata": {},
   "outputs": [
    {
     "data": {
      "application/vnd.jupyter.widget-view+json": {
       "model_id": "7fe9931d02514df6af2d7386a9dc6e1a",
       "version_major": 2,
       "version_minor": 0
      },
      "text/plain": [
       "  0%|          | 0/2949 [00:00<?, ?it/s]"
      ]
     },
     "metadata": {},
     "output_type": "display_data"
    },
    {
     "name": "stderr",
     "output_type": "stream",
     "text": [
      "/tmp/ipykernel_23575/3556400985.py:6: FutureWarning: The behavior of DataFrame concatenation with empty or all-NA entries is deprecated. In a future version, this will no longer exclude empty or all-NA columns when determining the result dtypes. To retain the old behavior, exclude the relevant entries before the concat operation.\n",
      "  jdf = pd.concat(f)\n"
     ]
    }
   ],
   "source": [
    "f = []\n",
    "for jid in tqdm(dataset.job_id.unique()):\n",
    "    sdf = fetch_jobs(str(jid))\n",
    "    f.append(sdf)\n",
    "\n",
    "jdf = pd.concat(f)"
   ]
  },
  {
   "cell_type": "code",
   "execution_count": null,
   "id": "1ac0df8f-5bb8-468b-82bb-58861daf4cd2",
   "metadata": {},
   "outputs": [],
   "source": []
  },
  {
   "cell_type": "code",
   "execution_count": null,
   "id": "4db65b67-d77e-42bd-9608-8e261123e11c",
   "metadata": {},
   "outputs": [],
   "source": []
  },
  {
   "cell_type": "code",
   "execution_count": null,
   "id": "595263ab-00a7-4448-adc0-0ff89ba9f749",
   "metadata": {},
   "outputs": [],
   "source": []
  },
  {
   "cell_type": "code",
   "execution_count": null,
   "id": "01f97398-cc7e-450f-a61d-6c553f7007e7",
   "metadata": {},
   "outputs": [],
   "source": []
  },
  {
   "cell_type": "code",
   "execution_count": 20,
   "id": "0fbb2767-87e6-4d67-8ce4-19d0c4305c01",
   "metadata": {},
   "outputs": [
    {
     "data": {
      "text/html": [
       "<div>\n",
       "<style scoped>\n",
       "    .dataframe tbody tr th:only-of-type {\n",
       "        vertical-align: middle;\n",
       "    }\n",
       "\n",
       "    .dataframe tbody tr th {\n",
       "        vertical-align: top;\n",
       "    }\n",
       "\n",
       "    .dataframe thead th {\n",
       "        text-align: right;\n",
       "    }\n",
       "</style>\n",
       "<table border=\"1\" class=\"dataframe\">\n",
       "  <thead>\n",
       "    <tr style=\"text-align: right;\">\n",
       "      <th></th>\n",
       "      <th>id</th>\n",
       "      <th>title</th>\n",
       "      <th>introText</th>\n",
       "      <th>jobdesignation</th>\n",
       "      <th>min</th>\n",
       "      <th>max</th>\n",
       "      <th>createdBy</th>\n",
       "      <th>creatorDomainName</th>\n",
       "      <th>categoryId</th>\n",
       "      <th>jobDetailUrl</th>\n",
       "      <th>...</th>\n",
       "      <th>maxBatch</th>\n",
       "      <th>brandJobFlag</th>\n",
       "      <th>companyDomain</th>\n",
       "      <th>lableId</th>\n",
       "      <th>companyData</th>\n",
       "      <th>recruiter</th>\n",
       "      <th>jobStatusInfo</th>\n",
       "      <th>refreshStatus</th>\n",
       "      <th>showRecruiterProfile</th>\n",
       "      <th>location</th>\n",
       "    </tr>\n",
       "  </thead>\n",
       "  <tbody>\n",
       "    <tr>\n",
       "      <th>0</th>\n",
       "      <td>1374691</td>\n",
       "      <td>Deputy General Manager - CRM - Real Estate (10...</td>\n",
       "      <td>&lt;p&gt;KEY RESPONSIBILITIES:&lt;br/&gt;&lt;br/&gt;Preferably 1...</td>\n",
       "      <td>Deputy General Manager - CRM</td>\n",
       "      <td>10</td>\n",
       "      <td>15</td>\n",
       "      <td>227980</td>\n",
       "      <td>thrivibe.com</td>\n",
       "      <td>14</td>\n",
       "      <td>https://www.iimjobs.com/j/deputy-general-manag...</td>\n",
       "      <td>...</td>\n",
       "      <td>None</td>\n",
       "      <td>0</td>\n",
       "      <td>None</td>\n",
       "      <td>None</td>\n",
       "      <td>{'companyId': 0, 'companyName': 'Thrivibe - Th...</td>\n",
       "      <td>{'recruiterId': 227980, 'recruiterName': 'Ruch...</td>\n",
       "      <td>None</td>\n",
       "      <td>0</td>\n",
       "      <td>NaN</td>\n",
       "      <td>[{'id': 7, 'name': 'Pune'}]</td>\n",
       "    </tr>\n",
       "  </tbody>\n",
       "</table>\n",
       "<p>1 rows × 51 columns</p>\n",
       "</div>"
      ],
      "text/plain": [
       "        id                                              title  \\\n",
       "0  1374691  Deputy General Manager - CRM - Real Estate (10...   \n",
       "\n",
       "                                           introText  \\\n",
       "0  <p>KEY RESPONSIBILITIES:<br/><br/>Preferably 1...   \n",
       "\n",
       "                 jobdesignation  min  max  createdBy creatorDomainName  \\\n",
       "0  Deputy General Manager - CRM   10   15     227980      thrivibe.com   \n",
       "\n",
       "   categoryId                                       jobDetailUrl  ...  \\\n",
       "0          14  https://www.iimjobs.com/j/deputy-general-manag...  ...   \n",
       "\n",
       "   maxBatch  brandJobFlag  companyDomain  lableId  \\\n",
       "0      None             0           None     None   \n",
       "\n",
       "                                         companyData  \\\n",
       "0  {'companyId': 0, 'companyName': 'Thrivibe - Th...   \n",
       "\n",
       "                                           recruiter  jobStatusInfo  \\\n",
       "0  {'recruiterId': 227980, 'recruiterName': 'Ruch...           None   \n",
       "\n",
       "   refreshStatus  showRecruiterProfile                     location  \n",
       "0              0                   NaN  [{'id': 7, 'name': 'Pune'}]  \n",
       "\n",
       "[1 rows x 51 columns]"
      ]
     },
     "execution_count": 20,
     "metadata": {},
     "output_type": "execute_result"
    }
   ],
   "source": [
    "jdf.sample()"
   ]
  },
  {
   "cell_type": "code",
   "execution_count": null,
   "id": "c4cc2429-0ff7-4d20-84f3-4660ffee174a",
   "metadata": {},
   "outputs": [],
   "source": []
  },
  {
   "cell_type": "code",
   "execution_count": 16,
   "id": "e0512063-8f35-43c6-830d-3092bac98eb1",
   "metadata": {},
   "outputs": [
    {
     "data": {
      "text/html": [
       "<div>\n",
       "<style scoped>\n",
       "    .dataframe tbody tr th:only-of-type {\n",
       "        vertical-align: middle;\n",
       "    }\n",
       "\n",
       "    .dataframe tbody tr th {\n",
       "        vertical-align: top;\n",
       "    }\n",
       "\n",
       "    .dataframe thead th {\n",
       "        text-align: right;\n",
       "    }\n",
       "</style>\n",
       "<table border=\"1\" class=\"dataframe\">\n",
       "  <thead>\n",
       "    <tr style=\"text-align: right;\">\n",
       "      <th></th>\n",
       "      <th>id</th>\n",
       "      <th>title</th>\n",
       "      <th>introText</th>\n",
       "      <th>jobdesignation</th>\n",
       "      <th>min</th>\n",
       "      <th>max</th>\n",
       "      <th>createdBy</th>\n",
       "      <th>creatorDomainName</th>\n",
       "      <th>categoryId</th>\n",
       "      <th>jobDetailUrl</th>\n",
       "      <th>...</th>\n",
       "      <th>maxBatch</th>\n",
       "      <th>brandJobFlag</th>\n",
       "      <th>companyDomain</th>\n",
       "      <th>lableId</th>\n",
       "      <th>companyData</th>\n",
       "      <th>recruiter</th>\n",
       "      <th>jobStatusInfo</th>\n",
       "      <th>refreshStatus</th>\n",
       "      <th>showRecruiterProfile</th>\n",
       "      <th>location</th>\n",
       "    </tr>\n",
       "  </thead>\n",
       "  <tbody>\n",
       "    <tr>\n",
       "      <th>0</th>\n",
       "      <td>1376606</td>\n",
       "      <td>Manager/Senior Manager - Risk &amp; Compliance - K...</td>\n",
       "      <td>&lt;p&gt;JD :&lt;br/&gt;&lt;br/&gt;- Risk &amp; Compliance Managemen...</td>\n",
       "      <td>Manager/Senior Manager</td>\n",
       "      <td>6</td>\n",
       "      <td>10</td>\n",
       "      <td>157696</td>\n",
       "      <td>huquo.com</td>\n",
       "      <td>13</td>\n",
       "      <td>https://www.iimjobs.com/j/managersenior-manage...</td>\n",
       "      <td>...</td>\n",
       "      <td>None</td>\n",
       "      <td>0</td>\n",
       "      <td>None</td>\n",
       "      <td>None</td>\n",
       "      <td>{'companyId': 0, 'companyName': 'Huquo', 'comp...</td>\n",
       "      <td>{'recruiterId': 157696, 'recruiterName': 'Kish...</td>\n",
       "      <td>None</td>\n",
       "      <td>1</td>\n",
       "      <td>NaN</td>\n",
       "      <td>[{'id': 37, 'name': 'Gurgaon/Gurugram'}]</td>\n",
       "    </tr>\n",
       "  </tbody>\n",
       "</table>\n",
       "<p>1 rows × 51 columns</p>\n",
       "</div>"
      ],
      "text/plain": [
       "        id                                              title  \\\n",
       "0  1376606  Manager/Senior Manager - Risk & Compliance - K...   \n",
       "\n",
       "                                           introText          jobdesignation  \\\n",
       "0  <p>JD :<br/><br/>- Risk & Compliance Managemen...  Manager/Senior Manager   \n",
       "\n",
       "   min  max  createdBy creatorDomainName  categoryId  \\\n",
       "0    6   10     157696         huquo.com          13   \n",
       "\n",
       "                                        jobDetailUrl  ...  maxBatch  \\\n",
       "0  https://www.iimjobs.com/j/managersenior-manage...  ...      None   \n",
       "\n",
       "   brandJobFlag  companyDomain  lableId  \\\n",
       "0             0           None     None   \n",
       "\n",
       "                                         companyData  \\\n",
       "0  {'companyId': 0, 'companyName': 'Huquo', 'comp...   \n",
       "\n",
       "                                           recruiter  jobStatusInfo  \\\n",
       "0  {'recruiterId': 157696, 'recruiterName': 'Kish...           None   \n",
       "\n",
       "   refreshStatus  showRecruiterProfile  \\\n",
       "0              1                   NaN   \n",
       "\n",
       "                                   location  \n",
       "0  [{'id': 37, 'name': 'Gurgaon/Gurugram'}]  \n",
       "\n",
       "[1 rows x 51 columns]"
      ]
     },
     "execution_count": 16,
     "metadata": {},
     "output_type": "execute_result"
    }
   ],
   "source": [
    "jdf[jdf['applyCount']>=70].sample()"
   ]
  },
  {
   "cell_type": "code",
   "execution_count": 20,
   "id": "2236ab57-b8ac-47c0-8516-0bde35e77ac5",
   "metadata": {},
   "outputs": [],
   "source": [
    "#filter out jobs, select ones with atleast 50 applications\n",
    "count_df = dataset['job_id'].value_counts().reset_index()\n",
    "jobs = count_df.loc[(count_df['count']>=50) & (count_df['count']<60)].sample(10)"
   ]
  },
  {
   "cell_type": "code",
   "execution_count": 22,
   "id": "177887e8-0429-465d-bf0d-52938940dc35",
   "metadata": {},
   "outputs": [
    {
     "data": {
      "text/html": [
       "<div>\n",
       "<style scoped>\n",
       "    .dataframe tbody tr th:only-of-type {\n",
       "        vertical-align: middle;\n",
       "    }\n",
       "\n",
       "    .dataframe tbody tr th {\n",
       "        vertical-align: top;\n",
       "    }\n",
       "\n",
       "    .dataframe thead th {\n",
       "        text-align: right;\n",
       "    }\n",
       "</style>\n",
       "<table border=\"1\" class=\"dataframe\">\n",
       "  <thead>\n",
       "    <tr style=\"text-align: right;\">\n",
       "      <th></th>\n",
       "      <th>job_id</th>\n",
       "      <th>count</th>\n",
       "    </tr>\n",
       "  </thead>\n",
       "  <tbody>\n",
       "    <tr>\n",
       "      <th>840</th>\n",
       "      <td>1375026</td>\n",
       "      <td>51</td>\n",
       "    </tr>\n",
       "    <tr>\n",
       "      <th>848</th>\n",
       "      <td>1374956</td>\n",
       "      <td>50</td>\n",
       "    </tr>\n",
       "    <tr>\n",
       "      <th>752</th>\n",
       "      <td>1373879</td>\n",
       "      <td>56</td>\n",
       "    </tr>\n",
       "    <tr>\n",
       "      <th>851</th>\n",
       "      <td>1374981</td>\n",
       "      <td>50</td>\n",
       "    </tr>\n",
       "    <tr>\n",
       "      <th>798</th>\n",
       "      <td>1374473</td>\n",
       "      <td>54</td>\n",
       "    </tr>\n",
       "    <tr>\n",
       "      <th>796</th>\n",
       "      <td>1376033</td>\n",
       "      <td>54</td>\n",
       "    </tr>\n",
       "    <tr>\n",
       "      <th>729</th>\n",
       "      <td>1375642</td>\n",
       "      <td>58</td>\n",
       "    </tr>\n",
       "    <tr>\n",
       "      <th>835</th>\n",
       "      <td>1373929</td>\n",
       "      <td>51</td>\n",
       "    </tr>\n",
       "    <tr>\n",
       "      <th>845</th>\n",
       "      <td>1373732</td>\n",
       "      <td>51</td>\n",
       "    </tr>\n",
       "    <tr>\n",
       "      <th>852</th>\n",
       "      <td>1373755</td>\n",
       "      <td>50</td>\n",
       "    </tr>\n",
       "  </tbody>\n",
       "</table>\n",
       "</div>"
      ],
      "text/plain": [
       "      job_id  count\n",
       "840  1375026     51\n",
       "848  1374956     50\n",
       "752  1373879     56\n",
       "851  1374981     50\n",
       "798  1374473     54\n",
       "796  1376033     54\n",
       "729  1375642     58\n",
       "835  1373929     51\n",
       "845  1373732     51\n",
       "852  1373755     50"
      ]
     },
     "execution_count": 22,
     "metadata": {},
     "output_type": "execute_result"
    }
   ],
   "source": [
    "jobs"
   ]
  },
  {
   "cell_type": "code",
   "execution_count": null,
   "id": "5a5c2e13-f463-4a43-820c-b69d719f933e",
   "metadata": {},
   "outputs": [],
   "source": []
  },
  {
   "cell_type": "code",
   "execution_count": null,
   "id": "29078558-d9b9-4707-9e54-0a89b3f89b7b",
   "metadata": {},
   "outputs": [],
   "source": []
  },
  {
   "cell_type": "code",
   "execution_count": null,
   "id": "077fa4e6-16e5-46b6-b83f-32d544bf29f7",
   "metadata": {},
   "outputs": [],
   "source": []
  },
  {
   "cell_type": "code",
   "execution_count": 26,
   "id": "bf89bba4-817c-4042-b2a9-91bd21e67bf1",
   "metadata": {},
   "outputs": [],
   "source": [
    "sample_set = dataset[dataset['job_id'].isin(jobs['job_id'])]\n",
    "job_details = sample_set[['job_id','user_id']]"
   ]
  },
  {
   "cell_type": "code",
   "execution_count": 52,
   "id": "5e6655b7-935d-47cd-a058-77243b7afc3f",
   "metadata": {},
   "outputs": [],
   "source": [
    "applicants = job_details['user_id'].unique().tolist()"
   ]
  },
  {
   "cell_type": "code",
   "execution_count": 53,
   "id": "56736fe6-c1d6-49e5-b213-eb6f19f65ea8",
   "metadata": {},
   "outputs": [],
   "source": [
    "from user_info import fetch_data_es"
   ]
  },
  {
   "cell_type": "code",
   "execution_count": 54,
   "id": "4c5ba947-d1db-44cb-9c65-a64fac5cc518",
   "metadata": {},
   "outputs": [
    {
     "name": "stderr",
     "output_type": "stream",
     "text": [
      "100%|███████████████████████████████████████████████████████████████████████████████████████████████████████████████████████████████████| 476/476 [00:03<00:00, 130.89it/s]\n"
     ]
    }
   ],
   "source": [
    "es_data = fetch_data_es(applicants)"
   ]
  },
  {
   "cell_type": "code",
   "execution_count": 55,
   "id": "61aa7a51-3e77-4be2-b1ec-5068a3e505e6",
   "metadata": {},
   "outputs": [
    {
     "data": {
      "text/plain": [
       "209995"
      ]
     },
     "execution_count": 55,
     "metadata": {},
     "output_type": "execute_result"
    }
   ],
   "source": [
    "r[0][0]['id']"
   ]
  },
  {
   "cell_type": "code",
   "execution_count": 56,
   "id": "0c5dfd54-97dc-4c66-81a4-41218dbd5dd0",
   "metadata": {},
   "outputs": [
    {
     "data": {
      "application/vnd.jupyter.widget-view+json": {
       "model_id": "bf84ab11611247b18921d7d92c98880d",
       "version_major": 2,
       "version_minor": 0
      },
      "text/plain": [
       "  0%|          | 0/476 [00:00<?, ?it/s]"
      ]
     },
     "metadata": {},
     "output_type": "display_data"
    }
   ],
   "source": [
    "resumes = {}\n",
    "\n",
    "for data in tqdm(es_data):\n",
    "    try:\n",
    "        userid = data[0]['id']\n",
    "        resumes[userid] = data[0]['resumeText']\n",
    "    except:\n",
    "        pass"
   ]
  },
  {
   "cell_type": "code",
   "execution_count": 57,
   "id": "44ec8cd5-a525-400d-87fc-87500f4f2f17",
   "metadata": {},
   "outputs": [
    {
     "data": {
      "text/plain": [
       "473"
      ]
     },
     "execution_count": 57,
     "metadata": {},
     "output_type": "execute_result"
    }
   ],
   "source": [
    "len(resumes.keys())"
   ]
  },
  {
   "cell_type": "code",
   "execution_count": 62,
   "id": "15f34de0-9e28-46f7-a956-ced4c3dbf15e",
   "metadata": {},
   "outputs": [
    {
     "data": {
      "text/plain": [
       "[2808728]"
      ]
     },
     "execution_count": 62,
     "metadata": {},
     "output_type": "execute_result"
    }
   ],
   "source": [
    "import random\n",
    "random.sample(list(resumes.keys()),1)"
   ]
  },
  {
   "cell_type": "code",
   "execution_count": null,
   "id": "eb537709-762a-4c63-aa09-9a999a552cce",
   "metadata": {},
   "outputs": [],
   "source": []
  },
  {
   "cell_type": "code",
   "execution_count": 65,
   "id": "b30c7990-8465-4960-9e7f-dc3a20034ae7",
   "metadata": {},
   "outputs": [],
   "source": [
    "import json\n",
    "with open('data/test_user_resume.json','w') as f:\n",
    "    json.dump(resumes,f)"
   ]
  },
  {
   "cell_type": "code",
   "execution_count": null,
   "id": "06bd0c7b-0eb7-4b7d-98f4-3b85fd02bec7",
   "metadata": {},
   "outputs": [],
   "source": []
  },
  {
   "cell_type": "code",
   "execution_count": 66,
   "id": "92410464-f2ec-44f8-bbe7-1d2cd4a959c6",
   "metadata": {},
   "outputs": [],
   "source": [
    "import json\n",
    "with open('data/test_user_resume.json','r') as f:\n",
    "    check = json.load(f)"
   ]
  },
  {
   "cell_type": "code",
   "execution_count": null,
   "id": "5a69c81f-742d-483d-acae-bd62d0759d61",
   "metadata": {},
   "outputs": [],
   "source": []
  },
  {
   "cell_type": "code",
   "execution_count": 68,
   "id": "eae2be4d-8226-4de1-a9f3-26b410ba636f",
   "metadata": {},
   "outputs": [
    {
     "data": {
      "text/plain": [
       "473"
      ]
     },
     "execution_count": 68,
     "metadata": {},
     "output_type": "execute_result"
    }
   ],
   "source": [
    "len(check.keys())"
   ]
  },
  {
   "cell_type": "code",
   "execution_count": null,
   "id": "fedb99b0-23a9-41b2-892c-93c362674d55",
   "metadata": {},
   "outputs": [],
   "source": []
  },
  {
   "cell_type": "code",
   "execution_count": null,
   "id": "5be8c6c8-38ff-4af4-9a6c-1262caa1c0b9",
   "metadata": {},
   "outputs": [],
   "source": []
  }
 ],
 "metadata": {
  "kernelspec": {
   "display_name": "Python 3 (ipykernel)",
   "language": "python",
   "name": "python3"
  },
  "language_info": {
   "codemirror_mode": {
    "name": "ipython",
    "version": 3
   },
   "file_extension": ".py",
   "mimetype": "text/x-python",
   "name": "python",
   "nbconvert_exporter": "python",
   "pygments_lexer": "ipython3",
   "version": "3.10.12"
  }
 },
 "nbformat": 4,
 "nbformat_minor": 5
}
