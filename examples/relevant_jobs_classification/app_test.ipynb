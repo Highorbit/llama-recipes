{
 "cells": [
  {
   "cell_type": "code",
   "execution_count": null,
   "id": "15f2effc-ac0a-4be0-995e-0638d6212ab7",
   "metadata": {},
   "outputs": [],
   "source": []
  },
  {
   "cell_type": "code",
   "execution_count": 37,
   "id": "bb134ee1-533c-497b-a1b0-22b146809b8e",
   "metadata": {},
   "outputs": [],
   "source": [
    "import os\n",
    "import requests\n",
    "import pandas as pd\n",
    "import numpy as np\n",
    "from transformers import AutoModelForCausalLM, AutoTokenizer\n",
    "device = \"cuda\" # the device to load the model onto\n",
    "import torch\n",
    "import time\n",
    "import pandas as pd, html\n",
    "from user_info import get_user_info\n",
    "import requests\n",
    "from tqdm.notebook import tqdm\n",
    "from user_info import get_user_data_search_embed\n",
    "from job_info import fetch_jobs\n",
    "pd.get_option(\"display.max_colwidth\")\n",
    "\n",
    "from tqdm import tqdm"
   ]
  },
  {
   "cell_type": "code",
   "execution_count": 2,
   "id": "46fe599d-fe24-41a5-b678-087385142c59",
   "metadata": {},
   "outputs": [
    {
     "data": {
      "text/plain": [
       "True"
      ]
     },
     "execution_count": 2,
     "metadata": {},
     "output_type": "execute_result"
    }
   ],
   "source": [
    "import torch\n",
    "torch.cuda.is_available()"
   ]
  },
  {
   "cell_type": "code",
   "execution_count": 3,
   "id": "c0f49a93-7ef8-4c73-b6fd-7144306695d6",
   "metadata": {},
   "outputs": [
    {
     "name": "stdout",
     "output_type": "stream",
     "text": [
      "INFO 02-28 11:03:42 llm_engine.py:73] Initializing an LLM engine with config: model='mistralai/Mistral-7B-Instruct-v0.2', tokenizer='mistralai/Mistral-7B-Instruct-v0.2', tokenizer_mode=auto, revision=None, tokenizer_revision=None, trust_remote_code=False, dtype=torch.bfloat16, max_seq_len=32768, download_dir=None, load_format=auto, tensor_parallel_size=1, quantization=None, enforce_eager=False, seed=0)\n",
      "INFO 02-28 11:05:01 llm_engine.py:223] # GPU blocks: 922, # CPU blocks: 2048\n",
      "INFO 02-28 11:05:03 model_runner.py:394] Capturing the model for CUDA graphs. This may lead to unexpected consequences if the model is not static. To run the model in eager mode, set 'enforce_eager=True' or use '--enforce-eager' in the CLI.\n",
      "INFO 02-28 11:05:09 model_runner.py:437] Graph capturing finished in 6 secs.\n"
     ]
    }
   ],
   "source": [
    "from vllm import SamplingParams, LLM\n",
    "sampling_params = SamplingParams(temperature=0, max_tokens=100)\n",
    "llm = LLM(model=\"mistralai/Mistral-7B-Instruct-v0.2\")"
   ]
  },
  {
   "cell_type": "code",
   "execution_count": 4,
   "id": "89b6a3f9-99b9-4f61-81bb-dd4f64ea7f07",
   "metadata": {},
   "outputs": [],
   "source": [
    "dataset = pd.read_csv('/home/ubuntu/infoedge/llama-recipes/examples/relevant_jobs_classification/data/analysis_dataset.csv')\n",
    "import gradio as gr"
   ]
  },
  {
   "cell_type": "code",
   "execution_count": 5,
   "id": "81b84597-a349-4c0b-8f96-9074d70b7b48",
   "metadata": {},
   "outputs": [],
   "source": [
    "# import pandas as pd"
   ]
  },
  {
   "cell_type": "code",
   "execution_count": 6,
   "id": "329b3789-47cb-43d4-a45b-a69ca6dc31cc",
   "metadata": {},
   "outputs": [],
   "source": [
    "# dataset = pd.read_csv('/home/ubuntu/infoedge/llama-recipes/examples/relevant_jobs_classification/data/analysis_dataset.csv')\n"
   ]
  },
  {
   "cell_type": "code",
   "execution_count": 7,
   "id": "0035d05e-11ce-4585-b90e-1d71e5a62daa",
   "metadata": {},
   "outputs": [
    {
     "data": {
      "text/html": [
       "<div>\n",
       "<style scoped>\n",
       "    .dataframe tbody tr th:only-of-type {\n",
       "        vertical-align: middle;\n",
       "    }\n",
       "\n",
       "    .dataframe tbody tr th {\n",
       "        vertical-align: top;\n",
       "    }\n",
       "\n",
       "    .dataframe thead th {\n",
       "        text-align: right;\n",
       "    }\n",
       "</style>\n",
       "<table border=\"1\" class=\"dataframe\">\n",
       "  <thead>\n",
       "    <tr style=\"text-align: right;\">\n",
       "      <th></th>\n",
       "      <th>job_id</th>\n",
       "      <th>application_id</th>\n",
       "      <th>user_id</th>\n",
       "    </tr>\n",
       "  </thead>\n",
       "  <tbody>\n",
       "    <tr>\n",
       "      <th>42539</th>\n",
       "      <td>1374535</td>\n",
       "      <td>144255170</td>\n",
       "      <td>1358359</td>\n",
       "    </tr>\n",
       "    <tr>\n",
       "      <th>129832</th>\n",
       "      <td>1373772</td>\n",
       "      <td>144430631</td>\n",
       "      <td>906171</td>\n",
       "    </tr>\n",
       "    <tr>\n",
       "      <th>130765</th>\n",
       "      <td>1375557</td>\n",
       "      <td>144432351</td>\n",
       "      <td>1651587</td>\n",
       "    </tr>\n",
       "    <tr>\n",
       "      <th>27175</th>\n",
       "      <td>1374136</td>\n",
       "      <td>144183656</td>\n",
       "      <td>1805375</td>\n",
       "    </tr>\n",
       "    <tr>\n",
       "      <th>9390</th>\n",
       "      <td>1373834</td>\n",
       "      <td>144193642</td>\n",
       "      <td>1137063</td>\n",
       "    </tr>\n",
       "  </tbody>\n",
       "</table>\n",
       "</div>"
      ],
      "text/plain": [
       "         job_id  application_id  user_id\n",
       "42539   1374535       144255170  1358359\n",
       "129832  1373772       144430631   906171\n",
       "130765  1375557       144432351  1651587\n",
       "27175   1374136       144183656  1805375\n",
       "9390    1373834       144193642  1137063"
      ]
     },
     "execution_count": 7,
     "metadata": {},
     "output_type": "execute_result"
    }
   ],
   "source": [
    "dataset.sample(5)"
   ]
  },
  {
   "cell_type": "raw",
   "id": "2b5a7c5f-4adb-445c-b3b2-58e5e9bc2c41",
   "metadata": {},
   "source": []
  },
  {
   "cell_type": "code",
   "execution_count": 8,
   "id": "e91fc6c8-0504-420b-8849-915b5d228972",
   "metadata": {},
   "outputs": [
    {
     "data": {
      "text/html": [
       "<div>\n",
       "<style scoped>\n",
       "    .dataframe tbody tr th:only-of-type {\n",
       "        vertical-align: middle;\n",
       "    }\n",
       "\n",
       "    .dataframe tbody tr th {\n",
       "        vertical-align: top;\n",
       "    }\n",
       "\n",
       "    .dataframe thead th {\n",
       "        text-align: right;\n",
       "    }\n",
       "</style>\n",
       "<table border=\"1\" class=\"dataframe\">\n",
       "  <thead>\n",
       "    <tr style=\"text-align: right;\">\n",
       "      <th></th>\n",
       "      <th>job_id</th>\n",
       "      <th>application_id</th>\n",
       "      <th>user_id</th>\n",
       "    </tr>\n",
       "  </thead>\n",
       "  <tbody>\n",
       "    <tr>\n",
       "      <th>59814</th>\n",
       "      <td>1374926</td>\n",
       "      <td>144327300</td>\n",
       "      <td>1050531</td>\n",
       "    </tr>\n",
       "    <tr>\n",
       "      <th>59815</th>\n",
       "      <td>1374926</td>\n",
       "      <td>144324432</td>\n",
       "      <td>1933640</td>\n",
       "    </tr>\n",
       "    <tr>\n",
       "      <th>59816</th>\n",
       "      <td>1374926</td>\n",
       "      <td>144307403</td>\n",
       "      <td>2732972</td>\n",
       "    </tr>\n",
       "    <tr>\n",
       "      <th>59817</th>\n",
       "      <td>1374926</td>\n",
       "      <td>144293816</td>\n",
       "      <td>2799756</td>\n",
       "    </tr>\n",
       "    <tr>\n",
       "      <th>59818</th>\n",
       "      <td>1374926</td>\n",
       "      <td>144292683</td>\n",
       "      <td>2739316</td>\n",
       "    </tr>\n",
       "    <tr>\n",
       "      <th>59819</th>\n",
       "      <td>1374926</td>\n",
       "      <td>144292572</td>\n",
       "      <td>1009440</td>\n",
       "    </tr>\n",
       "    <tr>\n",
       "      <th>59820</th>\n",
       "      <td>1374926</td>\n",
       "      <td>144292482</td>\n",
       "      <td>2700661</td>\n",
       "    </tr>\n",
       "    <tr>\n",
       "      <th>59821</th>\n",
       "      <td>1374926</td>\n",
       "      <td>144290572</td>\n",
       "      <td>2161231</td>\n",
       "    </tr>\n",
       "    <tr>\n",
       "      <th>59822</th>\n",
       "      <td>1374926</td>\n",
       "      <td>144288460</td>\n",
       "      <td>1153685</td>\n",
       "    </tr>\n",
       "    <tr>\n",
       "      <th>59823</th>\n",
       "      <td>1374926</td>\n",
       "      <td>144285583</td>\n",
       "      <td>1701655</td>\n",
       "    </tr>\n",
       "    <tr>\n",
       "      <th>59824</th>\n",
       "      <td>1374926</td>\n",
       "      <td>144282957</td>\n",
       "      <td>2296348</td>\n",
       "    </tr>\n",
       "    <tr>\n",
       "      <th>59825</th>\n",
       "      <td>1374926</td>\n",
       "      <td>144281834</td>\n",
       "      <td>2796417</td>\n",
       "    </tr>\n",
       "    <tr>\n",
       "      <th>59826</th>\n",
       "      <td>1374926</td>\n",
       "      <td>144281804</td>\n",
       "      <td>2785050</td>\n",
       "    </tr>\n",
       "    <tr>\n",
       "      <th>59827</th>\n",
       "      <td>1374926</td>\n",
       "      <td>144275624</td>\n",
       "      <td>2786085</td>\n",
       "    </tr>\n",
       "    <tr>\n",
       "      <th>59828</th>\n",
       "      <td>1374926</td>\n",
       "      <td>144275487</td>\n",
       "      <td>986465</td>\n",
       "    </tr>\n",
       "    <tr>\n",
       "      <th>59829</th>\n",
       "      <td>1374926</td>\n",
       "      <td>144273817</td>\n",
       "      <td>553719</td>\n",
       "    </tr>\n",
       "    <tr>\n",
       "      <th>59830</th>\n",
       "      <td>1374926</td>\n",
       "      <td>144273028</td>\n",
       "      <td>2632924</td>\n",
       "    </tr>\n",
       "    <tr>\n",
       "      <th>59831</th>\n",
       "      <td>1374926</td>\n",
       "      <td>144272385</td>\n",
       "      <td>2038480</td>\n",
       "    </tr>\n",
       "    <tr>\n",
       "      <th>59832</th>\n",
       "      <td>1374926</td>\n",
       "      <td>144270574</td>\n",
       "      <td>2290347</td>\n",
       "    </tr>\n",
       "    <tr>\n",
       "      <th>59833</th>\n",
       "      <td>1374926</td>\n",
       "      <td>144268252</td>\n",
       "      <td>2465081</td>\n",
       "    </tr>\n",
       "    <tr>\n",
       "      <th>59834</th>\n",
       "      <td>1374926</td>\n",
       "      <td>144267749</td>\n",
       "      <td>2384284</td>\n",
       "    </tr>\n",
       "    <tr>\n",
       "      <th>59835</th>\n",
       "      <td>1374926</td>\n",
       "      <td>144266328</td>\n",
       "      <td>2808446</td>\n",
       "    </tr>\n",
       "    <tr>\n",
       "      <th>59836</th>\n",
       "      <td>1374926</td>\n",
       "      <td>144265020</td>\n",
       "      <td>2799623</td>\n",
       "    </tr>\n",
       "    <tr>\n",
       "      <th>76703</th>\n",
       "      <td>1374926</td>\n",
       "      <td>144332697</td>\n",
       "      <td>2121993</td>\n",
       "    </tr>\n",
       "    <tr>\n",
       "      <th>78449</th>\n",
       "      <td>1374926</td>\n",
       "      <td>144336038</td>\n",
       "      <td>2801044</td>\n",
       "    </tr>\n",
       "    <tr>\n",
       "      <th>87503</th>\n",
       "      <td>1374926</td>\n",
       "      <td>144353830</td>\n",
       "      <td>1971655</td>\n",
       "    </tr>\n",
       "    <tr>\n",
       "      <th>89790</th>\n",
       "      <td>1374926</td>\n",
       "      <td>144358173</td>\n",
       "      <td>2416713</td>\n",
       "    </tr>\n",
       "    <tr>\n",
       "      <th>90911</th>\n",
       "      <td>1374926</td>\n",
       "      <td>144360500</td>\n",
       "      <td>2778389</td>\n",
       "    </tr>\n",
       "    <tr>\n",
       "      <th>91144</th>\n",
       "      <td>1374926</td>\n",
       "      <td>144360896</td>\n",
       "      <td>2208427</td>\n",
       "    </tr>\n",
       "    <tr>\n",
       "      <th>93397</th>\n",
       "      <td>1374926</td>\n",
       "      <td>144365028</td>\n",
       "      <td>2790469</td>\n",
       "    </tr>\n",
       "    <tr>\n",
       "      <th>93907</th>\n",
       "      <td>1374926</td>\n",
       "      <td>144365860</td>\n",
       "      <td>2719861</td>\n",
       "    </tr>\n",
       "    <tr>\n",
       "      <th>94675</th>\n",
       "      <td>1374926</td>\n",
       "      <td>144367152</td>\n",
       "      <td>1694829</td>\n",
       "    </tr>\n",
       "    <tr>\n",
       "      <th>97262</th>\n",
       "      <td>1374926</td>\n",
       "      <td>144371715</td>\n",
       "      <td>2652194</td>\n",
       "    </tr>\n",
       "    <tr>\n",
       "      <th>97550</th>\n",
       "      <td>1374926</td>\n",
       "      <td>144372231</td>\n",
       "      <td>2803449</td>\n",
       "    </tr>\n",
       "    <tr>\n",
       "      <th>99127</th>\n",
       "      <td>1374926</td>\n",
       "      <td>144374876</td>\n",
       "      <td>2732242</td>\n",
       "    </tr>\n",
       "    <tr>\n",
       "      <th>100963</th>\n",
       "      <td>1374926</td>\n",
       "      <td>144378309</td>\n",
       "      <td>2186829</td>\n",
       "    </tr>\n",
       "    <tr>\n",
       "      <th>101481</th>\n",
       "      <td>1374926</td>\n",
       "      <td>144379277</td>\n",
       "      <td>2781260</td>\n",
       "    </tr>\n",
       "    <tr>\n",
       "      <th>102133</th>\n",
       "      <td>1374926</td>\n",
       "      <td>144380414</td>\n",
       "      <td>1380606</td>\n",
       "    </tr>\n",
       "    <tr>\n",
       "      <th>102626</th>\n",
       "      <td>1374926</td>\n",
       "      <td>144381454</td>\n",
       "      <td>2731080</td>\n",
       "    </tr>\n",
       "    <tr>\n",
       "      <th>106467</th>\n",
       "      <td>1374926</td>\n",
       "      <td>144388865</td>\n",
       "      <td>2520637</td>\n",
       "    </tr>\n",
       "    <tr>\n",
       "      <th>108163</th>\n",
       "      <td>1374926</td>\n",
       "      <td>144391388</td>\n",
       "      <td>1284906</td>\n",
       "    </tr>\n",
       "    <tr>\n",
       "      <th>116073</th>\n",
       "      <td>1374926</td>\n",
       "      <td>144404994</td>\n",
       "      <td>2794069</td>\n",
       "    </tr>\n",
       "    <tr>\n",
       "      <th>127341</th>\n",
       "      <td>1374926</td>\n",
       "      <td>144425945</td>\n",
       "      <td>2368911</td>\n",
       "    </tr>\n",
       "    <tr>\n",
       "      <th>130477</th>\n",
       "      <td>1374926</td>\n",
       "      <td>144431806</td>\n",
       "      <td>2805249</td>\n",
       "    </tr>\n",
       "    <tr>\n",
       "      <th>131712</th>\n",
       "      <td>1374926</td>\n",
       "      <td>144434054</td>\n",
       "      <td>2562198</td>\n",
       "    </tr>\n",
       "    <tr>\n",
       "      <th>133700</th>\n",
       "      <td>1374926</td>\n",
       "      <td>144437573</td>\n",
       "      <td>2806294</td>\n",
       "    </tr>\n",
       "    <tr>\n",
       "      <th>134152</th>\n",
       "      <td>1374926</td>\n",
       "      <td>144438417</td>\n",
       "      <td>2469105</td>\n",
       "    </tr>\n",
       "    <tr>\n",
       "      <th>135400</th>\n",
       "      <td>1374926</td>\n",
       "      <td>144440634</td>\n",
       "      <td>2371321</td>\n",
       "    </tr>\n",
       "    <tr>\n",
       "      <th>135668</th>\n",
       "      <td>1374926</td>\n",
       "      <td>144441216</td>\n",
       "      <td>2756851</td>\n",
       "    </tr>\n",
       "  </tbody>\n",
       "</table>\n",
       "</div>"
      ],
      "text/plain": [
       "         job_id  application_id  user_id\n",
       "59814   1374926       144327300  1050531\n",
       "59815   1374926       144324432  1933640\n",
       "59816   1374926       144307403  2732972\n",
       "59817   1374926       144293816  2799756\n",
       "59818   1374926       144292683  2739316\n",
       "59819   1374926       144292572  1009440\n",
       "59820   1374926       144292482  2700661\n",
       "59821   1374926       144290572  2161231\n",
       "59822   1374926       144288460  1153685\n",
       "59823   1374926       144285583  1701655\n",
       "59824   1374926       144282957  2296348\n",
       "59825   1374926       144281834  2796417\n",
       "59826   1374926       144281804  2785050\n",
       "59827   1374926       144275624  2786085\n",
       "59828   1374926       144275487   986465\n",
       "59829   1374926       144273817   553719\n",
       "59830   1374926       144273028  2632924\n",
       "59831   1374926       144272385  2038480\n",
       "59832   1374926       144270574  2290347\n",
       "59833   1374926       144268252  2465081\n",
       "59834   1374926       144267749  2384284\n",
       "59835   1374926       144266328  2808446\n",
       "59836   1374926       144265020  2799623\n",
       "76703   1374926       144332697  2121993\n",
       "78449   1374926       144336038  2801044\n",
       "87503   1374926       144353830  1971655\n",
       "89790   1374926       144358173  2416713\n",
       "90911   1374926       144360500  2778389\n",
       "91144   1374926       144360896  2208427\n",
       "93397   1374926       144365028  2790469\n",
       "93907   1374926       144365860  2719861\n",
       "94675   1374926       144367152  1694829\n",
       "97262   1374926       144371715  2652194\n",
       "97550   1374926       144372231  2803449\n",
       "99127   1374926       144374876  2732242\n",
       "100963  1374926       144378309  2186829\n",
       "101481  1374926       144379277  2781260\n",
       "102133  1374926       144380414  1380606\n",
       "102626  1374926       144381454  2731080\n",
       "106467  1374926       144388865  2520637\n",
       "108163  1374926       144391388  1284906\n",
       "116073  1374926       144404994  2794069\n",
       "127341  1374926       144425945  2368911\n",
       "130477  1374926       144431806  2805249\n",
       "131712  1374926       144434054  2562198\n",
       "133700  1374926       144437573  2806294\n",
       "134152  1374926       144438417  2469105\n",
       "135400  1374926       144440634  2371321\n",
       "135668  1374926       144441216  2756851"
      ]
     },
     "execution_count": 8,
     "metadata": {},
     "output_type": "execute_result"
    }
   ],
   "source": [
    "dataset.loc[dataset['job_id']==1374926]"
   ]
  },
  {
   "cell_type": "code",
   "execution_count": 86,
   "id": "127b2dab-4425-4ea7-8632-85cce6a6a81d",
   "metadata": {},
   "outputs": [],
   "source": [
    "def fetch_job_title(job_id):\n",
    "    \n",
    "    '''\n",
    "    Returns Job Data[Hirst, Source : ElasticSearch] for the last_k days, and with flexible page size (<10,000)\n",
    "    \n",
    "    Input : Last-K Days, and Page result size\n",
    "    \n",
    "    Output : Pandas Dataframe with jobs from the last k days \n",
    "    '''\n",
    "    \n",
    "    # columns = ['id', 'title','companyStatus', 'min', 'max', 'premium', 'applyCount', 'locations','tags','brandJobFlag']     #Added column name for companyStatus\n",
    "    # new_cols = ['jobid', 'title','companyStatus', 'min', 'max', 'premium', 'applyCount', 'locations','tags', 'brandJobFlag']       #Added column name for companyStatus\n",
    "    \n",
    "    url = \"http://internal-java-job-searcher-email-backend-1607736061.ap-south-1.elb.amazonaws.com/v1/user/-777/job/jobcode?query=<JOBID>\"\n",
    "    url = url.replace('<JOBID>',job_id)\n",
    "    payload={}\n",
    "    headers = {}\n",
    "    \n",
    "    response = requests.request(\"GET\", url, headers=headers, data=payload)\n",
    "    payload={}\n",
    "    headers = {}\n",
    "    \n",
    "    response = requests.request(\"GET\", url, headers=headers, data=payload)\n",
    "    job_data = response.json()\n",
    "\n",
    "    title = job_data[0]['title']\n",
    "    jd = job_data[0]['introText']\n",
    "    # jd = html.unescape(jd)\n",
    "\n",
    "    return title + '\\n' + jd"
   ]
  },
  {
   "cell_type": "code",
   "execution_count": 87,
   "id": "35ba55a2-eea7-4a49-beb0-8a6f82f5f6a9",
   "metadata": {},
   "outputs": [],
   "source": [
    "# t = fetch_job_title(str(1373922))"
   ]
  },
  {
   "cell_type": "code",
   "execution_count": 88,
   "id": "6bde3952-3da7-4aae-b916-bca3b5f062c1",
   "metadata": {},
   "outputs": [],
   "source": [
    "# t"
   ]
  },
  {
   "cell_type": "code",
   "execution_count": 89,
   "id": "a047ab8e-e3aa-4002-b5c1-ce8e4668787c",
   "metadata": {},
   "outputs": [],
   "source": [
    "def get_answer_from_vllm(resume_text, job_title, llm):\n",
    "\n",
    "    #define the input prompt here\n",
    "    input_prompt = f'''<s>[INST]You are an accurate AI agent working for a job platform. You will be given the raw \n",
    "                            unstructured text of a user's resume, and the description of a job that they have applied to. Your task \n",
    "                            is to check if the resume contains prior work experience relevant to the job title being provided.\n",
    "                            Respond with a JUST A SINGLE WORD answer \"yes\" or \"no\". If there's any ambiguity, answer with \"no\"\n",
    "                            This is the job description {{job_title}}\\n\n",
    "                            This is the resume text:\\n{{resume_text}}\\n\n",
    "                            The answer is: [\\INST]\n",
    "                            '''\n",
    "\n",
    "    input_prompt = input_prompt.format(resume_text=resume_text,\n",
    "                   job_title=job_title)\n",
    "    \n",
    "    outputs = llm.generate(input_prompt, sampling_params)\n",
    "    generated_text = outputs[0].outputs[0].text\n",
    "\n",
    "    return generated_text"
   ]
  },
  {
   "cell_type": "code",
   "execution_count": 90,
   "id": "2666dc10-7b68-49dc-b31e-629e6cd32e35",
   "metadata": {},
   "outputs": [],
   "source": [
    "def make_clickable(link):\n",
    "    return f'<a href=\"{link}\" target=\"_blank\">{link}</a>'"
   ]
  },
  {
   "cell_type": "code",
   "execution_count": 91,
   "id": "1b8884bd-1690-46e5-a38d-a6b2d7b6d59f",
   "metadata": {},
   "outputs": [],
   "source": [
    "import pandas as pd\n",
    "\n",
    "def split_yes_no_extra_info(text):\n",
    "    text_lower = text.lower()\n",
    "    if 'yes' in text_lower:\n",
    "        return 'yes', text.replace('yes', '').strip()\n",
    "    elif 'no' in text_lower:\n",
    "        return 'no', text.replace('no', '').strip()\n",
    "    else:\n",
    "        return None, text.strip()"
   ]
  },
  {
   "cell_type": "code",
   "execution_count": 126,
   "id": "891e5583-ed77-4021-b898-9969f422e91e",
   "metadata": {},
   "outputs": [],
   "source": [
    "def run_predictions_for_job(job_id):\n",
    "    job_id=int(job_id)\n",
    "    print(job_id)\n",
    "    responses = {}\n",
    "    ds = dataset.loc[dataset['job_id']==job_id]\n",
    "    ds = ds.head(2)\n",
    "    ex = ds[['job_id','user_id']].to_numpy().tolist()\n",
    "    # print('ye bhi',ex)\n",
    "    for jobid, userid in tqdm(ex):\n",
    "        print(jobid)\n",
    "\n",
    "        user_id_list = dataset.loc[dataset['job_id']==jobid]['user_id'].tolist()\n",
    "        try:\n",
    "            jt = fetch_job_title(str(jobid))\n",
    "            # print(jt)\n",
    "        except Exception as e:\n",
    "            print(f'Error while getting job data for job id {jobid} is {e}\\n')\n",
    "            continue\n",
    "\n",
    "        if jobid in responses:\n",
    "            pass\n",
    "        else:\n",
    "            responses[jobid] = {}\n",
    "\n",
    "        try:\n",
    "            es_output = get_user_info(userid)\n",
    "            rt = es_output['resume'][0]\n",
    "            # rt = html.unescape(rt)\n",
    "        except Exception as e:\n",
    "            print(f'Error while getting resume text for user_id {userid} is {e}\\n')\n",
    "            continue\n",
    "        \n",
    "        full_doc = get_answer_from_vllm(rt,jt, llm)\n",
    "        print('ye kra',full_doc)\n",
    "        responses[jobid][userid] = full_doc\n",
    "\n",
    "    # return responses\n",
    "\n",
    "    print(responses)\n",
    "\n",
    "        # df = get_user_data_search_embed(ds['user_id'].tolist())\n",
    "    print(type(job_id))\n",
    "    new_df = pd.DataFrame(responses[int(job_id)],index=[0]).T.reset_index()\n",
    "    new_df.columns=['id','info']\n",
    "    df = get_user_data_search_embed(new_df['id'].tolist())\n",
    "        \n",
    "    final_usr=pd.DataFrame()\n",
    "\n",
    "    for x in df['id']:\n",
    "        hy = \"https://search.iimjobs.com/profile/userid\"\n",
    "        mini = df.loc[df['id'] == x].copy()\n",
    "        mini['user_profile'] = [hy.replace(\"userid\", str(x))]\n",
    "        final_usr = pd.concat([final_usr, mini], ignore_index=True)\n",
    "\n",
    "    final_usr.reset_index(drop=True, inplace=True)\n",
    "    final_usr['user_profile'] = final_usr['user_profile'].apply(lambda x: make_clickable(x))\n",
    "\n",
    "    final_usr = final_usr[['id','current_designation','user_experience','user_profile']]\n",
    "    final_usr['id']=final_usr['id'].astype(int)\n",
    "\n",
    "    fd = pd.merge(final_usr,new_df,on='id')\n",
    "\n",
    "\n",
    "    fd['real_values'], fd['reason'] = zip(*fd['info'].apply(split_yes_no_extra_info))\n",
    "\n",
    "    fd['reason'] = fd['reason'].replace('\\n', ' ', regex=True)\n",
    "    fd['reason'] = fd['reason'].replace('\\n', ' ', regex=True).str.strip()\n",
    "\n",
    "    # Remove extra spaces\n",
    "    fd['reason'] = fd['reason'].replace('\\s+', ' ', regex=True)\n",
    "\n",
    "    fd = fd[['id','current_designation','user_experience','real_values','user_profile','reason']]\n",
    "    # fd['user_profile'] = fd['user_profile'].apply(lambda x: make_clickable(x))\n",
    "\n",
    "\n",
    "    return fd\n"
   ]
  },
  {
   "cell_type": "code",
   "execution_count": 127,
   "id": "bfce59b8-fe72-4f88-979c-a94bfc7bf15d",
   "metadata": {},
   "outputs": [],
   "source": [
    "# df = run_predictions_for_job(1374535)"
   ]
  },
  {
   "cell_type": "code",
   "execution_count": 128,
   "id": "f5acc083-d721-4605-8618-8ec5d24f6326",
   "metadata": {},
   "outputs": [
    {
     "name": "stdout",
     "output_type": "stream",
     "text": [
      "1373922\n"
     ]
    },
    {
     "name": "stderr",
     "output_type": "stream",
     "text": [
      "  0%|                                                                                                                                                  | 0/2 [00:00<?, ?it/s]"
     ]
    },
    {
     "name": "stdout",
     "output_type": "stream",
     "text": [
      "1373922\n"
     ]
    },
    {
     "name": "stderr",
     "output_type": "stream",
     "text": [
      "\n",
      "100%|█████████████████████████████████████████████████████████████████████████████████████████████████████████████████████████████████████████| 1/1 [00:00<00:00, 114.58it/s]\u001b[A\n",
      "\n",
      "100%|███████████████████████████████████████████████████████████████████████████████████████████████████████████████████████████████████████| 1/1 [00:00<00:00, 16448.25it/s]\u001b[A\n",
      "\n",
      "Processed prompts:   0%|                                                                                                                               | 0/1 [00:00<?, ?it/s]\u001b[A\n",
      "Processed prompts: 100%|███████████████████████████████████████████████████████████████████████████████████████████████████████████████████████| 1/1 [00:04<00:00,  4.03s/it]\u001b[A\n",
      " 50%|█████████████████████████████████████████████████████████████████████                                                                     | 1/2 [00:04<00:04,  4.07s/it]"
     ]
    },
    {
     "name": "stdout",
     "output_type": "stream",
     "text": [
      "ye kra  yes.\n",
      "                            The user's resume shows prior work experience in investment banking, corporate finance, and private equity, which aligns with the job description for a Finance Manager position at EPIC Investment Partners. The user has experience in origination of investment opportunities, financial modeling, valuation analyses, and client engagement, which are all relevant to the job description. Additionally, the user has strong professional qualifications and academic credentials, as required by the job description.\n",
      "1373922\n"
     ]
    },
    {
     "name": "stderr",
     "output_type": "stream",
     "text": [
      "\n",
      "100%|█████████████████████████████████████████████████████████████████████████████████████████████████████████████████████████████████████████| 1/1 [00:00<00:00, 110.21it/s]\u001b[A\n",
      "\n",
      "100%|███████████████████████████████████████████████████████████████████████████████████████████████████████████████████████████████████████| 1/1 [00:00<00:00, 16008.79it/s]\u001b[A\n",
      "\n",
      "Processed prompts:   0%|                                                                                                                               | 0/1 [00:00<?, ?it/s]\u001b[A\n",
      "Processed prompts: 100%|███████████████████████████████████████████████████████████████████████████████████████████████████████████████████████| 1/1 [00:04<00:00,  4.12s/it]\u001b[A\n",
      "100%|██████████████████████████████████████████████████████████████████████████████████████████████████████████████████████████████████████████| 2/2 [00:08<00:00,  4.12s/it]\n"
     ]
    },
    {
     "name": "stdout",
     "output_type": "stream",
     "text": [
      "ye kra  yes.\n",
      "                            The candidate has significant experience in private equity, corporate finance, and investment management, with a strong background in financial analysis, valuation, portfolio management, deal structuring and negotiation, and treasury management. They have worked in various roles, including Vice President and Chief Financial Officer, and have experience leading teams and mentoring analysts. The candidate also holds a Master's degree in Finance and Strategy from Babson College. These experiences and qualifications align well\n",
      "{1373922: {900486: \" yes.\\n                            The user's resume shows prior work experience in investment banking, corporate finance, and private equity, which aligns with the job description for a Finance Manager position at EPIC Investment Partners. The user has experience in origination of investment opportunities, financial modeling, valuation analyses, and client engagement, which are all relevant to the job description. Additionally, the user has strong professional qualifications and academic credentials, as required by the job description.\", 27740: \" yes.\\n                            The candidate has significant experience in private equity, corporate finance, and investment management, with a strong background in financial analysis, valuation, portfolio management, deal structuring and negotiation, and treasury management. They have worked in various roles, including Vice President and Chief Financial Officer, and have experience leading teams and mentoring analysts. The candidate also holds a Master's degree in Finance and Strategy from Babson College. These experiences and qualifications align well\"}}\n",
      "<class 'int'>\n"
     ]
    },
    {
     "name": "stderr",
     "output_type": "stream",
     "text": [
      "100%|█████████████████████████████████████████████████████████████████████████████████████████████████████████████████████████████████████████| 2/2 [00:00<00:00, 133.09it/s]\n",
      "100%|███████████████████████████████████████████████████████████████████████████████████████████████████████████████████████████████████████| 2/2 [00:00<00:00, 29641.72it/s]\n"
     ]
    }
   ],
   "source": [
    "sample_df = run_predictions_for_job(1373922)"
   ]
  },
  {
   "cell_type": "code",
   "execution_count": 129,
   "id": "fac81c90-d3e3-4292-8c54-8dfaac2551b3",
   "metadata": {},
   "outputs": [
    {
     "data": {
      "text/html": [
       "<div>\n",
       "<style scoped>\n",
       "    .dataframe tbody tr th:only-of-type {\n",
       "        vertical-align: middle;\n",
       "    }\n",
       "\n",
       "    .dataframe tbody tr th {\n",
       "        vertical-align: top;\n",
       "    }\n",
       "\n",
       "    .dataframe thead th {\n",
       "        text-align: right;\n",
       "    }\n",
       "</style>\n",
       "<table border=\"1\" class=\"dataframe\">\n",
       "  <thead>\n",
       "    <tr style=\"text-align: right;\">\n",
       "      <th></th>\n",
       "      <th>id</th>\n",
       "      <th>current_designation</th>\n",
       "      <th>user_experience</th>\n",
       "      <th>real_values</th>\n",
       "      <th>user_profile</th>\n",
       "      <th>reason</th>\n",
       "    </tr>\n",
       "  </thead>\n",
       "  <tbody>\n",
       "    <tr>\n",
       "      <th>0</th>\n",
       "      <td>900486</td>\n",
       "      <td>Secured Lending Underwriter</td>\n",
       "      <td>8</td>\n",
       "      <td>yes</td>\n",
       "      <td>&lt;a href=\"https://search.iimjobs.com/profile/90...</td>\n",
       "      <td>. The user's resume shows prior work experienc...</td>\n",
       "    </tr>\n",
       "    <tr>\n",
       "      <th>1</th>\n",
       "      <td>27740</td>\n",
       "      <td>Chief Financial Officer</td>\n",
       "      <td>14</td>\n",
       "      <td>yes</td>\n",
       "      <td>&lt;a href=\"https://search.iimjobs.com/profile/27...</td>\n",
       "      <td>. The candidate has significant experience in ...</td>\n",
       "    </tr>\n",
       "  </tbody>\n",
       "</table>\n",
       "</div>"
      ],
      "text/plain": [
       "       id          current_designation user_experience real_values  \\\n",
       "0  900486  Secured Lending Underwriter               8         yes   \n",
       "1   27740      Chief Financial Officer              14         yes   \n",
       "\n",
       "                                        user_profile  \\\n",
       "0  <a href=\"https://search.iimjobs.com/profile/90...   \n",
       "1  <a href=\"https://search.iimjobs.com/profile/27...   \n",
       "\n",
       "                                              reason  \n",
       "0  . The user's resume shows prior work experienc...  \n",
       "1  . The candidate has significant experience in ...  "
      ]
     },
     "execution_count": 129,
     "metadata": {},
     "output_type": "execute_result"
    }
   ],
   "source": [
    "sample_df"
   ]
  },
  {
   "cell_type": "code",
   "execution_count": 130,
   "id": "57bdc030-b261-40ac-b16e-2cd4794ff11e",
   "metadata": {},
   "outputs": [
    {
     "data": {
      "text/plain": [
       "'<a href=\"https://search.iimjobs.com/profile/900486\" target=\"_blank\">https://search.iimjobs.com/profile/900486</a>'"
      ]
     },
     "execution_count": 130,
     "metadata": {},
     "output_type": "execute_result"
    }
   ],
   "source": [
    "sample_df['user_profile'].values[0]"
   ]
  },
  {
   "cell_type": "code",
   "execution_count": null,
   "id": "0d6d357b-13df-4a22-9ad5-dedcb5b88e51",
   "metadata": {},
   "outputs": [],
   "source": []
  },
  {
   "cell_type": "code",
   "execution_count": null,
   "id": "711f7d62-125e-49f8-a77d-d065fa9ade2f",
   "metadata": {},
   "outputs": [],
   "source": []
  },
  {
   "cell_type": "code",
   "execution_count": 101,
   "id": "9c416b36-c96c-4582-84e2-d5fadf9c40f8",
   "metadata": {},
   "outputs": [],
   "source": [
    "# df"
   ]
  },
  {
   "cell_type": "code",
   "execution_count": 102,
   "id": "6a8072b6-2086-432f-b3fe-69cbd5b64257",
   "metadata": {},
   "outputs": [],
   "source": [
    "\n",
    "\n",
    "# Assuming your DataFrame is named df and the column is named \"info\"\n",
    "# Replace 'your_column_name' with the actual column name in your DataFrame\n",
    "\n",
    "# Create new columns for 'yes_no' and 'extra_info'\n",
    "# df['yes_no'], df['extra_info'] = zip(*df['info'].apply(split_yes_no_extra_info))\n",
    "\n",
    "# # Display the resulting DataFrame\n",
    "# print(df[['yes_no', 'extra_info']])\n"
   ]
  },
  {
   "cell_type": "code",
   "execution_count": 103,
   "id": "5b108c43-40a5-4587-876e-45dcac51c691",
   "metadata": {},
   "outputs": [],
   "source": [
    "# df['extra_info'] = df['extra_info'].replace('\\n', ' ', regex=True)\n",
    "# df['extra_info'] = df['extra_info'].replace('\\n', ' ', regex=True).str.strip()\n",
    "\n",
    "# # Remove extra spaces\n",
    "# df['extra_info'] = df['extra_info'].replace('\\s+', ' ', regex=True)\n"
   ]
  },
  {
   "cell_type": "code",
   "execution_count": 104,
   "id": "f13517ca-abdb-4865-8e74-b7caf0fb7164",
   "metadata": {},
   "outputs": [],
   "source": [
    "# df"
   ]
  },
  {
   "cell_type": "code",
   "execution_count": 105,
   "id": "62da9b73-efb9-49fc-968d-12c9e56bf9b6",
   "metadata": {},
   "outputs": [],
   "source": [
    "# df"
   ]
  },
  {
   "cell_type": "code",
   "execution_count": 106,
   "id": "e276d0f0-f6ea-4a58-8557-5ef5f62d9d88",
   "metadata": {},
   "outputs": [],
   "source": [
    "# d.drop(['yes_no','extra_info'],axis=1,inplace=True)"
   ]
  },
  {
   "cell_type": "code",
   "execution_count": null,
   "id": "194e26c2-9810-40d7-9300-208fadce0816",
   "metadata": {},
   "outputs": [],
   "source": []
  },
  {
   "cell_type": "code",
   "execution_count": null,
   "id": "9e1ee305-33df-4e82-8670-3adb5a33e58c",
   "metadata": {},
   "outputs": [],
   "source": []
  },
  {
   "cell_type": "code",
   "execution_count": null,
   "id": "fdded68b-2ef7-4acb-8f69-c204bbc5eb12",
   "metadata": {},
   "outputs": [],
   "source": []
  },
  {
   "cell_type": "code",
   "execution_count": null,
   "id": "e729219c-2978-4d3a-8895-5ea14fb9759d",
   "metadata": {},
   "outputs": [],
   "source": []
  },
  {
   "cell_type": "code",
   "execution_count": null,
   "id": "06a7179b-5de2-4256-b16c-a058071999d2",
   "metadata": {},
   "outputs": [],
   "source": []
  },
  {
   "cell_type": "code",
   "execution_count": 95,
   "id": "93384504-c2f6-488a-b2ba-d815e16a01bf",
   "metadata": {},
   "outputs": [],
   "source": [
    "# # import gradio as gr\n",
    "\n",
    "\n",
    "# # # iface = gr.Interface(\n",
    "# # #     fn=run_predictions_for_job,\n",
    "# # #     inputs=[gr.Textbox(label=\"JOB ID\")],\n",
    "# # #     outputs=[gr.HTML(label=\"RESULTS\")]\n",
    "# # # )\n",
    "\n",
    "# iface = gr.Interface(\n",
    "#     fn=run_predictions_for_job,\n",
    "#     inputs=[gr.Textbox(label=\"JOB ID\")],\n",
    "#     outputs=[gr.HTML(label=\"RESULTS\")]\n",
    "# )\n",
    "\n",
    "\n",
    "# iface.launch('0.0.0.0', share=True)\n",
    "\n",
    "# # # if __name__ == \"__main__\":\n",
    "# # #     demo.launch(share=True)"
   ]
  },
  {
   "cell_type": "code",
   "execution_count": null,
   "id": "6e9d5395-5ad2-4826-a5bf-b21f1f1d84ea",
   "metadata": {},
   "outputs": [],
   "source": []
  },
  {
   "cell_type": "code",
   "execution_count": 136,
   "id": "a2452fcc-0017-41a7-9a72-b0896c1291f0",
   "metadata": {},
   "outputs": [
    {
     "name": "stdout",
     "output_type": "stream",
     "text": [
      "Running on local URL:  http://127.0.0.1:7888\n",
      "Running on public URL: https://2cb408ccf2205f9fdc.gradio.live\n",
      "\n",
      "This share link expires in 72 hours. For free permanent hosting and GPU upgrades, run `gradio deploy` from Terminal to deploy to Spaces (https://huggingface.co/spaces)\n"
     ]
    },
    {
     "data": {
      "text/html": [
       "<div><iframe src=\"https://2cb408ccf2205f9fdc.gradio.live\" width=\"100%\" height=\"500\" allow=\"autoplay; camera; microphone; clipboard-read; clipboard-write;\" frameborder=\"0\" allowfullscreen></iframe></div>"
      ],
      "text/plain": [
       "<IPython.core.display.HTML object>"
      ]
     },
     "metadata": {},
     "output_type": "display_data"
    },
    {
     "data": {
      "text/plain": []
     },
     "execution_count": 136,
     "metadata": {},
     "output_type": "execute_result"
    },
    {
     "name": "stdout",
     "output_type": "stream",
     "text": [
      "1373922\n"
     ]
    },
    {
     "name": "stderr",
     "output_type": "stream",
     "text": [
      "  0%|                                                                                                                                                  | 0/2 [00:00<?, ?it/s]"
     ]
    },
    {
     "name": "stdout",
     "output_type": "stream",
     "text": [
      "1373922\n"
     ]
    },
    {
     "name": "stderr",
     "output_type": "stream",
     "text": [
      "\n",
      "100%|█████████████████████████████████████████████████████████████████████████████████████████████████████████████████████████████████████████| 1/1 [00:00<00:00, 126.40it/s]\u001b[A\n",
      "\n",
      "100%|███████████████████████████████████████████████████████████████████████████████████████████████████████████████████████████████████████| 1/1 [00:00<00:00, 18477.11it/s]\u001b[A\n",
      "\n",
      "Processed prompts:   0%|                                                                                                                               | 0/1 [00:00<?, ?it/s]\u001b[A\n",
      "Processed prompts: 100%|███████████████████████████████████████████████████████████████████████████████████████████████████████████████████████| 1/1 [00:04<00:00,  4.03s/it]\u001b[A\n",
      " 50%|█████████████████████████████████████████████████████████████████████                                                                     | 1/2 [00:04<00:04,  4.07s/it]"
     ]
    },
    {
     "name": "stdout",
     "output_type": "stream",
     "text": [
      "ye kra  yes.\n",
      "                            The user's resume shows prior work experience in investment banking, corporate finance, and private equity, which aligns with the job description for a Finance Manager position at EPIC Investment Partners. The user has experience in origination of investment opportunities, financial modeling, valuation analyses, and client engagement, which are all relevant to the job description. Additionally, the user has strong professional qualifications and academic credentials, as required by the job description.\n",
      "1373922\n"
     ]
    },
    {
     "name": "stderr",
     "output_type": "stream",
     "text": [
      "\n",
      "100%|█████████████████████████████████████████████████████████████████████████████████████████████████████████████████████████████████████████| 1/1 [00:00<00:00, 119.43it/s]\u001b[A\n",
      "\n",
      "100%|███████████████████████████████████████████████████████████████████████████████████████████████████████████████████████████████████████| 1/1 [00:00<00:00, 18396.07it/s]\u001b[A\n",
      "\n",
      "Processed prompts:   0%|                                                                                                                               | 0/1 [00:00<?, ?it/s]\u001b[A\n",
      "Processed prompts: 100%|███████████████████████████████████████████████████████████████████████████████████████████████████████████████████████| 1/1 [00:04<00:00,  4.12s/it]\u001b[A\n",
      "100%|██████████████████████████████████████████████████████████████████████████████████████████████████████████████████████████████████████████| 2/2 [00:08<00:00,  4.12s/it]\n"
     ]
    },
    {
     "name": "stdout",
     "output_type": "stream",
     "text": [
      "ye kra  yes.\n",
      "                            The candidate has significant experience in private equity, corporate finance, and investment management, with a strong background in financial analysis, valuation, portfolio management, deal structuring and negotiation, and treasury management. They have worked in various roles, including Vice President and Chief Financial Officer, and have experience leading teams and mentoring analysts. The candidate also holds a Master's degree in Finance and Strategy from Babson College. These experiences and qualifications align well\n",
      "{1373922: {900486: \" yes.\\n                            The user's resume shows prior work experience in investment banking, corporate finance, and private equity, which aligns with the job description for a Finance Manager position at EPIC Investment Partners. The user has experience in origination of investment opportunities, financial modeling, valuation analyses, and client engagement, which are all relevant to the job description. Additionally, the user has strong professional qualifications and academic credentials, as required by the job description.\", 27740: \" yes.\\n                            The candidate has significant experience in private equity, corporate finance, and investment management, with a strong background in financial analysis, valuation, portfolio management, deal structuring and negotiation, and treasury management. They have worked in various roles, including Vice President and Chief Financial Officer, and have experience leading teams and mentoring analysts. The candidate also holds a Master's degree in Finance and Strategy from Babson College. These experiences and qualifications align well\"}}\n",
      "<class 'int'>\n"
     ]
    },
    {
     "name": "stderr",
     "output_type": "stream",
     "text": [
      "100%|█████████████████████████████████████████████████████████████████████████████████████████████████████████████████████████████████████████| 2/2 [00:00<00:00, 110.01it/s]\n",
      "100%|███████████████████████████████████████████████████████████████████████████████████████████████████████████████████████████████████████| 2/2 [00:00<00:00, 23831.27it/s]\n"
     ]
    },
    {
     "name": "stdout",
     "output_type": "stream",
     "text": [
      "1375557\n"
     ]
    },
    {
     "name": "stderr",
     "output_type": "stream",
     "text": [
      "  0%|                                                                                                                                                  | 0/2 [00:00<?, ?it/s]"
     ]
    },
    {
     "name": "stdout",
     "output_type": "stream",
     "text": [
      "1375557\n"
     ]
    },
    {
     "name": "stderr",
     "output_type": "stream",
     "text": [
      "\n",
      "100%|█████████████████████████████████████████████████████████████████████████████████████████████████████████████████████████████████████████| 1/1 [00:00<00:00, 125.77it/s]\u001b[A\n",
      "\n",
      "100%|███████████████████████████████████████████████████████████████████████████████████████████████████████████████████████████████████████| 1/1 [00:00<00:00, 13842.59it/s]\u001b[A\n",
      "\n",
      "Processed prompts:   0%|                                                                                                                               | 0/1 [00:00<?, ?it/s]\u001b[A\n",
      "Processed prompts: 100%|███████████████████████████████████████████████████████████████████████████████████████████████████████████████████████| 1/1 [00:03<00:00,  3.82s/it]\u001b[A\n",
      " 50%|█████████████████████████████████████████████████████████████████████                                                                     | 1/2 [00:03<00:03,  3.86s/it]"
     ]
    },
    {
     "name": "stdout",
     "output_type": "stream",
     "text": [
      "ye kra  yes\n",
      "                            </p>\n",
      "\n",
      "Answer explanation:\n",
      "\n",
      "The user's resume shows extensive experience in data analysis, machine learning development, and data visualization, which aligns with the job description for a Data Scientist role on a B2B platform. The user has worked in various industries including e-commerce, banking, and retail, and has experience with tools such as Tableau and Power BI, which are mentioned in the job description. Therefore, the answer is\n",
      "1375557\n"
     ]
    },
    {
     "name": "stderr",
     "output_type": "stream",
     "text": [
      "\n",
      "100%|█████████████████████████████████████████████████████████████████████████████████████████████████████████████████████████████████████████| 1/1 [00:00<00:00, 118.73it/s]\u001b[A\n",
      "\n",
      "100%|███████████████████████████████████████████████████████████████████████████████████████████████████████████████████████████████████████| 1/1 [00:00<00:00, 19239.93it/s]\u001b[A\n",
      "\n",
      "Processed prompts:   0%|                                                                                                                               | 0/1 [00:00<?, ?it/s]\u001b[A\n",
      "Processed prompts: 100%|███████████████████████████████████████████████████████████████████████████████████████████████████████████████████████| 1/1 [00:03<00:00,  3.50s/it]\u001b[A\n",
      "100%|██████████████████████████████████████████████████████████████████████████████████████████████████████████████████████████████████████████| 2/2 [00:07<00:00,  3.70s/it]\n"
     ]
    },
    {
     "name": "stdout",
     "output_type": "stream",
     "text": [
      "ye kra  yes.\n",
      "                            Vikas Goel's resume shows prior work experience relevant to the job title \"Data Scientist - B2B Platform (4-10 yrs)\". He has experience leading data science teams, building end-to-end data-driven projects, and implementing machine learning models in various industries including Insurance and Banking. He also has a strong technical background in machine learning, deep learning, NLP, and computer vision.\n",
      "{1375557: {619700: \" yes\\n                            </p>\\n\\nAnswer explanation:\\n\\nThe user's resume shows extensive experience in data analysis, machine learning development, and data visualization, which aligns with the job description for a Data Scientist role on a B2B platform. The user has worked in various industries including e-commerce, banking, and retail, and has experience with tools such as Tableau and Power BI, which are mentioned in the job description. Therefore, the answer is\", 1400420: ' yes.\\n                            Vikas Goel\\'s resume shows prior work experience relevant to the job title \"Data Scientist - B2B Platform (4-10 yrs)\". He has experience leading data science teams, building end-to-end data-driven projects, and implementing machine learning models in various industries including Insurance and Banking. He also has a strong technical background in machine learning, deep learning, NLP, and computer vision.'}}\n",
      "<class 'int'>\n"
     ]
    },
    {
     "name": "stderr",
     "output_type": "stream",
     "text": [
      "100%|█████████████████████████████████████████████████████████████████████████████████████████████████████████████████████████████████████████| 2/2 [00:00<00:00, 108.75it/s]\n",
      "100%|███████████████████████████████████████████████████████████████████████████████████████████████████████████████████████████████████████| 2/2 [00:00<00:00, 28055.55it/s]\n"
     ]
    }
   ],
   "source": [
    "import gradio as gr\n",
    " \n",
    " \n",
    "with gr.Blocks() as demo:\n",
    "\n",
    "    gr.Markdown(\n",
    "\n",
    "   )\n",
    "\n",
    "    inp = gr.Number(label=\"JOB ID\")\n",
    "\n",
    "    out = gr.DataFrame(label='output',wrap=True,\n",
    "            datatype=[\"number\", \"markdown\",\"markdown\",\"markdown\", \"html\",\"markdown\"],\n",
    "            interactive=True,)\n",
    "\n",
    "    # inp.change(run_predictions_for_job, inp, out)\n",
    "    btn = gr.Button(\"Run\")\n",
    "    btn.click(fn=run_predictions_for_job, inputs=inp, outputs=out)\n",
    " \n",
    "\n",
    "demo.launch('0.0.0.0', share=True)\n",
    "\n",
    "\n"
   ]
  },
  {
   "cell_type": "code",
   "execution_count": null,
   "id": "50eecae9-e2db-45c4-9c60-e2e6748b1c08",
   "metadata": {},
   "outputs": [],
   "source": []
  },
  {
   "cell_type": "code",
   "execution_count": null,
   "id": "f22d239a-e6c8-4d7c-b670-7fe6ec82a201",
   "metadata": {},
   "outputs": [],
   "source": []
  },
  {
   "cell_type": "code",
   "execution_count": null,
   "id": "8b4ace05-87f4-4310-b73b-6592ca284d93",
   "metadata": {},
   "outputs": [],
   "source": []
  },
  {
   "cell_type": "code",
   "execution_count": null,
   "id": "b319ea0f-f793-4cd7-8e5a-e66fb31c8065",
   "metadata": {},
   "outputs": [],
   "source": []
  },
  {
   "cell_type": "code",
   "execution_count": 14,
   "id": "efdb3ffe-ad92-427e-98ac-bc1d6211458a",
   "metadata": {},
   "outputs": [],
   "source": [
    "import configparser\n",
    "import pymysql\n",
    "import pandas as pd"
   ]
  },
  {
   "cell_type": "code",
   "execution_count": 15,
   "id": "4327e573-2e1f-47b1-b5f6-6a844137e379",
   "metadata": {},
   "outputs": [
    {
     "data": {
      "text/plain": [
       "['/home/ubuntu/infoedge/llama-recipes/examples/configs/config.ini']"
      ]
     },
     "execution_count": 15,
     "metadata": {},
     "output_type": "execute_result"
    }
   ],
   "source": [
    "config=configparser.ConfigParser()\n",
    "config.read('/home/ubuntu/infoedge/llama-recipes/examples/configs/config.ini')"
   ]
  },
  {
   "cell_type": "code",
   "execution_count": 16,
   "id": "9ec0571d-c271-4e0d-b280-5c8273741dfc",
   "metadata": {},
   "outputs": [],
   "source": [
    "mydb= pymysql.connect(\n",
    "host=config['iimjobs_db']['hostname'],\n",
    "user=config['iimjobs_db']['username'],\n",
    "password=config['iimjobs_db']['password'],\n",
    "db=config['iimjobs_db']['db_name'])\n",
    "\n",
    "mycursor = mydb.cursor()"
   ]
  },
  {
   "cell_type": "code",
   "execution_count": null,
   "id": "dc173eef-f6f4-4098-977c-d9cf7f990eb4",
   "metadata": {},
   "outputs": [],
   "source": []
  },
  {
   "cell_type": "code",
   "execution_count": 17,
   "id": "c081b63f-b399-436c-ba37-bacff1a5a269",
   "metadata": {},
   "outputs": [],
   "source": [
    "\n",
    "query = \"select jobid,userid from usr_applied_jobs_info where jobid=1373922\"\n",
    "\n",
    "mycursor.execute(query)\n",
    "result = mycursor.fetchall()"
   ]
  },
  {
   "cell_type": "code",
   "execution_count": 18,
   "id": "7515917d-ca9f-47d7-892c-6e81eee8fa80",
   "metadata": {},
   "outputs": [],
   "source": [
    "def job_application(jobid):\n",
    "    \n",
    "    query = \"select jobid,userid from usr_applied_jobs_info where jobid=JOBID\"\n",
    "    query = query.replace('JOBID',str(jobid))\n",
    "    print(query)\n",
    "    mycursor.execute(query)\n",
    "    result = mycursor.fetchall()\n",
    "    return pd.DataFrame(result,columns=['job_id','user_id'])"
   ]
  },
  {
   "cell_type": "code",
   "execution_count": 19,
   "id": "6cf42440-f792-442d-84e5-db953afbd089",
   "metadata": {},
   "outputs": [
    {
     "name": "stdout",
     "output_type": "stream",
     "text": [
      "select jobid,userid from usr_applied_jobs_info where jobid=1373922\n"
     ]
    }
   ],
   "source": [
    "result=job_application(1373922)"
   ]
  },
  {
   "cell_type": "code",
   "execution_count": 20,
   "id": "82461f4a-e7eb-41e6-94f1-78c2eb5540a2",
   "metadata": {},
   "outputs": [
    {
     "data": {
      "text/html": [
       "<div>\n",
       "<style scoped>\n",
       "    .dataframe tbody tr th:only-of-type {\n",
       "        vertical-align: middle;\n",
       "    }\n",
       "\n",
       "    .dataframe tbody tr th {\n",
       "        vertical-align: top;\n",
       "    }\n",
       "\n",
       "    .dataframe thead th {\n",
       "        text-align: right;\n",
       "    }\n",
       "</style>\n",
       "<table border=\"1\" class=\"dataframe\">\n",
       "  <thead>\n",
       "    <tr style=\"text-align: right;\">\n",
       "      <th></th>\n",
       "      <th>job_id</th>\n",
       "      <th>user_id</th>\n",
       "    </tr>\n",
       "  </thead>\n",
       "  <tbody>\n",
       "    <tr>\n",
       "      <th>0</th>\n",
       "      <td>1373922</td>\n",
       "      <td>237375</td>\n",
       "    </tr>\n",
       "    <tr>\n",
       "      <th>1</th>\n",
       "      <td>1373922</td>\n",
       "      <td>911674</td>\n",
       "    </tr>\n",
       "    <tr>\n",
       "      <th>2</th>\n",
       "      <td>1373922</td>\n",
       "      <td>397888</td>\n",
       "    </tr>\n",
       "    <tr>\n",
       "      <th>3</th>\n",
       "      <td>1373922</td>\n",
       "      <td>179817</td>\n",
       "    </tr>\n",
       "    <tr>\n",
       "      <th>4</th>\n",
       "      <td>1373922</td>\n",
       "      <td>2479334</td>\n",
       "    </tr>\n",
       "    <tr>\n",
       "      <th>...</th>\n",
       "      <td>...</td>\n",
       "      <td>...</td>\n",
       "    </tr>\n",
       "    <tr>\n",
       "      <th>69</th>\n",
       "      <td>1373922</td>\n",
       "      <td>1033614</td>\n",
       "    </tr>\n",
       "    <tr>\n",
       "      <th>70</th>\n",
       "      <td>1373922</td>\n",
       "      <td>153958</td>\n",
       "    </tr>\n",
       "    <tr>\n",
       "      <th>71</th>\n",
       "      <td>1373922</td>\n",
       "      <td>2804994</td>\n",
       "    </tr>\n",
       "    <tr>\n",
       "      <th>72</th>\n",
       "      <td>1373922</td>\n",
       "      <td>2023317</td>\n",
       "    </tr>\n",
       "    <tr>\n",
       "      <th>73</th>\n",
       "      <td>1373922</td>\n",
       "      <td>2018098</td>\n",
       "    </tr>\n",
       "  </tbody>\n",
       "</table>\n",
       "<p>74 rows × 2 columns</p>\n",
       "</div>"
      ],
      "text/plain": [
       "     job_id  user_id\n",
       "0   1373922   237375\n",
       "1   1373922   911674\n",
       "2   1373922   397888\n",
       "3   1373922   179817\n",
       "4   1373922  2479334\n",
       "..      ...      ...\n",
       "69  1373922  1033614\n",
       "70  1373922   153958\n",
       "71  1373922  2804994\n",
       "72  1373922  2023317\n",
       "73  1373922  2018098\n",
       "\n",
       "[74 rows x 2 columns]"
      ]
     },
     "execution_count": 20,
     "metadata": {},
     "output_type": "execute_result"
    }
   ],
   "source": [
    "result"
   ]
  },
  {
   "cell_type": "code",
   "execution_count": 132,
   "id": "05a21e2d-d200-40ae-97eb-82d389866a1d",
   "metadata": {
    "scrolled": true
   },
   "outputs": [
    {
     "name": "stdout",
     "output_type": "stream",
     "text": [
      "Running on local URL:  http://127.0.0.1:7884\n",
      "Running on public URL: https://00a78fa38abbc65e0c.gradio.live\n",
      "\n",
      "This share link expires in 72 hours. For free permanent hosting and GPU upgrades, run `gradio deploy` from Terminal to deploy to Spaces (https://huggingface.co/spaces)\n"
     ]
    },
    {
     "data": {
      "text/html": [
       "<div><iframe src=\"https://00a78fa38abbc65e0c.gradio.live\" width=\"100%\" height=\"500\" allow=\"autoplay; camera; microphone; clipboard-read; clipboard-write;\" frameborder=\"0\" allowfullscreen></iframe></div>"
      ],
      "text/plain": [
       "<IPython.core.display.HTML object>"
      ]
     },
     "metadata": {},
     "output_type": "display_data"
    },
    {
     "data": {
      "text/plain": []
     },
     "execution_count": 132,
     "metadata": {},
     "output_type": "execute_result"
    }
   ],
   "source": [
    "import gradio as gr\n",
    "\n",
    "\n",
    "def make_markdown():\n",
    "    return [\n",
    "        [\n",
    "            \"# hello again\",\n",
    "            \"Hello my name is frank, I am liking the small turtle you have there. It would be a shame if it went missing.\",\n",
    "            '<img src=\"https://images.unsplash.com/photo-1574613362884-f79513a5128c?fit=crop&w=500&q=80\"/>',\n",
    "        ],\n",
    "        [\n",
    "            \"## hello again again\",\n",
    "            \"Hello my name is frank, I am liking the small turtle you have there. It would be a shame if it went missing.\",\n",
    "            '<img src=\"https://images.unsplash.com/photo-1574613362884-f79513a5128c?fit=crop&w=500&q=80\"/>',\n",
    "        ],\n",
    "        [\n",
    "            \"### hello thrice\",\n",
    "            \"Hello my name is frank, I am liking the small turtle you have there. It would be a shame if it went missing.\",\n",
    "            '<img src=\"https://images.unsplash.com/photo-1574613362884-f79513a5128c?fit=crop&w=500&q=80\"/>',\n",
    "        ],\n",
    "    ]\n",
    "\n",
    "\n",
    "with gr.Blocks() as demo:\n",
    "    with gr.Column():\n",
    "        txt = gr.Textbox(label=\"Small Textbox\", lines=1, show_label=False)\n",
    "        txt = gr.Textbox(label=\"Large Textbox\", lines=5, show_label=False)\n",
    "        num = gr.Number(label=\"Number\", show_label=False)\n",
    "        check = gr.Checkbox(label=\"Checkbox\", show_label=False)\n",
    "        check_g = gr.CheckboxGroup(\n",
    "            label=\"Checkbox Group\", choices=[\"One\", \"Two\", \"Three\"], show_label=False\n",
    "        )\n",
    "        radio = gr.Radio(\n",
    "            label=\"Radio\", choices=[\"One\", \"Two\", \"Three\"], show_label=False\n",
    "        )\n",
    "        drop = gr.Dropdown(\n",
    "            label=\"Dropdown\", choices=[\"One\", \"Two\", \"Three\"], show_label=False\n",
    "        )\n",
    "        slider = gr.Slider(label=\"Slider\", show_label=False)\n",
    "        audio = gr.Audio(show_label=False)\n",
    "        file = gr.File(show_label=False)\n",
    "        video = gr.Video(show_label=False)\n",
    "        image = gr.Image(show_label=False)\n",
    "        df = gr.Dataframe(show_label=False)\n",
    "        html = gr.HTML(show_label=False)\n",
    "        json = gr.JSON(show_label=False)\n",
    "        md = gr.Markdown(show_label=False)\n",
    "        label = gr.Label(show_label=False)\n",
    "        highlight = gr.HighlightedText(show_label=False)\n",
    "        gr.Dataframe(interactive=True, col_count=(3, \"fixed\"), label=\"Dataframe\")\n",
    "        gr.Dataframe(interactive=True, col_count=4, label=\"Dataframe\")\n",
    "        gr.Dataframe(\n",
    "            interactive=True, headers=[\"One\", \"Two\", \"Three\", \"Four\"], label=\"Dataframe\"\n",
    "        )\n",
    "        gr.Dataframe(\n",
    "            interactive=True,\n",
    "            headers=[\"One\", \"Two\", \"Three\", \"Four\"],\n",
    "            col_count=(4, \"fixed\"),\n",
    "            row_count=(7, \"fixed\"),\n",
    "            value=[[0, 0, 0, 0]],\n",
    "            label=\"Dataframe\",\n",
    "        )\n",
    "        gr.Dataframe(\n",
    "            interactive=True, headers=[\"One\", \"Two\", \"Three\", \"Four\"], col_count=4\n",
    "        )\n",
    "        df = gr.DataFrame(\n",
    "            [\n",
    "                [\n",
    "                    \"# hello\",\n",
    "                    \"Hello my name is frank, I am liking the small turtle you have there. It would be a shame if it went missing.\",\n",
    "                    \"https://images.unsplash.com/photo-1574613362884-f79513a5128c?fit=crop&w=500&q=80\",\n",
    "                ],\n",
    "                [\n",
    "                    \"## hello\",\n",
    "                    \"Hello my name is frank, I am liking the small turtle you have there. It would be a shame if it went missing.\",\n",
    "                    '<a href=\"https://search.iimjobs.com/profile/900486\" target=\"_blank\">https://search.iimjobs.com/profile/900486</a>',\n",
    "                ],\n",
    "                [\n",
    "                    \"### hello\",\n",
    "                    \"Hello my name is frank, I am liking the small turtle you have there. It would be a shame if it went missing.\",\n",
    "                    '<img src=\"https://images.unsplash.com/photo-1574613362884-f79513a5128c?fit=crop&w=500&q=80\"/>',\n",
    "                ],\n",
    "            ],\n",
    "            headers=[\"One\", \"Two\", \"Three\"],\n",
    "            wrap=True,\n",
    "            datatype=[\"markdown\", \"markdown\", \"html\"],\n",
    "            interactive=True,\n",
    "        )\n",
    "        btn = gr.Button(\"Run\")\n",
    "        btn.click(fn=make_markdown, inputs=None, outputs=df)\n",
    "\n",
    "\n",
    "# if __name__ == \"__main__\":\n",
    "demo.launch('0.0.0.0', share=True)"
   ]
  },
  {
   "cell_type": "code",
   "execution_count": null,
   "id": "492aac8f-5f3b-485e-ae81-60ce892a88a4",
   "metadata": {},
   "outputs": [],
   "source": []
  }
 ],
 "metadata": {
  "kernelspec": {
   "display_name": "Python 3 (ipykernel)",
   "language": "python",
   "name": "python3"
  },
  "language_info": {
   "codemirror_mode": {
    "name": "ipython",
    "version": 3
   },
   "file_extension": ".py",
   "mimetype": "text/x-python",
   "name": "python",
   "nbconvert_exporter": "python",
   "pygments_lexer": "ipython3",
   "version": "3.10.12"
  }
 },
 "nbformat": 4,
 "nbformat_minor": 5
}
