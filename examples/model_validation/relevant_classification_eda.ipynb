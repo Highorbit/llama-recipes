{
 "cells": [
  {
   "cell_type": "code",
   "execution_count": 1,
   "id": "da33dfa0-08dd-4fb9-a7a6-7c7ce04e0748",
   "metadata": {},
   "outputs": [],
   "source": [
    "import numpy as np\n",
    "import pandas as pd\n",
    "import json, pymysql"
   ]
  },
  {
   "cell_type": "code",
   "execution_count": 3,
   "id": "7385ce22-4c53-4e59-a917-f2e225db58a0",
   "metadata": {},
   "outputs": [],
   "source": [
    "job_df = pd.read_csv('../custom_data/relevant/job_data_full.csv')"
   ]
  },
  {
   "cell_type": "code",
   "execution_count": 16,
   "id": "d0274a15-a1da-4e2d-a700-6a937947c8cc",
   "metadata": {},
   "outputs": [],
   "source": [
    "sub_df = job_df[(job_df['apply_count']>300) & (job_df['apply_count']<1000)]"
   ]
  },
  {
   "cell_type": "code",
   "execution_count": 24,
   "id": "11d7dfd2-2e8c-43df-a17f-8396acbee82c",
   "metadata": {},
   "outputs": [],
   "source": [
    "sub_df.columns = ['job_id','job_title','apply_count']"
   ]
  },
  {
   "cell_type": "code",
   "execution_count": 25,
   "id": "7bb190c6-9ec9-41da-81ae-5746d2c350c9",
   "metadata": {},
   "outputs": [
    {
     "data": {
      "text/plain": [
       "(1692, 3)"
      ]
     },
     "execution_count": 25,
     "metadata": {},
     "output_type": "execute_result"
    }
   ],
   "source": [
    "sub_df.shape"
   ]
  },
  {
   "cell_type": "code",
   "execution_count": 23,
   "id": "16a972fe-82da-4775-9065-227605facc5a",
   "metadata": {},
   "outputs": [],
   "source": [
    "sub_df.job_id.to_csv('../custom_data/relevant/job_list.csv',index=False)"
   ]
  },
  {
   "cell_type": "code",
   "execution_count": null,
   "id": "8463378b-c61c-43d8-8755-abfee6b768d0",
   "metadata": {},
   "outputs": [],
   "source": []
  }
 ],
 "metadata": {
  "kernelspec": {
   "display_name": "Python 3 (ipykernel)",
   "language": "python",
   "name": "python3"
  },
  "language_info": {
   "codemirror_mode": {
    "name": "ipython",
    "version": 3
   },
   "file_extension": ".py",
   "mimetype": "text/x-python",
   "name": "python",
   "nbconvert_exporter": "python",
   "pygments_lexer": "ipython3",
   "version": "3.10.12"
  }
 },
 "nbformat": 4,
 "nbformat_minor": 5
}
