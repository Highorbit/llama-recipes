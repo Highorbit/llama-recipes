{
 "cells": [
  {
   "cell_type": "code",
   "execution_count": 1,
   "id": "c96e3353-ad72-412d-96f9-3e9d12fd3b88",
   "metadata": {},
   "outputs": [],
   "source": [
    "import pickle\n",
    "import json\n",
    "import ast\n",
    "import os\n",
    "from tqdm import tqdm\n",
    "import random"
   ]
  },
  {
   "cell_type": "code",
   "execution_count": 2,
   "id": "c656d0d7-25d8-4d7e-ab25-4f20a4800c9b",
   "metadata": {},
   "outputs": [],
   "source": [
    "import configparser\n",
    "import openai"
   ]
  },
  {
   "cell_type": "code",
   "execution_count": 3,
   "id": "fb4306d2-dcc5-4370-8958-fc8bda290fff",
   "metadata": {},
   "outputs": [
    {
     "data": {
      "text/plain": [
       "['/home/ubuntu/infoedge/llama-recipes/examples/configs/config.ini']"
      ]
     },
     "execution_count": 3,
     "metadata": {},
     "output_type": "execute_result"
    }
   ],
   "source": [
    "config=configparser.ConfigParser()\n",
    "config.read('/home/ubuntu/infoedge/llama-recipes/examples/configs/config.ini')"
   ]
  },
  {
   "cell_type": "code",
   "execution_count": 4,
   "id": "126c800a-1355-4e5e-a1bc-66b62436ede2",
   "metadata": {},
   "outputs": [],
   "source": [
    "openai.api_key=config['key']['infoedge']\n"
   ]
  },
  {
   "cell_type": "code",
   "execution_count": 5,
   "id": "2a7249e9-5d2c-4911-a007-639cf6b592c1",
   "metadata": {},
   "outputs": [],
   "source": [
    "os.environ['OPENAI_API_KEY'] = openai.api_key"
   ]
  },
  {
   "cell_type": "code",
   "execution_count": 6,
   "id": "0e2aa499-aa02-4789-a93b-bb97e54a4ed3",
   "metadata": {},
   "outputs": [],
   "source": [
    "\n",
    "with open('../custom_data/eval_dict_large.pkl','rb') as f:\n",
    "    main_dict = pickle.load(f)"
   ]
  },
  {
   "cell_type": "code",
   "execution_count": 7,
   "id": "80ac6d35-405d-40f7-9b1e-c485262d0cc5",
   "metadata": {},
   "outputs": [],
   "source": [
    "# main_dict[1004197]"
   ]
  },
  {
   "cell_type": "code",
   "execution_count": null,
   "id": "5331bb9b-c3ef-43b1-ac62-21266cb97068",
   "metadata": {},
   "outputs": [],
   "source": []
  },
  {
   "cell_type": "code",
   "execution_count": null,
   "id": "bc78d7c7-a45c-4340-8dc8-16d264d97913",
   "metadata": {},
   "outputs": [],
   "source": []
  },
  {
   "cell_type": "code",
   "execution_count": 8,
   "id": "1fc7d746-9555-4706-9576-b8dbb8f99667",
   "metadata": {},
   "outputs": [],
   "source": [
    "# len(main_dict.keys())"
   ]
  },
  {
   "cell_type": "code",
   "execution_count": 9,
   "id": "2795ed22-05f0-414b-aee1-f75156bd403e",
   "metadata": {},
   "outputs": [],
   "source": [
    "d = {}\n",
    "\n",
    "for k in main_dict.keys():\n",
    "    if type(json.loads(main_dict[k][0]))==list :\n",
    "        d[k] = [json.loads(main_dict[k][0]),json.loads(main_dict[k][1])]\n",
    "        # print('yes')\n",
    "    else:\n",
    "        pass"
   ]
  },
  {
   "cell_type": "code",
   "execution_count": 10,
   "id": "38308ee0-3626-4175-b42a-01a6aef3d226",
   "metadata": {},
   "outputs": [
    {
     "data": {
      "text/plain": [
       "dict_keys([1872242, 2561363, 1546340, 188527, 1123544, 2058796, 1660149, 1419822, 1985120, 1383282, 1737071, 1774947, 2180638, 942664, 2152366, 145199, 681838, 2771066, 2082556, 28101, 1743086, 2779742, 2033943, 2118031, 2140233, 2629198, 941147, 2712967, 1216994, 1929269, 142579, 674208, 1345073, 598095, 857929, 2779488, 713926, 2334928, 716138, 2696477, 2207864, 1004197, 502525, 881289, 2130650, 2221341, 1063248, 2159599, 924160, 1351135, 1948949, 2691181, 2612572, 2165233, 639267, 1234339, 1363204, 1884269, 1193240, 2142415, 1054192, 1674989, 2012043, 914153, 1607477, 953877, 1059466, 840489, 810563, 1080478, 1311104, 1191550, 295015, 1655990, 1527596, 2148177, 2624034, 1156526, 1879469, 32109, 108843, 533415, 2569037, 2564323, 262780, 2606989, 1912000, 1286391, 2779843, 1600780, 122626, 2220952, 417347, 1912419, 521599, 2455088, 1936688, 2157499, 2733606, 1663102, 654659, 237355, 1760129])"
      ]
     },
     "execution_count": 10,
     "metadata": {},
     "output_type": "execute_result"
    }
   ],
   "source": [
    "d.keys()"
   ]
  },
  {
   "cell_type": "code",
   "execution_count": 12,
   "id": "374b0fea-7934-47ef-80a5-e0b8565475e2",
   "metadata": {},
   "outputs": [
    {
     "data": {
      "text/plain": [
       "[{'company': 'ICICI Bank Ltd',\n",
       "  'role': 'Deputy Manager (Band II)',\n",
       "  'start_date': 'Oct 2017',\n",
       "  'end_date': 'Till Date',\n",
       "  'description': 'Managing a team of 16 people to support the Trade Service Unit of ICICI Bank Ltd. Specialized and regular work process in SOFTEX (Software Export), STPI (Software Technology Parks of India). Having sound knowledge on URC 522, UCPDC 600, ISBP. Having regular interactions with front end officers for processing of transaction within TAT (turnaround time). Have good process and circular knowledge and experience in different business scenarios. Handling documents and analyzing the different scenarios as per regulatory guidelines. Manage accounting operation like Billing, etc. Track KPI along with business and business leaders Technical knowledge of market conditions, and trends.'},\n",
       " {'company': 'Prime Focus Technologies',\n",
       "  'role': 'Media Associate',\n",
       "  'start_date': 'May 2015',\n",
       "  'end_date': 'July 2016',\n",
       "  'description': 'Quality check of Data before submitting to the Telecom Regulatory Authority of India (TRAI.'}]"
      ]
     },
     "execution_count": 12,
     "metadata": {},
     "output_type": "execute_result"
    }
   ],
   "source": [
    "d[1872242][0]"
   ]
  },
  {
   "cell_type": "code",
   "execution_count": 13,
   "id": "43a0589e-b646-4c4d-9856-7d49aecf4067",
   "metadata": {},
   "outputs": [
    {
     "data": {
      "text/plain": [
       "[{'id': 2759432,\n",
       "  'designation': 'Deputy Manager',\n",
       "  'fromExpMonth': '10',\n",
       "  'fromExpYear': '2017',\n",
       "  'toExpMonth': '0',\n",
       "  'toExpYear': '0',\n",
       "  'company': 'ICICI Bank Ltd'},\n",
       " {'id': 2759433,\n",
       "  'designation': 'Media Associate',\n",
       "  'fromExpMonth': '5',\n",
       "  'fromExpYear': '2015',\n",
       "  'toExpMonth': '7',\n",
       "  'toExpYear': '2016',\n",
       "  'company': 'Prime Focus Technology'}]"
      ]
     },
     "execution_count": 13,
     "metadata": {},
     "output_type": "execute_result"
    }
   ],
   "source": [
    "d[1872242][1]"
   ]
  },
  {
   "cell_type": "code",
   "execution_count": 14,
   "id": "c7f598b9-a7a7-4eb6-8fe6-290755c74cec",
   "metadata": {},
   "outputs": [],
   "source": [
    "# d[1546340][1]"
   ]
  },
  {
   "cell_type": "code",
   "execution_count": 15,
   "id": "a4684100-6436-4339-8ad3-eeb0de7c547d",
   "metadata": {},
   "outputs": [],
   "source": [
    "# main_dict[2321467][0]"
   ]
  },
  {
   "cell_type": "code",
   "execution_count": 16,
   "id": "c03ad48b-a90d-4725-a905-cf834079fed5",
   "metadata": {},
   "outputs": [],
   "source": [
    "# j = json.loads(main_dict[1660149][0])[0]"
   ]
  },
  {
   "cell_type": "code",
   "execution_count": 17,
   "id": "bf12e192-8828-4e21-8e47-96bb93c76052",
   "metadata": {},
   "outputs": [],
   "source": [
    "# del j['description']"
   ]
  },
  {
   "cell_type": "code",
   "execution_count": 18,
   "id": "9c06e5be-490a-4e9e-8d68-5c804af35666",
   "metadata": {},
   "outputs": [],
   "source": [
    "# j"
   ]
  },
  {
   "cell_type": "code",
   "execution_count": 19,
   "id": "16330064-539d-43ea-986a-b0faaf07a8c8",
   "metadata": {},
   "outputs": [],
   "source": [
    "# json.loads(main_dict[1660149][0])"
   ]
  },
  {
   "cell_type": "code",
   "execution_count": 20,
   "id": "0e661ffc-d526-46a0-9344-715d3b8d7fbc",
   "metadata": {},
   "outputs": [],
   "source": [
    "# json.loads(main_dict[1660149][1])"
   ]
  },
  {
   "cell_type": "code",
   "execution_count": 21,
   "id": "fbb34c27-ea5b-4ef0-81e1-d9b735e61ca3",
   "metadata": {},
   "outputs": [],
   "source": [
    "# main_dict[2321467][1]"
   ]
  },
  {
   "cell_type": "code",
   "execution_count": 22,
   "id": "26c6406e-5c19-4882-a141-eac53b91637d",
   "metadata": {},
   "outputs": [],
   "source": [
    "# d"
   ]
  },
  {
   "cell_type": "code",
   "execution_count": 23,
   "id": "272bf9b9-7fcc-4383-bcf4-441ce5076487",
   "metadata": {},
   "outputs": [],
   "source": [
    "# d = {}\n",
    "\n",
    "# for k in main_dict.keys():\n",
    "#     if type(json.loads(main_dict[k][0]))==list :\n",
    "#         d[k] = [json.loads(main_dict[k][0]),json.loads(main_dict[k][1])]\n",
    "#         print('yes')\n",
    "#     else:\n",
    "#         pass"
   ]
  },
  {
   "cell_type": "code",
   "execution_count": 24,
   "id": "5c736024-28fc-401a-b203-30e88f7c5217",
   "metadata": {},
   "outputs": [
    {
     "data": {
      "text/plain": [
       "103"
      ]
     },
     "execution_count": 24,
     "metadata": {},
     "output_type": "execute_result"
    }
   ],
   "source": [
    "len(d.keys())"
   ]
  },
  {
   "cell_type": "code",
   "execution_count": 25,
   "id": "3c3c5d09-17f8-4408-893a-7cf2ab072427",
   "metadata": {},
   "outputs": [
    {
     "data": {
      "text/plain": [
       "[[{'company': 'Infosys Limited',\n",
       "   'role': 'Client Solution Lead',\n",
       "   'start_date': 'Nov 2020',\n",
       "   'end_date': 'Present',\n",
       "   'description': \"Managed pre-sales opportunity management and lead generation activities by gathering requirements from clients, proposing solutions as per the business fitment and timely submission of technical and commercial proposals for Retail, CPG and Logistics clients across the globe. Transformed the Infosys solution designing for upskilling and knowledge management process by creating Lex Channels on RCL Domain which are reused for several pursuits as future Client Academy portal Demo. Achieved 20% reduction in proposal response time through structured work plans, extensive content curation and seamless coordination with SMEs, solution leads and other stakeholders. Improved team conversion rate by 10% by contributing in Infosys engaging and immersive showcasing platforms for clients. Achieved over 65% conversion rate by ensuring client-centric proposal with the messaging aligned to buyer values, our win themes and value proposition. As Presales deal owner, is responsible for mapping business requirements to solution, efforts and costing estimation for clients ranging from world's leading sportswear company to UK based electrical retailer.\"},\n",
       "  {'company': 'CapGemini India Pvt Ltd.',\n",
       "   'role': 'Consultant/Project Lead',\n",
       "   'start_date': 'Oct 2013',\n",
       "   'end_date': 'Dec 2018',\n",
       "   'description': 'Managed 100+ applications on invoicing content and collaboration platforms and pre-sales activity for Retail, CPG and Logistics firms while leading a cross-geographical team of 9 members. Assisted pre-sales support with business and technology integration, for client value creation in terms of operational cost savings of 35%, resulting in bid closure for a strategic US account. Reduced costs to the tune of 100 KUSD by creating knowledge error database for recurring critical issues in the client environment, thereby saving 10 daily man hours. Pioneered automation initiative to reduce application support costs of disk housekeeping and services by ~48 person-hours annually using Windows Task Scheduler. Awarded Project Star and Xtra Mile Reward for outstanding performance and lasting contribution in Infra Services.'}],\n",
       " [{'id': 2985673,\n",
       "   'designation': 'Client Solution Lead',\n",
       "   'fromExpMonth': '11',\n",
       "   'fromExpYear': '2020',\n",
       "   'toExpMonth': '0',\n",
       "   'toExpYear': '0',\n",
       "   'company': 'Infosys'},\n",
       "  {'id': 2229305,\n",
       "   'designation': 'Consultant',\n",
       "   'fromExpMonth': '10',\n",
       "   'fromExpYear': '2013',\n",
       "   'toExpMonth': '12',\n",
       "   'toExpYear': '2018',\n",
       "   'company': 'Capgemini'}]]"
      ]
     },
     "execution_count": 25,
     "metadata": {},
     "output_type": "execute_result"
    }
   ],
   "source": [
    "d[1546340]"
   ]
  },
  {
   "cell_type": "code",
   "execution_count": 26,
   "id": "c5fef1e1-ee3e-49e3-ad6f-e6e6b178a06a",
   "metadata": {},
   "outputs": [],
   "source": [
    "for k in d.keys():\n",
    "    for x in d[k][0]:\n",
    "        try:\n",
    "            del x['description']\n",
    "        except Exception as e:\n",
    "            continue\n",
    "    \n"
   ]
  },
  {
   "cell_type": "code",
   "execution_count": 27,
   "id": "3a4afe57-54ba-4098-848e-9a2504f85508",
   "metadata": {},
   "outputs": [],
   "source": [
    "# for k in d.keys():\n",
    "#     for x in d[k][0]:\n",
    "#         print(x)"
   ]
  },
  {
   "cell_type": "code",
   "execution_count": 28,
   "id": "95d7c4c3-bfd5-4584-9d4b-2ce29c9bab2f",
   "metadata": {
    "scrolled": true
   },
   "outputs": [],
   "source": [
    "# d[1546340][0]"
   ]
  },
  {
   "cell_type": "code",
   "execution_count": 29,
   "id": "4629b00b-dbb4-4330-b7bf-a8f432e28f3d",
   "metadata": {},
   "outputs": [
    {
     "data": {
      "text/plain": [
       "dict_keys([1872242, 2561363, 1546340, 188527, 1123544, 2058796, 1660149, 1419822, 1985120, 1383282, 1737071, 1774947, 2180638, 942664, 2152366, 145199, 681838, 2771066, 2082556, 28101, 1743086, 2779742, 2033943, 2118031, 2140233, 2629198, 941147, 2712967, 1216994, 1929269, 142579, 674208, 1345073, 598095, 857929, 2779488, 713926, 2334928, 716138, 2696477, 2207864, 1004197, 502525, 881289, 2130650, 2221341, 1063248, 2159599, 924160, 1351135, 1948949, 2691181, 2612572, 2165233, 639267, 1234339, 1363204, 1884269, 1193240, 2142415, 1054192, 1674989, 2012043, 914153, 1607477, 953877, 1059466, 840489, 810563, 1080478, 1311104, 1191550, 295015, 1655990, 1527596, 2148177, 2624034, 1156526, 1879469, 32109, 108843, 533415, 2569037, 2564323, 262780, 2606989, 1912000, 1286391, 2779843, 1600780, 122626, 2220952, 417347, 1912419, 521599, 2455088, 1936688, 2157499, 2733606, 1663102, 654659, 237355, 1760129])"
      ]
     },
     "execution_count": 29,
     "metadata": {},
     "output_type": "execute_result"
    }
   ],
   "source": [
    "d.keys()"
   ]
  },
  {
   "cell_type": "code",
   "execution_count": 30,
   "id": "b86d0102-9563-4562-9672-c90ae7fd019d",
   "metadata": {},
   "outputs": [
    {
     "data": {
      "text/plain": [
       "[{'company': 'Bain Capability Network (BCN)',\n",
       "  'role': 'Project Lead',\n",
       "  'start_date': 'July 2022',\n",
       "  'end_date': 'Present'},\n",
       " {'company': 'Acuity Knowledge Partners',\n",
       "  'role': 'Senior Associate',\n",
       "  'start_date': 'February 2021',\n",
       "  'end_date': 'July 2022'},\n",
       " {'company': 'Ernst & Young GDS, India',\n",
       "  'role': 'Senior Analyst',\n",
       "  'start_date': 'January 2019',\n",
       "  'end_date': 'February 2021'},\n",
       " {'company': 'L&T Financial Services',\n",
       "  'role': 'Area Manager',\n",
       "  'start_date': 'May 2018',\n",
       "  'end_date': 'January 2019'}]"
      ]
     },
     "execution_count": 30,
     "metadata": {},
     "output_type": "execute_result"
    }
   ],
   "source": [
    "d[1311104][0]\n"
   ]
  },
  {
   "cell_type": "code",
   "execution_count": 31,
   "id": "95e0c491-f2a2-4fe9-8acf-d8e1b10402ea",
   "metadata": {},
   "outputs": [
    {
     "data": {
      "text/plain": [
       "[{'id': 4173794,\n",
       "  'designation': 'Project Lead',\n",
       "  'fromExpMonth': '7',\n",
       "  'fromExpYear': '2022',\n",
       "  'toExpMonth': '0',\n",
       "  'toExpYear': '0',\n",
       "  'company': 'Bain & Company'},\n",
       " {'id': 3283972,\n",
       "  'designation': 'Senior Associate',\n",
       "  'fromExpMonth': '2',\n",
       "  'fromExpYear': '2021',\n",
       "  'toExpMonth': '7',\n",
       "  'toExpYear': '2022',\n",
       "  'company': 'Acuity Knowledge Partners'},\n",
       " {'id': 2864028,\n",
       "  'designation': 'Senior Analyst',\n",
       "  'fromExpMonth': '1',\n",
       "  'fromExpYear': '2019',\n",
       "  'toExpMonth': '2',\n",
       "  'toExpYear': '2021',\n",
       "  'company': 'Ernst & Young'},\n",
       " {'id': 2864029,\n",
       "  'designation': 'Area Sales Manager',\n",
       "  'fromExpMonth': '5',\n",
       "  'fromExpYear': '2018',\n",
       "  'toExpMonth': '1',\n",
       "  'toExpYear': '2019',\n",
       "  'company': 'L&T Finance'}]"
      ]
     },
     "execution_count": 31,
     "metadata": {},
     "output_type": "execute_result"
    }
   ],
   "source": [
    "d[1311104][1]\n"
   ]
  },
  {
   "cell_type": "code",
   "execution_count": null,
   "id": "1f63e2e4-65bf-4b23-b8fc-6c8ab257774c",
   "metadata": {},
   "outputs": [],
   "source": [
    "    eval_prompt=f'''\n",
    "    I have generated work experience details through LLM, represented as JSON 1, while JSON 2 is fetched from a database. Below are the details of both JSONs:\n",
    "    \n",
    "    Compare these two JSONs and return a boolean value based on the comparison.\n",
    "    JSON 1: {llm_out}\n",
    "    JSON 2: {db_out}\n",
    "    \n",
    "    Additionally, consider JSON 2 as a subset of JSON 1. Return 'True' if either JSON 2 is entirely contained within JSON 1 or if only the company name matches. Return 'True' even if a part of JSON 2 matches with JSON 1.\n",
    "    \n",
    "    Respond with just one word: either 'True' or 'False'. Do not provide any other output.\n",
    "    \n",
    "        '''\n",
    "\n",
    "\n",
    "f'''I have generated work experience details through LLM, represented as JSON 1, while JSON 2 is fetched from a database. Below are the details of both JSONs:\n",
    "\n",
    "Compare these two JSONs and return a boolean value based on the comparison.\n",
    "JSON 1: {llm_out}\n",
    "JSON 2: {db_out}\n",
    "\n",
    "Additionally, consider JSON 2 as a subset of JSON 1. Return 'True' if either JSON 2 is entirely contained within JSON 1 or if only the company name matches. Return 'True' even if a part of JSON 2 matches with JSON 1.\n",
    "\n",
    "Ensure that the comparison includes a check for matching company names.\n",
    "\n",
    "Respond with just one word: either 'True' or 'False'. Do not provide any other output.''"
   ]
  },
  {
   "cell_type": "code",
   "execution_count": 168,
   "id": "2541165f-e6f1-4191-88fe-2fb02ffb4af9",
   "metadata": {},
   "outputs": [],
   "source": [
    "# eval_prompt = f'''Your output should JUST be the boolean true or false, of if you have sufficient information in the article to answer the question.\n",
    "# Respond with just one word, the boolean true or false. You must output the word 'True', or the word 'False', nothing else.\n",
    "\n",
    "def validation(llm_out,db_out):\n",
    "    eval_prompt=f'''I have generated work experience details through LLM, represented as JSON 1, while JSON 2 is fetched from a database. Below are the details of both JSONs:\n",
    "\n",
    "Compare these two JSONs and return a boolean value based on the comparison.\n",
    "JSON 1: {llm_out}\n",
    "JSON 2: {db_out}\n",
    "\n",
    "Additionally, consider JSON 2 as a subset of JSON 1. Return 'True' if either JSON 2 is entirely contained within JSON 1 or if only the company name matches. Return 'True' even if a part of JSON 2 matches with JSON 1.\n",
    "\n",
    "Ensure that the comparison includes a check for matching company names.\n",
    "\n",
    "Respond with just one word: either 'True' or 'False'. Do not provide any other output.'''\n",
    "    \n",
    "    completion = openai.chat.completions.create(\n",
    "        model=\"gpt-3.5-turbo\",\n",
    "        messages=[\n",
    "            {\"role\": \"user\", \"content\": eval_prompt}\n",
    "        ]\n",
    "    )\n",
    "    return completion.choices[0].message.content\n",
    "\n",
    "\n"
   ]
  },
  {
   "cell_type": "code",
   "execution_count": 169,
   "id": "507f05aa-dd19-4c29-a0b4-3be694eb5a60",
   "metadata": {},
   "outputs": [
    {
     "data": {
      "text/plain": [
       "'True'"
      ]
     },
     "execution_count": 169,
     "metadata": {},
     "output_type": "execute_result"
    }
   ],
   "source": [
    "validation(d[1311104][0],d[1311104][1])"
   ]
  },
  {
   "cell_type": "code",
   "execution_count": 170,
   "id": "9d1e0fdd-80ed-4363-984c-f32d7ae24e7b",
   "metadata": {},
   "outputs": [
    {
     "name": "stderr",
     "output_type": "stream",
     "text": [
      "/tmp/ipykernel_4728/2206948883.py:2: DeprecationWarning: Sampling from a set deprecated\n",
      "since Python 3.9 and will be removed in a subsequent version.\n",
      "  random.sample(d.keys(),5)\n"
     ]
    },
    {
     "data": {
      "text/plain": [
       "[2779843, 2561363, 2455088, 1936688, 2733606]"
      ]
     },
     "execution_count": 170,
     "metadata": {},
     "output_type": "execute_result"
    }
   ],
   "source": [
    "import random\n",
    "random.sample(d.keys(),5)"
   ]
  },
  {
   "cell_type": "code",
   "execution_count": 171,
   "id": "b84fa8bc-351b-4153-9906-d8bd7b05bb0a",
   "metadata": {},
   "outputs": [
    {
     "data": {
      "text/plain": [
       "103"
      ]
     },
     "execution_count": 171,
     "metadata": {},
     "output_type": "execute_result"
    }
   ],
   "source": [
    "len(d.keys())"
   ]
  },
  {
   "cell_type": "code",
   "execution_count": 172,
   "id": "3a19e79c-bccf-478e-afb3-10ee32141bad",
   "metadata": {},
   "outputs": [
    {
     "name": "stderr",
     "output_type": "stream",
     "text": [
      "100%|██████████████████████████████████████████████████████████████████████████████████████████████████████████████████████████████████████| 103/103 [01:18<00:00,  1.31it/s]\n"
     ]
    }
   ],
   "source": [
    "boolean_value=[]\n",
    "bool_dict={}\n",
    "for k in tqdm(d.keys()):\n",
    "    # print(k)\n",
    "    r = validation(d[k][0],d[k][1])\n",
    "    bool_dict[k]=r\n",
    "    boolean_value.append(r)\n",
    "    "
   ]
  },
  {
   "cell_type": "code",
   "execution_count": 173,
   "id": "f9af75e7-3ded-4d4b-aad1-4c208c66b212",
   "metadata": {},
   "outputs": [],
   "source": [
    "# bool_dict"
   ]
  },
  {
   "cell_type": "code",
   "execution_count": 174,
   "id": "a3a82e2e-8150-4bc3-964c-a6647c62a3e7",
   "metadata": {},
   "outputs": [
    {
     "data": {
      "text/plain": [
       "91"
      ]
     },
     "execution_count": 174,
     "metadata": {},
     "output_type": "execute_result"
    }
   ],
   "source": [
    "boolean_value.count('True')"
   ]
  },
  {
   "cell_type": "code",
   "execution_count": 175,
   "id": "79db41d5-d5bf-4322-98b2-7c4668acac7f",
   "metadata": {},
   "outputs": [
    {
     "data": {
      "text/plain": [
       "12"
      ]
     },
     "execution_count": 175,
     "metadata": {},
     "output_type": "execute_result"
    }
   ],
   "source": [
    "boolean_value.count('False')"
   ]
  },
  {
   "cell_type": "code",
   "execution_count": 145,
   "id": "6f547df0-4d8b-4ad3-91fc-03917936999b",
   "metadata": {},
   "outputs": [],
   "source": [
    "# d[1351135][0]"
   ]
  },
  {
   "cell_type": "code",
   "execution_count": 146,
   "id": "3b18ab9b-aa78-41e9-9b5b-8c0f0c607777",
   "metadata": {},
   "outputs": [],
   "source": [
    "# d[1351135][1]"
   ]
  },
  {
   "cell_type": "code",
   "execution_count": 176,
   "id": "71d1391c-5957-48c8-8beb-469df1d8523d",
   "metadata": {},
   "outputs": [
    {
     "name": "stdout",
     "output_type": "stream",
     "text": [
      "{1872242: 'False', 1546340: 'False', 2058796: 'False', 1985120: 'False', 2140233: 'False', 2712967: 'False', 2779488: 'False', 2159599: 'False', 2142415: 'False', 1059466: 'False', 2148177: 'False', 2733606: 'False'}\n"
     ]
    }
   ],
   "source": [
    "filtered_dict = {key: value for key, value in bool_dict.items() if value == 'False'}\n",
    "\n",
    "print(filtered_dict)\n"
   ]
  },
  {
   "cell_type": "code",
   "execution_count": 178,
   "id": "8f710355-d3ee-4e6d-9d75-dde233f83240",
   "metadata": {},
   "outputs": [
    {
     "data": {
      "text/plain": [
       "dict_keys([1872242, 1546340, 2058796, 1985120, 2140233, 2712967, 2779488, 2159599, 2142415, 1059466, 2148177, 2733606])"
      ]
     },
     "execution_count": 178,
     "metadata": {},
     "output_type": "execute_result"
    }
   ],
   "source": [
    "filtered_dict.keys()"
   ]
  },
  {
   "cell_type": "code",
   "execution_count": 147,
   "id": "f5589ce8-c927-4e9e-a947-273cfe661ba9",
   "metadata": {},
   "outputs": [
    {
     "name": "stdout",
     "output_type": "stream",
     "text": [
      "{1123544: 'False', 1419822: 'False', 142579: 'False', 1234339: 'False', 2142415: 'False', 914153: 'False', 953877: 'False', 2569037: 'False', 262780: 'False', 1912000: 'False', 2157499: 'False'}\n"
     ]
    }
   ],
   "source": [
    "\n",
    "\n",
    "filtered_dict = {key: value for key, value in bool_dict.items() if value == 'False'}\n",
    "\n",
    "print(filtered_dict)\n"
   ]
  },
  {
   "cell_type": "code",
   "execution_count": 148,
   "id": "733f8f55-139e-401c-b320-4e19cc344297",
   "metadata": {},
   "outputs": [],
   "source": [
    "# len(filtered_dict)"
   ]
  },
  {
   "cell_type": "code",
   "execution_count": 183,
   "id": "3fa8c0e7-4bf7-4d5b-b20c-d18d9ce662ac",
   "metadata": {},
   "outputs": [
    {
     "data": {
      "text/plain": [
       "[{'company': 'Fiserv India Private Ltd',\n",
       "  'role': 'Sr Manager  Human Resource',\n",
       "  'start_date': 'Apr 2022',\n",
       "  'end_date': 'Present'},\n",
       " {'company': 'Tata Consultancy Services',\n",
       "  'role': 'Manager  Human Resource',\n",
       "  'start_date': 'Apr 2020',\n",
       "  'end_date': 'Apr 2022'},\n",
       " {'company': 'Tata Consultancy Services',\n",
       "  'role': 'Lead Consultant  Human Resource',\n",
       "  'start_date': 'Jun 2018',\n",
       "  'end_date': 'Apr 2020'},\n",
       " {'company': 'Tata Consultancy Services',\n",
       "  'role': 'Specialist  Talent Offboarding',\n",
       "  'start_date': 'Mar 2016',\n",
       "  'end_date': 'Jun 2018'},\n",
       " {'company': 'Tata Consultancy Services',\n",
       "  'role': 'Specialist  Talent Integration',\n",
       "  'start_date': 'Jan 2012',\n",
       "  'end_date': 'Mar 2016'},\n",
       " {'company': 'Tata Consultancy Services',\n",
       "  'role': 'Executive  HR Generalist',\n",
       "  'start_date': 'Dec 2009',\n",
       "  'end_date': 'Jan 2012'}]"
      ]
     },
     "execution_count": 183,
     "metadata": {},
     "output_type": "execute_result"
    }
   ],
   "source": [
    "d[953877][0]"
   ]
  },
  {
   "cell_type": "code",
   "execution_count": 184,
   "id": "0f8a0f3d-fed9-4dc0-9b56-8f7fe5378c1e",
   "metadata": {},
   "outputs": [
    {
     "data": {
      "text/plain": [
       "[{'id': 1832183,\n",
       "  'designation': 'Advisor HR Business Partner',\n",
       "  'fromExpMonth': '6',\n",
       "  'fromExpYear': '2018',\n",
       "  'toExpMonth': '0',\n",
       "  'toExpYear': '0',\n",
       "  'company': 'Fiserv'},\n",
       " {'id': 1235658,\n",
       "  'designation': 'Assistant Manager - Human Resource',\n",
       "  'fromExpMonth': '12',\n",
       "  'fromExpYear': '2009',\n",
       "  'toExpMonth': '6',\n",
       "  'toExpYear': '2018',\n",
       "  'company': 'Tata Consultancy Services'}]"
      ]
     },
     "execution_count": 184,
     "metadata": {},
     "output_type": "execute_result"
    }
   ],
   "source": [
    "d[953877][1]"
   ]
  },
  {
   "cell_type": "code",
   "execution_count": null,
   "id": "6203111e-aa60-4018-b202-9a39a5b86526",
   "metadata": {},
   "outputs": [],
   "source": []
  }
 ],
 "metadata": {
  "kernelspec": {
   "display_name": "Python 3 (ipykernel)",
   "language": "python",
   "name": "python3"
  },
  "language_info": {
   "codemirror_mode": {
    "name": "ipython",
    "version": 3
   },
   "file_extension": ".py",
   "mimetype": "text/x-python",
   "name": "python",
   "nbconvert_exporter": "python",
   "pygments_lexer": "ipython3",
   "version": "3.10.12"
  }
 },
 "nbformat": 4,
 "nbformat_minor": 5
}
