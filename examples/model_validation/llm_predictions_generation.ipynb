{
 "cells": [
  {
   "cell_type": "code",
   "execution_count": 1,
   "id": "8f8b1388-4faf-426e-84b2-e696e53bbdc2",
   "metadata": {},
   "outputs": [],
   "source": [
    "from vllm import LLM, SamplingParams\n",
    "import numpy as np \n",
    "import pandas as pd \n",
    "import json \n",
    "from tqdm.notebook import tqdm\n",
    "import gradio as gr\n",
    "from user_info import get_user_info\n",
    "import ast, html, re"
   ]
  },
  {
   "cell_type": "code",
   "execution_count": 1,
   "id": "7a237018-3aa7-40ee-a84e-ab0137d070b6",
   "metadata": {},
   "outputs": [
    {
     "ename": "NameError",
     "evalue": "name 'SamplingParams' is not defined",
     "output_type": "error",
     "traceback": [
      "\u001b[0;31m---------------------------------------------------------------------------\u001b[0m",
      "\u001b[0;31mNameError\u001b[0m                                 Traceback (most recent call last)",
      "Cell \u001b[0;32mIn[1], line 1\u001b[0m\n\u001b[0;32m----> 1\u001b[0m sampling_params \u001b[38;5;241m=\u001b[39m \u001b[43mSamplingParams\u001b[49m(temperature\u001b[38;5;241m=\u001b[39m\u001b[38;5;241m0\u001b[39m, max_tokens\u001b[38;5;241m=\u001b[39m\u001b[38;5;241m4096\u001b[39m)\n\u001b[1;32m      2\u001b[0m llm \u001b[38;5;241m=\u001b[39m LLM(model\u001b[38;5;241m=\u001b[39m\u001b[38;5;124m\"\u001b[39m\u001b[38;5;124mlakshay/work-model\u001b[39m\u001b[38;5;124m\"\u001b[39m)\n",
      "\u001b[0;31mNameError\u001b[0m: name 'SamplingParams' is not defined"
     ]
    }
   ],
   "source": [
    "sampling_params = SamplingParams(temperature=0, max_tokens=4096)\n",
    "llm = LLM(model=\"lakshay/work-model\")"
   ]
  },
  {
   "cell_type": "code",
   "execution_count": 3,
   "id": "22e47fee-3e44-4dee-a715-bd94a9321b91",
   "metadata": {},
   "outputs": [],
   "source": [
    "eval_df = pd.read_csv('../custom_data/iimjobs_eval_df.csv')"
   ]
  },
  {
   "cell_type": "code",
   "execution_count": 4,
   "id": "fa27791e-15cb-4f0c-9e9b-56b1b8494449",
   "metadata": {},
   "outputs": [
    {
     "data": {
      "text/html": [
       "<div>\n",
       "<style scoped>\n",
       "    .dataframe tbody tr th:only-of-type {\n",
       "        vertical-align: middle;\n",
       "    }\n",
       "\n",
       "    .dataframe tbody tr th {\n",
       "        vertical-align: top;\n",
       "    }\n",
       "\n",
       "    .dataframe thead th {\n",
       "        text-align: right;\n",
       "    }\n",
       "</style>\n",
       "<table border=\"1\" class=\"dataframe\">\n",
       "  <thead>\n",
       "    <tr style=\"text-align: right;\">\n",
       "      <th></th>\n",
       "      <th>id</th>\n",
       "      <th>resume</th>\n",
       "      <th>current_designation</th>\n",
       "      <th>user_experience</th>\n",
       "      <th>keywords</th>\n",
       "    </tr>\n",
       "  </thead>\n",
       "  <tbody>\n",
       "    <tr>\n",
       "      <th>0</th>\n",
       "      <td>1447358</td>\n",
       "      <td>ROHAN\\nAZAD\\nI am a certified data scientist w...</td>\n",
       "      <td>Data Analyst</td>\n",
       "      <td>6</td>\n",
       "      <td>Finance Analytics Excel Social_Media Leadershi...</td>\n",
       "    </tr>\n",
       "    <tr>\n",
       "      <th>1</th>\n",
       "      <td>1936688</td>\n",
       "      <td>P U N E E T G U P T A\\nE-mail: puneet_mkgupta@...</td>\n",
       "      <td>Technical Specialist</td>\n",
       "      <td>13</td>\n",
       "      <td>Production Client SAP Testing Automation Team_...</td>\n",
       "    </tr>\n",
       "    <tr>\n",
       "      <th>2</th>\n",
       "      <td>690952</td>\n",
       "      <td>Nayana Rao (B.E, PGDSM-MIT, SPJIMR - Virginia ...</td>\n",
       "      <td>Business consultant</td>\n",
       "      <td>12</td>\n",
       "      <td>Analysis Insurance Client Business_Process Com...</td>\n",
       "    </tr>\n",
       "    <tr>\n",
       "      <th>3</th>\n",
       "      <td>1394972</td>\n",
       "      <td>vz\\nNITIN MISHRA\\nBUSINESS HEAD\\nOVERVIEW\\n Ec...</td>\n",
       "      <td>Business Head</td>\n",
       "      <td>5</td>\n",
       "      <td>Sales Corporate Retail Planning Ecommerce Corp...</td>\n",
       "    </tr>\n",
       "    <tr>\n",
       "      <th>4</th>\n",
       "      <td>950206</td>\n",
       "      <td>Anshul Garg\\nCA, CPA(USA)\\n+91-7982351846\\nCaa...</td>\n",
       "      <td>Manager Finance</td>\n",
       "      <td>7</td>\n",
       "      <td>TAX Financial Audit Accountant Internal_Contro...</td>\n",
       "    </tr>\n",
       "    <tr>\n",
       "      <th>...</th>\n",
       "      <td>...</td>\n",
       "      <td>...</td>\n",
       "      <td>...</td>\n",
       "      <td>...</td>\n",
       "      <td>...</td>\n",
       "    </tr>\n",
       "    <tr>\n",
       "      <th>444</th>\n",
       "      <td>941147</td>\n",
       "      <td>CAREER OBJECTIVE\\nCompany Experience\\nAayush R...</td>\n",
       "      <td>Research Analyst - IT Sector</td>\n",
       "      <td>6</td>\n",
       "      <td>Financial IT Security Analyst Client Research ...</td>\n",
       "    </tr>\n",
       "    <tr>\n",
       "      <th>445</th>\n",
       "      <td>2180638</td>\n",
       "      <td>Versatile business leader bringing 18 years of...</td>\n",
       "      <td>CEO</td>\n",
       "      <td>18</td>\n",
       "      <td>Sales Tamil Marketing Sales_And_Marketing Agri...</td>\n",
       "    </tr>\n",
       "    <tr>\n",
       "      <th>446</th>\n",
       "      <td>238690</td>\n",
       "      <td>MANGAL DUTT TRIPATHI\\nSEASONED MID LEVEL HR PR...</td>\n",
       "      <td>Regional HR Business Partner</td>\n",
       "      <td>14</td>\n",
       "      <td>HR Acquisition Finance Talent_Acquisition Attr...</td>\n",
       "    </tr>\n",
       "    <tr>\n",
       "      <th>447</th>\n",
       "      <td>442828</td>\n",
       "      <td>Nishant Mehta\\nObjective\\nTo work with and sub...</td>\n",
       "      <td>Zonal Business Head</td>\n",
       "      <td>19</td>\n",
       "      <td>Sales Marketing Brand Planning Distribution Pr...</td>\n",
       "    </tr>\n",
       "    <tr>\n",
       "      <th>448</th>\n",
       "      <td>2220952</td>\n",
       "      <td>Executive Profile\\n Currently associated with ...</td>\n",
       "      <td>Manager</td>\n",
       "      <td>20</td>\n",
       "      <td>Production Manufacturing Process_Improvement S...</td>\n",
       "    </tr>\n",
       "  </tbody>\n",
       "</table>\n",
       "<p>449 rows × 5 columns</p>\n",
       "</div>"
      ],
      "text/plain": [
       "          id                                             resume  \\\n",
       "0    1447358  ROHAN\\nAZAD\\nI am a certified data scientist w...   \n",
       "1    1936688  P U N E E T G U P T A\\nE-mail: puneet_mkgupta@...   \n",
       "2     690952  Nayana Rao (B.E, PGDSM-MIT, SPJIMR - Virginia ...   \n",
       "3    1394972  vz\\nNITIN MISHRA\\nBUSINESS HEAD\\nOVERVIEW\\n Ec...   \n",
       "4     950206  Anshul Garg\\nCA, CPA(USA)\\n+91-7982351846\\nCaa...   \n",
       "..       ...                                                ...   \n",
       "444   941147  CAREER OBJECTIVE\\nCompany Experience\\nAayush R...   \n",
       "445  2180638  Versatile business leader bringing 18 years of...   \n",
       "446   238690  MANGAL DUTT TRIPATHI\\nSEASONED MID LEVEL HR PR...   \n",
       "447   442828  Nishant Mehta\\nObjective\\nTo work with and sub...   \n",
       "448  2220952  Executive Profile\\n Currently associated with ...   \n",
       "\n",
       "              current_designation  user_experience  \\\n",
       "0                    Data Analyst                6   \n",
       "1            Technical Specialist               13   \n",
       "2             Business consultant               12   \n",
       "3                   Business Head                5   \n",
       "4                 Manager Finance                7   \n",
       "..                            ...              ...   \n",
       "444  Research Analyst - IT Sector                6   \n",
       "445                           CEO               18   \n",
       "446  Regional HR Business Partner               14   \n",
       "447           Zonal Business Head               19   \n",
       "448                       Manager               20   \n",
       "\n",
       "                                              keywords  \n",
       "0    Finance Analytics Excel Social_Media Leadershi...  \n",
       "1    Production Client SAP Testing Automation Team_...  \n",
       "2    Analysis Insurance Client Business_Process Com...  \n",
       "3    Sales Corporate Retail Planning Ecommerce Corp...  \n",
       "4    TAX Financial Audit Accountant Internal_Contro...  \n",
       "..                                                 ...  \n",
       "444  Financial IT Security Analyst Client Research ...  \n",
       "445  Sales Tamil Marketing Sales_And_Marketing Agri...  \n",
       "446  HR Acquisition Finance Talent_Acquisition Attr...  \n",
       "447  Sales Marketing Brand Planning Distribution Pr...  \n",
       "448  Production Manufacturing Process_Improvement S...  \n",
       "\n",
       "[449 rows x 5 columns]"
      ]
     },
     "execution_count": 4,
     "metadata": {},
     "output_type": "execute_result"
    }
   ],
   "source": [
    "eval_df"
   ]
  },
  {
   "cell_type": "code",
   "execution_count": 14,
   "id": "5d007a60-f5f1-45b3-a042-a6f56661b720",
   "metadata": {},
   "outputs": [],
   "source": [
    "def convert_to_json(input_string):\n",
    "    # Replace single quotes at the start and end of keys and values with double quotes\n",
    "    # This regex specifically targets the start of keys/values and the end of keys/values\n",
    "    corrected_string = re.sub(r\"(\\{|\\,)\\s*\\'\", r'\\1 \"', input_string)  # Start of key/value\n",
    "    corrected_string = re.sub(r\"\\'\\s*(\\,|\\})\", r'\" \\1', corrected_string)  # End of key/value\n",
    "    corrected_string = re.sub(r\"\\'\\s*:\", r'\":', corrected_string)  # Key end\n",
    "    corrected_string = re.sub(r\":\\s*\\'\", r': \"', corrected_string)  # Value start\n",
    "\n",
    "    try:\n",
    "        # Convert the string to a valid JSON\n",
    "        valid_json = json.loads(corrected_string)\n",
    "        print(f'it worked!')\n",
    "        return valid_json\n",
    "    except json.JSONDecodeError as e:\n",
    "        print(f'Error thrown in JSON converter is {e}')\n",
    "        return input_string\n",
    "\n",
    "def make_eval_prompt(raw_text):\n",
    "    \n",
    "    work_format = '''\n",
    "        [{\"company\": \"company Name 1\",\n",
    "        \"role\": \"job designation 1\",\n",
    "        \"start_date\": \"mm/yyyy\",\n",
    "        \"end_date\": \"mm/yyyy\",\n",
    "        \"description\": \"complete Job description taken from resume\"},\n",
    "        {\"company\": \"company name 2\",\n",
    "        \"role\": \"job designation 2\",\n",
    "        \"start_date\": \"mm/yyyy\",\n",
    "        \"end_date\": \"mm/yyyy\",\n",
    "        \"description\": \"complete Job description taken from resume\"}]'''\n",
    "    \n",
    "    eval_prompt = f'''\n",
    "    You are a helpful language model working for a job platform. You will be given the raw \n",
    "     unstructured text of a user's resume, and the task is to extract the work experience of the \n",
    "     user from the raw text in the following format as a properly formatted JSON which can be\n",
    "     properly parsed. ONLY use double quotes while generating the output JSON : \\n{{work_format}}\\n.\n",
    "    \n",
    "     This is the resume text:\\n{{resume_text}}\\n\n",
    "     This is the output in the required format:\\n\n",
    "    '''\n",
    "    \n",
    "    \n",
    "    eval_prompt = eval_prompt.format(work_format=work_format,\n",
    "                                     resume_text=raw_text)\n",
    "\n",
    "    return eval_prompt\n",
    "\n",
    "def parse_user_work_ex(info_json):\n",
    "    work_ex = []\n",
    "    try:\n",
    "        for x in info_json['professional_info'][0]:\n",
    "            \n",
    "            user_dict = {}\n",
    "            exp_dict = x\n",
    "        \n",
    "            keys = ['id','designation','fromExpMonth','fromExpYear','toExpMonth','toExpYear'] \n",
    "        \n",
    "            for k in keys:\n",
    "                user_dict[k] = exp_dict[k]\n",
    "                \n",
    "            user_dict['company'] = exp_dict['organization']['name']\n",
    "            work_ex.append(user_dict)\n",
    "    except:\n",
    "        return work_ex\n",
    "            \n",
    "    return work_ex\n",
    "\n",
    "\n",
    "\n",
    "def get_response_from_model(user_id):\n",
    "\n",
    "\n",
    "    es_output = get_user_info(user_id)\n",
    "    try:\n",
    "        resume_text = es_output['resume'][0]\n",
    "    except Exception as e:\n",
    "        pass\n",
    "    work_ex = parse_user_work_ex(es_output)\n",
    "    if resume_text:\n",
    "        eval_prompt = make_eval_prompt(resume_text)\n",
    "    \n",
    "    outputs = llm.generate(eval_prompt, sampling_params)\n",
    "    out_text = outputs[0].outputs[0].text\n",
    "    ot = html.unescape(out_text)\n",
    "    generated_text = ot\n",
    "    \n",
    "    try:\n",
    "        out_json = ast.literal_eval(generated_text)\n",
    "        return json.dumps(out_json,indent=4), json.dumps(work_ex,indent=4)\n",
    "\n",
    "    except Exception as e:\n",
    "        print(f'couldnt JSONify this {e}')\n",
    "        gt = convert_to_json(generated_text)\n",
    "        return json.dumps(gt, indent=4), json.dumps(work_ex,indent=4)"
   ]
  },
  {
   "cell_type": "code",
   "execution_count": 15,
   "id": "13fdc66c-1ce0-4c31-a4d6-b8fd20e09ea9",
   "metadata": {},
   "outputs": [],
   "source": [
    "# a,b = get_response_from_model(145199)"
   ]
  },
  {
   "cell_type": "code",
   "execution_count": 16,
   "id": "ba3eb5c8-eebc-4172-9d04-1aee53c341b6",
   "metadata": {},
   "outputs": [],
   "source": [
    "# json.loads(a)\n"
   ]
  },
  {
   "cell_type": "code",
   "execution_count": 17,
   "id": "401688ed-49f4-4e0e-accf-0c45b5110d35",
   "metadata": {},
   "outputs": [],
   "source": [
    "# json.loads(b)\n"
   ]
  },
  {
   "cell_type": "code",
   "execution_count": null,
   "id": "fd05cb37-dc71-45b5-a14c-cd19b5311e6a",
   "metadata": {},
   "outputs": [],
   "source": []
  },
  {
   "cell_type": "code",
   "execution_count": 18,
   "id": "81373457-2775-4483-afa1-570b786de688",
   "metadata": {},
   "outputs": [],
   "source": [
    "eval_dict = {}"
   ]
  },
  {
   "cell_type": "code",
   "execution_count": 19,
   "id": "0b75f641-c900-424d-aa5a-750297abd89b",
   "metadata": {},
   "outputs": [
    {
     "data": {
      "text/plain": [
       "{}"
      ]
     },
     "execution_count": 19,
     "metadata": {},
     "output_type": "execute_result"
    }
   ],
   "source": [
    "eval_dict"
   ]
  },
  {
   "cell_type": "code",
   "execution_count": 20,
   "id": "b872640f-5295-49e8-b6af-9d1d406b31a4",
   "metadata": {},
   "outputs": [],
   "source": [
    "# eval_df.sample(200).id.values"
   ]
  },
  {
   "cell_type": "code",
   "execution_count": 21,
   "id": "effaed5e-0b66-4816-aab0-a342cef49585",
   "metadata": {},
   "outputs": [
    {
     "data": {
      "application/vnd.jupyter.widget-view+json": {
       "model_id": "e7f17601b9da45f88198e8108264b756",
       "version_major": 2,
       "version_minor": 0
      },
      "text/plain": [
       "  0%|          | 0/200 [00:00<?, ?it/s]"
      ]
     },
     "metadata": {},
     "output_type": "display_data"
    },
    {
     "name": "stderr",
     "output_type": "stream",
     "text": [
      "\n",
      "Processed prompts:   0%|                                                                                                                               | 0/1 [00:00<?, ?it/s]\u001b[A\n",
      "Processed prompts: 100%|███████████████████████████████████████████████████████████████████████████████████████████████████████████████████████| 1/1 [00:09<00:00,  9.10s/it]\u001b[A\n",
      "\n",
      "Processed prompts:   0%|                                                                                                                               | 0/1 [00:00<?, ?it/s]\u001b[A\n",
      "Processed prompts: 100%|███████████████████████████████████████████████████████████████████████████████████████████████████████████████████████| 1/1 [00:36<00:00, 36.09s/it]\u001b[A\n"
     ]
    },
    {
     "name": "stdout",
     "output_type": "stream",
     "text": [
      "couldnt JSONify this invalid decimal literal (<unknown>, line 1)\n",
      "it worked!\n"
     ]
    },
    {
     "name": "stderr",
     "output_type": "stream",
     "text": [
      "\n",
      "Processed prompts:   0%|                                                                                                                               | 0/1 [00:00<?, ?it/s]\u001b[A\n",
      "Processed prompts: 100%|███████████████████████████████████████████████████████████████████████████████████████████████████████████████████████| 1/1 [00:17<00:00, 17.27s/it]\u001b[A\n"
     ]
    },
    {
     "name": "stdout",
     "output_type": "stream",
     "text": [
      "couldnt JSONify this unterminated string literal (detected at line 1) (<unknown>, line 1)\n",
      "it worked!\n"
     ]
    },
    {
     "name": "stderr",
     "output_type": "stream",
     "text": [
      "\n",
      "Processed prompts:   0%|                                                                                                                               | 0/1 [00:00<?, ?it/s]\u001b[A\n",
      "Processed prompts: 100%|███████████████████████████████████████████████████████████████████████████████████████████████████████████████████████| 1/1 [00:44<00:00, 44.87s/it]\u001b[A\n"
     ]
    },
    {
     "name": "stdout",
     "output_type": "stream",
     "text": [
      "couldnt JSONify this unexpected indent (<unknown>, line 7)\n",
      "Error thrown in JSON converter is Extra data: line 1 column 1212 (char 1211)\n"
     ]
    },
    {
     "name": "stderr",
     "output_type": "stream",
     "text": [
      "\n",
      "Processed prompts:   0%|                                                                                                                               | 0/1 [00:00<?, ?it/s]\u001b[A\n",
      "Processed prompts: 100%|███████████████████████████████████████████████████████████████████████████████████████████████████████████████████████| 1/1 [00:24<00:00, 24.23s/it]\u001b[A\n"
     ]
    },
    {
     "name": "stdout",
     "output_type": "stream",
     "text": [
      "couldnt JSONify this unterminated string literal (detected at line 16) (<unknown>, line 16)\n",
      "Error thrown in JSON converter is Invalid control character at: line 1 column 1776 (char 1775)\n"
     ]
    },
    {
     "name": "stderr",
     "output_type": "stream",
     "text": [
      "\n",
      "Processed prompts:   0%|                                                                                                                               | 0/1 [00:00<?, ?it/s]\u001b[A\n",
      "Processed prompts: 100%|███████████████████████████████████████████████████████████████████████████████████████████████████████████████████████| 1/1 [00:28<00:00, 28.12s/it]\u001b[A\n"
     ]
    },
    {
     "name": "stdout",
     "output_type": "stream",
     "text": [
      "couldnt JSONify this unexpected indent (<unknown>, line 7)\n",
      "Error thrown in JSON converter is Extra data: line 1 column 242 (char 241)\n"
     ]
    },
    {
     "name": "stderr",
     "output_type": "stream",
     "text": [
      "\n",
      "Processed prompts:   0%|                                                                                                                               | 0/1 [00:00<?, ?it/s]\u001b[A\n",
      "Processed prompts: 100%|███████████████████████████████████████████████████████████████████████████████████████████████████████████████████████| 1/1 [00:34<00:00, 34.45s/it]\u001b[A\n"
     ]
    },
    {
     "name": "stdout",
     "output_type": "stream",
     "text": [
      "couldnt JSONify this invalid decimal literal (<unknown>, line 1)\n",
      "it worked!\n"
     ]
    },
    {
     "name": "stderr",
     "output_type": "stream",
     "text": [
      "\n",
      "Processed prompts:   0%|                                                                                                                               | 0/1 [00:00<?, ?it/s]\u001b[A\n",
      "Processed prompts: 100%|███████████████████████████████████████████████████████████████████████████████████████████████████████████████████████| 1/1 [00:31<00:00, 31.00s/it]\u001b[A\n",
      "\n",
      "Processed prompts:   0%|                                                                                                                               | 0/1 [00:00<?, ?it/s]\u001b[A\n",
      "Processed prompts: 100%|███████████████████████████████████████████████████████████████████████████████████████████████████████████████████████| 1/1 [00:35<00:00, 35.56s/it]\u001b[A\n",
      "\n",
      "Processed prompts:   0%|                                                                                                                               | 0/1 [00:00<?, ?it/s]\u001b[A\n",
      "Processed prompts: 100%|███████████████████████████████████████████████████████████████████████████████████████████████████████████████████████| 1/1 [00:23<00:00, 23.67s/it]\u001b[A\n"
     ]
    },
    {
     "name": "stdout",
     "output_type": "stream",
     "text": [
      "couldnt JSONify this invalid decimal literal (<unknown>, line 1)\n",
      "it worked!\n"
     ]
    },
    {
     "name": "stderr",
     "output_type": "stream",
     "text": [
      "\n",
      "Processed prompts:   0%|                                                                                                                               | 0/1 [00:00<?, ?it/s]\u001b[A\n",
      "Processed prompts: 100%|███████████████████████████████████████████████████████████████████████████████████████████████████████████████████████| 1/1 [00:10<00:00, 10.96s/it]\u001b[A\n",
      "\n",
      "Processed prompts:   0%|                                                                                                                               | 0/1 [00:00<?, ?it/s]\u001b[A\n",
      "Processed prompts: 100%|███████████████████████████████████████████████████████████████████████████████████████████████████████████████████████| 1/1 [00:11<00:00, 11.45s/it]\u001b[A\n",
      "\n",
      "Processed prompts:   0%|                                                                                                                               | 0/1 [00:00<?, ?it/s]\u001b[A\n",
      "Processed prompts: 100%|███████████████████████████████████████████████████████████████████████████████████████████████████████████████████████| 1/1 [00:34<00:00, 34.05s/it]\u001b[A\n"
     ]
    },
    {
     "name": "stdout",
     "output_type": "stream",
     "text": [
      "couldnt JSONify this unexpected indent (<unknown>, line 7)\n",
      "Error thrown in JSON converter is Extra data: line 1 column 448 (char 447)\n"
     ]
    },
    {
     "name": "stderr",
     "output_type": "stream",
     "text": [
      "\n",
      "Processed prompts:   0%|                                                                                                                               | 0/1 [00:00<?, ?it/s]\u001b[A\n",
      "Processed prompts: 100%|███████████████████████████████████████████████████████████████████████████████████████████████████████████████████████| 1/1 [00:13<00:00, 13.08s/it]\u001b[A\n",
      "\n",
      "Processed prompts:   0%|                                                                                                                               | 0/1 [00:00<?, ?it/s]\u001b[A\n",
      "Processed prompts: 100%|███████████████████████████████████████████████████████████████████████████████████████████████████████████████████████| 1/1 [00:18<00:00, 18.83s/it]\u001b[A\n",
      "\n",
      "Processed prompts:   0%|                                                                                                                               | 0/1 [00:00<?, ?it/s]\u001b[A\n",
      "Processed prompts: 100%|███████████████████████████████████████████████████████████████████████████████████████████████████████████████████████| 1/1 [00:18<00:00, 18.09s/it]\u001b[A\n",
      "\n",
      "Processed prompts:   0%|                                                                                                                               | 0/1 [00:00<?, ?it/s]\u001b[A\n",
      "Processed prompts: 100%|███████████████████████████████████████████████████████████████████████████████████████████████████████████████████████| 1/1 [00:19<00:00, 19.77s/it]\u001b[A\n",
      "\n",
      "Processed prompts:   0%|                                                                                                                               | 0/1 [00:00<?, ?it/s]\u001b[A\n",
      "Processed prompts: 100%|███████████████████████████████████████████████████████████████████████████████████████████████████████████████████████| 1/1 [00:34<00:00, 34.60s/it]\u001b[A\n",
      "\n",
      "Processed prompts:   0%|                                                                                                                               | 0/1 [00:00<?, ?it/s]\u001b[A\n",
      "Processed prompts: 100%|███████████████████████████████████████████████████████████████████████████████████████████████████████████████████████| 1/1 [00:26<00:00, 26.59s/it]\u001b[A\n",
      "\n",
      "Processed prompts:   0%|                                                                                                                               | 0/1 [00:00<?, ?it/s]\u001b[A\n",
      "Processed prompts: 100%|███████████████████████████████████████████████████████████████████████████████████████████████████████████████████████| 1/1 [00:02<00:00,  2.44s/it]\u001b[A\n"
     ]
    },
    {
     "name": "stdout",
     "output_type": "stream",
     "text": [
      "couldnt JSONify this unexpected indent (<unknown>, line 2)\n",
      "Error thrown in JSON converter is Expecting value: line 2 column 2 (char 2)\n"
     ]
    },
    {
     "name": "stderr",
     "output_type": "stream",
     "text": [
      "\n",
      "Processed prompts:   0%|                                                                                                                               | 0/1 [00:00<?, ?it/s]\u001b[A\n",
      "Processed prompts: 100%|███████████████████████████████████████████████████████████████████████████████████████████████████████████████████████| 1/1 [01:06<00:00, 66.13s/it]\u001b[A\n"
     ]
    },
    {
     "name": "stdout",
     "output_type": "stream",
     "text": [
      "couldnt JSONify this unterminated string literal (detected at line 1) (<unknown>, line 1)\n",
      "Error thrown in JSON converter is Invalid control character at: line 1 column 2796 (char 2795)\n"
     ]
    },
    {
     "name": "stderr",
     "output_type": "stream",
     "text": [
      "\n",
      "Processed prompts:   0%|                                                                                                                               | 0/1 [00:00<?, ?it/s]\u001b[A\n",
      "Processed prompts: 100%|███████████████████████████████████████████████████████████████████████████████████████████████████████████████████████| 1/1 [00:59<00:00, 59.59s/it]\u001b[A\n"
     ]
    },
    {
     "name": "stdout",
     "output_type": "stream",
     "text": [
      "couldnt JSONify this unexpected indent (<unknown>, line 8)\n",
      "Error thrown in JSON converter is Extra data: line 1 column 686 (char 685)\n"
     ]
    },
    {
     "name": "stderr",
     "output_type": "stream",
     "text": [
      "\n",
      "Processed prompts:   0%|                                                                                                                               | 0/1 [00:00<?, ?it/s]\u001b[A\n",
      "Processed prompts: 100%|███████████████████████████████████████████████████████████████████████████████████████████████████████████████████████| 1/1 [00:27<00:00, 27.89s/it]\u001b[A\n",
      "\n",
      "Processed prompts:   0%|                                                                                                                               | 0/1 [00:00<?, ?it/s]\u001b[A\n",
      "Processed prompts: 100%|███████████████████████████████████████████████████████████████████████████████████████████████████████████████████████| 1/1 [00:29<00:00, 29.73s/it]\u001b[A\n",
      "\n",
      "Processed prompts:   0%|                                                                                                                               | 0/1 [00:00<?, ?it/s]\u001b[A\n",
      "Processed prompts: 100%|███████████████████████████████████████████████████████████████████████████████████████████████████████████████████████| 1/1 [00:11<00:00, 11.27s/it]\u001b[A\n"
     ]
    },
    {
     "name": "stdout",
     "output_type": "stream",
     "text": [
      "couldnt JSONify this unterminated string literal (detected at line 1) (<unknown>, line 1)\n",
      "it worked!\n"
     ]
    },
    {
     "name": "stderr",
     "output_type": "stream",
     "text": [
      "\n",
      "Processed prompts:   0%|                                                                                                                               | 0/1 [00:00<?, ?it/s]\u001b[A\n",
      "Processed prompts: 100%|███████████████████████████████████████████████████████████████████████████████████████████████████████████████████████| 1/1 [00:17<00:00, 17.70s/it]\u001b[A\n",
      "\n",
      "Processed prompts:   0%|                                                                                                                               | 0/1 [00:00<?, ?it/s]\u001b[A\n",
      "Processed prompts: 100%|███████████████████████████████████████████████████████████████████████████████████████████████████████████████████████| 1/1 [00:16<00:00, 16.66s/it]\u001b[A\n",
      "\n",
      "Processed prompts:   0%|                                                                                                                               | 0/1 [00:00<?, ?it/s]\u001b[A\n",
      "Processed prompts: 100%|███████████████████████████████████████████████████████████████████████████████████████████████████████████████████████| 1/1 [00:24<00:00, 24.64s/it]\u001b[A\n",
      "\n",
      "Processed prompts:   0%|                                                                                                                               | 0/1 [00:00<?, ?it/s]\u001b[A\n",
      "Processed prompts: 100%|███████████████████████████████████████████████████████████████████████████████████████████████████████████████████████| 1/1 [00:23<00:00, 23.67s/it]\u001b[A\n"
     ]
    },
    {
     "name": "stdout",
     "output_type": "stream",
     "text": [
      "couldnt JSONify this invalid syntax. Perhaps you forgot a comma? (<unknown>, line 1)\n",
      "it worked!\n"
     ]
    },
    {
     "name": "stderr",
     "output_type": "stream",
     "text": [
      "\n",
      "Processed prompts:   0%|                                                                                                                               | 0/1 [00:00<?, ?it/s]\u001b[A\n",
      "Processed prompts: 100%|███████████████████████████████████████████████████████████████████████████████████████████████████████████████████████| 1/1 [00:06<00:00,  6.87s/it]\u001b[A\n",
      "\n",
      "Processed prompts:   0%|                                                                                                                               | 0/1 [00:00<?, ?it/s]\u001b[A\n",
      "Processed prompts: 100%|███████████████████████████████████████████████████████████████████████████████████████████████████████████████████████| 1/1 [00:15<00:00, 15.72s/it]\u001b[A\n",
      "\n",
      "Processed prompts:   0%|                                                                                                                               | 0/1 [00:00<?, ?it/s]\u001b[A\n",
      "Processed prompts: 100%|███████████████████████████████████████████████████████████████████████████████████████████████████████████████████████| 1/1 [00:20<00:00, 20.04s/it]\u001b[A\n",
      "\n",
      "Processed prompts:   0%|                                                                                                                               | 0/1 [00:00<?, ?it/s]\u001b[A\n",
      "Processed prompts: 100%|███████████████████████████████████████████████████████████████████████████████████████████████████████████████████████| 1/1 [00:38<00:00, 38.35s/it]\u001b[A\n"
     ]
    },
    {
     "name": "stdout",
     "output_type": "stream",
     "text": [
      "couldnt JSONify this unexpected indent (<unknown>, line 8)\n",
      "Error thrown in JSON converter is Extra data: line 1 column 363 (char 362)\n"
     ]
    },
    {
     "name": "stderr",
     "output_type": "stream",
     "text": [
      "\n",
      "Processed prompts:   0%|                                                                                                                               | 0/1 [00:00<?, ?it/s]\u001b[A\n",
      "Processed prompts: 100%|███████████████████████████████████████████████████████████████████████████████████████████████████████████████████████| 1/1 [00:16<00:00, 16.65s/it]\u001b[A\n",
      "\n",
      "Processed prompts:   0%|                                                                                                                               | 0/1 [00:00<?, ?it/s]\u001b[A\n",
      "Processed prompts: 100%|███████████████████████████████████████████████████████████████████████████████████████████████████████████████████████| 1/1 [00:20<00:00, 20.56s/it]\u001b[A\n"
     ]
    },
    {
     "name": "stdout",
     "output_type": "stream",
     "text": [
      "couldnt JSONify this unexpected indent (<unknown>, line 8)\n",
      "Error thrown in JSON converter is Extra data: line 1 column 719 (char 718)\n"
     ]
    },
    {
     "name": "stderr",
     "output_type": "stream",
     "text": [
      "\n",
      "Processed prompts:   0%|                                                                                                                               | 0/1 [00:00<?, ?it/s]\u001b[A\n",
      "Processed prompts: 100%|███████████████████████████████████████████████████████████████████████████████████████████████████████████████████████| 1/1 [00:18<00:00, 18.94s/it]\u001b[A\n",
      "\n",
      "Processed prompts:   0%|                                                                                                                               | 0/1 [00:00<?, ?it/s]\u001b[A\n",
      "Processed prompts: 100%|███████████████████████████████████████████████████████████████████████████████████████████████████████████████████████| 1/1 [00:08<00:00,  8.42s/it]\u001b[A\n"
     ]
    },
    {
     "name": "stdout",
     "output_type": "stream",
     "text": [
      "couldnt JSONify this unexpected indent (<unknown>, line 2)\n",
      "Error thrown in JSON converter is Expecting value: line 2 column 2 (char 2)\n"
     ]
    },
    {
     "name": "stderr",
     "output_type": "stream",
     "text": [
      "\n",
      "Processed prompts:   0%|                                                                                                                               | 0/1 [00:00<?, ?it/s]\u001b[A\n",
      "Processed prompts: 100%|███████████████████████████████████████████████████████████████████████████████████████████████████████████████████████| 1/1 [00:22<00:00, 22.62s/it]\u001b[A\n"
     ]
    },
    {
     "name": "stdout",
     "output_type": "stream",
     "text": [
      "couldnt JSONify this unterminated string literal (detected at line 1) (<unknown>, line 1)\n",
      "it worked!\n"
     ]
    },
    {
     "name": "stderr",
     "output_type": "stream",
     "text": [
      "\n",
      "Processed prompts:   0%|                                                                                                                               | 0/1 [00:00<?, ?it/s]\u001b[A\n",
      "Processed prompts: 100%|███████████████████████████████████████████████████████████████████████████████████████████████████████████████████████| 1/1 [00:26<00:00, 26.78s/it]\u001b[A\n",
      "\n",
      "Processed prompts:   0%|                                                                                                                               | 0/1 [00:00<?, ?it/s]\u001b[A\n",
      "Processed prompts: 100%|███████████████████████████████████████████████████████████████████████████████████████████████████████████████████████| 1/1 [00:16<00:00, 16.13s/it]\u001b[A\n",
      "\n",
      "Processed prompts:   0%|                                                                                                                               | 0/1 [00:00<?, ?it/s]\u001b[A\n",
      "Processed prompts: 100%|███████████████████████████████████████████████████████████████████████████████████████████████████████████████████████| 1/1 [00:47<00:00, 47.39s/it]\u001b[A\n",
      "\n",
      "Processed prompts:   0%|                                                                                                                               | 0/1 [00:00<?, ?it/s]\u001b[A\n",
      "Processed prompts: 100%|███████████████████████████████████████████████████████████████████████████████████████████████████████████████████████| 1/1 [00:20<00:00, 20.29s/it]\u001b[A\n",
      "\n",
      "Processed prompts:   0%|                                                                                                                               | 0/1 [00:00<?, ?it/s]\u001b[A\n",
      "Processed prompts: 100%|███████████████████████████████████████████████████████████████████████████████████████████████████████████████████████| 1/1 [01:39<00:00, 99.15s/it]\u001b[A\n"
     ]
    },
    {
     "name": "stdout",
     "output_type": "stream",
     "text": [
      "couldnt JSONify this unexpected indent (<unknown>, line 7)\n",
      "Error thrown in JSON converter is Extra data: line 1 column 603 (char 602)\n"
     ]
    },
    {
     "name": "stderr",
     "output_type": "stream",
     "text": [
      "\n",
      "Processed prompts:   0%|                                                                                                                               | 0/1 [00:00<?, ?it/s]\u001b[A\n",
      "Processed prompts: 100%|███████████████████████████████████████████████████████████████████████████████████████████████████████████████████████| 1/1 [00:13<00:00, 13.89s/it]\u001b[A\n",
      "\n",
      "Processed prompts:   0%|                                                                                                                               | 0/1 [00:00<?, ?it/s]\u001b[A\n",
      "Processed prompts: 100%|███████████████████████████████████████████████████████████████████████████████████████████████████████████████████████| 1/1 [00:27<00:00, 27.91s/it]\u001b[A\n",
      "\n",
      "Processed prompts:   0%|                                                                                                                               | 0/1 [00:00<?, ?it/s]\u001b[A\n",
      "Processed prompts: 100%|███████████████████████████████████████████████████████████████████████████████████████████████████████████████████████| 1/1 [00:29<00:00, 29.25s/it]\u001b[A\n"
     ]
    },
    {
     "name": "stdout",
     "output_type": "stream",
     "text": [
      "couldnt JSONify this unterminated string literal (detected at line 1) (<unknown>, line 1)\n",
      "it worked!\n"
     ]
    },
    {
     "name": "stderr",
     "output_type": "stream",
     "text": [
      "\n",
      "Processed prompts:   0%|                                                                                                                               | 0/1 [00:00<?, ?it/s]\u001b[A\n",
      "Processed prompts: 100%|███████████████████████████████████████████████████████████████████████████████████████████████████████████████████████| 1/1 [00:16<00:00, 16.58s/it]\u001b[A\n",
      "\n",
      "Processed prompts:   0%|                                                                                                                               | 0/1 [00:00<?, ?it/s]\u001b[A\n",
      "Processed prompts: 100%|███████████████████████████████████████████████████████████████████████████████████████████████████████████████████████| 1/1 [00:46<00:00, 46.87s/it]\u001b[A\n"
     ]
    },
    {
     "name": "stdout",
     "output_type": "stream",
     "text": [
      "couldnt JSONify this unexpected indent (<unknown>, line 7)\n",
      "Error thrown in JSON converter is Extra data: line 1 column 690 (char 689)\n"
     ]
    },
    {
     "name": "stderr",
     "output_type": "stream",
     "text": [
      "\n",
      "Processed prompts:   0%|                                                                                                                               | 0/1 [00:00<?, ?it/s]\u001b[A\n",
      "Processed prompts: 100%|███████████████████████████████████████████████████████████████████████████████████████████████████████████████████████| 1/1 [00:19<00:00, 19.81s/it]\u001b[A\n"
     ]
    },
    {
     "name": "stdout",
     "output_type": "stream",
     "text": [
      "couldnt JSONify this invalid syntax. Perhaps you forgot a comma? (<unknown>, line 1)\n",
      "it worked!\n"
     ]
    },
    {
     "name": "stderr",
     "output_type": "stream",
     "text": [
      "\n",
      "Processed prompts:   0%|                                                                                                                               | 0/1 [00:00<?, ?it/s]\u001b[A\n",
      "Processed prompts: 100%|███████████████████████████████████████████████████████████████████████████████████████████████████████████████████████| 1/1 [00:15<00:00, 15.69s/it]\u001b[A\n",
      "\n",
      "Processed prompts:   0%|                                                                                                                               | 0/1 [00:00<?, ?it/s]\u001b[A\n",
      "Processed prompts: 100%|███████████████████████████████████████████████████████████████████████████████████████████████████████████████████████| 1/1 [00:33<00:00, 33.03s/it]\u001b[A\n",
      "\n",
      "Processed prompts:   0%|                                                                                                                               | 0/1 [00:00<?, ?it/s]\u001b[A\n",
      "Processed prompts: 100%|███████████████████████████████████████████████████████████████████████████████████████████████████████████████████████| 1/1 [00:19<00:00, 19.04s/it]\u001b[A\n"
     ]
    },
    {
     "name": "stdout",
     "output_type": "stream",
     "text": [
      "couldnt JSONify this unexpected indent (<unknown>, line 2)\n",
      "Error thrown in JSON converter is Expecting value: line 2 column 6 (char 6)\n"
     ]
    },
    {
     "name": "stderr",
     "output_type": "stream",
     "text": [
      "\n",
      "Processed prompts:   0%|                                                                                                                               | 0/1 [00:00<?, ?it/s]\u001b[A\n",
      "Processed prompts: 100%|███████████████████████████████████████████████████████████████████████████████████████████████████████████████████████| 1/1 [00:12<00:00, 12.54s/it]\u001b[A\n",
      "\n",
      "Processed prompts:   0%|                                                                                                                               | 0/1 [00:00<?, ?it/s]\u001b[A\n",
      "Processed prompts: 100%|███████████████████████████████████████████████████████████████████████████████████████████████████████████████████████| 1/1 [00:14<00:00, 14.55s/it]\u001b[A\n"
     ]
    },
    {
     "name": "stdout",
     "output_type": "stream",
     "text": [
      "couldnt JSONify this unterminated string literal (detected at line 6) (<unknown>, line 6)\n",
      "Error thrown in JSON converter is Invalid control character at: line 1 column 952 (char 951)\n"
     ]
    },
    {
     "name": "stderr",
     "output_type": "stream",
     "text": [
      "\n",
      "Processed prompts:   0%|                                                                                                                               | 0/1 [00:00<?, ?it/s]\u001b[A\n",
      "Processed prompts: 100%|███████████████████████████████████████████████████████████████████████████████████████████████████████████████████████| 1/1 [00:11<00:00, 11.15s/it]\u001b[A\n"
     ]
    },
    {
     "name": "stdout",
     "output_type": "stream",
     "text": [
      "couldnt JSONify this unterminated string literal (detected at line 1) (<unknown>, line 1)\n",
      "it worked!\n"
     ]
    },
    {
     "name": "stderr",
     "output_type": "stream",
     "text": [
      "\n",
      "Processed prompts:   0%|                                                                                                                               | 0/1 [00:00<?, ?it/s]\u001b[A\n",
      "Processed prompts: 100%|███████████████████████████████████████████████████████████████████████████████████████████████████████████████████████| 1/1 [00:18<00:00, 18.94s/it]\u001b[A\n",
      "\n",
      "Processed prompts:   0%|                                                                                                                               | 0/1 [00:00<?, ?it/s]\u001b[A\n",
      "Processed prompts: 100%|███████████████████████████████████████████████████████████████████████████████████████████████████████████████████████| 1/1 [00:23<00:00, 23.96s/it]\u001b[A\n"
     ]
    },
    {
     "name": "stdout",
     "output_type": "stream",
     "text": [
      "couldnt JSONify this unterminated string literal (detected at line 6) (<unknown>, line 6)\n",
      "Error thrown in JSON converter is Extra data: line 1 column 1622 (char 1621)\n"
     ]
    },
    {
     "name": "stderr",
     "output_type": "stream",
     "text": [
      "\n",
      "Processed prompts:   0%|                                                                                                                               | 0/1 [00:00<?, ?it/s]\u001b[A\n",
      "Processed prompts: 100%|███████████████████████████████████████████████████████████████████████████████████████████████████████████████████████| 1/1 [00:12<00:00, 12.19s/it]\u001b[A\n"
     ]
    },
    {
     "name": "stdout",
     "output_type": "stream",
     "text": [
      "couldnt JSONify this unmatched '}' (<unknown>, line 2)\n",
      "Error thrown in JSON converter is Extra data: line 2 column 1 (char 956)\n"
     ]
    },
    {
     "name": "stderr",
     "output_type": "stream",
     "text": [
      "\n",
      "Processed prompts:   0%|                                                                                                                               | 0/1 [00:00<?, ?it/s]\u001b[A\n",
      "Processed prompts: 100%|███████████████████████████████████████████████████████████████████████████████████████████████████████████████████████| 1/1 [00:26<00:00, 26.29s/it]\u001b[A\n"
     ]
    },
    {
     "name": "stdout",
     "output_type": "stream",
     "text": [
      "couldnt JSONify this unmatched ']' (<unknown>, line 7)\n",
      "Error thrown in JSON converter is Extra data: line 1 column 1989 (char 1988)\n"
     ]
    },
    {
     "name": "stderr",
     "output_type": "stream",
     "text": [
      "\n",
      "Processed prompts:   0%|                                                                                                                               | 0/1 [00:00<?, ?it/s]\u001b[A\n",
      "Processed prompts: 100%|███████████████████████████████████████████████████████████████████████████████████████████████████████████████████████| 1/1 [00:35<00:00, 35.95s/it]\u001b[A\n"
     ]
    },
    {
     "name": "stdout",
     "output_type": "stream",
     "text": [
      "couldnt JSONify this unexpected indent (<unknown>, line 7)\n",
      "Error thrown in JSON converter is Extra data: line 1 column 767 (char 766)\n"
     ]
    },
    {
     "name": "stderr",
     "output_type": "stream",
     "text": [
      "\n",
      "Processed prompts:   0%|                                                                                                                               | 0/1 [00:00<?, ?it/s]\u001b[A\n",
      "Processed prompts: 100%|███████████████████████████████████████████████████████████████████████████████████████████████████████████████████████| 1/1 [00:24<00:00, 24.65s/it]\u001b[A\n",
      "\n",
      "Processed prompts:   0%|                                                                                                                               | 0/1 [00:00<?, ?it/s]\u001b[A\n",
      "Processed prompts: 100%|███████████████████████████████████████████████████████████████████████████████████████████████████████████████████████| 1/1 [00:10<00:00, 10.42s/it]\u001b[A\n",
      "\n",
      "Processed prompts:   0%|                                                                                                                               | 0/1 [00:00<?, ?it/s]\u001b[A\n",
      "Processed prompts: 100%|███████████████████████████████████████████████████████████████████████████████████████████████████████████████████████| 1/1 [00:02<00:00,  2.34s/it]\u001b[A\n",
      "\n",
      "Processed prompts:   0%|                                                                                                                               | 0/1 [00:00<?, ?it/s]\u001b[A\n",
      "Processed prompts: 100%|███████████████████████████████████████████████████████████████████████████████████████████████████████████████████████| 1/1 [00:13<00:00, 13.52s/it]\u001b[A\n",
      "\n",
      "Processed prompts:   0%|                                                                                                                               | 0/1 [00:00<?, ?it/s]\u001b[A\n",
      "Processed prompts: 100%|███████████████████████████████████████████████████████████████████████████████████████████████████████████████████████| 1/1 [00:38<00:00, 38.83s/it]\u001b[A\n",
      "\n",
      "Processed prompts:   0%|                                                                                                                               | 0/1 [00:00<?, ?it/s]\u001b[A\n",
      "Processed prompts: 100%|███████████████████████████████████████████████████████████████████████████████████████████████████████████████████████| 1/1 [00:09<00:00,  9.16s/it]\u001b[A\n",
      "\n",
      "Processed prompts:   0%|                                                                                                                               | 0/1 [00:00<?, ?it/s]\u001b[A\n",
      "Processed prompts: 100%|███████████████████████████████████████████████████████████████████████████████████████████████████████████████████████| 1/1 [00:15<00:00, 15.45s/it]\u001b[A\n"
     ]
    },
    {
     "name": "stdout",
     "output_type": "stream",
     "text": [
      "couldnt JSONify this unterminated string literal (detected at line 1) (<unknown>, line 1)\n",
      "it worked!\n"
     ]
    },
    {
     "name": "stderr",
     "output_type": "stream",
     "text": [
      "\n",
      "Processed prompts:   0%|                                                                                                                               | 0/1 [00:00<?, ?it/s]\u001b[A\n",
      "Processed prompts: 100%|███████████████████████████████████████████████████████████████████████████████████████████████████████████████████████| 1/1 [00:11<00:00, 11.81s/it]\u001b[A\n"
     ]
    },
    {
     "name": "stdout",
     "output_type": "stream",
     "text": [
      "couldnt JSONify this unexpected indent (<unknown>, line 8)\n",
      "Error thrown in JSON converter is Extra data: line 1 column 1304 (char 1303)\n"
     ]
    },
    {
     "name": "stderr",
     "output_type": "stream",
     "text": [
      "\n",
      "Processed prompts:   0%|                                                                                                                               | 0/1 [00:00<?, ?it/s]\u001b[A\n",
      "Processed prompts: 100%|███████████████████████████████████████████████████████████████████████████████████████████████████████████████████████| 1/1 [00:25<00:00, 25.68s/it]\u001b[A\n",
      "\n",
      "Processed prompts:   0%|                                                                                                                               | 0/1 [00:00<?, ?it/s]\u001b[A\n",
      "Processed prompts: 100%|███████████████████████████████████████████████████████████████████████████████████████████████████████████████████████| 1/1 [00:11<00:00, 11.04s/it]\u001b[A\n",
      "\n",
      "Processed prompts:   0%|                                                                                                                               | 0/1 [00:00<?, ?it/s]\u001b[A\n",
      "Processed prompts: 100%|███████████████████████████████████████████████████████████████████████████████████████████████████████████████████████| 1/1 [01:34<00:00, 94.53s/it]\u001b[A\n"
     ]
    },
    {
     "name": "stdout",
     "output_type": "stream",
     "text": [
      "couldnt JSONify this unexpected indent (<unknown>, line 7)\n",
      "Error thrown in JSON converter is Extra data: line 1 column 1039 (char 1038)\n"
     ]
    },
    {
     "name": "stderr",
     "output_type": "stream",
     "text": [
      "\n",
      "Processed prompts:   0%|                                                                                                                               | 0/1 [00:00<?, ?it/s]\u001b[A\n",
      "Processed prompts: 100%|███████████████████████████████████████████████████████████████████████████████████████████████████████████████████████| 1/1 [00:13<00:00, 13.10s/it]\u001b[A\n",
      "\n",
      "Processed prompts:   0%|                                                                                                                               | 0/1 [00:00<?, ?it/s]\u001b[A\n",
      "Processed prompts: 100%|███████████████████████████████████████████████████████████████████████████████████████████████████████████████████████| 1/1 [00:32<00:00, 32.71s/it]\u001b[A\n"
     ]
    },
    {
     "name": "stdout",
     "output_type": "stream",
     "text": [
      "couldnt JSONify this invalid syntax. Perhaps you forgot a comma? (<unknown>, line 1)\n",
      "it worked!\n"
     ]
    },
    {
     "name": "stderr",
     "output_type": "stream",
     "text": [
      "\n",
      "Processed prompts:   0%|                                                                                                                               | 0/1 [00:00<?, ?it/s]\u001b[A\n",
      "Processed prompts: 100%|███████████████████████████████████████████████████████████████████████████████████████████████████████████████████████| 1/1 [00:23<00:00, 23.00s/it]\u001b[A\n",
      "\n",
      "Processed prompts:   0%|                                                                                                                               | 0/1 [00:00<?, ?it/s]\u001b[A\n",
      "Processed prompts: 100%|███████████████████████████████████████████████████████████████████████████████████████████████████████████████████████| 1/1 [00:20<00:00, 20.02s/it]\u001b[A\n"
     ]
    },
    {
     "name": "stdout",
     "output_type": "stream",
     "text": [
      "couldnt JSONify this unterminated string literal (detected at line 6) (<unknown>, line 6)\n",
      "Error thrown in JSON converter is Extra data: line 1 column 1151 (char 1150)\n"
     ]
    },
    {
     "name": "stderr",
     "output_type": "stream",
     "text": [
      "\n",
      "Processed prompts:   0%|                                                                                                                               | 0/1 [00:00<?, ?it/s]\u001b[A\n",
      "Processed prompts: 100%|███████████████████████████████████████████████████████████████████████████████████████████████████████████████████████| 1/1 [00:39<00:00, 39.39s/it]\u001b[A\n",
      "\n",
      "Processed prompts:   0%|                                                                                                                               | 0/1 [00:00<?, ?it/s]\u001b[A\n",
      "Processed prompts: 100%|███████████████████████████████████████████████████████████████████████████████████████████████████████████████████████| 1/1 [00:39<00:00, 39.00s/it]\u001b[A\n",
      "\n",
      "Processed prompts:   0%|                                                                                                                               | 0/1 [00:00<?, ?it/s]\u001b[A\n",
      "Processed prompts: 100%|███████████████████████████████████████████████████████████████████████████████████████████████████████████████████████| 1/1 [00:37<00:00, 37.27s/it]\u001b[A\n",
      "\n",
      "Processed prompts:   0%|                                                                                                                               | 0/1 [00:00<?, ?it/s]\u001b[A\n",
      "Processed prompts: 100%|███████████████████████████████████████████████████████████████████████████████████████████████████████████████████████| 1/1 [00:48<00:00, 48.18s/it]\u001b[A\n"
     ]
    },
    {
     "name": "stdout",
     "output_type": "stream",
     "text": [
      "couldnt JSONify this unexpected indent (<unknown>, line 8)\n",
      "Error thrown in JSON converter is Extra data: line 1 column 1755 (char 1754)\n"
     ]
    },
    {
     "name": "stderr",
     "output_type": "stream",
     "text": [
      "\n",
      "Processed prompts:   0%|                                                                                                                               | 0/1 [00:00<?, ?it/s]\u001b[A\n",
      "Processed prompts: 100%|███████████████████████████████████████████████████████████████████████████████████████████████████████████████████████| 1/1 [00:13<00:00, 13.12s/it]\u001b[A\n",
      "\n",
      "Processed prompts:   0%|                                                                                                                               | 0/1 [00:00<?, ?it/s]\u001b[A\n",
      "Processed prompts: 100%|███████████████████████████████████████████████████████████████████████████████████████████████████████████████████████| 1/1 [00:16<00:00, 16.74s/it]\u001b[A\n",
      "\n",
      "Processed prompts:   0%|                                                                                                                               | 0/1 [00:00<?, ?it/s]\u001b[A\n",
      "Processed prompts: 100%|███████████████████████████████████████████████████████████████████████████████████████████████████████████████████████| 1/1 [00:06<00:00,  6.59s/it]\u001b[A\n"
     ]
    },
    {
     "name": "stdout",
     "output_type": "stream",
     "text": [
      "couldnt JSONify this unexpected indent (<unknown>, line 2)\n",
      "Error thrown in JSON converter is Expecting value: line 2 column 2 (char 2)\n"
     ]
    },
    {
     "name": "stderr",
     "output_type": "stream",
     "text": [
      "\n",
      "Processed prompts:   0%|                                                                                                                               | 0/1 [00:00<?, ?it/s]\u001b[A\n",
      "Processed prompts: 100%|███████████████████████████████████████████████████████████████████████████████████████████████████████████████████████| 1/1 [00:14<00:00, 14.03s/it]\u001b[A\n",
      "\n",
      "Processed prompts:   0%|                                                                                                                               | 0/1 [00:00<?, ?it/s]\u001b[A\n",
      "Processed prompts: 100%|███████████████████████████████████████████████████████████████████████████████████████████████████████████████████████| 1/1 [00:28<00:00, 28.21s/it]\u001b[A\n",
      "\n",
      "Processed prompts:   0%|                                                                                                                               | 0/1 [00:00<?, ?it/s]\u001b[A\n",
      "Processed prompts: 100%|███████████████████████████████████████████████████████████████████████████████████████████████████████████████████████| 1/1 [00:16<00:00, 16.28s/it]\u001b[A\n",
      "\n",
      "Processed prompts:   0%|                                                                                                                               | 0/1 [00:00<?, ?it/s]\u001b[A\n",
      "Processed prompts: 100%|███████████████████████████████████████████████████████████████████████████████████████████████████████████████████████| 1/1 [00:11<00:00, 11.60s/it]\u001b[A\n"
     ]
    },
    {
     "name": "stdout",
     "output_type": "stream",
     "text": [
      "couldnt JSONify this unterminated string literal (detected at line 1) (<unknown>, line 1)\n",
      "Error thrown in JSON converter is Invalid control character at: line 1 column 1011 (char 1010)\n"
     ]
    },
    {
     "name": "stderr",
     "output_type": "stream",
     "text": [
      "\n",
      "Processed prompts:   0%|                                                                                                                               | 0/1 [00:00<?, ?it/s]\u001b[A\n",
      "Processed prompts: 100%|███████████████████████████████████████████████████████████████████████████████████████████████████████████████████████| 1/1 [00:38<00:00, 38.18s/it]\u001b[A\n"
     ]
    },
    {
     "name": "stdout",
     "output_type": "stream",
     "text": [
      "couldnt JSONify this unterminated string literal (detected at line 1) (<unknown>, line 1)\n",
      "it worked!\n"
     ]
    },
    {
     "name": "stderr",
     "output_type": "stream",
     "text": [
      "\n",
      "Processed prompts:   0%|                                                                                                                               | 0/1 [00:00<?, ?it/s]\u001b[A\n",
      "Processed prompts: 100%|███████████████████████████████████████████████████████████████████████████████████████████████████████████████████████| 1/1 [00:31<00:00, 31.34s/it]\u001b[A\n",
      "\n",
      "Processed prompts:   0%|                                                                                                                               | 0/1 [00:00<?, ?it/s]\u001b[A\n",
      "Processed prompts: 100%|███████████████████████████████████████████████████████████████████████████████████████████████████████████████████████| 1/1 [00:10<00:00, 10.45s/it]\u001b[A\n"
     ]
    },
    {
     "name": "stdout",
     "output_type": "stream",
     "text": [
      "couldnt JSONify this unexpected indent (<unknown>, line 8)\n",
      "Error thrown in JSON converter is Extra data: line 1 column 895 (char 894)\n"
     ]
    },
    {
     "name": "stderr",
     "output_type": "stream",
     "text": [
      "\n",
      "Processed prompts:   0%|                                                                                                                               | 0/1 [00:00<?, ?it/s]\u001b[A\n",
      "Processed prompts: 100%|███████████████████████████████████████████████████████████████████████████████████████████████████████████████████████| 1/1 [00:29<00:00, 29.88s/it]\u001b[A\n",
      "\n",
      "Processed prompts:   0%|                                                                                                                               | 0/1 [00:00<?, ?it/s]\u001b[A\n",
      "Processed prompts: 100%|███████████████████████████████████████████████████████████████████████████████████████████████████████████████████████| 1/1 [00:43<00:00, 43.37s/it]\u001b[A\n",
      "\n",
      "Processed prompts:   0%|                                                                                                                               | 0/1 [00:00<?, ?it/s]\u001b[A"
     ]
    },
    {
     "name": "stdout",
     "output_type": "stream",
     "text": [
      "WARNING 01-19 11:04:20 scheduler.py:147] Input prompt (5183 tokens) is too long and exceeds limit of 4096\n"
     ]
    },
    {
     "name": "stderr",
     "output_type": "stream",
     "text": [
      "Processed prompts: 100%|█████████████████████████████████████████████████████████████████████████████████████████████████████████████████████| 1/1 [00:00<00:00, 2072.28it/s]\n"
     ]
    },
    {
     "name": "stdout",
     "output_type": "stream",
     "text": [
      "couldnt JSONify this invalid syntax (<unknown>, line 0)\n",
      "Error thrown in JSON converter is Expecting value: line 1 column 1 (char 0)\n"
     ]
    },
    {
     "name": "stderr",
     "output_type": "stream",
     "text": [
      "\n",
      "Processed prompts:   0%|                                                                                                                               | 0/1 [00:00<?, ?it/s]\u001b[A\n",
      "Processed prompts: 100%|███████████████████████████████████████████████████████████████████████████████████████████████████████████████████████| 1/1 [00:25<00:00, 25.50s/it]\u001b[A\n"
     ]
    },
    {
     "name": "stdout",
     "output_type": "stream",
     "text": [
      "couldnt JSONify this unmatched ']' (<unknown>, line 6)\n",
      "Error thrown in JSON converter is Extra data: line 1 column 1139 (char 1138)\n"
     ]
    },
    {
     "name": "stderr",
     "output_type": "stream",
     "text": [
      "\n",
      "Processed prompts:   0%|                                                                                                                               | 0/1 [00:00<?, ?it/s]\u001b[A\n",
      "Processed prompts: 100%|███████████████████████████████████████████████████████████████████████████████████████████████████████████████████████| 1/1 [00:17<00:00, 17.05s/it]\u001b[A\n",
      "\n",
      "Processed prompts:   0%|                                                                                                                               | 0/1 [00:00<?, ?it/s]\u001b[A\n",
      "Processed prompts: 100%|███████████████████████████████████████████████████████████████████████████████████████████████████████████████████████| 1/1 [00:16<00:00, 16.98s/it]\u001b[A\n"
     ]
    },
    {
     "name": "stdout",
     "output_type": "stream",
     "text": [
      "couldnt JSONify this unterminated string literal (detected at line 6) (<unknown>, line 6)\n",
      "Error thrown in JSON converter is Unterminated string starting at: line 1 column 132 (char 131)\n"
     ]
    },
    {
     "name": "stderr",
     "output_type": "stream",
     "text": [
      "\n",
      "Processed prompts:   0%|                                                                                                                               | 0/1 [00:00<?, ?it/s]\u001b[A\n",
      "Processed prompts: 100%|███████████████████████████████████████████████████████████████████████████████████████████████████████████████████████| 1/1 [00:47<00:00, 48.00s/it]\u001b[A\n"
     ]
    },
    {
     "name": "stdout",
     "output_type": "stream",
     "text": [
      "couldnt JSONify this unexpected indent (<unknown>, line 7)\n",
      "Error thrown in JSON converter is Extra data: line 1 column 293 (char 292)\n"
     ]
    },
    {
     "name": "stderr",
     "output_type": "stream",
     "text": [
      "\n",
      "Processed prompts:   0%|                                                                                                                               | 0/1 [00:00<?, ?it/s]\u001b[A\n",
      "Processed prompts: 100%|███████████████████████████████████████████████████████████████████████████████████████████████████████████████████████| 1/1 [00:09<00:00,  9.99s/it]\u001b[A\n",
      "\n",
      "Processed prompts:   0%|                                                                                                                               | 0/1 [00:00<?, ?it/s]\u001b[A\n",
      "Processed prompts: 100%|███████████████████████████████████████████████████████████████████████████████████████████████████████████████████████| 1/1 [00:16<00:00, 16.58s/it]\u001b[A\n"
     ]
    },
    {
     "name": "stdout",
     "output_type": "stream",
     "text": [
      "couldnt JSONify this unexpected indent (<unknown>, line 8)\n",
      "Error thrown in JSON converter is Extra data: line 1 column 421 (char 420)\n"
     ]
    },
    {
     "name": "stderr",
     "output_type": "stream",
     "text": [
      "\n",
      "Processed prompts:   0%|                                                                                                                               | 0/1 [00:00<?, ?it/s]\u001b[A\n",
      "Processed prompts: 100%|███████████████████████████████████████████████████████████████████████████████████████████████████████████████████████| 1/1 [00:14<00:00, 14.93s/it]\u001b[A\n"
     ]
    },
    {
     "name": "stdout",
     "output_type": "stream",
     "text": [
      "couldnt JSONify this unexpected indent (<unknown>, line 2)\n",
      "Error thrown in JSON converter is Expecting value: line 2 column 2 (char 2)\n"
     ]
    },
    {
     "name": "stderr",
     "output_type": "stream",
     "text": [
      "\n",
      "Processed prompts:   0%|                                                                                                                               | 0/1 [00:00<?, ?it/s]\u001b[A\n",
      "Processed prompts: 100%|███████████████████████████████████████████████████████████████████████████████████████████████████████████████████████| 1/1 [00:16<00:00, 16.68s/it]\u001b[A\n"
     ]
    },
    {
     "name": "stdout",
     "output_type": "stream",
     "text": [
      "couldnt JSONify this unexpected indent (<unknown>, line 7)\n",
      "Error thrown in JSON converter is Extra data: line 1 column 383 (char 382)\n"
     ]
    },
    {
     "name": "stderr",
     "output_type": "stream",
     "text": [
      "\n",
      "Processed prompts:   0%|                                                                                                                               | 0/1 [00:00<?, ?it/s]\u001b[A"
     ]
    },
    {
     "name": "stdout",
     "output_type": "stream",
     "text": [
      "WARNING 01-19 11:07:06 scheduler.py:147] Input prompt (6101 tokens) is too long and exceeds limit of 4096\n"
     ]
    },
    {
     "name": "stderr",
     "output_type": "stream",
     "text": [
      "Processed prompts: 100%|█████████████████████████████████████████████████████████████████████████████████████████████████████████████████████| 1/1 [00:00<00:00, 1991.60it/s]\n"
     ]
    },
    {
     "name": "stdout",
     "output_type": "stream",
     "text": [
      "couldnt JSONify this invalid syntax (<unknown>, line 0)\n",
      "Error thrown in JSON converter is Expecting value: line 1 column 1 (char 0)\n"
     ]
    },
    {
     "name": "stderr",
     "output_type": "stream",
     "text": [
      "\n",
      "Processed prompts:   0%|                                                                                                                               | 0/1 [00:00<?, ?it/s]\u001b[A\n",
      "Processed prompts: 100%|███████████████████████████████████████████████████████████████████████████████████████████████████████████████████████| 1/1 [00:40<00:00, 40.31s/it]\u001b[A\n"
     ]
    },
    {
     "name": "stdout",
     "output_type": "stream",
     "text": [
      "couldnt JSONify this unterminated string literal (detected at line 1) (<unknown>, line 1)\n",
      "Error thrown in JSON converter is Unterminated string starting at: line 1 column 4646 (char 4645)\n"
     ]
    },
    {
     "name": "stderr",
     "output_type": "stream",
     "text": [
      "\n",
      "Processed prompts:   0%|                                                                                                                               | 0/1 [00:00<?, ?it/s]\u001b[A\n",
      "Processed prompts: 100%|███████████████████████████████████████████████████████████████████████████████████████████████████████████████████████| 1/1 [00:29<00:00, 29.09s/it]\u001b[A\n",
      "\n",
      "Processed prompts:   0%|                                                                                                                               | 0/1 [00:00<?, ?it/s]\u001b[A\n",
      "Processed prompts: 100%|███████████████████████████████████████████████████████████████████████████████████████████████████████████████████████| 1/1 [00:45<00:00, 45.53s/it]\u001b[A\n",
      "\n",
      "Processed prompts:   0%|                                                                                                                               | 0/1 [00:00<?, ?it/s]\u001b[A\n",
      "Processed prompts: 100%|███████████████████████████████████████████████████████████████████████████████████████████████████████████████████████| 1/1 [00:33<00:00, 33.79s/it]\u001b[A\n"
     ]
    },
    {
     "name": "stdout",
     "output_type": "stream",
     "text": [
      "couldnt JSONify this unmatched ']' (<unknown>, line 8)\n",
      "Error thrown in JSON converter is Extra data: line 1 column 1555 (char 1554)\n"
     ]
    },
    {
     "name": "stderr",
     "output_type": "stream",
     "text": [
      "\n",
      "Processed prompts:   0%|                                                                                                                               | 0/1 [00:00<?, ?it/s]\u001b[A\n",
      "Processed prompts: 100%|███████████████████████████████████████████████████████████████████████████████████████████████████████████████████████| 1/1 [00:09<00:00,  9.38s/it]\u001b[A\n"
     ]
    },
    {
     "name": "stdout",
     "output_type": "stream",
     "text": [
      "couldnt JSONify this unexpected indent (<unknown>, line 8)\n",
      "Error thrown in JSON converter is Extra data: line 1 column 444 (char 443)\n"
     ]
    },
    {
     "name": "stderr",
     "output_type": "stream",
     "text": [
      "\n",
      "Processed prompts:   0%|                                                                                                                               | 0/1 [00:00<?, ?it/s]\u001b[A\n",
      "Processed prompts: 100%|███████████████████████████████████████████████████████████████████████████████████████████████████████████████████████| 1/1 [00:21<00:00, 21.25s/it]\u001b[A\n",
      "\n",
      "Processed prompts:   0%|                                                                                                                               | 0/1 [00:00<?, ?it/s]\u001b[A\n",
      "Processed prompts: 100%|███████████████████████████████████████████████████████████████████████████████████████████████████████████████████████| 1/1 [00:17<00:00, 17.16s/it]\u001b[A\n",
      "\n",
      "Processed prompts:   0%|                                                                                                                               | 0/1 [00:00<?, ?it/s]\u001b[A\n",
      "Processed prompts: 100%|███████████████████████████████████████████████████████████████████████████████████████████████████████████████████████| 1/1 [00:12<00:00, 12.44s/it]\u001b[A\n",
      "\n",
      "Processed prompts:   0%|                                                                                                                               | 0/1 [00:00<?, ?it/s]\u001b[A\n",
      "Processed prompts: 100%|███████████████████████████████████████████████████████████████████████████████████████████████████████████████████████| 1/1 [00:30<00:00, 30.94s/it]\u001b[A\n"
     ]
    },
    {
     "name": "stdout",
     "output_type": "stream",
     "text": [
      "couldnt JSONify this unexpected indent (<unknown>, line 7)\n",
      "Error thrown in JSON converter is Extra data: line 1 column 801 (char 800)\n"
     ]
    },
    {
     "name": "stderr",
     "output_type": "stream",
     "text": [
      "\n",
      "Processed prompts:   0%|                                                                                                                               | 0/1 [00:00<?, ?it/s]\u001b[A\n",
      "Processed prompts: 100%|███████████████████████████████████████████████████████████████████████████████████████████████████████████████████████| 1/1 [00:22<00:00, 22.84s/it]\u001b[A\n"
     ]
    },
    {
     "name": "stdout",
     "output_type": "stream",
     "text": [
      "couldnt JSONify this invalid syntax. Perhaps you forgot a comma? (<unknown>, line 1)\n",
      "it worked!\n"
     ]
    },
    {
     "name": "stderr",
     "output_type": "stream",
     "text": [
      "\n",
      "Processed prompts:   0%|                                                                                                                               | 0/1 [00:00<?, ?it/s]\u001b[A\n",
      "Processed prompts: 100%|███████████████████████████████████████████████████████████████████████████████████████████████████████████████████████| 1/1 [00:07<00:00,  7.80s/it]\u001b[A\n",
      "\n",
      "Processed prompts:   0%|                                                                                                                               | 0/1 [00:00<?, ?it/s]\u001b[A\n",
      "Processed prompts: 100%|███████████████████████████████████████████████████████████████████████████████████████████████████████████████████████| 1/1 [00:20<00:00, 20.17s/it]\u001b[A\n",
      "\n",
      "Processed prompts:   0%|                                                                                                                               | 0/1 [00:00<?, ?it/s]\u001b[A"
     ]
    },
    {
     "name": "stdout",
     "output_type": "stream",
     "text": [
      "WARNING 01-19 11:11:57 scheduler.py:147] Input prompt (13227 tokens) is too long and exceeds limit of 4096\n"
     ]
    },
    {
     "name": "stderr",
     "output_type": "stream",
     "text": [
      "Processed prompts: 100%|█████████████████████████████████████████████████████████████████████████████████████████████████████████████████████| 1/1 [00:00<00:00, 1918.71it/s]\n"
     ]
    },
    {
     "name": "stdout",
     "output_type": "stream",
     "text": [
      "couldnt JSONify this invalid syntax (<unknown>, line 0)\n",
      "Error thrown in JSON converter is Expecting value: line 1 column 1 (char 0)\n"
     ]
    },
    {
     "name": "stderr",
     "output_type": "stream",
     "text": [
      "\n",
      "Processed prompts:   0%|                                                                                                                               | 0/1 [00:00<?, ?it/s]\u001b[A\n",
      "Processed prompts: 100%|███████████████████████████████████████████████████████████████████████████████████████████████████████████████████████| 1/1 [00:25<00:00, 25.24s/it]\u001b[A\n",
      "\n",
      "Processed prompts:   0%|                                                                                                                               | 0/1 [00:00<?, ?it/s]\u001b[A\n",
      "Processed prompts: 100%|███████████████████████████████████████████████████████████████████████████████████████████████████████████████████████| 1/1 [01:04<00:00, 64.02s/it]\u001b[A\n"
     ]
    },
    {
     "name": "stdout",
     "output_type": "stream",
     "text": [
      "couldnt JSONify this unterminated string literal (detected at line 1) (<unknown>, line 1)\n",
      "Error thrown in JSON converter is Unterminated string starting at: line 1 column 7651 (char 7650)\n"
     ]
    },
    {
     "name": "stderr",
     "output_type": "stream",
     "text": [
      "\n",
      "Processed prompts:   0%|                                                                                                                               | 0/1 [00:00<?, ?it/s]\u001b[A\n",
      "Processed prompts: 100%|███████████████████████████████████████████████████████████████████████████████████████████████████████████████████████| 1/1 [00:41<00:00, 41.23s/it]\u001b[A\n"
     ]
    },
    {
     "name": "stdout",
     "output_type": "stream",
     "text": [
      "couldnt JSONify this unexpected indent (<unknown>, line 7)\n",
      "Error thrown in JSON converter is Extra data: line 1 column 519 (char 518)\n"
     ]
    },
    {
     "name": "stderr",
     "output_type": "stream",
     "text": [
      "\n",
      "Processed prompts:   0%|                                                                                                                               | 0/1 [00:00<?, ?it/s]\u001b[A\n",
      "Processed prompts: 100%|███████████████████████████████████████████████████████████████████████████████████████████████████████████████████████| 1/1 [00:26<00:00, 26.74s/it]\u001b[A\n",
      "\n",
      "Processed prompts:   0%|                                                                                                                               | 0/1 [00:00<?, ?it/s]\u001b[A\n",
      "Processed prompts: 100%|███████████████████████████████████████████████████████████████████████████████████████████████████████████████████████| 1/1 [00:34<00:00, 34.57s/it]\u001b[A\n"
     ]
    },
    {
     "name": "stdout",
     "output_type": "stream",
     "text": [
      "couldnt JSONify this unexpected indent (<unknown>, line 7)\n",
      "Error thrown in JSON converter is Extra data: line 1 column 689 (char 688)\n"
     ]
    },
    {
     "name": "stderr",
     "output_type": "stream",
     "text": [
      "\n",
      "Processed prompts:   0%|                                                                                                                               | 0/1 [00:00<?, ?it/s]\u001b[A\n",
      "Processed prompts: 100%|███████████████████████████████████████████████████████████████████████████████████████████████████████████████████████| 1/1 [00:14<00:00, 14.24s/it]\u001b[A\n",
      "\n",
      "Processed prompts:   0%|                                                                                                                               | 0/1 [00:00<?, ?it/s]\u001b[A\n",
      "Processed prompts: 100%|███████████████████████████████████████████████████████████████████████████████████████████████████████████████████████| 1/1 [00:11<00:00, 11.25s/it]\u001b[A\n",
      "\n",
      "Processed prompts:   0%|                                                                                                                               | 0/1 [00:00<?, ?it/s]\u001b[A\n",
      "Processed prompts: 100%|███████████████████████████████████████████████████████████████████████████████████████████████████████████████████████| 1/1 [00:31<00:00, 31.32s/it]\u001b[A\n",
      "\n",
      "Processed prompts:   0%|                                                                                                                               | 0/1 [00:00<?, ?it/s]\u001b[A\n",
      "Processed prompts: 100%|███████████████████████████████████████████████████████████████████████████████████████████████████████████████████████| 1/1 [00:36<00:00, 36.09s/it]\u001b[A\n",
      "\n",
      "Processed prompts:   0%|                                                                                                                               | 0/1 [00:00<?, ?it/s]\u001b[A\n",
      "Processed prompts: 100%|██████████████████████████████████████████████████████████████████████████████████████████████████████████████████████| 1/1 [01:55<00:00, 115.97s/it]\u001b[A\n"
     ]
    },
    {
     "name": "stdout",
     "output_type": "stream",
     "text": [
      "couldnt JSONify this unexpected indent (<unknown>, line 5)\n",
      "Error thrown in JSON converter is Extra data: line 5 column 2 (char 356)\n"
     ]
    },
    {
     "name": "stderr",
     "output_type": "stream",
     "text": [
      "\n",
      "Processed prompts:   0%|                                                                                                                               | 0/1 [00:00<?, ?it/s]\u001b[A\n",
      "Processed prompts: 100%|███████████████████████████████████████████████████████████████████████████████████████████████████████████████████████| 1/1 [00:17<00:00, 17.92s/it]\u001b[A\n",
      "\n",
      "Processed prompts:   0%|                                                                                                                               | 0/1 [00:00<?, ?it/s]\u001b[A\n",
      "Processed prompts: 100%|███████████████████████████████████████████████████████████████████████████████████████████████████████████████████████| 1/1 [00:21<00:00, 21.91s/it]\u001b[A\n",
      "\n",
      "Processed prompts:   0%|                                                                                                                               | 0/1 [00:00<?, ?it/s]\u001b[A\n",
      "Processed prompts: 100%|███████████████████████████████████████████████████████████████████████████████████████████████████████████████████████| 1/1 [00:31<00:00, 31.86s/it]\u001b[A\n",
      "\n",
      "Processed prompts:   0%|                                                                                                                               | 0/1 [00:00<?, ?it/s]\u001b[A\n",
      "Processed prompts: 100%|███████████████████████████████████████████████████████████████████████████████████████████████████████████████████████| 1/1 [00:08<00:00,  8.48s/it]\u001b[A\n",
      "\n",
      "Processed prompts:   0%|                                                                                                                               | 0/1 [00:00<?, ?it/s]\u001b[A\n",
      "Processed prompts: 100%|███████████████████████████████████████████████████████████████████████████████████████████████████████████████████████| 1/1 [00:07<00:00,  7.64s/it]\u001b[A\n",
      "\n",
      "Processed prompts:   0%|                                                                                                                               | 0/1 [00:00<?, ?it/s]\u001b[A\n",
      "Processed prompts: 100%|███████████████████████████████████████████████████████████████████████████████████████████████████████████████████████| 1/1 [00:30<00:00, 30.18s/it]\u001b[A\n",
      "\n",
      "Processed prompts:   0%|                                                                                                                               | 0/1 [00:00<?, ?it/s]\u001b[A\n",
      "Processed prompts: 100%|███████████████████████████████████████████████████████████████████████████████████████████████████████████████████████| 1/1 [00:19<00:00, 19.98s/it]\u001b[A\n",
      "\n",
      "Processed prompts:   0%|                                                                                                                               | 0/1 [00:00<?, ?it/s]\u001b[A\n",
      "Processed prompts: 100%|███████████████████████████████████████████████████████████████████████████████████████████████████████████████████████| 1/1 [00:53<00:00, 53.20s/it]\u001b[A\n"
     ]
    },
    {
     "name": "stdout",
     "output_type": "stream",
     "text": [
      "couldnt JSONify this unexpected indent (<unknown>, line 7)\n",
      "Error thrown in JSON converter is Extra data: line 1 column 1021 (char 1020)\n"
     ]
    },
    {
     "name": "stderr",
     "output_type": "stream",
     "text": [
      "\n",
      "Processed prompts:   0%|                                                                                                                               | 0/1 [00:00<?, ?it/s]\u001b[A\n",
      "Processed prompts: 100%|███████████████████████████████████████████████████████████████████████████████████████████████████████████████████████| 1/1 [00:23<00:00, 23.37s/it]\u001b[A\n"
     ]
    },
    {
     "name": "stdout",
     "output_type": "stream",
     "text": [
      "couldnt JSONify this unterminated string literal (detected at line 1) (<unknown>, line 1)\n",
      "it worked!\n"
     ]
    },
    {
     "name": "stderr",
     "output_type": "stream",
     "text": [
      "\n",
      "Processed prompts:   0%|                                                                                                                               | 0/1 [00:00<?, ?it/s]\u001b[A\n",
      "Processed prompts: 100%|███████████████████████████████████████████████████████████████████████████████████████████████████████████████████████| 1/1 [00:36<00:00, 36.33s/it]\u001b[A\n"
     ]
    },
    {
     "name": "stdout",
     "output_type": "stream",
     "text": [
      "couldnt JSONify this unterminated string literal (detected at line 1) (<unknown>, line 1)\n",
      "it worked!\n"
     ]
    },
    {
     "name": "stderr",
     "output_type": "stream",
     "text": [
      "\n",
      "Processed prompts:   0%|                                                                                                                               | 0/1 [00:00<?, ?it/s]\u001b[A\n",
      "Processed prompts: 100%|███████████████████████████████████████████████████████████████████████████████████████████████████████████████████████| 1/1 [00:22<00:00, 22.31s/it]\u001b[A\n",
      "\n",
      "Processed prompts:   0%|                                                                                                                               | 0/1 [00:00<?, ?it/s]\u001b[A\n",
      "Processed prompts: 100%|███████████████████████████████████████████████████████████████████████████████████████████████████████████████████████| 1/1 [00:26<00:00, 26.69s/it]\u001b[A\n",
      "\n",
      "Processed prompts:   0%|                                                                                                                               | 0/1 [00:00<?, ?it/s]\u001b[A\n",
      "Processed prompts: 100%|███████████████████████████████████████████████████████████████████████████████████████████████████████████████████████| 1/1 [00:11<00:00, 11.15s/it]\u001b[A\n",
      "\n",
      "Processed prompts:   0%|                                                                                                                               | 0/1 [00:00<?, ?it/s]\u001b[A\n",
      "Processed prompts: 100%|███████████████████████████████████████████████████████████████████████████████████████████████████████████████████████| 1/1 [00:32<00:00, 32.54s/it]\u001b[A\n"
     ]
    },
    {
     "name": "stdout",
     "output_type": "stream",
     "text": [
      "couldnt JSONify this unexpected indent (<unknown>, line 8)\n",
      "Error thrown in JSON converter is Extra data: line 1 column 282 (char 281)\n"
     ]
    },
    {
     "name": "stderr",
     "output_type": "stream",
     "text": [
      "\n",
      "Processed prompts:   0%|                                                                                                                               | 0/1 [00:00<?, ?it/s]\u001b[A\n",
      "Processed prompts: 100%|███████████████████████████████████████████████████████████████████████████████████████████████████████████████████████| 1/1 [00:22<00:00, 22.01s/it]\u001b[A\n"
     ]
    },
    {
     "name": "stdout",
     "output_type": "stream",
     "text": [
      "couldnt JSONify this unexpected indent (<unknown>, line 7)\n",
      "Error thrown in JSON converter is Extra data: line 1 column 686 (char 685)\n"
     ]
    },
    {
     "name": "stderr",
     "output_type": "stream",
     "text": [
      "\n",
      "Processed prompts:   0%|                                                                                                                               | 0/1 [00:00<?, ?it/s]\u001b[A\n",
      "Processed prompts: 100%|███████████████████████████████████████████████████████████████████████████████████████████████████████████████████████| 1/1 [00:10<00:00, 11.00s/it]\u001b[A\n",
      "\n",
      "Processed prompts:   0%|                                                                                                                               | 0/1 [00:00<?, ?it/s]\u001b[A\n",
      "Processed prompts: 100%|███████████████████████████████████████████████████████████████████████████████████████████████████████████████████████| 1/1 [00:05<00:00,  5.45s/it]\u001b[A\n",
      "\n",
      "Processed prompts:   0%|                                                                                                                               | 0/1 [00:00<?, ?it/s]\u001b[A\n",
      "Processed prompts: 100%|███████████████████████████████████████████████████████████████████████████████████████████████████████████████████████| 1/1 [00:16<00:00, 16.17s/it]\u001b[A\n",
      "\n",
      "Processed prompts:   0%|                                                                                                                               | 0/1 [00:00<?, ?it/s]\u001b[A"
     ]
    },
    {
     "name": "stdout",
     "output_type": "stream",
     "text": [
      "WARNING 01-19 11:25:16 scheduler.py:147] Input prompt (4678 tokens) is too long and exceeds limit of 4096\n"
     ]
    },
    {
     "name": "stderr",
     "output_type": "stream",
     "text": [
      "Processed prompts: 100%|█████████████████████████████████████████████████████████████████████████████████████████████████████████████████████| 1/1 [00:00<00:00, 1961.79it/s]\n"
     ]
    },
    {
     "name": "stdout",
     "output_type": "stream",
     "text": [
      "couldnt JSONify this invalid syntax (<unknown>, line 0)\n",
      "Error thrown in JSON converter is Expecting value: line 1 column 1 (char 0)\n"
     ]
    },
    {
     "name": "stderr",
     "output_type": "stream",
     "text": [
      "\n",
      "Processed prompts:   0%|                                                                                                                               | 0/1 [00:00<?, ?it/s]\u001b[A\n",
      "Processed prompts: 100%|███████████████████████████████████████████████████████████████████████████████████████████████████████████████████████| 1/1 [00:18<00:00, 18.15s/it]\u001b[A\n",
      "\n",
      "Processed prompts:   0%|                                                                                                                               | 0/1 [00:00<?, ?it/s]\u001b[A\n",
      "Processed prompts: 100%|███████████████████████████████████████████████████████████████████████████████████████████████████████████████████████| 1/1 [00:47<00:00, 47.87s/it]\u001b[A\n",
      "\n",
      "Processed prompts:   0%|                                                                                                                               | 0/1 [00:00<?, ?it/s]\u001b[A\n",
      "Processed prompts: 100%|███████████████████████████████████████████████████████████████████████████████████████████████████████████████████████| 1/1 [00:22<00:00, 22.80s/it]\u001b[A\n",
      "\n",
      "Processed prompts:   0%|                                                                                                                               | 0/1 [00:00<?, ?it/s]\u001b[A\n",
      "Processed prompts: 100%|███████████████████████████████████████████████████████████████████████████████████████████████████████████████████████| 1/1 [00:04<00:00,  4.34s/it]\u001b[A\n"
     ]
    },
    {
     "name": "stdout",
     "output_type": "stream",
     "text": [
      "couldnt JSONify this unexpected indent (<unknown>, line 2)\n",
      "Error thrown in JSON converter is Expecting value: line 2 column 2 (char 2)\n"
     ]
    },
    {
     "name": "stderr",
     "output_type": "stream",
     "text": [
      "\n",
      "Processed prompts:   0%|                                                                                                                               | 0/1 [00:00<?, ?it/s]\u001b[A\n",
      "Processed prompts: 100%|███████████████████████████████████████████████████████████████████████████████████████████████████████████████████████| 1/1 [00:22<00:00, 22.02s/it]\u001b[A\n",
      "\n",
      "Processed prompts:   0%|                                                                                                                               | 0/1 [00:00<?, ?it/s]\u001b[A\n",
      "Processed prompts: 100%|███████████████████████████████████████████████████████████████████████████████████████████████████████████████████████| 1/1 [00:46<00:00, 46.64s/it]\u001b[A\n",
      "\n",
      "Processed prompts:   0%|                                                                                                                               | 0/1 [00:00<?, ?it/s]\u001b[A\n",
      "Processed prompts: 100%|███████████████████████████████████████████████████████████████████████████████████████████████████████████████████████| 1/1 [00:39<00:00, 39.86s/it]\u001b[A\n"
     ]
    },
    {
     "ename": "UnboundLocalError",
     "evalue": "local variable 'resume_text' referenced before assignment",
     "output_type": "error",
     "traceback": [
      "\u001b[0;31m---------------------------------------------------------------------------\u001b[0m",
      "\u001b[0;31mUnboundLocalError\u001b[0m                         Traceback (most recent call last)",
      "Cell \u001b[0;32mIn[21], line 2\u001b[0m\n\u001b[1;32m      1\u001b[0m \u001b[38;5;28;01mfor\u001b[39;00m uid \u001b[38;5;129;01min\u001b[39;00m tqdm(eval_df\u001b[38;5;241m.\u001b[39msample(\u001b[38;5;241m200\u001b[39m)\u001b[38;5;241m.\u001b[39mid\u001b[38;5;241m.\u001b[39mvalues):\n\u001b[0;32m----> 2\u001b[0m     a,b \u001b[38;5;241m=\u001b[39m \u001b[43mget_response_from_model\u001b[49m\u001b[43m(\u001b[49m\u001b[43muid\u001b[49m\u001b[43m)\u001b[49m\n\u001b[1;32m      4\u001b[0m     eval_dict[uid]\u001b[38;5;241m=\u001b[39m[a,b]\n\u001b[1;32m      6\u001b[0m     \u001b[38;5;66;03m# print(uid)\u001b[39;00m\n",
      "Cell \u001b[0;32mIn[14], line 79\u001b[0m, in \u001b[0;36mget_response_from_model\u001b[0;34m(user_id)\u001b[0m\n\u001b[1;32m     77\u001b[0m     \u001b[38;5;28;01mpass\u001b[39;00m\n\u001b[1;32m     78\u001b[0m work_ex \u001b[38;5;241m=\u001b[39m parse_user_work_ex(es_output)\n\u001b[0;32m---> 79\u001b[0m \u001b[38;5;28;01mif\u001b[39;00m \u001b[43mresume_text\u001b[49m:\n\u001b[1;32m     80\u001b[0m     eval_prompt \u001b[38;5;241m=\u001b[39m make_eval_prompt(resume_text)\n\u001b[1;32m     82\u001b[0m outputs \u001b[38;5;241m=\u001b[39m llm\u001b[38;5;241m.\u001b[39mgenerate(eval_prompt, sampling_params)\n",
      "\u001b[0;31mUnboundLocalError\u001b[0m: local variable 'resume_text' referenced before assignment"
     ]
    }
   ],
   "source": [
    "\n",
    "\n",
    "for uid in tqdm(eval_df.sample(200).id.values):\n",
    "    a,b = get_response_from_model(uid)\n",
    "\n",
    "    eval_dict[uid]=[a,b]\n",
    "    \n",
    "    # print(uid)"
   ]
  },
  {
   "cell_type": "code",
   "execution_count": null,
   "id": "8fbad852-1526-487a-ac1f-a3b03e812119",
   "metadata": {},
   "outputs": [],
   "source": []
  },
  {
   "cell_type": "code",
   "execution_count": 22,
   "id": "4b380b4b-0a7a-4726-979d-b6a1fcf68bf0",
   "metadata": {},
   "outputs": [],
   "source": [
    "import pickle\n",
    "with open('../custom_data/eval_dict_large.pkl','wb') as f:\n",
    "    pickle.dump(eval_dict,f)"
   ]
  },
  {
   "cell_type": "code",
   "execution_count": null,
   "id": "d8d1ad9f-9ab9-46e1-8565-a7023f12eb6b",
   "metadata": {},
   "outputs": [],
   "source": []
  },
  {
   "cell_type": "code",
   "execution_count": 3,
   "id": "940b3839-0e13-493a-9041-415e4a5b3a38",
   "metadata": {},
   "outputs": [],
   "source": [
    "# demo = gr.Interface(\n",
    "#     fn=get_response_from_model,\n",
    "#     inputs=[gr.Textbox(label=\"UserID\")],\n",
    "#     outputs=[gr.Textbox(label=\"LLM Output\"),gr.Textbox(label=\"User Info from ElasticSearch\")],\n",
    "#     allow_flagging=\"manual\"\n",
    "# )\n",
    "\n",
    "# demo.launch(share=True)"
   ]
  },
  {
   "cell_type": "code",
   "execution_count": null,
   "id": "bc9c95e1-e0f7-44a7-b811-27ebe625e3e0",
   "metadata": {},
   "outputs": [],
   "source": []
  }
 ],
 "metadata": {
  "kernelspec": {
   "display_name": "Python 3 (ipykernel)",
   "language": "python",
   "name": "python3"
  },
  "language_info": {
   "codemirror_mode": {
    "name": "ipython",
    "version": 3
   },
   "file_extension": ".py",
   "mimetype": "text/x-python",
   "name": "python",
   "nbconvert_exporter": "python",
   "pygments_lexer": "ipython3",
   "version": "3.10.12"
  }
 },
 "nbformat": 4,
 "nbformat_minor": 5
}
