{
 "cells": [
  {
   "cell_type": "code",
   "execution_count": 21,
   "id": "6f7a1086-fac9-44aa-bf6f-6f09ff98ad7a",
   "metadata": {},
   "outputs": [],
   "source": [
    "import json\n",
    "from tqdm.notebook import tqdm\n",
    "from user_info import get_user_info\n",
    "import random"
   ]
  },
  {
   "cell_type": "code",
   "execution_count": 3,
   "id": "7910230b-caed-4f55-b6d6-7c157d4152bd",
   "metadata": {},
   "outputs": [],
   "source": [
    "with open('../custom_data/jan_relevant_users_llm_output.json','rb') as f:\n",
    "    resp = json.load(f)"
   ]
  },
  {
   "cell_type": "code",
   "execution_count": 6,
   "id": "39269f58-b233-4073-b9bf-406da33632f3",
   "metadata": {},
   "outputs": [],
   "source": [
    "uid_list = list(resp.keys())"
   ]
  },
  {
   "cell_type": "code",
   "execution_count": 15,
   "id": "a94dab96-d790-408b-8041-03cac1bf6d79",
   "metadata": {},
   "outputs": [],
   "source": [
    "def parse_user_work_ex(info_json):\n",
    "    work_ex = []\n",
    "    try:\n",
    "        for x in info_json['professional_info'][0]:\n",
    "            \n",
    "            user_dict = {}\n",
    "            exp_dict = x\n",
    "        \n",
    "            keys = ['id','designation','fromExpMonth','fromExpYear','toExpMonth','toExpYear'] \n",
    "        \n",
    "            for k in keys:\n",
    "                user_dict[k] = exp_dict[k]\n",
    "                \n",
    "            user_dict['company'] = exp_dict['organization']['name']\n",
    "            work_ex.append(user_dict)\n",
    "    except:\n",
    "        return work_ex\n",
    "            \n",
    "    return work_ex"
   ]
  },
  {
   "cell_type": "code",
   "execution_count": 20,
   "id": "9c9a5cab-7306-4411-a77b-6940c562e9ba",
   "metadata": {},
   "outputs": [
    {
     "data": {
      "application/vnd.jupyter.widget-view+json": {
       "model_id": "bd2934e64ee044229d1bb38a57f5bbfe",
       "version_major": 2,
       "version_minor": 0
      },
      "text/plain": [
       "  0%|          | 0/16990 [00:00<?, ?it/s]"
      ]
     },
     "metadata": {},
     "output_type": "display_data"
    }
   ],
   "source": [
    "check = {}\n",
    "for uid in tqdm(uid_list):\n",
    "    info_json = get_user_info(uid)\n",
    "    work_ex = parse_user_work_ex(info_json)\n",
    "    check[uid] = work_ex"
   ]
  },
  {
   "cell_type": "code",
   "execution_count": 111,
   "id": "3e9beb57-40ab-4e9f-be29-7a75bf1b4731",
   "metadata": {},
   "outputs": [],
   "source": [
    "uid = random.sample(uid_list,1)[0]"
   ]
  },
  {
   "cell_type": "code",
   "execution_count": 112,
   "id": "27179b9c-f037-4bdf-ab9b-d1d8a40793c4",
   "metadata": {},
   "outputs": [
    {
     "data": {
      "text/plain": [
       "[{'id': 3930332,\n",
       "  'designation': 'Associate Director ',\n",
       "  'fromExpMonth': '12',\n",
       "  'fromExpYear': '2022',\n",
       "  'toExpMonth': '11',\n",
       "  'toExpYear': '2023',\n",
       "  'company': 'Furlenco'},\n",
       " {'id': 3074678,\n",
       "  'designation': 'Senior Manager -Growth',\n",
       "  'fromExpMonth': '2',\n",
       "  'fromExpYear': '2021',\n",
       "  'toExpMonth': '8',\n",
       "  'toExpYear': '2022',\n",
       "  'company': 'Tata 1mg'},\n",
       " {'id': 2361258,\n",
       "  'designation': 'City Head',\n",
       "  'fromExpMonth': '6',\n",
       "  'fromExpYear': '2019',\n",
       "  'toExpMonth': '10',\n",
       "  'toExpYear': '2020',\n",
       "  'company': 'Swiggy'},\n",
       " {'id': 1814868,\n",
       "  'designation': 'Area Sales Manager',\n",
       "  'fromExpMonth': '6',\n",
       "  'fromExpYear': '2018',\n",
       "  'toExpMonth': '5',\n",
       "  'toExpYear': '2019',\n",
       "  'company': 'Godrej Consumer Products'},\n",
       " {'id': 595369,\n",
       "  'designation': 'Manager',\n",
       "  'fromExpMonth': '6',\n",
       "  'fromExpYear': '2015',\n",
       "  'toExpMonth': '5',\n",
       "  'toExpYear': '2018',\n",
       "  'company': 'Vodafone'},\n",
       " {'id': 1282836,\n",
       "  'designation': 'Software Engineer',\n",
       "  'fromExpMonth': '12',\n",
       "  'fromExpYear': '2011',\n",
       "  'toExpMonth': '5',\n",
       "  'toExpYear': '2013',\n",
       "  'company': 'Accenture'}]"
      ]
     },
     "execution_count": 112,
     "metadata": {},
     "output_type": "execute_result"
    }
   ],
   "source": [
    "check[uid]"
   ]
  },
  {
   "cell_type": "code",
   "execution_count": 113,
   "id": "a9659b97-b2a9-4ea2-88de-bfa944c3d85c",
   "metadata": {},
   "outputs": [
    {
     "data": {
      "text/plain": [
       "True"
      ]
     },
     "execution_count": 113,
     "metadata": {},
     "output_type": "execute_result"
    }
   ],
   "source": [
    "type(resp[uid])==list"
   ]
  },
  {
   "cell_type": "code",
   "execution_count": 114,
   "id": "9d2a296d-47fb-4913-8884-c14fb91a591f",
   "metadata": {},
   "outputs": [
    {
     "data": {
      "application/vnd.jupyter.widget-view+json": {
       "model_id": "9659555a225345d5946a2e88cf59f5bd",
       "version_major": 2,
       "version_minor": 0
      },
      "text/plain": [
       "  0%|          | 0/16990 [00:00<?, ?it/s]"
      ]
     },
     "metadata": {},
     "output_type": "display_data"
    }
   ],
   "source": [
    "excess = []\n",
    "for userid in tqdm(uid_list):\n",
    "    if isinstance(resp[userid], list):\n",
    "        try:\n",
    "            if len(resp[userid])>len(check[userid]):\n",
    "                excess.append(userid)\n",
    "        except Exception as e:\n",
    "            print(resp[userid])\n",
    "            print(e)\n",
    "            continue\n",
    "    else:\n",
    "        continue"
   ]
  },
  {
   "cell_type": "code",
   "execution_count": 115,
   "id": "5608ecde-a38d-4ee6-865a-cd6132074a4e",
   "metadata": {},
   "outputs": [
    {
     "data": {
      "text/plain": [
       "7474"
      ]
     },
     "execution_count": 115,
     "metadata": {},
     "output_type": "execute_result"
    }
   ],
   "source": [
    "len(excess)"
   ]
  },
  {
   "cell_type": "code",
   "execution_count": 125,
   "id": "c65d6ebf-feab-4c98-9284-c2d50324f738",
   "metadata": {},
   "outputs": [],
   "source": [
    "uid = random.sample(excess,1)[0]"
   ]
  },
  {
   "cell_type": "code",
   "execution_count": 126,
   "id": "f8323457-ff5a-490a-a415-f5d1326827bf",
   "metadata": {},
   "outputs": [
    {
     "data": {
      "text/plain": [
       "[{'id': 1482813,\n",
       "  'designation': 'Senior HR Manager',\n",
       "  'fromExpMonth': '6',\n",
       "  'fromExpYear': '2020',\n",
       "  'toExpMonth': '0',\n",
       "  'toExpYear': '0',\n",
       "  'company': 'Oracle'}]"
      ]
     },
     "execution_count": 126,
     "metadata": {},
     "output_type": "execute_result"
    }
   ],
   "source": [
    "check[uid]"
   ]
  },
  {
   "cell_type": "code",
   "execution_count": 127,
   "id": "c98ef9e0-12c6-4d10-ac44-47a7026297ff",
   "metadata": {},
   "outputs": [
    {
     "data": {
      "text/plain": [
       "[{'company': 'Oracle',\n",
       "  'role': 'Senior HR Manager',\n",
       "  'start_date': 'June 2020',\n",
       "  'end_date': 'Present'},\n",
       " {'company': 'Alcon Laboratories',\n",
       "  'role': 'Manager-Learning & TMOD',\n",
       "  'start_date': 'Sep18',\n",
       "  'end_date': 'June 2020'},\n",
       " {'company': 'Infosys',\n",
       "  'role': 'Senior Lead-L&D',\n",
       "  'start_date': 'Oct07',\n",
       "  'end_date': 'Sep18'},\n",
       " {'company': 'Spur Career Solutions',\n",
       "  'role': 'CRM Trainer',\n",
       "  'start_date': 'Mar07',\n",
       "  'end_date': 'Sep07'},\n",
       " {'company': 'AOL India',\n",
       "  'role': 'Process Trainer',\n",
       "  'start_date': 'Sep03',\n",
       "  'end_date': 'Mar05'},\n",
       " {'company': 'Athiya Pvt. Ltd',\n",
       "  'role': 'Language Trainer',\n",
       "  'start_date': 'May05',\n",
       "  'end_date': 'Feb07'},\n",
       " {'company': 'Infosys',\n",
       "  'role': 'Trainee Graduate (Engineering)',\n",
       "  'start_date': 'Nov00',\n",
       "  'end_date': 'Nov02'}]"
      ]
     },
     "execution_count": 127,
     "metadata": {},
     "output_type": "execute_result"
    }
   ],
   "source": [
    "resp[uid]"
   ]
  },
  {
   "cell_type": "code",
   "execution_count": null,
   "id": "5933472f-c3a1-41c0-bed1-ea7e6b9e1949",
   "metadata": {},
   "outputs": [],
   "source": []
  }
 ],
 "metadata": {
  "kernelspec": {
   "display_name": "Python 3 (ipykernel)",
   "language": "python",
   "name": "python3"
  },
  "language_info": {
   "codemirror_mode": {
    "name": "ipython",
    "version": 3
   },
   "file_extension": ".py",
   "mimetype": "text/x-python",
   "name": "python",
   "nbconvert_exporter": "python",
   "pygments_lexer": "ipython3",
   "version": "3.10.12"
  }
 },
 "nbformat": 4,
 "nbformat_minor": 5
}
