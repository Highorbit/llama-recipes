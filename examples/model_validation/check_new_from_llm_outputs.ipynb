{
 "cells": [
  {
   "cell_type": "code",
   "execution_count": 1,
   "id": "6f7a1086-fac9-44aa-bf6f-6f09ff98ad7a",
   "metadata": {},
   "outputs": [],
   "source": [
    "import json\n",
    "from tqdm.notebook import tqdm\n",
    "from user_info import get_user_info\n",
    "import random\n",
    "from datetime import datetime\n",
    "from dateutil.parser import parse"
   ]
  },
  {
   "cell_type": "code",
   "execution_count": 2,
   "id": "7910230b-caed-4f55-b6d6-7c157d4152bd",
   "metadata": {},
   "outputs": [],
   "source": [
    "with open('../custom_data/llm_outputs/parsed_resumes_feb_march.json','r') as f:\n",
    "    resp = json.load(f)"
   ]
  },
  {
   "cell_type": "code",
   "execution_count": 3,
   "id": "39269f58-b233-4073-b9bf-406da33632f3",
   "metadata": {},
   "outputs": [],
   "source": [
    "uid_list = list(resp.keys())"
   ]
  },
  {
   "cell_type": "code",
   "execution_count": 4,
   "id": "a94dab96-d790-408b-8041-03cac1bf6d79",
   "metadata": {},
   "outputs": [],
   "source": [
    "def parse_user_work_ex(info_json):\n",
    "    work_ex = []\n",
    "    try:\n",
    "        for x in info_json['professional_info'][0]:\n",
    "            \n",
    "            user_dict = {}\n",
    "            exp_dict = x\n",
    "        \n",
    "            keys = ['id','designation','fromExpMonth','fromExpYear','toExpMonth','toExpYear'] \n",
    "        \n",
    "            for k in keys:\n",
    "                user_dict[k] = exp_dict[k]\n",
    "                \n",
    "            user_dict['company'] = exp_dict['organization']['name']\n",
    "            work_ex.append(user_dict)\n",
    "    except:\n",
    "        return work_ex\n",
    "            \n",
    "    return work_ex"
   ]
  },
  {
   "cell_type": "code",
   "execution_count": 5,
   "id": "9c9a5cab-7306-4411-a77b-6940c562e9ba",
   "metadata": {},
   "outputs": [
    {
     "data": {
      "application/vnd.jupyter.widget-view+json": {
       "model_id": "b69eaa3057654d2cac60530db7658211",
       "version_major": 2,
       "version_minor": 0
      },
      "text/plain": [
       "  0%|          | 0/2408 [00:00<?, ?it/s]"
      ]
     },
     "metadata": {},
     "output_type": "display_data"
    }
   ],
   "source": [
    "check = {}\n",
    "for uid in tqdm(uid_list):\n",
    "    info_json = get_user_info(uid)\n",
    "    work_ex = parse_user_work_ex(info_json)\n",
    "    check[uid] = work_ex"
   ]
  },
  {
   "cell_type": "code",
   "execution_count": 8,
   "id": "3e9beb57-40ab-4e9f-be29-7a75bf1b4731",
   "metadata": {},
   "outputs": [],
   "source": [
    "uid = random.sample(uid_list,1)[0]"
   ]
  },
  {
   "cell_type": "code",
   "execution_count": 9,
   "id": "27179b9c-f037-4bdf-ab9b-d1d8a40793c4",
   "metadata": {},
   "outputs": [
    {
     "data": {
      "text/plain": [
       "[{'id': 2500471,\n",
       "  'designation': 'Director, HR',\n",
       "  'fromExpMonth': '8',\n",
       "  'fromExpYear': '2019',\n",
       "  'toExpMonth': '0',\n",
       "  'toExpYear': '0',\n",
       "  'company': 'oyo'},\n",
       " {'id': 25214,\n",
       "  'designation': 'Senior Manager HR',\n",
       "  'fromExpMonth': '6',\n",
       "  'fromExpYear': '2018',\n",
       "  'toExpMonth': '8',\n",
       "  'toExpYear': '2019',\n",
       "  'company': 'Rivigo'},\n",
       " {'id': 419844,\n",
       "  'designation': 'Chief Manager, Human Resources',\n",
       "  'fromExpMonth': '1',\n",
       "  'fromExpYear': '2013',\n",
       "  'toExpMonth': '5',\n",
       "  'toExpYear': '2018',\n",
       "  'company': 'ICICI Bank'},\n",
       " {'id': 1715299,\n",
       "  'designation': 'HR Associate',\n",
       "  'fromExpMonth': '7',\n",
       "  'fromExpYear': '2010',\n",
       "  'toExpMonth': '1',\n",
       "  'toExpYear': '2013',\n",
       "  'company': 'State Bank of India'}]"
      ]
     },
     "execution_count": 9,
     "metadata": {},
     "output_type": "execute_result"
    }
   ],
   "source": [
    "check[uid]"
   ]
  },
  {
   "cell_type": "code",
   "execution_count": 10,
   "id": "48210a76-b2bd-48aa-a603-41789e1eb0c4",
   "metadata": {},
   "outputs": [
    {
     "data": {
      "text/plain": [
       "[{'company': 'OYO',\n",
       "  'role': 'Program Manager',\n",
       "  'start_date': '07/2020',\n",
       "  'end_date': 'present'},\n",
       " {'company': 'Rivigo',\n",
       "  'role': 'HR Partner',\n",
       "  'start_date': '06/2018',\n",
       "  'end_date': '08/2019'},\n",
       " {'company': 'ICICI Bank',\n",
       "  'role': 'Chief Manager- HR',\n",
       "  'start_date': '01/2013',\n",
       "  'end_date': '06/2018'},\n",
       " {'company': 'State Bank of India',\n",
       "  'role': 'HR Associate',\n",
       "  'start_date': '07/2010',\n",
       "  'end_date': '01/2013'}]"
      ]
     },
     "execution_count": 10,
     "metadata": {},
     "output_type": "execute_result"
    }
   ],
   "source": [
    "resp[uid]"
   ]
  },
  {
   "cell_type": "code",
   "execution_count": null,
   "id": "a9659b97-b2a9-4ea2-88de-bfa944c3d85c",
   "metadata": {},
   "outputs": [],
   "source": []
  },
  {
   "cell_type": "code",
   "execution_count": 11,
   "id": "9d2a296d-47fb-4913-8884-c14fb91a591f",
   "metadata": {},
   "outputs": [
    {
     "data": {
      "application/vnd.jupyter.widget-view+json": {
       "model_id": "c6c0630e7ec24a4cbaba27c4e7d3e2df",
       "version_major": 2,
       "version_minor": 0
      },
      "text/plain": [
       "  0%|          | 0/2408 [00:00<?, ?it/s]"
      ]
     },
     "metadata": {},
     "output_type": "display_data"
    }
   ],
   "source": [
    "excess = []\n",
    "for userid in tqdm(uid_list):\n",
    "    if isinstance(resp[userid], list):\n",
    "        try:\n",
    "            if len(resp[userid])>len(check[userid]):\n",
    "                excess.append(userid)\n",
    "        except Exception as e:\n",
    "            print(resp[userid])\n",
    "            print(e)\n",
    "            continue\n",
    "    else:\n",
    "        continue"
   ]
  },
  {
   "cell_type": "code",
   "execution_count": 12,
   "id": "5608ecde-a38d-4ee6-865a-cd6132074a4e",
   "metadata": {},
   "outputs": [
    {
     "data": {
      "text/plain": [
       "1762"
      ]
     },
     "execution_count": 12,
     "metadata": {},
     "output_type": "execute_result"
    }
   ],
   "source": [
    "len(excess)"
   ]
  },
  {
   "cell_type": "code",
   "execution_count": 13,
   "id": "c65d6ebf-feab-4c98-9284-c2d50324f738",
   "metadata": {},
   "outputs": [],
   "source": [
    "uid = random.sample(excess,1)[0]"
   ]
  },
  {
   "cell_type": "code",
   "execution_count": 14,
   "id": "f8323457-ff5a-490a-a415-f5d1326827bf",
   "metadata": {},
   "outputs": [
    {
     "data": {
      "text/plain": [
       "[{'id': 2154615,\n",
       "  'designation': 'Sr-Coordinator',\n",
       "  'fromExpMonth': '12',\n",
       "  'fromExpYear': '2007',\n",
       "  'toExpMonth': '0',\n",
       "  'toExpYear': '0',\n",
       "  'company': 'Bain & Company'}]"
      ]
     },
     "execution_count": 14,
     "metadata": {},
     "output_type": "execute_result"
    }
   ],
   "source": [
    "check[uid]"
   ]
  },
  {
   "cell_type": "code",
   "execution_count": 15,
   "id": "c98ef9e0-12c6-4d10-ac44-47a7026297ff",
   "metadata": {},
   "outputs": [
    {
     "data": {
      "text/plain": [
       "[{'company': 'Bain & Company',\n",
       "  'role': 'Senior Coordinator - Global Client Advocacy',\n",
       "  'start_date': '10/2017',\n",
       "  'end_date': 'present'},\n",
       " {'company': 'Bain & Company',\n",
       "  'role': 'Coordinator - Global Client Advocacy',\n",
       "  'start_date': '06/2015',\n",
       "  'end_date': '10/2017'},\n",
       " {'company': 'Bain & Company',\n",
       "  'role': 'Associate Global CRM',\n",
       "  'start_date': '04/2013',\n",
       "  'end_date': '06/2015'},\n",
       " {'company': 'Bain & Company',\n",
       "  'role': 'Junior CRM Associate- Global CRM Marketing',\n",
       "  'start_date': '04/2011',\n",
       "  'end_date': '04/2013'},\n",
       " {'company': 'Bain & Company',\n",
       "  'role': 'Global Marketing Temp- Global CRM Marketing',\n",
       "  'start_date': '01/2008',\n",
       "  'end_date': '04/2011'},\n",
       " {'company': 'Bain & Company',\n",
       "  'role': 'Junior CRM Associate- Global CRM Marketing',\n",
       "  'start_date': '01/2006',\n",
       "  'end_date': '12/2007'},\n",
       " {'company': 'Bharti Axa Life Insurance',\n",
       "  'role': 'International Roaming Assistant',\n",
       "  'start_date': '01/2004',\n",
       "  'end_date': '12/2006'}]"
      ]
     },
     "execution_count": 15,
     "metadata": {},
     "output_type": "execute_result"
    }
   ],
   "source": [
    "resp[uid]"
   ]
  },
  {
   "cell_type": "code",
   "execution_count": 17,
   "id": "126dbe33-48a5-4b8f-a25f-5c052c64b8f7",
   "metadata": {},
   "outputs": [
    {
     "data": {
      "application/vnd.jupyter.widget-view+json": {
       "model_id": "20413c68ec144452b3c189d663ab0f17",
       "version_major": 2,
       "version_minor": 0
      },
      "text/plain": [
       "  0%|          | 0/1762 [00:00<?, ?it/s]"
      ]
     },
     "metadata": {},
     "output_type": "display_data"
    }
   ],
   "source": [
    "uid_checks = {}\n",
    "errors = []\n",
    "\n",
    "for uid in tqdm(excess):\n",
    "    es_jobs = []\n",
    "    for idx, es_wex in enumerate(check[uid]):\n",
    "        month = int(es_wex['fromExpMonth'])\n",
    "        year = int(es_wex['fromExpYear'])\n",
    "        start_time = datetime(year, month,1)\n",
    "        es_jobs.append(start_time)\n",
    "\n",
    "    try:\n",
    "        comp = max(es_jobs)\n",
    "    except:\n",
    "        continue\n",
    "\n",
    "    llm_exp = []\n",
    "    for idx, llm_wex in enumerate(resp[uid]):\n",
    "        try:\n",
    "            start_time = parse(llm_wex['start_date'])\n",
    "            if start_time>comp:\n",
    "                if uid in uid_checks:\n",
    "                    uid_checks[uid].append(llm_wex)\n",
    "                else:\n",
    "                    uid_checks[uid] = list()\n",
    "                    uid_checks[uid].append(llm_wex)\n",
    "        except Exception as e:\n",
    "            errors.append(uid)\n",
    "            pass\n",
    "\n",
    "    "
   ]
  },
  {
   "cell_type": "code",
   "execution_count": null,
   "id": "3948c248-3dd9-4dfe-a975-6e745a4b79cb",
   "metadata": {},
   "outputs": [],
   "source": []
  },
  {
   "cell_type": "code",
   "execution_count": 18,
   "id": "57b1ea2c-3a8e-4e5c-9588-e99aefa358ff",
   "metadata": {},
   "outputs": [
    {
     "data": {
      "text/plain": [
       "222"
      ]
     },
     "execution_count": 18,
     "metadata": {},
     "output_type": "execute_result"
    }
   ],
   "source": [
    "len(errors)"
   ]
  },
  {
   "cell_type": "code",
   "execution_count": null,
   "id": "8d82dfe3-d5e9-4a32-8faa-32b90f9b38c9",
   "metadata": {},
   "outputs": [],
   "source": []
  },
  {
   "cell_type": "code",
   "execution_count": null,
   "id": "1694168d-2546-4ca6-8c00-73968c653b9d",
   "metadata": {},
   "outputs": [],
   "source": []
  },
  {
   "cell_type": "code",
   "execution_count": null,
   "id": "f592fd1d-be24-4ccc-81b6-d6f5b5755456",
   "metadata": {},
   "outputs": [],
   "source": []
  }
 ],
 "metadata": {
  "kernelspec": {
   "display_name": "Python 3 (ipykernel)",
   "language": "python",
   "name": "python3"
  },
  "language_info": {
   "codemirror_mode": {
    "name": "ipython",
    "version": 3
   },
   "file_extension": ".py",
   "mimetype": "text/x-python",
   "name": "python",
   "nbconvert_exporter": "python",
   "pygments_lexer": "ipython3",
   "version": "3.10.12"
  }
 },
 "nbformat": 4,
 "nbformat_minor": 5
}
