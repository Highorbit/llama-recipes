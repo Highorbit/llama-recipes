{
 "cells": [
  {
   "cell_type": "code",
   "execution_count": 3,
   "id": "ffdde091-bcb3-4c95-90de-3297f132ae8f",
   "metadata": {},
   "outputs": [],
   "source": [
    "import pickle\n",
    "with open('../custom_data/eval_dict_large.pkl','rb') as f:\n",
    "    eval_dict = pickle.load(f)"
   ]
  },
  {
   "cell_type": "code",
   "execution_count": null,
   "id": "93c1eb2b-6e97-4543-aa0a-408e9dcfd550",
   "metadata": {},
   "outputs": [],
   "source": []
  },
  {
   "cell_type": "code",
   "execution_count": null,
   "id": "377770c0-559c-418b-8e0e-ba2c6028fc1d",
   "metadata": {},
   "outputs": [],
   "source": []
  },
  {
   "cell_type": "code",
   "execution_count": null,
   "id": "7633d569-247e-430a-97a0-751a9c9094fc",
   "metadata": {},
   "outputs": [],
   "source": []
  },
  {
   "cell_type": "code",
   "execution_count": null,
   "id": "b0b9c127-2000-49f4-8d71-c74ab1b2e6b4",
   "metadata": {},
   "outputs": [],
   "source": []
  },
  {
   "cell_type": "code",
   "execution_count": null,
   "id": "db9dacc1-47e7-440f-bc38-2be1c60be869",
   "metadata": {},
   "outputs": [],
   "source": []
  },
  {
   "cell_type": "code",
   "execution_count": null,
   "id": "2cbc2a7e-54ac-474e-84a2-c48fad49cb4b",
   "metadata": {},
   "outputs": [],
   "source": []
  },
  {
   "cell_type": "code",
   "execution_count": null,
   "id": "33751515-f923-4879-a9b4-ab60d6679457",
   "metadata": {},
   "outputs": [],
   "source": []
  },
  {
   "cell_type": "code",
   "execution_count": null,
   "id": "2ca219dc-6575-42cc-a86f-88310b11295c",
   "metadata": {},
   "outputs": [],
   "source": []
  },
  {
   "cell_type": "code",
   "execution_count": null,
   "id": "2016436e-e341-4a4f-8496-e2df8140ca5f",
   "metadata": {},
   "outputs": [],
   "source": []
  },
  {
   "cell_type": "code",
   "execution_count": null,
   "id": "6f23254c-9045-412d-bcc4-9a9f507bb713",
   "metadata": {},
   "outputs": [],
   "source": []
  }
 ],
 "metadata": {
  "kernelspec": {
   "display_name": "Python 3 (ipykernel)",
   "language": "python",
   "name": "python3"
  },
  "language_info": {
   "codemirror_mode": {
    "name": "ipython",
    "version": 3
   },
   "file_extension": ".py",
   "mimetype": "text/x-python",
   "name": "python",
   "nbconvert_exporter": "python",
   "pygments_lexer": "ipython3",
   "version": "3.10.12"
  }
 },
 "nbformat": 4,
 "nbformat_minor": 5
}
