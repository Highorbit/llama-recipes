{
 "cells": [
  {
   "cell_type": "code",
   "execution_count": 1,
   "id": "cf511910-ca06-4cee-b12a-a16cae4d7db0",
   "metadata": {},
   "outputs": [],
   "source": [
    "import re\n",
    "import string \n",
    "import json\n",
    "import ast\n",
    "import random\n",
    "from tqdm.notebook import tqdm"
   ]
  },
  {
   "cell_type": "code",
   "execution_count": null,
   "id": "5017321d-889c-410a-9417-8392c36217ac",
   "metadata": {},
   "outputs": [],
   "source": []
  },
  {
   "cell_type": "code",
   "execution_count": 2,
   "id": "c54b0297-a454-4d41-8a04-b987657ca694",
   "metadata": {},
   "outputs": [],
   "source": [
    "with open('../custom_data/feb24_mistral_inference_batch1.json','r') as f:\n",
    "    b1 = json.load(f)\n",
    "    \n",
    "with open('../custom_data/feb24_mistral_inference_batch2.json','r') as f:\n",
    "    b2 = json.load(f)\n",
    "\n",
    "with open('../custom_data/feb24_mistral_inference_batch3.json','r') as f:\n",
    "    b3 = json.load(f)"
   ]
  },
  {
   "cell_type": "code",
   "execution_count": null,
   "id": "2630805c-5ad7-4980-a5b9-f56bc2161b41",
   "metadata": {},
   "outputs": [],
   "source": []
  },
  {
   "cell_type": "code",
   "execution_count": 3,
   "id": "a99c9d8a-e4e0-4f91-b5ab-dd5c99eaa0c5",
   "metadata": {},
   "outputs": [],
   "source": [
    "b1.update(b2)"
   ]
  },
  {
   "cell_type": "code",
   "execution_count": 4,
   "id": "1d737909-a4ed-4989-98aa-8b458e28377a",
   "metadata": {},
   "outputs": [],
   "source": [
    "b1.update(b3)"
   ]
  },
  {
   "cell_type": "code",
   "execution_count": 5,
   "id": "c819ded7-4dcc-4b23-8abd-16ac6a54ee0f",
   "metadata": {},
   "outputs": [
    {
     "data": {
      "text/plain": [
       "2449"
      ]
     },
     "execution_count": 5,
     "metadata": {},
     "output_type": "execute_result"
    }
   ],
   "source": [
    "len(b1.keys())"
   ]
  },
  {
   "cell_type": "code",
   "execution_count": null,
   "id": "3b08726a-bb65-4124-9503-e6ab887704ed",
   "metadata": {},
   "outputs": [],
   "source": []
  },
  {
   "cell_type": "code",
   "execution_count": 6,
   "id": "41d3c3de-9640-43b0-a6c0-712144395295",
   "metadata": {},
   "outputs": [
    {
     "name": "stdout",
     "output_type": "stream",
     "text": [
      "431260\n"
     ]
    }
   ],
   "source": [
    "random_key = random.sample(list(b1.keys()),1)[0]\n",
    "print(random_key)"
   ]
  },
  {
   "cell_type": "code",
   "execution_count": null,
   "id": "323115fb-7a90-4068-976d-6a502ef155fc",
   "metadata": {},
   "outputs": [],
   "source": []
  },
  {
   "cell_type": "code",
   "execution_count": 7,
   "id": "32e2260e-ed4f-4a6f-8b51-00373287e451",
   "metadata": {},
   "outputs": [
    {
     "data": {
      "application/vnd.jupyter.widget-view+json": {
       "model_id": "304e50366d5944f189b45ce2f75232c8",
       "version_major": 2,
       "version_minor": 0
      },
      "text/plain": [
       "  0%|          | 0/2449 [00:00<?, ?it/s]"
      ]
     },
     "metadata": {},
     "output_type": "display_data"
    }
   ],
   "source": [
    "results = {}\n",
    "errors = {}\n",
    "for key, json_string in tqdm(b1.items()):\n",
    "    try:\n",
    "        output = ast.literal_eval(json_string.strip())\n",
    "        results[key] = output\n",
    "    except:\n",
    "        errors[key] = json_string"
   ]
  },
  {
   "cell_type": "code",
   "execution_count": 8,
   "id": "a4ca1bc4-1d7b-4100-8980-11d425dd3f7f",
   "metadata": {},
   "outputs": [
    {
     "data": {
      "text/plain": [
       "41"
      ]
     },
     "execution_count": 8,
     "metadata": {},
     "output_type": "execute_result"
    }
   ],
   "source": [
    "len(errors.keys())"
   ]
  },
  {
   "cell_type": "code",
   "execution_count": null,
   "id": "30008355-0eea-49cf-81d3-62db5bd75953",
   "metadata": {},
   "outputs": [],
   "source": []
  },
  {
   "cell_type": "code",
   "execution_count": 9,
   "id": "566f04b1-877d-43d8-8500-2621b4952654",
   "metadata": {},
   "outputs": [
    {
     "name": "stdout",
     "output_type": "stream",
     "text": [
      "86191\n"
     ]
    }
   ],
   "source": [
    "random_key = random.sample(list(results.keys()),1)[0]\n",
    "print(random_key)"
   ]
  },
  {
   "cell_type": "code",
   "execution_count": 10,
   "id": "d1e3fbdf-77fd-45dd-88df-f95faecf2cc7",
   "metadata": {},
   "outputs": [
    {
     "data": {
      "text/plain": [
       "[{'company': 'IGT Solutions Pvt Ltd',\n",
       "  'role': 'Manager',\n",
       "  'start_date': '01/2019',\n",
       "  'end_date': 'present'},\n",
       " {'company': 'InterGlobe Group',\n",
       "  'role': 'Assistant Manager',\n",
       "  'start_date': '07/2016',\n",
       "  'end_date': '12/2019'},\n",
       " {'company': 'InterGlobe Group',\n",
       "  'role': 'Sr.Executive',\n",
       "  'start_date': '05/2014',\n",
       "  'end_date': '06/2016'},\n",
       " {'company': 'EXL Services',\n",
       "  'role': 'Sr Associate | Internal Audit',\n",
       "  'start_date': '10/2012',\n",
       "  'end_date': '04/2014'},\n",
       " {'company': 'PriceWaterhouse Coopers (Gurgaon)',\n",
       "  'role': 'Analyst| Internal Audit',\n",
       "  'start_date': '01/2011',\n",
       "  'end_date': '09/2012'}]"
      ]
     },
     "execution_count": 10,
     "metadata": {},
     "output_type": "execute_result"
    }
   ],
   "source": [
    "results[random_key]"
   ]
  },
  {
   "cell_type": "code",
   "execution_count": 12,
   "id": "11ca388d-119f-4d43-afea-6c5a21d32342",
   "metadata": {},
   "outputs": [],
   "source": [
    "with open('../custom_data/llm_outputs/parsed_resumes_feb_march.json','w') as f:\n",
    "    json.dump(results,f)"
   ]
  },
  {
   "cell_type": "code",
   "execution_count": null,
   "id": "baa2f01a-304f-4f7c-838b-e2fdfa5ef12a",
   "metadata": {},
   "outputs": [],
   "source": []
  }
 ],
 "metadata": {
  "kernelspec": {
   "display_name": "Python 3 (ipykernel)",
   "language": "python",
   "name": "python3"
  },
  "language_info": {
   "codemirror_mode": {
    "name": "ipython",
    "version": 3
   },
   "file_extension": ".py",
   "mimetype": "text/x-python",
   "name": "python",
   "nbconvert_exporter": "python",
   "pygments_lexer": "ipython3",
   "version": "3.10.12"
  }
 },
 "nbformat": 4,
 "nbformat_minor": 5
}
