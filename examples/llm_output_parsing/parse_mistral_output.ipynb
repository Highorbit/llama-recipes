{
 "cells": [
  {
   "cell_type": "code",
   "execution_count": 1,
   "id": "cf511910-ca06-4cee-b12a-a16cae4d7db0",
   "metadata": {},
   "outputs": [],
   "source": [
    "import re\n",
    "import string \n",
    "import json\n",
    "import ast\n",
    "import random\n",
    "from tqdm.notebook import tqdm"
   ]
  },
  {
   "cell_type": "code",
   "execution_count": null,
   "id": "5017321d-889c-410a-9417-8392c36217ac",
   "metadata": {},
   "outputs": [],
   "source": []
  },
  {
   "cell_type": "code",
   "execution_count": 2,
   "id": "c54b0297-a454-4d41-8a04-b987657ca694",
   "metadata": {},
   "outputs": [],
   "source": [
    "with open('../custom_data/feb24_mistral_inference_batch1.json','r') as f:\n",
    "    b1 = json.load(f)\n",
    "    \n",
    "with open('../custom_data/feb24_mistral_inference_batch2.json','r') as f:\n",
    "    b2 = json.load(f)\n",
    "\n",
    "with open('../custom_data/feb24_mistral_inference_batch3.json','r') as f:\n",
    "    b3 = json.load(f)"
   ]
  },
  {
   "cell_type": "code",
   "execution_count": null,
   "id": "2630805c-5ad7-4980-a5b9-f56bc2161b41",
   "metadata": {},
   "outputs": [],
   "source": []
  },
  {
   "cell_type": "code",
   "execution_count": 3,
   "id": "a99c9d8a-e4e0-4f91-b5ab-dd5c99eaa0c5",
   "metadata": {},
   "outputs": [],
   "source": [
    "b1.update(b2)"
   ]
  },
  {
   "cell_type": "code",
   "execution_count": 4,
   "id": "1d737909-a4ed-4989-98aa-8b458e28377a",
   "metadata": {},
   "outputs": [],
   "source": [
    "b1.update(b3)"
   ]
  },
  {
   "cell_type": "code",
   "execution_count": 5,
   "id": "c819ded7-4dcc-4b23-8abd-16ac6a54ee0f",
   "metadata": {},
   "outputs": [
    {
     "data": {
      "text/plain": [
       "2449"
      ]
     },
     "execution_count": 5,
     "metadata": {},
     "output_type": "execute_result"
    }
   ],
   "source": [
    "len(b1.keys())"
   ]
  },
  {
   "cell_type": "code",
   "execution_count": null,
   "id": "3b08726a-bb65-4124-9503-e6ab887704ed",
   "metadata": {},
   "outputs": [],
   "source": []
  },
  {
   "cell_type": "code",
   "execution_count": 6,
   "id": "41d3c3de-9640-43b0-a6c0-712144395295",
   "metadata": {},
   "outputs": [
    {
     "name": "stdout",
     "output_type": "stream",
     "text": [
      "1425139\n"
     ]
    }
   ],
   "source": [
    "random_key = random.sample(list(b1.keys()),1)[0]\n",
    "print(random_key)"
   ]
  },
  {
   "cell_type": "code",
   "execution_count": null,
   "id": "323115fb-7a90-4068-976d-6a502ef155fc",
   "metadata": {},
   "outputs": [],
   "source": []
  },
  {
   "cell_type": "code",
   "execution_count": 7,
   "id": "32e2260e-ed4f-4a6f-8b51-00373287e451",
   "metadata": {},
   "outputs": [
    {
     "data": {
      "application/vnd.jupyter.widget-view+json": {
       "model_id": "40ca74261bee43df814482afde6a52b2",
       "version_major": 2,
       "version_minor": 0
      },
      "text/plain": [
       "  0%|          | 0/2449 [00:00<?, ?it/s]"
      ]
     },
     "metadata": {},
     "output_type": "display_data"
    }
   ],
   "source": [
    "results = {}\n",
    "errors = {}\n",
    "for key, json_string in tqdm(b1.items()):\n",
    "    try:\n",
    "        output = ast.literal_eval(json_string.strip())\n",
    "        results[key] = output\n",
    "    except:\n",
    "        errors[key] = json_string"
   ]
  },
  {
   "cell_type": "code",
   "execution_count": 8,
   "id": "a4ca1bc4-1d7b-4100-8980-11d425dd3f7f",
   "metadata": {},
   "outputs": [
    {
     "data": {
      "text/plain": [
       "41"
      ]
     },
     "execution_count": 8,
     "metadata": {},
     "output_type": "execute_result"
    }
   ],
   "source": [
    "len(errors.keys())"
   ]
  },
  {
   "cell_type": "code",
   "execution_count": 186,
   "id": "30008355-0eea-49cf-81d3-62db5bd75953",
   "metadata": {},
   "outputs": [
    {
     "data": {
      "text/plain": [
       "1.6741527153940383"
      ]
     },
     "execution_count": 186,
     "metadata": {},
     "output_type": "execute_result"
    }
   ],
   "source": [
    "(41/2449)*100"
   ]
  },
  {
   "cell_type": "code",
   "execution_count": null,
   "id": "34fa24e0-be09-409a-b72e-235a4c43537d",
   "metadata": {},
   "outputs": [],
   "source": []
  },
  {
   "cell_type": "code",
   "execution_count": null,
   "id": "0cf725f2-f0fb-4880-8ae7-0411ea0babc5",
   "metadata": {},
   "outputs": [],
   "source": []
  },
  {
   "cell_type": "code",
   "execution_count": null,
   "id": "44490e5c-2d41-436d-9efd-aef7349bfa2f",
   "metadata": {},
   "outputs": [],
   "source": []
  },
  {
   "cell_type": "code",
   "execution_count": null,
   "id": "7dfa8df8-e2df-411f-a9b1-846ee75e0e79",
   "metadata": {},
   "outputs": [],
   "source": []
  },
  {
   "cell_type": "code",
   "execution_count": 9,
   "id": "566f04b1-877d-43d8-8500-2621b4952654",
   "metadata": {},
   "outputs": [
    {
     "name": "stdout",
     "output_type": "stream",
     "text": [
      "86191\n"
     ]
    }
   ],
   "source": [
    "random_key = random.sample(list(results.keys()),1)[0]\n",
    "print(random_key)"
   ]
  },
  {
   "cell_type": "code",
   "execution_count": 10,
   "id": "d1e3fbdf-77fd-45dd-88df-f95faecf2cc7",
   "metadata": {},
   "outputs": [
    {
     "data": {
      "text/plain": [
       "[{'company': 'IGT Solutions Pvt Ltd',\n",
       "  'role': 'Manager',\n",
       "  'start_date': '01/2019',\n",
       "  'end_date': 'present'},\n",
       " {'company': 'InterGlobe Group',\n",
       "  'role': 'Assistant Manager',\n",
       "  'start_date': '07/2016',\n",
       "  'end_date': '12/2019'},\n",
       " {'company': 'InterGlobe Group',\n",
       "  'role': 'Sr.Executive',\n",
       "  'start_date': '05/2014',\n",
       "  'end_date': '06/2016'},\n",
       " {'company': 'EXL Services',\n",
       "  'role': 'Sr Associate | Internal Audit',\n",
       "  'start_date': '10/2012',\n",
       "  'end_date': '04/2014'},\n",
       " {'company': 'PriceWaterhouse Coopers (Gurgaon)',\n",
       "  'role': 'Analyst| Internal Audit',\n",
       "  'start_date': '01/2011',\n",
       "  'end_date': '09/2012'}]"
      ]
     },
     "execution_count": 10,
     "metadata": {},
     "output_type": "execute_result"
    }
   ],
   "source": [
    "results[random_key]"
   ]
  },
  {
   "cell_type": "code",
   "execution_count": 12,
   "id": "11ca388d-119f-4d43-afea-6c5a21d32342",
   "metadata": {},
   "outputs": [],
   "source": [
    "with open('../custom_data/llm_outputs/parsed_resumes_feb_march.json','w') as f:\n",
    "    json.dump(results,f)"
   ]
  },
  {
   "cell_type": "code",
   "execution_count": null,
   "id": "cc2e3eed-c1f6-47fd-909b-d454fc52c106",
   "metadata": {},
   "outputs": [],
   "source": []
  },
  {
   "cell_type": "markdown",
   "id": "fe34dcda-2e20-4069-ac2a-74c89384977c",
   "metadata": {},
   "source": [
    "## Errors evaluation"
   ]
  },
  {
   "cell_type": "code",
   "execution_count": null,
   "id": "6349c820-d4b4-4e7c-aeef-b9c9457964c3",
   "metadata": {},
   "outputs": [],
   "source": []
  },
  {
   "cell_type": "code",
   "execution_count": 157,
   "id": "a5f55b16-0550-4cf1-88c8-5b8146c2dc95",
   "metadata": {},
   "outputs": [
    {
     "data": {
      "text/plain": [
       "['124578',\n",
       " '175075',\n",
       " '226568',\n",
       " '311350',\n",
       " '354653',\n",
       " '373897',\n",
       " '439342',\n",
       " '500632',\n",
       " '512613',\n",
       " '588330',\n",
       " '614246',\n",
       " '663344',\n",
       " '666254',\n",
       " '678305',\n",
       " '692519',\n",
       " '884401',\n",
       " '937328',\n",
       " '953726',\n",
       " '953817',\n",
       " '970672',\n",
       " '983100',\n",
       " '1257256',\n",
       " '1279330',\n",
       " '1282341',\n",
       " '1289604',\n",
       " '1325524',\n",
       " '1352859',\n",
       " '1388216',\n",
       " '1424079',\n",
       " '1448439',\n",
       " '1502577',\n",
       " '1674905',\n",
       " '1719637',\n",
       " '1767169',\n",
       " '1805920',\n",
       " '1818472',\n",
       " '1845467',\n",
       " '1874037',\n",
       " '1896273',\n",
       " '1911619',\n",
       " '1962241']"
      ]
     },
     "execution_count": 157,
     "metadata": {},
     "output_type": "execute_result"
    }
   ],
   "source": [
    "list(errors.keys())"
   ]
  },
  {
   "cell_type": "code",
   "execution_count": 183,
   "id": "a1c028dd-8c13-45f1-9bce-e5ec078f15bf",
   "metadata": {},
   "outputs": [
    {
     "name": "stdout",
     "output_type": "stream",
     "text": [
      "Random UID : 884401\n",
      "\n"
     ]
    }
   ],
   "source": [
    "random_key = random.sample(list(errors.keys()),1)[0]\n",
    "print(f'Random UID : {random_key}\\n')"
   ]
  },
  {
   "cell_type": "code",
   "execution_count": 184,
   "id": "9ae898ea-4a9a-49db-b44b-f831ff9440bb",
   "metadata": {},
   "outputs": [
    {
     "data": {
      "text/plain": [
       "\"[{'company': 'Tata Consultancy Services', 'role': 'Software Engineer', 'start_date': '08/2022', 'end_date': 'present'}, {'company': 'Tata Consultancy Services', 'role': 'Software Engineer', 'start_date': '08/2022', 'end_date': 'present'}, {'company': 'Tata Consultancy Services', 'role': 'Software Engineer', 'start_date': '08/2022', 'end_date': 'present'}, {'company': 'Tata Consultancy Services', 'role': 'Software Engineer', 'start_date': '08/2022', 'end_date': 'present'}, {'company': 'Tata Consultancy Services', 'role': 'Software Engineer', 'start_date': '08/2022', 'end_date': 'present'}, {'company': 'Tata Consultancy Services', 'role': 'Software Engineer', 'start_date': '08/2022', 'end_date': 'present'}, {'company': 'Tata Consultancy Services', 'role': 'Software Engineer', 'start_date': '08/2022', 'end_date': 'present'}, {'company': 'Tata Consultancy Services', 'role': 'Software Engineer', 'start_date': '08/2022', 'end_date': 'present'}, {'company': 'Tata Consultancy Services', 'role': 'Software Engineer', 'start_date': '08/2022', 'end_date': 'present'}, {'company': 'Tata Consultancy Services', 'role': 'Software Engineer', 'start_date': '08/2022', 'end_date': 'present'}, {'company': 'Tata Consultancy Services', 'role': 'Software Engineer', 'start_date': '08/2022', 'end_date': 'present'}, {'company': 'Tata Consultancy Services', 'role': 'Software Engineer', 'start_date': '08/2022', 'end_date': 'present'}, {'company': 'Tata Consultancy Services', 'role': 'Software Engineer', 'start_date': '08/2022', 'end_date': 'present'}, {'company': 'Tata Consultancy Services', 'role': 'Software Engineer', 'start_date': '08/2022', 'end_date': 'present'}, {'company': 'Tata Consultancy Services', 'role': 'Software Engineer', 'start_date': '08/2022', 'end_date': 'present'}, {'company': 'Tata Consultancy Services', 'role': 'Software Engineer', 'start_date': '08/2022', 'end_date': 'present'}, {'company': 'Tata Consultancy Services', 'role': 'Software Engineer', 'start_date': '08/2022', 'end_date': 'present'}, {'company': 'Tata Consultancy Services', 'role': 'Software Engineer', 'start_date': '08/2022', 'end_date': 'present'}, {'company': 'Tata Consultancy Services', 'role': 'Software Engineer', 'start_date': '08/2022', 'end_date': 'present'}, {'company': 'Tata Consultancy Services', 'role': 'Software Engineer', 'start_date': '08/2022', 'end_date': 'present'}, {'company': 'Tata Consultancy Services', 'role': 'Software Engineer', 'start_date': '08/2022', 'end_date': 'present'}, {'company': 'Tata Consultancy Services', 'role': 'Software Engineer', 'start_date': '08/2022', 'end_date': 'present'}, {'company': 'Tata Consultancy Services', 'role': 'Software Engineer', 'start_date': '08/2022', 'end_date': 'present'}, {'company': 'Tata Consultancy Services', 'role': 'Software Engineer', 'start_date': '08/2022', 'end_date': 'present'}, {'company': 'Tata Consultancy Services', 'role': 'Software Engineer', 'start_date': '08/2022', 'end_date': 'present'}, {'company': 'Tata Consultancy Services', 'role': 'Software Engineer', 'start_date': '08/2022', 'end_date': 'present'}, {'company': 'Tata Consultancy Services', 'role': 'Software Engineer', 'start_date': '08/2022', 'end_date': 'present'}, {'company': 'Tata Consultancy Services', 'role': 'Software Engineer', 'start_date': '08/2022', 'end_date': 'present'}, {'company': 'Tata Consultancy Services', 'role': 'Software Engineer', 'start_date': '08/2022', 'end_date': 'present'}, {'company': 'Tata Consultancy Services', 'role': 'Software Engineer', 'start_date': '08/2022', 'end_date': 'present'}, {'company': 'Tata Consultancy Services', 'role': 'Software Engineer', 'start_date': '08/2022', 'end_date': 'present'}, {'company': 'Tata Consultancy Services', 'role': 'Software Engineer', 'start_date': '08/2022', 'end_date': 'present'}, {'company': 'Tata Consultancy Services', 'role': 'Software Engineer', 'start_date': '08/2022', 'end_date': 'present'}, {'company': 'Tata Consultancy Services', 'role': 'Software Engineer', 'start_date': '08/2022', 'end_date': 'present'}, {'company': 'Tata Consultancy Services', 'role': 'Software Engineer', 'start_date': '08/2022', 'end_date': 'present'}, {'company': 'Tata Consultancy Services', 'role': 'Software Engineer', 'start_date': '08/2022', 'end_date': 'present'}, {'company': 'Tata Consultancy Services', 'role': 'Software Engineer', 'start_date': '08/2022', 'end_date': 'present'}, {'company': 'Tata Consultancy Services', 'role': 'Software Engineer', 'start_date': '08/2022', 'end_date': 'present'}, {'company': 'Tata Consultancy Services', 'role': 'Software Engineer', 'start_date': '08/2022', 'end_date': 'present'}, {'company': 'Tata Consultancy Services', 'role': 'Software Engineer', 'start_date': '08/2022', 'end_date': 'present'}, {'company': 'Tata Consultancy Services', 'role': 'Software Engineer', 'start_date': '08/2022', 'end_date': 'present'}, {'company': 'Tata Consultancy Services', 'role': 'Software Engineer', 'start_date': '08/2022', 'end_date': 'present'}, {'company': 'Tata Consultancy Services', 'role': 'Software Engineer', 'start_date': '08/2022', 'end_date': 'present'}, {'company': 'Tata Consultancy Services', 'role': 'Software Engineer', 'start_date': '08/2022', 'end_date': 'present'}, {'company': 'Tata Consultancy Services', 'role': 'Software Engineer', 'start_date': '08/2022', 'end_date': 'present'}, {'company': 'Tata Consultancy Services', 'role': 'Software Engineer', 'start_date': '08/2022', 'end_date': 'present'}, {'company': 'Tata Consultancy Services', 'role': 'Software Engineer', 'start_date': '08/2022', 'end_date': 'present'}, {'company': 'Tata Consultancy Services', 'role': 'Software Engineer', 'start_date': '08/2022', 'end_date': 'present'}, {'company': 'Tata Consultancy Services', 'role': 'Software Engineer', 'start_date': '08/202\""
      ]
     },
     "execution_count": 184,
     "metadata": {},
     "output_type": "execute_result"
    }
   ],
   "source": [
    "errors[random_key].replace('\\n','')"
   ]
  },
  {
   "cell_type": "code",
   "execution_count": null,
   "id": "08b009f8-ff20-4366-b587-03c63f14c82b",
   "metadata": {},
   "outputs": [],
   "source": []
  },
  {
   "cell_type": "markdown",
   "id": "699e7406-93ba-42d1-8115-2b025d90b55e",
   "metadata": {},
   "source": []
  },
  {
   "cell_type": "code",
   "execution_count": null,
   "id": "45e8703f-1b42-40f0-ad3a-773c44ec0629",
   "metadata": {},
   "outputs": [],
   "source": []
  },
  {
   "cell_type": "code",
   "execution_count": null,
   "id": "baa2f01a-304f-4f7c-838b-e2fdfa5ef12a",
   "metadata": {},
   "outputs": [],
   "source": []
  }
 ],
 "metadata": {
  "kernelspec": {
   "display_name": "Python 3 (ipykernel)",
   "language": "python",
   "name": "python3"
  },
  "language_info": {
   "codemirror_mode": {
    "name": "ipython",
    "version": 3
   },
   "file_extension": ".py",
   "mimetype": "text/x-python",
   "name": "python",
   "nbconvert_exporter": "python",
   "pygments_lexer": "ipython3",
   "version": "3.10.12"
  }
 },
 "nbformat": 4,
 "nbformat_minor": 5
}
