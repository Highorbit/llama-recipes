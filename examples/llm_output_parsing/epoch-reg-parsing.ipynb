{
 "cells": [
  {
   "cell_type": "code",
   "execution_count": 2,
   "id": "cf511910-ca06-4cee-b12a-a16cae4d7db0",
   "metadata": {},
   "outputs": [],
   "source": [
    "import re\n",
    "import string \n",
    "import json\n",
    "import ast\n",
    "import random\n",
    "from tqdm.notebook import tqdm"
   ]
  },
  {
   "cell_type": "code",
   "execution_count": null,
   "id": "5017321d-889c-410a-9417-8392c36217ac",
   "metadata": {},
   "outputs": [],
   "source": []
  },
  {
   "cell_type": "code",
   "execution_count": 3,
   "id": "c54b0297-a454-4d41-8a04-b987657ca694",
   "metadata": {},
   "outputs": [],
   "source": [
    "with open('../custom_data/mistral/epoch_3.json','r') as f:\n",
    "    b1 = json.load(f)"
   ]
  },
  {
   "cell_type": "code",
   "execution_count": null,
   "id": "2630805c-5ad7-4980-a5b9-f56bc2161b41",
   "metadata": {},
   "outputs": [],
   "source": []
  },
  {
   "cell_type": "code",
   "execution_count": 4,
   "id": "3b08726a-bb65-4124-9503-e6ab887704ed",
   "metadata": {},
   "outputs": [
    {
     "data": {
      "text/plain": [
       "500"
      ]
     },
     "execution_count": 4,
     "metadata": {},
     "output_type": "execute_result"
    }
   ],
   "source": [
    "len(b1.keys())"
   ]
  },
  {
   "cell_type": "code",
   "execution_count": 5,
   "id": "41d3c3de-9640-43b0-a6c0-712144395295",
   "metadata": {},
   "outputs": [
    {
     "name": "stdout",
     "output_type": "stream",
     "text": [
      "2687112\n"
     ]
    }
   ],
   "source": [
    "random_key = random.sample(list(b1.keys()),1)[0]\n",
    "print(random_key)"
   ]
  },
  {
   "cell_type": "code",
   "execution_count": null,
   "id": "323115fb-7a90-4068-976d-6a502ef155fc",
   "metadata": {},
   "outputs": [],
   "source": []
  },
  {
   "cell_type": "code",
   "execution_count": 6,
   "id": "32e2260e-ed4f-4a6f-8b51-00373287e451",
   "metadata": {},
   "outputs": [
    {
     "data": {
      "application/vnd.jupyter.widget-view+json": {
       "model_id": "33e575dfaf2f451c8a34555b60ef0865",
       "version_major": 2,
       "version_minor": 0
      },
      "text/plain": [
       "  0%|          | 0/500 [00:00<?, ?it/s]"
      ]
     },
     "metadata": {},
     "output_type": "display_data"
    }
   ],
   "source": [
    "results = {}\n",
    "errors = {}\n",
    "for key, json_string in tqdm(b1.items()):\n",
    "    try:\n",
    "        output = ast.literal_eval(json_string.strip())\n",
    "        results[key] = output\n",
    "    except:\n",
    "        errors[key] = json_string"
   ]
  },
  {
   "cell_type": "code",
   "execution_count": 7,
   "id": "a4ca1bc4-1d7b-4100-8980-11d425dd3f7f",
   "metadata": {},
   "outputs": [
    {
     "data": {
      "text/plain": [
       "2"
      ]
     },
     "execution_count": 7,
     "metadata": {},
     "output_type": "execute_result"
    }
   ],
   "source": [
    "len(errors.keys())"
   ]
  },
  {
   "cell_type": "code",
   "execution_count": null,
   "id": "30008355-0eea-49cf-81d3-62db5bd75953",
   "metadata": {},
   "outputs": [],
   "source": []
  },
  {
   "cell_type": "code",
   "execution_count": 82,
   "id": "566f04b1-877d-43d8-8500-2621b4952654",
   "metadata": {},
   "outputs": [
    {
     "name": "stdout",
     "output_type": "stream",
     "text": [
      "2687521\n"
     ]
    }
   ],
   "source": [
    "random_key = random.sample(list(results.keys()),1)[0]\n",
    "print(random_key)"
   ]
  },
  {
   "cell_type": "code",
   "execution_count": 83,
   "id": "d1e3fbdf-77fd-45dd-88df-f95faecf2cc7",
   "metadata": {},
   "outputs": [
    {
     "data": {
      "text/plain": [
       "[{'company': 'Royal Mark',\n",
       "  'role': 'Business Development Manager',\n",
       "  'start_date': '09/2020',\n",
       "  'end_date': '02/2022'},\n",
       " {'company': \"BYJU's - Think & Learn\",\n",
       "  'role': 'Inside Sales Associate',\n",
       "  'start_date': '01/2020',\n",
       "  'end_date': '09/2020'},\n",
       " {'company': 'Astroport India',\n",
       "  'role': 'Education Officer',\n",
       "  'start_date': '12/2018',\n",
       "  'end_date': '12/2019'}]"
      ]
     },
     "execution_count": 83,
     "metadata": {},
     "output_type": "execute_result"
    }
   ],
   "source": [
    "results[random_key]"
   ]
  },
  {
   "cell_type": "code",
   "execution_count": null,
   "id": "56a149fb-37d0-40bf-b3bf-c1334dab4665",
   "metadata": {},
   "outputs": [],
   "source": []
  },
  {
   "cell_type": "code",
   "execution_count": null,
   "id": "f7c93572-383a-4d69-9a1d-a9241e03cb9e",
   "metadata": {},
   "outputs": [],
   "source": []
  },
  {
   "cell_type": "code",
   "execution_count": 18,
   "id": "11ca388d-119f-4d43-afea-6c5a21d32342",
   "metadata": {},
   "outputs": [],
   "source": [
    "with open('../custom_data/llm_outputs/parsed__new_resumes_march.json','w') as f:\n",
    "    json.dump(results,f)"
   ]
  },
  {
   "cell_type": "code",
   "execution_count": null,
   "id": "baa2f01a-304f-4f7c-838b-e2fdfa5ef12a",
   "metadata": {},
   "outputs": [],
   "source": []
  }
 ],
 "metadata": {
  "kernelspec": {
   "display_name": "Python 3 (ipykernel)",
   "language": "python",
   "name": "python3"
  },
  "language_info": {
   "codemirror_mode": {
    "name": "ipython",
    "version": 3
   },
   "file_extension": ".py",
   "mimetype": "text/x-python",
   "name": "python",
   "nbconvert_exporter": "python",
   "pygments_lexer": "ipython3",
   "version": "3.10.12"
  }
 },
 "nbformat": 4,
 "nbformat_minor": 5
}
