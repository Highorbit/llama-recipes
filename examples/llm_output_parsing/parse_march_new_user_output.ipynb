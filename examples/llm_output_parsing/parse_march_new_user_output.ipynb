{
 "cells": [
  {
   "cell_type": "code",
   "execution_count": 1,
   "id": "cf511910-ca06-4cee-b12a-a16cae4d7db0",
   "metadata": {},
   "outputs": [],
   "source": [
    "import re\n",
    "import string \n",
    "import json\n",
    "import ast\n",
    "import random\n",
    "from tqdm.notebook import tqdm"
   ]
  },
  {
   "cell_type": "code",
   "execution_count": null,
   "id": "5017321d-889c-410a-9417-8392c36217ac",
   "metadata": {},
   "outputs": [],
   "source": []
  },
  {
   "cell_type": "code",
   "execution_count": 2,
   "id": "c54b0297-a454-4d41-8a04-b987657ca694",
   "metadata": {},
   "outputs": [],
   "source": [
    "with open('../custom_data/march24_new_users.json','r') as f:\n",
    "    b1 = json.load(f)"
   ]
  },
  {
   "cell_type": "code",
   "execution_count": null,
   "id": "2630805c-5ad7-4980-a5b9-f56bc2161b41",
   "metadata": {},
   "outputs": [],
   "source": []
  },
  {
   "cell_type": "code",
   "execution_count": 4,
   "id": "3b08726a-bb65-4124-9503-e6ab887704ed",
   "metadata": {},
   "outputs": [
    {
     "data": {
      "text/plain": [
       "720"
      ]
     },
     "execution_count": 4,
     "metadata": {},
     "output_type": "execute_result"
    }
   ],
   "source": [
    "len(b1.keys())"
   ]
  },
  {
   "cell_type": "code",
   "execution_count": 5,
   "id": "41d3c3de-9640-43b0-a6c0-712144395295",
   "metadata": {
    "scrolled": true
   },
   "outputs": [
    {
     "name": "stdout",
     "output_type": "stream",
     "text": [
      "2827121\n"
     ]
    }
   ],
   "source": [
    "random_key = random.sample(list(b1.keys()),1)[0]\n",
    "print(random_key)"
   ]
  },
  {
   "cell_type": "code",
   "execution_count": null,
   "id": "323115fb-7a90-4068-976d-6a502ef155fc",
   "metadata": {},
   "outputs": [],
   "source": []
  },
  {
   "cell_type": "code",
   "execution_count": 6,
   "id": "32e2260e-ed4f-4a6f-8b51-00373287e451",
   "metadata": {},
   "outputs": [
    {
     "data": {
      "application/vnd.jupyter.widget-view+json": {
       "model_id": "ccd3999b68a74628a8139af1531b1c24",
       "version_major": 2,
       "version_minor": 0
      },
      "text/plain": [
       "  0%|          | 0/720 [00:00<?, ?it/s]"
      ]
     },
     "metadata": {},
     "output_type": "display_data"
    }
   ],
   "source": [
    "results = {}\n",
    "errors = {}\n",
    "for key, json_string in tqdm(b1.items()):\n",
    "    try:\n",
    "        output = ast.literal_eval(json_string.strip())\n",
    "        results[key] = output\n",
    "    except:\n",
    "        errors[key] = json_string"
   ]
  },
  {
   "cell_type": "code",
   "execution_count": 7,
   "id": "a4ca1bc4-1d7b-4100-8980-11d425dd3f7f",
   "metadata": {},
   "outputs": [
    {
     "data": {
      "text/plain": [
       "11"
      ]
     },
     "execution_count": 7,
     "metadata": {},
     "output_type": "execute_result"
    }
   ],
   "source": [
    "len(errors.keys())"
   ]
  },
  {
   "cell_type": "code",
   "execution_count": null,
   "id": "30008355-0eea-49cf-81d3-62db5bd75953",
   "metadata": {},
   "outputs": [],
   "source": []
  },
  {
   "cell_type": "code",
   "execution_count": 23,
   "id": "566f04b1-877d-43d8-8500-2621b4952654",
   "metadata": {},
   "outputs": [
    {
     "name": "stdout",
     "output_type": "stream",
     "text": [
      "2826422\n"
     ]
    }
   ],
   "source": [
    "random_key = random.sample(list(results.keys()),1)[0]\n",
    "print(random_key)"
   ]
  },
  {
   "cell_type": "code",
   "execution_count": 24,
   "id": "d1e3fbdf-77fd-45dd-88df-f95faecf2cc7",
   "metadata": {},
   "outputs": [
    {
     "data": {
      "text/plain": [
       "[{'company': 'Kfin Technologies Limited',\n",
       "  'role': 'Deputy Manager Unit Operations',\n",
       "  'start_date': '07/2023',\n",
       "  'end_date': 'present'},\n",
       " {'company': 'Belgian Waffle Co.',\n",
       "  'role': 'Business Analyst Intern',\n",
       "  'start_date': '02/2022',\n",
       "  'end_date': '08/2022'}]"
      ]
     },
     "execution_count": 24,
     "metadata": {},
     "output_type": "execute_result"
    }
   ],
   "source": [
    "results[random_key]"
   ]
  },
  {
   "cell_type": "code",
   "execution_count": null,
   "id": "56a149fb-37d0-40bf-b3bf-c1334dab4665",
   "metadata": {},
   "outputs": [],
   "source": []
  },
  {
   "cell_type": "code",
   "execution_count": null,
   "id": "24111523-c7fa-4aaf-abbe-78dd499727bc",
   "metadata": {},
   "outputs": [],
   "source": []
  },
  {
   "cell_type": "code",
   "execution_count": null,
   "id": "f7c93572-383a-4d69-9a1d-a9241e03cb9e",
   "metadata": {},
   "outputs": [],
   "source": []
  },
  {
   "cell_type": "code",
   "execution_count": 18,
   "id": "11ca388d-119f-4d43-afea-6c5a21d32342",
   "metadata": {},
   "outputs": [],
   "source": [
    "with open('../custom_data/llm_outputs/parsed__new_resumes_march.json','w') as f:\n",
    "    json.dump(results,f)"
   ]
  },
  {
   "cell_type": "code",
   "execution_count": null,
   "id": "baa2f01a-304f-4f7c-838b-e2fdfa5ef12a",
   "metadata": {},
   "outputs": [],
   "source": []
  }
 ],
 "metadata": {
  "kernelspec": {
   "display_name": "Python 3 (ipykernel)",
   "language": "python",
   "name": "python3"
  },
  "language_info": {
   "codemirror_mode": {
    "name": "ipython",
    "version": 3
   },
   "file_extension": ".py",
   "mimetype": "text/x-python",
   "name": "python",
   "nbconvert_exporter": "python",
   "pygments_lexer": "ipython3",
   "version": "3.10.12"
  }
 },
 "nbformat": 4,
 "nbformat_minor": 5
}
