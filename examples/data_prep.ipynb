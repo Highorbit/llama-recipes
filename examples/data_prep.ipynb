{
 "cells": [
  {
   "cell_type": "code",
   "execution_count": 20,
   "id": "df4de648-5266-4812-b886-f3369fbfa86b",
   "metadata": {
    "tags": []
   },
   "outputs": [],
   "source": [
    "import pandas as pd\n",
    "import pickle\n",
    "from datasets import Dataset"
   ]
  },
  {
   "cell_type": "code",
   "execution_count": 21,
   "id": "bce07c6d-fae6-4d63-828d-bec1e78e438e",
   "metadata": {
    "tags": []
   },
   "outputs": [],
   "source": [
    "\n",
    "import sys\n",
    "sys.path.append('/home/ec2-user/SageMaker/llama_root/src')\n",
    "sys.path.append('../llama-recipes/src/llama_recipes/')"
   ]
  },
  {
   "cell_type": "code",
   "execution_count": 22,
   "id": "dcf8fbe9-cfde-4e07-afdc-358385113136",
   "metadata": {
    "tags": []
   },
   "outputs": [],
   "source": [
    "from transformers import LlamaForCausalLM, LlamaTokenizer\n",
    "\n",
    "model_id=\"meta-llama/Llama-2-7b-chat-hf\"\n",
    "\n",
    "tokenizer = LlamaTokenizer.from_pretrained(model_id)"
   ]
  },
  {
   "cell_type": "code",
   "execution_count": null,
   "id": "39f90510-1c51-48cf-ab0b-07be150dafd4",
   "metadata": {},
   "outputs": [],
   "source": []
  },
  {
   "cell_type": "code",
   "execution_count": 23,
   "id": "70a82b43-c058-4b6a-85f5-232a9c156778",
   "metadata": {
    "tags": []
   },
   "outputs": [],
   "source": [
    "df = pd.read_csv('custom_data/gpt4_parsed_resumes.csv')"
   ]
  },
  {
   "cell_type": "code",
   "execution_count": 24,
   "id": "b07bca94-2591-4224-ae4f-fd406d22c6e3",
   "metadata": {
    "tags": []
   },
   "outputs": [
    {
     "data": {
      "text/plain": [
       "Index(['id', 'resume', 'basic_details', 'work_experience', 'education',\n",
       "       'technical_skills'],\n",
       "      dtype='object')"
      ]
     },
     "execution_count": 24,
     "metadata": {},
     "output_type": "execute_result"
    }
   ],
   "source": [
    "df.columns"
   ]
  },
  {
   "cell_type": "code",
   "execution_count": null,
   "id": "2992d2ab-9985-4b0d-b4b5-caaaf853ecdb",
   "metadata": {},
   "outputs": [],
   "source": []
  },
  {
   "cell_type": "markdown",
   "id": "59335d34-039a-4706-9753-b8fe14f1f48e",
   "metadata": {
    "tags": []
   },
   "source": [
    "## Work Experience Training Data\n",
    "We try and define a decent text prompt here for the base untrained model to understand the general task of extracting work experience from a resume"
   ]
  },
  {
   "cell_type": "code",
   "execution_count": 25,
   "id": "3bfdf1c9-78a0-445a-8599-400c3b55e3a3",
   "metadata": {
    "tags": []
   },
   "outputs": [],
   "source": [
    "work_prompt = f'''\n",
    "You are a helpful language model working for a job platform. You will be given the raw \n",
    " unstructured text of a user's resume, and the task is to extract the work experience of the \n",
    " user from the resume. Do NOT include the education or other certifications in the output.\n",
    " Extract the work experience from the raw text in the following format: \\n{{query_format}}\\n\n",
    "\n",
    " This is the resume text:\\n{{resume_text}}\\n\n",
    " This is the output in the required_format:\\n{{output}}\\n{{eos_token}}\n",
    "'''"
   ]
  },
  {
   "cell_type": "code",
   "execution_count": null,
   "id": "d2c6ab1b-4a91-4399-a81b-5e20efe058f3",
   "metadata": {},
   "outputs": [],
   "source": []
  },
  {
   "cell_type": "markdown",
   "id": "6173f9b3-f0f3-4e4b-ab88-80e70612b0d4",
   "metadata": {
    "tags": []
   },
   "source": [
    "### Output Format \n",
    "We're telling the model how to format the output and give us a repsonse"
   ]
  },
  {
   "cell_type": "code",
   "execution_count": 26,
   "id": "6d01f1a2-f7ce-4513-9a93-304fff0595cd",
   "metadata": {
    "tags": []
   },
   "outputs": [],
   "source": [
    "work_format = '''{\n",
    "    'work_experience': [{'company': 'company Name 1',\n",
    "                         'role': 'job designation 1',\n",
    "                         'start_date': 'mm/yyyy',\n",
    "                         'end_date': 'mm/yyyy',\n",
    "                         'description': 'complete Job description taken from resume'},\n",
    "                        {'company': 'company name 2',\n",
    "                         'role': 'job designation 2',\n",
    "                         'start_date': mm/yyyy',\n",
    "                         'end_date': 'mm/yyyy',\n",
    "                         'description': 'complete Job description taken from resume'}]\n",
    "}'''"
   ]
  },
  {
   "cell_type": "code",
   "execution_count": 27,
   "id": "3d4ab092-8db8-4ec0-8c0b-3e19e80dabfe",
   "metadata": {
    "tags": []
   },
   "outputs": [],
   "source": [
    "work_df = df[['resume','work_experience']]"
   ]
  },
  {
   "cell_type": "code",
   "execution_count": 28,
   "id": "5e443bf8-b7e3-45ba-88ed-9722d69a8327",
   "metadata": {
    "tags": []
   },
   "outputs": [
    {
     "data": {
      "text/html": [
       "<div>\n",
       "<style scoped>\n",
       "    .dataframe tbody tr th:only-of-type {\n",
       "        vertical-align: middle;\n",
       "    }\n",
       "\n",
       "    .dataframe tbody tr th {\n",
       "        vertical-align: top;\n",
       "    }\n",
       "\n",
       "    .dataframe thead th {\n",
       "        text-align: right;\n",
       "    }\n",
       "</style>\n",
       "<table border=\"1\" class=\"dataframe\">\n",
       "  <thead>\n",
       "    <tr style=\"text-align: right;\">\n",
       "      <th></th>\n",
       "      <th>resume</th>\n",
       "      <th>work_experience</th>\n",
       "    </tr>\n",
       "  </thead>\n",
       "  <tbody>\n",
       "    <tr>\n",
       "      <th>0</th>\n",
       "      <td>Vaishnavi Moholkar\\n Software Developer\\n vai...</td>\n",
       "      <td>{'company': 'Fintech Credit Systems India Pvt....</td>\n",
       "    </tr>\n",
       "    <tr>\n",
       "      <th>1</th>\n",
       "      <td>Akshat Srivastav - Resume\\n\\n\\n\\nContact Info...</td>\n",
       "      <td>{'company': 'Turno, Bangalore', 'role': 'Data ...</td>\n",
       "    </tr>\n",
       "    <tr>\n",
       "      <th>2</th>\n",
       "      <td>DEVA KUMAR\\nEmail: devasqldev@gmail.com\\nConta...</td>\n",
       "      <td>{'company': 'Infosys Technologies PVT ltd', 'r...</td>\n",
       "    </tr>\n",
       "    <tr>\n",
       "      <th>3</th>\n",
       "      <td>I&amp;rsquo;m\\n lo,\\n\\n Ashiti Khanuja\\n Hel\\n UX...</td>\n",
       "      <td>{'company': 'Turno', 'role': 'UX / UI Designer...</td>\n",
       "    </tr>\n",
       "    <tr>\n",
       "      <th>4</th>\n",
       "      <td>Hi! I'am Arun S\\n UI/UX Designer\\n\\n +91-8610...</td>\n",
       "      <td>{'company': 'Tata Consultancy Services', 'role...</td>\n",
       "    </tr>\n",
       "    <tr>\n",
       "      <th>...</th>\n",
       "      <td>...</td>\n",
       "      <td>...</td>\n",
       "    </tr>\n",
       "    <tr>\n",
       "      <th>136</th>\n",
       "      <td>GAYATHIRI R\\n Thanjavur, Tamil Nadu | P: +91 ...</td>\n",
       "      <td>{'company': 'BANK OF AMERICA', 'role': 'Softwa...</td>\n",
       "    </tr>\n",
       "    <tr>\n",
       "      <th>137</th>\n",
       "      <td>Sivakumar Akella\\n\\n Technical Program Manager...</td>\n",
       "      <td>{'company': 'NSPlus Technology Pvt. Ltd.', 'ro...</td>\n",
       "    </tr>\n",
       "    <tr>\n",
       "      <th>138</th>\n",
       "      <td>Deepak Mishra\\n deepakmishrapc2020@gmail.com\\...</td>\n",
       "      <td>{'company': 'Gainsight Software Pvt Ltd', 'rol...</td>\n",
       "    </tr>\n",
       "    <tr>\n",
       "      <th>139</th>\n",
       "      <td>Kumari Anjali\\n +91-9074799694 | anjali41256@...</td>\n",
       "      <td>{'company': 'Vias Groups', 'role': 'DevOps Eng...</td>\n",
       "    </tr>\n",
       "    <tr>\n",
       "      <th>140</th>\n",
       "      <td>Hemant Vasant Sakpal\\n\\n\\nSummary -\\n\\n\\n Dig...</td>\n",
       "      <td>{'company': 'Capgemini', 'role': 'Program Mana...</td>\n",
       "    </tr>\n",
       "  </tbody>\n",
       "</table>\n",
       "<p>141 rows × 2 columns</p>\n",
       "</div>"
      ],
      "text/plain": [
       "                                                resume  \\\n",
       "0     Vaishnavi Moholkar\\n Software Developer\\n vai...   \n",
       "1     Akshat Srivastav - Resume\\n\\n\\n\\nContact Info...   \n",
       "2    DEVA KUMAR\\nEmail: devasqldev@gmail.com\\nConta...   \n",
       "3     I&rsquo;m\\n lo,\\n\\n Ashiti Khanuja\\n Hel\\n UX...   \n",
       "4     Hi! I'am Arun S\\n UI/UX Designer\\n\\n +91-8610...   \n",
       "..                                                 ...   \n",
       "136   GAYATHIRI R\\n Thanjavur, Tamil Nadu | P: +91 ...   \n",
       "137  Sivakumar Akella\\n\\n Technical Program Manager...   \n",
       "138   Deepak Mishra\\n deepakmishrapc2020@gmail.com\\...   \n",
       "139   Kumari Anjali\\n +91-9074799694 | anjali41256@...   \n",
       "140   Hemant Vasant Sakpal\\n\\n\\nSummary -\\n\\n\\n Dig...   \n",
       "\n",
       "                                       work_experience  \n",
       "0    {'company': 'Fintech Credit Systems India Pvt....  \n",
       "1    {'company': 'Turno, Bangalore', 'role': 'Data ...  \n",
       "2    {'company': 'Infosys Technologies PVT ltd', 'r...  \n",
       "3    {'company': 'Turno', 'role': 'UX / UI Designer...  \n",
       "4    {'company': 'Tata Consultancy Services', 'role...  \n",
       "..                                                 ...  \n",
       "136  {'company': 'BANK OF AMERICA', 'role': 'Softwa...  \n",
       "137  {'company': 'NSPlus Technology Pvt. Ltd.', 'ro...  \n",
       "138  {'company': 'Gainsight Software Pvt Ltd', 'rol...  \n",
       "139  {'company': 'Vias Groups', 'role': 'DevOps Eng...  \n",
       "140  {'company': 'Capgemini', 'role': 'Program Mana...  \n",
       "\n",
       "[141 rows x 2 columns]"
      ]
     },
     "execution_count": 28,
     "metadata": {},
     "output_type": "execute_result"
    }
   ],
   "source": [
    "work_df"
   ]
  },
  {
   "cell_type": "code",
   "execution_count": 29,
   "id": "d421fa5e-b3ab-45fb-9657-79f237afd5ca",
   "metadata": {
    "tags": []
   },
   "outputs": [],
   "source": [
    "work_df.columns = ['resume','output']"
   ]
  },
  {
   "cell_type": "code",
   "execution_count": 30,
   "id": "d79c7946-6496-4cdf-ba24-7dd3d9f2cc30",
   "metadata": {
    "tags": []
   },
   "outputs": [
    {
     "name": "stderr",
     "output_type": "stream",
     "text": [
      "/tmp/ipykernel_22779/1997307274.py:1: SettingWithCopyWarning: \n",
      "A value is trying to be set on a copy of a slice from a DataFrame.\n",
      "Try using .loc[row_indexer,col_indexer] = value instead\n",
      "\n",
      "See the caveats in the documentation: https://pandas.pydata.org/pandas-docs/stable/user_guide/indexing.html#returning-a-view-versus-a-copy\n",
      "  work_df['format'] = work_format\n",
      "/tmp/ipykernel_22779/1997307274.py:2: SettingWithCopyWarning: \n",
      "A value is trying to be set on a copy of a slice from a DataFrame.\n",
      "Try using .loc[row_indexer,col_indexer] = value instead\n",
      "\n",
      "See the caveats in the documentation: https://pandas.pydata.org/pandas-docs/stable/user_guide/indexing.html#returning-a-view-versus-a-copy\n",
      "  work_df['prompt'] = work_prompt\n"
     ]
    }
   ],
   "source": [
    "work_df['format'] = work_format\n",
    "work_df['prompt'] = work_prompt\n",
    "work_data = Dataset.from_pandas(work_df)"
   ]
  },
  {
   "cell_type": "code",
   "execution_count": null,
   "id": "59420ff2-853a-45da-80b9-9822c8a0e780",
   "metadata": {
    "tags": []
   },
   "outputs": [],
   "source": []
  },
  {
   "cell_type": "code",
   "execution_count": 31,
   "id": "f2232e1a-a2a8-4a8e-8bae-05119ea85336",
   "metadata": {
    "tags": []
   },
   "outputs": [],
   "source": [
    "from llama_recipes.utils.dataset_utils import get_preprocessed_dataset\n",
    "from llama_recipes.datasets.utils import Concatenator\n"
   ]
  },
  {
   "cell_type": "code",
   "execution_count": null,
   "id": "bf6a4976-b464-40b4-938c-1d9d106e759c",
   "metadata": {},
   "outputs": [],
   "source": []
  },
  {
   "cell_type": "code",
   "execution_count": 32,
   "id": "d186af96-d722-4bf9-ab31-88e90f80da6e",
   "metadata": {
    "tags": []
   },
   "outputs": [
    {
     "data": {
      "text/plain": [
       "Dataset({\n",
       "    features: ['resume', 'output', 'format', 'prompt'],\n",
       "    num_rows: 141\n",
       "})"
      ]
     },
     "execution_count": 32,
     "metadata": {},
     "output_type": "execute_result"
    }
   ],
   "source": [
    "work_data"
   ]
  },
  {
   "cell_type": "code",
   "execution_count": 33,
   "id": "f724dc89-579a-4725-84b9-f858e5230553",
   "metadata": {
    "tags": []
   },
   "outputs": [
    {
     "name": "stdout",
     "output_type": "stream",
     "text": [
      "{\n",
      "    'work_experience': [{'company': 'company Name 1',\n",
      "                         'role': 'job designation 1',\n",
      "                         'start_date': 'mm/yyyy',\n",
      "                         'end_date': 'mm/yyyy',\n",
      "                         'description': 'complete Job description taken from resume'},\n",
      "                        {'company': 'company name 2',\n",
      "                         'role': 'job designation 2',\n",
      "                         'start_date': mm/yyyy',\n",
      "                         'end_date': 'mm/yyyy',\n",
      "                         'description': 'complete Job description taken from resume'}]\n",
      "}\n"
     ]
    }
   ],
   "source": [
    "print(work_data[4]['format'])"
   ]
  },
  {
   "cell_type": "code",
   "execution_count": null,
   "id": "3ca13d7e-f76e-4af7-a1e5-329cde4f3d45",
   "metadata": {
    "tags": []
   },
   "outputs": [],
   "source": []
  },
  {
   "cell_type": "code",
   "execution_count": 38,
   "id": "d226e7c9-d38a-4334-948e-8e07f927902e",
   "metadata": {
    "tags": []
   },
   "outputs": [
    {
     "name": "stdout",
     "output_type": "stream",
     "text": [
      "\n",
      "You are a helpful language model working for a job platform. You will be given the raw \n",
      " unstructured text of a user's resume, and the task is to extract the work experience of the \n",
      " user from the resume. Do NOT include the education or other certifications in the output.\n",
      " Extract the work experience from the raw text in the following format: \n",
      "{query_format}\n",
      "\n",
      "\n",
      " This is the resume text:\n",
      "{resume_text}\n",
      "\n",
      " This is the output in the required_format:\n",
      "{output}\n",
      "{eos_token}\n",
      "\n"
     ]
    }
   ],
   "source": [
    "print(work_data[4]['prompt'])"
   ]
  },
  {
   "cell_type": "code",
   "execution_count": null,
   "id": "83ef808a-cc3b-49fa-9149-679703c5514d",
   "metadata": {},
   "outputs": [],
   "source": []
  },
  {
   "cell_type": "code",
   "execution_count": null,
   "id": "4ba460c8-adc0-4f37-bf2b-9ec895861e8e",
   "metadata": {},
   "outputs": [],
   "source": []
  },
  {
   "cell_type": "code",
   "execution_count": 39,
   "id": "358d3e23-9b72-41a8-bf77-58a4323d8c15",
   "metadata": {
    "tags": []
   },
   "outputs": [],
   "source": [
    "\n",
    "# def apply_prompt_template(sample):\n",
    "#     return {\n",
    "#         \"text\": work_prompt.format(\n",
    "#             work_format=sample[\"format\"],\n",
    "#             resume_text=sample[\"resume\"],\n",
    "#             output=sample[\"output\"],\n",
    "#             eos_token=tokenizer.eos_token,\n",
    "#         )\n",
    "#     }\n",
    "\n",
    "# work_ds = work_data.map(apply_prompt_template, remove_columns=list(work_data.features))\n",
    "\n",
    "# work_ds = work_ds.map(\n",
    "#     lambda sample: tokenizer(sample[\"text\"]),\n",
    "#     batched=True,\n",
    "#     remove_columns=list(work_ds.features),\n",
    "# ).map(Concatenator(), batched=True)\n",
    "\n"
   ]
  },
  {
   "cell_type": "code",
   "execution_count": null,
   "id": "41776b3e-4fb7-4c2d-a6b8-6da0a8fa5310",
   "metadata": {
    "tags": []
   },
   "outputs": [],
   "source": []
  },
  {
   "cell_type": "code",
   "execution_count": null,
   "id": "310b76e7-5446-4a85-9dbf-8e1c51666528",
   "metadata": {},
   "outputs": [],
   "source": []
  },
  {
   "cell_type": "markdown",
   "id": "26291d0a-f30c-4af2-ae47-6de61b568aee",
   "metadata": {
    "tags": []
   },
   "source": [
    "## Personal Information Training Data\n",
    "We try and define a decent text prompt here for the base untrained model to understand the general task of extracting work experience from a resume"
   ]
  },
  {
   "cell_type": "code",
   "execution_count": null,
   "id": "d8918b2e-93c0-4153-96bb-b8ae208816f7",
   "metadata": {
    "tags": []
   },
   "outputs": [],
   "source": []
  },
  {
   "cell_type": "code",
   "execution_count": null,
   "id": "04bc3565-d6e7-4190-bbbc-8a8dc532d9d2",
   "metadata": {},
   "outputs": [],
   "source": []
  },
  {
   "cell_type": "code",
   "execution_count": 40,
   "id": "17ec46bc-11e8-40c3-b9e9-5a687f039b44",
   "metadata": {
    "tags": []
   },
   "outputs": [],
   "source": [
    "pi_format = '''{\n",
    "    'personal_information': {'name': \"Name\",\n",
    "                         'email_id': \"Valid Email ID\",\n",
    "                         'phone_number': \"10 Digit phone number\",\n",
    "                         'location': \"User's current location\"}\n",
    "}'''"
   ]
  },
  {
   "cell_type": "code",
   "execution_count": 41,
   "id": "57610822-c9b8-4e92-9688-f0e666f9e6c9",
   "metadata": {
    "tags": []
   },
   "outputs": [],
   "source": [
    "pi_prompt = f'''\n",
    "You are a helpful language model working for a job platform. You will be given the raw \n",
    " unstructured text of a user's resume, and the task is to extract the personal information (name, phone number, email ID and the location) of the \n",
    " user from the raw text in the following format: \\n{{query_format}}\\n\n",
    " If the information is not available, return 'NA'\n",
    " This is the resume text:\\n{{resume_text}}\\n\n",
    " This is the output in the required_format:\\n{{output}}\\n{{eos_token}}\n",
    "'''"
   ]
  },
  {
   "cell_type": "code",
   "execution_count": 42,
   "id": "9b6fb771-22f1-4dae-af59-a54bdd066020",
   "metadata": {
    "tags": []
   },
   "outputs": [],
   "source": [
    "pi_df = df[['resume','basic_details']]"
   ]
  },
  {
   "cell_type": "code",
   "execution_count": 43,
   "id": "78f4c463-94c3-4b3c-ab12-ca94c6a5db60",
   "metadata": {
    "tags": []
   },
   "outputs": [],
   "source": [
    "pi_df.columns = ['resume','output']"
   ]
  },
  {
   "cell_type": "code",
   "execution_count": 44,
   "id": "7837164e-0772-4995-a1ff-210ade38631e",
   "metadata": {
    "tags": []
   },
   "outputs": [
    {
     "data": {
      "text/html": [
       "<div>\n",
       "<style scoped>\n",
       "    .dataframe tbody tr th:only-of-type {\n",
       "        vertical-align: middle;\n",
       "    }\n",
       "\n",
       "    .dataframe tbody tr th {\n",
       "        vertical-align: top;\n",
       "    }\n",
       "\n",
       "    .dataframe thead th {\n",
       "        text-align: right;\n",
       "    }\n",
       "</style>\n",
       "<table border=\"1\" class=\"dataframe\">\n",
       "  <thead>\n",
       "    <tr style=\"text-align: right;\">\n",
       "      <th></th>\n",
       "      <th>resume</th>\n",
       "      <th>output</th>\n",
       "    </tr>\n",
       "  </thead>\n",
       "  <tbody>\n",
       "    <tr>\n",
       "      <th>0</th>\n",
       "      <td>Vaishnavi Moholkar\\n Software Developer\\n vai...</td>\n",
       "      <td>{'name': 'Vaishnavi Moholkar', 'location': 'Pu...</td>\n",
       "    </tr>\n",
       "    <tr>\n",
       "      <th>1</th>\n",
       "      <td>Akshat Srivastav - Resume\\n\\n\\n\\nContact Info...</td>\n",
       "      <td>{'name': 'Akshat Srivastav', 'location': 'Kora...</td>\n",
       "    </tr>\n",
       "    <tr>\n",
       "      <th>2</th>\n",
       "      <td>DEVA KUMAR\\nEmail: devasqldev@gmail.com\\nConta...</td>\n",
       "      <td>{'name': 'Deva Kumar', 'location': 'Hyderabad'...</td>\n",
       "    </tr>\n",
       "    <tr>\n",
       "      <th>3</th>\n",
       "      <td>I&amp;rsquo;m\\n lo,\\n\\n Ashiti Khanuja\\n Hel\\n UX...</td>\n",
       "      <td>{'name': 'Ashiti Khanuja', 'location': 'Baroda...</td>\n",
       "    </tr>\n",
       "    <tr>\n",
       "      <th>4</th>\n",
       "      <td>Hi! I'am Arun S\\n UI/UX Designer\\n\\n +91-8610...</td>\n",
       "      <td>{'name': 'Arun S', 'location': 'Chennai, Tamil...</td>\n",
       "    </tr>\n",
       "    <tr>\n",
       "      <th>...</th>\n",
       "      <td>...</td>\n",
       "      <td>...</td>\n",
       "    </tr>\n",
       "    <tr>\n",
       "      <th>136</th>\n",
       "      <td>GAYATHIRI R\\n Thanjavur, Tamil Nadu | P: +91 ...</td>\n",
       "      <td>{'name': 'GAYATHIRI R', 'location': 'Thanjavur...</td>\n",
       "    </tr>\n",
       "    <tr>\n",
       "      <th>137</th>\n",
       "      <td>Sivakumar Akella\\n\\n Technical Program Manager...</td>\n",
       "      <td>{'name': 'Sivakumar Akella', 'location': 'Bang...</td>\n",
       "    </tr>\n",
       "    <tr>\n",
       "      <th>138</th>\n",
       "      <td>Deepak Mishra\\n deepakmishrapc2020@gmail.com\\...</td>\n",
       "      <td>{'name': 'Deepak Mishra', 'location': 'Mumbai'...</td>\n",
       "    </tr>\n",
       "    <tr>\n",
       "      <th>139</th>\n",
       "      <td>Kumari Anjali\\n +91-9074799694 | anjali41256@...</td>\n",
       "      <td>{'name': 'Kumari Anjali', 'location': 'Unknown...</td>\n",
       "    </tr>\n",
       "    <tr>\n",
       "      <th>140</th>\n",
       "      <td>Hemant Vasant Sakpal\\n\\n\\nSummary -\\n\\n\\n Dig...</td>\n",
       "      <td>{'name': 'Hemant Vasant Sakpal', 'email': 'hem...</td>\n",
       "    </tr>\n",
       "  </tbody>\n",
       "</table>\n",
       "<p>141 rows × 2 columns</p>\n",
       "</div>"
      ],
      "text/plain": [
       "                                                resume  \\\n",
       "0     Vaishnavi Moholkar\\n Software Developer\\n vai...   \n",
       "1     Akshat Srivastav - Resume\\n\\n\\n\\nContact Info...   \n",
       "2    DEVA KUMAR\\nEmail: devasqldev@gmail.com\\nConta...   \n",
       "3     I&rsquo;m\\n lo,\\n\\n Ashiti Khanuja\\n Hel\\n UX...   \n",
       "4     Hi! I'am Arun S\\n UI/UX Designer\\n\\n +91-8610...   \n",
       "..                                                 ...   \n",
       "136   GAYATHIRI R\\n Thanjavur, Tamil Nadu | P: +91 ...   \n",
       "137  Sivakumar Akella\\n\\n Technical Program Manager...   \n",
       "138   Deepak Mishra\\n deepakmishrapc2020@gmail.com\\...   \n",
       "139   Kumari Anjali\\n +91-9074799694 | anjali41256@...   \n",
       "140   Hemant Vasant Sakpal\\n\\n\\nSummary -\\n\\n\\n Dig...   \n",
       "\n",
       "                                                output  \n",
       "0    {'name': 'Vaishnavi Moholkar', 'location': 'Pu...  \n",
       "1    {'name': 'Akshat Srivastav', 'location': 'Kora...  \n",
       "2    {'name': 'Deva Kumar', 'location': 'Hyderabad'...  \n",
       "3    {'name': 'Ashiti Khanuja', 'location': 'Baroda...  \n",
       "4    {'name': 'Arun S', 'location': 'Chennai, Tamil...  \n",
       "..                                                 ...  \n",
       "136  {'name': 'GAYATHIRI R', 'location': 'Thanjavur...  \n",
       "137  {'name': 'Sivakumar Akella', 'location': 'Bang...  \n",
       "138  {'name': 'Deepak Mishra', 'location': 'Mumbai'...  \n",
       "139  {'name': 'Kumari Anjali', 'location': 'Unknown...  \n",
       "140  {'name': 'Hemant Vasant Sakpal', 'email': 'hem...  \n",
       "\n",
       "[141 rows x 2 columns]"
      ]
     },
     "execution_count": 44,
     "metadata": {},
     "output_type": "execute_result"
    }
   ],
   "source": [
    "pi_df"
   ]
  },
  {
   "cell_type": "code",
   "execution_count": 45,
   "id": "72f949b6-d53f-49d8-a4d3-250949e53b75",
   "metadata": {
    "tags": []
   },
   "outputs": [
    {
     "name": "stderr",
     "output_type": "stream",
     "text": [
      "/tmp/ipykernel_22779/105246249.py:1: SettingWithCopyWarning: \n",
      "A value is trying to be set on a copy of a slice from a DataFrame.\n",
      "Try using .loc[row_indexer,col_indexer] = value instead\n",
      "\n",
      "See the caveats in the documentation: https://pandas.pydata.org/pandas-docs/stable/user_guide/indexing.html#returning-a-view-versus-a-copy\n",
      "  pi_df['format'] = pi_format\n",
      "/tmp/ipykernel_22779/105246249.py:2: SettingWithCopyWarning: \n",
      "A value is trying to be set on a copy of a slice from a DataFrame.\n",
      "Try using .loc[row_indexer,col_indexer] = value instead\n",
      "\n",
      "See the caveats in the documentation: https://pandas.pydata.org/pandas-docs/stable/user_guide/indexing.html#returning-a-view-versus-a-copy\n",
      "  pi_df['prompt'] = pi_prompt\n"
     ]
    }
   ],
   "source": [
    "pi_df['format'] = pi_format\n",
    "pi_df['prompt'] = pi_prompt\n",
    "pi_data = Dataset.from_pandas(pi_df)"
   ]
  },
  {
   "cell_type": "code",
   "execution_count": 150,
   "id": "0e9ef636-b7e6-4857-97fe-d66870138778",
   "metadata": {
    "tags": []
   },
   "outputs": [
    {
     "data": {
      "text/plain": [
       "Dataset({\n",
       "    features: ['resume', 'output', 'format', 'prompt'],\n",
       "    num_rows: 141\n",
       "})"
      ]
     },
     "execution_count": 150,
     "metadata": {},
     "output_type": "execute_result"
    }
   ],
   "source": [
    "pi_data"
   ]
  },
  {
   "cell_type": "code",
   "execution_count": null,
   "id": "d8101a1f-baf3-4efb-8c83-072ed6f181d9",
   "metadata": {
    "tags": []
   },
   "outputs": [],
   "source": []
  },
  {
   "cell_type": "code",
   "execution_count": null,
   "id": "d1b39499-6be2-4dfe-ac71-ad3de000b652",
   "metadata": {},
   "outputs": [],
   "source": []
  },
  {
   "cell_type": "code",
   "execution_count": null,
   "id": "7f9318b6-2535-4ffa-a5f4-bf37a7d66454",
   "metadata": {},
   "outputs": [],
   "source": []
  },
  {
   "cell_type": "code",
   "execution_count": null,
   "id": "07089672-2e84-442c-bb42-416f007b9488",
   "metadata": {},
   "outputs": [],
   "source": []
  },
  {
   "cell_type": "code",
   "execution_count": 151,
   "id": "f8b65f2b-326f-4e49-bf50-c2c23223348a",
   "metadata": {
    "tags": []
   },
   "outputs": [],
   "source": [
    "# def pi_prompt_template(sample):\n",
    "    \n",
    "#     prompt = f'''\n",
    "#     You are a helpful language model working for a job platform. You will be given the raw \n",
    "#      unstructured text of a user's resume, and the task is to extract the personal information (name, phone number, email ID and the location) of the \n",
    "#      user from the raw text in the following format: \\n{{pi_format}}\\n\n",
    "#      If the information is not available, return 'NA'\n",
    "#      This is the resume text:\\n{{resume_text}}\\n\n",
    "#      This is the output in the required_format:\\n{{output}}\\n{{eos_token}}\n",
    "#     '''\n",
    "    \n",
    "#     return {\n",
    "#         \"text\": prompt.format(\n",
    "#             pi_format=sample[\"format\"],\n",
    "#             resume_text=sample[\"resume\"],\n",
    "#             output=sample[\"output\"],\n",
    "#             eos_token=tokenizer.eos_token,\n",
    "#         )\n",
    "#     }\n",
    "\n",
    "# pi_ds = pi_data.map(pi_prompt_template, remove_columns=list(pi_data.features))\n",
    "\n",
    "# pi_ds = pi_ds.map(\n",
    "#     lambda sample: tokenizer(sample[\"text\"]),\n",
    "#     batched=True,\n",
    "#     remove_columns=list(pi_ds.features),\n",
    "# ).map(Concatenator(), batched=True)\n"
   ]
  },
  {
   "cell_type": "code",
   "execution_count": null,
   "id": "839e87e8-67b3-4ee3-ad42-425a9c2a1921",
   "metadata": {
    "tags": []
   },
   "outputs": [],
   "source": []
  },
  {
   "cell_type": "markdown",
   "id": "5060e201-2dee-48fa-b10a-48c871a313f0",
   "metadata": {},
   "source": [
    "## Education Training Data\n",
    "We try and define a decent text prompt here for the base untrained model to understand the general task of extracting Education from a resume"
   ]
  },
  {
   "cell_type": "code",
   "execution_count": 152,
   "id": "5e520808-9373-4bda-8b39-fb538e51bf8d",
   "metadata": {
    "tags": []
   },
   "outputs": [],
   "source": [
    "from string import Template"
   ]
  },
  {
   "cell_type": "code",
   "execution_count": 51,
   "id": "f32e80df-43f1-47d1-9b9d-91f1bac5b6fc",
   "metadata": {
    "tags": []
   },
   "outputs": [],
   "source": [
    "edu_prompt = f'''\n",
    "You are a helpful language model working for a job platform. You will be given the raw \n",
    " unstructured text of a user's resume, and the task is to extract \n",
    " the educational information (graduate/post graduate degree name, institution name, start and end dates of the program) of the \n",
    " user from the raw text in the following format: \\n{{query_format}}\\n\n",
    " If the information for a certain field is not available, return 'NA'\n",
    " This is the resume text:\\n{{resume_text}}\\n\n",
    " This is the output in the required_format:\\n${{output}}\\n{{eos_token}}\n",
    "'''"
   ]
  },
  {
   "cell_type": "code",
   "execution_count": null,
   "id": "186221fb-edfa-4622-bb57-f6571b1df41a",
   "metadata": {},
   "outputs": [],
   "source": []
  },
  {
   "cell_type": "code",
   "execution_count": 52,
   "id": "3ec1b6f5-f741-4d12-ac24-e662ed42085b",
   "metadata": {
    "tags": []
   },
   "outputs": [],
   "source": [
    "edu_format = '''[\n",
    "    {\n",
    "        \"institution\": \"put name of educational institution here\"\n",
    "        \"program\" : \"name of degree/certification/diploma as given in the resume\"\n",
    "        \"start_date\" : \"start date in dd/mm/yyyy format\"\n",
    "        \"end_date\" : \"end date in dd/mm/yyyy format\"\n",
    "        \n",
    "    },\n",
    "    {\n",
    "        \"institution\": \"put name of educational institution here\"\n",
    "        \"program\" : \"name of degree/certification/diploma as given in the resume\"\n",
    "        \"start_date\" : \"start date in dd/mm/yyyy format\"\n",
    "        \"end_date\" : \"end date in dd/mm/yyyy format\"\n",
    "        \n",
    "    }\n",
    "]'''"
   ]
  },
  {
   "cell_type": "code",
   "execution_count": 53,
   "id": "b4f071c3-ec8d-469f-ac12-723736511929",
   "metadata": {
    "tags": []
   },
   "outputs": [],
   "source": [
    "edu_df = df[['resume','education']]"
   ]
  },
  {
   "cell_type": "code",
   "execution_count": 54,
   "id": "41872a30-3c2a-480d-b97e-b3e5ff7e1e42",
   "metadata": {
    "tags": []
   },
   "outputs": [],
   "source": [
    "edu_df.columns = ['resume','output']"
   ]
  },
  {
   "cell_type": "code",
   "execution_count": 55,
   "id": "1bddb30c-6f72-490a-ade1-f98c1f9f9105",
   "metadata": {
    "tags": []
   },
   "outputs": [
    {
     "name": "stderr",
     "output_type": "stream",
     "text": [
      "/tmp/ipykernel_22779/982490779.py:1: SettingWithCopyWarning: \n",
      "A value is trying to be set on a copy of a slice from a DataFrame.\n",
      "Try using .loc[row_indexer,col_indexer] = value instead\n",
      "\n",
      "See the caveats in the documentation: https://pandas.pydata.org/pandas-docs/stable/user_guide/indexing.html#returning-a-view-versus-a-copy\n",
      "  edu_df['prompt'] = edu_prompt\n",
      "/tmp/ipykernel_22779/982490779.py:2: SettingWithCopyWarning: \n",
      "A value is trying to be set on a copy of a slice from a DataFrame.\n",
      "Try using .loc[row_indexer,col_indexer] = value instead\n",
      "\n",
      "See the caveats in the documentation: https://pandas.pydata.org/pandas-docs/stable/user_guide/indexing.html#returning-a-view-versus-a-copy\n",
      "  edu_df['format'] = edu_format\n"
     ]
    }
   ],
   "source": [
    "edu_df['prompt'] = edu_prompt\n",
    "edu_df['format'] = edu_format\n",
    "edu_data = Dataset.from_pandas(edu_df)"
   ]
  },
  {
   "cell_type": "code",
   "execution_count": 56,
   "id": "d4f3f739-6392-41c9-a5f7-d10375481e8d",
   "metadata": {
    "tags": []
   },
   "outputs": [],
   "source": [
    "# def edu_prompt_template(sample):\n",
    "\n",
    "#     edu_prompt = Template('''You are a helpful language model working for a job platform. You will be given the raw \n",
    "#                      unstructured text of a user's resume, and the task is to extract \n",
    "#                      the educational information (graduate/post graduate degree name, institution name, email ID and the location) of the \n",
    "#                      user from the raw text in the following format: \\n${edu_format}\\n\n",
    "#                      If the information for a certain field is not available, return 'NA'\n",
    "#                      This is the resume text:\\n${resume_text}\\n\n",
    "#                      This is the output in the required_format:\\n${output}\\n{eos_token}\n",
    "#                     ''')\n",
    "\n",
    "#     return {\n",
    "#         \"text\": edu_prompt.substitute(\n",
    "#         edu_format=sample[\"format\"],\n",
    "#         resume_text=sample[\"resume\"],\n",
    "#         output=sample[\"output\"],\n",
    "#         eos_token=tokenizer.eos_token\n",
    "#         )\n",
    "#     }\n",
    "\n",
    "# edu_ds = edu_data.map(edu_prompt_template, remove_columns=list(edu_data.features))\n",
    "\n",
    "# edu_ds = edu_ds.map(\n",
    "#     lambda sample: tokenizer(sample[\"text\"]),\n",
    "#     batched=True,\n",
    "#     remove_columns=list(edu_ds.features),\n",
    "# ).map(Concatenator(), batched=True)\n"
   ]
  },
  {
   "cell_type": "code",
   "execution_count": null,
   "id": "4d80e6f0-ddad-4360-bfe3-3d99363d37fb",
   "metadata": {
    "tags": []
   },
   "outputs": [],
   "source": []
  },
  {
   "cell_type": "code",
   "execution_count": null,
   "id": "0da965cd-5284-42cd-976b-c66a75625b54",
   "metadata": {
    "tags": []
   },
   "outputs": [],
   "source": []
  },
  {
   "cell_type": "code",
   "execution_count": null,
   "id": "febb9b58-c4c0-4bed-a77f-6c26ff805ae2",
   "metadata": {},
   "outputs": [],
   "source": []
  },
  {
   "cell_type": "code",
   "execution_count": 57,
   "id": "cfb37b11-6460-4a54-a6c7-fadd709e108b",
   "metadata": {
    "tags": []
   },
   "outputs": [],
   "source": [
    "# from datasets import concatenate_datasets\n",
    "# train_data = concatenate_datasets([edu_ds, pi_ds, work_ds])"
   ]
  },
  {
   "cell_type": "code",
   "execution_count": 58,
   "id": "6a85c705-9d6d-478f-ba39-f77a13ba336a",
   "metadata": {
    "tags": []
   },
   "outputs": [],
   "source": [
    "import pandas as pd \n",
    "train_df = pd.concat([pi_df,work_df,edu_df])"
   ]
  },
  {
   "cell_type": "code",
   "execution_count": 59,
   "id": "cf2d5dbb-e901-4827-812b-5f910b505966",
   "metadata": {
    "tags": []
   },
   "outputs": [],
   "source": [
    "train_df = train_df.sample(frac=1)"
   ]
  },
  {
   "cell_type": "code",
   "execution_count": 60,
   "id": "dc61d8b2-3476-4fed-ac4c-59dc4ccd17f1",
   "metadata": {
    "tags": []
   },
   "outputs": [
    {
     "data": {
      "text/html": [
       "<div>\n",
       "<style scoped>\n",
       "    .dataframe tbody tr th:only-of-type {\n",
       "        vertical-align: middle;\n",
       "    }\n",
       "\n",
       "    .dataframe tbody tr th {\n",
       "        vertical-align: top;\n",
       "    }\n",
       "\n",
       "    .dataframe thead th {\n",
       "        text-align: right;\n",
       "    }\n",
       "</style>\n",
       "<table border=\"1\" class=\"dataframe\">\n",
       "  <thead>\n",
       "    <tr style=\"text-align: right;\">\n",
       "      <th></th>\n",
       "      <th>resume</th>\n",
       "      <th>output</th>\n",
       "      <th>format</th>\n",
       "      <th>prompt</th>\n",
       "    </tr>\n",
       "  </thead>\n",
       "  <tbody>\n",
       "    <tr>\n",
       "      <th>101</th>\n",
       "      <td>Dayakar A\\nEmail : dayakar.a1993@gmail.com\\nMo...</td>\n",
       "      <td>[{'institution': 'Sree Vidyanikethan Engineeri...</td>\n",
       "      <td>[\\n    {\\n        \"institution\": \"put name of ...</td>\n",
       "      <td>\\nYou are a helpful language model working for...</td>\n",
       "    </tr>\n",
       "    <tr>\n",
       "      <th>112</th>\n",
       "      <td>NaN</td>\n",
       "      <td>{'name': 'John Doe', 'location': 'San Francisc...</td>\n",
       "      <td>{\\n    'personal_information': {'name': \"Name\"...</td>\n",
       "      <td>\\nYou are a helpful language model working for...</td>\n",
       "    </tr>\n",
       "    <tr>\n",
       "      <th>49</th>\n",
       "      <td>Sandeep Jaiswal Professional Experience\\nData ...</td>\n",
       "      <td>{'company': 'X.L Dynamics Pvt Ltd', 'role': 'D...</td>\n",
       "      <td>{\\n    'work_experience': [{'company': 'compan...</td>\n",
       "      <td>\\nYou are a helpful language model working for...</td>\n",
       "    </tr>\n",
       "    <tr>\n",
       "      <th>108</th>\n",
       "      <td>Devyani Gaikwad Seeking long term employment i...</td>\n",
       "      <td>{'name': 'Devyani Gaikwad', 'location': 'Benga...</td>\n",
       "      <td>{\\n    'personal_information': {'name': \"Name\"...</td>\n",
       "      <td>\\nYou are a helpful language model working for...</td>\n",
       "    </tr>\n",
       "    <tr>\n",
       "      <th>38</th>\n",
       "      <td>Bipin Gupta\\n Software QA Engineer\\n Total 5+...</td>\n",
       "      <td>[{'institution': 'Lokmanya Tilak College of En...</td>\n",
       "      <td>[\\n    {\\n        \"institution\": \"put name of ...</td>\n",
       "      <td>\\nYou are a helpful language model working for...</td>\n",
       "    </tr>\n",
       "    <tr>\n",
       "      <th>...</th>\n",
       "      <td>...</td>\n",
       "      <td>...</td>\n",
       "      <td>...</td>\n",
       "      <td>...</td>\n",
       "    </tr>\n",
       "    <tr>\n",
       "      <th>106</th>\n",
       "      <td>Birari Sujata\\n\\nMob: + 91-9307576882\\n\\nE-mai...</td>\n",
       "      <td>[{'institution': 'Pune University', 'program':...</td>\n",
       "      <td>[\\n    {\\n        \"institution\": \"put name of ...</td>\n",
       "      <td>\\nYou are a helpful language model working for...</td>\n",
       "    </tr>\n",
       "    <tr>\n",
       "      <th>103</th>\n",
       "      <td>SHA MOHAMED BIJILI.H\\nS/o. HUSSAIN BIJILI,\\n#8...</td>\n",
       "      <td>{'company': 'Ford Motor Company', 'role': 'SPC...</td>\n",
       "      <td>{\\n    'work_experience': [{'company': 'compan...</td>\n",
       "      <td>\\nYou are a helpful language model working for...</td>\n",
       "    </tr>\n",
       "    <tr>\n",
       "      <th>94</th>\n",
       "      <td>Divya Wadhwa\\nMobile: +91- 9910344206\\nEmail: ...</td>\n",
       "      <td>{'name': 'Divya Wadhwa ', 'location': 'Not Men...</td>\n",
       "      <td>{\\n    'personal_information': {'name': \"Name\"...</td>\n",
       "      <td>\\nYou are a helpful language model working for...</td>\n",
       "    </tr>\n",
       "    <tr>\n",
       "      <th>130</th>\n",
       "      <td>,,</td>\n",
       "      <td>[{'institution': 'Columbia University', 'progr...</td>\n",
       "      <td>[\\n    {\\n        \"institution\": \"put name of ...</td>\n",
       "      <td>\\nYou are a helpful language model working for...</td>\n",
       "    </tr>\n",
       "    <tr>\n",
       "      <th>116</th>\n",
       "      <td>GOBI SHANKAR S\\nContact: +91-9629788548 | Ema...</td>\n",
       "      <td>{'name': 'Gobi Shankar S', 'location': 'Chenna...</td>\n",
       "      <td>{\\n    'personal_information': {'name': \"Name\"...</td>\n",
       "      <td>\\nYou are a helpful language model working for...</td>\n",
       "    </tr>\n",
       "  </tbody>\n",
       "</table>\n",
       "<p>423 rows × 4 columns</p>\n",
       "</div>"
      ],
      "text/plain": [
       "                                                resume  \\\n",
       "101  Dayakar A\\nEmail : dayakar.a1993@gmail.com\\nMo...   \n",
       "112                                                NaN   \n",
       "49   Sandeep Jaiswal Professional Experience\\nData ...   \n",
       "108  Devyani Gaikwad Seeking long term employment i...   \n",
       "38    Bipin Gupta\\n Software QA Engineer\\n Total 5+...   \n",
       "..                                                 ...   \n",
       "106  Birari Sujata\\n\\nMob: + 91-9307576882\\n\\nE-mai...   \n",
       "103  SHA MOHAMED BIJILI.H\\nS/o. HUSSAIN BIJILI,\\n#8...   \n",
       "94   Divya Wadhwa\\nMobile: +91- 9910344206\\nEmail: ...   \n",
       "130                                                 ,,   \n",
       "116   GOBI SHANKAR S\\nContact: +91-9629788548 | Ema...   \n",
       "\n",
       "                                                output  \\\n",
       "101  [{'institution': 'Sree Vidyanikethan Engineeri...   \n",
       "112  {'name': 'John Doe', 'location': 'San Francisc...   \n",
       "49   {'company': 'X.L Dynamics Pvt Ltd', 'role': 'D...   \n",
       "108  {'name': 'Devyani Gaikwad', 'location': 'Benga...   \n",
       "38   [{'institution': 'Lokmanya Tilak College of En...   \n",
       "..                                                 ...   \n",
       "106  [{'institution': 'Pune University', 'program':...   \n",
       "103  {'company': 'Ford Motor Company', 'role': 'SPC...   \n",
       "94   {'name': 'Divya Wadhwa ', 'location': 'Not Men...   \n",
       "130  [{'institution': 'Columbia University', 'progr...   \n",
       "116  {'name': 'Gobi Shankar S', 'location': 'Chenna...   \n",
       "\n",
       "                                                format  \\\n",
       "101  [\\n    {\\n        \"institution\": \"put name of ...   \n",
       "112  {\\n    'personal_information': {'name': \"Name\"...   \n",
       "49   {\\n    'work_experience': [{'company': 'compan...   \n",
       "108  {\\n    'personal_information': {'name': \"Name\"...   \n",
       "38   [\\n    {\\n        \"institution\": \"put name of ...   \n",
       "..                                                 ...   \n",
       "106  [\\n    {\\n        \"institution\": \"put name of ...   \n",
       "103  {\\n    'work_experience': [{'company': 'compan...   \n",
       "94   {\\n    'personal_information': {'name': \"Name\"...   \n",
       "130  [\\n    {\\n        \"institution\": \"put name of ...   \n",
       "116  {\\n    'personal_information': {'name': \"Name\"...   \n",
       "\n",
       "                                                prompt  \n",
       "101  \\nYou are a helpful language model working for...  \n",
       "112  \\nYou are a helpful language model working for...  \n",
       "49   \\nYou are a helpful language model working for...  \n",
       "108  \\nYou are a helpful language model working for...  \n",
       "38   \\nYou are a helpful language model working for...  \n",
       "..                                                 ...  \n",
       "106  \\nYou are a helpful language model working for...  \n",
       "103  \\nYou are a helpful language model working for...  \n",
       "94   \\nYou are a helpful language model working for...  \n",
       "130  \\nYou are a helpful language model working for...  \n",
       "116  \\nYou are a helpful language model working for...  \n",
       "\n",
       "[423 rows x 4 columns]"
      ]
     },
     "execution_count": 60,
     "metadata": {},
     "output_type": "execute_result"
    }
   ],
   "source": [
    "train_df"
   ]
  },
  {
   "cell_type": "code",
   "execution_count": null,
   "id": "b54ce857-1745-4a2b-b330-9dfa6d5b1e83",
   "metadata": {},
   "outputs": [],
   "source": []
  },
  {
   "cell_type": "code",
   "execution_count": null,
   "id": "836cbe7a-47b8-4954-bc19-a5582d2c410b",
   "metadata": {
    "tags": []
   },
   "outputs": [],
   "source": []
  },
  {
   "cell_type": "code",
   "execution_count": 61,
   "id": "c5f91ba5-c09e-4375-8863-143512404713",
   "metadata": {
    "tags": []
   },
   "outputs": [],
   "source": [
    "data_list = []\n",
    "for row in train_df.itertuples():\n",
    "    text = row.prompt.format(\n",
    "            query_format=row.format,\n",
    "            resume_text=row.resume,\n",
    "            output=row.output,\n",
    "            eos_token=tokenizer.eos_token)\n",
    "    data_list.append(text)"
   ]
  },
  {
   "cell_type": "code",
   "execution_count": 80,
   "id": "0650eae6-572d-4b9d-8342-0b954ce0953f",
   "metadata": {
    "tags": []
   },
   "outputs": [],
   "source": [
    "dl = {\n",
    "    'text':data_list\n",
    "}"
   ]
  },
  {
   "cell_type": "code",
   "execution_count": 81,
   "id": "5ea18e54-67d8-4f88-be2e-d92aab71d3fd",
   "metadata": {
    "tags": []
   },
   "outputs": [],
   "source": [
    "td = Dataset.from_dict(dl)"
   ]
  },
  {
   "cell_type": "code",
   "execution_count": null,
   "id": "68853fbd-d5a4-4613-bd4b-ef941356a849",
   "metadata": {},
   "outputs": [],
   "source": []
  },
  {
   "cell_type": "code",
   "execution_count": 82,
   "id": "ef745470-b3c6-4958-a363-d420ee83c185",
   "metadata": {
    "tags": []
   },
   "outputs": [
    {
     "data": {
      "text/plain": [
       "423"
      ]
     },
     "execution_count": 82,
     "metadata": {},
     "output_type": "execute_result"
    }
   ],
   "source": [
    "len(data_list)"
   ]
  },
  {
   "cell_type": "code",
   "execution_count": 83,
   "id": "e6dc3c31-9600-42fc-a8a7-ff17e089b93a",
   "metadata": {
    "tags": []
   },
   "outputs": [],
   "source": [
    "sp = Dataset.from_dict(dl)"
   ]
  },
  {
   "cell_type": "code",
   "execution_count": null,
   "id": "e5fba890-a839-4fbe-9abf-88bd5b26ad91",
   "metadata": {
    "tags": []
   },
   "outputs": [],
   "source": []
  },
  {
   "cell_type": "code",
   "execution_count": null,
   "id": "f33f2415-0259-4074-bd25-b54654bf3244",
   "metadata": {
    "tags": []
   },
   "outputs": [],
   "source": []
  },
  {
   "cell_type": "code",
   "execution_count": null,
   "id": "81565d56-2403-44e3-ad63-0adefc70089c",
   "metadata": {},
   "outputs": [],
   "source": []
  },
  {
   "cell_type": "code",
   "execution_count": null,
   "id": "067ac76f-43d8-4503-b912-138cbd9fc993",
   "metadata": {},
   "outputs": [],
   "source": []
  },
  {
   "cell_type": "code",
   "execution_count": null,
   "id": "7ad78e18-aae4-44f1-9a6e-f91085516eaa",
   "metadata": {},
   "outputs": [],
   "source": []
  },
  {
   "cell_type": "code",
   "execution_count": 84,
   "id": "7d80eae4-4de6-49dc-b1b6-5d4cc51acf18",
   "metadata": {
    "tags": []
   },
   "outputs": [
    {
     "data": {
      "application/vnd.jupyter.widget-view+json": {
       "model_id": "92035e53955d492ba41319a463438b6e",
       "version_major": 2,
       "version_minor": 0
      },
      "text/plain": [
       "Map:   0%|          | 0/423 [00:00<?, ? examples/s]"
      ]
     },
     "metadata": {},
     "output_type": "display_data"
    },
    {
     "data": {
      "application/vnd.jupyter.widget-view+json": {
       "model_id": "e7bce9505c75432cb41d38ce9ad53f49",
       "version_major": 2,
       "version_minor": 0
      },
      "text/plain": [
       "Map:   0%|          | 0/423 [00:00<?, ? examples/s]"
      ]
     },
     "metadata": {},
     "output_type": "display_data"
    }
   ],
   "source": [
    "\n",
    "td = td.map(\n",
    "    lambda sample: tokenizer(sample[\"text\"]),\n",
    "    batched=True,\n",
    "    remove_columns=list(td.features),\n",
    ").map(Concatenator(), batched=True)\n"
   ]
  },
  {
   "cell_type": "code",
   "execution_count": null,
   "id": "c5ee8828-f805-4992-a6d0-052419fcaed0",
   "metadata": {},
   "outputs": [],
   "source": []
  },
  {
   "cell_type": "code",
   "execution_count": 85,
   "id": "737e669e-ce5c-45b9-a907-51387b0425cf",
   "metadata": {
    "tags": []
   },
   "outputs": [
    {
     "data": {
      "text/plain": [
       "Dataset({\n",
       "    features: ['input_ids', 'attention_mask', 'labels'],\n",
       "    num_rows: 349\n",
       "})"
      ]
     },
     "execution_count": 85,
     "metadata": {},
     "output_type": "execute_result"
    }
   ],
   "source": [
    "td"
   ]
  },
  {
   "cell_type": "code",
   "execution_count": 86,
   "id": "acc90de9-56c2-4b9b-97f0-d1fb25787d6c",
   "metadata": {
    "tags": []
   },
   "outputs": [
    {
     "data": {
      "application/vnd.jupyter.widget-view+json": {
       "model_id": "e53ab12b774b4d68ae7a7959a363a85c",
       "version_major": 2,
       "version_minor": 0
      },
      "text/plain": [
       "Saving the dataset (0/1 shards):   0%|          | 0/349 [00:00<?, ? examples/s]"
      ]
     },
     "metadata": {},
     "output_type": "display_data"
    }
   ],
   "source": [
    "td.save_to_disk('custom_data/train_data.hf')"
   ]
  },
  {
   "cell_type": "code",
   "execution_count": 99,
   "id": "faffbbd3-a11f-4f3a-87be-de3026e6e142",
   "metadata": {
    "tags": []
   },
   "outputs": [],
   "source": [
    "# work_ds.save_to_disk('custom_data/work_data.hf')"
   ]
  },
  {
   "cell_type": "code",
   "execution_count": 100,
   "id": "a84862c8-ed37-4bb2-9811-729382d9d66e",
   "metadata": {
    "tags": []
   },
   "outputs": [],
   "source": [
    "# edu_ds.save_to_disk('custom_data/education_data.hf')"
   ]
  },
  {
   "cell_type": "code",
   "execution_count": 101,
   "id": "5fa3a0ea-4961-4f51-afd2-e9e28011f4be",
   "metadata": {
    "tags": []
   },
   "outputs": [],
   "source": [
    "# pi_ds.save_to_disk('custom_data/pi_data.hf')"
   ]
  },
  {
   "cell_type": "code",
   "execution_count": null,
   "id": "f9e85d59-dab0-48d2-afdb-b982615aa34b",
   "metadata": {},
   "outputs": [],
   "source": []
  }
 ],
 "metadata": {
  "kernelspec": {
   "display_name": "conda_python3",
   "language": "python",
   "name": "conda_python3"
  },
  "language_info": {
   "codemirror_mode": {
    "name": "ipython",
    "version": 3
   },
   "file_extension": ".py",
   "mimetype": "text/x-python",
   "name": "python",
   "nbconvert_exporter": "python",
   "pygments_lexer": "ipython3",
   "version": "3.10.13"
  }
 },
 "nbformat": 4,
 "nbformat_minor": 5
}
