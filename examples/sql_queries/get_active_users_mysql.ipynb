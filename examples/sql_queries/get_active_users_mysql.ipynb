{
 "cells": [
  {
   "cell_type": "code",
   "execution_count": 1,
   "id": "a31e405d-67c0-4a27-a0ab-0e989606c520",
   "metadata": {},
   "outputs": [],
   "source": [
    "import pandas as pd\n",
    "import numpy as np\n",
    "import configparser\n",
    "import pymysql\n",
    "import requests\n",
    "import re\n",
    "from tqdm import tqdm\n",
    "import configparser\n",
    "import os"
   ]
  },
  {
   "cell_type": "code",
   "execution_count": 2,
   "id": "ac1b2488-ba60-4a0d-8c0f-690ceab01880",
   "metadata": {},
   "outputs": [
    {
     "data": {
      "text/plain": [
       "['/home/ubuntu/infoedge/llama-recipes/examples/configs/config.ini']"
      ]
     },
     "execution_count": 2,
     "metadata": {},
     "output_type": "execute_result"
    }
   ],
   "source": [
    "config=configparser.ConfigParser()\n",
    "config.read('/home/ubuntu/infoedge/llama-recipes/examples/configs/config.ini')"
   ]
  },
  {
   "cell_type": "code",
   "execution_count": 3,
   "id": "17c7f1ca-a4e5-4585-b812-693c8634f42d",
   "metadata": {},
   "outputs": [],
   "source": [
    "mydb= pymysql.connect(\n",
    "host=config['iimjobs_db']['hostname'],\n",
    "user=config['iimjobs_db']['username'],\n",
    "password=config['iimjobs_db']['password'],\n",
    "db=config['iimjobs_db']['db_name'])\n",
    "\n",
    "mycursor = mydb.cursor()"
   ]
  },
  {
   "cell_type": "code",
   "execution_count": 4,
   "id": "21985aa8-1908-4099-8167-1cda61846697",
   "metadata": {},
   "outputs": [],
   "source": [
    "\n",
    "query = \"select userid from usr_applied_jobs_info where unixtimestamp>1707374166\"\n",
    "\n",
    "mycursor.execute(query)\n",
    "result = mycursor.fetchall()"
   ]
  },
  {
   "cell_type": "code",
   "execution_count": 5,
   "id": "db1f9cb9-05fc-4529-815d-d687def17bf8",
   "metadata": {},
   "outputs": [],
   "source": [
    "active_users = pd.DataFrame(result,columns=['userid'])"
   ]
  },
  {
   "cell_type": "code",
   "execution_count": 6,
   "id": "3c3ea9de-b644-4bac-b8f2-0f19e2a17b97",
   "metadata": {},
   "outputs": [],
   "source": [
    "active_users.drop_duplicates(inplace=True)"
   ]
  },
  {
   "cell_type": "code",
   "execution_count": 7,
   "id": "fc1735e7-8740-4bf5-83c3-9abfe3a622e2",
   "metadata": {},
   "outputs": [
    {
     "data": {
      "text/html": [
       "<div>\n",
       "<style scoped>\n",
       "    .dataframe tbody tr th:only-of-type {\n",
       "        vertical-align: middle;\n",
       "    }\n",
       "\n",
       "    .dataframe tbody tr th {\n",
       "        vertical-align: top;\n",
       "    }\n",
       "\n",
       "    .dataframe thead th {\n",
       "        text-align: right;\n",
       "    }\n",
       "</style>\n",
       "<table border=\"1\" class=\"dataframe\">\n",
       "  <thead>\n",
       "    <tr style=\"text-align: right;\">\n",
       "      <th></th>\n",
       "      <th>userid</th>\n",
       "    </tr>\n",
       "  </thead>\n",
       "  <tbody>\n",
       "    <tr>\n",
       "      <th>0</th>\n",
       "      <td>1780851</td>\n",
       "    </tr>\n",
       "    <tr>\n",
       "      <th>1</th>\n",
       "      <td>1614881</td>\n",
       "    </tr>\n",
       "    <tr>\n",
       "      <th>2</th>\n",
       "      <td>939714</td>\n",
       "    </tr>\n",
       "    <tr>\n",
       "      <th>3</th>\n",
       "      <td>1684573</td>\n",
       "    </tr>\n",
       "    <tr>\n",
       "      <th>4</th>\n",
       "      <td>2142750</td>\n",
       "    </tr>\n",
       "    <tr>\n",
       "      <th>...</th>\n",
       "      <td>...</td>\n",
       "    </tr>\n",
       "    <tr>\n",
       "      <th>1371438</th>\n",
       "      <td>2822603</td>\n",
       "    </tr>\n",
       "    <tr>\n",
       "      <th>1371515</th>\n",
       "      <td>2821276</td>\n",
       "    </tr>\n",
       "    <tr>\n",
       "      <th>1371517</th>\n",
       "      <td>2700390</td>\n",
       "    </tr>\n",
       "    <tr>\n",
       "      <th>1371613</th>\n",
       "      <td>2821472</td>\n",
       "    </tr>\n",
       "    <tr>\n",
       "      <th>1371709</th>\n",
       "      <td>2334498</td>\n",
       "    </tr>\n",
       "  </tbody>\n",
       "</table>\n",
       "<p>101234 rows × 1 columns</p>\n",
       "</div>"
      ],
      "text/plain": [
       "          userid\n",
       "0        1780851\n",
       "1        1614881\n",
       "2         939714\n",
       "3        1684573\n",
       "4        2142750\n",
       "...          ...\n",
       "1371438  2822603\n",
       "1371515  2821276\n",
       "1371517  2700390\n",
       "1371613  2821472\n",
       "1371709  2334498\n",
       "\n",
       "[101234 rows x 1 columns]"
      ]
     },
     "execution_count": 7,
     "metadata": {},
     "output_type": "execute_result"
    }
   ],
   "source": [
    "active_users"
   ]
  },
  {
   "cell_type": "code",
   "execution_count": null,
   "id": "edc340f7-040c-4f2a-8c33-63584b81a07f",
   "metadata": {},
   "outputs": [],
   "source": []
  },
  {
   "cell_type": "code",
   "execution_count": 8,
   "id": "0aaf56d9-a278-4bd5-ac01-4a8619b42f4c",
   "metadata": {},
   "outputs": [],
   "source": [
    "ulist = tuple(active_users['userid'].tolist())"
   ]
  },
  {
   "cell_type": "code",
   "execution_count": 9,
   "id": "f7751d64-30e0-41ab-9908-593d83b1c459",
   "metadata": {},
   "outputs": [],
   "source": [
    "\n",
    "query = f\"select id, resume_last_updated, resume_first_uploaded from profile_info where id in {ulist}\"\n",
    "\n",
    "mycursor.execute(query)\n",
    "result = mycursor.fetchall()"
   ]
  },
  {
   "cell_type": "code",
   "execution_count": null,
   "id": "f32269d4-5a54-47e5-bbca-bf5d51aa3a40",
   "metadata": {},
   "outputs": [],
   "source": []
  },
  {
   "cell_type": "code",
   "execution_count": 10,
   "id": "fb65f2fb-513c-4330-a3db-0e0d3663e6c4",
   "metadata": {},
   "outputs": [],
   "source": [
    "rdata = pd.DataFrame(result,columns=['id','last_upload','first_upload'])"
   ]
  },
  {
   "cell_type": "code",
   "execution_count": 18,
   "id": "31860699-2ccb-4385-b592-104f13367db8",
   "metadata": {},
   "outputs": [
    {
     "data": {
      "text/plain": [
       "(101234, 4)"
      ]
     },
     "execution_count": 18,
     "metadata": {},
     "output_type": "execute_result"
    }
   ],
   "source": [
    "rdata.shape"
   ]
  },
  {
   "cell_type": "code",
   "execution_count": 11,
   "id": "6c8f8db3-e395-4429-97c3-95c52ecaffb3",
   "metadata": {},
   "outputs": [],
   "source": [
    "# rdata['first_upload'].drop('0000-00-00 00:00:00') "
   ]
  },
  {
   "cell_type": "code",
   "execution_count": null,
   "id": "fc01413b-b7d9-4bf2-b233-852c38311940",
   "metadata": {},
   "outputs": [],
   "source": []
  },
  {
   "cell_type": "code",
   "execution_count": 12,
   "id": "ecbd92fd-980b-4973-9a94-fc98d2840724",
   "metadata": {},
   "outputs": [],
   "source": [
    "rdata['first_upload'] = pd.to_datetime(rdata['first_upload'],errors='coerce')\n",
    "rdata['last_upload'] = pd.to_datetime(rdata['last_upload'])\n",
    "\n",
    "# Calculate the difference in years\n",
    "rdata['year_difference'] = rdata['last_upload'] - rdata['first_upload']\n",
    "rdata['year_difference'] = rdata['year_difference'] / pd.Timedelta(days=365.25)\n",
    "\n",
    "# To round the years to a sensible number of decimal places, e.g., 2 decimal places\n",
    "rdata['year_difference'] = rdata['year_difference'].round(2)\n"
   ]
  },
  {
   "cell_type": "code",
   "execution_count": 19,
   "id": "670a2d81-e2be-4716-b03c-2f756112de89",
   "metadata": {},
   "outputs": [],
   "source": [
    "rdata['now'] = pd.Timestamp.now()  "
   ]
  },
  {
   "cell_type": "code",
   "execution_count": 21,
   "id": "f5d6f99d-011d-4b5f-8942-ef98644021c6",
   "metadata": {},
   "outputs": [],
   "source": [
    "rdata['year_difference'] = rdata['now'] - rdata['last_upload']\n",
    "rdata['year_difference'] = rdata['year_difference'] / pd.Timedelta(days=365.25)\n",
    "rdata['year_difference'] = rdata['year_difference'].round(2)"
   ]
  },
  {
   "cell_type": "code",
   "execution_count": null,
   "id": "c4c1a796-ad7d-4cfb-81e6-577b99faffd6",
   "metadata": {},
   "outputs": [],
   "source": []
  },
  {
   "cell_type": "code",
   "execution_count": null,
   "id": "adb50584-a2be-4dcd-8a4b-119a7be3bb10",
   "metadata": {},
   "outputs": [],
   "source": []
  },
  {
   "cell_type": "code",
   "execution_count": null,
   "id": "02072161-9e34-483f-acbb-07a66391056d",
   "metadata": {},
   "outputs": [],
   "source": []
  },
  {
   "cell_type": "code",
   "execution_count": 22,
   "id": "7446f78f-86d9-47f8-8fac-a6b24e5566d7",
   "metadata": {},
   "outputs": [],
   "source": [
    "select = rdata[rdata['year_difference']>3]"
   ]
  },
  {
   "cell_type": "code",
   "execution_count": 23,
   "id": "8a051ab4-5531-4bf0-a8d4-a43a7b793ba0",
   "metadata": {},
   "outputs": [
    {
     "data": {
      "text/html": [
       "<div>\n",
       "<style scoped>\n",
       "    .dataframe tbody tr th:only-of-type {\n",
       "        vertical-align: middle;\n",
       "    }\n",
       "\n",
       "    .dataframe tbody tr th {\n",
       "        vertical-align: top;\n",
       "    }\n",
       "\n",
       "    .dataframe thead th {\n",
       "        text-align: right;\n",
       "    }\n",
       "</style>\n",
       "<table border=\"1\" class=\"dataframe\">\n",
       "  <thead>\n",
       "    <tr style=\"text-align: right;\">\n",
       "      <th></th>\n",
       "      <th>id</th>\n",
       "      <th>last_upload</th>\n",
       "      <th>first_upload</th>\n",
       "      <th>year_difference</th>\n",
       "      <th>now</th>\n",
       "    </tr>\n",
       "  </thead>\n",
       "  <tbody>\n",
       "    <tr>\n",
       "      <th>6</th>\n",
       "      <td>123</td>\n",
       "      <td>2019-12-07 11:30:53</td>\n",
       "      <td>2012-09-22 16:54:17</td>\n",
       "      <td>4.26</td>\n",
       "      <td>2024-03-11 11:30:20.184937</td>\n",
       "    </tr>\n",
       "    <tr>\n",
       "      <th>7</th>\n",
       "      <td>135</td>\n",
       "      <td>2018-09-26 11:34:04</td>\n",
       "      <td>2013-02-24 19:24:44</td>\n",
       "      <td>5.46</td>\n",
       "      <td>2024-03-11 11:30:20.184937</td>\n",
       "    </tr>\n",
       "    <tr>\n",
       "      <th>34</th>\n",
       "      <td>886</td>\n",
       "      <td>2018-09-24 02:29:09</td>\n",
       "      <td>2013-11-25 14:52:35</td>\n",
       "      <td>5.46</td>\n",
       "      <td>2024-03-11 11:30:20.184937</td>\n",
       "    </tr>\n",
       "    <tr>\n",
       "      <th>67</th>\n",
       "      <td>2014</td>\n",
       "      <td>2015-08-18 13:46:20</td>\n",
       "      <td>2014-02-21 14:21:50</td>\n",
       "      <td>8.56</td>\n",
       "      <td>2024-03-11 11:30:20.184937</td>\n",
       "    </tr>\n",
       "    <tr>\n",
       "      <th>68</th>\n",
       "      <td>2021</td>\n",
       "      <td>2014-07-10 13:44:05</td>\n",
       "      <td>2014-07-10 13:44:05</td>\n",
       "      <td>9.67</td>\n",
       "      <td>2024-03-11 11:30:20.184937</td>\n",
       "    </tr>\n",
       "    <tr>\n",
       "      <th>...</th>\n",
       "      <td>...</td>\n",
       "      <td>...</td>\n",
       "      <td>...</td>\n",
       "      <td>...</td>\n",
       "      <td>...</td>\n",
       "    </tr>\n",
       "    <tr>\n",
       "      <th>53205</th>\n",
       "      <td>1985580</td>\n",
       "      <td>2021-03-06 11:26:34</td>\n",
       "      <td>2021-03-06 11:26:35</td>\n",
       "      <td>3.01</td>\n",
       "      <td>2024-03-11 11:30:20.184937</td>\n",
       "    </tr>\n",
       "    <tr>\n",
       "      <th>53209</th>\n",
       "      <td>1985752</td>\n",
       "      <td>2021-03-06 15:16:11</td>\n",
       "      <td>2021-03-06 15:16:11</td>\n",
       "      <td>3.01</td>\n",
       "      <td>2024-03-11 11:30:20.184937</td>\n",
       "    </tr>\n",
       "    <tr>\n",
       "      <th>53246</th>\n",
       "      <td>1987530</td>\n",
       "      <td>2021-03-08 22:19:34</td>\n",
       "      <td>2021-03-08 22:19:34</td>\n",
       "      <td>3.01</td>\n",
       "      <td>2024-03-11 11:30:20.184937</td>\n",
       "    </tr>\n",
       "    <tr>\n",
       "      <th>53254</th>\n",
       "      <td>1988121</td>\n",
       "      <td>2021-03-09 16:42:11</td>\n",
       "      <td>2021-03-09 16:42:11</td>\n",
       "      <td>3.01</td>\n",
       "      <td>2024-03-11 11:30:20.184937</td>\n",
       "    </tr>\n",
       "    <tr>\n",
       "      <th>53261</th>\n",
       "      <td>1988368</td>\n",
       "      <td>2021-03-09 20:01:24</td>\n",
       "      <td>2021-03-09 20:01:24</td>\n",
       "      <td>3.01</td>\n",
       "      <td>2024-03-11 11:30:20.184937</td>\n",
       "    </tr>\n",
       "  </tbody>\n",
       "</table>\n",
       "<p>2457 rows × 5 columns</p>\n",
       "</div>"
      ],
      "text/plain": [
       "            id         last_upload        first_upload  year_difference  \\\n",
       "6          123 2019-12-07 11:30:53 2012-09-22 16:54:17             4.26   \n",
       "7          135 2018-09-26 11:34:04 2013-02-24 19:24:44             5.46   \n",
       "34         886 2018-09-24 02:29:09 2013-11-25 14:52:35             5.46   \n",
       "67        2014 2015-08-18 13:46:20 2014-02-21 14:21:50             8.56   \n",
       "68        2021 2014-07-10 13:44:05 2014-07-10 13:44:05             9.67   \n",
       "...        ...                 ...                 ...              ...   \n",
       "53205  1985580 2021-03-06 11:26:34 2021-03-06 11:26:35             3.01   \n",
       "53209  1985752 2021-03-06 15:16:11 2021-03-06 15:16:11             3.01   \n",
       "53246  1987530 2021-03-08 22:19:34 2021-03-08 22:19:34             3.01   \n",
       "53254  1988121 2021-03-09 16:42:11 2021-03-09 16:42:11             3.01   \n",
       "53261  1988368 2021-03-09 20:01:24 2021-03-09 20:01:24             3.01   \n",
       "\n",
       "                             now  \n",
       "6     2024-03-11 11:30:20.184937  \n",
       "7     2024-03-11 11:30:20.184937  \n",
       "34    2024-03-11 11:30:20.184937  \n",
       "67    2024-03-11 11:30:20.184937  \n",
       "68    2024-03-11 11:30:20.184937  \n",
       "...                          ...  \n",
       "53205 2024-03-11 11:30:20.184937  \n",
       "53209 2024-03-11 11:30:20.184937  \n",
       "53246 2024-03-11 11:30:20.184937  \n",
       "53254 2024-03-11 11:30:20.184937  \n",
       "53261 2024-03-11 11:30:20.184937  \n",
       "\n",
       "[2457 rows x 5 columns]"
      ]
     },
     "execution_count": 23,
     "metadata": {},
     "output_type": "execute_result"
    }
   ],
   "source": [
    "select"
   ]
  },
  {
   "cell_type": "code",
   "execution_count": null,
   "id": "5008fb8a-7d55-4195-89fd-a7d7dac1b7c5",
   "metadata": {},
   "outputs": [],
   "source": []
  },
  {
   "cell_type": "code",
   "execution_count": 24,
   "id": "2a525d1e-412a-4439-b09f-a918d69e4774",
   "metadata": {},
   "outputs": [],
   "source": [
    "from user_info import get_user_info"
   ]
  },
  {
   "cell_type": "code",
   "execution_count": null,
   "id": "7916cd58-1bee-4442-aa84-a5fc7cbe94b5",
   "metadata": {},
   "outputs": [],
   "source": []
  },
  {
   "cell_type": "code",
   "execution_count": 25,
   "id": "da1f5483-1d40-4ae4-b72a-9bdabd938ad7",
   "metadata": {},
   "outputs": [
    {
     "name": "stderr",
     "output_type": "stream",
     "text": [
      "100%|█████████████████████████████████████████████████████████████████████████████████████████████████████████████████████████████████| 2457/2457 [00:17<00:00, 137.58it/s]\n"
     ]
    }
   ],
   "source": [
    "r_text = {}\n",
    "for uid in tqdm(select['id'].tolist()):\n",
    "    response = get_user_info(uid)\n",
    "    try:\n",
    "        r_text[uid] = response['resume'][0]\n",
    "    except:\n",
    "        pass"
   ]
  },
  {
   "cell_type": "code",
   "execution_count": null,
   "id": "f189cf83-8d9a-4696-a885-f79f994c94b8",
   "metadata": {},
   "outputs": [],
   "source": []
  },
  {
   "cell_type": "code",
   "execution_count": 26,
   "id": "a01ae765-6b03-4cb1-92d1-4c86c90648fd",
   "metadata": {},
   "outputs": [],
   "source": [
    "import json\n",
    "with open('../custom_data/relevant_users_feb24.json','w') as f:\n",
    "    json.dump(r_text,f)"
   ]
  },
  {
   "cell_type": "code",
   "execution_count": null,
   "id": "765974da-9568-4ac1-a3ab-7268d1e65264",
   "metadata": {},
   "outputs": [],
   "source": []
  },
  {
   "cell_type": "code",
   "execution_count": null,
   "id": "6faa4d2a-3769-4bdc-85e8-d63266965234",
   "metadata": {},
   "outputs": [],
   "source": []
  },
  {
   "cell_type": "code",
   "execution_count": null,
   "id": "53010b11-374d-4d38-b450-197471ed152a",
   "metadata": {},
   "outputs": [],
   "source": []
  },
  {
   "cell_type": "code",
   "execution_count": null,
   "id": "3b3d7553-237a-4376-b765-462b986a916b",
   "metadata": {},
   "outputs": [],
   "source": []
  }
 ],
 "metadata": {
  "kernelspec": {
   "display_name": "Python 3 (ipykernel)",
   "language": "python",
   "name": "python3"
  },
  "language_info": {
   "codemirror_mode": {
    "name": "ipython",
    "version": 3
   },
   "file_extension": ".py",
   "mimetype": "text/x-python",
   "name": "python",
   "nbconvert_exporter": "python",
   "pygments_lexer": "ipython3",
   "version": "3.10.12"
  }
 },
 "nbformat": 4,
 "nbformat_minor": 5
}
