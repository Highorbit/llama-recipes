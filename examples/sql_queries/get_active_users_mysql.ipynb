{
 "cells": [
  {
   "cell_type": "code",
   "execution_count": 1,
   "id": "a31e405d-67c0-4a27-a0ab-0e989606c520",
   "metadata": {},
   "outputs": [],
   "source": [
    "import pandas as pd\n",
    "import numpy as np\n",
    "import configparser\n",
    "import pymysql\n",
    "import requests\n",
    "import re\n",
    "from tqdm import tqdm\n",
    "import configparser\n",
    "import openai\n",
    "import os"
   ]
  },
  {
   "cell_type": "code",
   "execution_count": 2,
   "id": "ac1b2488-ba60-4a0d-8c0f-690ceab01880",
   "metadata": {},
   "outputs": [
    {
     "data": {
      "text/plain": [
       "['/home/ubuntu/infoedge/llama-recipes/examples/configs/config.ini']"
      ]
     },
     "execution_count": 2,
     "metadata": {},
     "output_type": "execute_result"
    }
   ],
   "source": [
    "config=configparser.ConfigParser()\n",
    "config.read('/home/ubuntu/infoedge/llama-recipes/examples/configs/config.ini')"
   ]
  },
  {
   "cell_type": "code",
   "execution_count": 3,
   "id": "17c7f1ca-a4e5-4585-b812-693c8634f42d",
   "metadata": {},
   "outputs": [],
   "source": [
    "mydb= pymysql.connect(\n",
    "host=config['iimjobs_db']['hostname'],\n",
    "user=config['iimjobs_db']['username'],\n",
    "password=config['iimjobs_db']['password'],\n",
    "db=config['iimjobs_db']['db_name'])\n",
    "\n",
    "mycursor = mydb.cursor()"
   ]
  },
  {
   "cell_type": "code",
   "execution_count": 4,
   "id": "21985aa8-1908-4099-8167-1cda61846697",
   "metadata": {},
   "outputs": [],
   "source": [
    "\n",
    "query = \"select userid from usr_applied_jobs_info where unixtimestamp>1707040266\"\n",
    "\n",
    "mycursor.execute(query)\n",
    "result = mycursor.fetchall()"
   ]
  },
  {
   "cell_type": "code",
   "execution_count": 5,
   "id": "db1f9cb9-05fc-4529-815d-d687def17bf8",
   "metadata": {},
   "outputs": [],
   "source": [
    "active_users = pd.DataFrame(result,columns=['userid'])"
   ]
  },
  {
   "cell_type": "code",
   "execution_count": 6,
   "id": "3c3ea9de-b644-4bac-b8f2-0f19e2a17b97",
   "metadata": {},
   "outputs": [],
   "source": [
    "active_users.drop_duplicates(inplace=True)"
   ]
  },
  {
   "cell_type": "code",
   "execution_count": 7,
   "id": "fc1735e7-8740-4bf5-83c3-9abfe3a622e2",
   "metadata": {},
   "outputs": [
    {
     "data": {
      "text/html": [
       "<div>\n",
       "<style scoped>\n",
       "    .dataframe tbody tr th:only-of-type {\n",
       "        vertical-align: middle;\n",
       "    }\n",
       "\n",
       "    .dataframe tbody tr th {\n",
       "        vertical-align: top;\n",
       "    }\n",
       "\n",
       "    .dataframe thead th {\n",
       "        text-align: right;\n",
       "    }\n",
       "</style>\n",
       "<table border=\"1\" class=\"dataframe\">\n",
       "  <thead>\n",
       "    <tr style=\"text-align: right;\">\n",
       "      <th></th>\n",
       "      <th>userid</th>\n",
       "    </tr>\n",
       "  </thead>\n",
       "  <tbody>\n",
       "    <tr>\n",
       "      <th>0</th>\n",
       "      <td>953498</td>\n",
       "    </tr>\n",
       "    <tr>\n",
       "      <th>1</th>\n",
       "      <td>564565</td>\n",
       "    </tr>\n",
       "    <tr>\n",
       "      <th>2</th>\n",
       "      <td>2721267</td>\n",
       "    </tr>\n",
       "    <tr>\n",
       "      <th>3</th>\n",
       "      <td>310469</td>\n",
       "    </tr>\n",
       "    <tr>\n",
       "      <th>4</th>\n",
       "      <td>2038480</td>\n",
       "    </tr>\n",
       "    <tr>\n",
       "      <th>...</th>\n",
       "      <td>...</td>\n",
       "    </tr>\n",
       "    <tr>\n",
       "      <th>200082</th>\n",
       "      <td>473028</td>\n",
       "    </tr>\n",
       "    <tr>\n",
       "      <th>200088</th>\n",
       "      <td>2560115</td>\n",
       "    </tr>\n",
       "    <tr>\n",
       "      <th>200090</th>\n",
       "      <td>477492</td>\n",
       "    </tr>\n",
       "    <tr>\n",
       "      <th>200108</th>\n",
       "      <td>2698650</td>\n",
       "    </tr>\n",
       "    <tr>\n",
       "      <th>200111</th>\n",
       "      <td>861573</td>\n",
       "    </tr>\n",
       "  </tbody>\n",
       "</table>\n",
       "<p>33661 rows × 1 columns</p>\n",
       "</div>"
      ],
      "text/plain": [
       "         userid\n",
       "0        953498\n",
       "1        564565\n",
       "2       2721267\n",
       "3        310469\n",
       "4       2038480\n",
       "...         ...\n",
       "200082   473028\n",
       "200088  2560115\n",
       "200090   477492\n",
       "200108  2698650\n",
       "200111   861573\n",
       "\n",
       "[33661 rows x 1 columns]"
      ]
     },
     "execution_count": 7,
     "metadata": {},
     "output_type": "execute_result"
    }
   ],
   "source": [
    "active_users"
   ]
  },
  {
   "cell_type": "code",
   "execution_count": 10,
   "id": "0aaf56d9-a278-4bd5-ac01-4a8619b42f4c",
   "metadata": {},
   "outputs": [],
   "source": [
    "ulist = tuple(active_users['userid'].tolist())"
   ]
  },
  {
   "cell_type": "code",
   "execution_count": 11,
   "id": "f7751d64-30e0-41ab-9908-593d83b1c459",
   "metadata": {},
   "outputs": [],
   "source": [
    "\n",
    "query = f\"select id, resume_last_updated, resume_first_uploaded from profile_info where id in {ulist}\"\n",
    "\n",
    "mycursor.execute(query)\n",
    "result = mycursor.fetchall()"
   ]
  },
  {
   "cell_type": "code",
   "execution_count": null,
   "id": "f32269d4-5a54-47e5-bbca-bf5d51aa3a40",
   "metadata": {},
   "outputs": [],
   "source": []
  },
  {
   "cell_type": "code",
   "execution_count": 18,
   "id": "fb65f2fb-513c-4330-a3db-0e0d3663e6c4",
   "metadata": {},
   "outputs": [],
   "source": [
    "rdata = pd.DataFrame(result,columns=['id','last_upload','first_upload'])"
   ]
  },
  {
   "cell_type": "code",
   "execution_count": 19,
   "id": "ecbd92fd-980b-4973-9a94-fc98d2840724",
   "metadata": {},
   "outputs": [],
   "source": [
    "rdata['start_date'] = pd.to_datetime(rdata['first_upload'])\n",
    "rdata['end_date'] = pd.to_datetime(rdata['last_upload'])\n",
    "\n",
    "# Calculate the difference in years\n",
    "rdata['year_difference'] = rdata['end_date'] - rdata['start_date']\n",
    "rdata['year_difference'] = rdata['year_difference'] / pd.Timedelta(days=365.25)\n",
    "\n",
    "# To round the years to a sensible number of decimal places, e.g., 2 decimal places\n",
    "rdata['year_difference'] = rdata['year_difference'].round(2)\n"
   ]
  },
  {
   "cell_type": "code",
   "execution_count": 26,
   "id": "7446f78f-86d9-47f8-8fac-a6b24e5566d7",
   "metadata": {},
   "outputs": [],
   "source": [
    "select = rdata[rdata['year_difference']>3]"
   ]
  },
  {
   "cell_type": "code",
   "execution_count": 31,
   "id": "8a051ab4-5531-4bf0-a8d4-a43a7b793ba0",
   "metadata": {},
   "outputs": [
    {
     "data": {
      "text/html": [
       "<div>\n",
       "<style scoped>\n",
       "    .dataframe tbody tr th:only-of-type {\n",
       "        vertical-align: middle;\n",
       "    }\n",
       "\n",
       "    .dataframe tbody tr th {\n",
       "        vertical-align: top;\n",
       "    }\n",
       "\n",
       "    .dataframe thead th {\n",
       "        text-align: right;\n",
       "    }\n",
       "</style>\n",
       "<table border=\"1\" class=\"dataframe\">\n",
       "  <thead>\n",
       "    <tr style=\"text-align: right;\">\n",
       "      <th></th>\n",
       "      <th>id</th>\n",
       "      <th>last_upload</th>\n",
       "      <th>first_upload</th>\n",
       "      <th>start_date</th>\n",
       "      <th>end_date</th>\n",
       "      <th>year_difference</th>\n",
       "    </tr>\n",
       "  </thead>\n",
       "  <tbody>\n",
       "    <tr>\n",
       "      <th>0</th>\n",
       "      <td>17</td>\n",
       "      <td>2024-01-19 12:32:39</td>\n",
       "      <td>2013-06-25 14:21:21</td>\n",
       "      <td>2013-06-25 14:21:21</td>\n",
       "      <td>2024-01-19 12:32:39</td>\n",
       "      <td>10.57</td>\n",
       "    </tr>\n",
       "    <tr>\n",
       "      <th>2</th>\n",
       "      <td>77</td>\n",
       "      <td>2024-01-05 12:05:06</td>\n",
       "      <td>2013-01-26 11:07:45</td>\n",
       "      <td>2013-01-26 11:07:45</td>\n",
       "      <td>2024-01-05 12:05:06</td>\n",
       "      <td>10.94</td>\n",
       "    </tr>\n",
       "    <tr>\n",
       "      <th>3</th>\n",
       "      <td>79</td>\n",
       "      <td>2024-01-21 16:58:45</td>\n",
       "      <td>2013-09-27 12:03:50</td>\n",
       "      <td>2013-09-27 12:03:50</td>\n",
       "      <td>2024-01-21 16:58:45</td>\n",
       "      <td>10.32</td>\n",
       "    </tr>\n",
       "    <tr>\n",
       "      <th>4</th>\n",
       "      <td>92</td>\n",
       "      <td>2023-12-25 21:28:18</td>\n",
       "      <td>2012-10-19 05:27:47</td>\n",
       "      <td>2012-10-19 05:27:47</td>\n",
       "      <td>2023-12-25 21:28:18</td>\n",
       "      <td>11.18</td>\n",
       "    </tr>\n",
       "    <tr>\n",
       "      <th>5</th>\n",
       "      <td>170</td>\n",
       "      <td>2023-12-01 18:59:46</td>\n",
       "      <td>2012-10-21 01:25:09</td>\n",
       "      <td>2012-10-21 01:25:09</td>\n",
       "      <td>2023-12-01 18:59:46</td>\n",
       "      <td>11.11</td>\n",
       "    </tr>\n",
       "    <tr>\n",
       "      <th>...</th>\n",
       "      <td>...</td>\n",
       "      <td>...</td>\n",
       "      <td>...</td>\n",
       "      <td>...</td>\n",
       "      <td>...</td>\n",
       "      <td>...</td>\n",
       "    </tr>\n",
       "    <tr>\n",
       "      <th>18846</th>\n",
       "      <td>1957200</td>\n",
       "      <td>2024-02-05 10:39:56</td>\n",
       "      <td>2021-01-31 16:12:10</td>\n",
       "      <td>2021-01-31 16:12:10</td>\n",
       "      <td>2024-02-05 10:39:56</td>\n",
       "      <td>3.01</td>\n",
       "    </tr>\n",
       "    <tr>\n",
       "      <th>18858</th>\n",
       "      <td>1958252</td>\n",
       "      <td>2024-02-06 07:54:29</td>\n",
       "      <td>2021-02-01 19:26:21</td>\n",
       "      <td>2021-02-01 19:26:21</td>\n",
       "      <td>2024-02-06 07:54:29</td>\n",
       "      <td>3.01</td>\n",
       "    </tr>\n",
       "    <tr>\n",
       "      <th>18862</th>\n",
       "      <td>1958558</td>\n",
       "      <td>2024-02-05 20:23:11</td>\n",
       "      <td>2021-02-02 00:21:01</td>\n",
       "      <td>2021-02-02 00:21:01</td>\n",
       "      <td>2024-02-05 20:23:11</td>\n",
       "      <td>3.01</td>\n",
       "    </tr>\n",
       "    <tr>\n",
       "      <th>18878</th>\n",
       "      <td>1960617</td>\n",
       "      <td>2024-02-08 11:48:19</td>\n",
       "      <td>2021-02-04 10:54:32</td>\n",
       "      <td>2021-02-04 10:54:32</td>\n",
       "      <td>2024-02-08 11:48:19</td>\n",
       "      <td>3.01</td>\n",
       "    </tr>\n",
       "    <tr>\n",
       "      <th>18879</th>\n",
       "      <td>1960628</td>\n",
       "      <td>2024-02-08 09:22:03</td>\n",
       "      <td>2021-02-04 10:44:11</td>\n",
       "      <td>2021-02-04 10:44:11</td>\n",
       "      <td>2024-02-08 09:22:03</td>\n",
       "      <td>3.01</td>\n",
       "    </tr>\n",
       "  </tbody>\n",
       "</table>\n",
       "<p>17003 rows × 6 columns</p>\n",
       "</div>"
      ],
      "text/plain": [
       "            id         last_upload        first_upload          start_date  \\\n",
       "0           17 2024-01-19 12:32:39 2013-06-25 14:21:21 2013-06-25 14:21:21   \n",
       "2           77 2024-01-05 12:05:06 2013-01-26 11:07:45 2013-01-26 11:07:45   \n",
       "3           79 2024-01-21 16:58:45 2013-09-27 12:03:50 2013-09-27 12:03:50   \n",
       "4           92 2023-12-25 21:28:18 2012-10-19 05:27:47 2012-10-19 05:27:47   \n",
       "5          170 2023-12-01 18:59:46 2012-10-21 01:25:09 2012-10-21 01:25:09   \n",
       "...        ...                 ...                 ...                 ...   \n",
       "18846  1957200 2024-02-05 10:39:56 2021-01-31 16:12:10 2021-01-31 16:12:10   \n",
       "18858  1958252 2024-02-06 07:54:29 2021-02-01 19:26:21 2021-02-01 19:26:21   \n",
       "18862  1958558 2024-02-05 20:23:11 2021-02-02 00:21:01 2021-02-02 00:21:01   \n",
       "18878  1960617 2024-02-08 11:48:19 2021-02-04 10:54:32 2021-02-04 10:54:32   \n",
       "18879  1960628 2024-02-08 09:22:03 2021-02-04 10:44:11 2021-02-04 10:44:11   \n",
       "\n",
       "                 end_date  year_difference  \n",
       "0     2024-01-19 12:32:39            10.57  \n",
       "2     2024-01-05 12:05:06            10.94  \n",
       "3     2024-01-21 16:58:45            10.32  \n",
       "4     2023-12-25 21:28:18            11.18  \n",
       "5     2023-12-01 18:59:46            11.11  \n",
       "...                   ...              ...  \n",
       "18846 2024-02-05 10:39:56             3.01  \n",
       "18858 2024-02-06 07:54:29             3.01  \n",
       "18862 2024-02-05 20:23:11             3.01  \n",
       "18878 2024-02-08 11:48:19             3.01  \n",
       "18879 2024-02-08 09:22:03             3.01  \n",
       "\n",
       "[17003 rows x 6 columns]"
      ]
     },
     "execution_count": 31,
     "metadata": {},
     "output_type": "execute_result"
    }
   ],
   "source": [
    "select"
   ]
  },
  {
   "cell_type": "code",
   "execution_count": null,
   "id": "5008fb8a-7d55-4195-89fd-a7d7dac1b7c5",
   "metadata": {},
   "outputs": [],
   "source": []
  },
  {
   "cell_type": "code",
   "execution_count": 29,
   "id": "2a525d1e-412a-4439-b09f-a918d69e4774",
   "metadata": {},
   "outputs": [],
   "source": [
    "from user_info import get_user_info"
   ]
  },
  {
   "cell_type": "code",
   "execution_count": null,
   "id": "7916cd58-1bee-4442-aa84-a5fc7cbe94b5",
   "metadata": {},
   "outputs": [],
   "source": []
  },
  {
   "cell_type": "code",
   "execution_count": 32,
   "id": "da1f5483-1d40-4ae4-b72a-9bdabd938ad7",
   "metadata": {},
   "outputs": [
    {
     "name": "stderr",
     "output_type": "stream",
     "text": [
      "100%|█████████████████████████████████████████████████████████████████████████████████████████████████████████████████████████████████| 17003/17003 [02:04<00:00, 136.80it/s]\n"
     ]
    }
   ],
   "source": [
    "r_text = {}\n",
    "for uid in tqdm(select['id'].tolist()):\n",
    "    response = get_user_info(uid)\n",
    "    try:\n",
    "        r_text[uid] = response['resume'][0]\n",
    "    except:\n",
    "        pass"
   ]
  },
  {
   "cell_type": "code",
   "execution_count": null,
   "id": "f189cf83-8d9a-4696-a885-f79f994c94b8",
   "metadata": {},
   "outputs": [],
   "source": []
  },
  {
   "cell_type": "code",
   "execution_count": 33,
   "id": "a01ae765-6b03-4cb1-92d1-4c86c90648fd",
   "metadata": {},
   "outputs": [],
   "source": [
    "import json\n",
    "with open('../custom_data/relevant_users_january24.json','w') as f:\n",
    "    json.dump(r_text,f)"
   ]
  },
  {
   "cell_type": "code",
   "execution_count": null,
   "id": "765974da-9568-4ac1-a3ab-7268d1e65264",
   "metadata": {},
   "outputs": [],
   "source": []
  },
  {
   "cell_type": "code",
   "execution_count": null,
   "id": "6faa4d2a-3769-4bdc-85e8-d63266965234",
   "metadata": {},
   "outputs": [],
   "source": []
  },
  {
   "cell_type": "code",
   "execution_count": null,
   "id": "53010b11-374d-4d38-b450-197471ed152a",
   "metadata": {},
   "outputs": [],
   "source": []
  },
  {
   "cell_type": "code",
   "execution_count": null,
   "id": "3b3d7553-237a-4376-b765-462b986a916b",
   "metadata": {},
   "outputs": [],
   "source": []
  }
 ],
 "metadata": {
  "kernelspec": {
   "display_name": "Python 3 (ipykernel)",
   "language": "python",
   "name": "python3"
  },
  "language_info": {
   "codemirror_mode": {
    "name": "ipython",
    "version": 3
   },
   "file_extension": ".py",
   "mimetype": "text/x-python",
   "name": "python",
   "nbconvert_exporter": "python",
   "pygments_lexer": "ipython3",
   "version": "3.10.12"
  }
 },
 "nbformat": 4,
 "nbformat_minor": 5
}
