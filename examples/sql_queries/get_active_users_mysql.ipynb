{
 "cells": [
  {
   "cell_type": "code",
   "execution_count": 1,
   "id": "a31e405d-67c0-4a27-a0ab-0e989606c520",
   "metadata": {},
   "outputs": [],
   "source": [
    "import pandas as pd\n",
    "import numpy as np\n",
    "import configparser\n",
    "import pymysql\n",
    "import requests\n",
    "import re\n",
    "from tqdm import tqdm\n",
    "import configparser\n",
    "import os"
   ]
  },
  {
   "cell_type": "code",
   "execution_count": 2,
   "id": "ac1b2488-ba60-4a0d-8c0f-690ceab01880",
   "metadata": {},
   "outputs": [
    {
     "data": {
      "text/plain": [
       "['/home/ubuntu/infoedge/llama-recipes/examples/configs/config.ini']"
      ]
     },
     "execution_count": 2,
     "metadata": {},
     "output_type": "execute_result"
    }
   ],
   "source": [
    "config=configparser.ConfigParser()\n",
    "config.read('/home/ubuntu/infoedge/llama-recipes/examples/configs/config.ini')"
   ]
  },
  {
   "cell_type": "code",
   "execution_count": 3,
   "id": "17c7f1ca-a4e5-4585-b812-693c8634f42d",
   "metadata": {},
   "outputs": [],
   "source": [
    "mydb= pymysql.connect(\n",
    "host=config['iimjobs_db']['hostname'],\n",
    "user=config['iimjobs_db']['username'],\n",
    "password=config['iimjobs_db']['password'],\n",
    "db=config['iimjobs_db']['db_name'])\n",
    "\n",
    "mycursor = mydb.cursor()"
   ]
  },
  {
   "cell_type": "code",
   "execution_count": 4,
   "id": "21985aa8-1908-4099-8167-1cda61846697",
   "metadata": {},
   "outputs": [],
   "source": [
    "\n",
    "query = \"select userid from usr_applied_jobs_info where unixtimestamp>1707374166\"\n",
    "\n",
    "mycursor.execute(query)\n",
    "result = mycursor.fetchall()"
   ]
  },
  {
   "cell_type": "code",
   "execution_count": 5,
   "id": "db1f9cb9-05fc-4529-815d-d687def17bf8",
   "metadata": {},
   "outputs": [],
   "source": [
    "active_users = pd.DataFrame(result,columns=['userid'])"
   ]
  },
  {
   "cell_type": "code",
   "execution_count": 6,
   "id": "3c3ea9de-b644-4bac-b8f2-0f19e2a17b97",
   "metadata": {},
   "outputs": [],
   "source": [
    "active_users.drop_duplicates(inplace=True)"
   ]
  },
  {
   "cell_type": "code",
   "execution_count": 7,
   "id": "fc1735e7-8740-4bf5-83c3-9abfe3a622e2",
   "metadata": {},
   "outputs": [
    {
     "data": {
      "text/html": [
       "<div>\n",
       "<style scoped>\n",
       "    .dataframe tbody tr th:only-of-type {\n",
       "        vertical-align: middle;\n",
       "    }\n",
       "\n",
       "    .dataframe tbody tr th {\n",
       "        vertical-align: top;\n",
       "    }\n",
       "\n",
       "    .dataframe thead th {\n",
       "        text-align: right;\n",
       "    }\n",
       "</style>\n",
       "<table border=\"1\" class=\"dataframe\">\n",
       "  <thead>\n",
       "    <tr style=\"text-align: right;\">\n",
       "      <th></th>\n",
       "      <th>userid</th>\n",
       "    </tr>\n",
       "  </thead>\n",
       "  <tbody>\n",
       "    <tr>\n",
       "      <th>0</th>\n",
       "      <td>1780851</td>\n",
       "    </tr>\n",
       "    <tr>\n",
       "      <th>1</th>\n",
       "      <td>1614881</td>\n",
       "    </tr>\n",
       "    <tr>\n",
       "      <th>2</th>\n",
       "      <td>939714</td>\n",
       "    </tr>\n",
       "    <tr>\n",
       "      <th>3</th>\n",
       "      <td>1684573</td>\n",
       "    </tr>\n",
       "    <tr>\n",
       "      <th>4</th>\n",
       "      <td>2142750</td>\n",
       "    </tr>\n",
       "    <tr>\n",
       "      <th>...</th>\n",
       "      <td>...</td>\n",
       "    </tr>\n",
       "    <tr>\n",
       "      <th>1286439</th>\n",
       "      <td>1038367</td>\n",
       "    </tr>\n",
       "    <tr>\n",
       "      <th>1286456</th>\n",
       "      <td>2821255</td>\n",
       "    </tr>\n",
       "    <tr>\n",
       "      <th>1286463</th>\n",
       "      <td>541092</td>\n",
       "    </tr>\n",
       "    <tr>\n",
       "      <th>1286541</th>\n",
       "      <td>2587238</td>\n",
       "    </tr>\n",
       "    <tr>\n",
       "      <th>1286557</th>\n",
       "      <td>1142963</td>\n",
       "    </tr>\n",
       "  </tbody>\n",
       "</table>\n",
       "<p>97748 rows × 1 columns</p>\n",
       "</div>"
      ],
      "text/plain": [
       "          userid\n",
       "0        1780851\n",
       "1        1614881\n",
       "2         939714\n",
       "3        1684573\n",
       "4        2142750\n",
       "...          ...\n",
       "1286439  1038367\n",
       "1286456  2821255\n",
       "1286463   541092\n",
       "1286541  2587238\n",
       "1286557  1142963\n",
       "\n",
       "[97748 rows x 1 columns]"
      ]
     },
     "execution_count": 7,
     "metadata": {},
     "output_type": "execute_result"
    }
   ],
   "source": [
    "active_users"
   ]
  },
  {
   "cell_type": "code",
   "execution_count": null,
   "id": "edc340f7-040c-4f2a-8c33-63584b81a07f",
   "metadata": {},
   "outputs": [],
   "source": []
  },
  {
   "cell_type": "code",
   "execution_count": 8,
   "id": "0aaf56d9-a278-4bd5-ac01-4a8619b42f4c",
   "metadata": {},
   "outputs": [],
   "source": [
    "ulist = tuple(active_users['userid'].tolist())"
   ]
  },
  {
   "cell_type": "code",
   "execution_count": 9,
   "id": "f7751d64-30e0-41ab-9908-593d83b1c459",
   "metadata": {},
   "outputs": [],
   "source": [
    "\n",
    "query = f\"select id, resume_last_updated, resume_first_uploaded from profile_info where id in {ulist}\"\n",
    "\n",
    "mycursor.execute(query)\n",
    "result = mycursor.fetchall()"
   ]
  },
  {
   "cell_type": "code",
   "execution_count": null,
   "id": "f32269d4-5a54-47e5-bbca-bf5d51aa3a40",
   "metadata": {},
   "outputs": [],
   "source": []
  },
  {
   "cell_type": "code",
   "execution_count": 13,
   "id": "fb65f2fb-513c-4330-a3db-0e0d3663e6c4",
   "metadata": {},
   "outputs": [],
   "source": [
    "rdata = pd.DataFrame(result,columns=['id','last_upload','first_upload'])"
   ]
  },
  {
   "cell_type": "code",
   "execution_count": 20,
   "id": "6c8f8db3-e395-4429-97c3-95c52ecaffb3",
   "metadata": {},
   "outputs": [
    {
     "ename": "KeyError",
     "evalue": "\"['0000-00-00 00:00:00'] not found in axis\"",
     "output_type": "error",
     "traceback": [
      "\u001b[0;31m---------------------------------------------------------------------------\u001b[0m",
      "\u001b[0;31mKeyError\u001b[0m                                  Traceback (most recent call last)",
      "Cell \u001b[0;32mIn[20], line 1\u001b[0m\n\u001b[0;32m----> 1\u001b[0m \u001b[43mrdata\u001b[49m\u001b[43m[\u001b[49m\u001b[38;5;124;43m'\u001b[39;49m\u001b[38;5;124;43mfirst_upload\u001b[39;49m\u001b[38;5;124;43m'\u001b[39;49m\u001b[43m]\u001b[49m\u001b[38;5;241;43m.\u001b[39;49m\u001b[43mdrop\u001b[49m\u001b[43m(\u001b[49m\u001b[38;5;124;43m'\u001b[39;49m\u001b[38;5;124;43m0000-00-00 00:00:00\u001b[39;49m\u001b[38;5;124;43m'\u001b[39;49m\u001b[43m)\u001b[49m \n",
      "File \u001b[0;32m~/infoedge/llama-recipes/env/lib/python3.10/site-packages/pandas/core/series.py:5148\u001b[0m, in \u001b[0;36mSeries.drop\u001b[0;34m(self, labels, axis, index, columns, level, inplace, errors)\u001b[0m\n\u001b[1;32m   5051\u001b[0m \u001b[38;5;28;01mdef\u001b[39;00m \u001b[38;5;21mdrop\u001b[39m(\n\u001b[1;32m   5052\u001b[0m     \u001b[38;5;28mself\u001b[39m,\n\u001b[1;32m   5053\u001b[0m     labels: IndexLabel \u001b[38;5;241m|\u001b[39m \u001b[38;5;28;01mNone\u001b[39;00m \u001b[38;5;241m=\u001b[39m \u001b[38;5;28;01mNone\u001b[39;00m,\n\u001b[0;32m   (...)\u001b[0m\n\u001b[1;32m   5060\u001b[0m     errors: IgnoreRaise \u001b[38;5;241m=\u001b[39m \u001b[38;5;124m\"\u001b[39m\u001b[38;5;124mraise\u001b[39m\u001b[38;5;124m\"\u001b[39m,\n\u001b[1;32m   5061\u001b[0m ) \u001b[38;5;241m-\u001b[39m\u001b[38;5;241m>\u001b[39m Series \u001b[38;5;241m|\u001b[39m \u001b[38;5;28;01mNone\u001b[39;00m:\n\u001b[1;32m   5062\u001b[0m \u001b[38;5;250m    \u001b[39m\u001b[38;5;124;03m\"\"\"\u001b[39;00m\n\u001b[1;32m   5063\u001b[0m \u001b[38;5;124;03m    Return Series with specified index labels removed.\u001b[39;00m\n\u001b[1;32m   5064\u001b[0m \n\u001b[0;32m   (...)\u001b[0m\n\u001b[1;32m   5146\u001b[0m \u001b[38;5;124;03m    dtype: float64\u001b[39;00m\n\u001b[1;32m   5147\u001b[0m \u001b[38;5;124;03m    \"\"\"\u001b[39;00m\n\u001b[0;32m-> 5148\u001b[0m     \u001b[38;5;28;01mreturn\u001b[39;00m \u001b[38;5;28;43msuper\u001b[39;49m\u001b[43m(\u001b[49m\u001b[43m)\u001b[49m\u001b[38;5;241;43m.\u001b[39;49m\u001b[43mdrop\u001b[49m\u001b[43m(\u001b[49m\n\u001b[1;32m   5149\u001b[0m \u001b[43m        \u001b[49m\u001b[43mlabels\u001b[49m\u001b[38;5;241;43m=\u001b[39;49m\u001b[43mlabels\u001b[49m\u001b[43m,\u001b[49m\n\u001b[1;32m   5150\u001b[0m \u001b[43m        \u001b[49m\u001b[43maxis\u001b[49m\u001b[38;5;241;43m=\u001b[39;49m\u001b[43maxis\u001b[49m\u001b[43m,\u001b[49m\n\u001b[1;32m   5151\u001b[0m \u001b[43m        \u001b[49m\u001b[43mindex\u001b[49m\u001b[38;5;241;43m=\u001b[39;49m\u001b[43mindex\u001b[49m\u001b[43m,\u001b[49m\n\u001b[1;32m   5152\u001b[0m \u001b[43m        \u001b[49m\u001b[43mcolumns\u001b[49m\u001b[38;5;241;43m=\u001b[39;49m\u001b[43mcolumns\u001b[49m\u001b[43m,\u001b[49m\n\u001b[1;32m   5153\u001b[0m \u001b[43m        \u001b[49m\u001b[43mlevel\u001b[49m\u001b[38;5;241;43m=\u001b[39;49m\u001b[43mlevel\u001b[49m\u001b[43m,\u001b[49m\n\u001b[1;32m   5154\u001b[0m \u001b[43m        \u001b[49m\u001b[43minplace\u001b[49m\u001b[38;5;241;43m=\u001b[39;49m\u001b[43minplace\u001b[49m\u001b[43m,\u001b[49m\n\u001b[1;32m   5155\u001b[0m \u001b[43m        \u001b[49m\u001b[43merrors\u001b[49m\u001b[38;5;241;43m=\u001b[39;49m\u001b[43merrors\u001b[49m\u001b[43m,\u001b[49m\n\u001b[1;32m   5156\u001b[0m \u001b[43m    \u001b[49m\u001b[43m)\u001b[49m\n",
      "File \u001b[0;32m~/infoedge/llama-recipes/env/lib/python3.10/site-packages/pandas/core/generic.py:4711\u001b[0m, in \u001b[0;36mNDFrame.drop\u001b[0;34m(self, labels, axis, index, columns, level, inplace, errors)\u001b[0m\n\u001b[1;32m   4709\u001b[0m \u001b[38;5;28;01mfor\u001b[39;00m axis, labels \u001b[38;5;129;01min\u001b[39;00m axes\u001b[38;5;241m.\u001b[39mitems():\n\u001b[1;32m   4710\u001b[0m     \u001b[38;5;28;01mif\u001b[39;00m labels \u001b[38;5;129;01mis\u001b[39;00m \u001b[38;5;129;01mnot\u001b[39;00m \u001b[38;5;28;01mNone\u001b[39;00m:\n\u001b[0;32m-> 4711\u001b[0m         obj \u001b[38;5;241m=\u001b[39m \u001b[43mobj\u001b[49m\u001b[38;5;241;43m.\u001b[39;49m\u001b[43m_drop_axis\u001b[49m\u001b[43m(\u001b[49m\u001b[43mlabels\u001b[49m\u001b[43m,\u001b[49m\u001b[43m \u001b[49m\u001b[43maxis\u001b[49m\u001b[43m,\u001b[49m\u001b[43m \u001b[49m\u001b[43mlevel\u001b[49m\u001b[38;5;241;43m=\u001b[39;49m\u001b[43mlevel\u001b[49m\u001b[43m,\u001b[49m\u001b[43m \u001b[49m\u001b[43merrors\u001b[49m\u001b[38;5;241;43m=\u001b[39;49m\u001b[43merrors\u001b[49m\u001b[43m)\u001b[49m\n\u001b[1;32m   4713\u001b[0m \u001b[38;5;28;01mif\u001b[39;00m inplace:\n\u001b[1;32m   4714\u001b[0m     \u001b[38;5;28mself\u001b[39m\u001b[38;5;241m.\u001b[39m_update_inplace(obj)\n",
      "File \u001b[0;32m~/infoedge/llama-recipes/env/lib/python3.10/site-packages/pandas/core/generic.py:4753\u001b[0m, in \u001b[0;36mNDFrame._drop_axis\u001b[0;34m(self, labels, axis, level, errors, only_slice)\u001b[0m\n\u001b[1;32m   4751\u001b[0m         new_axis \u001b[38;5;241m=\u001b[39m axis\u001b[38;5;241m.\u001b[39mdrop(labels, level\u001b[38;5;241m=\u001b[39mlevel, errors\u001b[38;5;241m=\u001b[39merrors)\n\u001b[1;32m   4752\u001b[0m     \u001b[38;5;28;01melse\u001b[39;00m:\n\u001b[0;32m-> 4753\u001b[0m         new_axis \u001b[38;5;241m=\u001b[39m \u001b[43maxis\u001b[49m\u001b[38;5;241;43m.\u001b[39;49m\u001b[43mdrop\u001b[49m\u001b[43m(\u001b[49m\u001b[43mlabels\u001b[49m\u001b[43m,\u001b[49m\u001b[43m \u001b[49m\u001b[43merrors\u001b[49m\u001b[38;5;241;43m=\u001b[39;49m\u001b[43merrors\u001b[49m\u001b[43m)\u001b[49m\n\u001b[1;32m   4754\u001b[0m     indexer \u001b[38;5;241m=\u001b[39m axis\u001b[38;5;241m.\u001b[39mget_indexer(new_axis)\n\u001b[1;32m   4756\u001b[0m \u001b[38;5;66;03m# Case for non-unique axis\u001b[39;00m\n\u001b[1;32m   4757\u001b[0m \u001b[38;5;28;01melse\u001b[39;00m:\n",
      "File \u001b[0;32m~/infoedge/llama-recipes/env/lib/python3.10/site-packages/pandas/core/indexes/base.py:7000\u001b[0m, in \u001b[0;36mIndex.drop\u001b[0;34m(self, labels, errors)\u001b[0m\n\u001b[1;32m   6998\u001b[0m \u001b[38;5;28;01mif\u001b[39;00m mask\u001b[38;5;241m.\u001b[39many():\n\u001b[1;32m   6999\u001b[0m     \u001b[38;5;28;01mif\u001b[39;00m errors \u001b[38;5;241m!=\u001b[39m \u001b[38;5;124m\"\u001b[39m\u001b[38;5;124mignore\u001b[39m\u001b[38;5;124m\"\u001b[39m:\n\u001b[0;32m-> 7000\u001b[0m         \u001b[38;5;28;01mraise\u001b[39;00m \u001b[38;5;167;01mKeyError\u001b[39;00m(\u001b[38;5;124mf\u001b[39m\u001b[38;5;124m\"\u001b[39m\u001b[38;5;132;01m{\u001b[39;00mlabels[mask]\u001b[38;5;241m.\u001b[39mtolist()\u001b[38;5;132;01m}\u001b[39;00m\u001b[38;5;124m not found in axis\u001b[39m\u001b[38;5;124m\"\u001b[39m)\n\u001b[1;32m   7001\u001b[0m     indexer \u001b[38;5;241m=\u001b[39m indexer[\u001b[38;5;241m~\u001b[39mmask]\n\u001b[1;32m   7002\u001b[0m \u001b[38;5;28;01mreturn\u001b[39;00m \u001b[38;5;28mself\u001b[39m\u001b[38;5;241m.\u001b[39mdelete(indexer)\n",
      "\u001b[0;31mKeyError\u001b[0m: \"['0000-00-00 00:00:00'] not found in axis\""
     ]
    }
   ],
   "source": [
    "rdata['first_upload'].drop('0000-00-00 00:00:00') "
   ]
  },
  {
   "cell_type": "code",
   "execution_count": 21,
   "id": "ecbd92fd-980b-4973-9a94-fc98d2840724",
   "metadata": {},
   "outputs": [],
   "source": [
    "rdata['first_upload'] = pd.to_datetime(rdata['first_upload'],errors='coerce')\n",
    "rdata['last_upload'] = pd.to_datetime(rdata['last_upload'])\n",
    "\n",
    "# Calculate the difference in years\n",
    "rdata['year_difference'] = rdata['last_upload'] - rdata['first_upload']\n",
    "rdata['year_difference'] = rdata['year_difference'] / pd.Timedelta(days=365.25)\n",
    "\n",
    "# To round the years to a sensible number of decimal places, e.g., 2 decimal places\n",
    "rdata['year_difference'] = rdata['year_difference'].round(2)\n"
   ]
  },
  {
   "cell_type": "code",
   "execution_count": 22,
   "id": "7446f78f-86d9-47f8-8fac-a6b24e5566d7",
   "metadata": {},
   "outputs": [],
   "source": [
    "select = rdata[rdata['year_difference']>3]"
   ]
  },
  {
   "cell_type": "code",
   "execution_count": 27,
   "id": "8a051ab4-5531-4bf0-a8d4-a43a7b793ba0",
   "metadata": {},
   "outputs": [
    {
     "data": {
      "text/html": [
       "<div>\n",
       "<style scoped>\n",
       "    .dataframe tbody tr th:only-of-type {\n",
       "        vertical-align: middle;\n",
       "    }\n",
       "\n",
       "    .dataframe tbody tr th {\n",
       "        vertical-align: top;\n",
       "    }\n",
       "\n",
       "    .dataframe thead th {\n",
       "        text-align: right;\n",
       "    }\n",
       "</style>\n",
       "<table border=\"1\" class=\"dataframe\">\n",
       "  <thead>\n",
       "    <tr style=\"text-align: right;\">\n",
       "      <th></th>\n",
       "      <th>id</th>\n",
       "      <th>last_upload</th>\n",
       "      <th>first_upload</th>\n",
       "      <th>year_difference</th>\n",
       "    </tr>\n",
       "  </thead>\n",
       "  <tbody>\n",
       "    <tr>\n",
       "      <th>0</th>\n",
       "      <td>6</td>\n",
       "      <td>2023-06-08 15:52:56</td>\n",
       "      <td>2013-10-01 23:16:54</td>\n",
       "      <td>9.68</td>\n",
       "    </tr>\n",
       "    <tr>\n",
       "      <th>1</th>\n",
       "      <td>17</td>\n",
       "      <td>2024-01-19 12:32:39</td>\n",
       "      <td>2013-06-25 14:21:21</td>\n",
       "      <td>10.57</td>\n",
       "    </tr>\n",
       "    <tr>\n",
       "      <th>2</th>\n",
       "      <td>77</td>\n",
       "      <td>2024-01-05 12:05:06</td>\n",
       "      <td>2013-01-26 11:07:45</td>\n",
       "      <td>10.94</td>\n",
       "    </tr>\n",
       "    <tr>\n",
       "      <th>3</th>\n",
       "      <td>79</td>\n",
       "      <td>2024-01-21 16:58:45</td>\n",
       "      <td>2013-09-27 12:03:50</td>\n",
       "      <td>10.32</td>\n",
       "    </tr>\n",
       "    <tr>\n",
       "      <th>4</th>\n",
       "      <td>92</td>\n",
       "      <td>2023-12-25 21:28:18</td>\n",
       "      <td>2012-10-19 05:27:47</td>\n",
       "      <td>11.18</td>\n",
       "    </tr>\n",
       "    <tr>\n",
       "      <th>...</th>\n",
       "      <td>...</td>\n",
       "      <td>...</td>\n",
       "      <td>...</td>\n",
       "      <td>...</td>\n",
       "    </tr>\n",
       "    <tr>\n",
       "      <th>51468</th>\n",
       "      <td>1982216</td>\n",
       "      <td>2024-03-05 23:16:25</td>\n",
       "      <td>2021-03-02 14:58:51</td>\n",
       "      <td>3.01</td>\n",
       "    </tr>\n",
       "    <tr>\n",
       "      <th>51494</th>\n",
       "      <td>1982834</td>\n",
       "      <td>2024-03-06 22:56:14</td>\n",
       "      <td>2021-03-03 08:06:48</td>\n",
       "      <td>3.01</td>\n",
       "    </tr>\n",
       "    <tr>\n",
       "      <th>51498</th>\n",
       "      <td>1983003</td>\n",
       "      <td>2024-03-08 05:07:37</td>\n",
       "      <td>2021-03-03 12:26:40</td>\n",
       "      <td>3.01</td>\n",
       "    </tr>\n",
       "    <tr>\n",
       "      <th>51499</th>\n",
       "      <td>1983101</td>\n",
       "      <td>2024-03-06 11:45:47</td>\n",
       "      <td>2021-03-03 13:53:33</td>\n",
       "      <td>3.01</td>\n",
       "    </tr>\n",
       "    <tr>\n",
       "      <th>51510</th>\n",
       "      <td>1983404</td>\n",
       "      <td>2024-03-08 09:14:24</td>\n",
       "      <td>2021-03-03 19:39:47</td>\n",
       "      <td>3.01</td>\n",
       "    </tr>\n",
       "  </tbody>\n",
       "</table>\n",
       "<p>45170 rows × 4 columns</p>\n",
       "</div>"
      ],
      "text/plain": [
       "            id         last_upload        first_upload  year_difference\n",
       "0            6 2023-06-08 15:52:56 2013-10-01 23:16:54             9.68\n",
       "1           17 2024-01-19 12:32:39 2013-06-25 14:21:21            10.57\n",
       "2           77 2024-01-05 12:05:06 2013-01-26 11:07:45            10.94\n",
       "3           79 2024-01-21 16:58:45 2013-09-27 12:03:50            10.32\n",
       "4           92 2023-12-25 21:28:18 2012-10-19 05:27:47            11.18\n",
       "...        ...                 ...                 ...              ...\n",
       "51468  1982216 2024-03-05 23:16:25 2021-03-02 14:58:51             3.01\n",
       "51494  1982834 2024-03-06 22:56:14 2021-03-03 08:06:48             3.01\n",
       "51498  1983003 2024-03-08 05:07:37 2021-03-03 12:26:40             3.01\n",
       "51499  1983101 2024-03-06 11:45:47 2021-03-03 13:53:33             3.01\n",
       "51510  1983404 2024-03-08 09:14:24 2021-03-03 19:39:47             3.01\n",
       "\n",
       "[45170 rows x 4 columns]"
      ]
     },
     "execution_count": 27,
     "metadata": {},
     "output_type": "execute_result"
    }
   ],
   "source": [
    "select"
   ]
  },
  {
   "cell_type": "code",
   "execution_count": null,
   "id": "5008fb8a-7d55-4195-89fd-a7d7dac1b7c5",
   "metadata": {},
   "outputs": [],
   "source": []
  },
  {
   "cell_type": "code",
   "execution_count": 28,
   "id": "2a525d1e-412a-4439-b09f-a918d69e4774",
   "metadata": {},
   "outputs": [],
   "source": [
    "from user_info import get_user_info"
   ]
  },
  {
   "cell_type": "code",
   "execution_count": null,
   "id": "7916cd58-1bee-4442-aa84-a5fc7cbe94b5",
   "metadata": {},
   "outputs": [],
   "source": []
  },
  {
   "cell_type": "code",
   "execution_count": 29,
   "id": "da1f5483-1d40-4ae4-b72a-9bdabd938ad7",
   "metadata": {},
   "outputs": [
    {
     "name": "stderr",
     "output_type": "stream",
     "text": [
      "100%|███████████████████████████████████████████████████████████████████████████████████████████████████████████████████████████████| 45170/45170 [06:32<00:00, 115.06it/s]\n"
     ]
    }
   ],
   "source": [
    "r_text = {}\n",
    "for uid in tqdm(select['id'].tolist()):\n",
    "    response = get_user_info(uid)\n",
    "    try:\n",
    "        r_text[uid] = response['resume'][0]\n",
    "    except:\n",
    "        pass"
   ]
  },
  {
   "cell_type": "code",
   "execution_count": null,
   "id": "f189cf83-8d9a-4696-a885-f79f994c94b8",
   "metadata": {},
   "outputs": [],
   "source": []
  },
  {
   "cell_type": "code",
   "execution_count": 30,
   "id": "a01ae765-6b03-4cb1-92d1-4c86c90648fd",
   "metadata": {},
   "outputs": [],
   "source": [
    "import json\n",
    "with open('../custom_data/relevant_users_feb24.json','w') as f:\n",
    "    json.dump(r_text,f)"
   ]
  },
  {
   "cell_type": "code",
   "execution_count": null,
   "id": "765974da-9568-4ac1-a3ab-7268d1e65264",
   "metadata": {},
   "outputs": [],
   "source": []
  },
  {
   "cell_type": "code",
   "execution_count": null,
   "id": "6faa4d2a-3769-4bdc-85e8-d63266965234",
   "metadata": {},
   "outputs": [],
   "source": []
  },
  {
   "cell_type": "code",
   "execution_count": null,
   "id": "53010b11-374d-4d38-b450-197471ed152a",
   "metadata": {},
   "outputs": [],
   "source": []
  },
  {
   "cell_type": "code",
   "execution_count": null,
   "id": "3b3d7553-237a-4376-b765-462b986a916b",
   "metadata": {},
   "outputs": [],
   "source": []
  }
 ],
 "metadata": {
  "kernelspec": {
   "display_name": "Python 3 (ipykernel)",
   "language": "python",
   "name": "python3"
  },
  "language_info": {
   "codemirror_mode": {
    "name": "ipython",
    "version": 3
   },
   "file_extension": ".py",
   "mimetype": "text/x-python",
   "name": "python",
   "nbconvert_exporter": "python",
   "pygments_lexer": "ipython3",
   "version": "3.10.12"
  }
 },
 "nbformat": 4,
 "nbformat_minor": 5
}
