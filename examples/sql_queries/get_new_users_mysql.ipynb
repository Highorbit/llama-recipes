{
 "cells": [
  {
   "cell_type": "code",
   "execution_count": 1,
   "id": "a31e405d-67c0-4a27-a0ab-0e989606c520",
   "metadata": {},
   "outputs": [],
   "source": [
    "import pandas as pd\n",
    "import numpy as np\n",
    "import configparser\n",
    "import pymysql\n",
    "import requests\n",
    "import re\n",
    "from tqdm import tqdm\n",
    "import configparser\n",
    "import os"
   ]
  },
  {
   "cell_type": "code",
   "execution_count": 2,
   "id": "ac1b2488-ba60-4a0d-8c0f-690ceab01880",
   "metadata": {},
   "outputs": [
    {
     "data": {
      "text/plain": [
       "['/home/ubuntu/infoedge/llama-recipes/examples/configs/config.ini']"
      ]
     },
     "execution_count": 2,
     "metadata": {},
     "output_type": "execute_result"
    }
   ],
   "source": [
    "config=configparser.ConfigParser()\n",
    "config.read('/home/ubuntu/infoedge/llama-recipes/examples/configs/config.ini')"
   ]
  },
  {
   "cell_type": "code",
   "execution_count": 3,
   "id": "17c7f1ca-a4e5-4585-b812-693c8634f42d",
   "metadata": {},
   "outputs": [],
   "source": [
    "mydb= pymysql.connect(\n",
    "host=config['iimjobs_db']['hostname'],\n",
    "user=config['iimjobs_db']['username'],\n",
    "password=config['iimjobs_db']['password'],\n",
    "db=config['iimjobs_db']['db_name'])\n",
    "\n",
    "mycursor = mydb.cursor()"
   ]
  },
  {
   "cell_type": "code",
   "execution_count": 4,
   "id": "21985aa8-1908-4099-8167-1cda61846697",
   "metadata": {},
   "outputs": [],
   "source": [
    "\n",
    "query = \"select id from profile_info where created_at>'2024-03-16' and resume_first_uploaded > '2024-03-16'\"\n",
    "\n",
    "mycursor.execute(query)\n",
    "result = mycursor.fetchall()"
   ]
  },
  {
   "cell_type": "code",
   "execution_count": 5,
   "id": "db1f9cb9-05fc-4529-815d-d687def17bf8",
   "metadata": {},
   "outputs": [],
   "source": [
    "active_users = pd.DataFrame(result,columns=['userid'])"
   ]
  },
  {
   "cell_type": "code",
   "execution_count": 6,
   "id": "3c3ea9de-b644-4bac-b8f2-0f19e2a17b97",
   "metadata": {},
   "outputs": [],
   "source": [
    "active_users.drop_duplicates(inplace=True)"
   ]
  },
  {
   "cell_type": "code",
   "execution_count": 7,
   "id": "fc1735e7-8740-4bf5-83c3-9abfe3a622e2",
   "metadata": {},
   "outputs": [
    {
     "data": {
      "text/html": [
       "<div>\n",
       "<style scoped>\n",
       "    .dataframe tbody tr th:only-of-type {\n",
       "        vertical-align: middle;\n",
       "    }\n",
       "\n",
       "    .dataframe tbody tr th {\n",
       "        vertical-align: top;\n",
       "    }\n",
       "\n",
       "    .dataframe thead th {\n",
       "        text-align: right;\n",
       "    }\n",
       "</style>\n",
       "<table border=\"1\" class=\"dataframe\">\n",
       "  <thead>\n",
       "    <tr style=\"text-align: right;\">\n",
       "      <th></th>\n",
       "      <th>userid</th>\n",
       "    </tr>\n",
       "  </thead>\n",
       "  <tbody>\n",
       "    <tr>\n",
       "      <th>0</th>\n",
       "      <td>2826298</td>\n",
       "    </tr>\n",
       "    <tr>\n",
       "      <th>1</th>\n",
       "      <td>2826299</td>\n",
       "    </tr>\n",
       "    <tr>\n",
       "      <th>2</th>\n",
       "      <td>2826304</td>\n",
       "    </tr>\n",
       "    <tr>\n",
       "      <th>3</th>\n",
       "      <td>2826305</td>\n",
       "    </tr>\n",
       "    <tr>\n",
       "      <th>4</th>\n",
       "      <td>2826308</td>\n",
       "    </tr>\n",
       "    <tr>\n",
       "      <th>...</th>\n",
       "      <td>...</td>\n",
       "    </tr>\n",
       "    <tr>\n",
       "      <th>739</th>\n",
       "      <td>2827743</td>\n",
       "    </tr>\n",
       "    <tr>\n",
       "      <th>740</th>\n",
       "      <td>2827745</td>\n",
       "    </tr>\n",
       "    <tr>\n",
       "      <th>741</th>\n",
       "      <td>2827746</td>\n",
       "    </tr>\n",
       "    <tr>\n",
       "      <th>742</th>\n",
       "      <td>2827748</td>\n",
       "    </tr>\n",
       "    <tr>\n",
       "      <th>743</th>\n",
       "      <td>2827751</td>\n",
       "    </tr>\n",
       "  </tbody>\n",
       "</table>\n",
       "<p>744 rows × 1 columns</p>\n",
       "</div>"
      ],
      "text/plain": [
       "      userid\n",
       "0    2826298\n",
       "1    2826299\n",
       "2    2826304\n",
       "3    2826305\n",
       "4    2826308\n",
       "..       ...\n",
       "739  2827743\n",
       "740  2827745\n",
       "741  2827746\n",
       "742  2827748\n",
       "743  2827751\n",
       "\n",
       "[744 rows x 1 columns]"
      ]
     },
     "execution_count": 7,
     "metadata": {},
     "output_type": "execute_result"
    }
   ],
   "source": [
    "active_users"
   ]
  },
  {
   "cell_type": "code",
   "execution_count": null,
   "id": "edc340f7-040c-4f2a-8c33-63584b81a07f",
   "metadata": {},
   "outputs": [],
   "source": []
  },
  {
   "cell_type": "code",
   "execution_count": null,
   "id": "b160b1cb-939b-4f56-9227-58650059a58c",
   "metadata": {},
   "outputs": [],
   "source": []
  },
  {
   "cell_type": "code",
   "execution_count": 9,
   "id": "0aaf56d9-a278-4bd5-ac01-4a8619b42f4c",
   "metadata": {},
   "outputs": [],
   "source": [
    "ulist = tuple(active_users['userid'].tolist())"
   ]
  },
  {
   "cell_type": "code",
   "execution_count": 10,
   "id": "2a525d1e-412a-4439-b09f-a918d69e4774",
   "metadata": {},
   "outputs": [],
   "source": [
    "from user_info import get_user_info"
   ]
  },
  {
   "cell_type": "code",
   "execution_count": null,
   "id": "7916cd58-1bee-4442-aa84-a5fc7cbe94b5",
   "metadata": {},
   "outputs": [],
   "source": []
  },
  {
   "cell_type": "code",
   "execution_count": 12,
   "id": "da1f5483-1d40-4ae4-b72a-9bdabd938ad7",
   "metadata": {},
   "outputs": [
    {
     "name": "stderr",
     "output_type": "stream",
     "text": [
      "100%|███████████████████████████████████████████████████████████████████████████████████████████████████████████████████████████████████| 744/744 [00:05<00:00, 145.75it/s]\n"
     ]
    }
   ],
   "source": [
    "r_text = {}\n",
    "for uid in tqdm(ulist):\n",
    "    response = get_user_info(uid)\n",
    "    try:\n",
    "        r_text[uid] = response['resume'][0]\n",
    "    except:\n",
    "        pass"
   ]
  },
  {
   "cell_type": "code",
   "execution_count": null,
   "id": "f189cf83-8d9a-4696-a885-f79f994c94b8",
   "metadata": {},
   "outputs": [],
   "source": []
  },
  {
   "cell_type": "code",
   "execution_count": 14,
   "id": "a01ae765-6b03-4cb1-92d1-4c86c90648fd",
   "metadata": {},
   "outputs": [],
   "source": [
    "import json\n",
    "with open('../custom_data/mistral/new_users_march24.json','w') as f:\n",
    "    json.dump(r_text,f)"
   ]
  },
  {
   "cell_type": "code",
   "execution_count": null,
   "id": "765974da-9568-4ac1-a3ab-7268d1e65264",
   "metadata": {},
   "outputs": [],
   "source": []
  },
  {
   "cell_type": "code",
   "execution_count": null,
   "id": "6faa4d2a-3769-4bdc-85e8-d63266965234",
   "metadata": {},
   "outputs": [],
   "source": []
  },
  {
   "cell_type": "code",
   "execution_count": null,
   "id": "53010b11-374d-4d38-b450-197471ed152a",
   "metadata": {},
   "outputs": [],
   "source": []
  },
  {
   "cell_type": "code",
   "execution_count": null,
   "id": "3b3d7553-237a-4376-b765-462b986a916b",
   "metadata": {},
   "outputs": [],
   "source": []
  }
 ],
 "metadata": {
  "kernelspec": {
   "display_name": "Python 3 (ipykernel)",
   "language": "python",
   "name": "python3"
  },
  "language_info": {
   "codemirror_mode": {
    "name": "ipython",
    "version": 3
   },
   "file_extension": ".py",
   "mimetype": "text/x-python",
   "name": "python",
   "nbconvert_exporter": "python",
   "pygments_lexer": "ipython3",
   "version": "3.10.12"
  }
 },
 "nbformat": 4,
 "nbformat_minor": 5
}
