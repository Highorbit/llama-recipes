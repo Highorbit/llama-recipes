{
 "cells": [
  {
   "cell_type": "code",
   "execution_count": 1,
   "id": "a31e405d-67c0-4a27-a0ab-0e989606c520",
   "metadata": {},
   "outputs": [],
   "source": [
    "import pandas as pd\n",
    "import numpy as np\n",
    "import configparser\n",
    "import pymysql\n",
    "import requests\n",
    "import re\n",
    "from tqdm import tqdm\n",
    "import configparser\n",
    "import os"
   ]
  },
  {
   "cell_type": "code",
   "execution_count": 2,
   "id": "ac1b2488-ba60-4a0d-8c0f-690ceab01880",
   "metadata": {},
   "outputs": [
    {
     "data": {
      "text/plain": [
       "['/home/ubuntu/infoedge/llama-recipes/examples/configs/config.ini']"
      ]
     },
     "execution_count": 2,
     "metadata": {},
     "output_type": "execute_result"
    }
   ],
   "source": [
    "config=configparser.ConfigParser()\n",
    "config.read('/home/ubuntu/infoedge/llama-recipes/examples/configs/config.ini')"
   ]
  },
  {
   "cell_type": "code",
   "execution_count": 3,
   "id": "17c7f1ca-a4e5-4585-b812-693c8634f42d",
   "metadata": {},
   "outputs": [],
   "source": [
    "mydb= pymysql.connect(\n",
    "host=config['iimjobs_db']['hostname'],\n",
    "user=config['iimjobs_db']['username'],\n",
    "password=config['iimjobs_db']['password'],\n",
    "db=config['iimjobs_db']['db_name'])\n",
    "\n",
    "mycursor = mydb.cursor()"
   ]
  },
  {
   "cell_type": "code",
   "execution_count": 4,
   "id": "823e32a5-2f8f-4728-b568-892485ca1f55",
   "metadata": {},
   "outputs": [],
   "source": [
    "df = pd.read_csv('data/epoch_registration.csv')"
   ]
  },
  {
   "cell_type": "code",
   "execution_count": 5,
   "id": "191e8e13-593c-40f4-bac7-13d94c751d09",
   "metadata": {},
   "outputs": [
    {
     "data": {
      "text/html": [
       "<div>\n",
       "<style scoped>\n",
       "    .dataframe tbody tr th:only-of-type {\n",
       "        vertical-align: middle;\n",
       "    }\n",
       "\n",
       "    .dataframe tbody tr th {\n",
       "        vertical-align: top;\n",
       "    }\n",
       "\n",
       "    .dataframe thead th {\n",
       "        text-align: right;\n",
       "    }\n",
       "</style>\n",
       "<table border=\"1\" class=\"dataframe\">\n",
       "  <thead>\n",
       "    <tr style=\"text-align: right;\">\n",
       "      <th></th>\n",
       "      <th>id</th>\n",
       "      <th>passing_year</th>\n",
       "      <th>exp_year</th>\n",
       "      <th>EXP Bucket</th>\n",
       "    </tr>\n",
       "  </thead>\n",
       "  <tbody>\n",
       "    <tr>\n",
       "      <th>0</th>\n",
       "      <td>1205309</td>\n",
       "      <td>2025</td>\n",
       "      <td>1</td>\n",
       "      <td>&gt;0 to 3</td>\n",
       "    </tr>\n",
       "    <tr>\n",
       "      <th>1</th>\n",
       "      <td>1326127</td>\n",
       "      <td>2024</td>\n",
       "      <td>3</td>\n",
       "      <td>&gt;0 to 3</td>\n",
       "    </tr>\n",
       "    <tr>\n",
       "      <th>2</th>\n",
       "      <td>2031026</td>\n",
       "      <td>2024</td>\n",
       "      <td>2</td>\n",
       "      <td>&gt;0 to 3</td>\n",
       "    </tr>\n",
       "    <tr>\n",
       "      <th>3</th>\n",
       "      <td>2293073</td>\n",
       "      <td>2024</td>\n",
       "      <td>0</td>\n",
       "      <td>Fresher</td>\n",
       "    </tr>\n",
       "    <tr>\n",
       "      <th>4</th>\n",
       "      <td>2305834</td>\n",
       "      <td>2025</td>\n",
       "      <td>0</td>\n",
       "      <td>Fresher</td>\n",
       "    </tr>\n",
       "    <tr>\n",
       "      <th>...</th>\n",
       "      <td>...</td>\n",
       "      <td>...</td>\n",
       "      <td>...</td>\n",
       "      <td>...</td>\n",
       "    </tr>\n",
       "    <tr>\n",
       "      <th>4271</th>\n",
       "      <td>2705411</td>\n",
       "      <td>2024</td>\n",
       "      <td>1</td>\n",
       "      <td>&gt;0 to 3</td>\n",
       "    </tr>\n",
       "    <tr>\n",
       "      <th>4272</th>\n",
       "      <td>2705413</td>\n",
       "      <td>2024</td>\n",
       "      <td>1</td>\n",
       "      <td>&gt;0 to 3</td>\n",
       "    </tr>\n",
       "    <tr>\n",
       "      <th>4273</th>\n",
       "      <td>2705415</td>\n",
       "      <td>2024</td>\n",
       "      <td>0</td>\n",
       "      <td>Fresher</td>\n",
       "    </tr>\n",
       "    <tr>\n",
       "      <th>4274</th>\n",
       "      <td>2739965</td>\n",
       "      <td>2024</td>\n",
       "      <td>0</td>\n",
       "      <td>Fresher</td>\n",
       "    </tr>\n",
       "    <tr>\n",
       "      <th>4275</th>\n",
       "      <td>2740969</td>\n",
       "      <td>2024</td>\n",
       "      <td>2</td>\n",
       "      <td>&gt;0 to 3</td>\n",
       "    </tr>\n",
       "  </tbody>\n",
       "</table>\n",
       "<p>4276 rows × 4 columns</p>\n",
       "</div>"
      ],
      "text/plain": [
       "           id  passing_year  exp_year EXP Bucket\n",
       "0     1205309          2025         1    >0 to 3\n",
       "1     1326127          2024         3    >0 to 3\n",
       "2     2031026          2024         2    >0 to 3\n",
       "3     2293073          2024         0    Fresher\n",
       "4     2305834          2025         0    Fresher\n",
       "...       ...           ...       ...        ...\n",
       "4271  2705411          2024         1    >0 to 3\n",
       "4272  2705413          2024         1    >0 to 3\n",
       "4273  2705415          2024         0    Fresher\n",
       "4274  2739965          2024         0    Fresher\n",
       "4275  2740969          2024         2    >0 to 3\n",
       "\n",
       "[4276 rows x 4 columns]"
      ]
     },
     "execution_count": 5,
     "metadata": {},
     "output_type": "execute_result"
    }
   ],
   "source": [
    "df"
   ]
  },
  {
   "cell_type": "code",
   "execution_count": null,
   "id": "d8858d4c-51e3-42b1-8ef1-0fb116a3643d",
   "metadata": {},
   "outputs": [],
   "source": []
  },
  {
   "cell_type": "code",
   "execution_count": 6,
   "id": "57e58e56-6902-4389-ab83-9d6fe783db84",
   "metadata": {},
   "outputs": [],
   "source": [
    "# sub_df = df[df['exp_year']>0]"
   ]
  },
  {
   "cell_type": "code",
   "execution_count": 7,
   "id": "a126beeb-e65d-4d46-8637-19d4014f47ab",
   "metadata": {},
   "outputs": [],
   "source": [
    "# sub_df"
   ]
  },
  {
   "cell_type": "code",
   "execution_count": 8,
   "id": "1823ae48-085e-4452-99cc-b2a26218a9ff",
   "metadata": {},
   "outputs": [],
   "source": [
    "utup = tuple(df.id.tolist())"
   ]
  },
  {
   "cell_type": "code",
   "execution_count": 9,
   "id": "b5395885-cae9-420d-9c36-d6e0acdd636b",
   "metadata": {},
   "outputs": [],
   "source": [
    "# utup"
   ]
  },
  {
   "cell_type": "code",
   "execution_count": null,
   "id": "d132c0ba-4b02-458f-8eb7-18d3a0107457",
   "metadata": {},
   "outputs": [],
   "source": []
  },
  {
   "cell_type": "code",
   "execution_count": 10,
   "id": "21985aa8-1908-4099-8167-1cda61846697",
   "metadata": {},
   "outputs": [],
   "source": [
    "\n",
    "query = f\"select id from profile_info where id in {(utup)}\"\n",
    "\n",
    "mycursor.execute(query)\n",
    "result = mycursor.fetchall()"
   ]
  },
  {
   "cell_type": "code",
   "execution_count": 11,
   "id": "db1f9cb9-05fc-4529-815d-d687def17bf8",
   "metadata": {},
   "outputs": [],
   "source": [
    "active_users = pd.DataFrame(result,columns=['userid'])"
   ]
  },
  {
   "cell_type": "code",
   "execution_count": 12,
   "id": "3c3ea9de-b644-4bac-b8f2-0f19e2a17b97",
   "metadata": {},
   "outputs": [],
   "source": [
    "active_users.drop_duplicates(inplace=True)"
   ]
  },
  {
   "cell_type": "code",
   "execution_count": 13,
   "id": "fc1735e7-8740-4bf5-83c3-9abfe3a622e2",
   "metadata": {},
   "outputs": [
    {
     "data": {
      "text/html": [
       "<div>\n",
       "<style scoped>\n",
       "    .dataframe tbody tr th:only-of-type {\n",
       "        vertical-align: middle;\n",
       "    }\n",
       "\n",
       "    .dataframe tbody tr th {\n",
       "        vertical-align: top;\n",
       "    }\n",
       "\n",
       "    .dataframe thead th {\n",
       "        text-align: right;\n",
       "    }\n",
       "</style>\n",
       "<table border=\"1\" class=\"dataframe\">\n",
       "  <thead>\n",
       "    <tr style=\"text-align: right;\">\n",
       "      <th></th>\n",
       "      <th>userid</th>\n",
       "    </tr>\n",
       "  </thead>\n",
       "  <tbody>\n",
       "    <tr>\n",
       "      <th>0</th>\n",
       "      <td>1205309</td>\n",
       "    </tr>\n",
       "    <tr>\n",
       "      <th>1</th>\n",
       "      <td>1326127</td>\n",
       "    </tr>\n",
       "    <tr>\n",
       "      <th>2</th>\n",
       "      <td>2031026</td>\n",
       "    </tr>\n",
       "    <tr>\n",
       "      <th>3</th>\n",
       "      <td>2293073</td>\n",
       "    </tr>\n",
       "    <tr>\n",
       "      <th>4</th>\n",
       "      <td>2305834</td>\n",
       "    </tr>\n",
       "    <tr>\n",
       "      <th>...</th>\n",
       "      <td>...</td>\n",
       "    </tr>\n",
       "    <tr>\n",
       "      <th>4271</th>\n",
       "      <td>2705411</td>\n",
       "    </tr>\n",
       "    <tr>\n",
       "      <th>4272</th>\n",
       "      <td>2705413</td>\n",
       "    </tr>\n",
       "    <tr>\n",
       "      <th>4273</th>\n",
       "      <td>2705415</td>\n",
       "    </tr>\n",
       "    <tr>\n",
       "      <th>4274</th>\n",
       "      <td>2739965</td>\n",
       "    </tr>\n",
       "    <tr>\n",
       "      <th>4275</th>\n",
       "      <td>2740969</td>\n",
       "    </tr>\n",
       "  </tbody>\n",
       "</table>\n",
       "<p>4276 rows × 1 columns</p>\n",
       "</div>"
      ],
      "text/plain": [
       "       userid\n",
       "0     1205309\n",
       "1     1326127\n",
       "2     2031026\n",
       "3     2293073\n",
       "4     2305834\n",
       "...       ...\n",
       "4271  2705411\n",
       "4272  2705413\n",
       "4273  2705415\n",
       "4274  2739965\n",
       "4275  2740969\n",
       "\n",
       "[4276 rows x 1 columns]"
      ]
     },
     "execution_count": 13,
     "metadata": {},
     "output_type": "execute_result"
    }
   ],
   "source": [
    "active_users"
   ]
  },
  {
   "cell_type": "code",
   "execution_count": null,
   "id": "edc340f7-040c-4f2a-8c33-63584b81a07f",
   "metadata": {},
   "outputs": [],
   "source": []
  },
  {
   "cell_type": "code",
   "execution_count": null,
   "id": "b160b1cb-939b-4f56-9227-58650059a58c",
   "metadata": {},
   "outputs": [],
   "source": []
  },
  {
   "cell_type": "code",
   "execution_count": 16,
   "id": "0aaf56d9-a278-4bd5-ac01-4a8619b42f4c",
   "metadata": {},
   "outputs": [],
   "source": [
    "ulist = tuple(active_users['userid'].tolist())"
   ]
  },
  {
   "cell_type": "code",
   "execution_count": 18,
   "id": "2a525d1e-412a-4439-b09f-a918d69e4774",
   "metadata": {},
   "outputs": [],
   "source": [
    "from user_info import get_user_info"
   ]
  },
  {
   "cell_type": "code",
   "execution_count": null,
   "id": "7916cd58-1bee-4442-aa84-a5fc7cbe94b5",
   "metadata": {},
   "outputs": [],
   "source": []
  },
  {
   "cell_type": "code",
   "execution_count": 19,
   "id": "da1f5483-1d40-4ae4-b72a-9bdabd938ad7",
   "metadata": {},
   "outputs": [
    {
     "name": "stderr",
     "output_type": "stream",
     "text": [
      "100%|█████████████████████████████████████████████████████████████████████████████████████████████████████████████████████████████████| 4276/4276 [00:28<00:00, 148.47it/s]\n"
     ]
    }
   ],
   "source": [
    "r_text = {}\n",
    "for uid in tqdm(ulist):\n",
    "    response = get_user_info(uid)\n",
    "    try:\n",
    "        r_text[uid] = response['resume'][0]\n",
    "    except:\n",
    "        pass"
   ]
  },
  {
   "cell_type": "code",
   "execution_count": null,
   "id": "f189cf83-8d9a-4696-a885-f79f994c94b8",
   "metadata": {},
   "outputs": [],
   "source": []
  },
  {
   "cell_type": "code",
   "execution_count": 20,
   "id": "a01ae765-6b03-4cb1-92d1-4c86c90648fd",
   "metadata": {},
   "outputs": [],
   "source": [
    "import json\n",
    "with open('../custom_data/mistral/epoch-full-resume-text.json','w') as f:\n",
    "    json.dump(r_text,f)"
   ]
  },
  {
   "cell_type": "code",
   "execution_count": null,
   "id": "765974da-9568-4ac1-a3ab-7268d1e65264",
   "metadata": {},
   "outputs": [],
   "source": []
  },
  {
   "cell_type": "code",
   "execution_count": null,
   "id": "6faa4d2a-3769-4bdc-85e8-d63266965234",
   "metadata": {},
   "outputs": [],
   "source": []
  },
  {
   "cell_type": "code",
   "execution_count": null,
   "id": "53010b11-374d-4d38-b450-197471ed152a",
   "metadata": {},
   "outputs": [],
   "source": []
  },
  {
   "cell_type": "code",
   "execution_count": null,
   "id": "3b3d7553-237a-4376-b765-462b986a916b",
   "metadata": {},
   "outputs": [],
   "source": []
  }
 ],
 "metadata": {
  "kernelspec": {
   "display_name": "Python 3 (ipykernel)",
   "language": "python",
   "name": "python3"
  },
  "language_info": {
   "codemirror_mode": {
    "name": "ipython",
    "version": 3
   },
   "file_extension": ".py",
   "mimetype": "text/x-python",
   "name": "python",
   "nbconvert_exporter": "python",
   "pygments_lexer": "ipython3",
   "version": "3.10.12"
  }
 },
 "nbformat": 4,
 "nbformat_minor": 5
}
