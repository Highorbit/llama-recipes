{
 "cells": [
  {
   "cell_type": "code",
   "execution_count": null,
   "id": "8a7e8f38-d150-4e20-a31b-2515cc584362",
   "metadata": {},
   "outputs": [],
   "source": []
  },
  {
   "cell_type": "code",
   "execution_count": null,
   "id": "c0a8aba8-7404-4020-a0c4-2e1887389cd5",
   "metadata": {},
   "outputs": [],
   "source": []
  },
  {
   "cell_type": "code",
   "execution_count": 1,
   "id": "2e308382-89ad-40ad-8b74-d694d99fa82e",
   "metadata": {},
   "outputs": [],
   "source": [
    "import argparse\n",
    "import json\n",
    "\n",
    "import gradio as gr\n",
    "import requests"
   ]
  },
  {
   "cell_type": "code",
   "execution_count": 2,
   "id": "56e089d5-e980-4e9f-aa08-394ac988e9c0",
   "metadata": {},
   "outputs": [],
   "source": [
    "def http_bot(prompt):\n",
    "    headers = {\"User-Agent\": \"vLLM Client\"}\n",
    "    pload = {\n",
    "        \"prompt\": prompt,\n",
    "        \"stream\": True,\n",
    "        \"max_tokens\": 128,\n",
    "    }\n",
    "    response = requests.post(args.model_url,\n",
    "                             headers=headers,\n",
    "                             json=pload,\n",
    "                             stream=True)\n",
    "\n",
    "    for chunk in response.iter_lines(chunk_size=8192,\n",
    "                                     decode_unicode=False,\n",
    "                                     delimiter=b\"\\0\"):\n",
    "        if chunk:\n",
    "            data = json.loads(chunk.decode(\"utf-8\"))\n",
    "            output = data[\"text\"][0]\n",
    "            yield output\n",
    "\n",
    "\n",
    "def build_demo():\n",
    "    with gr.Blocks() as demo:\n",
    "        gr.Markdown(\"# vLLM text completion demo\\n\")\n",
    "        inputbox = gr.Textbox(label=\"Input\",\n",
    "                              placeholder=\"Enter text and press ENTER\")\n",
    "        outputbox = gr.Textbox(label=\"Output\",\n",
    "                               placeholder=\"Generated result from the model\")\n",
    "        inputbox.submit(http_bot, [inputbox], [outputbox])\n",
    "    return demo"
   ]
  },
  {
   "cell_type": "code",
   "execution_count": 5,
   "id": "a906b0ee-0092-4e94-bee3-5d7deebd7e3a",
   "metadata": {},
   "outputs": [
    {
     "name": "stderr",
     "output_type": "stream",
     "text": [
      "usage: ipykernel_launcher.py [-h] [--host HOST] [--port PORT]\n",
      "                             [--model-url MODEL_URL]\n",
      "ipykernel_launcher.py: error: unrecognized arguments: -f /home/ubuntu/.local/share/jupyter/runtime/kernel-99ebb511-4ed5-4ec8-9e78-7e52653fab05.json\n"
     ]
    },
    {
     "ename": "SystemExit",
     "evalue": "2",
     "output_type": "error",
     "traceback": [
      "An exception has occurred, use %tb to see the full traceback.\n",
      "\u001b[0;31mSystemExit\u001b[0m\u001b[0;31m:\u001b[0m 2\n"
     ]
    }
   ],
   "source": [
    "# if __name__ == \"__main__\":\n",
    "parser = argparse.ArgumentParser()\n",
    "parser.add_argument(\"--host\", type=str, default=None)\n",
    "parser.add_argument(\"--port\", type=int, default=8001)\n",
    "parser.add_argument(\"--model-url\",\n",
    "                    type=str,\n",
    "                    default=\"http://localhost:8000/generate\")\n",
    "args = parser.parse_args()\n",
    "\n",
    "demo = build_demo()\n",
    "demo.queue(concurrency_count=100).launch(server_name=args.host,\n",
    "                                         server_port=args.port,\n",
    "                                         share=True)"
   ]
  },
  {
   "cell_type": "code",
   "execution_count": null,
   "id": "a98feb51-aeba-43b9-ac48-61876ad82c2b",
   "metadata": {},
   "outputs": [],
   "source": []
  }
 ],
 "metadata": {
  "kernelspec": {
   "display_name": "Python 3 (ipykernel)",
   "language": "python",
   "name": "python3"
  },
  "language_info": {
   "codemirror_mode": {
    "name": "ipython",
    "version": 3
   },
   "file_extension": ".py",
   "mimetype": "text/x-python",
   "name": "python",
   "nbconvert_exporter": "python",
   "pygments_lexer": "ipython3",
   "version": "3.10.12"
  }
 },
 "nbformat": 4,
 "nbformat_minor": 5
}
